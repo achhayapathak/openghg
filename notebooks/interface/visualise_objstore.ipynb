{
 "cells": [
  {
   "cell_type": "code",
   "execution_count": null,
   "metadata": {},
   "outputs": [],
   "source": [
    "import sys\n",
    "\n",
    "sys.path.insert(0, \"../../..\")\n",
    "sys.path.insert(0, \"../../../../acquire\")\n",
    "\n",
    "from collections import defaultdict\n",
    "from uuid import uuid4\n",
    "import os\n",
    "\n",
    "from pyvis.network import Network\n",
    "from HUGS.ObjectStore import query_store\n",
    "\n",
    "from HUGS.Modules import ObsSurface\n",
    "\n",
    "%load_ext autoreload\n",
    "%autoreload 2"
   ]
  },
  {
   "cell_type": "code",
   "execution_count": null,
   "metadata": {},
   "outputs": [],
   "source": [
    "previous_path = os.environ[\"OPENGHG_PATH\"]\n",
    "\n",
    "os.environ[\"OPENGHG_PATH\"] = \"/tmp/vis_store_tmp\"\n",
    "\n",
    "# AGAGE\n",
    "data_filepath = \"../../../tests/data/proc_test_data/GC/capegrim-medusa.18.C\"\n",
    "prec_filepath = \"../../../tests/data/proc_test_data/GC/capegrim-medusa.18.precisions.C\"\n",
    "\n",
    "results = ObsSurface.read_file((data_filepath, prec_filepath), data_type=\"GCWERKS\", network=\"AGAGE\", overwrite=True)\n",
    "\n",
    "data_filepath = \"../../../tests/data/proc_test_data/GC/trinidadhead.01.C\"\n",
    "prec_filepath = \"../../../tests/data/proc_test_data/GC/trinidadhead.01.precisions.C\"\n",
    "\n",
    "results = ObsSurface.read_file((data_filepath, prec_filepath), data_type=\"GCWERKS\", network=\"AGAGE\", overwrite=True)\n",
    "\n",
    "# CRDS\n",
    "data_filepath = \"../../../tests/data/proc_test_data/CRDS/tac.picarro.1minute.100m.test.dat\"\n",
    "results = ObsSurface.read_file(data_filepath, data_type=\"CRDS\", network=\"DECC\", overwrite=True)\n",
    "\n",
    "# ICOS\n",
    "data_filepath = \"../../../tests/data/proc_test_data/ICOS/tta.co2.1minute.222m.min.dat\"\n",
    "results = ObsSurface.read_file(data_filepath, data_type=\"ICOS\", network=\"ICOS\", overwrite=True)\n"
   ]
  },
  {
   "cell_type": "markdown",
   "metadata": {},
   "source": [
    "Get the data from the store"
   ]
  },
  {
   "cell_type": "code",
   "execution_count": null,
   "metadata": {},
   "outputs": [],
   "source": [
    "data = query_store()"
   ]
  },
  {
   "cell_type": "markdown",
   "metadata": {},
   "source": [
    "Create the network and add a node and some edges to it"
   ]
  },
  {
   "cell_type": "code",
   "execution_count": null,
   "metadata": {},
   "outputs": [],
   "source": [
    "net = Network(\"800px\", \"100%\", notebook=True, heading=\"OpenGHG Object Store\")\n",
    "# Set the physics layout of the network\n",
    "# net.barnes_hut(gravity=-5000)\n",
    "net.force_atlas_2based()"
   ]
  },
  {
   "cell_type": "markdown",
   "metadata": {},
   "source": [
    "Create the ObsSurface node"
   ]
  },
  {
   "cell_type": "code",
   "execution_count": null,
   "metadata": {},
   "outputs": [],
   "source": [
    "net.add_node(0, label=\"ObsSurface\", color=\"#4e79a7\", value=5000)"
   ]
  },
  {
   "cell_type": "code",
   "execution_count": null,
   "metadata": {},
   "outputs": [],
   "source": [
    "nested_dict = lambda: defaultdict(nested_dict)\n",
    "network_split = nested_dict()\n",
    "\n",
    "for key, value in data.items():\n",
    "    # Iterate over Datasources to select the networks\n",
    "    network = value[\"network\"]\n",
    "    site = value[\"site\"]\n",
    "    network_split[network][site][key] = value"
   ]
  },
  {
   "cell_type": "markdown",
   "metadata": {},
   "source": [
    "Then create a node for each network"
   ]
  },
  {
   "cell_type": "code",
   "execution_count": null,
   "metadata": {},
   "outputs": [],
   "source": [
    "for network, sites in network_split.items():\n",
    "    network_name = network.upper()\n",
    "    net.add_node(network, label=network_name, color=\"#59a14f\", value=2500)\n",
    "    net.add_edge(source=0, to=network)\n",
    "    \n",
    "    # Then we want a subnode for each site  \n",
    "    for site, data in sites.items():\n",
    "        # Don't want to use a site here as a site might be in multiple networks\n",
    "        site_name = site.upper()\n",
    "        site_id = str(uuid4())\n",
    "        net.add_node(site_id, label=site_name, color=\"#e15759\", value=1000)\n",
    "        net.add_edge(source=network, to=site_id)\n",
    "        \n",
    "        # Now for each site create the datasource nodes\n",
    "        for uid, datasource in data.items():\n",
    "            species = datasource[\"species\"]\n",
    "            instrument = datasource[\"instrument\"].upper()\n",
    "\n",
    "            label = f\"{site.upper()} {species.upper()} {instrument}\"\n",
    "            title = f\"\\n\".join([f\"Site: {site.upper()}\", f\"Species : {species.upper()}\", f\"Instrument: {instrument}\"])\n",
    "            net.add_node(uid, label=label, title=title, color=\"#f28e2b\", value=100)\n",
    "            net.add_edge(source=site_id, to=uid)"
   ]
  },
  {
   "cell_type": "markdown",
   "metadata": {},
   "source": [
    "Then create a node for each site"
   ]
  },
  {
   "cell_type": "code",
   "execution_count": null,
   "metadata": {},
   "outputs": [],
   "source": [
    "net.show(\"openghg_objstore.html\")"
   ]
  },
  {
   "cell_type": "markdown",
   "metadata": {},
   "source": [
    "Restore the path if you're using a local object store"
   ]
  },
  {
   "cell_type": "code",
   "execution_count": null,
   "metadata": {},
   "outputs": [],
   "source": [
    "os.environ[\"OPENGHG_PATH\"] = previous_path"
   ]
  }
 ],
 "metadata": {
  "kernelspec": {
   "display_name": "Python 3",
   "language": "python",
   "name": "python3"
  },
  "language_info": {
   "codemirror_mode": {
    "name": "ipython",
    "version": 3
   },
   "file_extension": ".py",
   "mimetype": "text/x-python",
   "name": "python",
   "nbconvert_exporter": "python",
   "pygments_lexer": "ipython3",
   "version": "3.8.5"
  }
 },
 "nbformat": 4,
 "nbformat_minor": 4
}
