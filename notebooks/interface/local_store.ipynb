{
 "cells": [
  {
   "cell_type": "code",
   "execution_count": null,
   "metadata": {},
   "outputs": [],
   "source": [
    "import sys\n",
    "import os \n",
    "from datetime import datetime\n",
    "sys.path.insert(0, \"../../..\")\n",
    "sys.path.insert(0, \"../../../../acquire\")\n",
    "\n",
    "from Acquire.Client import User\n",
    "from HUGS.LocalClient import Search, RankSources, process_files\n",
    "\n",
    "%load_ext autoreload\n",
    "%autoreload 2"
   ]
  },
  {
   "cell_type": "markdown",
   "metadata": {},
   "source": [
    "### Set the path for the object store"
   ]
  },
  {
   "cell_type": "code",
   "execution_count": null,
   "metadata": {},
   "outputs": [],
   "source": [
    "# Can change this / comment it out\n",
    "%env OPENGHG_PATH /tmp/hugs_local"
   ]
  },
  {
   "cell_type": "code",
   "execution_count": null,
   "metadata": {},
   "outputs": [],
   "source": [
    "filepath = \"../../../tests/data/proc_test_data/CRDS/bsd.picarro.1minute.248m.dat\"\n",
    "\n",
    "results = process_files(files=filepath, data_type=\"CRDS\")\n",
    "\n",
    "results"
   ]
  },
  {
   "cell_type": "code",
   "execution_count": null,
   "metadata": {},
   "outputs": [],
   "source": [
    "s = Search()\n",
    "\n",
    "results = s.search(species=\"ch4\", locations=\"bsd\", data_type=\"CRDS\")\n",
    "\n",
    "results[\"ch4_bsd_248m\"]"
   ]
  },
  {
   "cell_type": "code",
   "execution_count": null,
   "metadata": {},
   "outputs": [],
   "source": [
    "data = s.retrieve(selected_keys=\"ch4_bsd_248m\")\n",
    "\n",
    "data[\"ch4_bsd_248m\"]"
   ]
  },
  {
   "cell_type": "code",
   "execution_count": null,
   "metadata": {},
   "outputs": [],
   "source": [
    "r = RankSources()\n",
    "rank_info = r.get_sources(site=\"bsd\", species=\"co2\", data_type=\"CRDS\")\n",
    "\n",
    "rank_info "
   ]
  },
  {
   "cell_type": "code",
   "execution_count": null,
   "metadata": {},
   "outputs": [],
   "source": [
    "rank_uuid = rank_info[\"co2_bsd_248m_picarro\"][\"uuid\"]\n",
    "\n",
    "rank_daterange = r.create_daterange(start=\"2013-12-04\", end=\"2016-05-05\")"
   ]
  },
  {
   "cell_type": "code",
   "execution_count": null,
   "metadata": {},
   "outputs": [],
   "source": [
    "updated = {'co2_hfd_100m_picarro': {'rank': {1: [rank_daterange]}, 'data_range': '2013-12-04T14:02:30_2019-05-21T15:46:30', \n",
    "                    \"uuid\": rank_uuid}}\n",
    "\n",
    "r.rank_sources(updated_rankings=updated, data_type=\"CRDS\")\n",
    "\n",
    "new_results = r.get_sources(site=\"bsd\", species=\"co2\", data_type=\"CRDS\")"
   ]
  },
  {
   "cell_type": "code",
   "execution_count": null,
   "metadata": {},
   "outputs": [],
   "source": [
    "new_results"
   ]
  },
  {
   "cell_type": "code",
   "execution_count": null,
   "metadata": {},
   "outputs": [],
   "source": []
  }
 ],
 "metadata": {
  "kernelspec": {
   "display_name": "Python 3",
   "language": "python",
   "name": "python3"
  },
  "language_info": {
   "codemirror_mode": {
    "name": "ipython",
    "version": 3
   },
   "file_extension": ".py",
   "mimetype": "text/x-python",
   "name": "python",
   "nbconvert_exporter": "python",
   "pygments_lexer": "ipython3",
   "version": "3.8.3"
  }
 },
 "nbformat": 4,
 "nbformat_minor": 4
}
