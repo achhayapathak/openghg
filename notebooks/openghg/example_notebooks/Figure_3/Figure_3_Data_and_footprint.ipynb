{
 "cells": [
  {
   "cell_type": "code",
   "execution_count": null,
   "metadata": {},
   "outputs": [],
   "source": [
    "import os\n",
    "import sys\n",
    "from datetime import datetime\n",
    "\n",
    "sys.path.insert(0, \"../../../../..\")\n",
    "sys.path.insert(0, \"../../../../../../acquire\")\n",
    "\n",
    "from HUGS.Processing import search\n",
    "from HUGS.Client import Process, Search, Retrieve\n",
    "from Acquire.ObjectStore import datetime_to_string\n",
    "from Acquire.Client import User, Drive, Service, PAR, Authorisation, StorageCreds\n",
    "\n",
    "from datetime import datetime\n",
    "import matplotlib.cm as cm\n",
    "import xarray as xr\n",
    "import numpy as np\n",
    "import json\n",
    "\n",
    "import ipyleaflet as ipl\n",
    "import ipywidgets as ipw\n",
    "import matplotlib.pyplot as plt\n",
    "\n",
    "from matplotlib.colors import ListedColormap, LinearSegmentedColormap\n",
    "\n",
    "from pandas.plotting import register_matplotlib_converters\n",
    "register_matplotlib_converters()"
   ]
  },
  {
   "cell_type": "code",
   "execution_count": null,
   "metadata": {},
   "outputs": [],
   "source": [
    "with open(\"../site_data/acrg_with_locations.json\", \"r\") as f:\n",
    "    site_data = json.load(f)\n",
    "    "
   ]
  },
  {
   "cell_type": "code",
   "execution_count": null,
   "metadata": {},
   "outputs": [],
   "source": [
    "base_url= \"https://hugs.acquire-aaai.com/t\"\n",
    "search = Search(service_url=base_url)\n",
    "\n",
    "search_terms = [\"ch4\"]\n",
    "locations = []\n",
    "\n",
    "results = search.search(search_terms=search_terms, locations=locations, data_type=\"CRDS\")"
   ]
  },
  {
   "cell_type": "code",
   "execution_count": null,
   "metadata": {},
   "outputs": [],
   "source": [
    "retrieve = Retrieve(service_url=base_url)\n",
    "\n",
    "download_keys = {key: results[key][\"keys\"] for key in results}\n",
    "\n",
    "ch4_data = retrieve.retrieve(keys=download_keys)"
   ]
  },
  {
   "cell_type": "markdown",
   "metadata": {},
   "source": [
    "Please select data using the tickboxes to compare CH4 measurements from Bilsdale and Tacolneston. The daterange covered by the plot may be changed using the slider below the figure.\n",
    "\n",
    "Please allow some time for figure below to load as the notebook is performing a search of the HUGS object store and downloading the requested data."
   ]
  },
  {
   "cell_type": "code",
   "execution_count": null,
   "metadata": {},
   "outputs": [],
   "source": [
    "from HUGS.Interface import Interface\n",
    "\n",
    "i = Interface()\n",
    "\n",
    "i._site_locations = site_data\n",
    "\n",
    "box = i.plotting_interface(selected_results=results, data=ch4_data)\n",
    "\n",
    "box"
   ]
  },
  {
   "cell_type": "code",
   "execution_count": null,
   "metadata": {},
   "outputs": [],
   "source": []
  }
 ],
 "metadata": {
  "kernelspec": {
   "display_name": "Python 3",
   "language": "python",
   "name": "python3"
  }
 },
 "nbformat": 4,
 "nbformat_minor": 4
}
