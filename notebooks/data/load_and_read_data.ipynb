{
 "cells": [
  {
   "cell_type": "markdown",
   "source": [
    "# Loading and accessing data"
   ],
   "metadata": {}
  },
  {
   "cell_type": "code",
   "execution_count": null,
   "source": [
    "import sys\n",
    "sys.path.insert(0, \"/work/rt17603/environments/openghg/bin/activate\")"
   ],
   "outputs": [],
   "metadata": {}
  },
  {
   "cell_type": "code",
   "execution_count": null,
   "source": [
    "import os\n",
    "import tempfile\n",
    "\n",
    "tmp_dir = tempfile.TemporaryDirectory()\n",
    "os.environ[\"OPENGHG_PATH\"] = tmp_dir.name # \"/tmp/openghg_store\""
   ],
   "outputs": [],
   "metadata": {}
  },
  {
   "cell_type": "markdown",
   "source": [
    "### Macehead data\n",
    "\n",
    "Start off by loading in Macehead (\"MHD\" or \"macehead\") data from all different sources. This includes:\n",
    " - data_type=\"GCWERKS\", network=\"AGAGE\" (instrument is \"GCMD\")\n",
    " - data_type=\"GCWERKS\", network=\"AGAGE\" (instrument is \"GCMS\")\n",
    " - data_type=\"GCWERKS\", network=\"AGAGE\" (instrument is \"medusa\")\n",
    " - data_type=\"ICOS\", network=\"ICOS\""
   ],
   "metadata": {}
  },
  {
   "cell_type": "code",
   "execution_count": null,
   "source": [
    "from openghg.localclient._file_search import find_gc_files\n",
    "from openghg.modules import ObsSurface\n",
    "\n",
    "# All MHD data files for GCMD instrument (GC)\n",
    "mhd_gcmd_tuples = find_gc_files(\"MHD\", \"GCMD\")\n",
    "\n",
    "mhd_results_1 = ObsSurface.read_file(filepath=mhd_gcmd_tuples, \n",
    "                                    data_type=\"GCWERKS\", instrument=\"gcmd\",\n",
    "                                    site=\"MHD\", network=\"AGAGE\")"
   ],
   "outputs": [],
   "metadata": {}
  },
  {
   "cell_type": "code",
   "execution_count": null,
   "source": [
    "# All MHD data files for GCMS instrument (GC)\n",
    "mhd_gcms_tuples = find_gc_files(\"MHD\", \"GCMS\")\n",
    "\n",
    "mhd_results_2 = ObsSurface.read_file(filepath=mhd_gcms_tuples, \n",
    "                                    data_type=\"GCWERKS\", instrument=\"gcms\",\n",
    "                                    site=\"MHD\", network=\"AGAGE\")"
   ],
   "outputs": [],
   "metadata": {}
  },
  {
   "cell_type": "code",
   "execution_count": 5,
   "source": [
    "# All MHD data files for medusa instrument (GC)\n",
    "mhd_medusa_tuples = find_gc_files(\"MHD\", \"medusa\")\n",
    "\n",
    "mhd_results_3 = ObsSurface.read_file(filepath=mhd_medusa_tuples, \n",
    "                                    data_type=\"GCWERKS\", instrument=\"medusa\",\n",
    "                                    site=\"MHD\", network=\"AGAGE\")"
   ],
   "outputs": [
    {
     "output_type": "stream",
     "name": "stdout",
     "text": [
      "Processing: macehead-medusa.08.C:  26%|██▋       | 5/19 [00:28<01:31,  6.56s/it]"
     ]
    }
   ],
   "metadata": {}
  },
  {
   "cell_type": "code",
   "execution_count": null,
   "source": [
    "from openghg.objectstore import visualise_store\n",
    "visualise_store()"
   ],
   "outputs": [],
   "metadata": {}
  },
  {
   "cell_type": "code",
   "execution_count": null,
   "source": [
    "from openghg.processing import get_obs_surface\n",
    "# Extracting data for one gas \"sf6\", not specifying network for now\n",
    "data = get_obs_surface(site=\"mhd\", species=\"sf6\", inlet=\"10m\")\n",
    "data"
   ],
   "outputs": [],
   "metadata": {}
  },
  {
   "cell_type": "code",
   "execution_count": null,
   "source": [
    "# Extracting for nearest year start and year end when \n",
    "# including start and end dates\n",
    "data = get_obs_surface(site=\"mhd\", species=\"ch4\", inlet=\"10m\",\n",
    "                       start_date=\"2005-03-01\", end_date=\"2008-02-01\")\n",
    "print(data.data[\"time\"].values[0])\n",
    "print(data.data[\"time\"].values[-1])"
   ],
   "outputs": [],
   "metadata": {}
  },
  {
   "cell_type": "markdown",
   "source": [
    "Trying out searching based on data we know is present (loaded and accessed above)."
   ],
   "metadata": {}
  },
  {
   "cell_type": "code",
   "execution_count": null,
   "source": [
    "from openghg.processing import search"
   ],
   "outputs": [],
   "metadata": {}
  },
  {
   "cell_type": "code",
   "execution_count": null,
   "source": [
    "# Search output produced includes a dictionary with the uuid\n",
    "search_output = search(species=\"ch4\", site=\"mhd\"\n",
    "                        ,inlet=\"10m\")#, instrument=\"gcmd\")\n",
    "search_output"
   ],
   "outputs": [],
   "metadata": {}
  },
  {
   "cell_type": "markdown",
   "source": [
    "### Heathfield data\n",
    "\n",
    "Trying loading different data types for Heathfield (\"HFD\") data:\n",
    "\n",
    "- data_type = \"GCWERKS\", network = \"DECC\" (instrument is \"GCMD\")\n",
    "- data_type = \"CRDS\", network = \"DECC\""
   ],
   "metadata": {}
  },
  {
   "cell_type": "code",
   "execution_count": null,
   "source": [
    "# All HFD data files for GCMD instrument (GC), network=\"DECC\"\n",
    "sitecode = \"HFD\"\n",
    "\n",
    "hfd_gcmd_tuples = find_gc_files(sitecode, \"GCMD\")\n",
    "\n",
    "hfd_results_1 = ObsSurface.read_file(filepath=hfd_gcmd_tuples, \n",
    "                                    data_type=\"GCWERKS\", \n",
    "                                    site=sitecode, network=\"DECC\")"
   ],
   "outputs": [],
   "metadata": {}
  },
  {
   "cell_type": "code",
   "execution_count": null,
   "source": [
    "# All HFD files for CRDS instrument, network=\"DECC\"\n",
    "from openghg.localclient._file_search import find_crds_files\n",
    "\n",
    "crds_files = find_crds_files(sitecode)\n",
    "\n",
    "hfd_results_2 = ObsSurface.read_file(filepath=crds_files, \n",
    "                                   data_type=\"CRDS\", \n",
    "                                   site=sitecode, network=\"DECC\")"
   ],
   "outputs": [],
   "metadata": {}
  },
  {
   "cell_type": "code",
   "execution_count": null,
   "source": [
    "visualise_store()"
   ],
   "outputs": [],
   "metadata": {}
  },
  {
   "cell_type": "code",
   "execution_count": null,
   "source": [
    "# HFD data loaded for two instruments on the same network (DECC)\n",
    "# No ranking explicitly set\n",
    "data = get_obs_surface(site=\"hfd\", species=\"ch4\", inlet=\"100m\")\n",
    "data"
   ],
   "outputs": [],
   "metadata": {}
  },
  {
   "cell_type": "code",
   "execution_count": null,
   "source": [
    "# Can correctly extract data from alternative height when specified\n",
    "data = get_obs_surface(site=\"hfd\", species=\"ch4\", inlet=\"50m\")\n",
    "print(data.metadata[\"inlet\"])"
   ],
   "outputs": [],
   "metadata": {}
  },
  {
   "cell_type": "code",
   "execution_count": null,
   "source": [
    "# Can correctly extract data a different species\n",
    "data = get_obs_surface(site=\"hfd\", species=\"co2\", inlet=\"50m\")\n",
    "print(data.metadata[\"species\"], data.metadata[\"inlet\"])"
   ],
   "outputs": [],
   "metadata": {}
  },
  {
   "cell_type": "code",
   "execution_count": null,
   "source": [
    "# Same issue with dates as for mhd data\n",
    "data = get_obs_surface(site=\"hfd\", species=\"ch4\", inlet=\"50m\", instrument=\"picarro\",\n",
    "                      start_date=\"2014-02-01\", end_date=\"2016-02-01\")\n",
    "print(data.data[\"time\"].values[0])\n",
    "print(data.data[\"time\"].values[-1])"
   ],
   "outputs": [],
   "metadata": {}
  }
 ],
 "metadata": {
  "kernelspec": {
   "name": "python3",
   "display_name": "Python 3.7.4 64-bit ('openghg': venv)"
  },
  "language_info": {
   "codemirror_mode": {
    "name": "ipython",
    "version": 3
   },
   "file_extension": ".py",
   "mimetype": "text/x-python",
   "name": "python",
   "nbconvert_exporter": "python",
   "pygments_lexer": "ipython3",
   "version": "3.7.4"
  },
  "interpreter": {
   "hash": "be46fac04113c12cba86920494e488404427b4279e35c30cf0606e819f4acc5b"
  }
 },
 "nbformat": 4,
 "nbformat_minor": 5
}