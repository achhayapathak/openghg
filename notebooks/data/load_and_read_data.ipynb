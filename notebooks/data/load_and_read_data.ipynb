{
 "cells": [
  {
   "cell_type": "markdown",
   "id": "composed-guitar",
   "metadata": {},
   "source": [
    "# Loading and accessing data"
   ]
  },
  {
   "cell_type": "code",
   "execution_count": 1,
   "id": "limiting-granny",
   "metadata": {},
   "outputs": [],
   "source": [
    "import sys\n",
    "sys.path.insert(0, \"/work/rt17603/environments/openghg/bin/activate\")\n",
    "\n",
    "from openghg.modules import ObsSurface"
   ]
  },
  {
   "cell_type": "code",
   "execution_count": 2,
   "id": "realistic-colorado",
   "metadata": {},
   "outputs": [],
   "source": [
    "import os\n",
    "os.environ[\"OPENGHG_PATH\"] = \"/work/chxmr/objectStore\""
   ]
  },
  {
   "cell_type": "markdown",
   "id": "engaged-marina",
   "metadata": {},
   "source": [
    "### Macehead data\n",
    "\n",
    "Start off by loading in Macehead (\"MHD\" or \"macehead\") data from all different sources. This includes:\n",
    " - data_type=\"GCWERKS\", network=\"AGAGE\" (instrument is \"GCMD\")\n",
    " - data_type=\"GCWERKS\", network=\"AGAGE\" (instrument is \"GCMS\")\n",
    " - data_type=\"GCWERKS\", network=\"AGAGE\" (instrument is \"medusa\")\n",
    " - data_type=\"ICOS\", network=\"ICOS\""
   ]
  },
  {
   "cell_type": "code",
   "execution_count": 3,
   "id": "given-conditions",
   "metadata": {},
   "outputs": [
    {
     "name": "stdout",
     "output_type": "stream",
     "text": [
      "Processing: macehead.99.C: 100%|██████████| 28/28 [06:25<00:00, 13.76s/it]\n"
     ]
    }
   ],
   "source": [
    "import os\n",
    "import glob\n",
    "from file_search import find_gc_files\n",
    "\n",
    "# All MHD data files for GCMD instrument (GC)\n",
    "mhd_gcmd_tuples = find_gc_files(\"MHD\", \"GCMD\")\n",
    "\n",
    "mhd_results_1 = ObsSurface.read_file(filepath=mhd_gcmd_tuples, \n",
    "                                    data_type=\"GCWERKS\", \n",
    "                                    site=\"MHD\", network=\"AGAGE\")"
   ]
  },
  {
   "cell_type": "code",
   "execution_count": 4,
   "id": "interracial-engineer",
   "metadata": {},
   "outputs": [
    {
     "name": "stdout",
     "output_type": "stream",
     "text": [
      "Processing: macehead-gcms.99.C: 100%|██████████| 8/8 [00:54<00:00,  6.81s/it]\n"
     ]
    }
   ],
   "source": [
    "# All MHD data files for GCMS instrument (GC)\n",
    "mhd_gcms_tuples = find_gc_files(\"MHD\", \"GCMS\")\n",
    "\n",
    "mhd_results_2 = ObsSurface.read_file(filepath=mhd_gcms_tuples, \n",
    "                                    data_type=\"GCWERKS\", \n",
    "                                    site=\"MHD\", network=\"AGAGE\")"
   ]
  },
  {
   "cell_type": "code",
   "execution_count": 5,
   "id": "fatal-improvement",
   "metadata": {},
   "outputs": [
    {
     "name": "stdout",
     "output_type": "stream",
     "text": [
      "Processing: macehead-medusa.21.C: 100%|██████████| 19/19 [18:27<00:00, 58.31s/it]\n"
     ]
    }
   ],
   "source": [
    "# All MHD data files for medusa instrument (GC)\n",
    "mhd_medusa_tuples = find_gc_files(\"MHD\", \"medusa\")\n",
    "\n",
    "mhd_results_3 = ObsSurface.read_file(filepath=mhd_medusa_tuples, \n",
    "                                    data_type=\"GCWERKS\", \n",
    "                                    site=\"MHD\", network=\"AGAGE\")"
   ]
  },
  {
   "cell_type": "code",
   "execution_count": 6,
   "id": "complete-terminology",
   "metadata": {
    "scrolled": true
   },
   "outputs": [
    {
     "name": "stdout",
     "output_type": "stream",
     "text": [
      "Processing: mhd.co2.1minute.g2401.15m.dat: 100%|██████████| 3/3 [00:00<00:00,  3.04it/s]\n"
     ]
    }
   ],
   "source": [
    "# All MHD data files for ICOS\n",
    "## At the moment this doesn't appear within the object store - Issue #57\n",
    "from file_search import find_icos_files\n",
    "icos_files = find_icos_files(\"MHD\")\n",
    "\n",
    "mhd_results_4 = ObsSurface.read_file(filepath=icos_files, \n",
    "                                    data_type=\"ICOS\", \n",
    "                                    site=\"MHD\", network=\"ICOS\")"
   ]
  },
  {
   "cell_type": "code",
   "execution_count": 7,
   "id": "acoustic-thriller",
   "metadata": {},
   "outputs": [
    {
     "data": {
      "text/html": [
       "\n",
       "        <iframe\n",
       "            width=\"100%\"\n",
       "            height=\"800px\"\n",
       "            src=\"openghg_objstore.html\"\n",
       "            frameborder=\"0\"\n",
       "            allowfullscreen\n",
       "        ></iframe>\n",
       "        "
      ],
      "text/plain": [
       "<IPython.lib.display.IFrame at 0x7fd330f86950>"
      ]
     },
     "execution_count": 7,
     "metadata": {},
     "output_type": "execute_result"
    }
   ],
   "source": [
    "from openghg.objectstore import visualise_store\n",
    "visualise_store()"
   ]
  },
  {
   "cell_type": "code",
   "execution_count": 8,
   "id": "nutritional-punch",
   "metadata": {},
   "outputs": [],
   "source": [
    "#from openghg.localclient import get_obs_surface\n",
    "## Should be able to read this from ICOS but doesn't seem to be able to.\n",
    "#data = get_obs_surface(site=\"mhd\", species=\"co2\", network=\"ICOS\")\n",
    "#data"
   ]
  },
  {
   "cell_type": "code",
   "execution_count": 9,
   "id": "considerable-citation",
   "metadata": {},
   "outputs": [
    {
     "data": {
      "text/plain": [
       "ObsData(data=<xarray.Dataset>\n",
       "Dimensions:           (time: 53697)\n",
       "Coordinates:\n",
       "  * time              (time) datetime64[ns] 2003-11-15T14:43:00 ... 2021-02-0...\n",
       "Data variables:\n",
       "    mf                (time) float64 5.432 5.307 5.309 ... 10.77 10.72 10.58\n",
       "    mf_repeatability  (time) float64 0.09644 0.09644 0.09644 ... 0.04115 0.04115\n",
       "    status_flag       (time) int64 0 0 0 0 0 0 0 0 0 0 0 ... 0 0 0 0 0 0 0 0 0 0\n",
       "    integration_flag  (time) int64 0 0 0 0 0 0 0 0 0 0 0 ... 0 0 0 0 0 0 0 0 0 0\n",
       "Attributes: (12/20)\n",
       "    data_owner:           Simon O'Doherty\n",
       "    data_owner_email:     s.odoherty@bristol.ac.uk\n",
       "    inlet_height_magl:    10m\n",
       "    comment:              Medusa measurements. Output from GCWerks. See Mille...\n",
       "    Conditions of use:    Ensure that you contact the data owner at the outse...\n",
       "    Source:               In situ measurements of air\n",
       "    ...                   ...\n",
       "    instrument:           medusa\n",
       "    site:                 mhd\n",
       "    network:              agage\n",
       "    units:                ppt\n",
       "    scale:                SIO-05\n",
       "    inlet:                10m, metadata={'data_owner': \"Simon O'Doherty\", 'data_owner_email': 's.odoherty@bristol.ac.uk', 'inlet_height_magl': '10m', 'comment': 'Medusa measurements. Output from GCWerks. See Miller et al. (2008).', 'Conditions of use': 'Ensure that you contact the data owner at the outset of your project.', 'Source': 'In situ measurements of air', 'Conventions': 'CF-1.6', 'File created': '2021-04-23 09:46:16.277911+00:00', 'Processed by': 'OpenGHG_Cloud', 'species': 'sf6', 'station_longitude': -9.90389, 'station_latitude': 53.32611, 'station_long_name': 'Mace Head, Ireland', 'station_height_masl': 5.0, 'instrument': 'medusa', 'site': 'mhd', 'network': 'agage', 'units': 'ppt', 'scale': 'SIO-05', 'inlet': '10m'})"
      ]
     },
     "execution_count": 9,
     "metadata": {},
     "output_type": "execute_result"
    }
   ],
   "source": [
    "from openghg.localclient import get_obs_surface\n",
    "# Extracting data for one gas \"sf6\", not specifying network for now\n",
    "data = get_obs_surface(site=\"mhd\", species=\"sf6\")\n",
    "data"
   ]
  },
  {
   "cell_type": "code",
   "execution_count": 10,
   "id": "fossil-radical",
   "metadata": {},
   "outputs": [
    {
     "name": "stdout",
     "output_type": "stream",
     "text": [
      "2005-01-01T00:44:22.500000000\n",
      "2008-12-31T23:14:22.500000000\n"
     ]
    }
   ],
   "source": [
    "# Extracting for nearest year start and year end when \n",
    "# including start and end dates\n",
    "data = get_obs_surface(site=\"mhd\", species=\"ch4\",\n",
    "                       start_date=\"2005-03-01\", end_date=\"2008-02-01\")\n",
    "print(data.data[\"time\"].values[0])\n",
    "print(data.data[\"time\"].values[-1])"
   ]
  },
  {
   "cell_type": "markdown",
   "id": "floppy-expert",
   "metadata": {},
   "source": [
    "Trying out searching based on data we know is present (loaded and accessed above)."
   ]
  },
  {
   "cell_type": "code",
   "execution_count": 11,
   "id": "soviet-expense",
   "metadata": {},
   "outputs": [],
   "source": [
    "from openghg.processing import search"
   ]
  },
  {
   "cell_type": "code",
   "execution_count": 12,
   "id": "binding-accommodation",
   "metadata": {},
   "outputs": [
    {
     "data": {
      "text/plain": [
       "defaultdict(dict,\n",
       "            {'d070e2e9-cd88-462f-b5be-aa4ab78cb0c7': {'keys': ['data/uuid/d070e2e9-cd88-462f-b5be-aa4ab78cb0c7/v28/2000-01-01-00:48:22.500000+00:00_2000-12-31-22:56:22.500000+00:00',\n",
       "               'data/uuid/d070e2e9-cd88-462f-b5be-aa4ab78cb0c7/v28/2000-06-01-00:05:22.500000+00:00_2000-08-31-23:22:22.500000+00:00',\n",
       "               'data/uuid/d070e2e9-cd88-462f-b5be-aa4ab78cb0c7/v28/2000-03-01-01:42:22.500000+00:00_2000-05-31-23:25:22.500000+00:00',\n",
       "               'data/uuid/d070e2e9-cd88-462f-b5be-aa4ab78cb0c7/v28/2000-09-01-00:02:22.500000+00:00_2000-11-30-23:35:22.500000+00:00',\n",
       "               'data/uuid/d070e2e9-cd88-462f-b5be-aa4ab78cb0c7/v28/2001-01-04-10:57:22.500000+00:00_2001-12-31-23:33:22.500000+00:00',\n",
       "               'data/uuid/d070e2e9-cd88-462f-b5be-aa4ab78cb0c7/v28/2001-06-01-00:26:22.500000+00:00_2001-08-31-23:42:22.500000+00:00',\n",
       "               'data/uuid/d070e2e9-cd88-462f-b5be-aa4ab78cb0c7/v28/2001-03-01-00:05:22.500000+00:00_2001-05-31-23:46:22.500000+00:00',\n",
       "               'data/uuid/d070e2e9-cd88-462f-b5be-aa4ab78cb0c7/v28/2001-09-01-00:22:22.500000+00:00_2001-11-30-23:56:22.500000+00:00',\n",
       "               'data/uuid/d070e2e9-cd88-462f-b5be-aa4ab78cb0c7/v28/2002-01-01-00:53:22.500000+00:00_2002-12-31-23:06:22.500000+00:00',\n",
       "               'data/uuid/d070e2e9-cd88-462f-b5be-aa4ab78cb0c7/v28/2002-06-01-00:05:22.500000+00:00_2002-08-31-23:15:22.500000+00:00',\n",
       "               'data/uuid/d070e2e9-cd88-462f-b5be-aa4ab78cb0c7/v28/2002-03-01-01:04:22.500000+00:00_2002-05-31-23:25:22.500000+00:00',\n",
       "               'data/uuid/d070e2e9-cd88-462f-b5be-aa4ab78cb0c7/v28/2002-09-01-00:35:22.500000+00:00_2002-11-30-23:25:22.500000+00:00',\n",
       "               'data/uuid/d070e2e9-cd88-462f-b5be-aa4ab78cb0c7/v28/2003-01-01-00:44:22.500000+00:00_2003-12-31-23:06:22.500000+00:00',\n",
       "               'data/uuid/d070e2e9-cd88-462f-b5be-aa4ab78cb0c7/v28/2003-06-01-00:39:22.500000+00:00_2003-08-31-23:26:22.500000+00:00',\n",
       "               'data/uuid/d070e2e9-cd88-462f-b5be-aa4ab78cb0c7/v28/2003-03-01-00:21:22.500000+00:00_2003-05-31-23:19:22.500000+00:00',\n",
       "               'data/uuid/d070e2e9-cd88-462f-b5be-aa4ab78cb0c7/v28/2003-09-01-00:06:22.500000+00:00_2003-11-30-23:30:22.500000+00:00',\n",
       "               'data/uuid/d070e2e9-cd88-462f-b5be-aa4ab78cb0c7/v28/2004-01-01-00:44:22.500000+00:00_2004-12-31-22:06:22.500000+00:00',\n",
       "               'data/uuid/d070e2e9-cd88-462f-b5be-aa4ab78cb0c7/v28/2004-06-01-00:19:22.500000+00:00_2004-08-31-23:42:22.500000+00:00',\n",
       "               'data/uuid/d070e2e9-cd88-462f-b5be-aa4ab78cb0c7/v28/2004-03-01-00:15:22.500000+00:00_2004-05-31-23:39:22.500000+00:00',\n",
       "               'data/uuid/d070e2e9-cd88-462f-b5be-aa4ab78cb0c7/v28/2004-09-01-00:22:22.500000+00:00_2004-11-30-23:40:22.500000+00:00',\n",
       "               'data/uuid/d070e2e9-cd88-462f-b5be-aa4ab78cb0c7/v28/2005-01-01-00:44:22.500000+00:00_2005-12-31-23:12:22.500000+00:00',\n",
       "               'data/uuid/d070e2e9-cd88-462f-b5be-aa4ab78cb0c7/v28/2005-06-01-00:33:22.500000+00:00_2005-08-31-23:54:22.500000+00:00',\n",
       "               'data/uuid/d070e2e9-cd88-462f-b5be-aa4ab78cb0c7/v28/2005-03-01-00:18:22.500000+00:00_2005-05-31-23:53:22.500000+00:00',\n",
       "               'data/uuid/d070e2e9-cd88-462f-b5be-aa4ab78cb0c7/v28/2005-09-01-01:14:22.500000+00:00_2005-11-30-23:26:22.500000+00:00',\n",
       "               'data/uuid/d070e2e9-cd88-462f-b5be-aa4ab78cb0c7/v28/2006-01-01-10:38:22.500000+00:00_2006-12-31-22:15:22.500000+00:00',\n",
       "               'data/uuid/d070e2e9-cd88-462f-b5be-aa4ab78cb0c7/v28/2006-06-01-00:29:22.500000+00:00_2006-08-31-23:59:22.500000+00:00',\n",
       "               'data/uuid/d070e2e9-cd88-462f-b5be-aa4ab78cb0c7/v28/2006-03-01-00:11:22.500000+00:00_2006-05-31-23:49:22.500000+00:00',\n",
       "               'data/uuid/d070e2e9-cd88-462f-b5be-aa4ab78cb0c7/v28/2006-09-01-01:20:22.500000+00:00_2006-11-30-23:24:22.500000+00:00',\n",
       "               'data/uuid/d070e2e9-cd88-462f-b5be-aa4ab78cb0c7/v28/2007-01-01-00:49:22.500000+00:00_2007-12-31-23:33:22.500000+00:00',\n",
       "               'data/uuid/d070e2e9-cd88-462f-b5be-aa4ab78cb0c7/v28/2007-06-01-00:05:22.500000+00:00_2007-08-31-23:33:22.500000+00:00',\n",
       "               'data/uuid/d070e2e9-cd88-462f-b5be-aa4ab78cb0c7/v28/2007-03-01-01:05:22.500000+00:00_2007-05-31-23:25:22.500000+00:00',\n",
       "               'data/uuid/d070e2e9-cd88-462f-b5be-aa4ab78cb0c7/v28/2007-09-01-00:13:22.500000+00:00_2007-11-30-23:59:22.500000+00:00',\n",
       "               'data/uuid/d070e2e9-cd88-462f-b5be-aa4ab78cb0c7/v28/2008-01-01-00:53:22.500000+00:00_2008-12-31-23:14:22.500000+00:00',\n",
       "               'data/uuid/d070e2e9-cd88-462f-b5be-aa4ab78cb0c7/v28/2008-06-01-00:34:22.500000+00:00_2008-08-31-23:19:22.500000+00:00',\n",
       "               'data/uuid/d070e2e9-cd88-462f-b5be-aa4ab78cb0c7/v28/2008-03-01-01:15:22.500000+00:00_2008-05-31-23:54:22.500000+00:00',\n",
       "               'data/uuid/d070e2e9-cd88-462f-b5be-aa4ab78cb0c7/v28/2008-09-01-01:19:22.500000+00:00_2008-11-30-23:31:22.500000+00:00',\n",
       "               'data/uuid/d070e2e9-cd88-462f-b5be-aa4ab78cb0c7/v28/2009-01-01-00:34:22.500000+00:00_2009-12-31-23:10:22.500000+00:00',\n",
       "               'data/uuid/d070e2e9-cd88-462f-b5be-aa4ab78cb0c7/v28/2009-06-01-00:17:22.500000+00:00_2009-08-31-23:35:22.500000+00:00',\n",
       "               'data/uuid/d070e2e9-cd88-462f-b5be-aa4ab78cb0c7/v28/2009-03-01-01:07:22.500000+00:00_2009-05-31-22:57:22.500000+00:00',\n",
       "               'data/uuid/d070e2e9-cd88-462f-b5be-aa4ab78cb0c7/v28/2009-09-01-00:15:22.500000+00:00_2009-11-30-23:56:22.500000+00:00',\n",
       "               'data/uuid/d070e2e9-cd88-462f-b5be-aa4ab78cb0c7/v28/2010-01-01-00:30:22.500000+00:00_2010-12-31-23:34:22.500000+00:00',\n",
       "               'data/uuid/d070e2e9-cd88-462f-b5be-aa4ab78cb0c7/v28/2010-06-01-00:04:22.500000+00:00_2010-08-31-23:22:22.500000+00:00',\n",
       "               'data/uuid/d070e2e9-cd88-462f-b5be-aa4ab78cb0c7/v28/2010-03-01-00:19:22.500000+00:00_2010-05-31-23:24:22.500000+00:00',\n",
       "               'data/uuid/d070e2e9-cd88-462f-b5be-aa4ab78cb0c7/v28/2010-09-01-00:02:22.500000+00:00_2010-11-30-23:56:22.500000+00:00',\n",
       "               'data/uuid/d070e2e9-cd88-462f-b5be-aa4ab78cb0c7/v28/2011-01-01-00:54:22.500000+00:00_2011-12-31-23:25:22.500000+00:00',\n",
       "               'data/uuid/d070e2e9-cd88-462f-b5be-aa4ab78cb0c7/v28/2011-06-01-00:35:22.500000+00:00_2011-08-31-23:40:22.500000+00:00',\n",
       "               'data/uuid/d070e2e9-cd88-462f-b5be-aa4ab78cb0c7/v28/2011-03-01-01:14:22.500000+00:00_2011-05-31-23:55:22.500000+00:00',\n",
       "               'data/uuid/d070e2e9-cd88-462f-b5be-aa4ab78cb0c7/v28/2011-09-01-00:20:22.500000+00:00_2011-11-30-23:46:22.500000+00:00',\n",
       "               'data/uuid/d070e2e9-cd88-462f-b5be-aa4ab78cb0c7/v28/2012-01-02-00:04:22.500000+00:00_2012-12-31-23:04:22.500000+00:00',\n",
       "               'data/uuid/d070e2e9-cd88-462f-b5be-aa4ab78cb0c7/v28/2012-06-01-00:06:22.500000+00:00_2012-08-31-23:52:22.500000+00:00',\n",
       "               'data/uuid/d070e2e9-cd88-462f-b5be-aa4ab78cb0c7/v28/2012-03-01-00:01:22.500000+00:00_2012-05-31-23:26:22.500000+00:00',\n",
       "               'data/uuid/d070e2e9-cd88-462f-b5be-aa4ab78cb0c7/v28/2012-09-01-01:13:22.500000+00:00_2012-11-30-23:44:22.500000+00:00',\n",
       "               'data/uuid/d070e2e9-cd88-462f-b5be-aa4ab78cb0c7/v28/2013-01-01-01:04:22.500000+00:00_2013-12-31-23:29:22.500000+00:00',\n",
       "               'data/uuid/d070e2e9-cd88-462f-b5be-aa4ab78cb0c7/v28/2013-06-01-00:01:22.500000+00:00_2013-08-31-23:22:22.500000+00:00',\n",
       "               'data/uuid/d070e2e9-cd88-462f-b5be-aa4ab78cb0c7/v28/2013-03-01-00:10:22.500000+00:00_2013-05-31-23:21:22.500000+00:00',\n",
       "               'data/uuid/d070e2e9-cd88-462f-b5be-aa4ab78cb0c7/v28/2013-09-01-00:02:22.500000+00:00_2013-11-30-22:44:22.500000+00:00',\n",
       "               'data/uuid/d070e2e9-cd88-462f-b5be-aa4ab78cb0c7/v28/2014-01-01-01:29:22.500000+00:00_2014-12-31-23:06:22.500000+00:00',\n",
       "               'data/uuid/d070e2e9-cd88-462f-b5be-aa4ab78cb0c7/v28/2014-06-01-01:10:22.500000+00:00_2014-08-31-23:44:22.500000+00:00',\n",
       "               'data/uuid/d070e2e9-cd88-462f-b5be-aa4ab78cb0c7/v28/2014-03-01-00:09:22.500000+00:00_2014-05-31-23:50:22.500000+00:00',\n",
       "               'data/uuid/d070e2e9-cd88-462f-b5be-aa4ab78cb0c7/v28/2014-09-01-01:04:22.500000+00:00_2014-11-30-23:46:22.500000+00:00',\n",
       "               'data/uuid/d070e2e9-cd88-462f-b5be-aa4ab78cb0c7/v28/2015-01-01-01:06:22.500000+00:00_2015-12-31-23:20:22.500000+00:00',\n",
       "               'data/uuid/d070e2e9-cd88-462f-b5be-aa4ab78cb0c7/v28/2015-06-01-01:10:22.500000+00:00_2015-08-31-23:47:22.500000+00:00',\n",
       "               'data/uuid/d070e2e9-cd88-462f-b5be-aa4ab78cb0c7/v28/2015-03-01-00:09:22.500000+00:00_2015-05-31-23:50:22.500000+00:00',\n",
       "               'data/uuid/d070e2e9-cd88-462f-b5be-aa4ab78cb0c7/v28/2015-09-01-01:08:22.500000+00:00_2015-11-30-23:54:22.500000+00:00',\n",
       "               'data/uuid/d070e2e9-cd88-462f-b5be-aa4ab78cb0c7/v28/2016-01-01-01:21:22.500000+00:00_2016-12-31-23:23:22.500000+00:00',\n",
       "               'data/uuid/d070e2e9-cd88-462f-b5be-aa4ab78cb0c7/v28/2016-06-01-01:06:22.500000+00:00_2016-08-31-23:43:22.500000+00:00',\n",
       "               'data/uuid/d070e2e9-cd88-462f-b5be-aa4ab78cb0c7/v28/2016-03-01-00:07:22.500000+00:00_2016-05-31-23:46:22.500000+00:00',\n",
       "               'data/uuid/d070e2e9-cd88-462f-b5be-aa4ab78cb0c7/v28/2016-09-01-00:23:22.500000+00:00_2016-11-30-23:49:22.500000+00:00',\n",
       "               'data/uuid/d070e2e9-cd88-462f-b5be-aa4ab78cb0c7/v28/2017-01-01-01:23:22.500000+00:00_2017-12-31-23:38:22.500000+00:00',\n",
       "               'data/uuid/d070e2e9-cd88-462f-b5be-aa4ab78cb0c7/v28/2017-06-01-01:09:22.500000+00:00_2017-08-31-23:38:22.500000+00:00',\n",
       "               'data/uuid/d070e2e9-cd88-462f-b5be-aa4ab78cb0c7/v28/2017-03-01-00:02:22.500000+00:00_2017-05-31-23:49:22.500000+00:00',\n",
       "               'data/uuid/d070e2e9-cd88-462f-b5be-aa4ab78cb0c7/v28/2017-09-01-00:18:22.500000+00:00_2017-11-30-23:21:22.500000+00:00',\n",
       "               'data/uuid/d070e2e9-cd88-462f-b5be-aa4ab78cb0c7/v28/2018-01-01-01:38:22.500000+00:00_2018-12-31-23:33:22.500000+00:00',\n",
       "               'data/uuid/d070e2e9-cd88-462f-b5be-aa4ab78cb0c7/v28/2018-06-01-01:12:22.500000+00:00_2018-08-20-08:13:22.500000+00:00',\n",
       "               'data/uuid/d070e2e9-cd88-462f-b5be-aa4ab78cb0c7/v28/2018-03-01-00:11:22.500000+00:00_2018-05-31-23:52:22.500000+00:00',\n",
       "               'data/uuid/d070e2e9-cd88-462f-b5be-aa4ab78cb0c7/v28/2018-09-05-13:34:22.500000+00:00_2018-11-30-23:56:22.500000+00:00',\n",
       "               'data/uuid/d070e2e9-cd88-462f-b5be-aa4ab78cb0c7/v28/2019-01-01-01:33:22.500000+00:00_2019-12-31-23:17:22.500000+00:00',\n",
       "               'data/uuid/d070e2e9-cd88-462f-b5be-aa4ab78cb0c7/v28/2019-06-01-00:07:22.500000+00:00_2019-08-31-23:51:22.500000+00:00',\n",
       "               'data/uuid/d070e2e9-cd88-462f-b5be-aa4ab78cb0c7/v28/2019-03-01-00:20:22.500000+00:00_2019-05-31-23:27:22.500000+00:00',\n",
       "               'data/uuid/d070e2e9-cd88-462f-b5be-aa4ab78cb0c7/v28/2019-09-01-01:11:22.500000+00:00_2019-11-28-16:03:22.500000+00:00',\n",
       "               'data/uuid/d070e2e9-cd88-462f-b5be-aa4ab78cb0c7/v28/2020-01-01-01:17:22.500000+00:00_2020-12-31-23:00:22.500000+00:00',\n",
       "               'data/uuid/d070e2e9-cd88-462f-b5be-aa4ab78cb0c7/v28/2020-06-10-17:25:22.500000+00:00_2020-08-31-23:45:22.500000+00:00',\n",
       "               'data/uuid/d070e2e9-cd88-462f-b5be-aa4ab78cb0c7/v28/2020-09-01-01:05:22.500000+00:00_2020-11-30-23:44:22.500000+00:00',\n",
       "               'data/uuid/d070e2e9-cd88-462f-b5be-aa4ab78cb0c7/v28/2021-01-01-00:20:22.500000+00:00_2021-02-09-02:59:22.500000+00:00',\n",
       "               'data/uuid/d070e2e9-cd88-462f-b5be-aa4ab78cb0c7/v28/1994-02-17-20:19:22.500000+00:00_1994-12-31-22:41:22.500000+00:00',\n",
       "               'data/uuid/d070e2e9-cd88-462f-b5be-aa4ab78cb0c7/v28/1994-06-01-00:35:22.500000+00:00_1994-08-31-23:39:22.500000+00:00',\n",
       "               'data/uuid/d070e2e9-cd88-462f-b5be-aa4ab78cb0c7/v28/1994-03-01-00:04:22.500000+00:00_1994-05-28-12:11:22.500000+00:00',\n",
       "               'data/uuid/d070e2e9-cd88-462f-b5be-aa4ab78cb0c7/v28/1994-09-01-00:19:22.500000+00:00_1994-11-30-23:46:22.500000+00:00',\n",
       "               'data/uuid/d070e2e9-cd88-462f-b5be-aa4ab78cb0c7/v28/1995-01-01-00:41:22.500000+00:00_1995-12-31-22:26:22.500000+00:00',\n",
       "               'data/uuid/d070e2e9-cd88-462f-b5be-aa4ab78cb0c7/v28/1995-06-01-00:07:22.500000+00:00_1995-08-31-23:55:22.500000+00:00',\n",
       "               'data/uuid/d070e2e9-cd88-462f-b5be-aa4ab78cb0c7/v28/1995-03-01-00:16:22.500000+00:00_1995-05-31-23:27:22.500000+00:00',\n",
       "               'data/uuid/d070e2e9-cd88-462f-b5be-aa4ab78cb0c7/v28/1995-09-01-00:55:22.500000+00:00_1995-11-30-23:38:22.500000+00:00',\n",
       "               'data/uuid/d070e2e9-cd88-462f-b5be-aa4ab78cb0c7/v28/1996-01-01-00:26:22.500000+00:00_1996-12-31-22:58:22.500000+00:00',\n",
       "               'data/uuid/d070e2e9-cd88-462f-b5be-aa4ab78cb0c7/v28/1996-06-01-00:02:22.500000+00:00_1996-08-31-23:36:22.500000+00:00',\n",
       "               'data/uuid/d070e2e9-cd88-462f-b5be-aa4ab78cb0c7/v28/1996-03-01-00:56:22.500000+00:00_1996-05-31-22:42:22.500000+00:00',\n",
       "               'data/uuid/d070e2e9-cd88-462f-b5be-aa4ab78cb0c7/v28/1996-09-01-00:16:22.500000+00:00_1996-11-30-22:59:22.500000+00:00',\n",
       "               'data/uuid/d070e2e9-cd88-462f-b5be-aa4ab78cb0c7/v28/1997-01-01-00:45:22.500000+00:00_1997-12-31-23:01:22.500000+00:00',\n",
       "               'data/uuid/d070e2e9-cd88-462f-b5be-aa4ab78cb0c7/v28/1997-06-01-01:01:22.500000+00:00_1997-08-31-23:53:22.500000+00:00',\n",
       "               'data/uuid/d070e2e9-cd88-462f-b5be-aa4ab78cb0c7/v28/1997-03-01-01:17:22.500000+00:00_1997-05-31-23:41:22.500000+00:00',\n",
       "               'data/uuid/d070e2e9-cd88-462f-b5be-aa4ab78cb0c7/v28/1997-09-01-01:13:22.500000+00:00_1997-11-30-23:42:22.500000+00:00',\n",
       "               'data/uuid/d070e2e9-cd88-462f-b5be-aa4ab78cb0c7/v28/1998-01-01-00:45:22.500000+00:00_1998-12-31-23:07:22.500000+00:00',\n",
       "               'data/uuid/d070e2e9-cd88-462f-b5be-aa4ab78cb0c7/v28/1998-06-01-01:16:22.500000+00:00_1998-08-31-23:52:22.500000+00:00',\n",
       "               'data/uuid/d070e2e9-cd88-462f-b5be-aa4ab78cb0c7/v28/1998-03-01-00:51:22.500000+00:00_1998-05-31-22:36:22.500000+00:00',\n",
       "               'data/uuid/d070e2e9-cd88-462f-b5be-aa4ab78cb0c7/v28/1998-09-01-01:12:22.500000+00:00_1998-11-21-19:26:22.500000+00:00',\n",
       "               'data/uuid/d070e2e9-cd88-462f-b5be-aa4ab78cb0c7/v28/1999-01-01-00:45:22.500000+00:00_1999-12-31-22:43:22.500000+00:00',\n",
       "               'data/uuid/d070e2e9-cd88-462f-b5be-aa4ab78cb0c7/v28/1999-06-01-02:33:22.500000+00:00_1999-08-31-23:47:22.500000+00:00',\n",
       "               'data/uuid/d070e2e9-cd88-462f-b5be-aa4ab78cb0c7/v28/1999-03-01-01:11:22.500000+00:00_1999-05-31-23:53:22.500000+00:00',\n",
       "               'data/uuid/d070e2e9-cd88-462f-b5be-aa4ab78cb0c7/v28/1999-09-01-03:07:22.500000+00:00_1999-11-30-21:55:22.500000+00:00'],\n",
       "              'metadata': {'instrument': 'gcmd',\n",
       "               'site': 'mhd',\n",
       "               'network': 'agage',\n",
       "               'species': 'ch4',\n",
       "               'units': 'ppb',\n",
       "               'scale': 'tu1987',\n",
       "               'inlet': '10m',\n",
       "               'data_type': 'timeseries'}}})"
      ]
     },
     "execution_count": 12,
     "metadata": {},
     "output_type": "execute_result"
    }
   ],
   "source": [
    "# Search output produced includes a dictionary with the uuid\n",
    "search_output = search(species=\"ch4\", site=\"mhd\"\n",
    "                        ,inlet=\"10m\")#, instrument=\"gcmd\")\n",
    "search_output"
   ]
  },
  {
   "cell_type": "code",
   "execution_count": 13,
   "id": "technical-amsterdam",
   "metadata": {},
   "outputs": [],
   "source": [
    "## Extracting from code base \n",
    "#from openghg.modules import Datasource\n",
    "#obs = ObsSurface.load()\n",
    "#datasource_uuids = obs.datasources()\n",
    "#datasources = (Datasource.load(uuid=uuid, shallow=True) for uuid in datasource_uuids)"
   ]
  },
  {
   "cell_type": "code",
   "execution_count": 14,
   "id": "constant-acquisition",
   "metadata": {},
   "outputs": [],
   "source": [
    "#d = next(datasources)\n",
    "#d.metadata()"
   ]
  },
  {
   "cell_type": "markdown",
   "id": "toxic-street",
   "metadata": {},
   "source": [
    "### Heathfield data\n",
    "\n",
    "Trying loading different data types for Heathfield (\"HFD\") data:\n",
    "\n",
    "- data_type = \"GCWERKS\", network = \"DECC\" (instrument is \"GCMD\")\n",
    "- data_type = \"CRDS\", network = \"DECC\""
   ]
  },
  {
   "cell_type": "code",
   "execution_count": 15,
   "id": "second-blake",
   "metadata": {},
   "outputs": [
    {
     "name": "stdout",
     "output_type": "stream",
     "text": [
      "Processing: heathfield-md.21.C: 100%|██████████| 9/9 [00:11<00:00,  1.25s/it]\n"
     ]
    }
   ],
   "source": [
    "# All HFD data files for GCMD instrument (GC), network=\"DECC\"\n",
    "sitecode = \"HFD\"\n",
    "\n",
    "hfd_gcmd_tuples = find_gc_files(sitecode, \"GCMD\")\n",
    "\n",
    "hfd_results_1 = ObsSurface.read_file(filepath=hfd_gcmd_tuples, \n",
    "                                    data_type=\"GCWERKS\", \n",
    "                                    site=sitecode, network=\"DECC\")"
   ]
  },
  {
   "cell_type": "code",
   "execution_count": 16,
   "id": "spread-bikini",
   "metadata": {},
   "outputs": [
    {
     "name": "stdout",
     "output_type": "stream",
     "text": [
      "Processing: hfd.picarro.1minute.50m.dat: 100%|██████████| 2/2 [00:52<00:00, 26.32s/it] \n"
     ]
    }
   ],
   "source": [
    "# All HFD files for CRDS instrument, network=\"DECC\"\n",
    "from file_search import find_crds_files\n",
    "\n",
    "crds_files = find_crds_files(sitecode)\n",
    "\n",
    "hfd_results_2 = ObsSurface.read_file(filepath=crds_files, \n",
    "                                   data_type=\"CRDS\", \n",
    "                                   site=sitecode, network=\"DECC\")"
   ]
  },
  {
   "cell_type": "code",
   "execution_count": 17,
   "id": "honey-budget",
   "metadata": {},
   "outputs": [
    {
     "data": {
      "text/html": [
       "\n",
       "        <iframe\n",
       "            width=\"100%\"\n",
       "            height=\"800px\"\n",
       "            src=\"openghg_objstore.html\"\n",
       "            frameborder=\"0\"\n",
       "            allowfullscreen\n",
       "        ></iframe>\n",
       "        "
      ],
      "text/plain": [
       "<IPython.lib.display.IFrame at 0x7fd33bf0b410>"
      ]
     },
     "execution_count": 17,
     "metadata": {},
     "output_type": "execute_result"
    }
   ],
   "source": [
    "visualise_store()"
   ]
  },
  {
   "cell_type": "code",
   "execution_count": 18,
   "id": "classified-longitude",
   "metadata": {},
   "outputs": [
    {
     "data": {
      "text/plain": [
       "ObsData(data=<xarray.Dataset>\n",
       "Dimensions:                    (time: 1897950)\n",
       "Coordinates:\n",
       "  * time                       (time) datetime64[ns] 2013-11-20T12:51:30 ... ...\n",
       "Data variables:\n",
       "    mf                         (time) float64 1.919e+03 1.918e+03 ... 1.965e+03\n",
       "    mf_variability             (time) float64 1.614 0.549 0.407 ... 0.279 0.231\n",
       "    mf_number_of_observations  (time) float64 19.0 19.0 20.0 ... 12.0 12.0 12.0\n",
       "Attributes: (12/22)\n",
       "    data_owner:           Simon O'Doherty\n",
       "    data_owner_email:     s.odoherty@bristol.ac.uk\n",
       "    inlet_height_magl:    100m\n",
       "    comment:              Cavity ring-down measurements. Output from GCWerks\n",
       "    Conditions of use:    Ensure that you contact the data owner at the outse...\n",
       "    Source:               In situ measurements of air\n",
       "    ...                   ...\n",
       "    time_resolution:      1_minute\n",
       "    inlet:                100m\n",
       "    port:                 10\n",
       "    type:                 air\n",
       "    network:              decc\n",
       "    scale:                WMO-X2004A, metadata={'data_owner': \"Simon O'Doherty\", 'data_owner_email': 's.odoherty@bristol.ac.uk', 'inlet_height_magl': '100m', 'comment': 'Cavity ring-down measurements. Output from GCWerks', 'Conditions of use': 'Ensure that you contact the data owner at the outset of your project.', 'Source': 'In situ measurements of air', 'Conventions': 'CF-1.6', 'File created': '2021-04-23 10:05:18.782212+00:00', 'Processed by': 'OpenGHG_Cloud', 'species': 'ch4', 'station_longitude': 0.23048, 'station_latitude': 50.97675, 'station_long_name': 'Heathfield, UK', 'station_height_masl': 150.0, 'site': 'hfd', 'instrument': 'picarro', 'time_resolution': '1_minute', 'inlet': '100m', 'port': '10', 'type': 'air', 'network': 'decc', 'scale': 'WMO-X2004A'})"
      ]
     },
     "execution_count": 18,
     "metadata": {},
     "output_type": "execute_result"
    }
   ],
   "source": [
    "# HFD data loaded for two instruments on the same network (DECC)\n",
    "# No ranking explicitly set and no height specified this \n",
    "# returns the data from \"100m\"\n",
    "data = get_obs_surface(site=\"hfd\", species=\"ch4\")\n",
    "data"
   ]
  },
  {
   "cell_type": "code",
   "execution_count": 19,
   "id": "unusual-adoption",
   "metadata": {},
   "outputs": [
    {
     "name": "stdout",
     "output_type": "stream",
     "text": [
      "50m\n",
      "100m\n"
     ]
    }
   ],
   "source": [
    "# Can correctly extract data from alternative height when specified\n",
    "data = get_obs_surface(site=\"hfd\", species=\"ch4\", inlet=\"50m\")\n",
    "print(data.metadata[\"inlet\"])\n",
    "data = get_obs_surface(site=\"hfd\", species=\"ch4\", inlet=\"100m\")\n",
    "print(data.metadata[\"inlet\"])"
   ]
  },
  {
   "cell_type": "code",
   "execution_count": 20,
   "id": "spread-aurora",
   "metadata": {},
   "outputs": [
    {
     "name": "stdout",
     "output_type": "stream",
     "text": [
      "co2 50m\n"
     ]
    }
   ],
   "source": [
    "# Can correctly extract data a different species\n",
    "data = get_obs_surface(site=\"hfd\", species=\"co2\", inlet=\"50m\")\n",
    "print(data.metadata[\"species\"], data.metadata[\"inlet\"])"
   ]
  },
  {
   "cell_type": "code",
   "execution_count": 21,
   "id": "committed-acoustic",
   "metadata": {},
   "outputs": [
    {
     "name": "stdout",
     "output_type": "stream",
     "text": [
      "2014-01-01T00:00:30.000000000\n",
      "2016-12-31T23:59:30.000000000\n"
     ]
    }
   ],
   "source": [
    "# Same issue with dates as for mhd data\n",
    "data = get_obs_surface(site=\"hfd\", species=\"ch4\", instrument=\"picarro\",\n",
    "                      start_date=\"2014-02-01\", end_date=\"2016-02-01\")\n",
    "print(data.data[\"time\"].values[0])\n",
    "print(data.data[\"time\"].values[-1])"
   ]
  }
 ],
 "metadata": {
  "kernelspec": {
   "display_name": "Python 3",
   "language": "python",
   "name": "python3"
  },
  "language_info": {
   "codemirror_mode": {
    "name": "ipython",
    "version": 3
   },
   "file_extension": ".py",
   "mimetype": "text/x-python",
   "name": "python",
   "nbconvert_exporter": "python",
   "pygments_lexer": "ipython3",
   "version": "3.7.4"
  }
 },
 "nbformat": 4,
 "nbformat_minor": 5
}
