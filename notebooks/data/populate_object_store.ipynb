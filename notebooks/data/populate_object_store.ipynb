{
 "cells": [
  {
   "cell_type": "markdown",
   "id": "dietary-tension",
   "metadata": {},
   "source": [
    "# Populating the object store"
   ]
  },
  {
   "cell_type": "markdown",
   "id": "satellite-instrumentation",
   "metadata": {},
   "source": [
    "**Probably better off running this as a batch job but included this here to show how this could be run**"
   ]
  },
  {
   "cell_type": "code",
   "execution_count": 1,
   "id": "mobile-hospital",
   "metadata": {},
   "outputs": [],
   "source": [
    "import sys\n",
    "sys.path.insert(0, \"/work/rt17603/environments/openghg/bin/activate\")\n",
    "\n",
    "from openghg.modules import ObsSurface"
   ]
  },
  {
   "cell_type": "code",
   "execution_count": 2,
   "id": "contained-spray",
   "metadata": {},
   "outputs": [],
   "source": [
    "import os\n",
    "os.environ[\"OPENGHG_PATH\"] = \"/work/chxmr/objectStore\""
   ]
  },
  {
   "cell_type": "markdown",
   "id": "conceptual-syndication",
   "metadata": {},
   "source": [
    "Summary of data files we want to read in to create the primary object store (based on AGAGE, DECC and ICOS data defined within acrg_obs.process_gcwerks.array_job function)\n",
    "\n",
    "Details of files processed within process_gcwerks.array_job:\n",
    "- data_type = \"GCWERKS\", network=\"AGAGE\" (instrument is \"medusa\")\n",
    "  - \"MHD\"\n",
    "  - \"CGO\"\n",
    "  - \"GSN\"\n",
    "  - \"SDZ\"\n",
    "  - \"THD\"\n",
    "  - \"RPB\"\n",
    "  - \"SMO\"\n",
    "  - \"SIO\"\n",
    "  - \"JFJ\"\n",
    "  - \"CMN\"\n",
    "  - \"ZEP\"\n",
    "- data_type = \"GCWERKS\", network=\"AGAGE\" (instrument is \"GCMD\")\n",
    "  - \"MHD\"\n",
    "  - \"CGO\"\n",
    "  - \"RPB\"\n",
    "  - \"SMO\"\n",
    "  - \"THD\"\n",
    "- data_type = \"GCWERKS\", network=\"AGAGE\" (instrument is \"GCMS\")\n",
    "  - \"MHD\"\n",
    "  - \"CGO\"\n",
    "  - \"RPB\"\n",
    "  - \"SMO\"\n",
    "  - \"THD\"\n",
    "  - \"JFJ\"\n",
    "  - \"CMN\"\n",
    "  - \"ZEP\"\n",
    "- data_type = \"GCWERKS\", network = \"DECC\" (instrument is \"GCMD\")\n",
    "  - \"BSD\"\n",
    "  - \"HFD\"\n",
    "  - \"BSD\"\n",
    "  - \"TAC\"\n",
    "  - \"RGL\"\n",
    "- data_type = \"GCWERKS\", network = \"DECC\" (instrument is \"medusa\")\n",
    "  - \"TAC\"\n",
    "- data_type = \"CRDS\", network = \"AGAGE\"\n",
    "  - \"RPB\"\n",
    "- data_type = \"CRDS\", network = \"DECC\"\n",
    "  - \"BSD\"\n",
    "  - \"HFD\"\n",
    "  - \"TTA\"\n",
    "  - \"RGL\"\n",
    "  - \"TAC\"\n",
    "- data_type = \"ICOS\", network=\"ICOS\"\n",
    "  - \"MHD\""
   ]
  },
  {
   "cell_type": "code",
   "execution_count": 3,
   "id": "wired-timing",
   "metadata": {},
   "outputs": [
    {
     "name": "stdout",
     "output_type": "stream",
     "text": [
      "Keys for each entry: ['filepath', 'data_type', 'site', 'network']\n",
      "Files to load for first entry (['GCWERKS', 'MHD', 'AGAGE']):\n",
      " [('/work/chxmr/shared/obs_raw/AGAGE_GCWerks/data-gcms/macehead-medusa.03.C', '/work/chxmr/shared/obs_raw/AGAGE_GCWerks/data-gcms/macehead-medusa.03.precisions.C'), ('/work/chxmr/shared/obs_raw/AGAGE_GCWerks/data-gcms/macehead-medusa.04.C', '/work/chxmr/shared/obs_raw/AGAGE_GCWerks/data-gcms/macehead-medusa.04.precisions.C'), ('/work/chxmr/shared/obs_raw/AGAGE_GCWerks/data-gcms/macehead-medusa.05.C', '/work/chxmr/shared/obs_raw/AGAGE_GCWerks/data-gcms/macehead-medusa.05.precisions.C'), ('/work/chxmr/shared/obs_raw/AGAGE_GCWerks/data-gcms/macehead-medusa.06.C', '/work/chxmr/shared/obs_raw/AGAGE_GCWerks/data-gcms/macehead-medusa.06.precisions.C'), ('/work/chxmr/shared/obs_raw/AGAGE_GCWerks/data-gcms/macehead-medusa.07.C', '/work/chxmr/shared/obs_raw/AGAGE_GCWerks/data-gcms/macehead-medusa.07.precisions.C'), ('/work/chxmr/shared/obs_raw/AGAGE_GCWerks/data-gcms/macehead-medusa.08.C', '/work/chxmr/shared/obs_raw/AGAGE_GCWerks/data-gcms/macehead-medusa.08.precisions.C'), ('/work/chxmr/shared/obs_raw/AGAGE_GCWerks/data-gcms/macehead-medusa.09.C', '/work/chxmr/shared/obs_raw/AGAGE_GCWerks/data-gcms/macehead-medusa.09.precisions.C'), ('/work/chxmr/shared/obs_raw/AGAGE_GCWerks/data-gcms/macehead-medusa.10.C', '/work/chxmr/shared/obs_raw/AGAGE_GCWerks/data-gcms/macehead-medusa.10.precisions.C'), ('/work/chxmr/shared/obs_raw/AGAGE_GCWerks/data-gcms/macehead-medusa.11.C', '/work/chxmr/shared/obs_raw/AGAGE_GCWerks/data-gcms/macehead-medusa.11.precisions.C'), ('/work/chxmr/shared/obs_raw/AGAGE_GCWerks/data-gcms/macehead-medusa.12.C', '/work/chxmr/shared/obs_raw/AGAGE_GCWerks/data-gcms/macehead-medusa.12.precisions.C'), ('/work/chxmr/shared/obs_raw/AGAGE_GCWerks/data-gcms/macehead-medusa.13.C', '/work/chxmr/shared/obs_raw/AGAGE_GCWerks/data-gcms/macehead-medusa.13.precisions.C'), ('/work/chxmr/shared/obs_raw/AGAGE_GCWerks/data-gcms/macehead-medusa.14.C', '/work/chxmr/shared/obs_raw/AGAGE_GCWerks/data-gcms/macehead-medusa.14.precisions.C'), ('/work/chxmr/shared/obs_raw/AGAGE_GCWerks/data-gcms/macehead-medusa.15.C', '/work/chxmr/shared/obs_raw/AGAGE_GCWerks/data-gcms/macehead-medusa.15.precisions.C'), ('/work/chxmr/shared/obs_raw/AGAGE_GCWerks/data-gcms/macehead-medusa.16.C', '/work/chxmr/shared/obs_raw/AGAGE_GCWerks/data-gcms/macehead-medusa.16.precisions.C'), ('/work/chxmr/shared/obs_raw/AGAGE_GCWerks/data-gcms/macehead-medusa.17.C', '/work/chxmr/shared/obs_raw/AGAGE_GCWerks/data-gcms/macehead-medusa.17.precisions.C'), ('/work/chxmr/shared/obs_raw/AGAGE_GCWerks/data-gcms/macehead-medusa.18.C', '/work/chxmr/shared/obs_raw/AGAGE_GCWerks/data-gcms/macehead-medusa.18.precisions.C'), ('/work/chxmr/shared/obs_raw/AGAGE_GCWerks/data-gcms/macehead-medusa.19.C', '/work/chxmr/shared/obs_raw/AGAGE_GCWerks/data-gcms/macehead-medusa.19.precisions.C'), ('/work/chxmr/shared/obs_raw/AGAGE_GCWerks/data-gcms/macehead-medusa.20.C', '/work/chxmr/shared/obs_raw/AGAGE_GCWerks/data-gcms/macehead-medusa.20.precisions.C'), ('/work/chxmr/shared/obs_raw/AGAGE_GCWerks/data-gcms/macehead-medusa.21.C', '/work/chxmr/shared/obs_raw/AGAGE_GCWerks/data-gcms/macehead-medusa.21.precisions.C')]\n"
     ]
    }
   ],
   "source": [
    "from file_search import find_all_files\n",
    "# Contains list of dictionaries to pass to the read_file() function for\n",
    "# loading all data files.\n",
    "all_inputs = find_all_files()\n",
    "print(f\"Keys for each entry: {list(all_inputs[0].keys())}\")\n",
    "inputs = [value for key, value in all_inputs[0].items() if key != \"filepath\"]\n",
    "print(f\"Files to load for first entry ({inputs}):\\n {all_inputs[0]['filepath']}\")"
   ]
  },
  {
   "cell_type": "code",
   "execution_count": 4,
   "id": "reported-speaker",
   "metadata": {
    "scrolled": true
   },
   "outputs": [
    {
     "name": "stdout",
     "output_type": "stream",
     "text": [
      "Processing: macehead-medusa.21.C: 100%|██████████| 19/19 [14:32<00:00, 45.94s/it]\n",
      "Processing: capegrim-medusa.21.C: 100%|██████████| 18/18 [06:03<00:00, 20.19s/it]\n",
      "Processing: gosan-medusa.21.C: 100%|██████████| 15/15 [08:40<00:00, 34.73s/it]\n",
      "Processing: shangdianzi-medusa.19.C: 100%|██████████| 10/10 [00:04<00:00,  2.40it/s]\n",
      "Processing: trinidadhead-medusa.21.C: 100%|██████████| 17/17 [10:46<00:00, 38.00s/it]\n",
      "Processing: barbados-medusa.21.C: 100%|██████████| 17/17 [10:07<00:00, 35.72s/it]\n",
      "Processing: samoa-medusa.21.C: 100%|██████████| 16/16 [08:58<00:00, 33.63s/it]\n",
      "Processing: sio-medusa.21.C: 100%|██████████| 19/19 [12:01<00:00, 37.96s/it]\n",
      "Processing: jungfraujoch-medusa.20.C: 100%|██████████| 14/14 [06:47<00:00, 29.08s/it]\n",
      "0it [00:00, ?it/s]\n",
      "Processing: zeppelin-medusa.20.C: 100%|██████████| 12/12 [04:21<00:00, 21.80s/it]\n",
      "Processing: barbados.99.C: 100%|██████████| 26/26 [07:10<00:00, 16.54s/it]\n",
      "Processing: capegrim.99.C: 100%|██████████| 29/29 [09:09<00:00, 18.96s/it]\n",
      "Processing: macehead.99.C: 100%|██████████| 28/28 [09:26<00:00, 20.23s/it]\n",
      "Processing: samoa.99.C: 100%|██████████| 24/24 [07:04<00:00, 17.71s/it]\n",
      "Processing: trinidadhead.99.C: 100%|██████████| 27/27 [08:09<00:00, 18.14s/it]\n",
      "Processing: capegrim-gcms.99.C: 100%|██████████| 9/9 [03:25<00:00, 22.88s/it]\n",
      "Processing: macehead-gcms.99.C: 100%|██████████| 8/8 [03:37<00:00, 27.14s/it]\n",
      "0it [00:00, ?it/s]\n",
      "0it [00:00, ?it/s]\n",
      "0it [00:00, ?it/s]\n",
      "Processing: jungfraujoch.08.C: 100%|██████████| 9/9 [06:07<00:00, 40.79s/it]\n",
      "Processing: mtecimone.21.C: 100%|██████████| 21/21 [07:12<00:00, 20.60s/it]\n",
      "Processing: zeppelin.11.C: 100%|██████████| 12/12 [06:51<00:00, 34.28s/it]\n",
      "Processing: bilsdale-md.21.C: 100%|██████████| 9/9 [00:08<00:00,  1.06it/s]\n",
      "Processing: heathfield-md.21.C: 100%|██████████| 9/9 [00:12<00:00,  1.36s/it]\n",
      "Processing: tacolneston-md.18.C: 100%|██████████| 8/8 [00:12<00:00,  1.57s/it]\n",
      "Processing: ridgehill-md.21.C: 100%|██████████| 11/11 [00:15<00:00,  1.39s/it]\n",
      "Processing: tacolneston-medusa.21.C: 100%|██████████| 10/10 [01:38<00:00,  9.90s/it]\n",
      "Processing: rpb.picarro.1minute.12m.dat: 100%|██████████| 1/1 [00:29<00:00, 29.32s/it]\n",
      "Processing: hfd.picarro.1minute.50m.dat: 100%|██████████| 2/2 [00:57<00:00, 28.62s/it] \n",
      "Processing: bsd.picarro5310.1minute.42m.dat: 100%|██████████| 6/6 [01:22<00:00, 13.70s/it] \n",
      "Processing: tta.picarro.1minute.222m.dat: 100%|██████████| 1/1 [00:18<00:00, 18.13s/it]\n",
      "Processing: rgl.picarro.1minute.90m.dat: 100%|██████████| 2/2 [01:04<00:00, 32.31s/it]\n",
      "Processing: tac.lgr.1minute.54m.dat: 100%|██████████| 6/6 [01:38<00:00, 16.43s/it]     \n",
      "Processing: mhd.co2.1minute.g2401.15m.dat: 100%|██████████| 3/3 [00:00<00:00,  4.05it/s]\n"
     ]
    }
   ],
   "source": [
    "### Takes a whie to run - better off running as a batch job\n",
    "#all_results = []\n",
    "#for params in all_inputs:\n",
    "#   results = ObsSurface.read_file(**params)\n",
    "#   all_results.append(results)"
   ]
  },
  {
   "cell_type": "code",
   "execution_count": 44,
   "id": "afraid-guide",
   "metadata": {},
   "outputs": [
    {
     "name": "stdout",
     "output_type": "stream",
     "text": [
      "0 []\n",
      "1 ['capegrim-medusa.05.C', 'capegrim-medusa.06.C', 'capegrim-medusa.12.C', 'capegrim-medusa.13.C', 'capegrim-medusa.17.C']\n",
      "3 ['shangdianzi-medusa.09.C', 'shangdianzi-medusa.10.C', 'shangdianzi-medusa.11.C', 'shangdianzi-medusa.12.C', 'shangdianzi-medusa.13.C', 'shangdianzi-medusa.15.C', 'shangdianzi-medusa.16.C', 'shangdianzi-medusa.17.C', 'shangdianzi-medusa.18.C', 'shangdianzi-medusa.19.C']\n",
      "7 []\n",
      "10 ['zeppelin-medusa.09.C']\n",
      "12 ['capegrim.00.C', 'capegrim.01.C', 'capegrim.02.C', 'capegrim.03.C', 'capegrim.05.C', 'capegrim.06.C', 'capegrim.17.C', 'capegrim.19.C']\n",
      "16 ['capegrim-gcms.97.C']\n",
      "24 ['bilsdale-md.17.C']\n",
      "26 ['tacolneston-md.11.C', 'tacolneston-md.17.C']\n",
      "27 ['ridgehill-md.11.C']\n",
      "28 ['tacolneston-medusa.17.C']\n",
      "35 ['mhd.ch4.1minute.g2401.15m.dat', 'mhd.co.1minute.g2401.15m.dat', 'mhd.co2.1minute.g2401.15m.dat']\n"
     ]
    }
   ],
   "source": [
    "### Write out any errors to a log file\n",
    "#error_logs = open(\"error_logs.csv\", \"a\")\n",
    "#for i, results in enumerate(all_results):\n",
    "#    if \"error\" in results:\n",
    "#        print(i, list(results[\"error\"].keys()))\n",
    "#        for key, value in results[\"error\"].items():\n",
    "#            error_logs.write(f\"{key}    {value}\\n\")\n",
    "#error_logs.close()"
   ]
  }
 ],
 "metadata": {
  "kernelspec": {
   "display_name": "Python 3",
   "language": "python",
   "name": "python3"
  },
  "language_info": {
   "codemirror_mode": {
    "name": "ipython",
    "version": 3
   },
   "file_extension": ".py",
   "mimetype": "text/x-python",
   "name": "python",
   "nbconvert_exporter": "python",
   "pygments_lexer": "ipython3",
   "version": "3.7.4"
  }
 },
 "nbformat": 4,
 "nbformat_minor": 5
}
