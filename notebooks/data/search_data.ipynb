{
 "cells": [
  {
   "cell_type": "markdown",
   "id": "cutting-cholesterol",
   "metadata": {},
   "source": [
    "# Searching data"
   ]
  },
  {
   "cell_type": "markdown",
   "id": "interim-closer",
   "metadata": {},
   "source": [
    "Quick details to check searching of the object store once this has been populated.\n",
    "\n",
    "Depending on if we have a dummy object store available for testing these could be used as a basis for unit tests of this function."
   ]
  },
  {
   "cell_type": "code",
   "execution_count": 1,
   "id": "logical-netscape",
   "metadata": {},
   "outputs": [],
   "source": [
    "import os\n",
    "os.environ[\"OPENGHG_PATH\"] = \"/work/chxmr/objectStore\""
   ]
  },
  {
   "cell_type": "code",
   "execution_count": 7,
   "id": "filled-amplifier",
   "metadata": {},
   "outputs": [],
   "source": [
    "from openghg.processing import search\n",
    "\n",
    "def search_and_print(**kwargs):\n",
    "    \n",
    "    search_output = search(**kwargs)\n",
    "    \n",
    "    print(f\"Number of outputs: {len(search_output.values())}\")\n",
    "    all_inputs_match = True\n",
    "    for value in search_output.values():\n",
    "        metadata = value[\"metadata\"]\n",
    "        print(value[\"metadata\"])\n",
    "        for key, value in kwargs.items():\n",
    "            if metadata[key].lower() != value.lower():\n",
    "                all_inputs_match = False\n",
    "    print(f\"All inputs match: {all_inputs_match}\")"
   ]
  },
  {
   "cell_type": "code",
   "execution_count": 8,
   "id": "powered-hearts",
   "metadata": {},
   "outputs": [
    {
     "name": "stdout",
     "output_type": "stream",
     "text": [
      "Number of outputs: 18\n",
      "{'instrument': 'gcmd', 'site': 'rpb', 'network': 'agage', 'species': 'ch4', 'units': 'ppb', 'scale': 'tu1987', 'inlet': '10m', 'data_type': 'timeseries'}\n",
      "{'instrument': 'gcmd', 'site': 'cgo', 'network': 'agage', 'species': 'ch4', 'units': 'ppb', 'scale': 'tu1987', 'inlet': '10m', 'data_type': 'timeseries'}\n",
      "{'instrument': 'gcmd', 'site': 'cgo', 'network': 'agage', 'species': 'ch4', 'units': 'ppb', 'scale': 'tu1987', 'inlet': '70m', 'data_type': 'timeseries'}\n",
      "{'instrument': 'gcmd', 'site': 'mhd', 'network': 'agage', 'species': 'ch4', 'units': 'ppb', 'scale': 'tu1987', 'inlet': '10m', 'data_type': 'timeseries'}\n",
      "{'instrument': 'gcmd', 'site': 'smo', 'network': 'agage', 'species': 'ch4', 'units': 'ppb', 'scale': 'tu1987', 'inlet': '10m', 'data_type': 'timeseries'}\n",
      "{'instrument': 'gcmd', 'site': 'thd', 'network': 'agage', 'species': 'ch4', 'units': 'ppb', 'scale': 'tu1987', 'inlet': '10m', 'data_type': 'timeseries'}\n",
      "{'site': 'rpb', 'instrument': 'picarro', 'time_resolution': '1_minute', 'inlet': '12m', 'port': '1', 'type': 'air', 'network': 'agage', 'species': 'ch4', 'scale': 'wmo-x2004a', 'data_type': 'timeseries'}\n",
      "{'site': 'hfd', 'instrument': 'picarro', 'time_resolution': '1_minute', 'inlet': '100m', 'port': '10', 'type': 'air', 'network': 'decc', 'species': 'ch4', 'scale': 'wmo-x2004a', 'data_type': 'timeseries'}\n",
      "{'site': 'hfd', 'instrument': 'picarro', 'time_resolution': '1_minute', 'inlet': '50m', 'port': '9', 'type': 'air', 'network': 'decc', 'species': 'ch4', 'scale': 'wmo-x2004a', 'data_type': 'timeseries'}\n",
      "{'site': 'bsd', 'instrument': 'picarro', 'time_resolution': '1_minute', 'inlet': '108m', 'port': '9', 'type': 'air', 'network': 'decc', 'species': 'ch4', 'scale': 'wmo-x2004a', 'data_type': 'timeseries'}\n",
      "{'site': 'bsd', 'instrument': 'picarro', 'time_resolution': '1_minute', 'inlet': '248m', 'port': '8', 'type': 'air', 'network': 'decc', 'species': 'ch4', 'scale': 'wmo-x2004a', 'data_type': 'timeseries'}\n",
      "{'site': 'bsd', 'instrument': 'picarro', 'time_resolution': '1_minute', 'inlet': '42m', 'port': '10', 'type': 'air', 'network': 'decc', 'species': 'ch4', 'scale': 'wmo-x2004a', 'data_type': 'timeseries'}\n",
      "{'site': 'tta', 'instrument': 'picarro', 'time_resolution': '1_minute', 'inlet': '222m', 'port': '10', 'type': 'air', 'network': 'decc', 'species': 'ch4', 'scale': 'wmo-x2004a', 'data_type': 'timeseries'}\n",
      "{'site': 'rgl', 'instrument': 'picarro', 'time_resolution': '1_minute', 'inlet': '45m', 'port': '9', 'type': 'air', 'network': 'decc', 'species': 'ch4', 'scale': 'wmo-x2004a', 'data_type': 'timeseries'}\n",
      "{'site': 'rgl', 'instrument': 'picarro', 'time_resolution': '1_minute', 'inlet': '90m', 'port': '10', 'type': 'air', 'network': 'decc', 'species': 'ch4', 'scale': 'wmo-x2004a', 'data_type': 'timeseries'}\n",
      "{'site': 'tac', 'instrument': 'picarro', 'time_resolution': '1_minute', 'inlet': '100m', 'port': '9', 'type': 'air', 'network': 'decc', 'species': 'ch4', 'scale': 'wmo-x2004a', 'data_type': 'timeseries'}\n",
      "{'site': 'tac', 'instrument': 'picarro', 'time_resolution': '1_minute', 'inlet': '185m', 'port': '10', 'type': 'air', 'network': 'decc', 'species': 'ch4', 'scale': 'wmo-x2004a', 'data_type': 'timeseries'}\n",
      "{'site': 'tac', 'instrument': 'picarro', 'time_resolution': '1_minute', 'inlet': '54m', 'port': '8', 'type': 'air', 'network': 'decc', 'species': 'ch4', 'scale': 'wmo-x2004a', 'data_type': 'timeseries'}\n",
      "All inputs match: True\n"
     ]
    }
   ],
   "source": [
    "# Checking one species input\n",
    "search_and_print(species=\"ch4\")"
   ]
  },
  {
   "cell_type": "code",
   "execution_count": 9,
   "id": "veterinary-entertainment",
   "metadata": {},
   "outputs": [
    {
     "name": "stdout",
     "output_type": "stream",
     "text": [
      "Number of outputs: 13\n",
      "{'instrument': 'gcmd', 'site': 'mhd', 'network': 'agage', 'species': 'cfc11', 'units': 'ppt', 'scale': 'sio-05', 'inlet': '10m', 'data_type': 'timeseries'}\n",
      "{'instrument': 'gcmd', 'site': 'cgo', 'network': 'agage', 'species': 'cfc11', 'units': 'ppt', 'scale': 'sio-05', 'inlet': '10m', 'data_type': 'timeseries'}\n",
      "{'instrument': 'gcmd', 'site': 'cgo', 'network': 'agage', 'species': 'cfc11', 'units': 'ppt', 'scale': 'sio-05', 'inlet': '70m', 'data_type': 'timeseries'}\n",
      "{'instrument': 'medusa', 'site': 'gsn', 'network': 'agage', 'species': 'cfc11', 'units': 'ppt', 'scale': 'sio-05', 'inlet': '10m', 'data_type': 'timeseries'}\n",
      "{'instrument': 'gcmd', 'site': 'thd', 'network': 'agage', 'species': 'cfc11', 'units': 'ppt', 'scale': 'sio-05', 'inlet': '10m', 'data_type': 'timeseries'}\n",
      "{'instrument': 'gcmd', 'site': 'rpb', 'network': 'agage', 'species': 'cfc11', 'units': 'ppt', 'scale': 'sio-05', 'inlet': '10m', 'data_type': 'timeseries'}\n",
      "{'instrument': 'gcmd', 'site': 'smo', 'network': 'agage', 'species': 'cfc11', 'units': 'ppt', 'scale': 'sio-05', 'inlet': '10m', 'data_type': 'timeseries'}\n",
      "{'instrument': 'medusa', 'site': 'sio', 'network': 'agage', 'species': 'cfc11', 'units': 'ppt', 'scale': 'sio-05', 'inlet': '10m', 'data_type': 'timeseries'}\n",
      "{'instrument': 'gcmd', 'site': 'jfj', 'network': 'agage', 'species': 'cfc11', 'units': 'ppt', 'scale': 'sio-05', 'inlet': '10m', 'data_type': 'timeseries'}\n",
      "{'instrument': 'gcmd', 'site': 'zep', 'network': 'agage', 'species': 'cfc11', 'units': 'ppt', 'scale': 'sio-05', 'inlet': 'air', 'data_type': 'timeseries'}\n",
      "{'instrument': 'gcmd', 'site': 'cmn', 'network': 'agage', 'species': 'cfc11', 'units': 'ppt', 'scale': 'sio-05', 'inlet': 'air', 'data_type': 'timeseries'}\n",
      "{'instrument': 'medusa', 'site': 'tac', 'network': 'decc', 'species': 'cfc11', 'units': 'ppt', 'scale': 'sio-05', 'inlet': '100m', 'data_type': 'timeseries'}\n",
      "{'instrument': 'medusa', 'site': 'tac', 'network': 'decc', 'species': 'cfc11', 'units': 'ppt', 'scale': 'sio-05', 'inlet': '185m', 'data_type': 'timeseries'}\n",
      "All inputs match: True\n"
     ]
    }
   ],
   "source": [
    "# Checking a different species input\n",
    "search_and_print(species=\"cfc11\")"
   ]
  },
  {
   "cell_type": "code",
   "execution_count": 10,
   "id": "difficult-springfield",
   "metadata": {},
   "outputs": [
    {
     "name": "stdout",
     "output_type": "stream",
     "text": [
      "Number of outputs: 2\n",
      "{'instrument': 'gcmd', 'site': 'cgo', 'network': 'agage', 'species': 'cfc11', 'units': 'ppt', 'scale': 'sio-05', 'inlet': '10m', 'data_type': 'timeseries'}\n",
      "{'instrument': 'gcmd', 'site': 'cgo', 'network': 'agage', 'species': 'cfc11', 'units': 'ppt', 'scale': 'sio-05', 'inlet': '70m', 'data_type': 'timeseries'}\n",
      "All inputs match: True\n"
     ]
    }
   ],
   "source": [
    "# Checking species and site\n",
    "search_and_print(species=\"cfc11\", site=\"cgo\")"
   ]
  },
  {
   "cell_type": "code",
   "execution_count": 11,
   "id": "solid-emphasis",
   "metadata": {},
   "outputs": [
    {
     "name": "stdout",
     "output_type": "stream",
     "text": [
      "Number of outputs: 1\n",
      "{'instrument': 'gcmd', 'site': 'cgo', 'network': 'agage', 'species': 'cfc11', 'units': 'ppt', 'scale': 'sio-05', 'inlet': '70m', 'data_type': 'timeseries'}\n",
      "All inputs match: True\n"
     ]
    }
   ],
   "source": [
    "# Checking if we can get an unique entry by specifying the inlet\n",
    "search_and_print(species=\"cfc11\", site=\"cgo\", inlet=\"70m\")"
   ]
  },
  {
   "cell_type": "code",
   "execution_count": 12,
   "id": "caroline-institute",
   "metadata": {},
   "outputs": [
    {
     "name": "stdout",
     "output_type": "stream",
     "text": [
      "Number of outputs: 1\n",
      "{'instrument': 'gcmd', 'site': 'cgo', 'network': 'agage', 'species': 'cfc11', 'units': 'ppt', 'scale': 'sio-05', 'inlet': '10m', 'data_type': 'timeseries'}\n",
      "All inputs match: True\n"
     ]
    }
   ],
   "source": [
    "# Checking the other inlet\n",
    "search_and_print(species=\"cfc11\", site=\"cgo\", inlet=\"10m\")"
   ]
  },
  {
   "cell_type": "code",
   "execution_count": 13,
   "id": "dimensional-access",
   "metadata": {},
   "outputs": [
    {
     "name": "stdout",
     "output_type": "stream",
     "text": [
      "Number of outputs: 131\n",
      "{'instrument': 'medusa', 'site': 'cgo', 'network': 'agage', 'species': 'cf4', 'units': 'ppt', 'scale': 'sio-05', 'inlet': '10m', 'data_type': 'timeseries'}\n",
      "{'instrument': 'medusa', 'site': 'cgo', 'network': 'agage', 'species': 'pfc116', 'units': 'ppt', 'scale': 'sio-07', 'inlet': '10m', 'data_type': 'timeseries'}\n",
      "{'instrument': 'medusa', 'site': 'cgo', 'network': 'agage', 'species': 'pfc218', 'units': 'ppt', 'scale': 'sio-07', 'inlet': '10m', 'data_type': 'timeseries'}\n",
      "{'instrument': 'medusa', 'site': 'cgo', 'network': 'agage', 'species': 'so2f2', 'units': 'ppt', 'scale': 'sio-07', 'inlet': '10m', 'data_type': 'timeseries'}\n",
      "{'instrument': 'medusa', 'site': 'cgo', 'network': 'agage', 'species': 'hfc32', 'units': 'ppt', 'scale': 'sio-07', 'inlet': '10m', 'data_type': 'timeseries'}\n",
      "{'instrument': 'gcms', 'site': 'cgo', 'network': 'agage', 'species': 'hfc125', 'units': 'ppt', 'scale': 'sio-14', 'inlet': '10m', 'data_type': 'timeseries'}\n",
      "{'instrument': 'gcms', 'site': 'cgo', 'network': 'agage', 'species': 'hfc134a', 'units': 'ppt', 'scale': 'sio-05', 'inlet': '10m', 'data_type': 'timeseries'}\n",
      "{'instrument': 'medusa', 'site': 'cgo', 'network': 'agage', 'species': 'hfc143a', 'units': 'ppt', 'scale': 'sio-07', 'inlet': '10m', 'data_type': 'timeseries'}\n",
      "{'instrument': 'gcms', 'site': 'cgo', 'network': 'agage', 'species': 'hfc152a', 'units': 'ppt', 'scale': 'sio-05', 'inlet': '10m', 'data_type': 'timeseries'}\n",
      "{'instrument': 'gcms', 'site': 'cgo', 'network': 'agage', 'species': 'hcfc22', 'units': 'ppt', 'scale': 'sio-05', 'inlet': '10m', 'data_type': 'timeseries'}\n",
      "{'instrument': 'gcms', 'site': 'cgo', 'network': 'agage', 'species': 'hcfc123', 'units': 'ppt', 'scale': 'empa-p', 'inlet': '10m', 'data_type': 'timeseries'}\n",
      "{'instrument': 'gcms', 'site': 'cgo', 'network': 'agage', 'species': 'hcfc124', 'units': 'ppt', 'scale': 'ub-98', 'inlet': '10m', 'data_type': 'timeseries'}\n",
      "{'instrument': 'gcms', 'site': 'cgo', 'network': 'agage', 'species': 'hcfc141b', 'units': 'ppt', 'scale': 'sio-05', 'inlet': '10m', 'data_type': 'timeseries'}\n",
      "{'instrument': 'gcms', 'site': 'cgo', 'network': 'agage', 'species': 'hcfc142b', 'units': 'ppt', 'scale': 'sio-05', 'inlet': '10m', 'data_type': 'timeseries'}\n",
      "{'instrument': 'gcmd', 'site': 'cgo', 'network': 'agage', 'species': 'cfc11', 'units': 'ppt', 'scale': 'sio-05', 'inlet': '10m', 'data_type': 'timeseries'}\n",
      "{'instrument': 'gcmd', 'site': 'cgo', 'network': 'agage', 'species': 'cfc12', 'units': 'ppt', 'scale': 'sio-05', 'inlet': '10m', 'data_type': 'timeseries'}\n",
      "{'instrument': 'medusa', 'site': 'cgo', 'network': 'agage', 'species': 'cfc13', 'units': 'ppt', 'scale': 'metas-2017', 'inlet': '10m', 'data_type': 'timeseries'}\n",
      "{'instrument': 'gcmd', 'site': 'cgo', 'network': 'agage', 'species': 'cfc113', 'units': 'ppt', 'scale': 'sio-05', 'inlet': '10m', 'data_type': 'timeseries'}\n",
      "{'instrument': 'gcms', 'site': 'cgo', 'network': 'agage', 'species': 'cfc114', 'units': 'ppt', 'scale': 'sio-05', 'inlet': '10m', 'data_type': 'timeseries'}\n",
      "{'instrument': 'gcms', 'site': 'cgo', 'network': 'agage', 'species': 'cfc115', 'units': 'ppt', 'scale': 'sio-05', 'inlet': '10m', 'data_type': 'timeseries'}\n",
      "{'instrument': 'gcms', 'site': 'cgo', 'network': 'agage', 'species': 'h1211', 'units': 'ppt', 'scale': 'sio-05', 'inlet': '10m', 'data_type': 'timeseries'}\n",
      "{'instrument': 'gcms', 'site': 'cgo', 'network': 'agage', 'species': 'h1301', 'units': 'ppt', 'scale': 'sio-05', 'inlet': '10m', 'data_type': 'timeseries'}\n",
      "{'instrument': 'gcms', 'site': 'cgo', 'network': 'agage', 'species': 'h2402', 'units': 'ppt', 'scale': 'sio-14', 'inlet': '10m', 'data_type': 'timeseries'}\n",
      "{'instrument': 'gcms', 'site': 'cgo', 'network': 'agage', 'species': 'ch3cl', 'units': 'ppt', 'scale': 'sio-05', 'inlet': '10m', 'data_type': 'timeseries'}\n",
      "{'instrument': 'gcms', 'site': 'cgo', 'network': 'agage', 'species': 'ch3br', 'units': 'ppt', 'scale': 'sio-05', 'inlet': '10m', 'data_type': 'timeseries'}\n",
      "{'instrument': 'gcms', 'site': 'cgo', 'network': 'agage', 'species': 'ch3i', 'units': 'ppt', 'scale': 'noaa-2004', 'inlet': '10m', 'data_type': 'timeseries'}\n",
      "{'instrument': 'gcms', 'site': 'cgo', 'network': 'agage', 'species': 'ch2cl2', 'units': 'ppt', 'scale': 'sio-14', 'inlet': '10m', 'data_type': 'timeseries'}\n",
      "{'instrument': 'gcms', 'site': 'cgo', 'network': 'agage', 'species': 'chcl3', 'units': 'ppt', 'scale': 'sio-98', 'inlet': '10m', 'data_type': 'timeseries'}\n",
      "{'instrument': 'gcmd', 'site': 'cgo', 'network': 'agage', 'species': 'ccl4', 'units': 'ppt', 'scale': 'sio-05', 'inlet': '10m', 'data_type': 'timeseries'}\n",
      "{'instrument': 'gcms', 'site': 'cgo', 'network': 'agage', 'species': 'chbr3', 'units': 'ppt', 'scale': 'noaa-2003', 'inlet': '10m', 'data_type': 'timeseries'}\n",
      "{'instrument': 'gcms', 'site': 'cgo', 'network': 'agage', 'species': 'ch3ccl3', 'units': 'ppt', 'scale': 'sio-05', 'inlet': '10m', 'data_type': 'timeseries'}\n",
      "{'instrument': 'gcms', 'site': 'cgo', 'network': 'agage', 'species': 'pce', 'units': 'ppt', 'scale': 'noaa-2003b', 'inlet': '10m', 'data_type': 'timeseries'}\n",
      "{'instrument': 'medusa', 'site': 'cgo', 'network': 'agage', 'species': 'ethyne', 'units': 'relative', 'scale': 'r1', 'inlet': '10m', 'data_type': 'timeseries'}\n",
      "{'instrument': 'medusa', 'site': 'cgo', 'network': 'agage', 'species': 'ethene', 'units': 'relative', 'scale': 'r1', 'inlet': '10m', 'data_type': 'timeseries'}\n",
      "{'instrument': 'medusa', 'site': 'cgo', 'network': 'agage', 'species': 'ethane', 'units': 'ppt', 'scale': 'sio-p', 'inlet': '10m', 'data_type': 'timeseries'}\n",
      "{'instrument': 'gcms', 'site': 'cgo', 'network': 'agage', 'species': 'benzene', 'units': 'ppt', 'scale': 'ub-p', 'inlet': '10m', 'data_type': 'timeseries'}\n",
      "{'instrument': 'gcms', 'site': 'cgo', 'network': 'agage', 'species': 'toluene', 'units': 'ppt', 'scale': 'empa-p', 'inlet': '10m', 'data_type': 'timeseries'}\n",
      "{'instrument': 'medusa', 'site': 'cgo', 'network': 'agage', 'species': 'cf4', 'units': 'ppt', 'scale': 'sio-05', 'inlet': '70m', 'data_type': 'timeseries'}\n",
      "{'instrument': 'medusa', 'site': 'cgo', 'network': 'agage', 'species': 'pfc116', 'units': 'ppt', 'scale': 'sio-07', 'inlet': '70m', 'data_type': 'timeseries'}\n",
      "{'instrument': 'medusa', 'site': 'cgo', 'network': 'agage', 'species': 'pfc218', 'units': 'ppt', 'scale': 'sio-07', 'inlet': '70m', 'data_type': 'timeseries'}\n",
      "{'instrument': 'medusa', 'site': 'cgo', 'network': 'agage', 'species': 'sf6', 'units': 'ppt', 'scale': 'sio-05', 'inlet': '70m', 'data_type': 'timeseries'}\n",
      "{'instrument': 'medusa', 'site': 'cgo', 'network': 'agage', 'species': 'so2f2', 'units': 'ppt', 'scale': 'sio-07', 'inlet': '70m', 'data_type': 'timeseries'}\n",
      "{'instrument': 'medusa', 'site': 'cgo', 'network': 'agage', 'species': 'hfc23', 'units': 'ppt', 'scale': 'sio-07', 'inlet': '70m', 'data_type': 'timeseries'}\n",
      "{'instrument': 'medusa', 'site': 'cgo', 'network': 'agage', 'species': 'hfc32', 'units': 'ppt', 'scale': 'sio-07', 'inlet': '70m', 'data_type': 'timeseries'}\n",
      "{'instrument': 'medusa', 'site': 'cgo', 'network': 'agage', 'species': 'hfc125', 'units': 'ppt', 'scale': 'sio-14', 'inlet': '70m', 'data_type': 'timeseries'}\n",
      "{'instrument': 'medusa', 'site': 'cgo', 'network': 'agage', 'species': 'hfc134a', 'units': 'ppt', 'scale': 'sio-05', 'inlet': '70m', 'data_type': 'timeseries'}\n",
      "{'instrument': 'medusa', 'site': 'cgo', 'network': 'agage', 'species': 'hfc143a', 'units': 'ppt', 'scale': 'sio-07', 'inlet': '70m', 'data_type': 'timeseries'}\n",
      "{'instrument': 'medusa', 'site': 'cgo', 'network': 'agage', 'species': 'hfc152a', 'units': 'ppt', 'scale': 'sio-05', 'inlet': '70m', 'data_type': 'timeseries'}\n",
      "{'instrument': 'medusa', 'site': 'cgo', 'network': 'agage', 'species': 'hfc227ea', 'units': 'ppt', 'scale': 'sio-14', 'inlet': '70m', 'data_type': 'timeseries'}\n",
      "{'instrument': 'medusa', 'site': 'cgo', 'network': 'agage', 'species': 'hfc236fa', 'units': 'ppt', 'scale': 'sio-14', 'inlet': '70m', 'data_type': 'timeseries'}\n",
      "{'instrument': 'medusa', 'site': 'cgo', 'network': 'agage', 'species': 'hfc245fa', 'units': 'ppt', 'scale': 'sio-14', 'inlet': '70m', 'data_type': 'timeseries'}\n",
      "{'instrument': 'medusa', 'site': 'cgo', 'network': 'agage', 'species': 'hfc365mfc', 'units': 'ppt', 'scale': 'sio-14', 'inlet': '70m', 'data_type': 'timeseries'}\n",
      "{'instrument': 'medusa', 'site': 'cgo', 'network': 'agage', 'species': 'hcfc22', 'units': 'ppt', 'scale': 'sio-05', 'inlet': '70m', 'data_type': 'timeseries'}\n",
      "{'instrument': 'medusa', 'site': 'cgo', 'network': 'agage', 'species': 'hcfc123', 'units': 'ppt', 'scale': 'empa-p', 'inlet': '70m', 'data_type': 'timeseries'}\n",
      "{'instrument': 'medusa', 'site': 'cgo', 'network': 'agage', 'species': 'hcfc124', 'units': 'ppt', 'scale': 'ub-98', 'inlet': '70m', 'data_type': 'timeseries'}\n",
      "{'instrument': 'medusa', 'site': 'cgo', 'network': 'agage', 'species': 'hcfc141b', 'units': 'ppt', 'scale': 'sio-05', 'inlet': '70m', 'data_type': 'timeseries'}\n",
      "{'instrument': 'medusa', 'site': 'cgo', 'network': 'agage', 'species': 'hcfc142b', 'units': 'ppt', 'scale': 'sio-05', 'inlet': '70m', 'data_type': 'timeseries'}\n",
      "{'instrument': 'gcmd', 'site': 'cgo', 'network': 'agage', 'species': 'cfc11', 'units': 'ppt', 'scale': 'sio-05', 'inlet': '70m', 'data_type': 'timeseries'}\n",
      "{'instrument': 'gcmd', 'site': 'cgo', 'network': 'agage', 'species': 'cfc12', 'units': 'ppt', 'scale': 'sio-05', 'inlet': '70m', 'data_type': 'timeseries'}\n",
      "{'instrument': 'medusa', 'site': 'cgo', 'network': 'agage', 'species': 'cfc13', 'units': 'ppt', 'scale': 'metas-2017', 'inlet': '70m', 'data_type': 'timeseries'}\n",
      "{'instrument': 'gcmd', 'site': 'cgo', 'network': 'agage', 'species': 'cfc113', 'units': 'ppt', 'scale': 'sio-05', 'inlet': '70m', 'data_type': 'timeseries'}\n",
      "{'instrument': 'medusa', 'site': 'cgo', 'network': 'agage', 'species': 'cfc114', 'units': 'ppt', 'scale': 'sio-05', 'inlet': '70m', 'data_type': 'timeseries'}\n",
      "{'instrument': 'medusa', 'site': 'cgo', 'network': 'agage', 'species': 'cfc115', 'units': 'ppt', 'scale': 'sio-05', 'inlet': '70m', 'data_type': 'timeseries'}\n",
      "{'instrument': 'medusa', 'site': 'cgo', 'network': 'agage', 'species': 'h1211', 'units': 'ppt', 'scale': 'sio-05', 'inlet': '70m', 'data_type': 'timeseries'}\n",
      "{'instrument': 'medusa', 'site': 'cgo', 'network': 'agage', 'species': 'h1301', 'units': 'ppt', 'scale': 'sio-05', 'inlet': '70m', 'data_type': 'timeseries'}\n",
      "{'instrument': 'medusa', 'site': 'cgo', 'network': 'agage', 'species': 'h2402', 'units': 'ppt', 'scale': 'sio-14', 'inlet': '70m', 'data_type': 'timeseries'}\n",
      "{'instrument': 'medusa', 'site': 'cgo', 'network': 'agage', 'species': 'ch3cl', 'units': 'ppt', 'scale': 'sio-05', 'inlet': '70m', 'data_type': 'timeseries'}\n",
      "{'instrument': 'medusa', 'site': 'cgo', 'network': 'agage', 'species': 'ch3br', 'units': 'ppt', 'scale': 'sio-05', 'inlet': '70m', 'data_type': 'timeseries'}\n",
      "{'instrument': 'medusa', 'site': 'cgo', 'network': 'agage', 'species': 'ch3i', 'units': 'ppt', 'scale': 'noaa-2004', 'inlet': '70m', 'data_type': 'timeseries'}\n",
      "{'instrument': 'medusa', 'site': 'cgo', 'network': 'agage', 'species': 'ch2cl2', 'units': 'ppt', 'scale': 'sio-14', 'inlet': '70m', 'data_type': 'timeseries'}\n",
      "{'instrument': 'gcmd', 'site': 'cgo', 'network': 'agage', 'species': 'chcl3', 'units': 'ppt', 'scale': 'sio-98', 'inlet': '70m', 'data_type': 'timeseries'}\n",
      "{'instrument': 'gcmd', 'site': 'cgo', 'network': 'agage', 'species': 'ccl4', 'units': 'ppt', 'scale': 'sio-05', 'inlet': '70m', 'data_type': 'timeseries'}\n",
      "{'instrument': 'medusa', 'site': 'cgo', 'network': 'agage', 'species': 'ch2br2', 'units': 'ppt', 'scale': 'noaa-2003', 'inlet': '70m', 'data_type': 'timeseries'}\n",
      "{'instrument': 'medusa', 'site': 'cgo', 'network': 'agage', 'species': 'chbr3', 'units': 'ppt', 'scale': 'noaa-2003', 'inlet': '70m', 'data_type': 'timeseries'}\n",
      "{'instrument': 'gcmd', 'site': 'cgo', 'network': 'agage', 'species': 'ch3ccl3', 'units': 'ppt', 'scale': 'sio-05', 'inlet': '70m', 'data_type': 'timeseries'}\n",
      "{'instrument': 'medusa', 'site': 'cgo', 'network': 'agage', 'species': 'pce', 'units': 'ppt', 'scale': 'noaa-2003b', 'inlet': '70m', 'data_type': 'timeseries'}\n",
      "{'instrument': 'medusa', 'site': 'cgo', 'network': 'agage', 'species': 'ethyne', 'units': 'relative', 'scale': 'r1', 'inlet': '70m', 'data_type': 'timeseries'}\n",
      "{'instrument': 'medusa', 'site': 'cgo', 'network': 'agage', 'species': 'ethene', 'units': 'relative', 'scale': 'r1', 'inlet': '70m', 'data_type': 'timeseries'}\n",
      "{'instrument': 'medusa', 'site': 'cgo', 'network': 'agage', 'species': 'ethane', 'units': 'ppt', 'scale': 'sio-p', 'inlet': '70m', 'data_type': 'timeseries'}\n",
      "{'instrument': 'medusa', 'site': 'cgo', 'network': 'agage', 'species': 'propane', 'units': 'ppt', 'scale': 'empa-2015-p', 'inlet': '70m', 'data_type': 'timeseries'}\n",
      "{'instrument': 'medusa', 'site': 'cgo', 'network': 'agage', 'species': 'benzene', 'units': 'ppt', 'scale': 'ub-p', 'inlet': '70m', 'data_type': 'timeseries'}\n",
      "{'instrument': 'medusa', 'site': 'cgo', 'network': 'agage', 'species': 'toluene', 'units': 'ppt', 'scale': 'empa-p', 'inlet': '70m', 'data_type': 'timeseries'}\n",
      "{'instrument': 'medusa', 'site': 'cgo', 'network': 'agage', 'species': 'cos', 'units': 'ppt', 'scale': 'noaa-sio-p1', 'inlet': '70m', 'data_type': 'timeseries'}\n",
      "{'instrument': 'medusa', 'site': 'cgo', 'network': 'agage', 'species': 'pfc318', 'units': 'ppt', 'scale': 'sio-14', 'inlet': '70m', 'data_type': 'timeseries'}\n",
      "{'instrument': 'medusa', 'site': 'cgo', 'network': 'agage', 'species': 'c4f10', 'units': 'ppt', 'scale': 'sio-12', 'inlet': '70m', 'data_type': 'timeseries'}\n",
      "{'instrument': 'medusa', 'site': 'cgo', 'network': 'agage', 'species': 'sf5cf3', 'units': 'ppt', 'scale': 'sio-14', 'inlet': '70m', 'data_type': 'timeseries'}\n",
      "{'instrument': 'medusa', 'site': 'cgo', 'network': 'agage', 'species': 'hfc4310mee', 'units': 'ppt', 'scale': 'sio-14', 'inlet': '70m', 'data_type': 'timeseries'}\n",
      "{'instrument': 'medusa', 'site': 'cgo', 'network': 'agage', 'species': 'c6f14', 'units': 'ppt', 'scale': 'sio-12', 'inlet': '70m', 'data_type': 'timeseries'}\n",
      "{'instrument': 'medusa', 'site': 'cgo', 'network': 'agage', 'species': 'pfc318', 'units': 'ppt', 'scale': 'sio-14', 'inlet': '10m', 'data_type': 'timeseries'}\n",
      "{'instrument': 'medusa', 'site': 'cgo', 'network': 'agage', 'species': 'c4f10', 'units': 'ppt', 'scale': 'sio-12', 'inlet': '10m', 'data_type': 'timeseries'}\n",
      "{'instrument': 'medusa', 'site': 'cgo', 'network': 'agage', 'species': 'c6f14', 'units': 'ppt', 'scale': 'sio-12', 'inlet': '10m', 'data_type': 'timeseries'}\n",
      "{'instrument': 'medusa', 'site': 'cgo', 'network': 'agage', 'species': 'sf6', 'units': 'ppt', 'scale': 'sio-05', 'inlet': '10m', 'data_type': 'timeseries'}\n",
      "{'instrument': 'medusa', 'site': 'cgo', 'network': 'agage', 'species': 'sf5cf3', 'units': 'ppt', 'scale': 'sio-14', 'inlet': '10m', 'data_type': 'timeseries'}\n",
      "{'instrument': 'medusa', 'site': 'cgo', 'network': 'agage', 'species': 'hfc23', 'units': 'ppt', 'scale': 'sio-07', 'inlet': '10m', 'data_type': 'timeseries'}\n",
      "{'instrument': 'medusa', 'site': 'cgo', 'network': 'agage', 'species': 'hfc227ea', 'units': 'ppt', 'scale': 'sio-14', 'inlet': '10m', 'data_type': 'timeseries'}\n",
      "{'instrument': 'medusa', 'site': 'cgo', 'network': 'agage', 'species': 'hfc236fa', 'units': 'ppt', 'scale': 'sio-14', 'inlet': '10m', 'data_type': 'timeseries'}\n",
      "{'instrument': 'medusa', 'site': 'cgo', 'network': 'agage', 'species': 'hfc245fa', 'units': 'ppt', 'scale': 'sio-14', 'inlet': '10m', 'data_type': 'timeseries'}\n",
      "{'instrument': 'gcms', 'site': 'cgo', 'network': 'agage', 'species': 'hfc365mfc', 'units': 'ppt', 'scale': 'sio-14', 'inlet': '10m', 'data_type': 'timeseries'}\n",
      "{'instrument': 'medusa', 'site': 'cgo', 'network': 'agage', 'species': 'hfc4310mee', 'units': 'ppt', 'scale': 'sio-14', 'inlet': '10m', 'data_type': 'timeseries'}\n",
      "{'instrument': 'medusa', 'site': 'cgo', 'network': 'agage', 'species': 'hcfc132b', 'units': 'ppt', 'scale': 'metas-2017', 'inlet': '10m', 'data_type': 'timeseries'}\n",
      "{'instrument': 'medusa', 'site': 'cgo', 'network': 'agage', 'species': 'hcfc133a', 'units': 'ppt', 'scale': 'empa-2013', 'inlet': '10m', 'data_type': 'timeseries'}\n",
      "{'instrument': 'gcms', 'site': 'cgo', 'network': 'agage', 'species': 'ch2br2', 'units': 'ppt', 'scale': 'noaa-2003', 'inlet': '10m', 'data_type': 'timeseries'}\n",
      "{'instrument': 'gcms', 'site': 'cgo', 'network': 'agage', 'species': 'tce', 'units': 'ppt', 'scale': 'ub-98', 'inlet': '10m', 'data_type': 'timeseries'}\n",
      "{'instrument': 'medusa', 'site': 'cgo', 'network': 'agage', 'species': 'desflurane', 'units': 'ppt', 'scale': 'empa-2013', 'inlet': '10m', 'data_type': 'timeseries'}\n",
      "{'instrument': 'medusa', 'site': 'cgo', 'network': 'agage', 'species': 'nf3', 'units': 'ppt', 'scale': 'sio-12', 'inlet': '10m', 'data_type': 'timeseries'}\n",
      "{'instrument': 'medusa', 'site': 'cgo', 'network': 'agage', 'species': 'cfc112', 'units': 'ppt', 'scale': 'empa-p', 'inlet': '10m', 'data_type': 'timeseries'}\n",
      "{'instrument': 'medusa', 'site': 'cgo', 'network': 'agage', 'species': 'propane', 'units': 'ppt', 'scale': 'empa-2015-p', 'inlet': '10m', 'data_type': 'timeseries'}\n",
      "{'instrument': 'medusa', 'site': 'cgo', 'network': 'agage', 'species': 'cpropane', 'units': 'ppt', 'scale': 'empa-2015-p', 'inlet': '10m', 'data_type': 'timeseries'}\n",
      "{'instrument': 'gcms', 'site': 'cgo', 'network': 'agage', 'species': 'cos', 'units': 'ppt', 'scale': 'noaa-sio-p1', 'inlet': '10m', 'data_type': 'timeseries'}\n",
      "{'instrument': 'medusa', 'site': 'cgo', 'network': 'agage', 'species': 'nf3', 'units': 'ppt', 'scale': 'sio-12', 'inlet': '70m', 'data_type': 'timeseries'}\n",
      "{'instrument': 'medusa', 'site': 'cgo', 'network': 'agage', 'species': 'hfo1234yf', 'units': 'ppt', 'scale': 'metas-2017', 'inlet': '70m', 'data_type': 'timeseries'}\n",
      "{'instrument': 'medusa', 'site': 'cgo', 'network': 'agage', 'species': 'hfo1234zee', 'units': 'ppt', 'scale': 'empa-2013', 'inlet': '70m', 'data_type': 'timeseries'}\n",
      "{'instrument': 'medusa', 'site': 'cgo', 'network': 'agage', 'species': 'hcfo1233zde', 'units': 'ppt', 'scale': 'empa-2013', 'inlet': '70m', 'data_type': 'timeseries'}\n",
      "{'instrument': 'medusa', 'site': 'cgo', 'network': 'agage', 'species': 'hcfc132b', 'units': 'ppt', 'scale': 'metas-2017', 'inlet': '70m', 'data_type': 'timeseries'}\n",
      "{'instrument': 'medusa', 'site': 'cgo', 'network': 'agage', 'species': 'hcfc133a', 'units': 'ppt', 'scale': 'empa-2013', 'inlet': '70m', 'data_type': 'timeseries'}\n",
      "{'instrument': 'medusa', 'site': 'cgo', 'network': 'agage', 'species': 'cfc112', 'units': 'ppt', 'scale': 'empa-p', 'inlet': '70m', 'data_type': 'timeseries'}\n",
      "{'instrument': 'medusa', 'site': 'cgo', 'network': 'agage', 'species': 'tce', 'units': 'ppt', 'scale': 'ub-98', 'inlet': '70m', 'data_type': 'timeseries'}\n",
      "{'instrument': 'medusa', 'site': 'cgo', 'network': 'agage', 'species': 'cpropane', 'units': 'ppt', 'scale': 'empa-2015-p', 'inlet': '70m', 'data_type': 'timeseries'}\n",
      "{'instrument': 'medusa', 'site': 'cgo', 'network': 'agage', 'species': 'desflurane', 'units': 'ppt', 'scale': 'empa-2013', 'inlet': '70m', 'data_type': 'timeseries'}\n",
      "{'instrument': 'gcmd', 'site': 'cgo', 'network': 'agage', 'species': 'ch4', 'units': 'ppb', 'scale': 'tu1987', 'inlet': '10m', 'data_type': 'timeseries'}\n",
      "{'instrument': 'gcmd', 'site': 'cgo', 'network': 'agage', 'species': 'n2o', 'units': 'ppb', 'scale': 'sio-16', 'inlet': '10m', 'data_type': 'timeseries'}\n",
      "{'instrument': 'gcmd', 'site': 'cgo', 'network': 'agage', 'species': 'h2', 'units': 'ppb', 'scale': 'mpi-2009', 'inlet': '10m', 'data_type': 'timeseries'}\n",
      "{'instrument': 'gcmd', 'site': 'cgo', 'network': 'agage', 'species': 'co', 'units': 'ppb', 'scale': 'csiro-94', 'inlet': '10m', 'data_type': 'timeseries'}\n",
      "{'instrument': 'gcmd', 'site': 'cgo', 'network': 'agage', 'species': 'ch4', 'units': 'ppb', 'scale': 'tu1987', 'inlet': '70m', 'data_type': 'timeseries'}\n",
      "{'instrument': 'gcmd', 'site': 'cgo', 'network': 'agage', 'species': 'n2o', 'units': 'ppb', 'scale': 'sio-16', 'inlet': '70m', 'data_type': 'timeseries'}\n",
      "{'instrument': 'gcmd', 'site': 'cgo', 'network': 'agage', 'species': 'h2', 'units': 'ppb', 'scale': 'mpi-2009', 'inlet': '70m', 'data_type': 'timeseries'}\n",
      "{'instrument': 'gcmd', 'site': 'cgo', 'network': 'agage', 'species': 'co', 'units': 'ppb', 'scale': 'csiro-94', 'inlet': '70m', 'data_type': 'timeseries'}\n",
      "{'instrument': 'gcmd', 'site': 'cgo', 'network': 'agage', 'species': 'ne_pdd', 'units': 'na', 'scale': 'na', 'inlet': '70m', 'data_type': 'timeseries'}\n",
      "{'instrument': 'gcmd', 'site': 'cgo', 'network': 'agage', 'species': 'h2_pdd', 'units': 'ppb', 'scale': 'mpi-2009', 'inlet': '70m', 'data_type': 'timeseries'}\n",
      "{'instrument': 'gcmd', 'site': 'cgo', 'network': 'agage', 'species': 'ne_pdd', 'units': 'na', 'scale': 'na', 'inlet': '10m', 'data_type': 'timeseries'}\n",
      "{'instrument': 'gcmd', 'site': 'cgo', 'network': 'agage', 'species': 'h2_pdd', 'units': 'ppb', 'scale': 'mpi-2009', 'inlet': '10m', 'data_type': 'timeseries'}\n",
      "All inputs match: True\n"
     ]
    }
   ],
   "source": [
    "# Checking capital letter site codes (common syntax)\n",
    "search_and_print(site=\"CGO\")"
   ]
  },
  {
   "cell_type": "code",
   "execution_count": 14,
   "id": "appreciated-question",
   "metadata": {},
   "outputs": [
    {
     "name": "stdout",
     "output_type": "stream",
     "text": [
      "Number of outputs: 22\n",
      "{'instrument': 'gcmd', 'site': 'cgo', 'network': 'agage', 'species': 'cfc11', 'units': 'ppt', 'scale': 'sio-05', 'inlet': '10m', 'data_type': 'timeseries'}\n",
      "{'instrument': 'gcmd', 'site': 'cgo', 'network': 'agage', 'species': 'cfc12', 'units': 'ppt', 'scale': 'sio-05', 'inlet': '10m', 'data_type': 'timeseries'}\n",
      "{'instrument': 'gcmd', 'site': 'cgo', 'network': 'agage', 'species': 'cfc113', 'units': 'ppt', 'scale': 'sio-05', 'inlet': '10m', 'data_type': 'timeseries'}\n",
      "{'instrument': 'gcmd', 'site': 'cgo', 'network': 'agage', 'species': 'ccl4', 'units': 'ppt', 'scale': 'sio-05', 'inlet': '10m', 'data_type': 'timeseries'}\n",
      "{'instrument': 'gcmd', 'site': 'cgo', 'network': 'agage', 'species': 'cfc11', 'units': 'ppt', 'scale': 'sio-05', 'inlet': '70m', 'data_type': 'timeseries'}\n",
      "{'instrument': 'gcmd', 'site': 'cgo', 'network': 'agage', 'species': 'cfc12', 'units': 'ppt', 'scale': 'sio-05', 'inlet': '70m', 'data_type': 'timeseries'}\n",
      "{'instrument': 'gcmd', 'site': 'cgo', 'network': 'agage', 'species': 'cfc113', 'units': 'ppt', 'scale': 'sio-05', 'inlet': '70m', 'data_type': 'timeseries'}\n",
      "{'instrument': 'gcmd', 'site': 'cgo', 'network': 'agage', 'species': 'chcl3', 'units': 'ppt', 'scale': 'sio-98', 'inlet': '70m', 'data_type': 'timeseries'}\n",
      "{'instrument': 'gcmd', 'site': 'cgo', 'network': 'agage', 'species': 'ccl4', 'units': 'ppt', 'scale': 'sio-05', 'inlet': '70m', 'data_type': 'timeseries'}\n",
      "{'instrument': 'gcmd', 'site': 'cgo', 'network': 'agage', 'species': 'ch3ccl3', 'units': 'ppt', 'scale': 'sio-05', 'inlet': '70m', 'data_type': 'timeseries'}\n",
      "{'instrument': 'gcmd', 'site': 'cgo', 'network': 'agage', 'species': 'ch4', 'units': 'ppb', 'scale': 'tu1987', 'inlet': '10m', 'data_type': 'timeseries'}\n",
      "{'instrument': 'gcmd', 'site': 'cgo', 'network': 'agage', 'species': 'n2o', 'units': 'ppb', 'scale': 'sio-16', 'inlet': '10m', 'data_type': 'timeseries'}\n",
      "{'instrument': 'gcmd', 'site': 'cgo', 'network': 'agage', 'species': 'h2', 'units': 'ppb', 'scale': 'mpi-2009', 'inlet': '10m', 'data_type': 'timeseries'}\n",
      "{'instrument': 'gcmd', 'site': 'cgo', 'network': 'agage', 'species': 'co', 'units': 'ppb', 'scale': 'csiro-94', 'inlet': '10m', 'data_type': 'timeseries'}\n",
      "{'instrument': 'gcmd', 'site': 'cgo', 'network': 'agage', 'species': 'ch4', 'units': 'ppb', 'scale': 'tu1987', 'inlet': '70m', 'data_type': 'timeseries'}\n",
      "{'instrument': 'gcmd', 'site': 'cgo', 'network': 'agage', 'species': 'n2o', 'units': 'ppb', 'scale': 'sio-16', 'inlet': '70m', 'data_type': 'timeseries'}\n",
      "{'instrument': 'gcmd', 'site': 'cgo', 'network': 'agage', 'species': 'h2', 'units': 'ppb', 'scale': 'mpi-2009', 'inlet': '70m', 'data_type': 'timeseries'}\n",
      "{'instrument': 'gcmd', 'site': 'cgo', 'network': 'agage', 'species': 'co', 'units': 'ppb', 'scale': 'csiro-94', 'inlet': '70m', 'data_type': 'timeseries'}\n",
      "{'instrument': 'gcmd', 'site': 'cgo', 'network': 'agage', 'species': 'ne_pdd', 'units': 'na', 'scale': 'na', 'inlet': '70m', 'data_type': 'timeseries'}\n",
      "{'instrument': 'gcmd', 'site': 'cgo', 'network': 'agage', 'species': 'h2_pdd', 'units': 'ppb', 'scale': 'mpi-2009', 'inlet': '70m', 'data_type': 'timeseries'}\n",
      "{'instrument': 'gcmd', 'site': 'cgo', 'network': 'agage', 'species': 'ne_pdd', 'units': 'na', 'scale': 'na', 'inlet': '10m', 'data_type': 'timeseries'}\n",
      "{'instrument': 'gcmd', 'site': 'cgo', 'network': 'agage', 'species': 'h2_pdd', 'units': 'ppb', 'scale': 'mpi-2009', 'inlet': '10m', 'data_type': 'timeseries'}\n",
      "All inputs match: True\n"
     ]
    }
   ],
   "source": [
    "# Checking instrument input\n",
    "search_and_print(site=\"cgo\", instrument=\"gcmd\")"
   ]
  },
  {
   "cell_type": "code",
   "execution_count": 15,
   "id": "cross-butler",
   "metadata": {},
   "outputs": [
    {
     "name": "stdout",
     "output_type": "stream",
     "text": [
      "Number of outputs: 1\n",
      "{'site': 'tac', 'instrument': 'picarro', 'time_resolution': '1_minute', 'inlet': '185m', 'port': '10', 'type': 'air', 'network': 'decc', 'species': 'co2', 'scale': 'wmo-x2007', 'data_type': 'timeseries'}\n",
      "All inputs match: True\n"
     ]
    }
   ],
   "source": [
    "# Checking lots of combined inputs (and a different instrument)\n",
    "# to get a unique entry\n",
    "search_and_print(site=\"tac\", instrument=\"picarro\", inlet=\"185m\",\n",
    "                species=\"co2\")"
   ]
  }
 ],
 "metadata": {
  "kernelspec": {
   "display_name": "Python 3",
   "language": "python",
   "name": "python3"
  },
  "language_info": {
   "codemirror_mode": {
    "name": "ipython",
    "version": 3
   },
   "file_extension": ".py",
   "mimetype": "text/x-python",
   "name": "python",
   "nbconvert_exporter": "python",
   "pygments_lexer": "ipython3",
   "version": "3.7.4"
  }
 },
 "nbformat": 4,
 "nbformat_minor": 5
}
