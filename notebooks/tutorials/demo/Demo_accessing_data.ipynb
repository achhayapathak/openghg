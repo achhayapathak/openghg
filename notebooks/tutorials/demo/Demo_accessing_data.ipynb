{
 "cells": [
  {
   "cell_type": "markdown",
   "metadata": {},
   "source": [
    "# OpenGHG for users: accessing and interrogating data"
   ]
  },
  {
   "cell_type": "code",
   "execution_count": null,
   "metadata": {},
   "outputs": [],
   "source": [
    "from openghg.objectstore import visualise_store\n",
    "from openghg.localclient import get_obs_surface, RankSources\n",
    "from openghg.processing import search, get_footprint, footprints_data_merge, get_flux\n",
    "from openghg.plotting import plot_footprint\n",
    "\n",
    "import sys\n",
    "import matplotlib.pyplot as plt\n",
    "import pprint\n",
    "\n",
    "sys.path.insert(0, \"../../../../openghg-plotting/\")\n",
    "pp = pprint.PrettyPrinter(indent=4)\n",
    "\n",
    "from ukghg_maps import plot_flux\n",
    "\n",
    "%load_ext autoreload\n",
    "%autoreload 2"
   ]
  },
  {
   "cell_type": "markdown",
   "metadata": {},
   "source": [
    "## Check measurement data available\n",
    "\n",
    "We can first check what measurements are currently available within the object store for you to view. \n",
    "\n",
    "*Note: not all data will be available for all users to view depending on permissions set*"
   ]
  },
  {
   "cell_type": "code",
   "execution_count": null,
   "metadata": {
    "scrolled": false
   },
   "outputs": [],
   "source": [
    "visualise_store()"
   ]
  },
  {
   "cell_type": "markdown",
   "metadata": {},
   "source": [
    "## Accessing the measurement data\n",
    "\n",
    "You can access the available measurement data using a set of keywords"
   ]
  },
  {
   "cell_type": "code",
   "execution_count": null,
   "metadata": {},
   "outputs": [],
   "source": [
    "site = \"bsd\" # Site code - BSD is for Bilsdate\n",
    "species = \"co\" # Species name - carbon monoxide\n",
    "inlet = \"248m\" # Specific inlet height for this site\n",
    "\n",
    "observations = get_obs_surface(site=site, species=species, inlet=inlet)"
   ]
  },
  {
   "cell_type": "markdown",
   "metadata": {},
   "source": [
    "The `observations` variable contains both the measurement data and the associated metadata for the data source. The metadata can be viewed:"
   ]
  },
  {
   "cell_type": "code",
   "execution_count": null,
   "metadata": {},
   "outputs": [],
   "source": [
    "observations.metadata"
   ]
  },
  {
   "cell_type": "markdown",
   "metadata": {},
   "source": [
    "### Tell `matplotlib` we're plotting within a notebook"
   ]
  },
  {
   "cell_type": "code",
   "execution_count": null,
   "metadata": {},
   "outputs": [],
   "source": [
    "%matplotlib inline"
   ]
  },
  {
   "cell_type": "markdown",
   "metadata": {},
   "source": [
    "The data can be extracted (as an xarray Dataset) and quickly plotted:"
   ]
  },
  {
   "cell_type": "code",
   "execution_count": null,
   "metadata": {},
   "outputs": [],
   "source": [
    "data = observations.data\n",
    "mol_frac = data.mf\n",
    "mol_frac.plot()"
   ]
  },
  {
   "cell_type": "markdown",
   "metadata": {},
   "source": [
    "## Within dates"
   ]
  },
  {
   "cell_type": "code",
   "execution_count": null,
   "metadata": {},
   "outputs": [],
   "source": [
    "site = \"hfd\"\n",
    "species = \"co2\"\n",
    "inlet = \"50m\"\n",
    "start_date = \"2017-03-01\"\n",
    "end_date = \"2017-03-30\"\n",
    "\n",
    "observations = get_obs_surface(site=site, species=species, inlet=inlet, start_date=start_date, end_date=end_date)"
   ]
  },
  {
   "cell_type": "code",
   "execution_count": null,
   "metadata": {},
   "outputs": [],
   "source": [
    "observations.data"
   ]
  },
  {
   "cell_type": "code",
   "execution_count": null,
   "metadata": {},
   "outputs": [],
   "source": [
    "mol_frac = observations.data.mf\n",
    "mol_frac.plot()"
   ]
  },
  {
   "cell_type": "markdown",
   "metadata": {},
   "source": [
    "## Less exact searches"
   ]
  },
  {
   "cell_type": "markdown",
   "metadata": {},
   "source": [
    "Search for all carbon dioxide measurements in the object store"
   ]
  },
  {
   "cell_type": "code",
   "execution_count": null,
   "metadata": {},
   "outputs": [],
   "source": [
    "results = search(species=\"co2\", skip_ranking=True)"
   ]
  },
  {
   "cell_type": "code",
   "execution_count": null,
   "metadata": {},
   "outputs": [],
   "source": [
    "results"
   ]
  },
  {
   "cell_type": "markdown",
   "metadata": {},
   "source": [
    "Examine the raw data underneath"
   ]
  },
  {
   "cell_type": "code",
   "execution_count": null,
   "metadata": {
    "scrolled": false
   },
   "outputs": [],
   "source": [
    "pp.pprint(results.raw())"
   ]
  },
  {
   "cell_type": "code",
   "execution_count": null,
   "metadata": {},
   "outputs": [],
   "source": [
    "tac_co2 = results.retrieve(species=\"co2\", site=\"tac\", inlet=\"185m\")\n",
    "data = tac_co2.data\n",
    "data"
   ]
  },
  {
   "cell_type": "code",
   "execution_count": null,
   "metadata": {},
   "outputs": [],
   "source": [
    "tac_co2.metadata"
   ]
  },
  {
   "cell_type": "code",
   "execution_count": null,
   "metadata": {},
   "outputs": [],
   "source": [
    "mol_frac = data.co2\n",
    "mol_frac.plot()"
   ]
  },
  {
   "cell_type": "markdown",
   "metadata": {},
   "source": [
    "### Heathfield instead of Tacolneston"
   ]
  },
  {
   "cell_type": "code",
   "execution_count": null,
   "metadata": {},
   "outputs": [],
   "source": [
    "hfd_co2 = results.retrieve(species=\"co2\", site=\"hfd\", inlet=\"50m\")\n",
    "mol_frac = hfd_co2.data.co2\n",
    "mol_frac.plot()"
   ]
  },
  {
   "cell_type": "markdown",
   "metadata": {},
   "source": [
    "### All data from a site"
   ]
  },
  {
   "cell_type": "code",
   "execution_count": null,
   "metadata": {},
   "outputs": [],
   "source": [
    "results = search(site=\"BSD\", skip_ranking=True)"
   ]
  },
  {
   "cell_type": "code",
   "execution_count": null,
   "metadata": {},
   "outputs": [],
   "source": [
    "results"
   ]
  },
  {
   "cell_type": "code",
   "execution_count": null,
   "metadata": {},
   "outputs": [],
   "source": [
    "sf6_data = results.retrieve(species=\"sf6\", site=\"bsd\", inlet=\"248m\")"
   ]
  },
  {
   "cell_type": "code",
   "execution_count": null,
   "metadata": {},
   "outputs": [],
   "source": [
    "mol_frac = sf6_data.data.sf6\n",
    "mol_frac.plot()"
   ]
  },
  {
   "cell_type": "markdown",
   "metadata": {},
   "source": [
    "## Ranking inlets\n",
    "\n",
    "If we want to prefer data from a specific inlet at a site we can give that inlet a rank. Higher ranked data will be preferred over lower rank data."
   ]
  },
  {
   "cell_type": "markdown",
   "metadata": {},
   "source": [
    "### Set some ranks"
   ]
  },
  {
   "cell_type": "markdown",
   "metadata": {},
   "source": [
    "First we find the the sources we want to rank"
   ]
  },
  {
   "cell_type": "code",
   "execution_count": null,
   "metadata": {},
   "outputs": [],
   "source": [
    "r = RankSources()\n",
    "r.get_sources(site=\"tac\", species=\"co\")"
   ]
  },
  {
   "cell_type": "code",
   "execution_count": null,
   "metadata": {},
   "outputs": [],
   "source": [
    "r.set_rank(key=\"co_54m_lgr\", rank=1, start_date=\"2016-09-01\", end_date=\"2017-06-01\")\n",
    "r.set_rank(key=\"co_100m_lgr\", rank=1, start_date=\"2017-06-02\", end_date=\"2019-03-03\")\n",
    "r.set_rank(key=\"co_185m_lgr\", rank=1, start_date=\"2019-03-03\", end_date=\"2021-06-01\")"
   ]
  },
  {
   "cell_type": "code",
   "execution_count": null,
   "metadata": {},
   "outputs": [],
   "source": [
    "r.get_sources(site=\"tac\", species=\"co\")"
   ]
  },
  {
   "cell_type": "code",
   "execution_count": null,
   "metadata": {},
   "outputs": [],
   "source": [
    "tac_data = search(site=\"tac\", species=\"co\").retrieve(site=\"tac\", species=\"co\")"
   ]
  },
  {
   "cell_type": "code",
   "execution_count": null,
   "metadata": {},
   "outputs": [],
   "source": [
    "tac_data"
   ]
  },
  {
   "cell_type": "code",
   "execution_count": null,
   "metadata": {},
   "outputs": [],
   "source": [
    "tac_data.metadata[\"rank_metadata\"]"
   ]
  },
  {
   "cell_type": "code",
   "execution_count": null,
   "metadata": {},
   "outputs": [],
   "source": [
    "mol_frac = tac_data.data.co\n",
    "mol_frac.plot()"
   ]
  },
  {
   "cell_type": "markdown",
   "metadata": {},
   "source": [
    "## Comparing to predictions\n",
    "\n",
    "OpenGHG provides tools which allow calculation of predicted measurements based on emissions sources, where the appropriate data is available.\n",
    "\n",
    "This is done by aggregrating sensitivity maps (footprints) for a given site and an emissions map covering the same region."
   ]
  },
  {
   "cell_type": "markdown",
   "metadata": {},
   "source": [
    "### Retrieve some footprints"
   ]
  },
  {
   "cell_type": "markdown",
   "metadata": {},
   "source": [
    "Here we retrieve a footprint by itself"
   ]
  },
  {
   "cell_type": "code",
   "execution_count": null,
   "metadata": {},
   "outputs": [],
   "source": [
    "footprint = get_footprint(site=\"TAC\", domain=\"europe\", height=\"185m\", start_date=\"2021-02-01\")"
   ]
  },
  {
   "cell_type": "code",
   "execution_count": null,
   "metadata": {},
   "outputs": [],
   "source": [
    "fp_data = footprint.data\n",
    "fp_data"
   ]
  },
  {
   "cell_type": "markdown",
   "metadata": {},
   "source": [
    "### Plot the footprint"
   ]
  },
  {
   "cell_type": "markdown",
   "metadata": {},
   "source": [
    "We can have a quick look at the footprint using an OpenGHG helper function. We plan to pull the plotting functionality out into an `openghg-plotting` package as packages like cartopy can introduce complicated dependencies of their own."
   ]
  },
  {
   "cell_type": "code",
   "execution_count": null,
   "metadata": {},
   "outputs": [],
   "source": [
    "plot_footprint(data=fp_data, label=\"Footprint\")"
   ]
  },
  {
   "cell_type": "markdown",
   "metadata": {},
   "source": [
    "### Merge a footprint and some data together into a single Dataset"
   ]
  },
  {
   "cell_type": "markdown",
   "metadata": {},
   "source": [
    "For this we use the `footprints_data_merge` function from the `processing` module."
   ]
  },
  {
   "cell_type": "code",
   "execution_count": null,
   "metadata": {},
   "outputs": [],
   "source": [
    "start_date = \"2012-01-01\"\n",
    "end_date = \"2013-01-01\"\n",
    "\n",
    "site = \"tac\" \n",
    "height = \"100m\"\n",
    "species = \"ch4\"\n",
    "domain =\"EUROPE\"\n",
    "model = \"NAME\"\n",
    "network = \"decc\"\n",
    "source = \"anthro\"\n",
    "\n",
    "combined_data = footprints_data_merge(site=site, height=height, network=network, domain=domain, \n",
    "                                    start_date=start_date, end_date=end_date, species=species,\n",
    "                                    flux_sources=source, load_flux=True, calc_timeseries=True)\n",
    "    \n",
    "data = combined_data.data"
   ]
  },
  {
   "cell_type": "markdown",
   "metadata": {},
   "source": [
    "Have a quick look at the Dataset"
   ]
  },
  {
   "cell_type": "code",
   "execution_count": null,
   "metadata": {},
   "outputs": [],
   "source": [
    "data"
   ]
  },
  {
   "cell_type": "markdown",
   "metadata": {},
   "source": [
    "Calculate modelled mole fraction based on emissions estimate and add a sensible baseline"
   ]
  },
  {
   "cell_type": "code",
   "execution_count": null,
   "metadata": {},
   "outputs": [],
   "source": [
    "mf = data.mf\n",
    "mf_mod = data.mf_mod\n",
    "baseline = mf.quantile(0.01).drop(\"quantile\")\n",
    "mf_mod = mf_mod + baseline\n",
    "\n",
    "print(f\"Estimating baseline based on 1st percentile of data: {baseline.values}\")"
   ]
  },
  {
   "cell_type": "code",
   "execution_count": null,
   "metadata": {},
   "outputs": [],
   "source": [
    "fig, ax = plt.subplots()\n",
    "\n",
    "mf.plot(marker=\"x\", ax=ax, label=\"Measured mole fraction\")\n",
    "mf_mod.plot(marker=\"o\", ax=ax, label=\"Modelled mole fraction\")\n",
    "\n",
    "ax.legend()"
   ]
  },
  {
   "cell_type": "markdown",
   "metadata": {},
   "source": [
    "## Retrieving emissions / flux data\n",
    "\n",
    "Any emissions data itself can be viewed through OpenGHG. Some simple plotting functions are provided and will be available as part of the `openghg-plotting` package."
   ]
  },
  {
   "cell_type": "code",
   "execution_count": null,
   "metadata": {},
   "outputs": [],
   "source": [
    "em_data = get_flux(species=\"ch4\", sources=\"anthro\", domain=\"europe\", start_date=\"2012\", end_date=\"2012\")\n"
   ]
  },
  {
   "cell_type": "code",
   "execution_count": null,
   "metadata": {},
   "outputs": [],
   "source": [
    "em_data"
   ]
  },
  {
   "cell_type": "code",
   "execution_count": null,
   "metadata": {},
   "outputs": [],
   "source": [
    "flux_data = em_data.data.flux"
   ]
  },
  {
   "cell_type": "markdown",
   "metadata": {},
   "source": [
    "Now we can make a quick plot to have a look at the data"
   ]
  },
  {
   "cell_type": "code",
   "execution_count": null,
   "metadata": {},
   "outputs": [],
   "source": [
    "plot_flux(flux=flux_data)"
   ]
  },
  {
   "cell_type": "code",
   "execution_count": null,
   "metadata": {},
   "outputs": [],
   "source": []
  }
 ],
 "metadata": {
  "kernelspec": {
   "display_name": "Python 3",
   "language": "python",
   "name": "python3"
  },
  "language_info": {
   "codemirror_mode": {
    "name": "ipython",
    "version": 3
   },
   "file_extension": ".py",
   "mimetype": "text/x-python",
   "name": "python",
   "nbconvert_exporter": "python",
   "pygments_lexer": "ipython3",
   "version": "3.8.5"
  }
 },
 "nbformat": 4,
 "nbformat_minor": 2
}
