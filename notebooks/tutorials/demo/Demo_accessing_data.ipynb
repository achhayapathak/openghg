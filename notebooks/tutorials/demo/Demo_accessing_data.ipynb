{
 "cells": [
  {
   "cell_type": "markdown",
   "metadata": {},
   "source": [
    "# OpenGHG for users: accessing and interrogating data"
   ]
  },
  {
   "cell_type": "code",
   "execution_count": 1,
   "metadata": {},
   "outputs": [
    {
     "name": "stderr",
     "output_type": "stream",
     "text": [
      "INFO:numexpr.utils:NumExpr defaulting to 8 threads.\n"
     ]
    }
   ],
   "source": [
    "from openghg.objectstore import visualise_store\n",
    "from openghg.localclient import get_obs_surface\n",
    "from openghg.processing import search, get_footprint, footprints_data_merge\n",
    "from openghg.plotting import plot_footprint\n",
    "import matplotlib.pyplot as plt\n",
    "\n",
    "%load_ext autoreload\n",
    "%autoreload 2"
   ]
  },
  {
   "cell_type": "markdown",
   "metadata": {},
   "source": [
    "## Check measurement data available\n",
    "\n",
    "We can first check what measurements are currently available within the object store for you to view. \n",
    "\n",
    "*Note: not all data will be available for all users to view depending on permissions set*"
   ]
  },
  {
   "cell_type": "code",
   "execution_count": 2,
   "metadata": {
    "scrolled": false
   },
   "outputs": [
    {
     "data": {
      "text/html": [
       "\n",
       "        <iframe\n",
       "            width=\"100%\"\n",
       "            height=\"800px\"\n",
       "            src=\"openghg_objstore.html\"\n",
       "            frameborder=\"0\"\n",
       "            allowfullscreen\n",
       "        ></iframe>\n",
       "        "
      ],
      "text/plain": [
       "<IPython.lib.display.IFrame at 0x7ffab0ac3d30>"
      ]
     },
     "execution_count": 2,
     "metadata": {},
     "output_type": "execute_result"
    }
   ],
   "source": [
    "visualise_store()"
   ]
  },
  {
   "cell_type": "markdown",
   "metadata": {},
   "source": [
    "## Accessing the measurement data\n",
    "\n",
    "You can access the available measurement data using a set of keywords"
   ]
  },
  {
   "cell_type": "code",
   "execution_count": 3,
   "metadata": {},
   "outputs": [
    {
     "name": "stdout",
     "output_type": "stream",
     "text": [
      "BSD co 248m\n"
     ]
    }
   ],
   "source": [
    "site = \"bsd\" # Site code - BSD is for Bilsdate\n",
    "species = \"co\" # Species name - carbon monoxide\n",
    "inlet = \"248m\" # Specific inlet height for this site\n",
    "\n",
    "observations = get_obs_surface(site=site, species=species, inlet=inlet)"
   ]
  },
  {
   "cell_type": "markdown",
   "metadata": {},
   "source": [
    "The `observations` variable contains both the measurement data and the associated metadata for the data source. The metadata can be viewed:"
   ]
  },
  {
   "cell_type": "code",
   "execution_count": 4,
   "metadata": {},
   "outputs": [
    {
     "data": {
      "text/plain": [
       "{'site': 'bsd',\n",
       " 'instrument': 'picarro5310',\n",
       " 'sampling_period': '60',\n",
       " 'inlet': '248m',\n",
       " 'port': '1',\n",
       " 'type': 'air',\n",
       " 'network': 'decc',\n",
       " 'species': 'co',\n",
       " 'scale': 'WMO-X2014A',\n",
       " 'data_type': 'timeseries',\n",
       " 'data_owner': \"Simon O'Doherty\",\n",
       " 'data_owner_email': 's.odoherty@bristol.ac.uk',\n",
       " 'inlet_height_magl': '248m',\n",
       " 'comment': 'Cavity ring-down measurements. Output from GCWerks',\n",
       " 'Conditions of use': 'Ensure that you contact the data owner at the outset of your project.',\n",
       " 'Source': 'In situ measurements of air',\n",
       " 'Conventions': 'CF-1.6',\n",
       " 'File created': '2021-08-12 17:37:05.158919+00:00',\n",
       " 'Processed by': 'OpenGHG_Cloud',\n",
       " 'station_longitude': -1.15033,\n",
       " 'station_latitude': 54.35858,\n",
       " 'station_long_name': 'Bilsdale, UK',\n",
       " 'station_height_masl': 380.0}"
      ]
     },
     "execution_count": 4,
     "metadata": {},
     "output_type": "execute_result"
    }
   ],
   "source": [
    "observations.metadata"
   ]
  },
  {
   "cell_type": "markdown",
   "metadata": {},
   "source": [
    "### Tell `matplotlib` we're plotting within a notebook"
   ]
  },
  {
   "cell_type": "code",
   "execution_count": 5,
   "metadata": {},
   "outputs": [],
   "source": [
    "%matplotlib inline"
   ]
  },
  {
   "cell_type": "markdown",
   "metadata": {},
   "source": [
    "The data can be extracted (as an xarray Dataset) and quickly plotted:"
   ]
  },
  {
   "cell_type": "code",
   "execution_count": 6,
   "metadata": {},
   "outputs": [
    {
     "data": {
      "text/plain": [
       "[<matplotlib.lines.Line2D at 0x7ffab0a42040>]"
      ]
     },
     "execution_count": 6,
     "metadata": {},
     "output_type": "execute_result"
    },
    {
     "data": {
      "image/png": "[encoded data removed]",
      "text/plain": [
       "<Figure size 432x288 with 1 Axes>"
      ]
     },
     "metadata": {
      "needs_background": "light"
     },
     "output_type": "display_data"
    }
   ],
   "source": [
    "data = observations.data\n",
    "mol_frac = data.mf\n",
    "mol_frac.plot()"
   ]
  },
  {
   "cell_type": "markdown",
   "metadata": {},
   "source": [
    "## Within dates"
   ]
  },
  {
   "cell_type": "code",
   "execution_count": 7,
   "metadata": {},
   "outputs": [
    {
     "name": "stdout",
     "output_type": "stream",
     "text": [
      "HFD co2 50m\n"
     ]
    }
   ],
   "source": [
    "site = \"hfd\"\n",
    "species = \"co2\"\n",
    "inlet = \"50m\"\n",
    "start_date = \"2017-03-01\"\n",
    "end_date = \"2017-03-30\"\n",
    "\n",
    "observations = get_obs_surface(site=site, species=species, inlet=inlet, start_date=start_date, end_date=end_date)"
   ]
  },
  {
   "cell_type": "code",
   "execution_count": 8,
   "metadata": {},
   "outputs": [
    {
     "data": {
      "text/html": [
       "<div><svg style=\"position: absolute; width: 0; height: 0; overflow: hidden\">\n",
       "<defs>\n",
       "<symbol id=\"icon-database\" viewBox=\"0 0 32 32\">\n",
       "<path d=\"M16 0c-8.837 0-16 2.239-16 5v4c0 2.761 7.163 5 16 5s16-2.239 16-5v-4c0-2.761-7.163-5-16-5z\"></path>\n",
       "<path d=\"M16 17c-8.837 0-16-2.239-16-5v6c0 2.761 7.163 5 16 5s16-2.239 16-5v-6c0 2.761-7.163 5-16 5z\"></path>\n",
       "<path d=\"M16 26c-8.837 0-16-2.239-16-5v6c0 2.761 7.163 5 16 5s16-2.239 16-5v-6c0 2.761-7.163 5-16 5z\"></path>\n",
       "</symbol>\n",
       "<symbol id=\"icon-file-text2\" viewBox=\"0 0 32 32\">\n",
       "<path d=\"M28.681 7.159c-0.694-0.947-1.662-2.053-2.724-3.116s-2.169-2.030-3.116-2.724c-1.612-1.182-2.393-1.319-2.841-1.319h-15.5c-1.378 0-2.5 1.121-2.5 2.5v27c0 1.378 1.122 2.5 2.5 2.5h23c1.378 0 2.5-1.122 2.5-2.5v-19.5c0-0.448-0.137-1.23-1.319-2.841zM24.543 5.457c0.959 0.959 1.712 1.825 2.268 2.543h-4.811v-4.811c0.718 0.556 1.584 1.309 2.543 2.268zM28 29.5c0 0.271-0.229 0.5-0.5 0.5h-23c-0.271 0-0.5-0.229-0.5-0.5v-27c0-0.271 0.229-0.5 0.5-0.5 0 0 15.499-0 15.5 0v7c0 0.552 0.448 1 1 1h7v19.5z\"></path>\n",
       "<path d=\"M23 26h-14c-0.552 0-1-0.448-1-1s0.448-1 1-1h14c0.552 0 1 0.448 1 1s-0.448 1-1 1z\"></path>\n",
       "<path d=\"M23 22h-14c-0.552 0-1-0.448-1-1s0.448-1 1-1h14c0.552 0 1 0.448 1 1s-0.448 1-1 1z\"></path>\n",
       "<path d=\"M23 18h-14c-0.552 0-1-0.448-1-1s0.448-1 1-1h14c0.552 0 1 0.448 1 1s-0.448 1-1 1z\"></path>\n",
       "</symbol>\n",
       "</defs>\n",
       "</svg>\n",
       "<style>/* CSS stylesheet for displaying xarray objects in jupyterlab.\n",
       " *\n",
       " */\n",
       "\n",
       ":root {\n",
       "  --xr-font-color0: var(--jp-content-font-color0, rgba(0, 0, 0, 1));\n",
       "  --xr-font-color2: var(--jp-content-font-color2, rgba(0, 0, 0, 0.54));\n",
       "  --xr-font-color3: var(--jp-content-font-color3, rgba(0, 0, 0, 0.38));\n",
       "  --xr-border-color: var(--jp-border-color2, #e0e0e0);\n",
       "  --xr-disabled-color: var(--jp-layout-color3, #bdbdbd);\n",
       "  --xr-background-color: var(--jp-layout-color0, white);\n",
       "  --xr-background-color-row-even: var(--jp-layout-color1, white);\n",
       "  --xr-background-color-row-odd: var(--jp-layout-color2, #eeeeee);\n",
       "}\n",
       "\n",
       "html[theme=dark],\n",
       "body.vscode-dark {\n",
       "  --xr-font-color0: rgba(255, 255, 255, 1);\n",
       "  --xr-font-color2: rgba(255, 255, 255, 0.54);\n",
       "  --xr-font-color3: rgba(255, 255, 255, 0.38);\n",
       "  --xr-border-color: #1F1F1F;\n",
       "  --xr-disabled-color: #515151;\n",
       "  --xr-background-color: #111111;\n",
       "  --xr-background-color-row-even: #111111;\n",
       "  --xr-background-color-row-odd: #313131;\n",
       "}\n",
       "\n",
       ".xr-wrap {\n",
       "  display: block;\n",
       "  min-width: 300px;\n",
       "  max-width: 700px;\n",
       "}\n",
       "\n",
       ".xr-text-repr-fallback {\n",
       "  /* fallback to plain text repr when CSS is not injected (untrusted notebook) */\n",
       "  display: none;\n",
       "}\n",
       "\n",
       ".xr-header {\n",
       "  padding-top: 6px;\n",
       "  padding-bottom: 6px;\n",
       "  margin-bottom: 4px;\n",
       "  border-bottom: solid 1px var(--xr-border-color);\n",
       "}\n",
       "\n",
       ".xr-header > div,\n",
       ".xr-header > ul {\n",
       "  display: inline;\n",
       "  margin-top: 0;\n",
       "  margin-bottom: 0;\n",
       "}\n",
       "\n",
       ".xr-obj-type,\n",
       ".xr-array-name {\n",
       "  margin-left: 2px;\n",
       "  margin-right: 10px;\n",
       "}\n",
       "\n",
       ".xr-obj-type {\n",
       "  color: var(--xr-font-color2);\n",
       "}\n",
       "\n",
       ".xr-sections {\n",
       "  padding-left: 0 !important;\n",
       "  display: grid;\n",
       "  grid-template-columns: 150px auto auto 1fr 20px 20px;\n",
       "}\n",
       "\n",
       ".xr-section-item {\n",
       "  display: contents;\n",
       "}\n",
       "\n",
       ".xr-section-item input {\n",
       "  display: none;\n",
       "}\n",
       "\n",
       ".xr-section-item input + label {\n",
       "  color: var(--xr-disabled-color);\n",
       "}\n",
       "\n",
       ".xr-section-item input:enabled + label {\n",
       "  cursor: pointer;\n",
       "  color: var(--xr-font-color2);\n",
       "}\n",
       "\n",
       ".xr-section-item input:enabled + label:hover {\n",
       "  color: var(--xr-font-color0);\n",
       "}\n",
       "\n",
       ".xr-section-summary {\n",
       "  grid-column: 1;\n",
       "  color: var(--xr-font-color2);\n",
       "  font-weight: 500;\n",
       "}\n",
       "\n",
       ".xr-section-summary > span {\n",
       "  display: inline-block;\n",
       "  padding-left: 0.5em;\n",
       "}\n",
       "\n",
       ".xr-section-summary-in:disabled + label {\n",
       "  color: var(--xr-font-color2);\n",
       "}\n",
       "\n",
       ".xr-section-summary-in + label:before {\n",
       "  display: inline-block;\n",
       "  content: '►';\n",
       "  font-size: 11px;\n",
       "  width: 15px;\n",
       "  text-align: center;\n",
       "}\n",
       "\n",
       ".xr-section-summary-in:disabled + label:before {\n",
       "  color: var(--xr-disabled-color);\n",
       "}\n",
       "\n",
       ".xr-section-summary-in:checked + label:before {\n",
       "  content: '▼';\n",
       "}\n",
       "\n",
       ".xr-section-summary-in:checked + label > span {\n",
       "  display: none;\n",
       "}\n",
       "\n",
       ".xr-section-summary,\n",
       ".xr-section-inline-details {\n",
       "  padding-top: 4px;\n",
       "  padding-bottom: 4px;\n",
       "}\n",
       "\n",
       ".xr-section-inline-details {\n",
       "  grid-column: 2 / -1;\n",
       "}\n",
       "\n",
       ".xr-section-details {\n",
       "  display: none;\n",
       "  grid-column: 1 / -1;\n",
       "  margin-bottom: 5px;\n",
       "}\n",
       "\n",
       ".xr-section-summary-in:checked ~ .xr-section-details {\n",
       "  display: contents;\n",
       "}\n",
       "\n",
       ".xr-array-wrap {\n",
       "  grid-column: 1 / -1;\n",
       "  display: grid;\n",
       "  grid-template-columns: 20px auto;\n",
       "}\n",
       "\n",
       ".xr-array-wrap > label {\n",
       "  grid-column: 1;\n",
       "  vertical-align: top;\n",
       "}\n",
       "\n",
       ".xr-preview {\n",
       "  color: var(--xr-font-color3);\n",
       "}\n",
       "\n",
       ".xr-array-preview,\n",
       ".xr-array-data {\n",
       "  padding: 0 5px !important;\n",
       "  grid-column: 2;\n",
       "}\n",
       "\n",
       ".xr-array-data,\n",
       ".xr-array-in:checked ~ .xr-array-preview {\n",
       "  display: none;\n",
       "}\n",
       "\n",
       ".xr-array-in:checked ~ .xr-array-data,\n",
       ".xr-array-preview {\n",
       "  display: inline-block;\n",
       "}\n",
       "\n",
       ".xr-dim-list {\n",
       "  display: inline-block !important;\n",
       "  list-style: none;\n",
       "  padding: 0 !important;\n",
       "  margin: 0;\n",
       "}\n",
       "\n",
       ".xr-dim-list li {\n",
       "  display: inline-block;\n",
       "  padding: 0;\n",
       "  margin: 0;\n",
       "}\n",
       "\n",
       ".xr-dim-list:before {\n",
       "  content: '(';\n",
       "}\n",
       "\n",
       ".xr-dim-list:after {\n",
       "  content: ')';\n",
       "}\n",
       "\n",
       ".xr-dim-list li:not(:last-child):after {\n",
       "  content: ',';\n",
       "  padding-right: 5px;\n",
       "}\n",
       "\n",
       ".xr-has-index {\n",
       "  font-weight: bold;\n",
       "}\n",
       "\n",
       ".xr-var-list,\n",
       ".xr-var-item {\n",
       "  display: contents;\n",
       "}\n",
       "\n",
       ".xr-var-item > div,\n",
       ".xr-var-item label,\n",
       ".xr-var-item > .xr-var-name span {\n",
       "  background-color: var(--xr-background-color-row-even);\n",
       "  margin-bottom: 0;\n",
       "}\n",
       "\n",
       ".xr-var-item > .xr-var-name:hover span {\n",
       "  padding-right: 5px;\n",
       "}\n",
       "\n",
       ".xr-var-list > li:nth-child(odd) > div,\n",
       ".xr-var-list > li:nth-child(odd) > label,\n",
       ".xr-var-list > li:nth-child(odd) > .xr-var-name span {\n",
       "  background-color: var(--xr-background-color-row-odd);\n",
       "}\n",
       "\n",
       ".xr-var-name {\n",
       "  grid-column: 1;\n",
       "}\n",
       "\n",
       ".xr-var-dims {\n",
       "  grid-column: 2;\n",
       "}\n",
       "\n",
       ".xr-var-dtype {\n",
       "  grid-column: 3;\n",
       "  text-align: right;\n",
       "  color: var(--xr-font-color2);\n",
       "}\n",
       "\n",
       ".xr-var-preview {\n",
       "  grid-column: 4;\n",
       "}\n",
       "\n",
       ".xr-var-name,\n",
       ".xr-var-dims,\n",
       ".xr-var-dtype,\n",
       ".xr-preview,\n",
       ".xr-attrs dt {\n",
       "  white-space: nowrap;\n",
       "  overflow: hidden;\n",
       "  text-overflow: ellipsis;\n",
       "  padding-right: 10px;\n",
       "}\n",
       "\n",
       ".xr-var-name:hover,\n",
       ".xr-var-dims:hover,\n",
       ".xr-var-dtype:hover,\n",
       ".xr-attrs dt:hover {\n",
       "  overflow: visible;\n",
       "  width: auto;\n",
       "  z-index: 1;\n",
       "}\n",
       "\n",
       ".xr-var-attrs,\n",
       ".xr-var-data {\n",
       "  display: none;\n",
       "  background-color: var(--xr-background-color) !important;\n",
       "  padding-bottom: 5px !important;\n",
       "}\n",
       "\n",
       ".xr-var-attrs-in:checked ~ .xr-var-attrs,\n",
       ".xr-var-data-in:checked ~ .xr-var-data {\n",
       "  display: block;\n",
       "}\n",
       "\n",
       ".xr-var-data > table {\n",
       "  float: right;\n",
       "}\n",
       "\n",
       ".xr-var-name span,\n",
       ".xr-var-data,\n",
       ".xr-attrs {\n",
       "  padding-left: 25px !important;\n",
       "}\n",
       "\n",
       ".xr-attrs,\n",
       ".xr-var-attrs,\n",
       ".xr-var-data {\n",
       "  grid-column: 1 / -1;\n",
       "}\n",
       "\n",
       "dl.xr-attrs {\n",
       "  padding: 0;\n",
       "  margin: 0;\n",
       "  display: grid;\n",
       "  grid-template-columns: 125px auto;\n",
       "}\n",
       "\n",
       ".xr-attrs dt,\n",
       ".xr-attrs dd {\n",
       "  padding: 0;\n",
       "  margin: 0;\n",
       "  float: left;\n",
       "  padding-right: 10px;\n",
       "  width: auto;\n",
       "}\n",
       "\n",
       ".xr-attrs dt {\n",
       "  font-weight: normal;\n",
       "  grid-column: 1;\n",
       "}\n",
       "\n",
       ".xr-attrs dt:hover span {\n",
       "  display: inline-block;\n",
       "  background: var(--xr-background-color);\n",
       "  padding-right: 10px;\n",
       "}\n",
       "\n",
       ".xr-attrs dd {\n",
       "  grid-column: 2;\n",
       "  white-space: pre-wrap;\n",
       "  word-break: break-all;\n",
       "}\n",
       "\n",
       ".xr-icon-database,\n",
       ".xr-icon-file-text2 {\n",
       "  display: inline-block;\n",
       "  vertical-align: middle;\n",
       "  width: 1em;\n",
       "  height: 1.5em !important;\n",
       "  stroke-width: 0;\n",
       "  stroke: currentColor;\n",
       "  fill: currentColor;\n",
       "}\n",
       "</style><pre class='xr-text-repr-fallback'>&lt;xarray.Dataset&gt;\n",
       "Dimensions:                    (time: 19632)\n",
       "Coordinates:\n",
       "  * time                       (time) datetime64[ns] 2017-03-01T00:00:30 ... ...\n",
       "Data variables:\n",
       "    mf                         (time) float64 414.3 414.3 414.5 ... 410.2 409.8\n",
       "    mf_variability             (time) float64 0.097 0.123 0.07 ... 0.313 0.153\n",
       "    mf_number_of_observations  (time) float64 18.0 19.0 19.0 ... 19.0 19.0 7.0\n",
       "Attributes: (12/22)\n",
       "    data_owner:           Simon O&#x27;Doherty\n",
       "    data_owner_email:     s.odoherty@bristol.ac.uk\n",
       "    inlet_height_magl:    50m\n",
       "    comment:              Cavity ring-down measurements. Output from GCWerks\n",
       "    Conditions of use:    Ensure that you contact the data owner at the outse...\n",
       "    Source:               In situ measurements of air\n",
       "    ...                   ...\n",
       "    sampling_period:      60\n",
       "    inlet:                50m\n",
       "    port:                 9\n",
       "    type:                 air\n",
       "    network:              decc\n",
       "    scale:                WMO-X2007</pre><div class='xr-wrap' hidden><div class='xr-header'><div class='xr-obj-type'>xarray.Dataset</div></div><ul class='xr-sections'><li class='xr-section-item'><input id='section-66307c10-04a5-46a8-bf65-07ce24a5c47f' class='xr-section-summary-in' type='checkbox' disabled ><label for='section-66307c10-04a5-46a8-bf65-07ce24a5c47f' class='xr-section-summary'  title='Expand/collapse section'>Dimensions:</label><div class='xr-section-inline-details'><ul class='xr-dim-list'><li><span class='xr-has-index'>time</span>: 19632</li></ul></div><div class='xr-section-details'></div></li><li class='xr-section-item'><input id='section-09ee518a-0f86-4c4a-920b-f8c399bd4199' class='xr-section-summary-in' type='checkbox'  checked><label for='section-09ee518a-0f86-4c4a-920b-f8c399bd4199' class='xr-section-summary' >Coordinates: <span>(1)</span></label><div class='xr-section-inline-details'></div><div class='xr-section-details'><ul class='xr-var-list'><li class='xr-var-item'><div class='xr-var-name'><span class='xr-has-index'>time</span></div><div class='xr-var-dims'>(time)</div><div class='xr-var-dtype'>datetime64[ns]</div><div class='xr-var-preview xr-preview'>2017-03-01T00:00:30 ... 2017-03-...</div><input id='attrs-04012068-c96b-4319-a7f1-9bf748d9488a' class='xr-var-attrs-in' type='checkbox' ><label for='attrs-04012068-c96b-4319-a7f1-9bf748d9488a' title='Show/Hide attributes'><svg class='icon xr-icon-file-text2'><use xlink:href='#icon-file-text2'></use></svg></label><input id='data-7a5d8033-f822-4edf-9ac0-fb9998bff473' class='xr-var-data-in' type='checkbox'><label for='data-7a5d8033-f822-4edf-9ac0-fb9998bff473' title='Show/Hide data repr'><svg class='icon xr-icon-database'><use xlink:href='#icon-database'></use></svg></label><div class='xr-var-attrs'><dl class='xr-attrs'><dt><span>label :</span></dt><dd>left</dd><dt><span>standard_name :</span></dt><dd>time</dd><dt><span>comment :</span></dt><dd>Time stamp corresponds to beginning of sampling period. Time since midnight UTC of reference date. Note that sampling periods are approximate.</dd><dt><span>sampling_period_seconds :</span></dt><dd>60</dd></dl></div><div class='xr-var-data'><pre>array([&#x27;2017-03-01T00:00:30.000000000&#x27;, &#x27;2017-03-01T00:01:30.000000000&#x27;,\n",
       "       &#x27;2017-03-01T00:02:30.000000000&#x27;, ..., &#x27;2017-03-30T23:29:30.000000000&#x27;,\n",
       "       &#x27;2017-03-30T23:30:30.000000000&#x27;, &#x27;2017-03-30T23:31:30.000000000&#x27;],\n",
       "      dtype=&#x27;datetime64[ns]&#x27;)</pre></div></li></ul></div></li><li class='xr-section-item'><input id='section-b7062c90-5087-4e56-8e51-b1130a01a598' class='xr-section-summary-in' type='checkbox'  checked><label for='section-b7062c90-5087-4e56-8e51-b1130a01a598' class='xr-section-summary' >Data variables: <span>(3)</span></label><div class='xr-section-inline-details'></div><div class='xr-section-details'><ul class='xr-var-list'><li class='xr-var-item'><div class='xr-var-name'><span>mf</span></div><div class='xr-var-dims'>(time)</div><div class='xr-var-dtype'>float64</div><div class='xr-var-preview xr-preview'>414.3 414.3 414.5 ... 410.2 409.8</div><input id='attrs-836bdeb2-7961-465c-af13-21c08bcd3659' class='xr-var-attrs-in' type='checkbox' ><label for='attrs-836bdeb2-7961-465c-af13-21c08bcd3659' title='Show/Hide attributes'><svg class='icon xr-icon-file-text2'><use xlink:href='#icon-file-text2'></use></svg></label><input id='data-b556112a-9775-469a-88d7-1c26317758ed' class='xr-var-data-in' type='checkbox'><label for='data-b556112a-9775-469a-88d7-1c26317758ed' title='Show/Hide data repr'><svg class='icon xr-icon-database'><use xlink:href='#icon-database'></use></svg></label><div class='xr-var-attrs'><dl class='xr-attrs'><dt><span>long_name :</span></dt><dd>mole_fraction_of_carbon_dioxide_in_air</dd><dt><span>units :</span></dt><dd>1e-6</dd></dl></div><div class='xr-var-data'><pre>array([414.28, 414.33, 414.49, ..., 410.47, 410.2 , 409.79])</pre></div></li><li class='xr-var-item'><div class='xr-var-name'><span>mf_variability</span></div><div class='xr-var-dims'>(time)</div><div class='xr-var-dtype'>float64</div><div class='xr-var-preview xr-preview'>0.097 0.123 0.07 ... 0.313 0.153</div><input id='attrs-d198d37c-084b-4e04-bc3f-76fb6741ebdd' class='xr-var-attrs-in' type='checkbox' ><label for='attrs-d198d37c-084b-4e04-bc3f-76fb6741ebdd' title='Show/Hide attributes'><svg class='icon xr-icon-file-text2'><use xlink:href='#icon-file-text2'></use></svg></label><input id='data-8986417d-0f3c-4ded-84da-0c81fa09e474' class='xr-var-data-in' type='checkbox'><label for='data-8986417d-0f3c-4ded-84da-0c81fa09e474' title='Show/Hide data repr'><svg class='icon xr-icon-database'><use xlink:href='#icon-database'></use></svg></label><div class='xr-var-attrs'><dl class='xr-attrs'><dt><span>long_name :</span></dt><dd>mole_fraction_of_carbon_dioxide_in_air_variability</dd><dt><span>units :</span></dt><dd>1e-6</dd></dl></div><div class='xr-var-data'><pre>array([0.097, 0.123, 0.07 , ..., 0.307, 0.313, 0.153])</pre></div></li><li class='xr-var-item'><div class='xr-var-name'><span>mf_number_of_observations</span></div><div class='xr-var-dims'>(time)</div><div class='xr-var-dtype'>float64</div><div class='xr-var-preview xr-preview'>18.0 19.0 19.0 ... 19.0 19.0 7.0</div><input id='attrs-08347e72-70a7-4555-9419-7193a5c3c3e0' class='xr-var-attrs-in' type='checkbox' ><label for='attrs-08347e72-70a7-4555-9419-7193a5c3c3e0' title='Show/Hide attributes'><svg class='icon xr-icon-file-text2'><use xlink:href='#icon-file-text2'></use></svg></label><input id='data-068a4407-9b88-4b3e-8641-876efeef2f2a' class='xr-var-data-in' type='checkbox'><label for='data-068a4407-9b88-4b3e-8641-876efeef2f2a' title='Show/Hide data repr'><svg class='icon xr-icon-database'><use xlink:href='#icon-database'></use></svg></label><div class='xr-var-attrs'><dl class='xr-attrs'><dt><span>long_name :</span></dt><dd>mole_fraction_of_carbon_dioxide_in_air_number_of_observations</dd></dl></div><div class='xr-var-data'><pre>array([18., 19., 19., ..., 19., 19.,  7.])</pre></div></li></ul></div></li><li class='xr-section-item'><input id='section-e6b98b8a-c07a-415d-8360-0d5458e75ed7' class='xr-section-summary-in' type='checkbox'  ><label for='section-e6b98b8a-c07a-415d-8360-0d5458e75ed7' class='xr-section-summary' >Attributes: <span>(22)</span></label><div class='xr-section-inline-details'></div><div class='xr-section-details'><dl class='xr-attrs'><dt><span>data_owner :</span></dt><dd>Simon O&#x27;Doherty</dd><dt><span>data_owner_email :</span></dt><dd>s.odoherty@bristol.ac.uk</dd><dt><span>inlet_height_magl :</span></dt><dd>50m</dd><dt><span>comment :</span></dt><dd>Cavity ring-down measurements. Output from GCWerks</dd><dt><span>Conditions of use :</span></dt><dd>Ensure that you contact the data owner at the outset of your project.</dd><dt><span>Source :</span></dt><dd>In situ measurements of air</dd><dt><span>Conventions :</span></dt><dd>CF-1.6</dd><dt><span>File created :</span></dt><dd>2021-08-12 17:36:15.780613+00:00</dd><dt><span>Processed by :</span></dt><dd>OpenGHG_Cloud</dd><dt><span>species :</span></dt><dd>co2</dd><dt><span>station_longitude :</span></dt><dd>0.23048</dd><dt><span>station_latitude :</span></dt><dd>50.97675</dd><dt><span>station_long_name :</span></dt><dd>Heathfield, UK</dd><dt><span>station_height_masl :</span></dt><dd>150.0</dd><dt><span>site :</span></dt><dd>hfd</dd><dt><span>instrument :</span></dt><dd>picarro</dd><dt><span>sampling_period :</span></dt><dd>60</dd><dt><span>inlet :</span></dt><dd>50m</dd><dt><span>port :</span></dt><dd>9</dd><dt><span>type :</span></dt><dd>air</dd><dt><span>network :</span></dt><dd>decc</dd><dt><span>scale :</span></dt><dd>WMO-X2007</dd></dl></div></li></ul></div></div>"
      ],
      "text/plain": [
       "<xarray.Dataset>\n",
       "Dimensions:                    (time: 19632)\n",
       "Coordinates:\n",
       "  * time                       (time) datetime64[ns] 2017-03-01T00:00:30 ... ...\n",
       "Data variables:\n",
       "    mf                         (time) float64 414.3 414.3 414.5 ... 410.2 409.8\n",
       "    mf_variability             (time) float64 0.097 0.123 0.07 ... 0.313 0.153\n",
       "    mf_number_of_observations  (time) float64 18.0 19.0 19.0 ... 19.0 19.0 7.0\n",
       "Attributes: (12/22)\n",
       "    data_owner:           Simon O'Doherty\n",
       "    data_owner_email:     s.odoherty@bristol.ac.uk\n",
       "    inlet_height_magl:    50m\n",
       "    comment:              Cavity ring-down measurements. Output from GCWerks\n",
       "    Conditions of use:    Ensure that you contact the data owner at the outse...\n",
       "    Source:               In situ measurements of air\n",
       "    ...                   ...\n",
       "    sampling_period:      60\n",
       "    inlet:                50m\n",
       "    port:                 9\n",
       "    type:                 air\n",
       "    network:              decc\n",
       "    scale:                WMO-X2007"
      ]
     },
     "execution_count": 8,
     "metadata": {},
     "output_type": "execute_result"
    }
   ],
   "source": [
    "observations.data"
   ]
  },
  {
   "cell_type": "code",
   "execution_count": 9,
   "metadata": {},
   "outputs": [
    {
     "data": {
      "text/plain": [
       "[<matplotlib.lines.Line2D at 0x7ffaac8f4e80>]"
      ]
     },
     "execution_count": 9,
     "metadata": {},
     "output_type": "execute_result"
    },
    {
     "data": {
      "image/png": "[encoded data removed]",
      "text/plain": [
       "<Figure size 432x288 with 1 Axes>"
      ]
     },
     "metadata": {
      "needs_background": "light"
     },
     "output_type": "display_data"
    }
   ],
   "source": [
    "mol_frac = observations.data.mf\n",
    "mol_frac.plot()"
   ]
  },
  {
   "cell_type": "markdown",
   "metadata": {},
   "source": [
    "## Less exact searches"
   ]
  },
  {
   "cell_type": "markdown",
   "metadata": {},
   "source": [
    "Search for all carbon dioxide measurements in the object store"
   ]
  },
  {
   "cell_type": "code",
   "execution_count": 10,
   "metadata": {},
   "outputs": [],
   "source": [
    "results = search(species=\"co2\", skip_ranking=True)"
   ]
  },
  {
   "cell_type": "code",
   "execution_count": 11,
   "metadata": {},
   "outputs": [
    {
     "data": {
      "text/plain": [
       "Site: RPB\n",
       "---------\n",
       "co2 at 12m\n",
       "\n",
       "\n",
       "Site: HFD\n",
       "---------\n",
       "co2 at 50m, 100m\n",
       "\n",
       "\n",
       "Site: BSD\n",
       "---------\n",
       "co2 at 42m, 248m, 108m\n",
       "\n",
       "\n",
       "Site: TTA\n",
       "---------\n",
       "co2 at 222m\n",
       "\n",
       "\n",
       "Site: RGL\n",
       "---------\n",
       "co2 at 90m, 45m\n",
       "\n",
       "\n",
       "Site: TAC\n",
       "---------\n",
       "co2 at 100m, 185m, 54m\n"
      ]
     },
     "execution_count": 11,
     "metadata": {},
     "output_type": "execute_result"
    }
   ],
   "source": [
    "results"
   ]
  },
  {
   "cell_type": "markdown",
   "metadata": {},
   "source": [
    "Examine the raw data underneath"
   ]
  },
  {
   "cell_type": "code",
   "execution_count": 12,
   "metadata": {},
   "outputs": [
    {
     "name": "stdout",
     "output_type": "stream",
     "text": [
      "{'rpb': {'co2': {'12m': {'keys': ['data/uuid/99961e98-51e4-45d5-b155-f491bbfe5076/v1/2016-08-03-20:50:30+00:00_2016-12-31-23:59:30+00:00', 'data/uuid/99961e98-51e4-45d5-b155-f491bbfe5076/v1/2017-01-01-00:00:30+00:00_2017-12-31-23:59:30+00:00', 'data/uuid/99961e98-51e4-45d5-b155-f491bbfe5076/v1/2018-01-01-00:00:30+00:00_2018-12-23-08:25:30+00:00', 'data/uuid/99961e98-51e4-45d5-b155-f491bbfe5076/v1/2019-01-18-10:03:30+00:00_2019-12-31-23:59:30+00:00', 'data/uuid/99961e98-51e4-45d5-b155-f491bbfe5076/v1/2020-01-01-00:00:30+00:00_2020-01-20-09:37:30+00:00'], 'metadata': {'site': 'rpb', 'instrument': 'picarro', 'sampling_period': '60', 'inlet': '12m', 'port': '1', 'type': 'air', 'network': 'agage', 'species': 'co2', 'scale': 'wmo-x2007', 'data_type': 'timeseries'}}}}, 'hfd': {'co2': {'50m': {'keys': ['data/uuid/43924d75-1795-4929-947e-ed9e444f8236/v1/2013-11-20-12:21:30+00:00_2013-12-31-23:39:30+00:00', 'data/uuid/43924d75-1795-4929-947e-ed9e444f8236/v1/2014-01-01-00:12:30+00:00_2014-12-31-23:29:30+00:00', 'data/uuid/43924d75-1795-4929-947e-ed9e444f8236/v1/2015-01-01-00:02:30+00:00_2015-12-31-23:59:30+00:00', 'data/uuid/43924d75-1795-4929-947e-ed9e444f8236/v1/2016-01-01-00:00:30+00:00_2016-12-14-12:37:30+00:00', 'data/uuid/43924d75-1795-4929-947e-ed9e444f8236/v1/2017-02-23-11:22:30+00:00_2017-12-31-23:52:30+00:00', 'data/uuid/43924d75-1795-4929-947e-ed9e444f8236/v1/2018-01-01-00:45:30+00:00_2018-12-31-23:10:30+00:00', 'data/uuid/43924d75-1795-4929-947e-ed9e444f8236/v1/2019-01-01-00:03:30+00:00_2019-12-31-23:59:30+00:00', 'data/uuid/43924d75-1795-4929-947e-ed9e444f8236/v1/2020-01-01-00:00:30+00:00_2020-09-24-22:24:30+00:00'], 'metadata': {'site': 'hfd', 'instrument': 'picarro', 'sampling_period': '60', 'inlet': '50m', 'port': '9', 'type': 'air', 'network': 'decc', 'species': 'co2', 'scale': 'wmo-x2007', 'data_type': 'timeseries'}}, '100m': {'keys': ['data/uuid/e04fa89a-bc92-4ada-b958-70589a9134e2/v1/2013-11-20-12:51:30+00:00_2013-12-31-23:59:30+00:00', 'data/uuid/e04fa89a-bc92-4ada-b958-70589a9134e2/v1/2014-01-01-00:00:30+00:00_2014-12-31-23:59:30+00:00', 'data/uuid/e04fa89a-bc92-4ada-b958-70589a9134e2/v1/2015-01-01-00:32:30+00:00_2015-12-31-23:51:30+00:00', 'data/uuid/e04fa89a-bc92-4ada-b958-70589a9134e2/v1/2016-01-01-00:24:30+00:00_2016-12-31-23:59:30+00:00', 'data/uuid/e04fa89a-bc92-4ada-b958-70589a9134e2/v1/2017-01-01-00:00:30+00:00_2017-12-31-23:22:30+00:00', 'data/uuid/e04fa89a-bc92-4ada-b958-70589a9134e2/v1/2018-01-01-00:15:30+00:00_2018-12-31-23:59:30+00:00', 'data/uuid/e04fa89a-bc92-4ada-b958-70589a9134e2/v1/2019-01-01-00:00:30+00:00_2019-12-31-23:42:30+00:00', 'data/uuid/e04fa89a-bc92-4ada-b958-70589a9134e2/v1/2020-01-01-00:05:30+00:00_2020-09-24-23:01:30+00:00'], 'metadata': {'site': 'hfd', 'instrument': 'picarro', 'sampling_period': '60', 'inlet': '100m', 'port': '10', 'type': 'air', 'network': 'decc', 'species': 'co2', 'scale': 'wmo-x2007', 'data_type': 'timeseries'}}}}, 'bsd': {'co2': {'42m': {'keys': ['data/uuid/751def89-5630-4a64-a787-9536bd666dbb/v1/2014-01-30-11:32:30+00:00_2014-12-31-23:59:30+00:00', 'data/uuid/751def89-5630-4a64-a787-9536bd666dbb/v1/2015-01-01-00:00:30+00:00_2015-10-24-10:02:30+00:00', 'data/uuid/751def89-5630-4a64-a787-9536bd666dbb/v1/2016-01-19-17:31:30+00:00_2016-12-31-23:27:30+00:00', 'data/uuid/751def89-5630-4a64-a787-9536bd666dbb/v1/2017-01-01-00:10:30+00:00_2017-12-31-23:22:30+00:00', 'data/uuid/751def89-5630-4a64-a787-9536bd666dbb/v1/2018-01-01-00:15:30+00:00_2018-12-31-23:57:30+00:00', 'data/uuid/751def89-5630-4a64-a787-9536bd666dbb/v1/2019-01-01-00:50:30+00:00_2019-12-31-23:14:30+00:00', 'data/uuid/751def89-5630-4a64-a787-9536bd666dbb/v1/2020-01-01-00:07:30+00:00_2020-09-25-07:38:30+00:00'], 'metadata': {'site': 'bsd', 'instrument': 'picarro', 'sampling_period': '60', 'inlet': '42m', 'port': '10', 'type': 'air', 'network': 'decc', 'species': 'co2', 'scale': 'wmo-x2007', 'data_type': 'timeseries'}}, '248m': {'keys': ['data/uuid/ac858449-7898-4dce-9a82-81b7ce376105/v1/2014-01-30-10:52:30+00:00_2014-12-31-23:20:30+00:00', 'data/uuid/ac858449-7898-4dce-9a82-81b7ce376105/v1/2015-01-01-00:03:30+00:00_2015-09-30-09:30:30+00:00', 'data/uuid/ac858449-7898-4dce-9a82-81b7ce376105/v1/2016-01-19-16:54:30+00:00_2016-12-31-23:47:30+00:00', 'data/uuid/ac858449-7898-4dce-9a82-81b7ce376105/v1/2017-01-01-00:30:30+00:00_2017-12-31-23:59:30+00:00', 'data/uuid/ac858449-7898-4dce-9a82-81b7ce376105/v1/2018-01-01-00:00:30+00:00_2018-12-31-23:59:30+00:00', 'data/uuid/ac858449-7898-4dce-9a82-81b7ce376105/v1/2019-01-01-00:00:30+00:00_2019-12-31-23:54:30+00:00', 'data/uuid/ac858449-7898-4dce-9a82-81b7ce376105/v1/2020-01-01-00:17:30+00:00_2020-09-25-08:04:30+00:00'], 'metadata': {'site': 'bsd', 'instrument': 'picarro', 'sampling_period': '60', 'inlet': '248m', 'port': '8', 'type': 'air', 'network': 'decc', 'species': 'co2', 'scale': 'wmo-x2007', 'data_type': 'timeseries'}}, '108m': {'keys': ['data/uuid/82ca4d86-48b5-40dd-9099-1fcb3ad157eb/v1/2014-01-30-11:12:30+00:00_2014-01-30-11:23:30+00:00', 'data/uuid/82ca4d86-48b5-40dd-9099-1fcb3ad157eb/v1/2016-04-02-06:52:30+00:00_2016-04-02-12:54:30+00:00', 'data/uuid/82ca4d86-48b5-40dd-9099-1fcb3ad157eb/v1/2017-12-18-06:36:30+00:00_2017-12-18-15:42:30+00:00', 'data/uuid/82ca4d86-48b5-40dd-9099-1fcb3ad157eb/v1/2019-02-03-17:38:30+00:00_2019-02-09-10:47:30+00:00', 'data/uuid/82ca4d86-48b5-40dd-9099-1fcb3ad157eb/v1/2020-02-01-18:08:30+00:00_2020-02-01-22:31:30+00:00'], 'metadata': {'site': 'bsd', 'instrument': 'picarro', 'sampling_period': '60', 'inlet': '108m', 'port': '9', 'type': 'air', 'network': 'decc', 'species': 'co2', 'scale': 'wmo-x2007', 'data_type': 'timeseries'}}}}, 'tta': {'co2': {'222m': {'keys': ['data/uuid/b21afe8c-e28b-4533-8b55-87b6c22ff9d5/v1/2013-05-29-16:18:30+00:00_2013-12-31-23:59:30+00:00', 'data/uuid/b21afe8c-e28b-4533-8b55-87b6c22ff9d5/v1/2014-01-01-00:00:30+00:00_2014-12-31-23:59:30+00:00', 'data/uuid/b21afe8c-e28b-4533-8b55-87b6c22ff9d5/v1/2015-01-01-00:00:30+00:00_2015-09-29-05:59:30+00:00'], 'metadata': {'site': 'tta', 'instrument': 'picarro', 'sampling_period': '60', 'inlet': '222m', 'port': '10', 'type': 'air', 'network': 'decc', 'species': 'co2', 'scale': 'wmo-x2007', 'data_type': 'timeseries'}}}}, 'rgl': {'co2': {'90m': {'keys': ['data/uuid/4575714d-865d-4b38-a40f-5acfda958805/v1/2012-02-23-16:00:30+00:00_2012-12-27-08:45:30+00:00', 'data/uuid/4575714d-865d-4b38-a40f-5acfda958805/v1/2013-01-02-17:46:30+00:00_2013-12-31-23:59:30+00:00', 'data/uuid/4575714d-865d-4b38-a40f-5acfda958805/v1/2014-01-01-00:00:30+00:00_2014-12-31-23:51:30+00:00', 'data/uuid/4575714d-865d-4b38-a40f-5acfda958805/v1/2015-01-01-00:24:30+00:00_2015-12-31-23:41:30+00:00', 'data/uuid/4575714d-865d-4b38-a40f-5acfda958805/v1/2016-01-01-00:14:30+00:00_2016-12-31-23:50:30+00:00', 'data/uuid/4575714d-865d-4b38-a40f-5acfda958805/v1/2017-01-01-00:23:30+00:00_2017-12-26-23:59:30+00:00', 'data/uuid/4575714d-865d-4b38-a40f-5acfda958805/v1/2018-01-04-11:05:30+00:00_2018-12-31-23:59:30+00:00', 'data/uuid/4575714d-865d-4b38-a40f-5acfda958805/v1/2019-01-01-00:00:30+00:00_2019-12-31-23:47:30+00:00', 'data/uuid/4575714d-865d-4b38-a40f-5acfda958805/v1/2020-01-01-00:00:30+00:00_2020-09-25-08:18:30+00:00'], 'metadata': {'site': 'rgl', 'instrument': 'picarro', 'sampling_period': '60', 'inlet': '90m', 'port': '10', 'type': 'air', 'network': 'decc', 'species': 'co2', 'scale': 'wmo-x2007', 'data_type': 'timeseries'}}, '45m': {'keys': ['data/uuid/c72094d9-c9cb-48b8-9fd7-c697d155f34e/v1/2012-02-23-16:44:30+00:00_2012-12-27-09:07:30+00:00', 'data/uuid/c72094d9-c9cb-48b8-9fd7-c697d155f34e/v1/2013-01-02-17:19:30+00:00_2013-12-31-23:49:30+00:00', 'data/uuid/c72094d9-c9cb-48b8-9fd7-c697d155f34e/v1/2014-01-01-00:22:30+00:00_2014-12-31-23:59:30+00:00', 'data/uuid/c72094d9-c9cb-48b8-9fd7-c697d155f34e/v1/2015-01-01-00:00:30+00:00_2015-12-31-23:59:30+00:00', 'data/uuid/c72094d9-c9cb-48b8-9fd7-c697d155f34e/v1/2016-01-01-00:00:30+00:00_2016-12-31-23:59:30+00:00', 'data/uuid/c72094d9-c9cb-48b8-9fd7-c697d155f34e/v1/2017-01-01-00:00:30+00:00_2017-12-31-23:59:30+00:00', 'data/uuid/c72094d9-c9cb-48b8-9fd7-c697d155f34e/v1/2018-01-01-00:00:30+00:00_2018-12-31-23:11:30+00:00', 'data/uuid/c72094d9-c9cb-48b8-9fd7-c697d155f34e/v1/2019-01-01-00:04:30+00:00_2019-12-31-23:57:30+00:00', 'data/uuid/c72094d9-c9cb-48b8-9fd7-c697d155f34e/v1/2020-01-01-00:50:30+00:00_2020-09-25-07:39:30+00:00'], 'metadata': {'site': 'rgl', 'instrument': 'picarro', 'sampling_period': '60', 'inlet': '45m', 'port': '9', 'type': 'air', 'network': 'decc', 'species': 'co2', 'scale': 'wmo-x2007', 'data_type': 'timeseries'}}}}, 'tac': {'co2': {'100m': {'keys': ['data/uuid/93fe50f9-9871-4a45-950b-343281c11810/v1/2012-07-26-11:01:30+00:00_2012-12-31-23:59:30+00:00', 'data/uuid/93fe50f9-9871-4a45-950b-343281c11810/v1/2013-01-01-00:00:30+00:00_2013-12-31-23:33:30+00:00', 'data/uuid/93fe50f9-9871-4a45-950b-343281c11810/v1/2014-01-01-00:17:30+00:00_2014-12-31-23:32:30+00:00', 'data/uuid/93fe50f9-9871-4a45-950b-343281c11810/v1/2015-01-01-00:15:30+00:00_2015-12-31-23:29:30+00:00', 'data/uuid/93fe50f9-9871-4a45-950b-343281c11810/v1/2016-01-01-00:12:30+00:00_2016-12-31-23:35:30+00:00', 'data/uuid/93fe50f9-9871-4a45-950b-343281c11810/v1/2017-01-01-00:18:30+00:00_2017-12-31-23:26:30+00:00', 'data/uuid/93fe50f9-9871-4a45-950b-343281c11810/v1/2018-01-01-00:19:30+00:00_2018-12-31-23:33:30+00:00', 'data/uuid/93fe50f9-9871-4a45-950b-343281c11810/v1/2019-01-01-00:26:30+00:00_2019-12-31-23:35:30+00:00', 'data/uuid/93fe50f9-9871-4a45-950b-343281c11810/v1/2020-01-01-00:29:30+00:00_2020-09-25-08:09:30+00:00'], 'metadata': {'site': 'tac', 'instrument': 'picarro', 'sampling_period': '60', 'inlet': '100m', 'port': '9', 'type': 'air', 'network': 'decc', 'species': 'co2', 'scale': 'wmo-x2007', 'data_type': 'timeseries'}}, '185m': {'keys': ['data/uuid/32ee12c4-5424-4fb9-9833-7fc10311df01/v1/2013-01-31-00:05:30+00:00_2013-12-31-23:53:30+00:00', 'data/uuid/32ee12c4-5424-4fb9-9833-7fc10311df01/v1/2014-01-01-00:36:30+00:00_2014-12-31-23:52:30+00:00', 'data/uuid/32ee12c4-5424-4fb9-9833-7fc10311df01/v1/2015-01-01-00:35:30+00:00_2015-12-31-23:49:30+00:00', 'data/uuid/32ee12c4-5424-4fb9-9833-7fc10311df01/v1/2016-01-01-00:32:30+00:00_2016-12-31-23:55:30+00:00', 'data/uuid/32ee12c4-5424-4fb9-9833-7fc10311df01/v1/2017-01-01-00:38:30+00:00_2017-12-31-23:59:30+00:00', 'data/uuid/32ee12c4-5424-4fb9-9833-7fc10311df01/v1/2018-01-01-00:00:30+00:00_2018-12-31-23:59:30+00:00', 'data/uuid/32ee12c4-5424-4fb9-9833-7fc10311df01/v1/2019-01-01-00:00:30+00:00_2019-12-31-23:59:30+00:00', 'data/uuid/32ee12c4-5424-4fb9-9833-7fc10311df01/v1/2020-01-01-00:00:30+00:00_2020-09-25-08:18:30+00:00'], 'metadata': {'site': 'tac', 'instrument': 'picarro', 'sampling_period': '60', 'inlet': '185m', 'port': '10', 'type': 'air', 'network': 'decc', 'species': 'co2', 'scale': 'wmo-x2007', 'data_type': 'timeseries'}}, '54m': {'keys': ['data/uuid/c67139e4-1358-4be4-a7cb-e7b1c3d350c4/v1/2012-07-26-11:09:30+00:00_2012-12-31-23:55:30+00:00', 'data/uuid/c67139e4-1358-4be4-a7cb-e7b1c3d350c4/v1/2013-01-01-00:28:30+00:00_2013-12-31-23:59:30+00:00', 'data/uuid/c67139e4-1358-4be4-a7cb-e7b1c3d350c4/v1/2014-01-01-00:00:30+00:00_2014-12-31-23:59:30+00:00', 'data/uuid/c67139e4-1358-4be4-a7cb-e7b1c3d350c4/v1/2015-01-01-00:00:30+00:00_2015-12-31-23:59:30+00:00', 'data/uuid/c67139e4-1358-4be4-a7cb-e7b1c3d350c4/v1/2016-01-01-00:00:30+00:00_2016-12-31-23:59:30+00:00', 'data/uuid/c67139e4-1358-4be4-a7cb-e7b1c3d350c4/v1/2017-01-01-00:00:30+00:00_2017-12-19-10:38:30+00:00', 'data/uuid/c67139e4-1358-4be4-a7cb-e7b1c3d350c4/v1/2018-01-09-14:14:30+00:00_2018-12-31-23:23:30+00:00', 'data/uuid/c67139e4-1358-4be4-a7cb-e7b1c3d350c4/v1/2019-01-01-00:16:30+00:00_2019-12-31-23:25:30+00:00', 'data/uuid/c67139e4-1358-4be4-a7cb-e7b1c3d350c4/v1/2020-01-01-00:19:30+00:00_2020-09-25-07:59:30+00:00'], 'metadata': {'site': 'tac', 'instrument': 'picarro', 'sampling_period': '60', 'inlet': '54m', 'port': '8', 'type': 'air', 'network': 'decc', 'species': 'co2', 'scale': 'wmo-x2007', 'data_type': 'timeseries'}}}}}\n"
     ]
    }
   ],
   "source": [
    "print(results.raw())"
   ]
  },
  {
   "cell_type": "code",
   "execution_count": 13,
   "metadata": {},
   "outputs": [
    {
     "ename": "NameError",
     "evalue": "name 'tac_data' is not defined",
     "output_type": "error",
     "traceback": [
      "\u001b[0;31m---------------------------------------------------------------------------\u001b[0m",
      "\u001b[0;31mNameError\u001b[0m                                 Traceback (most recent call last)",
      "\u001b[0;32m/tmp/ipykernel_8134/4150590124.py\u001b[0m in \u001b[0;36m<module>\u001b[0;34m\u001b[0m\n\u001b[1;32m      1\u001b[0m \u001b[0mtac_co2\u001b[0m \u001b[0;34m=\u001b[0m \u001b[0mresults\u001b[0m\u001b[0;34m.\u001b[0m\u001b[0mretrieve\u001b[0m\u001b[0;34m(\u001b[0m\u001b[0mspecies\u001b[0m\u001b[0;34m=\u001b[0m\u001b[0;34m\"co2\"\u001b[0m\u001b[0;34m,\u001b[0m \u001b[0msite\u001b[0m\u001b[0;34m=\u001b[0m\u001b[0;34m\"tac\"\u001b[0m\u001b[0;34m,\u001b[0m \u001b[0minlet\u001b[0m\u001b[0;34m=\u001b[0m\u001b[0;34m\"185m\"\u001b[0m\u001b[0;34m)\u001b[0m\u001b[0;34m\u001b[0m\u001b[0;34m\u001b[0m\u001b[0m\n\u001b[0;32m----> 2\u001b[0;31m \u001b[0mdata\u001b[0m \u001b[0;34m=\u001b[0m \u001b[0mtac_data\u001b[0m\u001b[0;34m.\u001b[0m\u001b[0mdata\u001b[0m\u001b[0;34m\u001b[0m\u001b[0;34m\u001b[0m\u001b[0m\n\u001b[0m\u001b[1;32m      3\u001b[0m \u001b[0mdata\u001b[0m\u001b[0;34m\u001b[0m\u001b[0;34m\u001b[0m\u001b[0m\n",
      "\u001b[0;31mNameError\u001b[0m: name 'tac_data' is not defined"
     ]
    }
   ],
   "source": [
    "tac_co2 = results.retrieve(species=\"co2\", site=\"tac\", inlet=\"185m\")\n",
    "data = tac_data.data\n",
    "data"
   ]
  },
  {
   "cell_type": "code",
   "execution_count": null,
   "metadata": {},
   "outputs": [],
   "source": [
    "mol_frac = data.co2\n",
    "mol_frac.plot()"
   ]
  },
  {
   "cell_type": "code",
   "execution_count": null,
   "metadata": {},
   "outputs": [],
   "source": [
    "hfd_co2 = results.retrieve(species=\"co2\", site=\"hfd\", inlet=\"50m\")\n",
    "mol_frac = hfd_co2.data.co2\n",
    "mol_frac.plot()"
   ]
  },
  {
   "cell_type": "markdown",
   "metadata": {},
   "source": [
    "### All data from a site"
   ]
  },
  {
   "cell_type": "code",
   "execution_count": null,
   "metadata": {},
   "outputs": [],
   "source": [
    "results = search(site=\"BSD\", skip_ranking=True)"
   ]
  },
  {
   "cell_type": "code",
   "execution_count": null,
   "metadata": {},
   "outputs": [],
   "source": [
    "results"
   ]
  },
  {
   "cell_type": "code",
   "execution_count": null,
   "metadata": {},
   "outputs": [],
   "source": [
    "sf6_data = results.retrieve(species=\"sf6\", site=\"bsd\", inlet=\"248m\")"
   ]
  },
  {
   "cell_type": "code",
   "execution_count": null,
   "metadata": {},
   "outputs": [],
   "source": [
    "mol_frac = sf6_data.data.sf6\n",
    "mol_frac.plot()"
   ]
  },
  {
   "cell_type": "markdown",
   "metadata": {},
   "source": [
    "## Comparing to predictions\n",
    "\n",
    "OpenGHG provides tools which allow calculation of predicted measurements based on emissions sources, where the appropriate data is available.\n",
    "\n",
    "This is done by aggregrating sensitivity maps (footprints) for a given site and an emissions map covering the same region."
   ]
  },
  {
   "cell_type": "markdown",
   "metadata": {},
   "source": [
    "### Retrieve some footprints"
   ]
  },
  {
   "cell_type": "markdown",
   "metadata": {},
   "source": [
    "Here we retrieve a footprint by itself"
   ]
  },
  {
   "cell_type": "code",
   "execution_count": null,
   "metadata": {},
   "outputs": [],
   "source": [
    "footprint = get_footprint(site=\"TAC\", domain=\"europe\", height=\"185m\", start_date=\"2021-02-01\")"
   ]
  },
  {
   "cell_type": "code",
   "execution_count": null,
   "metadata": {},
   "outputs": [],
   "source": [
    "fp_data = footprint.data\n",
    "fp_data"
   ]
  },
  {
   "cell_type": "markdown",
   "metadata": {},
   "source": [
    "### Plot the footprint"
   ]
  },
  {
   "cell_type": "markdown",
   "metadata": {},
   "source": [
    "We can have a quick look at the footprint using an OpenGHG helper function. We plan to pull the plotting functionality out into an `openghg-plotting` package as packages like cartopy can introduce complicated dependencies of their own."
   ]
  },
  {
   "cell_type": "code",
   "execution_count": null,
   "metadata": {},
   "outputs": [],
   "source": [
    "plot_footprint(data=fp_data, label=\"Footprint\")"
   ]
  },
  {
   "cell_type": "markdown",
   "metadata": {},
   "source": [
    "### Merge a footprint and some data together into a single Dataset"
   ]
  },
  {
   "cell_type": "markdown",
   "metadata": {},
   "source": [
    "For this we use the `footprints_data_merge` function from the `processing` module."
   ]
  },
  {
   "cell_type": "code",
   "execution_count": null,
   "metadata": {},
   "outputs": [],
   "source": [
    "tac = get_obs_surface(site=\"TAC\", species=\"ch4\", inlet=\"185m\")\n",
    "tac.data.time.max()"
   ]
  },
  {
   "cell_type": "code",
   "execution_count": null,
   "metadata": {},
   "outputs": [],
   "source": [
    "start_date = \"2012-01-01\"\n",
    "end_date = \"2013-01-01\"\n",
    "\n",
    "site = \"tac\" \n",
    "height = \"100m\"\n",
    "species = \"ch4\"\n",
    "domain =\"EUROPE\"\n",
    "model = \"NAME\"\n",
    "network = \"decc\"\n",
    "source = \"anthro\"\n",
    "\n",
    "combined_data = footprints_data_merge(site=site, height=height, network=network, domain=domain, \n",
    "                                    start_date=start_date, end_date=end_date, species=species,\n",
    "                                    flux_sources=source, load_flux=True, calc_timeseries=True)\n",
    "    \n",
    "data = combined_data.data"
   ]
  },
  {
   "cell_type": "markdown",
   "metadata": {},
   "source": [
    "Have a quick look at the Dataset"
   ]
  },
  {
   "cell_type": "code",
   "execution_count": null,
   "metadata": {},
   "outputs": [],
   "source": [
    "data"
   ]
  },
  {
   "cell_type": "markdown",
   "metadata": {},
   "source": [
    "Calculate modelled mole fraction based on emissions estimate and add a sensible baseline"
   ]
  },
  {
   "cell_type": "code",
   "execution_count": null,
   "metadata": {},
   "outputs": [],
   "source": [
    "mf = data.mf\n",
    "mf_mod = data.mf_mod\n",
    "baseline = mf.quantile(0.01).drop(\"quantile\")\n",
    "mf_mod = mf_mod + baseline\n",
    "\n",
    "print(f\"Estimating baseline based on 1st percentile of data: {baseline.values}\")"
   ]
  },
  {
   "cell_type": "code",
   "execution_count": null,
   "metadata": {},
   "outputs": [],
   "source": [
    "fig, ax = plt.subplots()\n",
    "\n",
    "mf.plot(marker=\"x\", ax=ax, label=\"Measured mole fraction\")\n",
    "mf_mod.plot(marker=\"o\", ax=ax, label=\"Modelled mole fraction\")\n",
    "\n",
    "ax.legend()"
   ]
  },
  {
   "cell_type": "markdown",
   "metadata": {},
   "source": [
    "## Viewing emissions data\n",
    "\n",
    "Any emissions data itself can be viewed through OpenGHG...\n",
    "\n",
    "**++ADD PLOTS OF EMISSIONS HERE++**\n",
    "\n",
    "*May have an issue that we want to be able to plot this on a map, in which case we would need a working link to cartopy and proj C library. Need to decide if we want this to be a dependency of openghg or not or perhaps incorporate openghg-plotting library instead*"
   ]
  },
  {
   "cell_type": "markdown",
   "metadata": {},
   "source": []
  }
 ],
 "metadata": {
  "kernelspec": {
   "display_name": "Python 3",
   "language": "python",
   "name": "python3"
  },
  "language_info": {
   "codemirror_mode": {
    "name": "ipython",
    "version": 3
   },
   "file_extension": ".py",
   "mimetype": "text/x-python",
   "name": "python",
   "nbconvert_exporter": "python",
   "pygments_lexer": "ipython3",
   "version": "3.9.6"
  }
 },
 "nbformat": 4,
 "nbformat_minor": 2
}
