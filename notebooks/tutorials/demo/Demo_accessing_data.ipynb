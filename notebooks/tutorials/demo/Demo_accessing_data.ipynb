{
 "cells": [
  {
   "cell_type": "markdown",
   "metadata": {},
   "source": [
    "# OpenGHG for users: accessing and interrogating data"
   ]
  },
  {
   "cell_type": "code",
   "execution_count": null,
   "metadata": {},
   "outputs": [],
   "source": [
    "import os\n",
    "\n",
    "# This will be handled automatically\n",
    "os.environ[\"OPENGHG_PATH\"] = \"/path/to/store\""
   ]
  },
  {
   "cell_type": "markdown",
   "metadata": {},
   "source": [
    "## Check measurement data available\n",
    "\n",
    "We can first check what measurements are currently available within the object store for you to view. \n",
    "\n",
    "*Note: not all data will be available for all users to view depending on permissions set*"
   ]
  },
  {
   "cell_type": "code",
   "execution_count": null,
   "metadata": {},
   "outputs": [],
   "source": [
    "from openghg.objectstore import visualise_store\n",
    "from openghg.localclient import get_obs_surface\n",
    "\n",
    "visualise_store()"
   ]
  },
  {
   "cell_type": "markdown",
   "metadata": {},
   "source": [
    "## Accessing the measurement data\n",
    "\n",
    "You can access the available measurement data using a set of keywords"
   ]
  },
  {
   "cell_type": "code",
   "execution_count": null,
   "metadata": {},
   "outputs": [],
   "source": [
    "## WILL NEED TO BE UPDATED TO USE CLOUD VERSION?\n",
    "\n",
    "\n",
    "site = \"bsd\" # Site code - BSD is for Bilsdate\n",
    "species = \"co\" # Species name - carbon monoxide\n",
    "inlet = \"248m\" # Specific inlet height for this site\n",
    "\n",
    "observations = get_obs_surface(site=site, species=species, inlet=inlet)"
   ]
  },
  {
   "cell_type": "markdown",
   "metadata": {},
   "source": [
    "The `observations` variable contains both the measurement data and the associated metadata for the data source. The metadata can be viewed:"
   ]
  },
  {
   "cell_type": "code",
   "execution_count": null,
   "metadata": {},
   "outputs": [],
   "source": [
    "observations.metadata"
   ]
  },
  {
   "cell_type": "markdown",
   "metadata": {},
   "source": [
    "The data can be extracted (as an xarray Dataset) and quickly plotted:"
   ]
  },
  {
   "cell_type": "code",
   "execution_count": null,
   "metadata": {},
   "outputs": [],
   "source": [
    "data = observations.data\n",
    "mol_frac = data.mf\n",
    "mol_frac.plot()"
   ]
  },
  {
   "cell_type": "markdown",
   "metadata": {},
   "source": [
    "## Comparing to predictions\n",
    "\n",
    "OpenGHG provides tools which allow calculation of predicted measurements based on emissions sources, where the appropriate data is available.\n",
    "\n",
    "This is done by aggregrating sensitivity maps (footprints) for a given site and an emissions map covering the same region."
   ]
  },
  {
   "cell_type": "markdown",
   "metadata": {},
   "source": [
    "**++ADD A COMPARISON EXAMPLE HERE AND MAKE SURE THERE FILES ARE ALREADY WITHIN THE OBJECT STORE++**"
   ]
  },
  {
   "cell_type": "markdown",
   "metadata": {},
   "source": [
    "## Viewing emissions data\n",
    "\n",
    "Any emissions data itself can be viewed through OpenGHG...\n",
    "\n",
    "**++ADD PLOTS OF EMISSIONS HERE++**\n",
    "\n",
    "*May have an issue that we want to be able to plot this on a map, in which case we would need a working link to cartopy and proj C library. Need to decide if we want this to be a dependency of openghg or not or perhaps incorporate openghg-plotting library instead*"
   ]
  },
  {
   "cell_type": "markdown",
   "metadata": {},
   "source": []
  }
 ],
 "metadata": {
  "kernelspec": {
   "display_name": "Python 3",
   "language": "python",
   "name": "python3"
  },
  "language_info": {
   "codemirror_mode": {
    "name": "ipython",
    "version": 3
   },
   "file_extension": ".py",
   "mimetype": "text/x-python",
   "name": "python",
   "nbconvert_exporter": "python",
   "pygments_lexer": "ipython3",
   "version": "3.9.6"
  }
 },
 "nbformat": 4,
 "nbformat_minor": 2
}
