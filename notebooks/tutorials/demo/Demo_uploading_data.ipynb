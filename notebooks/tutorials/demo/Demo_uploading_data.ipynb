{
 "cells": [
  {
   "cell_type": "markdown",
   "source": [
    "# OpenGHG for data providers: uploading and classifying data\n",
    "\n",
    "The OpenGHG platform has the ability to interpret and standardise data from multiple different sources. For measurement networks, this currently includes data from the following projects:\n",
    "\n",
    "- AGAGE\n",
    "- DECC\n",
    "- LondonGHG\n",
    "\n",
    "and can be expanded to include more as appropriate. At present, after being uploaded once this data will be available to access directly on the platform.\n",
    "\n",
    "The standardised format aims to be CF and CEDA compliant (as long as the necessary metadata is provided)."
   ],
   "metadata": {}
  },
  {
   "cell_type": "markdown",
   "source": [
    "## Manual upload\n",
    "\n",
    "The current interface allows new measurement data to be uploaded directly to the platform by passing the data files along with a set of keywords so the data can be appropriately identified and categorised.\n",
    "\n",
    "For instance to upload a data file or files from the Billsdale site (site code \"BSD\") within the DECC network this could be uploaded and stored within the OpenGHG cloud store using the key words:\n",
    "\n",
    "- data_type of \"CRDS\"\n",
    "- site code of \"BSD\"\n",
    "- network of \"DECC\"\n",
    "\n",
    "The data_type here indicates the expected format of the data files themselves. This can be specific to the type of instrument being used, a site or a particular network (more details below)."
   ],
   "metadata": {}
  },
  {
   "cell_type": "code",
   "execution_count": 1,
   "source": [
    "## MAY NOT NEED THIS??\n",
    "import os\n",
    "import tempfile\n",
    "\n",
    "# I'll remove this - need to add a check to make sure OPENGHG_PATH is set\n",
    "\n",
    "tmp_dir = tempfile.TemporaryDirectory()\n",
    "os.environ[\"OPENGHG_PATH\"] = tmp_dir.name # \"/tmp/openghg_store\""
   ],
   "outputs": [],
   "metadata": {}
  },
  {
   "cell_type": "code",
   "execution_count": 2,
   "source": [
    "from openghg.modules import ObsSurface \n",
    "\n",
    "decc_file = \"../data/DECC/bsd.picarro.1minute.248m.min.dat\"\n",
    "data_type = \"CRDS\"\n",
    "site = \"bsd\"\n",
    "network = \"DECC\"\n",
    "\n",
    "decc_results = ObsSurface.read_file(decc_file, data_type, site, network)"
   ],
   "outputs": [
    {
     "output_type": "stream",
     "name": "stdout",
     "text": [
      "Processing: bsd.picarro.1minute.248m.min.dat: 100%|██████████| 1/1 [00:00<00:00,  2.30it/s]\n"
     ]
    }
   ],
   "metadata": {}
  },
  {
   "cell_type": "markdown",
   "source": [
    "#### Aside:\n",
    "\n",
    "Accepted data types at the moment include:\n",
    "\n",
    "- CRDS (data from CRDS instruments, typically within the DECC and AGAGE networks)\n",
    "- GCWERKS (data from GC instruments, typically within the AGAGE network)\n",
    "- NOAA\n",
    "- THAMESBARRIER\n",
    "- BEACO2N"
   ],
   "metadata": {}
  },
  {
   "cell_type": "markdown",
   "source": [
    "## Automated upload\n",
    "**++ADD DETAILS HERE OF HOW THIS WILL WORK++**"
   ],
   "metadata": {}
  },
  {
   "cell_type": "markdown",
   "source": [
    "## Ranking data\n",
    "\n",
    "When multiple sets of data are available for the same site and species, it is possible to set up a *ranking* to provide an order of preference for the data returned over a given time period. Once created, this ranking will then persist and will be used whenever this data is accessed.\n",
    "\n",
    "For example at the Billsdale site this has inlets at different heights. For different time periods, depending on the status of the instruments and the data availability, data at different data may be preferred. This can be indicated and then stored to influence which data source is returned for each species at Billsdale."
   ],
   "metadata": {}
  },
  {
   "cell_type": "code",
   "execution_count": 3,
   "source": [
    "## COULD REMOVE THIS IF DATA IS ALREADY IN THE OBJECT STORE\n",
    "\n",
    "from openghg.util import bilsdale_datapaths\n",
    "from openghg.modules import ObsSurface\n",
    "\n",
    "# Load Billsdale data into object store\n",
    "bsd_paths = bilsdale_datapaths()\n",
    "uploaded = ObsSurface.read_file(filepath=bsd_paths, data_type=\"CRDS\", site=\"bsd\", network=\"DECC\", overwrite=True)\n"
   ],
   "outputs": [
    {
     "output_type": "stream",
     "name": "stdout",
     "text": [
      "Processing: bsd.picarro.1minute.42m.min.dat: 100%|██████████| 3/3 [00:01<00:00,  2.07it/s]\n"
     ]
    }
   ],
   "metadata": {}
  },
  {
   "cell_type": "code",
   "execution_count": 4,
   "source": [
    "from openghg.localclient import RankSources\n",
    "\n",
    "site = \"BSD\"  # Billsdale\n",
    "species = \"ch4\" # methane, \"ch4\"\n",
    "\n",
    "# Show all available sources which correspond to the same site and species\n",
    "r = RankSources()\n",
    "sources = r.get_sources(site=site, species=species)\n",
    "sources"
   ],
   "outputs": [
    {
     "output_type": "execute_result",
     "data": {
      "text/plain": [
       "{'ch4_248m_picarro': {'rank_data': 'NA',\n",
       "  'data_range': '2014-01-30T11:12:30_2020-12-01T22:31:30'},\n",
       " 'ch4_108m_picarro': {'rank_data': 'NA',\n",
       "  'data_range': '2014-01-30T11:12:30_2020-12-01T22:31:30'},\n",
       " 'ch4_42m_picarro': {'rank_data': 'NA',\n",
       "  'data_range': '2014-01-30T11:12:30_2020-12-01T22:31:30'}}"
      ]
     },
     "metadata": {},
     "execution_count": 4
    }
   ],
   "metadata": {}
  },
  {
   "cell_type": "markdown",
   "source": [
    "Based on the data uploaded for Billsdale, each source is stored with a key related to the species being measured, the inlet height and the instrument type:\n",
    " - ch4_248m_picarro\n",
    " - ch4_108m_picarro\n",
    " - ch4_42m_picarro\n",
    "\n",
    "So, for the methane data taken at the 108m inlet using the Picarro instrument the relevant key would be \"ch4_108m_picarro\".\n",
    "\n",
    "We can use this to check and set the rank for the data taken at the 108m inlet to be used preferentially when extracting the data in 2015:"
   ],
   "metadata": {}
  },
  {
   "cell_type": "code",
   "execution_count": 5,
   "source": [
    "r.get_specific_source(key=\"ch4_108m_picarro\")"
   ],
   "outputs": [
    {
     "output_type": "execute_result",
     "data": {
      "text/plain": [
       "'NA'"
      ]
     },
     "metadata": {},
     "execution_count": 5
    }
   ],
   "metadata": {}
  },
  {
   "cell_type": "code",
   "execution_count": 6,
   "source": [
    "r.set_rank(key=\"ch4_108m_picarro\", rank=1, start_date=\"2015-01-01\", end_date=\"2016-01-01\")"
   ],
   "outputs": [],
   "metadata": {}
  },
  {
   "cell_type": "code",
   "execution_count": 7,
   "source": [
    "r.get_specific_source(key=\"ch4_108m_picarro\")"
   ],
   "outputs": [
    {
     "output_type": "execute_result",
     "data": {
      "text/plain": [
       "{'2015-01-01-00:00:00+00:00_2016-01-01-00:00:00+00:00': 1}"
      ]
     },
     "metadata": {},
     "execution_count": 7
    }
   ],
   "metadata": {}
  },
  {
   "cell_type": "markdown",
   "source": [
    "We can also cover the rest of the date range for this data (01/01/2014 - 01/12/2021) by setting a ranking for the 248m inlet for the period before and after 2015 and check what values have been set:"
   ],
   "metadata": {}
  },
  {
   "cell_type": "code",
   "execution_count": 8,
   "source": [
    "dateranges_248m = [\"2014-01-01_2015-01-01\", \"2016-01-01_2020-12-01\"]\n",
    "r.set_rank(key=\"ch4_248m_picarro\", rank=1, dateranges=dateranges_248m)"
   ],
   "outputs": [],
   "metadata": {}
  },
  {
   "cell_type": "code",
   "execution_count": 9,
   "source": [
    "# Checking what values have been set for this site\n",
    "r.get_sources(site=\"bsd\", species=\"ch4\")"
   ],
   "outputs": [
    {
     "output_type": "execute_result",
     "data": {
      "text/plain": [
       "{'ch4_248m_picarro': {'rank_data': {'2014-01-01-00:00:00+00:00_2015-01-01-00:00:00+00:00': 1,\n",
       "   '2016-01-01-00:00:00+00:00_2020-12-01-00:00:00+00:00': 1},\n",
       "  'data_range': '2014-01-30T11:12:30_2020-12-01T22:31:30'},\n",
       " 'ch4_108m_picarro': {'rank_data': {'2015-01-01-00:00:00+00:00_2016-01-01-00:00:00+00:00': 1},\n",
       "  'data_range': '2014-01-30T11:12:30_2020-12-01T22:31:30'},\n",
       " 'ch4_42m_picarro': {'rank_data': 'NA',\n",
       "  'data_range': '2014-01-30T11:12:30_2020-12-01T22:31:30'}}"
      ]
     },
     "metadata": {},
     "execution_count": 9
    }
   ],
   "metadata": {}
  },
  {
   "cell_type": "markdown",
   "source": [
    "When retrieving the data from the object store, this now knows which data to extract for different time periods without needing to specify an inlet:"
   ],
   "metadata": {}
  },
  {
   "cell_type": "code",
   "execution_count": 18,
   "source": [
    "# For 2015, the data from 108m is returned\n",
    "\n",
    "from openghg.processing import get_obs_surface\n",
    "\n",
    "data = get_obs_surface(site=\"bsd\", species=\"ch4\", \n",
    "                       start_date=\"2015-01-01\", end_date=\"2015-02-01\")\n",
    "\n",
    "print(f\"Data from inlet at height: {data.metadata['inlet']}\")"
   ],
   "outputs": [
    {
     "output_type": "stream",
     "name": "stdout",
     "text": [
      "Data from inlet at height: 108m\n"
     ]
    }
   ],
   "metadata": {}
  },
  {
   "cell_type": "code",
   "execution_count": 17,
   "source": [
    "# Outside 2015, the data from 248m is returned\n",
    "\n",
    "from openghg.processing import get_obs_surface\n",
    "\n",
    "data = get_obs_surface(site=\"bsd\", species=\"ch4\", \n",
    "                       start_date=\"2014-01-01\", end_date=\"2014-02-01\")\n",
    "\n",
    "print(f\"Data from inlet at height: {data.metadata['inlet']}\")"
   ],
   "outputs": [
    {
     "output_type": "stream",
     "name": "stdout",
     "text": [
      "Data from inlet at height: 248m\n"
     ]
    }
   ],
   "metadata": {}
  },
  {
   "cell_type": "markdown",
   "source": [
    "Even if the ranking is not used, the data can still be accessed but the inlet height must be if there is any ambiguity for the data source being retrieved."
   ],
   "metadata": {}
  }
 ],
 "metadata": {
  "interpreter": {
   "hash": "be46fac04113c12cba86920494e488404427b4279e35c30cf0606e819f4acc5b"
  },
  "kernelspec": {
   "name": "python3",
   "display_name": "Python 3.7.4 64-bit ('openghg': venv)"
  },
  "language_info": {
   "codemirror_mode": {
    "name": "ipython",
    "version": 3
   },
   "file_extension": ".py",
   "mimetype": "text/x-python",
   "name": "python",
   "nbconvert_exporter": "python",
   "pygments_lexer": "ipython3",
   "version": "3.7.4"
  }
 },
 "nbformat": 4,
 "nbformat_minor": 2
}