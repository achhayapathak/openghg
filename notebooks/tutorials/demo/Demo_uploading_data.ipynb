{
 "cells": [
  {
   "cell_type": "markdown",
   "metadata": {},
   "source": [
    "# OpenGHG for data providers: uploading and classifying data\n",
    "\n",
    "The OpenGHG platform has the ability to interpret and standardise data from multiple different sources. For measurement networks, this currently includes data from the following projects:\n",
    "\n",
    "- AGAGE\n",
    "- DECC\n",
    "- LondonGHG\n",
    "\n",
    "and can be expanded to include more as appropriate. At present, after being uploaded once this data will be available to access directly on the platform.\n",
    "\n",
    "The standardised format aims to be CF and CEDA compliant (as long as the necessary metadata is provided)."
   ]
  },
  {
   "cell_type": "markdown",
   "metadata": {},
   "source": [
    "## Manual upload\n",
    "\n",
    "The current interface allows new measurement data to be uploaded directly to the platform by passing the data files along with a set of keywords so the data can be appropriately identified and categorised.\n",
    "\n",
    "For instance to upload a data file or files from the Billsdale site (site code \"BSD\") within the DECC network this could be uploaded and stored within the OpenGHG cloud store using the key words:\n",
    "\n",
    "- data_type of \"CRDS\"\n",
    "- site code of \"BSD\"\n",
    "- network of \"DECC\"\n",
    "\n",
    "The data_type here indicates the expected format of the data files themselves. This can be specific to the type of instrument being used, a site or a particular network (more details below)."
   ]
  },
  {
   "cell_type": "code",
   "execution_count": null,
   "metadata": {},
   "outputs": [],
   "source": [
    "from openghg.modules import ObsSurface\n",
    "from openghg.localclient import find_files, process_files, RankSources\n",
    "from openghg.processing import search\n",
    "from pathlib import Path\n",
    "\n",
    "folderpath = Path(\"/home/gar/Documents/Devel/RSE/openghg/data/demo/timeseries\")\n",
    "\n",
    "data_folders = {\n",
    "    \"CRDS\": folderpath.joinpath(\"CRDS\"),\n",
    "    \"GCWERKS\": {\"GCMD\": folderpath.joinpath(\"gc_gcmd\"), \n",
    "                \"GCMS\": folderpath.joinpath(\"gc_gcms\"), \n",
    "                \"medusa\":folderpath.joinpath(\"gc_gcmd\") },\n",
    "}\n",
    "\n",
    "find_files(data_folders=data_folders)"
   ]
  },
  {
   "cell_type": "markdown",
   "metadata": {},
   "source": [
    "To find and process all the files in a single step we can use the `process_files` function"
   ]
  },
  {
   "cell_type": "code",
   "execution_count": null,
   "metadata": {},
   "outputs": [],
   "source": [
    "# process_files(data_folders=data_folders)"
   ]
  },
  {
   "cell_type": "markdown",
   "metadata": {},
   "source": [
    "#### Aside:\n",
    "\n",
    "Accepted data types at the moment include:\n",
    "\n",
    "- CRDS (data from CRDS instruments, typically within the DECC and AGAGE networks)\n",
    "- GCWERKS (data from GC instruments, typically within the AGAGE network)\n",
    "- NOAA\n",
    "- THAMESBARRIER\n",
    "- BEACO2N"
   ]
  },
  {
   "cell_type": "markdown",
   "metadata": {},
   "source": [
    "## Automated upload\n",
    "\n",
    "For each site data providers will be given an API key. This will tie the data uploaded to a pre-defined set of metadata. There will be multiple ways of uploading data, either using the OpenGHG Python interface or more directly using `curl`."
   ]
  },
  {
   "cell_type": "markdown",
   "metadata": {},
   "source": [
    "```\n",
    "$ openghg upload <API_key> my_data.dat\n",
    "```"
   ]
  },
  {
   "cell_type": "markdown",
   "metadata": {},
   "source": [
    "## Ranking data\n",
    "\n",
    "When multiple sets of data are available for the same site and species, it is possible to set up a *ranking* to provide an order of preference for the data returned over a given time period. Once created, this ranking will then persist and will be used whenever this data is accessed.\n",
    "\n",
    "For example at the Tacolneston site this has inlets at different heights. For different time periods, depending on the status of the instruments and the data availability, data at different data may be preferred. This can be indicated and then stored to influence which data source is returned for each species at Tacolneston."
   ]
  },
  {
   "cell_type": "code",
   "execution_count": null,
   "metadata": {},
   "outputs": [],
   "source": [
    "r = RankSources()\n",
    "r.get_sources(site=\"tac\", species=\"co\")"
   ]
  },
  {
   "cell_type": "code",
   "execution_count": null,
   "metadata": {},
   "outputs": [],
   "source": [
    "r.set_rank(key=\"co_54m_lgr\", rank=1, start_date=\"2016-09-01\", end_date=\"2017-06-01\")\n",
    "r.set_rank(key=\"co_100m_lgr\", rank=1, start_date=\"2017-06-02\", end_date=\"2019-03-03\")\n",
    "r.set_rank(key=\"co_185m_lgr\", rank=1, start_date=\"2019-03-03\", end_date=\"2021-06-01\")"
   ]
  },
  {
   "cell_type": "code",
   "execution_count": null,
   "metadata": {},
   "outputs": [],
   "source": [
    "r.get_sources(site=\"tac\", species=\"co\")"
   ]
  },
  {
   "cell_type": "code",
   "execution_count": null,
   "metadata": {},
   "outputs": [],
   "source": [
    "tac_data = search(site=\"tac\", species=\"co\").retrieve(site=\"tac\", species=\"co\")"
   ]
  },
  {
   "cell_type": "code",
   "execution_count": null,
   "metadata": {},
   "outputs": [],
   "source": [
    "tac_data"
   ]
  },
  {
   "cell_type": "code",
   "execution_count": null,
   "metadata": {},
   "outputs": [],
   "source": [
    "tac_data.metadata[\"rank_metadata\"]"
   ]
  },
  {
   "cell_type": "code",
   "execution_count": null,
   "metadata": {},
   "outputs": [],
   "source": []
  }
 ],
 "metadata": {
  "interpreter": {
   "hash": "be46fac04113c12cba86920494e488404427b4279e35c30cf0606e819f4acc5b"
  },
  "kernelspec": {
   "display_name": "Python 3",
   "language": "python",
   "name": "python3"
  },
  "language_info": {
   "codemirror_mode": {
    "name": "ipython",
    "version": 3
   },
   "file_extension": ".py",
   "mimetype": "text/x-python",
   "name": "python",
   "nbconvert_exporter": "python",
   "pygments_lexer": "ipython3",
   "version": "3.8.5"
  }
 },
 "nbformat": 4,
 "nbformat_minor": 2
}
