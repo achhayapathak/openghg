{
 "cells": [
  {
   "cell_type": "markdown",
   "id": "55987467",
   "metadata": {},
   "source": [
    "# 7. Retrieving ICOS data"
   ]
  },
  {
   "cell_type": "markdown",
   "id": "01bc908a",
   "metadata": {},
   "source": [
    "It's easy to retrieve atmospheric gas measurements from the [ICOS Carbon Portal](https://www.icos-cp.eu/observations/carbon-portal) using OpenGHG. To do so we'll use the `retrieve_icos` function from `openghg.client`."
   ]
  },
  {
   "cell_type": "markdown",
   "id": "b1f6de9e",
   "metadata": {},
   "source": [
    "## Checking available data"
   ]
  },
  {
   "cell_type": "markdown",
   "id": "7d3fab1c",
   "metadata": {},
   "source": [
    "You can find the stations available in ICOS using [their map interface](https://data.icos-cp.eu/portal/#%7B%22filterCategories%22%3A%7B%22project%22%3A%5B%22icos%22%5D%2C%22level%22%3A%5B1%2C2%5D%2C%22stationclass%22%3A%5B%22ICOS%22%5D%2C%22theme%22%3A%5B%22atmosphere%22%5D%7D%2C%22tabs%22%3A%7B%22resultTab%22%3A2%7D%7D). Click on a site to see it's information, then use it's three letter site code to retrieve data."
   ]
  },
  {
   "cell_type": "markdown",
   "id": "be8ed948",
   "metadata": {},
   "source": [
    "![\"Zoomed in screenshot of ICOS site map\"](images/icos_map.jpg \"Title\")"
   ]
  },
  {
   "cell_type": "markdown",
   "id": "63e4c7e4",
   "metadata": {},
   "source": [
    "You can also use the [search page](https://data.icos-cp.eu/portal/#%7B%22filterCategories%22:%7B%22project%22:%5B%22icos%22%5D,%22level%22:%5B1,2%5D,%22stationclass%22:%5B%22ICOS%22%5D%7D%7D) to find available data at a given site"
   ]
  },
  {
   "cell_type": "markdown",
   "id": "28623bff",
   "metadata": {},
   "source": [
    "## Using `retrieve_icos`\n",
    "\n",
    "First we'll import `retrieve_icos` from the `client` submodule, then we'll retrieve some data from Weybourne (**WAO**). The function will first check for any data from **WAO** already stored in the object store, if any is found it is returned, otherwise it'll retrieve the data from the ICOS Carbon Portal, this may take a bit longer."
   ]
  },
  {
   "cell_type": "code",
   "execution_count": null,
   "id": "3023064b",
   "metadata": {},
   "outputs": [],
   "source": [
    "from openghg.client import retrieve_icos\n",
    "\n",
    "%load_ext autoreload\n",
    "%autoreload 2"
   ]
  },
  {
   "cell_type": "code",
   "execution_count": null,
   "id": "abb2836e",
   "metadata": {},
   "outputs": [],
   "source": [
    "wao_data = retrieve_icos(site=\"WAO\")"
   ]
  },
  {
   "cell_type": "markdown",
   "id": "06893a69",
   "metadata": {},
   "source": [
    "Now we can inspect `wao_data`, an `ObsData` object to see what was retrieved."
   ]
  },
  {
   "cell_type": "code",
   "execution_count": null,
   "id": "f43027a9",
   "metadata": {},
   "outputs": [],
   "source": [
    "wao_data"
   ]
  },
  {
   "cell_type": "markdown",
   "id": "61683651",
   "metadata": {},
   "source": [
    "We can see that we've retrieved `ch4` data that covers 2013-04-01 - 2015-07-31. Quite a lot of metadata is saved during the retrieval process, including where the data was retrieved from (`dobj_pid` in the metadata), the instruments and their associated metadata and a citation string.\n",
    "\n",
    "You can see more information about the instruments by going to the link in the `instrument_data` section of the metadata"
   ]
  },
  {
   "cell_type": "code",
   "execution_count": null,
   "id": "a302229c",
   "metadata": {},
   "outputs": [],
   "source": [
    "metadata = wao_data.metadata\n",
    "instrument_data = metadata[\"instrument_data\"]\n",
    "citation_string = metadata[\"citation_string\"]"
   ]
  },
  {
   "cell_type": "markdown",
   "id": "e2c38cba",
   "metadata": {},
   "source": [
    "Here we get the instrument name and a link to the instrument data on the ICOS Carbon Portal."
   ]
  },
  {
   "cell_type": "code",
   "execution_count": null,
   "id": "eb6c21f8",
   "metadata": {},
   "outputs": [],
   "source": [
    "instrument_data"
   ]
  },
  {
   "cell_type": "markdown",
   "id": "468f10c9",
   "metadata": {},
   "source": [
    "And we can easily get the citation string for the data"
   ]
  },
  {
   "cell_type": "code",
   "execution_count": null,
   "id": "ae981e6b",
   "metadata": {},
   "outputs": [],
   "source": [
    "citation_string"
   ]
  },
  {
   "cell_type": "markdown",
   "id": "29b6217c",
   "metadata": {},
   "source": [
    "## Viewing the data\n",
    "\n",
    "As with any `ObsData` object we can quickly plot it to have a look.\n",
    "\n",
    "> **_NOTE:_**  the plot created below may not show up on the online documentation version of this notebook."
   ]
  },
  {
   "cell_type": "code",
   "execution_count": null,
   "id": "c75605a5",
   "metadata": {},
   "outputs": [],
   "source": [
    "wao_data.plot_timeseries()"
   ]
  },
  {
   "cell_type": "markdown",
   "id": "730bb2fd",
   "metadata": {},
   "source": [
    "## Data levels\n",
    "\n",
    "Data available on the ICOS Carbon Portal is made available under three different levels ([see docs](https://icos-carbon-portal.github.io/pylib/modules/#stationdatalevelnone)).\n",
    "\n",
    "```\n",
    "- Data level 1: Near Real Time Data (NRT) or Internal Work data (IW).\n",
    "- Data level 2: The final quality checked ICOS RI data set, published by the CFs,\n",
    "                to be distributed through the Carbon Portal.\n",
    "                This level is the ICOS-data product and free available for users.\n",
    "- Data level 3: All kinds of elaborated products by scientific communities\n",
    "                that rely on ICOS data products are called Level 3 data.\n",
    "```\n",
    "\n",
    "By default level 2 data is retrieved but this can be changed by passing `data_level` to `retrieve_icos`. Below we'll retrieve some more recent data from **WAO**."
   ]
  },
  {
   "cell_type": "code",
   "execution_count": null,
   "id": "59f48a55",
   "metadata": {},
   "outputs": [],
   "source": [
    "wao_data_level1 = retrieve_icos(site=\"WAO\", species=\"CH4\", data_level=1)"
   ]
  },
  {
   "cell_type": "code",
   "execution_count": null,
   "id": "0f5926f5",
   "metadata": {},
   "outputs": [],
   "source": [
    "wao_data_level1"
   ]
  },
  {
   "cell_type": "markdown",
   "id": "5ecca41b",
   "metadata": {},
   "source": [
    "You can see that we've now got data from 2021-07-01 - 2022-04-24. The ability to retrieve different level data has been added for convenienve, choose the best option for your workflow.\n",
    "\n",
    "> **_NOTE:_**  level 1 data may not have been quality checked."
   ]
  },
  {
   "cell_type": "markdown",
   "id": "db9267d8",
   "metadata": {},
   "source": [
    "## Forcing retrieval\n",
    "\n",
    "As ICOS data is cached by OpenGHG you may sometimes need to force a retrieval from the ICOS Carbon Portal.\n",
    "\n",
    "If you retrieve data using `retrieve_icos` and notice that it does not return the most up to date data (compare the dates with those on the portal) you can force a retrieval using `force_retrieval`."
   ]
  },
  {
   "cell_type": "code",
   "execution_count": null,
   "id": "4021a864",
   "metadata": {},
   "outputs": [],
   "source": [
    "new_data = retrieve_icos(site=\"WAO\", species=\"CH4\", data_level=1, force_retrieval=True)"
   ]
  },
  {
   "cell_type": "code",
   "execution_count": null,
   "id": "830e6e34",
   "metadata": {},
   "outputs": [],
   "source": [
    "new_data"
   ]
  },
  {
   "cell_type": "code",
   "execution_count": null,
   "id": "c2968fa7",
   "metadata": {},
   "outputs": [],
   "source": []
  }
 ],
 "metadata": {
  "jupytext": {
   "formats": "ipynb,md:myst"
  },
  "kernelspec": {
   "display_name": "Python 3 (ipykernel)",
   "language": "python",
   "name": "python3"
  },
  "language_info": {
   "codemirror_mode": {
    "name": "ipython",
    "version": 3
   },
   "file_extension": ".py",
   "mimetype": "text/x-python",
   "name": "python",
   "nbconvert_exporter": "python",
   "pygments_lexer": "ipython3",
   "version": "3.9.12"
  }
 },
 "nbformat": 4,
 "nbformat_minor": 5
}
