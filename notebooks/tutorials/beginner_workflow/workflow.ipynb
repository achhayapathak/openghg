{
 "cells": [
  {
   "cell_type": "markdown",
   "metadata": {},
   "source": [
    "# Workflow: processing, searching and retrieving observations\n",
    "\n",
    "This tutorial demonstrates how OpenGHG can be used to process new measurement data, search the data present and to retrieve this for analysis and visualisation."
   ]
  },
  {
   "cell_type": "markdown",
   "metadata": {},
   "source": [
    "### Check installation\n",
    "\n",
    "This tutorial assumes that you have installed `openghg`. To ensure install has been successful you can open an `ipython` console and try to import this module.\n",
    "\n",
    "In a terminal type:\n",
    "\n",
    "```bash\n",
    "$ ipython\n",
    "```\n",
    "\n",
    "Then import `openghg` and print the version string associated with the version you have installed. If you get something like the below `openghg` is installed correctly.\n",
    "\n",
    "```ipython\n",
    "In [1]: import openghg\n",
    "In [2]: openghg.__version__\n",
    "Out[2]: '0.0.1'\n",
    "```\n",
    "\n",
    "If you get an ``ImportError`` please go back to the [install section of the documentation](https://docs.openghg.org/install.html).\n",
    "\n",
    "### Jupyter notebooks\n",
    "\n",
    "If you haven't used Jupyter notebooks before please see [this introduction](https://realpython.com/jupyter-notebook-introduction/)."
   ]
  },
  {
   "cell_type": "markdown",
   "metadata": {},
   "source": [
    "## 1. Setting up an object store\n",
    "\n",
    "The OpenGHG platform uses what's called an *object store* to save data. Any saved data has been processed into a standardised format, assigned universally unique identifiers (UUIDs) and stored alongside associated metadata (such as site and species details). Storing data in this way allows for fast retrieval and efficient searching.\n",
    "\n",
    "When using OpenGHG on a local machine the location of the object store is set using an `OPENGHG_PATH` environment variable (explained below) and this can be any directory on your local system.\n",
    "\n",
    "For this tutorial, we will create a temporary object store which we can add new data to. For the purposes of this tutorial this path is fine but as it is a temporary directory it may not survive a reboot of the computer. \n",
    "\n",
    "The `OPENGHG_PATH` environment variable can be set up in the following way."
   ]
  },
  {
   "cell_type": "code",
   "execution_count": 1,
   "metadata": {},
   "outputs": [],
   "source": [
    "import os\n",
    "import tempfile\n",
    "\n",
    "tmp_dir = tempfile.TemporaryDirectory()\n",
    "os.environ[\"OPENGHG_PATH\"] = tmp_dir.name   # temporary directory"
   ]
  },
  {
   "cell_type": "markdown",
   "metadata": {},
   "source": [
    "When creating your own longer term object store we recommend a path such as ``~/openghg_store`` which will create the object store in your home directory in a directory called ``openghg_store``. If you want this to be a permanent location this can be added to your \"~/.bashrc\" or \"~/.bash_profile\" file depending on the system being used. e.g. as\n",
    "\n",
    "```bash\n",
    " export OPENGHG_PATH=\"$HOME/openghg_store\"\n",
    "```"
   ]
  },
  {
   "cell_type": "markdown",
   "metadata": {},
   "source": [
    "## 2. Adding and standardising data"
   ]
  },
  {
   "cell_type": "markdown",
   "metadata": {},
   "source": [
    "### Data types\n",
    "\n",
    "Within OpenGHG there are several data types which can be processed and stored within the object store. This includes data from the AGAGE, DECC, NOAA, LondonGHG, BEAC2ON networks.\n",
    "\n",
    "When uploading a new data file, the data type must be specified alongside some additional details so OpenGHG can recognise the format and the correct standardisation can occur. The details needed will vary by the type of data being uploaded but will often include the measurement reference (e.g. a site code) and the name of any network.\n",
    "\n",
    "For the full list of accepted data types and necessary details see *++here (Add documentation page when created)++ (or generate the list using this function..)*."
   ]
  },
  {
   "cell_type": "markdown",
   "metadata": {},
   "source": [
    "### DECC network\n",
    "\n",
    "We will start by adding data to the object store from a surface site within the DECC network. Here we have accessed a subset of data from the Bilsdale site (site code \"BSD\") in the UK."
   ]
  },
  {
   "cell_type": "code",
   "execution_count": 2,
   "metadata": {},
   "outputs": [],
   "source": [
    "bsd_filepaths = [\"../data/DECC/bsd.picarro.1minute.42m.min.dat\", \"../data/DECC/bsd.picarro.1minute.108m.min.dat\", \"../data/DECC/bsd.picarro.1minute.248m.min.dat\"]\n"
   ]
  },
  {
   "cell_type": "markdown",
   "metadata": {},
   "source": [
    "As this data is measured in-situ, this is classed as a surface site and we need to be the `ObsSurface` class to interpret this data. We can pass our list of files to the `read_file` method associated within the `ObsSurface` class function, also providing details on:\n",
    " - site code - `\"BSD\"` for Billsdale\n",
    " - type of data we want to process, known as the data type - `\"CRDS\"`\n",
    " - network - `\"DECC\"`\n",
    "This is shown below:"
   ]
  },
  {
   "cell_type": "code",
   "execution_count": 3,
   "metadata": {},
   "outputs": [
    {
     "name": "stderr",
     "output_type": "stream",
     "text": [
      "/user/home/rt17603/work/environments/openghg_env/lib/python3.8/site-packages/setuptools/distutils_patch.py:25: UserWarning: Distutils was imported before Setuptools. This usage is discouraged and may exhibit undesirable behaviors or errors. Please use Setuptools' objects directly or at least import Setuptools first.\n",
      "  warnings.warn(\n"
     ]
    },
    {
     "name": "stdout",
     "output_type": "stream",
     "text": [
      "Processing: bsd.picarro.1minute.248m.min.dat: 100%|██████████| 3/3 [00:01<00:00,  2.70it/s]\n"
     ]
    }
   ],
   "source": [
    "from openghg.store import ObsSurface\n",
    "\n",
    "decc_results = ObsSurface.read_file(filepath=bsd_filepaths, data_type=\"CRDS\", site=\"bsd\", network=\"DECC\", overwrite=True)"
   ]
  },
  {
   "cell_type": "code",
   "execution_count": 4,
   "metadata": {},
   "outputs": [
    {
     "name": "stdout",
     "output_type": "stream",
     "text": [
      "defaultdict(<class 'dict'>, {'processed': {'bsd.picarro.1minute.42m.min.dat': {'ch4': 'dfff9891-96a0-4a51-99b2-f58a412e61f7', 'co2': '3853bbd9-4650-4755-bf22-80ae8dc121e8', 'co': '08ecef40-b8a4-47d3-a6d7-3aa5a34be876'}, 'bsd.picarro.1minute.108m.min.dat': {'ch4': '1c054a4b-6032-489a-a5ac-111f8074a1c0', 'co2': 'fe6882b2-e982-4998-8a3a-7614149f238e', 'co': '45f21ea7-f371-4120-8488-401ab0169756'}, 'bsd.picarro.1minute.248m.min.dat': {'ch4': '40cf5fc8-54d7-4b7b-97f9-1755de19b838', 'co2': 'cb549b52-6101-44b3-9e9a-6240e7401835', 'co': 'e32b31bd-c032-4d24-bcc8-531798fe8b76'}}})\n"
     ]
    }
   ],
   "source": [
    "print(decc_results)"
   ]
  },
  {
   "cell_type": "markdown",
   "metadata": {},
   "source": [
    "Here this extracts the data (and metadata) from the supplied files, standardises them and adds these to our created object store.\n",
    "\n",
    "The returned `decc_results` will give us a dictionary of how the data has been stored. The data itself may have been split into different entries, each one stored with a unique ID. Each entry is known as a *Datasource* (see below for a note on Datasources). The `decc_results` output includes details of the processed data and tells us that the data has been stored correctly."
   ]
  },
  {
   "cell_type": "markdown",
   "metadata": {},
   "source": [
    "### AGAGE data\n",
    "\n",
    "Another data type which can be added is data from the AGAGE network. The functions that process the AGAGE data expect data to have an accompanying precisions file. For each data file we create a tuple with the data filename and the precisions filename. *Note: A simpler method of uploading these file types is planned.*"
   ]
  },
  {
   "cell_type": "markdown",
   "metadata": {},
   "source": [
    "We must create a `tuple` associated with each data file to link this to a precision file:\n",
    "\n",
    "```python\n",
    "list_of_tuples = [(data1_filepath, precision1_filepath), (data2_filepath, precision2_filepath), ...]\n",
    "```"
   ]
  },
  {
   "cell_type": "markdown",
   "metadata": {},
   "source": [
    "The data being uploaded here is from the Cape Grim station in Australia, site code \"CGO\"."
   ]
  },
  {
   "cell_type": "code",
   "execution_count": 5,
   "metadata": {},
   "outputs": [],
   "source": [
    "agage_tuples = [('../data/AGAGE/capegrim-medusa.18.C', '../data/AGAGE/capegrim-medusa.18.precisions.C')]"
   ]
  },
  {
   "cell_type": "markdown",
   "metadata": {},
   "source": [
    "We can add these files to the object store in the same way as the DECC data but including the right keywords:\n",
    " - site code - `\"CGO\"` for Cape Grim\n",
    " - data type - `\"GCWERKS\"`\n",
    " - network - `\"AGAGE\"`"
   ]
  },
  {
   "cell_type": "code",
   "execution_count": 6,
   "metadata": {},
   "outputs": [
    {
     "name": "stdout",
     "output_type": "stream",
     "text": [
      "Processing: capegrim-medusa.18.C:   0%|          | 0/1 [00:00<?, ?it/s]"
     ]
    },
    {
     "name": "stderr",
     "output_type": "stream",
     "text": [
      "/user/home/rt17603/work/environments/openghg_env/lib/python3.8/site-packages/openghg/standardise/surface/_gcwerks.py:288: PerformanceWarning: DataFrame is highly fragmented.  This is usually the result of calling `frame.insert` many times, which has poor performance.  Consider joining all columns at once using pd.concat(axis=1) instead.  To get a de-fragmented frame, use `newframe = frame.copy()`\n",
      "  data[gas_name + \" integration_flag\"] = (data[column].str[1] != \"-\").astype(int)\n",
      "/user/home/rt17603/work/environments/openghg_env/lib/python3.8/site-packages/openghg/standardise/surface/_gcwerks.py:287: PerformanceWarning: DataFrame is highly fragmented.  This is usually the result of calling `frame.insert` many times, which has poor performance.  Consider joining all columns at once using pd.concat(axis=1) instead.  To get a de-fragmented frame, use `newframe = frame.copy()`\n",
      "  data[gas_name + \" status_flag\"] = (data[column].str[0] != \"-\").astype(int)\n"
     ]
    },
    {
     "name": "stdout",
     "output_type": "stream",
     "text": [
      "Processing: capegrim-medusa.18.C: 100%|██████████| 1/1 [00:01<00:00,  1.65s/it]\n"
     ]
    }
   ],
   "source": [
    "from openghg.store import ObsSurface\n",
    "\n",
    "agage_results = ObsSurface.read_file(filepath=agage_tuples, data_type=\"GCWERKS\", site=\"CGO\", network=\"AGAGE\", overwrite=True)"
   ]
  },
  {
   "cell_type": "markdown",
   "metadata": {},
   "source": [
    "When viewing `agage_results` there will be a large number of Datasource UUIDs shown due to the large number of gases in each data file"
   ]
  },
  {
   "cell_type": "code",
   "execution_count": 7,
   "metadata": {},
   "outputs": [
    {
     "data": {
      "text/plain": [
       "defaultdict(dict,\n",
       "            {'processed': {'capegrim-medusa.18.C': {'nf3_70m': 'c0540085-9bac-4b00-bade-80e84b2bacba',\n",
       "               'cf4_70m': '783bd4d6-3452-4ce3-8c4a-d5f6a7c99747',\n",
       "               'c2f6_70m': 'b6bc203f-b098-4751-9f4b-ba2e712a8c2f',\n",
       "               'c3f8_70m': 'c65701cc-a6cd-40c9-b554-935c23216334',\n",
       "               'c4f8_70m': '0cc00ae7-24ed-479e-8152-007effed2f57',\n",
       "               'c4f10_70m': '3ec31bad-af03-43c5-967e-888b7fd0f2fc',\n",
       "               'c6f14_70m': 'fc835ea3-d762-445b-a00e-e5074b03728f',\n",
       "               'sf6_70m': '7c93982f-856b-4b4f-94fe-f8e710c52b64',\n",
       "               'so2f2_70m': 'f0626856-0c51-4c8b-8210-eda7dca2f54c',\n",
       "               'sf5cf3_70m': '30f8d6dd-3a8a-47c0-8424-d8c209f88f25',\n",
       "               'hfc23_70m': '9024f0ed-e246-43e8-ae1d-3493522f42c8',\n",
       "               'hfc32_70m': 'a8bae867-c95e-4c48-a20d-771274a41e3a',\n",
       "               'hfc125_70m': '9111deb2-38a5-459b-8f3a-adc72cae4622',\n",
       "               'hfc134a_70m': 'c8d2bf39-d1ce-4980-a9ce-cbac514bc04d',\n",
       "               'hfc143a_70m': '8385b933-20c3-4043-ba13-65a74708b57c',\n",
       "               'hfc152a_70m': '7ef103f7-9a2e-4f4e-8095-795a66fed8eb',\n",
       "               'hfc227ea_70m': '4aaa407b-0d0b-455e-b17d-91840d55698d',\n",
       "               'hfc236fa_70m': 'cddc0f49-0131-4d2f-8f2d-a15db6b099af',\n",
       "               'hfc245fa_70m': 'eb15d1d2-06d2-4261-b47b-7e3e66b92c53',\n",
       "               'hfc365mfc_70m': '0b218740-6ad6-4afe-892e-0ce79ead9a95',\n",
       "               'hfc4310mee_70m': 'c2b6df72-6b25-4c7b-87c1-466394f65e40',\n",
       "               'hcfc22_70m': '897b13b7-0bd1-429f-802c-436dff1a9157',\n",
       "               'hcfc124_70m': 'e495cd93-5349-4e7a-a9f6-2cca9bbb261a',\n",
       "               'hcfc132b_70m': '05543c60-c810-42cd-ad0b-cf0834ab860d',\n",
       "               'hcfc133a_70m': '4502e075-7e58-48ce-a386-75b374d4a7cd',\n",
       "               'hcfc141b_70m': '262c8723-49fb-46a7-9756-ba31c699fcd0',\n",
       "               'hcfc142b_70m': '97dc017b-34ec-45ab-8ff6-0994cb88d3c0',\n",
       "               'cfc11_70m': '0c0e14d5-d2cd-4c5e-8cea-e4556c9a44d6',\n",
       "               'cfc12_70m': '1a542988-d878-429a-a050-fdecbb8940b4',\n",
       "               'cfc13_70m': '3308836c-8960-4ed4-8b1a-15e919574dcb',\n",
       "               'cfc112_70m': 'b6102459-d651-4c6c-9439-379aeb8c8288',\n",
       "               'cfc113_70m': '2cc1d92a-c1ef-4d60-aa18-77652cff91fe',\n",
       "               'cfc114_70m': 'ce1d2593-94f3-4387-9e3f-aeeb48e78f4c',\n",
       "               'cfc115_70m': 'b46e439a-06e7-44eb-9283-936c3a15cd08',\n",
       "               'halon1211_70m': '608e6a87-35c7-4def-955e-bb8c5749f8ac',\n",
       "               'halon1301_70m': 'd3746304-f4f1-43fb-97f2-8091bcd32791',\n",
       "               'halon2402_70m': 'e82dbbcb-f0bb-4518-943c-3f15e4b716ef',\n",
       "               'ch3cl_70m': '825e31b6-d2b0-44a0-a7fa-6de763ccd955',\n",
       "               'ch3br_70m': '1d31c5a7-ac43-43ab-a087-ed27ea07e07b',\n",
       "               'ch3i_70m': '9bec8e3f-8ae3-426f-8413-6ad6b36f3fe3',\n",
       "               'ch2cl2_70m': '9eec4004-6045-4c72-8cf2-bc7c2e36b03d',\n",
       "               'chcl3_70m': '1a868e27-bf2b-43e5-89b4-6a31fea9217d',\n",
       "               'ccl4_70m': 'e323aae6-062b-469c-a8e9-10883b09e934',\n",
       "               'ch2br2_70m': '7adf36bd-17f4-477a-85b7-e42a6a6ae8b0',\n",
       "               'chbr3_70m': 'e0560cd8-dc28-42e0-a27b-02f28f748570',\n",
       "               'ch3ccl3_70m': '248db3be-c5ba-4e53-913d-d7b630767b71',\n",
       "               'c2hcl3_70m': 'd74d0b51-8ef0-4a5e-9cdb-7ed1ebf30a1e',\n",
       "               'c2cl4_70m': '119d6854-aff9-445f-9caf-a84db6c4d280',\n",
       "               'c2h2_70m': '488ac43d-dd21-48b5-9022-4223c65cdbe3',\n",
       "               'c2h6_70m': '917bf183-86ef-483c-88f3-81b68409899e',\n",
       "               'c3h8_70m': 'a0202a4b-00ad-47fe-8d4d-78ffee79c9c6',\n",
       "               'cc3h8_70m': 'bbd01185-6d18-4462-9d2b-442b7ca069d5',\n",
       "               'c6h6_70m': 'ca1e8992-7fd5-4e55-bcfd-41f648303023',\n",
       "               'c6h5ch3_70m': 'fa7cb6c1-4bc9-4441-babc-dca03065c8b2',\n",
       "               'cos_70m': '68477e54-530f-4c5b-ace3-301087223b74',\n",
       "               'desflurane_70m': 'd95054f3-930b-4486-b500-82add3827229'}}})"
      ]
     },
     "execution_count": 7,
     "metadata": {},
     "output_type": "execute_result"
    }
   ],
   "source": [
    "agage_results"
   ]
  },
  {
   "cell_type": "markdown",
   "metadata": {},
   "source": [
    "#### A note on Datasources\n",
    "\n",
    "Datasources are objects that are stored in the object store (++add link to object store notes++) that hold the data and metadata associated with each measurement we upload to the platform.\n",
    "\n",
    "For example, if we upload a file that contains readings for three gas species from a single site at a specific inlet height OpenGHG    will assign this data to three different Datasources, one for each species. Metadata such as the site, inlet height, species, network etc are stored alongside the measurements for easy searching. \n",
    "\n",
    "Datasources can also handle multiple versions of data from a single site, so if scales or other factors change multiple versions may be stored for easy future comparison."
   ]
  },
  {
   "cell_type": "markdown",
   "metadata": {},
   "source": [
    "## 3. Searching for data"
   ]
  },
  {
   "cell_type": "markdown",
   "metadata": {},
   "source": [
    "### Visualising the object store\n",
    "\n",
    "Now that we have added data to our created object store, we can view the objects within it in a simple force graph model. To do this we use the `view_store` function from the `objectstore` submodule. Note that the cell may take a few moments to load as the force graph is created.\n",
    "\n",
    "In the force graph the central blue node is the `ObsSurface` node. Associated with this node are all the data processed by it. The next node in the topology are networks, shown in green. In the graph you will see `DECC` and `AGAGE` nodes from the data files we have added. From these you'll see site nodes in red and then individual datasources in orange."
   ]
  },
  {
   "cell_type": "markdown",
   "metadata": {},
   "source": [
    "*Note: The object store visualisation created by this function is commented out here and won't be visible in the documentation but can be uncommented and run when you use the notebook version.*\n"
   ]
  },
  {
   "cell_type": "code",
   "execution_count": 8,
   "metadata": {},
   "outputs": [
    {
     "data": {
      "text/html": [
       "\n",
       "        <iframe\n",
       "            width=\"100%\"\n",
       "            height=\"800px\"\n",
       "            src=\"openghg_objstore.html\"\n",
       "            frameborder=\"0\"\n",
       "            allowfullscreen\n",
       "            \n",
       "        ></iframe>\n",
       "        "
      ],
      "text/plain": [
       "<IPython.lib.display.IFrame at 0x7f1813c51df0>"
      ]
     },
     "execution_count": 8,
     "metadata": {},
     "output_type": "execute_result"
    }
   ],
   "source": [
    "from openghg.objectstore import visualise_store\n",
    "\n",
    "visualise_store()"
   ]
  },
  {
   "cell_type": "markdown",
   "metadata": {},
   "source": [
    "Now we know we have this data in the object store we can search it and retrieve data from it."
   ]
  },
  {
   "cell_type": "markdown",
   "metadata": {},
   "source": [
    "### Searching the object store"
   ]
  },
  {
   "cell_type": "markdown",
   "metadata": {},
   "source": [
    "We can also search the object store by property using the `search(...)` function.\n",
    "\n",
    "For example we can find all sites which have measurements for carbon tetrafluoride (\"cf4\") using the `species` keyword:"
   ]
  },
  {
   "cell_type": "code",
   "execution_count": 9,
   "metadata": {},
   "outputs": [
    {
     "data": {
      "text/plain": [
       "Site: CGO\n",
       "---------\n",
       "cf4 at 70m\n"
      ]
     },
     "execution_count": 9,
     "metadata": {},
     "output_type": "execute_result"
    }
   ],
   "source": [
    "from openghg.retrieve import search\n",
    "search(species=\"cf4\")"
   ]
  },
  {
   "cell_type": "markdown",
   "metadata": {},
   "source": [
    "We could also look for details of all the data measured at the Billsdale (\"BSD\") site using the `site` keyword:"
   ]
  },
  {
   "cell_type": "code",
   "execution_count": 10,
   "metadata": {},
   "outputs": [
    {
     "data": {
      "text/plain": [
       "Site: BSD\n",
       "---------\n",
       "ch4 at 42m, 108m, 248m\n",
       "co2 at 42m, 108m, 248m\n",
       "co at 42m, 108m, 248m\n"
      ]
     },
     "execution_count": 10,
     "metadata": {},
     "output_type": "execute_result"
    }
   ],
   "source": [
    "search(site=\"bsd\")"
   ]
  },
  {
   "cell_type": "markdown",
   "metadata": {},
   "source": [
    "For this site you can see this contains details of each of the species as well as the inlet heights these were measured at."
   ]
  },
  {
   "cell_type": "markdown",
   "metadata": {},
   "source": [
    "## 4. Retrieving data "
   ]
  },
  {
   "cell_type": "markdown",
   "metadata": {},
   "source": [
    "To retrieve the standardised data from the object store there are several functions we can use which depend on the type of data we want to access.\n",
    "\n",
    "To access the surface data we have added so far we can use the `get_obs_surface` function and pass keywords for the site code, species and inlet height to retrieve our data.\n",
    "\n",
    "In this case we want to extract the carbon monoxide (\"co\") data from the Bilsdale data (\"BSD\") site measured at the \"248m\" inlet:"
   ]
  },
  {
   "cell_type": "code",
   "execution_count": 11,
   "metadata": {},
   "outputs": [],
   "source": [
    "from openghg.retrieve import get_obs_surface\n",
    "\n",
    "obs_data = get_obs_surface(site=\"bsd\", species=\"co\", inlet=\"248m\")"
   ]
  },
  {
   "cell_type": "markdown",
   "metadata": {},
   "source": [
    "If we view our returned `obs_data` variable this will contain:\n",
    "\n",
    " - `data` - The standardised data (accessed using e.g. `obs_data.data`). This is returned as an [xarray Dataset](https://xarray.pydata.org/en/stable/generated/xarray.Dataset.html).\n",
    " - `metadata` - The associated metadata (accessed using e.g. `obs_data.metadata`)."
   ]
  },
  {
   "cell_type": "code",
   "execution_count": 12,
   "metadata": {},
   "outputs": [
    {
     "data": {
      "text/plain": [
       "ObsData(data=<xarray.Dataset>\n",
       "Dimensions:                    (time: 142)\n",
       "Coordinates:\n",
       "  * time                       (time) datetime64[ns] 2014-01-30T11:12:30 ... ...\n",
       "Data variables:\n",
       "    mf                         (time) float64 202.4 203.2 205.1 ... 114.5 114.2\n",
       "    mf_variability             (time) float64 5.265 6.307 8.518 ... 7.339 5.405\n",
       "    mf_number_of_observations  (time) float64 26.0 26.0 25.0 ... 23.0 24.0 23.0\n",
       "Attributes: (12/23)\n",
       "    data_owner:           Simon O'Doherty\n",
       "    data_owner_email:     s.odoherty@bristol.ac.uk\n",
       "    inlet_height_magl:    248m\n",
       "    comment:              Cavity ring-down measurements. Output from GCWerks\n",
       "    long_name:            bilsdale\n",
       "    Conditions of use:    Ensure that you contact the data owner at the outse...\n",
       "    ...                   ...\n",
       "    sampling_period:      60\n",
       "    inlet:                248m\n",
       "    port:                 9\n",
       "    type:                 air\n",
       "    network:              decc\n",
       "    scale:                WMO-X2014A, metadata={'site': 'bsd', 'instrument': 'picarro', 'sampling_period': '60', 'inlet': '248m', 'port': '9', 'type': 'air', 'network': 'decc', 'species': 'co', 'scale': 'WMO-X2014A', 'long_name': 'bilsdale', 'data_type': 'timeseries', 'data_owner': \"Simon O'Doherty\", 'data_owner_email': 's.odoherty@bristol.ac.uk', 'inlet_height_magl': '248m', 'comment': 'Cavity ring-down measurements. Output from GCWerks', 'Conditions of use': 'Ensure that you contact the data owner at the outset of your project.', 'Source': 'In situ measurements of air', 'Conventions': 'CF-1.6', 'File created': '2022-01-07 16:47:50.605596+00:00', 'Processed by': 'OpenGHG_Cloud', 'station_longitude': -1.15033, 'station_latitude': 54.35858, 'station_long_name': 'Bilsdale, UK', 'station_height_masl': 380.0})"
      ]
     },
     "execution_count": 12,
     "metadata": {},
     "output_type": "execute_result"
    }
   ],
   "source": [
    "obs_data"
   ]
  },
  {
   "cell_type": "markdown",
   "metadata": {},
   "source": [
    "First we tell `matplotlib` that we are plotting inside a Jupyter notebook, this ensures a plot with controls is created."
   ]
  },
  {
   "cell_type": "code",
   "execution_count": 13,
   "metadata": {},
   "outputs": [],
   "source": [
    "%matplotlib notebook"
   ]
  },
  {
   "cell_type": "code",
   "execution_count": 14,
   "metadata": {},
   "outputs": [
    {
     "data": {
      "application/javascript": "/* Put everything inside the global mpl namespace */\n/* global mpl */\nwindow.mpl = {};\n\nmpl.get_websocket_type = function () {\n    if (typeof WebSocket !== 'undefined') {\n        return WebSocket;\n    } else if (typeof MozWebSocket !== 'undefined') {\n        return MozWebSocket;\n    } else {\n        alert(\n            'Your browser does not have WebSocket support. ' +\n                'Please try Chrome, Safari or Firefox ≥ 6. ' +\n                'Firefox 4 and 5 are also supported but you ' +\n                'have to enable WebSockets in about:config.'\n        );\n    }\n};\n\nmpl.figure = function (figure_id, websocket, ondownload, parent_element) {\n    this.id = figure_id;\n\n    this.ws = websocket;\n\n    this.supports_binary = this.ws.binaryType !== undefined;\n\n    if (!this.supports_binary) {\n        var warnings = document.getElementById('mpl-warnings');\n        if (warnings) {\n            warnings.style.display = 'block';\n            warnings.textContent =\n                'This browser does not support binary websocket messages. ' +\n                'Performance may be slow.';\n        }\n    }\n\n    this.imageObj = new Image();\n\n    this.context = undefined;\n    this.message = undefined;\n    this.canvas = undefined;\n    this.rubberband_canvas = undefined;\n    this.rubberband_context = undefined;\n    this.format_dropdown = undefined;\n\n    this.image_mode = 'full';\n\n    this.root = document.createElement('div');\n    this.root.setAttribute('style', 'display: inline-block');\n    this._root_extra_style(this.root);\n\n    parent_element.appendChild(this.root);\n\n    this._init_header(this);\n    this._init_canvas(this);\n    this._init_toolbar(this);\n\n    var fig = this;\n\n    this.waiting = false;\n\n    this.ws.onopen = function () {\n        fig.send_message('supports_binary', { value: fig.supports_binary });\n        fig.send_message('send_image_mode', {});\n        if (fig.ratio !== 1) {\n            fig.send_message('set_device_pixel_ratio', {\n                device_pixel_ratio: fig.ratio,\n            });\n        }\n        fig.send_message('refresh', {});\n    };\n\n    this.imageObj.onload = function () {\n        if (fig.image_mode === 'full') {\n            // Full images could contain transparency (where diff images\n            // almost always do), so we need to clear the canvas so that\n            // there is no ghosting.\n            fig.context.clearRect(0, 0, fig.canvas.width, fig.canvas.height);\n        }\n        fig.context.drawImage(fig.imageObj, 0, 0);\n    };\n\n    this.imageObj.onunload = function () {\n        fig.ws.close();\n    };\n\n    this.ws.onmessage = this._make_on_message_function(this);\n\n    this.ondownload = ondownload;\n};\n\nmpl.figure.prototype._init_header = function () {\n    var titlebar = document.createElement('div');\n    titlebar.classList =\n        'ui-dialog-titlebar ui-widget-header ui-corner-all ui-helper-clearfix';\n    var titletext = document.createElement('div');\n    titletext.classList = 'ui-dialog-title';\n    titletext.setAttribute(\n        'style',\n        'width: 100%; text-align: center; padding: 3px;'\n    );\n    titlebar.appendChild(titletext);\n    this.root.appendChild(titlebar);\n    this.header = titletext;\n};\n\nmpl.figure.prototype._canvas_extra_style = function (_canvas_div) {};\n\nmpl.figure.prototype._root_extra_style = function (_canvas_div) {};\n\nmpl.figure.prototype._init_canvas = function () {\n    var fig = this;\n\n    var canvas_div = (this.canvas_div = document.createElement('div'));\n    canvas_div.setAttribute(\n        'style',\n        'border: 1px solid #ddd;' +\n            'box-sizing: content-box;' +\n            'clear: both;' +\n            'min-height: 1px;' +\n            'min-width: 1px;' +\n            'outline: 0;' +\n            'overflow: hidden;' +\n            'position: relative;' +\n            'resize: both;'\n    );\n\n    function on_keyboard_event_closure(name) {\n        return function (event) {\n            return fig.key_event(event, name);\n        };\n    }\n\n    canvas_div.addEventListener(\n        'keydown',\n        on_keyboard_event_closure('key_press')\n    );\n    canvas_div.addEventListener(\n        'keyup',\n        on_keyboard_event_closure('key_release')\n    );\n\n    this._canvas_extra_style(canvas_div);\n    this.root.appendChild(canvas_div);\n\n    var canvas = (this.canvas = document.createElement('canvas'));\n    canvas.classList.add('mpl-canvas');\n    canvas.setAttribute('style', 'box-sizing: content-box;');\n\n    this.context = canvas.getContext('2d');\n\n    var backingStore =\n        this.context.backingStorePixelRatio ||\n        this.context.webkitBackingStorePixelRatio ||\n        this.context.mozBackingStorePixelRatio ||\n        this.context.msBackingStorePixelRatio ||\n        this.context.oBackingStorePixelRatio ||\n        this.context.backingStorePixelRatio ||\n        1;\n\n    this.ratio = (window.devicePixelRatio || 1) / backingStore;\n\n    var rubberband_canvas = (this.rubberband_canvas = document.createElement(\n        'canvas'\n    ));\n    rubberband_canvas.setAttribute(\n        'style',\n        'box-sizing: content-box; position: absolute; left: 0; top: 0; z-index: 1;'\n    );\n\n    // Apply a ponyfill if ResizeObserver is not implemented by browser.\n    if (this.ResizeObserver === undefined) {\n        if (window.ResizeObserver !== undefined) {\n            this.ResizeObserver = window.ResizeObserver;\n        } else {\n            var obs = _JSXTOOLS_RESIZE_OBSERVER({});\n            this.ResizeObserver = obs.ResizeObserver;\n        }\n    }\n\n    this.resizeObserverInstance = new this.ResizeObserver(function (entries) {\n        var nentries = entries.length;\n        for (var i = 0; i < nentries; i++) {\n            var entry = entries[i];\n            var width, height;\n            if (entry.contentBoxSize) {\n                if (entry.contentBoxSize instanceof Array) {\n                    // Chrome 84 implements new version of spec.\n                    width = entry.contentBoxSize[0].inlineSize;\n                    height = entry.contentBoxSize[0].blockSize;\n                } else {\n                    // Firefox implements old version of spec.\n                    width = entry.contentBoxSize.inlineSize;\n                    height = entry.contentBoxSize.blockSize;\n                }\n            } else {\n                // Chrome <84 implements even older version of spec.\n                width = entry.contentRect.width;\n                height = entry.contentRect.height;\n            }\n\n            // Keep the size of the canvas and rubber band canvas in sync with\n            // the canvas container.\n            if (entry.devicePixelContentBoxSize) {\n                // Chrome 84 implements new version of spec.\n                canvas.setAttribute(\n                    'width',\n                    entry.devicePixelContentBoxSize[0].inlineSize\n                );\n                canvas.setAttribute(\n                    'height',\n                    entry.devicePixelContentBoxSize[0].blockSize\n                );\n            } else {\n                canvas.setAttribute('width', width * fig.ratio);\n                canvas.setAttribute('height', height * fig.ratio);\n            }\n            canvas.setAttribute(\n                'style',\n                'width: ' + width + 'px; height: ' + height + 'px;'\n            );\n\n            rubberband_canvas.setAttribute('width', width);\n            rubberband_canvas.setAttribute('height', height);\n\n            // And update the size in Python. We ignore the initial 0/0 size\n            // that occurs as the element is placed into the DOM, which should\n            // otherwise not happen due to the minimum size styling.\n            if (fig.ws.readyState == 1 && width != 0 && height != 0) {\n                fig.request_resize(width, height);\n            }\n        }\n    });\n    this.resizeObserverInstance.observe(canvas_div);\n\n    function on_mouse_event_closure(name) {\n        return function (event) {\n            return fig.mouse_event(event, name);\n        };\n    }\n\n    rubberband_canvas.addEventListener(\n        'mousedown',\n        on_mouse_event_closure('button_press')\n    );\n    rubberband_canvas.addEventListener(\n        'mouseup',\n        on_mouse_event_closure('button_release')\n    );\n    rubberband_canvas.addEventListener(\n        'dblclick',\n        on_mouse_event_closure('dblclick')\n    );\n    // Throttle sequential mouse events to 1 every 20ms.\n    rubberband_canvas.addEventListener(\n        'mousemove',\n        on_mouse_event_closure('motion_notify')\n    );\n\n    rubberband_canvas.addEventListener(\n        'mouseenter',\n        on_mouse_event_closure('figure_enter')\n    );\n    rubberband_canvas.addEventListener(\n        'mouseleave',\n        on_mouse_event_closure('figure_leave')\n    );\n\n    canvas_div.addEventListener('wheel', function (event) {\n        if (event.deltaY < 0) {\n            event.step = 1;\n        } else {\n            event.step = -1;\n        }\n        on_mouse_event_closure('scroll')(event);\n    });\n\n    canvas_div.appendChild(canvas);\n    canvas_div.appendChild(rubberband_canvas);\n\n    this.rubberband_context = rubberband_canvas.getContext('2d');\n    this.rubberband_context.strokeStyle = '#000000';\n\n    this._resize_canvas = function (width, height, forward) {\n        if (forward) {\n            canvas_div.style.width = width + 'px';\n            canvas_div.style.height = height + 'px';\n        }\n    };\n\n    // Disable right mouse context menu.\n    this.rubberband_canvas.addEventListener('contextmenu', function (_e) {\n        event.preventDefault();\n        return false;\n    });\n\n    function set_focus() {\n        canvas.focus();\n        canvas_div.focus();\n    }\n\n    window.setTimeout(set_focus, 100);\n};\n\nmpl.figure.prototype._init_toolbar = function () {\n    var fig = this;\n\n    var toolbar = document.createElement('div');\n    toolbar.classList = 'mpl-toolbar';\n    this.root.appendChild(toolbar);\n\n    function on_click_closure(name) {\n        return function (_event) {\n            return fig.toolbar_button_onclick(name);\n        };\n    }\n\n    function on_mouseover_closure(tooltip) {\n        return function (event) {\n            if (!event.currentTarget.disabled) {\n                return fig.toolbar_button_onmouseover(tooltip);\n            }\n        };\n    }\n\n    fig.buttons = {};\n    var buttonGroup = document.createElement('div');\n    buttonGroup.classList = 'mpl-button-group';\n    for (var toolbar_ind in mpl.toolbar_items) {\n        var name = mpl.toolbar_items[toolbar_ind][0];\n        var tooltip = mpl.toolbar_items[toolbar_ind][1];\n        var image = mpl.toolbar_items[toolbar_ind][2];\n        var method_name = mpl.toolbar_items[toolbar_ind][3];\n\n        if (!name) {\n            /* Instead of a spacer, we start a new button group. */\n            if (buttonGroup.hasChildNodes()) {\n                toolbar.appendChild(buttonGroup);\n            }\n            buttonGroup = document.createElement('div');\n            buttonGroup.classList = 'mpl-button-group';\n            continue;\n        }\n\n        var button = (fig.buttons[name] = document.createElement('button'));\n        button.classList = 'mpl-widget';\n        button.setAttribute('role', 'button');\n        button.setAttribute('aria-disabled', 'false');\n        button.addEventListener('click', on_click_closure(method_name));\n        button.addEventListener('mouseover', on_mouseover_closure(tooltip));\n\n        var icon_img = document.createElement('img');\n        icon_img.src = '_images/' + image + '.png';\n        icon_img.srcset = '_images/' + image + '_large.png 2x';\n        icon_img.alt = tooltip;\n        button.appendChild(icon_img);\n\n        buttonGroup.appendChild(button);\n    }\n\n    if (buttonGroup.hasChildNodes()) {\n        toolbar.appendChild(buttonGroup);\n    }\n\n    var fmt_picker = document.createElement('select');\n    fmt_picker.classList = 'mpl-widget';\n    toolbar.appendChild(fmt_picker);\n    this.format_dropdown = fmt_picker;\n\n    for (var ind in mpl.extensions) {\n        var fmt = mpl.extensions[ind];\n        var option = document.createElement('option');\n        option.selected = fmt === mpl.default_extension;\n        option.innerHTML = fmt;\n        fmt_picker.appendChild(option);\n    }\n\n    var status_bar = document.createElement('span');\n    status_bar.classList = 'mpl-message';\n    toolbar.appendChild(status_bar);\n    this.message = status_bar;\n};\n\nmpl.figure.prototype.request_resize = function (x_pixels, y_pixels) {\n    // Request matplotlib to resize the figure. Matplotlib will then trigger a resize in the client,\n    // which will in turn request a refresh of the image.\n    this.send_message('resize', { width: x_pixels, height: y_pixels });\n};\n\nmpl.figure.prototype.send_message = function (type, properties) {\n    properties['type'] = type;\n    properties['figure_id'] = this.id;\n    this.ws.send(JSON.stringify(properties));\n};\n\nmpl.figure.prototype.send_draw_message = function () {\n    if (!this.waiting) {\n        this.waiting = true;\n        this.ws.send(JSON.stringify({ type: 'draw', figure_id: this.id }));\n    }\n};\n\nmpl.figure.prototype.handle_save = function (fig, _msg) {\n    var format_dropdown = fig.format_dropdown;\n    var format = format_dropdown.options[format_dropdown.selectedIndex].value;\n    fig.ondownload(fig, format);\n};\n\nmpl.figure.prototype.handle_resize = function (fig, msg) {\n    var size = msg['size'];\n    if (size[0] !== fig.canvas.width || size[1] !== fig.canvas.height) {\n        fig._resize_canvas(size[0], size[1], msg['forward']);\n        fig.send_message('refresh', {});\n    }\n};\n\nmpl.figure.prototype.handle_rubberband = function (fig, msg) {\n    var x0 = msg['x0'] / fig.ratio;\n    var y0 = (fig.canvas.height - msg['y0']) / fig.ratio;\n    var x1 = msg['x1'] / fig.ratio;\n    var y1 = (fig.canvas.height - msg['y1']) / fig.ratio;\n    x0 = Math.floor(x0) + 0.5;\n    y0 = Math.floor(y0) + 0.5;\n    x1 = Math.floor(x1) + 0.5;\n    y1 = Math.floor(y1) + 0.5;\n    var min_x = Math.min(x0, x1);\n    var min_y = Math.min(y0, y1);\n    var width = Math.abs(x1 - x0);\n    var height = Math.abs(y1 - y0);\n\n    fig.rubberband_context.clearRect(\n        0,\n        0,\n        fig.canvas.width / fig.ratio,\n        fig.canvas.height / fig.ratio\n    );\n\n    fig.rubberband_context.strokeRect(min_x, min_y, width, height);\n};\n\nmpl.figure.prototype.handle_figure_label = function (fig, msg) {\n    // Updates the figure title.\n    fig.header.textContent = msg['label'];\n};\n\nmpl.figure.prototype.handle_cursor = function (fig, msg) {\n    fig.rubberband_canvas.style.cursor = msg['cursor'];\n};\n\nmpl.figure.prototype.handle_message = function (fig, msg) {\n    fig.message.textContent = msg['message'];\n};\n\nmpl.figure.prototype.handle_draw = function (fig, _msg) {\n    // Request the server to send over a new figure.\n    fig.send_draw_message();\n};\n\nmpl.figure.prototype.handle_image_mode = function (fig, msg) {\n    fig.image_mode = msg['mode'];\n};\n\nmpl.figure.prototype.handle_history_buttons = function (fig, msg) {\n    for (var key in msg) {\n        if (!(key in fig.buttons)) {\n            continue;\n        }\n        fig.buttons[key].disabled = !msg[key];\n        fig.buttons[key].setAttribute('aria-disabled', !msg[key]);\n    }\n};\n\nmpl.figure.prototype.handle_navigate_mode = function (fig, msg) {\n    if (msg['mode'] === 'PAN') {\n        fig.buttons['Pan'].classList.add('active');\n        fig.buttons['Zoom'].classList.remove('active');\n    } else if (msg['mode'] === 'ZOOM') {\n        fig.buttons['Pan'].classList.remove('active');\n        fig.buttons['Zoom'].classList.add('active');\n    } else {\n        fig.buttons['Pan'].classList.remove('active');\n        fig.buttons['Zoom'].classList.remove('active');\n    }\n};\n\nmpl.figure.prototype.updated_canvas_event = function () {\n    // Called whenever the canvas gets updated.\n    this.send_message('ack', {});\n};\n\n// A function to construct a web socket function for onmessage handling.\n// Called in the figure constructor.\nmpl.figure.prototype._make_on_message_function = function (fig) {\n    return function socket_on_message(evt) {\n        if (evt.data instanceof Blob) {\n            var img = evt.data;\n            if (img.type !== 'image/png') {\n                /* FIXME: We get \"Resource interpreted as Image but\n                 * transferred with MIME type text/plain:\" errors on\n                 * Chrome.  But how to set the MIME type?  It doesn't seem\n                 * to be part of the websocket stream */\n                img.type = 'image/png';\n            }\n\n            /* Free the memory for the previous frames */\n            if (fig.imageObj.src) {\n                (window.URL || window.webkitURL).revokeObjectURL(\n                    fig.imageObj.src\n                );\n            }\n\n            fig.imageObj.src = (window.URL || window.webkitURL).createObjectURL(\n                img\n            );\n            fig.updated_canvas_event();\n            fig.waiting = false;\n            return;\n        } else if (\n            typeof evt.data === 'string' &&\n            evt.data.slice(0, 21) === 'data:image/png;base64'\n        ) {\n            fig.imageObj.src = evt.data;\n            fig.updated_canvas_event();\n            fig.waiting = false;\n            return;\n        }\n\n        var msg = JSON.parse(evt.data);\n        var msg_type = msg['type'];\n\n        // Call the  \"handle_{type}\" callback, which takes\n        // the figure and JSON message as its only arguments.\n        try {\n            var callback = fig['handle_' + msg_type];\n        } catch (e) {\n            console.log(\n                \"No handler for the '\" + msg_type + \"' message type: \",\n                msg\n            );\n            return;\n        }\n\n        if (callback) {\n            try {\n                // console.log(\"Handling '\" + msg_type + \"' message: \", msg);\n                callback(fig, msg);\n            } catch (e) {\n                console.log(\n                    \"Exception inside the 'handler_\" + msg_type + \"' callback:\",\n                    e,\n                    e.stack,\n                    msg\n                );\n            }\n        }\n    };\n};\n\n// from https://stackoverflow.com/questions/1114465/getting-mouse-location-in-canvas\nmpl.findpos = function (e) {\n    //this section is from http://www.quirksmode.org/js/events_properties.html\n    var targ;\n    if (!e) {\n        e = window.event;\n    }\n    if (e.target) {\n        targ = e.target;\n    } else if (e.srcElement) {\n        targ = e.srcElement;\n    }\n    if (targ.nodeType === 3) {\n        // defeat Safari bug\n        targ = targ.parentNode;\n    }\n\n    // pageX,Y are the mouse positions relative to the document\n    var boundingRect = targ.getBoundingClientRect();\n    var x = e.pageX - (boundingRect.left + document.body.scrollLeft);\n    var y = e.pageY - (boundingRect.top + document.body.scrollTop);\n\n    return { x: x, y: y };\n};\n\n/*\n * return a copy of an object with only non-object keys\n * we need this to avoid circular references\n * https://stackoverflow.com/a/24161582/3208463\n */\nfunction simpleKeys(original) {\n    return Object.keys(original).reduce(function (obj, key) {\n        if (typeof original[key] !== 'object') {\n            obj[key] = original[key];\n        }\n        return obj;\n    }, {});\n}\n\nmpl.figure.prototype.mouse_event = function (event, name) {\n    var canvas_pos = mpl.findpos(event);\n\n    if (name === 'button_press') {\n        this.canvas.focus();\n        this.canvas_div.focus();\n    }\n\n    var x = canvas_pos.x * this.ratio;\n    var y = canvas_pos.y * this.ratio;\n\n    this.send_message(name, {\n        x: x,\n        y: y,\n        button: event.button,\n        step: event.step,\n        guiEvent: simpleKeys(event),\n    });\n\n    /* This prevents the web browser from automatically changing to\n     * the text insertion cursor when the button is pressed.  We want\n     * to control all of the cursor setting manually through the\n     * 'cursor' event from matplotlib */\n    event.preventDefault();\n    return false;\n};\n\nmpl.figure.prototype._key_event_extra = function (_event, _name) {\n    // Handle any extra behaviour associated with a key event\n};\n\nmpl.figure.prototype.key_event = function (event, name) {\n    // Prevent repeat events\n    if (name === 'key_press') {\n        if (event.key === this._key) {\n            return;\n        } else {\n            this._key = event.key;\n        }\n    }\n    if (name === 'key_release') {\n        this._key = null;\n    }\n\n    var value = '';\n    if (event.ctrlKey && event.key !== 'Control') {\n        value += 'ctrl+';\n    }\n    else if (event.altKey && event.key !== 'Alt') {\n        value += 'alt+';\n    }\n    else if (event.shiftKey && event.key !== 'Shift') {\n        value += 'shift+';\n    }\n\n    value += 'k' + event.key;\n\n    this._key_event_extra(event, name);\n\n    this.send_message(name, { key: value, guiEvent: simpleKeys(event) });\n    return false;\n};\n\nmpl.figure.prototype.toolbar_button_onclick = function (name) {\n    if (name === 'download') {\n        this.handle_save(this, null);\n    } else {\n        this.send_message('toolbar_button', { name: name });\n    }\n};\n\nmpl.figure.prototype.toolbar_button_onmouseover = function (tooltip) {\n    this.message.textContent = tooltip;\n};\n\n///////////////// REMAINING CONTENT GENERATED BY embed_js.py /////////////////\n// prettier-ignore\nvar _JSXTOOLS_RESIZE_OBSERVER=function(A){var t,i=new WeakMap,n=new WeakMap,a=new WeakMap,r=new WeakMap,o=new Set;function s(e){if(!(this instanceof s))throw new TypeError(\"Constructor requires 'new' operator\");i.set(this,e)}function h(){throw new TypeError(\"Function is not a constructor\")}function c(e,t,i,n){e=0 in arguments?Number(arguments[0]):0,t=1 in arguments?Number(arguments[1]):0,i=2 in arguments?Number(arguments[2]):0,n=3 in arguments?Number(arguments[3]):0,this.right=(this.x=this.left=e)+(this.width=i),this.bottom=(this.y=this.top=t)+(this.height=n),Object.freeze(this)}function d(){t=requestAnimationFrame(d);var s=new WeakMap,p=new Set;o.forEach((function(t){r.get(t).forEach((function(i){var r=t instanceof window.SVGElement,o=a.get(t),d=r?0:parseFloat(o.paddingTop),f=r?0:parseFloat(o.paddingRight),l=r?0:parseFloat(o.paddingBottom),u=r?0:parseFloat(o.paddingLeft),g=r?0:parseFloat(o.borderTopWidth),m=r?0:parseFloat(o.borderRightWidth),w=r?0:parseFloat(o.borderBottomWidth),b=u+f,F=d+l,v=(r?0:parseFloat(o.borderLeftWidth))+m,W=g+w,y=r?0:t.offsetHeight-W-t.clientHeight,E=r?0:t.offsetWidth-v-t.clientWidth,R=b+v,z=F+W,M=r?t.width:parseFloat(o.width)-R-E,O=r?t.height:parseFloat(o.height)-z-y;if(n.has(t)){var k=n.get(t);if(k[0]===M&&k[1]===O)return}n.set(t,[M,O]);var S=Object.create(h.prototype);S.target=t,S.contentRect=new c(u,d,M,O),s.has(i)||(s.set(i,[]),p.add(i)),s.get(i).push(S)}))})),p.forEach((function(e){i.get(e).call(e,s.get(e),e)}))}return s.prototype.observe=function(i){if(i instanceof window.Element){r.has(i)||(r.set(i,new Set),o.add(i),a.set(i,window.getComputedStyle(i)));var n=r.get(i);n.has(this)||n.add(this),cancelAnimationFrame(t),t=requestAnimationFrame(d)}},s.prototype.unobserve=function(i){if(i instanceof window.Element&&r.has(i)){var n=r.get(i);n.has(this)&&(n.delete(this),n.size||(r.delete(i),o.delete(i))),n.size||r.delete(i),o.size||cancelAnimationFrame(t)}},A.DOMRectReadOnly=c,A.ResizeObserver=s,A.ResizeObserverEntry=h,A}; // eslint-disable-line\nmpl.toolbar_items = [[\"Home\", \"Reset original view\", \"fa fa-home icon-home\", \"home\"], [\"Back\", \"Back to previous view\", \"fa fa-arrow-left icon-arrow-left\", \"back\"], [\"Forward\", \"Forward to next view\", \"fa fa-arrow-right icon-arrow-right\", \"forward\"], [\"\", \"\", \"\", \"\"], [\"Pan\", \"Left button pans, Right button zooms\\nx/y fixes axis, CTRL fixes aspect\", \"fa fa-arrows icon-move\", \"pan\"], [\"Zoom\", \"Zoom to rectangle\\nx/y fixes axis\", \"fa fa-square-o icon-check-empty\", \"zoom\"], [\"\", \"\", \"\", \"\"], [\"Download\", \"Download plot\", \"fa fa-floppy-o icon-save\", \"download\"]];\n\nmpl.extensions = [\"eps\", \"jpeg\", \"pgf\", \"pdf\", \"png\", \"ps\", \"raw\", \"svg\", \"tif\"];\n\nmpl.default_extension = \"png\";/* global mpl */\n\nvar comm_websocket_adapter = function (comm) {\n    // Create a \"websocket\"-like object which calls the given IPython comm\n    // object with the appropriate methods. Currently this is a non binary\n    // socket, so there is still some room for performance tuning.\n    var ws = {};\n\n    ws.binaryType = comm.kernel.ws.binaryType;\n    ws.readyState = comm.kernel.ws.readyState;\n    function updateReadyState(_event) {\n        if (comm.kernel.ws) {\n            ws.readyState = comm.kernel.ws.readyState;\n        } else {\n            ws.readyState = 3; // Closed state.\n        }\n    }\n    comm.kernel.ws.addEventListener('open', updateReadyState);\n    comm.kernel.ws.addEventListener('close', updateReadyState);\n    comm.kernel.ws.addEventListener('error', updateReadyState);\n\n    ws.close = function () {\n        comm.close();\n    };\n    ws.send = function (m) {\n        //console.log('sending', m);\n        comm.send(m);\n    };\n    // Register the callback with on_msg.\n    comm.on_msg(function (msg) {\n        //console.log('receiving', msg['content']['data'], msg);\n        var data = msg['content']['data'];\n        if (data['blob'] !== undefined) {\n            data = {\n                data: new Blob(msg['buffers'], { type: data['blob'] }),\n            };\n        }\n        // Pass the mpl event to the overridden (by mpl) onmessage function.\n        ws.onmessage(data);\n    });\n    return ws;\n};\n\nmpl.mpl_figure_comm = function (comm, msg) {\n    // This is the function which gets called when the mpl process\n    // starts-up an IPython Comm through the \"matplotlib\" channel.\n\n    var id = msg.content.data.id;\n    // Get hold of the div created by the display call when the Comm\n    // socket was opened in Python.\n    var element = document.getElementById(id);\n    var ws_proxy = comm_websocket_adapter(comm);\n\n    function ondownload(figure, _format) {\n        window.open(figure.canvas.toDataURL());\n    }\n\n    var fig = new mpl.figure(id, ws_proxy, ondownload, element);\n\n    // Call onopen now - mpl needs it, as it is assuming we've passed it a real\n    // web socket which is closed, not our websocket->open comm proxy.\n    ws_proxy.onopen();\n\n    fig.parent_element = element;\n    fig.cell_info = mpl.find_output_cell(\"<div id='\" + id + \"'></div>\");\n    if (!fig.cell_info) {\n        console.error('Failed to find cell for figure', id, fig);\n        return;\n    }\n    fig.cell_info[0].output_area.element.on(\n        'cleared',\n        { fig: fig },\n        fig._remove_fig_handler\n    );\n};\n\nmpl.figure.prototype.handle_close = function (fig, msg) {\n    var width = fig.canvas.width / fig.ratio;\n    fig.cell_info[0].output_area.element.off(\n        'cleared',\n        fig._remove_fig_handler\n    );\n    fig.resizeObserverInstance.unobserve(fig.canvas_div);\n\n    // Update the output cell to use the data from the current canvas.\n    fig.push_to_output();\n    var dataURL = fig.canvas.toDataURL();\n    // Re-enable the keyboard manager in IPython - without this line, in FF,\n    // the notebook keyboard shortcuts fail.\n    IPython.keyboard_manager.enable();\n    fig.parent_element.innerHTML =\n        '<img src=\"' + dataURL + '\" width=\"' + width + '\">';\n    fig.close_ws(fig, msg);\n};\n\nmpl.figure.prototype.close_ws = function (fig, msg) {\n    fig.send_message('closing', msg);\n    // fig.ws.close()\n};\n\nmpl.figure.prototype.push_to_output = function (_remove_interactive) {\n    // Turn the data on the canvas into data in the output cell.\n    var width = this.canvas.width / this.ratio;\n    var dataURL = this.canvas.toDataURL();\n    this.cell_info[1]['text/html'] =\n        '<img src=\"' + dataURL + '\" width=\"' + width + '\">';\n};\n\nmpl.figure.prototype.updated_canvas_event = function () {\n    // Tell IPython that the notebook contents must change.\n    IPython.notebook.set_dirty(true);\n    this.send_message('ack', {});\n    var fig = this;\n    // Wait a second, then push the new image to the DOM so\n    // that it is saved nicely (might be nice to debounce this).\n    setTimeout(function () {\n        fig.push_to_output();\n    }, 1000);\n};\n\nmpl.figure.prototype._init_toolbar = function () {\n    var fig = this;\n\n    var toolbar = document.createElement('div');\n    toolbar.classList = 'btn-toolbar';\n    this.root.appendChild(toolbar);\n\n    function on_click_closure(name) {\n        return function (_event) {\n            return fig.toolbar_button_onclick(name);\n        };\n    }\n\n    function on_mouseover_closure(tooltip) {\n        return function (event) {\n            if (!event.currentTarget.disabled) {\n                return fig.toolbar_button_onmouseover(tooltip);\n            }\n        };\n    }\n\n    fig.buttons = {};\n    var buttonGroup = document.createElement('div');\n    buttonGroup.classList = 'btn-group';\n    var button;\n    for (var toolbar_ind in mpl.toolbar_items) {\n        var name = mpl.toolbar_items[toolbar_ind][0];\n        var tooltip = mpl.toolbar_items[toolbar_ind][1];\n        var image = mpl.toolbar_items[toolbar_ind][2];\n        var method_name = mpl.toolbar_items[toolbar_ind][3];\n\n        if (!name) {\n            /* Instead of a spacer, we start a new button group. */\n            if (buttonGroup.hasChildNodes()) {\n                toolbar.appendChild(buttonGroup);\n            }\n            buttonGroup = document.createElement('div');\n            buttonGroup.classList = 'btn-group';\n            continue;\n        }\n\n        button = fig.buttons[name] = document.createElement('button');\n        button.classList = 'btn btn-default';\n        button.href = '#';\n        button.title = name;\n        button.innerHTML = '<i class=\"fa ' + image + ' fa-lg\"></i>';\n        button.addEventListener('click', on_click_closure(method_name));\n        button.addEventListener('mouseover', on_mouseover_closure(tooltip));\n        buttonGroup.appendChild(button);\n    }\n\n    if (buttonGroup.hasChildNodes()) {\n        toolbar.appendChild(buttonGroup);\n    }\n\n    // Add the status bar.\n    var status_bar = document.createElement('span');\n    status_bar.classList = 'mpl-message pull-right';\n    toolbar.appendChild(status_bar);\n    this.message = status_bar;\n\n    // Add the close button to the window.\n    var buttongrp = document.createElement('div');\n    buttongrp.classList = 'btn-group inline pull-right';\n    button = document.createElement('button');\n    button.classList = 'btn btn-mini btn-primary';\n    button.href = '#';\n    button.title = 'Stop Interaction';\n    button.innerHTML = '<i class=\"fa fa-power-off icon-remove icon-large\"></i>';\n    button.addEventListener('click', function (_evt) {\n        fig.handle_close(fig, {});\n    });\n    button.addEventListener(\n        'mouseover',\n        on_mouseover_closure('Stop Interaction')\n    );\n    buttongrp.appendChild(button);\n    var titlebar = this.root.querySelector('.ui-dialog-titlebar');\n    titlebar.insertBefore(buttongrp, titlebar.firstChild);\n};\n\nmpl.figure.prototype._remove_fig_handler = function (event) {\n    var fig = event.data.fig;\n    if (event.target !== this) {\n        // Ignore bubbled events from children.\n        return;\n    }\n    fig.close_ws(fig, {});\n};\n\nmpl.figure.prototype._root_extra_style = function (el) {\n    el.style.boxSizing = 'content-box'; // override notebook setting of border-box.\n};\n\nmpl.figure.prototype._canvas_extra_style = function (el) {\n    // this is important to make the div 'focusable\n    el.setAttribute('tabindex', 0);\n    // reach out to IPython and tell the keyboard manager to turn it's self\n    // off when our div gets focus\n\n    // location in version 3\n    if (IPython.notebook.keyboard_manager) {\n        IPython.notebook.keyboard_manager.register_events(el);\n    } else {\n        // location in version 2\n        IPython.keyboard_manager.register_events(el);\n    }\n};\n\nmpl.figure.prototype._key_event_extra = function (event, _name) {\n    // Check for shift+enter\n    if (event.shiftKey && event.which === 13) {\n        this.canvas_div.blur();\n        // select the cell after this one\n        var index = IPython.notebook.find_cell_index(this.cell_info[0]);\n        IPython.notebook.select(index + 1);\n    }\n};\n\nmpl.figure.prototype.handle_save = function (fig, _msg) {\n    fig.ondownload(fig, null);\n};\n\nmpl.find_output_cell = function (html_output) {\n    // Return the cell and output element which can be found *uniquely* in the notebook.\n    // Note - this is a bit hacky, but it is done because the \"notebook_saving.Notebook\"\n    // IPython event is triggered only after the cells have been serialised, which for\n    // our purposes (turning an active figure into a static one), is too late.\n    var cells = IPython.notebook.get_cells();\n    var ncells = cells.length;\n    for (var i = 0; i < ncells; i++) {\n        var cell = cells[i];\n        if (cell.cell_type === 'code') {\n            for (var j = 0; j < cell.output_area.outputs.length; j++) {\n                var data = cell.output_area.outputs[j];\n                if (data.data) {\n                    // IPython >= 3 moved mimebundle to data attribute of output\n                    data = data.data;\n                }\n                if (data['text/html'] === html_output) {\n                    return [cell, data, j];\n                }\n            }\n        }\n    }\n};\n\n// Register the function which deals with the matplotlib target/channel.\n// The kernel may be null if the page has been refreshed.\nif (IPython.notebook.kernel !== null) {\n    IPython.notebook.kernel.comm_manager.register_target(\n        'matplotlib',\n        mpl.mpl_figure_comm\n    );\n}\n",
      "text/plain": [
       "<IPython.core.display.Javascript object>"
      ]
     },
     "metadata": {},
     "output_type": "display_data"
    },
    {
     "data": {
      "text/html": [
       "<div id='8e21f0a9-02a0-487f-82cf-b6c2d8d547d9'></div>"
      ],
      "text/plain": [
       "<IPython.core.display.HTML object>"
      ]
     },
     "metadata": {},
     "output_type": "display_data"
    },
    {
     "data": {
      "text/plain": [
       "[<matplotlib.lines.Line2D at 0x7f1813bba2b0>]"
      ]
     },
     "execution_count": 14,
     "metadata": {},
     "output_type": "execute_result"
    }
   ],
   "source": [
    "example_data = obs_data.data\n",
    "mol_frac = example_data.mf\n",
    "mol_frac.plot()"
   ]
  },
  {
   "cell_type": "markdown",
   "metadata": {},
   "source": [
    "## 5. Ranking data"
   ]
  },
  {
   "cell_type": "markdown",
   "metadata": {},
   "source": [
    "The dates that the data from Heathfield retrieved above overlap. If we want to easily retrieve the highest quality data from Heathfield over a range of dates we don't want to have to repeatedly check which was the correct inlet/instrument for a given daterange. This problem is solved using ranking. \n",
    "\n",
    "A given inlet on a specific instrument at a site can be given a rank for a daterange. To do this we use the `RankSources` class from the `localclient` submodule."
   ]
  },
  {
   "cell_type": "markdown",
   "metadata": {},
   "source": [
    "## Get ranking data"
   ]
  },
  {
   "cell_type": "code",
   "execution_count": 15,
   "metadata": {},
   "outputs": [
    {
     "data": {
      "text/plain": [
       "{'co_42m_picarro': {'rank_data': 'NA',\n",
       "  'data_range': '2014-01-30T11:12:30_2020-12-01T22:31:30'},\n",
       " 'co_108m_picarro': {'rank_data': 'NA',\n",
       "  'data_range': '2014-01-30T11:12:30_2020-12-01T22:31:30'},\n",
       " 'co_248m_picarro': {'rank_data': 'NA',\n",
       "  'data_range': '2014-01-30T11:12:30_2020-12-01T22:31:30'}}"
      ]
     },
     "execution_count": 15,
     "metadata": {},
     "output_type": "execute_result"
    }
   ],
   "source": [
    "from openghg.localclient import RankSources\n",
    "\n",
    "r = RankSources()\n",
    "r.get_sources(site=\"bsd\", species=\"co\")"
   ]
  },
  {
   "cell_type": "markdown",
   "metadata": {},
   "source": [
    "## Set ranking data"
   ]
  },
  {
   "cell_type": "markdown",
   "metadata": {},
   "source": [
    "This tells us that there is no rank set for CO data at Bisldale. Say we want to prioritise data from different inlet heights between certain dates we can set the ranks like so"
   ]
  },
  {
   "cell_type": "code",
   "execution_count": 16,
   "metadata": {},
   "outputs": [],
   "source": [
    "r.set_rank(key=\"co_248m_picarro\", rank=1, start_date=\"2016-01-01\", end_date=\"2018-01-01\")\n",
    "r.set_rank(key=\"co_42m_picarro\", rank=1, start_date=\"2018-01-02\", end_date=\"2019-05-30\")\n",
    "r.set_rank(key=\"co_108m_picarro\", rank=1, start_date=\"2019-05-30\", end_date=\"2021-11-30\")"
   ]
  },
  {
   "cell_type": "markdown",
   "metadata": {},
   "source": [
    "Now we can check everything was set correctlying using `get_sources` again as above"
   ]
  },
  {
   "cell_type": "code",
   "execution_count": 17,
   "metadata": {},
   "outputs": [
    {
     "data": {
      "text/plain": [
       "{'co_42m_picarro': {'rank_data': {'2018-01-02-00:00:00+00:00_2019-05-30-00:00:00+00:00': 1},\n",
       "  'data_range': '2014-01-30T11:12:30_2020-12-01T22:31:30'},\n",
       " 'co_108m_picarro': {'rank_data': {'2019-05-30-00:00:00+00:00_2021-11-30-00:00:00+00:00': 1},\n",
       "  'data_range': '2014-01-30T11:12:30_2020-12-01T22:31:30'},\n",
       " 'co_248m_picarro': {'rank_data': {'2016-01-01-00:00:00+00:00_2018-01-01-00:00:00+00:00': 1},\n",
       "  'data_range': '2014-01-30T11:12:30_2020-12-01T22:31:30'}}"
      ]
     },
     "execution_count": 17,
     "metadata": {},
     "output_type": "execute_result"
    }
   ],
   "source": [
    "r.get_sources(site=\"bsd\", species=\"co\")"
   ]
  },
  {
   "cell_type": "markdown",
   "metadata": {},
   "source": [
    "## Retrieve ranked data"
   ]
  },
  {
   "cell_type": "markdown",
   "metadata": {},
   "source": [
    "We can now retrive CO data from Bilsdale and we'll get the data from the highest ranked inlets."
   ]
  },
  {
   "cell_type": "code",
   "execution_count": 18,
   "metadata": {},
   "outputs": [],
   "source": [
    "co_data = get_obs_surface(site=\"bsd\", species=\"co\")"
   ]
  },
  {
   "cell_type": "markdown",
   "metadata": {},
   "source": [
    "This retrieves the data and creates an `ObsData` dataclass. This holds the data in an xarray `Dataset`, the metadata associated with the site and each inlet and the ranking metadata. \n",
    "\n",
    "Let's have a look at the rank metadata"
   ]
  },
  {
   "cell_type": "code",
   "execution_count": 19,
   "metadata": {},
   "outputs": [
    {
     "data": {
      "text/plain": [
       "{'2018-01-02-00:00:00+00:00_2019-05-30-00:00:00+00:00': '42m',\n",
       " '2019-05-30-00:00:00+00:00_2021-11-30-00:00:00+00:00': '108m',\n",
       " '2016-01-01-00:00:00+00:00_2018-01-01-00:00:00+00:00': '248m'}"
      ]
     },
     "execution_count": 19,
     "metadata": {},
     "output_type": "execute_result"
    }
   ],
   "source": [
    "co_data.metadata[\"rank_metadata\"]"
   ]
  },
  {
   "cell_type": "code",
   "execution_count": 20,
   "metadata": {},
   "outputs": [
    {
     "data": {
      "text/html": [
       "<div><svg style=\"position: absolute; width: 0; height: 0; overflow: hidden\">\n",
       "<defs>\n",
       "<symbol id=\"icon-database\" viewBox=\"0 0 32 32\">\n",
       "<path d=\"M16 0c-8.837 0-16 2.239-16 5v4c0 2.761 7.163 5 16 5s16-2.239 16-5v-4c0-2.761-7.163-5-16-5z\"></path>\n",
       "<path d=\"M16 17c-8.837 0-16-2.239-16-5v6c0 2.761 7.163 5 16 5s16-2.239 16-5v-6c0 2.761-7.163 5-16 5z\"></path>\n",
       "<path d=\"M16 26c-8.837 0-16-2.239-16-5v6c0 2.761 7.163 5 16 5s16-2.239 16-5v-6c0 2.761-7.163 5-16 5z\"></path>\n",
       "</symbol>\n",
       "<symbol id=\"icon-file-text2\" viewBox=\"0 0 32 32\">\n",
       "<path d=\"M28.681 7.159c-0.694-0.947-1.662-2.053-2.724-3.116s-2.169-2.030-3.116-2.724c-1.612-1.182-2.393-1.319-2.841-1.319h-15.5c-1.378 0-2.5 1.121-2.5 2.5v27c0 1.378 1.122 2.5 2.5 2.5h23c1.378 0 2.5-1.122 2.5-2.5v-19.5c0-0.448-0.137-1.23-1.319-2.841zM24.543 5.457c0.959 0.959 1.712 1.825 2.268 2.543h-4.811v-4.811c0.718 0.556 1.584 1.309 2.543 2.268zM28 29.5c0 0.271-0.229 0.5-0.5 0.5h-23c-0.271 0-0.5-0.229-0.5-0.5v-27c0-0.271 0.229-0.5 0.5-0.5 0 0 15.499-0 15.5 0v7c0 0.552 0.448 1 1 1h7v19.5z\"></path>\n",
       "<path d=\"M23 26h-14c-0.552 0-1-0.448-1-1s0.448-1 1-1h14c0.552 0 1 0.448 1 1s-0.448 1-1 1z\"></path>\n",
       "<path d=\"M23 22h-14c-0.552 0-1-0.448-1-1s0.448-1 1-1h14c0.552 0 1 0.448 1 1s-0.448 1-1 1z\"></path>\n",
       "<path d=\"M23 18h-14c-0.552 0-1-0.448-1-1s0.448-1 1-1h14c0.552 0 1 0.448 1 1s-0.448 1-1 1z\"></path>\n",
       "</symbol>\n",
       "</defs>\n",
       "</svg>\n",
       "<style>/* CSS stylesheet for displaying xarray objects in jupyterlab.\n",
       " *\n",
       " */\n",
       "\n",
       ":root {\n",
       "  --xr-font-color0: var(--jp-content-font-color0, rgba(0, 0, 0, 1));\n",
       "  --xr-font-color2: var(--jp-content-font-color2, rgba(0, 0, 0, 0.54));\n",
       "  --xr-font-color3: var(--jp-content-font-color3, rgba(0, 0, 0, 0.38));\n",
       "  --xr-border-color: var(--jp-border-color2, #e0e0e0);\n",
       "  --xr-disabled-color: var(--jp-layout-color3, #bdbdbd);\n",
       "  --xr-background-color: var(--jp-layout-color0, white);\n",
       "  --xr-background-color-row-even: var(--jp-layout-color1, white);\n",
       "  --xr-background-color-row-odd: var(--jp-layout-color2, #eeeeee);\n",
       "}\n",
       "\n",
       "html[theme=dark],\n",
       "body.vscode-dark {\n",
       "  --xr-font-color0: rgba(255, 255, 255, 1);\n",
       "  --xr-font-color2: rgba(255, 255, 255, 0.54);\n",
       "  --xr-font-color3: rgba(255, 255, 255, 0.38);\n",
       "  --xr-border-color: #1F1F1F;\n",
       "  --xr-disabled-color: #515151;\n",
       "  --xr-background-color: #111111;\n",
       "  --xr-background-color-row-even: #111111;\n",
       "  --xr-background-color-row-odd: #313131;\n",
       "}\n",
       "\n",
       ".xr-wrap {\n",
       "  display: block;\n",
       "  min-width: 300px;\n",
       "  max-width: 700px;\n",
       "}\n",
       "\n",
       ".xr-text-repr-fallback {\n",
       "  /* fallback to plain text repr when CSS is not injected (untrusted notebook) */\n",
       "  display: none;\n",
       "}\n",
       "\n",
       ".xr-header {\n",
       "  padding-top: 6px;\n",
       "  padding-bottom: 6px;\n",
       "  margin-bottom: 4px;\n",
       "  border-bottom: solid 1px var(--xr-border-color);\n",
       "}\n",
       "\n",
       ".xr-header > div,\n",
       ".xr-header > ul {\n",
       "  display: inline;\n",
       "  margin-top: 0;\n",
       "  margin-bottom: 0;\n",
       "}\n",
       "\n",
       ".xr-obj-type,\n",
       ".xr-array-name {\n",
       "  margin-left: 2px;\n",
       "  margin-right: 10px;\n",
       "}\n",
       "\n",
       ".xr-obj-type {\n",
       "  color: var(--xr-font-color2);\n",
       "}\n",
       "\n",
       ".xr-sections {\n",
       "  padding-left: 0 !important;\n",
       "  display: grid;\n",
       "  grid-template-columns: 150px auto auto 1fr 20px 20px;\n",
       "}\n",
       "\n",
       ".xr-section-item {\n",
       "  display: contents;\n",
       "}\n",
       "\n",
       ".xr-section-item input {\n",
       "  display: none;\n",
       "}\n",
       "\n",
       ".xr-section-item input + label {\n",
       "  color: var(--xr-disabled-color);\n",
       "}\n",
       "\n",
       ".xr-section-item input:enabled + label {\n",
       "  cursor: pointer;\n",
       "  color: var(--xr-font-color2);\n",
       "}\n",
       "\n",
       ".xr-section-item input:enabled + label:hover {\n",
       "  color: var(--xr-font-color0);\n",
       "}\n",
       "\n",
       ".xr-section-summary {\n",
       "  grid-column: 1;\n",
       "  color: var(--xr-font-color2);\n",
       "  font-weight: 500;\n",
       "}\n",
       "\n",
       ".xr-section-summary > span {\n",
       "  display: inline-block;\n",
       "  padding-left: 0.5em;\n",
       "}\n",
       "\n",
       ".xr-section-summary-in:disabled + label {\n",
       "  color: var(--xr-font-color2);\n",
       "}\n",
       "\n",
       ".xr-section-summary-in + label:before {\n",
       "  display: inline-block;\n",
       "  content: '►';\n",
       "  font-size: 11px;\n",
       "  width: 15px;\n",
       "  text-align: center;\n",
       "}\n",
       "\n",
       ".xr-section-summary-in:disabled + label:before {\n",
       "  color: var(--xr-disabled-color);\n",
       "}\n",
       "\n",
       ".xr-section-summary-in:checked + label:before {\n",
       "  content: '▼';\n",
       "}\n",
       "\n",
       ".xr-section-summary-in:checked + label > span {\n",
       "  display: none;\n",
       "}\n",
       "\n",
       ".xr-section-summary,\n",
       ".xr-section-inline-details {\n",
       "  padding-top: 4px;\n",
       "  padding-bottom: 4px;\n",
       "}\n",
       "\n",
       ".xr-section-inline-details {\n",
       "  grid-column: 2 / -1;\n",
       "}\n",
       "\n",
       ".xr-section-details {\n",
       "  display: none;\n",
       "  grid-column: 1 / -1;\n",
       "  margin-bottom: 5px;\n",
       "}\n",
       "\n",
       ".xr-section-summary-in:checked ~ .xr-section-details {\n",
       "  display: contents;\n",
       "}\n",
       "\n",
       ".xr-array-wrap {\n",
       "  grid-column: 1 / -1;\n",
       "  display: grid;\n",
       "  grid-template-columns: 20px auto;\n",
       "}\n",
       "\n",
       ".xr-array-wrap > label {\n",
       "  grid-column: 1;\n",
       "  vertical-align: top;\n",
       "}\n",
       "\n",
       ".xr-preview {\n",
       "  color: var(--xr-font-color3);\n",
       "}\n",
       "\n",
       ".xr-array-preview,\n",
       ".xr-array-data {\n",
       "  padding: 0 5px !important;\n",
       "  grid-column: 2;\n",
       "}\n",
       "\n",
       ".xr-array-data,\n",
       ".xr-array-in:checked ~ .xr-array-preview {\n",
       "  display: none;\n",
       "}\n",
       "\n",
       ".xr-array-in:checked ~ .xr-array-data,\n",
       ".xr-array-preview {\n",
       "  display: inline-block;\n",
       "}\n",
       "\n",
       ".xr-dim-list {\n",
       "  display: inline-block !important;\n",
       "  list-style: none;\n",
       "  padding: 0 !important;\n",
       "  margin: 0;\n",
       "}\n",
       "\n",
       ".xr-dim-list li {\n",
       "  display: inline-block;\n",
       "  padding: 0;\n",
       "  margin: 0;\n",
       "}\n",
       "\n",
       ".xr-dim-list:before {\n",
       "  content: '(';\n",
       "}\n",
       "\n",
       ".xr-dim-list:after {\n",
       "  content: ')';\n",
       "}\n",
       "\n",
       ".xr-dim-list li:not(:last-child):after {\n",
       "  content: ',';\n",
       "  padding-right: 5px;\n",
       "}\n",
       "\n",
       ".xr-has-index {\n",
       "  font-weight: bold;\n",
       "}\n",
       "\n",
       ".xr-var-list,\n",
       ".xr-var-item {\n",
       "  display: contents;\n",
       "}\n",
       "\n",
       ".xr-var-item > div,\n",
       ".xr-var-item label,\n",
       ".xr-var-item > .xr-var-name span {\n",
       "  background-color: var(--xr-background-color-row-even);\n",
       "  margin-bottom: 0;\n",
       "}\n",
       "\n",
       ".xr-var-item > .xr-var-name:hover span {\n",
       "  padding-right: 5px;\n",
       "}\n",
       "\n",
       ".xr-var-list > li:nth-child(odd) > div,\n",
       ".xr-var-list > li:nth-child(odd) > label,\n",
       ".xr-var-list > li:nth-child(odd) > .xr-var-name span {\n",
       "  background-color: var(--xr-background-color-row-odd);\n",
       "}\n",
       "\n",
       ".xr-var-name {\n",
       "  grid-column: 1;\n",
       "}\n",
       "\n",
       ".xr-var-dims {\n",
       "  grid-column: 2;\n",
       "}\n",
       "\n",
       ".xr-var-dtype {\n",
       "  grid-column: 3;\n",
       "  text-align: right;\n",
       "  color: var(--xr-font-color2);\n",
       "}\n",
       "\n",
       ".xr-var-preview {\n",
       "  grid-column: 4;\n",
       "}\n",
       "\n",
       ".xr-var-name,\n",
       ".xr-var-dims,\n",
       ".xr-var-dtype,\n",
       ".xr-preview,\n",
       ".xr-attrs dt {\n",
       "  white-space: nowrap;\n",
       "  overflow: hidden;\n",
       "  text-overflow: ellipsis;\n",
       "  padding-right: 10px;\n",
       "}\n",
       "\n",
       ".xr-var-name:hover,\n",
       ".xr-var-dims:hover,\n",
       ".xr-var-dtype:hover,\n",
       ".xr-attrs dt:hover {\n",
       "  overflow: visible;\n",
       "  width: auto;\n",
       "  z-index: 1;\n",
       "}\n",
       "\n",
       ".xr-var-attrs,\n",
       ".xr-var-data {\n",
       "  display: none;\n",
       "  background-color: var(--xr-background-color) !important;\n",
       "  padding-bottom: 5px !important;\n",
       "}\n",
       "\n",
       ".xr-var-attrs-in:checked ~ .xr-var-attrs,\n",
       ".xr-var-data-in:checked ~ .xr-var-data {\n",
       "  display: block;\n",
       "}\n",
       "\n",
       ".xr-var-data > table {\n",
       "  float: right;\n",
       "}\n",
       "\n",
       ".xr-var-name span,\n",
       ".xr-var-data,\n",
       ".xr-attrs {\n",
       "  padding-left: 25px !important;\n",
       "}\n",
       "\n",
       ".xr-attrs,\n",
       ".xr-var-attrs,\n",
       ".xr-var-data {\n",
       "  grid-column: 1 / -1;\n",
       "}\n",
       "\n",
       "dl.xr-attrs {\n",
       "  padding: 0;\n",
       "  margin: 0;\n",
       "  display: grid;\n",
       "  grid-template-columns: 125px auto;\n",
       "}\n",
       "\n",
       ".xr-attrs dt,\n",
       ".xr-attrs dd {\n",
       "  padding: 0;\n",
       "  margin: 0;\n",
       "  float: left;\n",
       "  padding-right: 10px;\n",
       "  width: auto;\n",
       "}\n",
       "\n",
       ".xr-attrs dt {\n",
       "  font-weight: normal;\n",
       "  grid-column: 1;\n",
       "}\n",
       "\n",
       ".xr-attrs dt:hover span {\n",
       "  display: inline-block;\n",
       "  background: var(--xr-background-color);\n",
       "  padding-right: 10px;\n",
       "}\n",
       "\n",
       ".xr-attrs dd {\n",
       "  grid-column: 2;\n",
       "  white-space: pre-wrap;\n",
       "  word-break: break-all;\n",
       "}\n",
       "\n",
       ".xr-icon-database,\n",
       ".xr-icon-file-text2 {\n",
       "  display: inline-block;\n",
       "  vertical-align: middle;\n",
       "  width: 1em;\n",
       "  height: 1.5em !important;\n",
       "  stroke-width: 0;\n",
       "  stroke: currentColor;\n",
       "  fill: currentColor;\n",
       "}\n",
       "</style><pre class='xr-text-repr-fallback'>&lt;xarray.Dataset&gt;\n",
       "Dimensions:                    (time: 162)\n",
       "Coordinates:\n",
       "  * time                       (time) datetime64[ns] 2014-01-30T11:12:30 ... ...\n",
       "Data variables:\n",
       "    mf                         (time) float64 202.4 203.2 205.1 ... 114.5 114.2\n",
       "    mf_variability             (time) float64 5.265 6.307 8.518 ... 7.339 5.405\n",
       "    mf_number_of_observations  (time) float64 26.0 26.0 25.0 ... 23.0 24.0 23.0\n",
       "Attributes: (12/23)\n",
       "    data_owner:           Simon O&#x27;Doherty\n",
       "    data_owner_email:     s.odoherty@bristol.ac.uk\n",
       "    inlet_height_magl:    248m\n",
       "    comment:              Cavity ring-down measurements. Output from GCWerks\n",
       "    long_name:            bilsdale\n",
       "    Conditions of use:    Ensure that you contact the data owner at the outse...\n",
       "    ...                   ...\n",
       "    sampling_period:      60\n",
       "    inlet:                248m\n",
       "    port:                 9\n",
       "    type:                 air\n",
       "    network:              decc\n",
       "    scale:                WMO-X2014A</pre><div class='xr-wrap' hidden><div class='xr-header'><div class='xr-obj-type'>xarray.Dataset</div></div><ul class='xr-sections'><li class='xr-section-item'><input id='section-ceedb542-1bd5-4973-9755-eb7dc8afc83e' class='xr-section-summary-in' type='checkbox' disabled ><label for='section-ceedb542-1bd5-4973-9755-eb7dc8afc83e' class='xr-section-summary'  title='Expand/collapse section'>Dimensions:</label><div class='xr-section-inline-details'><ul class='xr-dim-list'><li><span class='xr-has-index'>time</span>: 162</li></ul></div><div class='xr-section-details'></div></li><li class='xr-section-item'><input id='section-9eb03542-ffa0-41ed-b3bc-7acee08018cb' class='xr-section-summary-in' type='checkbox'  checked><label for='section-9eb03542-ffa0-41ed-b3bc-7acee08018cb' class='xr-section-summary' >Coordinates: <span>(1)</span></label><div class='xr-section-inline-details'></div><div class='xr-section-details'><ul class='xr-var-list'><li class='xr-var-item'><div class='xr-var-name'><span class='xr-has-index'>time</span></div><div class='xr-var-dims'>(time)</div><div class='xr-var-dtype'>datetime64[ns]</div><div class='xr-var-preview xr-preview'>2014-01-30T11:12:30 ... 2020-12-...</div><input id='attrs-19813a44-d50f-4a9f-a3d0-55cd6b3cbd49' class='xr-var-attrs-in' type='checkbox' ><label for='attrs-19813a44-d50f-4a9f-a3d0-55cd6b3cbd49' title='Show/Hide attributes'><svg class='icon xr-icon-file-text2'><use xlink:href='#icon-file-text2'></use></svg></label><input id='data-10f1d6a5-ada3-4d33-b1bb-e866a0fe3b8f' class='xr-var-data-in' type='checkbox'><label for='data-10f1d6a5-ada3-4d33-b1bb-e866a0fe3b8f' title='Show/Hide data repr'><svg class='icon xr-icon-database'><use xlink:href='#icon-database'></use></svg></label><div class='xr-var-attrs'><dl class='xr-attrs'><dt><span>label :</span></dt><dd>left</dd><dt><span>standard_name :</span></dt><dd>time</dd><dt><span>comment :</span></dt><dd>Time stamp corresponds to beginning of sampling period. Time since midnight UTC of reference date. Note that sampling periods are approximate.</dd><dt><span>sampling_period_seconds :</span></dt><dd>60</dd></dl></div><div class='xr-var-data'><pre>array([&#x27;2014-01-30T11:12:30.000000000&#x27;, &#x27;2014-01-30T11:13:30.000000000&#x27;,\n",
       "       &#x27;2014-01-30T11:14:30.000000000&#x27;, &#x27;2014-01-30T11:15:30.000000000&#x27;,\n",
       "       &#x27;2014-01-30T11:16:30.000000000&#x27;, &#x27;2014-01-30T11:17:30.000000000&#x27;,\n",
       "       &#x27;2014-01-30T11:18:30.000000000&#x27;, &#x27;2014-11-30T11:19:30.000000000&#x27;,\n",
       "       &#x27;2014-11-30T11:20:30.000000000&#x27;, &#x27;2014-11-30T11:21:30.000000000&#x27;,\n",
       "       &#x27;2014-11-30T11:22:30.000000000&#x27;, &#x27;2014-11-30T11:23:30.000000000&#x27;,\n",
       "       &#x27;2015-01-30T11:12:30.000000000&#x27;, &#x27;2015-01-30T11:13:30.000000000&#x27;,\n",
       "       &#x27;2015-01-30T11:14:30.000000000&#x27;, &#x27;2015-01-30T11:15:30.000000000&#x27;,\n",
       "       &#x27;2015-01-30T11:16:30.000000000&#x27;, &#x27;2015-01-30T11:17:30.000000000&#x27;,\n",
       "       &#x27;2015-01-30T11:18:30.000000000&#x27;, &#x27;2015-01-30T11:19:30.000000000&#x27;,\n",
       "       &#x27;2015-01-30T11:20:30.000000000&#x27;, &#x27;2015-01-30T11:21:30.000000000&#x27;,\n",
       "       &#x27;2015-01-30T11:22:30.000000000&#x27;, &#x27;2015-01-30T11:23:30.000000000&#x27;,\n",
       "       &#x27;2015-11-30T11:12:30.000000000&#x27;, &#x27;2015-11-30T11:13:30.000000000&#x27;,\n",
       "       &#x27;2015-11-30T11:14:30.000000000&#x27;, &#x27;2015-11-30T11:15:30.000000000&#x27;,\n",
       "       &#x27;2015-11-30T11:16:30.000000000&#x27;, &#x27;2015-11-30T11:17:30.000000000&#x27;,\n",
       "       &#x27;2015-11-30T11:18:30.000000000&#x27;, &#x27;2015-11-30T11:19:30.000000000&#x27;,\n",
       "       &#x27;2015-11-30T11:20:30.000000000&#x27;, &#x27;2015-11-30T11:21:30.000000000&#x27;,\n",
       "       &#x27;2015-11-30T11:22:30.000000000&#x27;, &#x27;2015-11-30T11:23:30.000000000&#x27;,\n",
       "       &#x27;2016-04-02T06:52:30.000000000&#x27;, &#x27;2016-04-02T06:53:30.000000000&#x27;,\n",
       "       &#x27;2016-04-02T06:54:30.000000000&#x27;, &#x27;2016-04-02T06:55:30.000000000&#x27;,\n",
       "       &#x27;2016-04-02T06:56:30.000000000&#x27;, &#x27;2016-04-02T06:57:30.000000000&#x27;,\n",
       "       &#x27;2016-04-02T06:58:30.000000000&#x27;, &#x27;2016-04-02T09:04:30.000000000&#x27;,\n",
       "       &#x27;2016-04-02T09:05:30.000000000&#x27;, &#x27;2016-04-02T09:06:30.000000000&#x27;,\n",
       "       &#x27;2016-04-02T09:07:30.000000000&#x27;, &#x27;2016-11-02T09:50:30.000000000&#x27;,\n",
       "       &#x27;2016-11-02T09:51:30.000000000&#x27;, &#x27;2016-11-02T09:52:30.000000000&#x27;,\n",
       "       &#x27;2016-11-02T11:07:30.000000000&#x27;, &#x27;2016-11-02T12:06:30.000000000&#x27;,\n",
       "       &#x27;2016-11-02T12:07:30.000000000&#x27;, &#x27;2016-11-02T12:50:30.000000000&#x27;,\n",
       "       &#x27;2016-11-02T12:51:30.000000000&#x27;, &#x27;2016-11-02T12:52:30.000000000&#x27;,\n",
       "       &#x27;2016-11-02T12:53:30.000000000&#x27;, &#x27;2016-11-02T12:54:30.000000000&#x27;,\n",
       "       &#x27;2017-02-18T06:36:30.000000000&#x27;, &#x27;2017-02-18T06:37:30.000000000&#x27;,\n",
       "       &#x27;2017-02-18T06:38:30.000000000&#x27;, &#x27;2017-02-18T06:39:30.000000000&#x27;,\n",
       "       &#x27;2017-02-18T06:40:30.000000000&#x27;, &#x27;2017-02-18T06:41:30.000000000&#x27;,\n",
       "       &#x27;2017-02-18T06:42:30.000000000&#x27;, &#x27;2017-02-18T06:43:30.000000000&#x27;,\n",
       "       &#x27;2017-02-18T07:35:30.000000000&#x27;, &#x27;2017-02-18T07:36:30.000000000&#x27;,\n",
       "       &#x27;2017-02-18T14:35:30.000000000&#x27;, &#x27;2017-02-18T14:36:30.000000000&#x27;,\n",
       "       &#x27;2017-02-18T14:37:30.000000000&#x27;, &#x27;2017-02-18T14:38:30.000000000&#x27;,\n",
       "       &#x27;2017-02-18T14:39:30.000000000&#x27;, &#x27;2017-02-18T14:40:30.000000000&#x27;,\n",
       "       &#x27;2017-12-18T14:41:30.000000000&#x27;, &#x27;2017-12-18T14:42:30.000000000&#x27;,\n",
       "       &#x27;2017-12-18T14:43:30.000000000&#x27;, &#x27;2017-12-18T15:35:30.000000000&#x27;,\n",
       "       &#x27;2017-12-18T15:36:30.000000000&#x27;, &#x27;2017-12-18T15:37:30.000000000&#x27;,\n",
       "       &#x27;2017-12-18T15:38:30.000000000&#x27;, &#x27;2017-12-18T15:39:30.000000000&#x27;,\n",
       "       &#x27;2017-12-18T15:40:30.000000000&#x27;, &#x27;2017-12-18T15:41:30.000000000&#x27;,\n",
       "       &#x27;2018-02-18T15:35:30.000000000&#x27;, &#x27;2018-02-18T15:36:30.000000000&#x27;,\n",
       "       &#x27;2018-02-18T15:37:30.000000000&#x27;, &#x27;2018-02-18T15:38:30.000000000&#x27;,\n",
       "       &#x27;2018-02-18T15:39:30.000000000&#x27;, &#x27;2018-02-18T15:40:30.000000000&#x27;,\n",
       "       &#x27;2018-02-18T15:41:30.000000000&#x27;, &#x27;2018-02-18T15:42:30.000000000&#x27;,\n",
       "       &#x27;2018-02-18T15:42:30.000000000&#x27;, &#x27;2018-12-18T15:35:30.000000000&#x27;,\n",
       "       &#x27;2018-12-18T15:36:30.000000000&#x27;, &#x27;2018-12-18T15:37:30.000000000&#x27;,\n",
       "       &#x27;2018-12-18T15:38:30.000000000&#x27;, &#x27;2018-12-18T15:39:30.000000000&#x27;,\n",
       "       &#x27;2018-12-18T15:40:30.000000000&#x27;, &#x27;2018-12-18T15:41:30.000000000&#x27;,\n",
       "       &#x27;2018-12-18T15:42:30.000000000&#x27;, &#x27;2018-12-18T15:42:30.000000000&#x27;,\n",
       "       &#x27;2019-02-03T17:38:30.000000000&#x27;, &#x27;2019-02-03T17:38:30.000000000&#x27;,\n",
       "       &#x27;2019-02-03T17:39:30.000000000&#x27;, &#x27;2019-02-03T17:39:30.000000000&#x27;,\n",
       "       &#x27;2019-02-03T17:40:30.000000000&#x27;, &#x27;2019-02-03T17:40:30.000000000&#x27;,\n",
       "       &#x27;2019-02-03T17:41:30.000000000&#x27;, &#x27;2019-02-03T17:41:30.000000000&#x27;,\n",
       "       &#x27;2019-02-03T17:42:30.000000000&#x27;, &#x27;2019-02-03T17:42:30.000000000&#x27;,\n",
       "       &#x27;2019-02-03T17:43:30.000000000&#x27;, &#x27;2019-02-03T17:43:30.000000000&#x27;,\n",
       "       &#x27;2019-02-03T20:57:30.000000000&#x27;, &#x27;2019-02-03T20:57:30.000000000&#x27;,\n",
       "       &#x27;2019-02-03T20:58:30.000000000&#x27;, &#x27;2019-02-03T20:58:30.000000000&#x27;,\n",
       "       &#x27;2019-02-03T20:59:30.000000000&#x27;, &#x27;2019-02-03T20:59:30.000000000&#x27;,\n",
       "       &#x27;2019-02-03T21:00:30.000000000&#x27;, &#x27;2019-02-03T21:00:30.000000000&#x27;,\n",
       "       &#x27;2019-02-03T21:01:30.000000000&#x27;, &#x27;2019-02-03T21:01:30.000000000&#x27;,\n",
       "       &#x27;2019-02-03T21:02:30.000000000&#x27;, &#x27;2019-02-03T21:02:30.000000000&#x27;,\n",
       "       &#x27;2019-12-09T10:40:30.000000000&#x27;, &#x27;2019-12-09T10:41:30.000000000&#x27;,\n",
       "       &#x27;2019-12-09T10:41:30.000000000&#x27;, &#x27;2019-12-09T10:42:30.000000000&#x27;,\n",
       "       &#x27;2019-12-09T10:42:30.000000000&#x27;, &#x27;2019-12-09T10:43:30.000000000&#x27;,\n",
       "       &#x27;2019-12-09T10:43:30.000000000&#x27;, &#x27;2019-12-09T10:44:30.000000000&#x27;,\n",
       "       &#x27;2019-12-09T10:44:30.000000000&#x27;, &#x27;2019-12-09T10:45:30.000000000&#x27;,\n",
       "       &#x27;2019-12-09T10:45:30.000000000&#x27;, &#x27;2019-12-09T10:46:30.000000000&#x27;,\n",
       "       &#x27;2019-12-09T10:46:30.000000000&#x27;, &#x27;2019-12-09T10:47:30.000000000&#x27;,\n",
       "       &#x27;2019-12-09T10:47:30.000000000&#x27;, &#x27;2019-12-09T10:50:30.000000000&#x27;,\n",
       "       &#x27;2020-02-01T18:08:30.000000000&#x27;, &#x27;2020-02-01T18:09:30.000000000&#x27;,\n",
       "       &#x27;2020-02-01T18:10:30.000000000&#x27;, &#x27;2020-02-01T18:11:30.000000000&#x27;,\n",
       "       &#x27;2020-02-01T18:12:30.000000000&#x27;, &#x27;2020-02-01T18:13:30.000000000&#x27;,\n",
       "       &#x27;2020-02-01T18:14:30.000000000&#x27;, &#x27;2020-02-01T18:15:30.000000000&#x27;,\n",
       "       &#x27;2020-02-01T19:08:30.000000000&#x27;, &#x27;2020-02-01T21:29:30.000000000&#x27;,\n",
       "       &#x27;2020-12-01T21:30:30.000000000&#x27;, &#x27;2020-12-01T21:31:30.000000000&#x27;,\n",
       "       &#x27;2020-12-01T21:32:30.000000000&#x27;, &#x27;2020-12-01T21:33:30.000000000&#x27;,\n",
       "       &#x27;2020-12-01T21:34:30.000000000&#x27;, &#x27;2020-12-01T21:35:30.000000000&#x27;,\n",
       "       &#x27;2020-12-01T22:28:30.000000000&#x27;, &#x27;2020-12-01T22:29:30.000000000&#x27;,\n",
       "       &#x27;2020-12-01T22:30:30.000000000&#x27;, &#x27;2020-12-01T22:31:30.000000000&#x27;],\n",
       "      dtype=&#x27;datetime64[ns]&#x27;)</pre></div></li></ul></div></li><li class='xr-section-item'><input id='section-b4814fa7-6db6-4b0d-809a-1d4ecfd780cd' class='xr-section-summary-in' type='checkbox'  checked><label for='section-b4814fa7-6db6-4b0d-809a-1d4ecfd780cd' class='xr-section-summary' >Data variables: <span>(3)</span></label><div class='xr-section-inline-details'></div><div class='xr-section-details'><ul class='xr-var-list'><li class='xr-var-item'><div class='xr-var-name'><span>mf</span></div><div class='xr-var-dims'>(time)</div><div class='xr-var-dtype'>float64</div><div class='xr-var-preview xr-preview'>202.4 203.2 205.1 ... 114.5 114.2</div><input id='attrs-2dd7bb13-d58b-435b-897b-7c1e364a06a2' class='xr-var-attrs-in' type='checkbox' ><label for='attrs-2dd7bb13-d58b-435b-897b-7c1e364a06a2' title='Show/Hide attributes'><svg class='icon xr-icon-file-text2'><use xlink:href='#icon-file-text2'></use></svg></label><input id='data-14a1c1ba-de75-4315-a330-4cb6956ab86a' class='xr-var-data-in' type='checkbox'><label for='data-14a1c1ba-de75-4315-a330-4cb6956ab86a' title='Show/Hide data repr'><svg class='icon xr-icon-database'><use xlink:href='#icon-database'></use></svg></label><div class='xr-var-attrs'><dl class='xr-attrs'><dt><span>long_name :</span></dt><dd>mole_fraction_of_carbon_monoxide_in_air</dd><dt><span>units :</span></dt><dd>1e-9</dd></dl></div><div class='xr-var-data'><pre>array([202.44, 203.23, 205.1 , 202.88, 203.88, 201.73, 203.14, 204.18,\n",
       "       204.96, 202.14, 203.67, 202.82, 202.44, 203.23, 205.1 , 202.88,\n",
       "       203.88, 201.73, 203.14, 204.18, 204.96, 202.14, 203.67, 202.82,\n",
       "       202.44, 203.23, 205.1 , 202.88, 203.88, 201.73, 203.14, 204.18,\n",
       "       204.96, 202.14, 203.67, 202.82, 151.48, 149.15, 151.43, 153.85,\n",
       "       149.16, 154.99, 151.64, 151.52, 153.91, 153.04, 156.93, 158.94,\n",
       "       156.27, 158.02, 161.4 , 164.25, 163.28, 166.07, 164.43, 164.84,\n",
       "       160.31, 164.48, 121.5 , 121.13, 118.62, 119.2 , 121.28, 118.34,\n",
       "       118.27, 122.41, 120.04, 117.14, 117.63, 115.66, 118.4 , 118.53,\n",
       "       118.45, 118.15, 118.83, 118.7 , 122.37, 121.32, 119.86, 118.09,\n",
       "       117.24, 119.31, 118.5 , 122.94, 121.32, 119.86, 118.09, 117.24,\n",
       "       119.31, 118.5 , 122.94, 121.86, 121.86, 121.32, 119.86, 118.09,\n",
       "       117.24, 119.31, 118.5 , 122.94, 121.86, 121.86, 154.99, 154.99,\n",
       "       156.64, 156.64, 151.35, 151.35, 154.78, 154.78, 151.08, 151.08,\n",
       "       156.51, 156.51, 150.87, 150.87, 156.4 , 156.4 , 157.29, 157.29,\n",
       "       154.92, 154.92, 159.35, 159.35, 164.32, 164.32, 125.78, 125.19,\n",
       "       125.19, 125.01, 125.01, 126.96, 126.96, 125.78, 125.78, 123.71,\n",
       "       123.71, 126.91, 126.91, 125.81, 125.81, 125.78, 116.12, 116.88,\n",
       "       116.82, 116.1 , 119.01, 114.81, 115.39, 116.67, 112.79, 114.04,\n",
       "       116.04, 114.86, 112.33, 113.44, 112.31, 116.25, 113.78, 113.92,\n",
       "       114.48, 114.24])</pre></div></li><li class='xr-var-item'><div class='xr-var-name'><span>mf_variability</span></div><div class='xr-var-dims'>(time)</div><div class='xr-var-dtype'>float64</div><div class='xr-var-preview xr-preview'>5.265 6.307 8.518 ... 7.339 5.405</div><input id='attrs-640cc5d6-115d-4f1c-8830-55d77e0c86c2' class='xr-var-attrs-in' type='checkbox' ><label for='attrs-640cc5d6-115d-4f1c-8830-55d77e0c86c2' title='Show/Hide attributes'><svg class='icon xr-icon-file-text2'><use xlink:href='#icon-file-text2'></use></svg></label><input id='data-33e83b95-065d-4f88-926e-ee2bd7d10e0c' class='xr-var-data-in' type='checkbox'><label for='data-33e83b95-065d-4f88-926e-ee2bd7d10e0c' title='Show/Hide data repr'><svg class='icon xr-icon-database'><use xlink:href='#icon-database'></use></svg></label><div class='xr-var-attrs'><dl class='xr-attrs'><dt><span>long_name :</span></dt><dd>mole_fraction_of_carbon_monoxide_in_air_variability</dd><dt><span>units :</span></dt><dd>1e-9</dd></dl></div><div class='xr-var-data'><pre>array([5.265, 6.307, 8.518, 8.091, 6.419, 7.476, 6.514, 6.619, 5.995,\n",
       "       6.213, 6.535, 7.029, 5.265, 6.307, 8.518, 8.091, 6.419, 7.476,\n",
       "       6.514, 6.619, 5.995, 6.213, 6.535, 7.029, 5.265, 6.307, 8.518,\n",
       "       8.091, 6.419, 7.476, 6.514, 6.619, 5.995, 6.213, 6.535, 7.029,\n",
       "       6.322, 8.469, 5.801, 4.976, 6.78 , 8.013, 6.905, 6.005, 7.988,\n",
       "       6.791, 7.024, 7.94 , 6.387, 6.334, 7.092, 5.614, 4.655, 6.804,\n",
       "       5.086, 4.993, 5.773, 6.394, 5.628, 4.639, 5.792, 5.788, 7.024,\n",
       "       7.253, 6.56 , 6.124, 6.1  , 8.11 , 6.469, 6.556, 5.306, 6.293,\n",
       "       4.357, 5.828, 7.37 , 7.346, 6.871, 5.616, 6.438, 4.598, 5.945,\n",
       "       6.462, 5.471, 6.323, 5.616, 6.438, 4.598, 5.945, 6.462, 5.471,\n",
       "       6.323, 7.972, 7.972, 5.616, 6.438, 4.598, 5.945, 6.462, 5.471,\n",
       "       6.323, 7.972, 7.972, 5.79 , 5.79 , 6.941, 6.941, 7.207, 7.207,\n",
       "       4.313, 4.313, 6.131, 6.131, 9.731, 9.731, 6.111, 6.111, 6.18 ,\n",
       "       6.18 , 7.025, 7.025, 6.201, 6.201, 8.674, 8.674, 7.595, 7.595,\n",
       "       7.143, 6.453, 6.453, 7.45 , 7.45 , 7.812, 7.812, 5.788, 5.788,\n",
       "       7.835, 7.835, 6.286, 6.286, 4.229, 4.229, 7.143, 5.923, 5.756,\n",
       "       5.919, 6.72 , 5.064, 6.578, 5.222, 5.873, 5.703, 6.447, 6.283,\n",
       "       7.224, 4.795, 6.312, 4.765, 6.168, 5.464, 5.645, 7.339, 5.405])</pre></div></li><li class='xr-var-item'><div class='xr-var-name'><span>mf_number_of_observations</span></div><div class='xr-var-dims'>(time)</div><div class='xr-var-dtype'>float64</div><div class='xr-var-preview xr-preview'>26.0 26.0 25.0 ... 23.0 24.0 23.0</div><input id='attrs-fa968c4e-1f81-4975-95a1-a624859da2fd' class='xr-var-attrs-in' type='checkbox' ><label for='attrs-fa968c4e-1f81-4975-95a1-a624859da2fd' title='Show/Hide attributes'><svg class='icon xr-icon-file-text2'><use xlink:href='#icon-file-text2'></use></svg></label><input id='data-98cfcfeb-f719-4496-839a-65680ff99b48' class='xr-var-data-in' type='checkbox'><label for='data-98cfcfeb-f719-4496-839a-65680ff99b48' title='Show/Hide data repr'><svg class='icon xr-icon-database'><use xlink:href='#icon-database'></use></svg></label><div class='xr-var-attrs'><dl class='xr-attrs'><dt><span>long_name :</span></dt><dd>mole_fraction_of_carbon_monoxide_in_air_number_of_observations</dd></dl></div><div class='xr-var-data'><pre>array([26., 26., 25., 26., 26., 25., 26., 25., 26., 26., 25., 26., 26.,\n",
       "       26., 25., 26., 26., 25., 26., 25., 26., 26., 25., 26., 26., 26.,\n",
       "       25., 26., 26., 25., 26., 25., 26., 26., 25., 26., 19., 24., 20.,\n",
       "       22., 22., 23., 23., 21., 22., 22., 17., 24., 20., 21., 17., 20.,\n",
       "       19., 23., 22., 22., 20., 21., 23., 23., 24., 24., 23., 23., 24.,\n",
       "        6., 23., 23., 24., 23., 23., 23., 24., 23., 23., 23.,  7., 24.,\n",
       "       23., 23., 24., 23., 23., 24., 24., 23., 23., 24., 23., 23., 24.,\n",
       "       23., 23., 24., 23., 23., 24., 23., 23., 24., 23., 23., 25., 25.,\n",
       "       24., 24., 25., 25., 25., 25., 25., 25., 11., 11., 25., 25., 25.,\n",
       "       25., 25., 25., 24., 24., 25., 25., 25., 25., 24., 25., 25., 25.,\n",
       "       25., 24., 24., 25., 25., 25., 25., 25., 25., 12., 12., 24., 24.,\n",
       "       23., 23., 24., 23., 23., 24., 23., 24., 23., 24., 23., 24., 23.,\n",
       "       24., 23., 24., 23., 24., 23.])</pre></div></li></ul></div></li><li class='xr-section-item'><input id='section-cd478d59-a7e5-445d-8a87-625cd07ea41a' class='xr-section-summary-in' type='checkbox'  ><label for='section-cd478d59-a7e5-445d-8a87-625cd07ea41a' class='xr-section-summary' >Attributes: <span>(23)</span></label><div class='xr-section-inline-details'></div><div class='xr-section-details'><dl class='xr-attrs'><dt><span>data_owner :</span></dt><dd>Simon O&#x27;Doherty</dd><dt><span>data_owner_email :</span></dt><dd>s.odoherty@bristol.ac.uk</dd><dt><span>inlet_height_magl :</span></dt><dd>248m</dd><dt><span>comment :</span></dt><dd>Cavity ring-down measurements. Output from GCWerks</dd><dt><span>long_name :</span></dt><dd>bilsdale</dd><dt><span>Conditions of use :</span></dt><dd>Ensure that you contact the data owner at the outset of your project.</dd><dt><span>Source :</span></dt><dd>In situ measurements of air</dd><dt><span>Conventions :</span></dt><dd>CF-1.6</dd><dt><span>File created :</span></dt><dd>2022-01-07 16:47:50.605596+00:00</dd><dt><span>Processed by :</span></dt><dd>OpenGHG_Cloud</dd><dt><span>species :</span></dt><dd>co</dd><dt><span>station_longitude :</span></dt><dd>-1.15033</dd><dt><span>station_latitude :</span></dt><dd>54.35858</dd><dt><span>station_long_name :</span></dt><dd>Bilsdale, UK</dd><dt><span>station_height_masl :</span></dt><dd>380.0</dd><dt><span>site :</span></dt><dd>bsd</dd><dt><span>instrument :</span></dt><dd>picarro</dd><dt><span>sampling_period :</span></dt><dd>60</dd><dt><span>inlet :</span></dt><dd>248m</dd><dt><span>port :</span></dt><dd>9</dd><dt><span>type :</span></dt><dd>air</dd><dt><span>network :</span></dt><dd>decc</dd><dt><span>scale :</span></dt><dd>WMO-X2014A</dd></dl></div></li></ul></div></div>"
      ],
      "text/plain": [
       "<xarray.Dataset>\n",
       "Dimensions:                    (time: 162)\n",
       "Coordinates:\n",
       "  * time                       (time) datetime64[ns] 2014-01-30T11:12:30 ... ...\n",
       "Data variables:\n",
       "    mf                         (time) float64 202.4 203.2 205.1 ... 114.5 114.2\n",
       "    mf_variability             (time) float64 5.265 6.307 8.518 ... 7.339 5.405\n",
       "    mf_number_of_observations  (time) float64 26.0 26.0 25.0 ... 23.0 24.0 23.0\n",
       "Attributes: (12/23)\n",
       "    data_owner:           Simon O'Doherty\n",
       "    data_owner_email:     s.odoherty@bristol.ac.uk\n",
       "    inlet_height_magl:    248m\n",
       "    comment:              Cavity ring-down measurements. Output from GCWerks\n",
       "    long_name:            bilsdale\n",
       "    Conditions of use:    Ensure that you contact the data owner at the outse...\n",
       "    ...                   ...\n",
       "    sampling_period:      60\n",
       "    inlet:                248m\n",
       "    port:                 9\n",
       "    type:                 air\n",
       "    network:              decc\n",
       "    scale:                WMO-X2014A"
      ]
     },
     "execution_count": 20,
     "metadata": {},
     "output_type": "execute_result"
    }
   ],
   "source": [
    "co_data.data"
   ]
  },
  {
   "cell_type": "code",
   "execution_count": 21,
   "metadata": {},
   "outputs": [
    {
     "data": {
      "text/plain": [
       "{'42m': {'site': 'bsd',\n",
       "  'instrument': 'picarro',\n",
       "  'sampling_period': '60',\n",
       "  'inlet': '42m',\n",
       "  'port': '9',\n",
       "  'type': 'air',\n",
       "  'network': 'decc',\n",
       "  'species': 'co',\n",
       "  'scale': 'wmo-x2014a',\n",
       "  'long_name': 'bilsdale',\n",
       "  'data_type': 'timeseries'},\n",
       " '108m': {'site': 'bsd',\n",
       "  'instrument': 'picarro',\n",
       "  'sampling_period': '60',\n",
       "  'inlet': '108m',\n",
       "  'port': '9',\n",
       "  'type': 'air',\n",
       "  'network': 'decc',\n",
       "  'species': 'co',\n",
       "  'scale': 'wmo-x2014a',\n",
       "  'long_name': 'bilsdale',\n",
       "  'data_type': 'timeseries'},\n",
       " '248m': {'site': 'bsd',\n",
       "  'instrument': 'picarro',\n",
       "  'sampling_period': '60',\n",
       "  'inlet': '248m',\n",
       "  'port': '9',\n",
       "  'type': 'air',\n",
       "  'network': 'decc',\n",
       "  'species': 'co',\n",
       "  'scale': 'wmo-x2014a',\n",
       "  'long_name': 'bilsdale',\n",
       "  'data_type': 'timeseries'},\n",
       " 'rank_metadata': {'2018-01-02-00:00:00+00:00_2019-05-30-00:00:00+00:00': '42m',\n",
       "  '2019-05-30-00:00:00+00:00_2021-11-30-00:00:00+00:00': '108m',\n",
       "  '2016-01-01-00:00:00+00:00_2018-01-01-00:00:00+00:00': '248m'},\n",
       " 'data_owner': \"Simon O'Doherty\",\n",
       " 'data_owner_email': 's.odoherty@bristol.ac.uk',\n",
       " 'inlet_height_magl': '248m',\n",
       " 'comment': 'Cavity ring-down measurements. Output from GCWerks',\n",
       " 'long_name': 'bilsdale',\n",
       " 'Conditions of use': 'Ensure that you contact the data owner at the outset of your project.',\n",
       " 'Source': 'In situ measurements of air',\n",
       " 'Conventions': 'CF-1.6',\n",
       " 'File created': '2022-01-07 16:47:50.605596+00:00',\n",
       " 'Processed by': 'OpenGHG_Cloud',\n",
       " 'species': 'co',\n",
       " 'station_longitude': -1.15033,\n",
       " 'station_latitude': 54.35858,\n",
       " 'station_long_name': 'Bilsdale, UK',\n",
       " 'station_height_masl': 380.0,\n",
       " 'site': 'bsd',\n",
       " 'instrument': 'picarro',\n",
       " 'sampling_period': '60',\n",
       " 'inlet': '248m',\n",
       " 'port': '9',\n",
       " 'type': 'air',\n",
       " 'network': 'decc',\n",
       " 'scale': 'WMO-X2014A'}"
      ]
     },
     "execution_count": 21,
     "metadata": {},
     "output_type": "execute_result"
    }
   ],
   "source": [
    "co_data.metadata"
   ]
  },
  {
   "cell_type": "markdown",
   "metadata": {},
   "source": [
    "Now we have the highest ranked data for Bilsdale."
   ]
  },
  {
   "cell_type": "markdown",
   "metadata": {},
   "source": [
    "## 7. Cleanup"
   ]
  },
  {
   "cell_type": "markdown",
   "metadata": {},
   "source": [
    "If you used the `tmp_dir` as a location for your object store at the start of the tutorial you can run the cell below to remove any files that were created."
   ]
  },
  {
   "cell_type": "code",
   "execution_count": 22,
   "metadata": {},
   "outputs": [],
   "source": [
    "tmp_dir.cleanup()"
   ]
  },
  {
   "cell_type": "markdown",
   "metadata": {},
   "source": [
    "## 8. What's next?"
   ]
  },
  {
   "cell_type": "markdown",
   "metadata": {},
   "source": [
    "Further tutorials will be added soon. If you want to explore the internal workings of OpenGHG please checkout the Developer API documentation, if you would like contribute to the project we welcome pull requests to both the code and the documentation. For help and guidance on contributing check our contributing page."
   ]
  }
 ],
 "metadata": {
  "kernelspec": {
   "display_name": "Python 3 (ipykernel)",
   "language": "python",
   "name": "python3"
  },
  "language_info": {
   "codemirror_mode": {
    "name": "ipython",
    "version": 3
   },
   "file_extension": ".py",
   "mimetype": "text/x-python",
   "name": "python",
   "nbconvert_exporter": "python",
   "pygments_lexer": "ipython3",
   "version": "3.8.8"
  }
 },
 "nbformat": 4,
 "nbformat_minor": 4
}
