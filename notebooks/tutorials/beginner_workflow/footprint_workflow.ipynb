{
 "cells": [
  {
   "cell_type": "markdown",
   "id": "b39432c2",
   "metadata": {},
   "source": [
    "# Other datasets\n",
    "\n",
    "To also include additional files within the object store including footprints, emissions [+boundary conditions+] you can do this by accessing the underlying methods and reading in the file.\n",
    "\n",
    "At the moment, the expected format for these files is created through standard methods from within the ACRG repository.\n",
    "\n",
    "Before starting we need to define where our object store is located. If using a local compute resource please set this to your local work directory or a directory suitable for writing a large number of files to."
   ],
   "metadata": {}
  },
  {
   "cell_type": "code",
   "execution_count": null,
   "id": "d0eaabfe",
   "metadata": {},
   "outputs": [],
   "source": [
    "import os\n",
    "import matplotlib.pyplot as plt\n",
    "from openghg.localclient import get_obs_surface\n",
    "from openghg.modules import Emissions, FOOTPRINTS, ObsSurface\n",
    "from openghg.processing import footprints_data_merge, search\n",
    "\n",
    "# object_store = \"/work/<username>/object_store\"\n",
    "\n",
    "# Or to create a temporary object store if testing on your local machine\n",
    "import tempfile\n",
    "tmp_dir = tempfile.TemporaryDirectory()\n",
    "object_store = tmp_dir.name  # \"/tmp/openghg_store\"\n",
    "\n",
    "os.environ[\"OPENGHG_PATH\"] = object_store"
   ],
   "outputs": [
    {
     "output_type": "stream",
     "name": "stderr",
     "text": [
      "/work/rt17603/environments/openghg/lib/python3.7/site-packages/requests/__init__.py:80: RequestsDependencyWarning: urllib3 (1.26.4) or chardet (3.0.4) doesn't match a supported version!\n",
      "  RequestsDependencyWarning)\n"
     ]
    }
   ],
   "metadata": {}
  },
  {
   "cell_type": "markdown",
   "id": "d1c0c805",
   "metadata": {},
   "source": [
    "## Loading data sources into the object store\n",
    "\n",
    "### Observations\n",
    "\n",
    "See [workflow.ipynb](workflow.ipynb#2.-Processing-data) tutorial notebook for how to add observation files to the object store, as well as how to access and use this data. For this example we need to make sure observations from the Tacolneston (TAC) site as part of the DECC network are within the Object store."
   ],
   "metadata": {}
  },
  {
   "cell_type": "code",
   "execution_count": null,
   "id": "f42a2d29",
   "metadata": {},
   "outputs": [],
   "source": [
    "# Defining inputs\n",
    "\n",
    "site=\"tac\" \n",
    "network=\"DECC\"\n",
    "height=\"100m\"\n",
    "domain=\"EUROPE\"\n",
    "species=\"ch4\""
   ],
   "outputs": [],
   "metadata": {}
  },
  {
   "cell_type": "code",
   "execution_count": null,
   "id": "c2c295ad",
   "metadata": {},
   "outputs": [],
   "source": [
    "obs_file = \"../data/DECC/tac.picarro.1minute.100m.test.dat\"\n",
    "\n",
    "ObsSurface.read_file(filepath=obs_file, data_type=\"CRDS\", site=site, network=network, inlet=height)"
   ]
  },
  {
   "cell_type": "code",
   "execution_count": null,
   "id": "e3337a5e",
   "metadata": {},
   "outputs": [],
   "source": [
    "start_date = \"2012-08-01\"\n",
    "end_date = \"2012-09-01\"\n",
    "\n",
    "obs = get_obs_surface(site=site, species=species, start_date=start_date,\n",
    "                        end_date=end_date, inlet=height, network=network)\n",
    "\n",
    "mf = obs.data[\"mf\"]\n",
    "mf.plot(marker=\"x\")"
   ]
  },
  {
   "cell_type": "markdown",
   "id": "0fe1a828",
   "metadata": {},
   "source": [
    "### Footprints"
   ],
   "metadata": {}
  },
  {
   "cell_type": "code",
   "execution_count": null,
   "id": "eb5d59aa",
   "metadata": {},
   "outputs": [],
   "source": [
    "fp_file_path = \"../data/footprints/TAC-100magl_EUROPE_201208.nc\"\n",
    "\n",
    "model=\"NAME\"\n",
    "\n",
    "FOOTPRINTS.read_file(filepath=fp_file_path, site=site, height=height, domain=domain, model=model)"
   ],
   "outputs": [
    {
     "output_type": "execute_result",
     "data": {
      "text/plain": [
       "{'tac_europe_NAME_100m': 'e3d225bc-6400-4949-8bbc-966350473ff8'}"
      ]
     },
     "metadata": {},
     "execution_count": 4
    }
   ],
   "metadata": {}
  },
  {
   "cell_type": "markdown",
   "id": "574ece9c",
   "metadata": {},
   "source": [
    "### Emissions"
   ],
   "metadata": {}
  },
  {
   "cell_type": "code",
   "execution_count": null,
   "id": "6cdcd21f",
   "metadata": {},
   "outputs": [],
   "source": [
    "flux_file_path = \"../data/emissions/ch4-anthro_EUROPE_2012.nc\"\n",
    "\n",
    "source=\"anthro\"\n",
    "date = \"2012\"\n",
    "\n",
    "Emissions.read_file(filepath=flux_file_path, species=species, source=source, domain=domain, date=date)"
   ],
   "outputs": [
    {
     "output_type": "execute_result",
     "data": {
      "text/plain": [
       "{'ch4_anthro_europe_2012': '4077ec61-7f47-4bda-b853-52c64b189281'}"
      ]
     },
     "metadata": {},
     "execution_count": 5
    }
   ],
   "metadata": {}
  },
  {
   "cell_type": "markdown",
   "id": "cfa0b801",
   "metadata": {},
   "source": [
    "## Combining data"
   ],
   "metadata": {}
  },
  {
   "cell_type": "code",
   "execution_count": null,
   "id": "bb6f6753",
   "metadata": {},
   "outputs": [],
   "source": [
    "## ISSUE WITH THE DATE - won't allow just 2012-08-01 - 2012-09-01 to be specified at the moment\n",
    "start_date = \"2012-01-01\"\n",
    "end_date = \"2013-01-01\"\n",
    "\n",
    "CombinedData = footprints_data_merge(site=site, height=height, network=network, domain=domain, \n",
    "                                    start_date=start_date, end_date=end_date, species=species,\n",
    "                                    flux_sources=source, load_flux=True, calc_timeseries=True)\n",
    "    \n",
    "data = CombinedData.data\n"
   ],
   "outputs": [
    {
     "output_type": "stream",
     "name": "stderr",
     "text": [
      "/work/rt17603/environments/openghg/lib/python3.7/site-packages/pandas/core/indexes/base.py:5277: FutureWarning: Indexing a timezone-naive DatetimeIndex with a timezone-aware datetime is deprecated and will raise KeyError in a future version.  Use a timezone-naive object instead.\n",
      "  start_slice, end_slice = self.slice_locs(start, end, step=step, kind=kind)\n"
     ]
    }
   ],
   "metadata": {}
  },
  {
   "cell_type": "code",
   "execution_count": null,
   "id": "6da18060",
   "metadata": {},
   "outputs": [],
   "source": [
    "# Calculate modelled mole fraction based on emissions estimate\n",
    "mf = data[\"mf\"]\n",
    "mf_mod = data[\"mf_mod\"]\n",
    "\n",
    "# Add a sensible baseline\n",
    "baseline = mf.quantile(0.01).drop(\"quantile\")\n",
    "print(f\"Estimating baseline based on 1st percentile of data: {baseline.values}\")\n",
    "\n",
    "mf_mod = mf_mod + baseline"
   ],
   "outputs": [
    {
     "output_type": "stream",
     "name": "stdout",
     "text": [
      "Estimating baseline based on 1st percentile of data: 1883.6504\n"
     ]
    }
   ],
   "metadata": {}
  },
  {
   "cell_type": "code",
   "execution_count": null,
   "id": "69ef1b50",
   "metadata": {},
   "outputs": [],
   "source": [
    "# Plot mole fraction data versus modelled mole fraction based on emissions estimate\n",
    "\n",
    "import matplotlib.pyplot as plt\n",
    "fig, ax = plt.subplots()\n",
    "\n",
    "mf.plot(marker=\"x\", ax=ax, label=\"Measured mole fraction\")\n",
    "mf_mod.plot(marker=\"o\", ax=ax, label=\"Modelled mole fraction\")\n",
    "\n",
    "ax.legend()\n"
   ],
   "outputs": [
    {
     "output_type": "execute_result",
     "data": {
      "text/plain": [
       "<matplotlib.legend.Legend at 0x7fe0b448f850>"
      ]
     },
     "metadata": {},
     "execution_count": 8
    },
    {
     "output_type": "display_data",
     "data": {
      "text/plain": [
       "<Figure size 432x288 with 1 Axes>"
      ],
      "image/png": "[encoded data removed]"
     },
     "metadata": {
      "needs_background": "light"
     }
    }
   ],
   "metadata": {}
  },
  {
   "cell_type": "code",
   "execution_count": null,
   "id": "33b30005",
   "metadata": {},
   "outputs": [],
   "source": [
    "import matplotlib.pyplot as plt\n",
    "import matplotlib.colors as colors\n",
    "\n",
    "## IDEALLY WOULD WANT TO LOAD CARTOPY HERE\n",
    "\n",
    "fig, ax = plt.subplots()\n",
    "\n",
    "## Plot footprints as a 2D colour map\n",
    "data_fp = data[\"fp\"].isel(time=0) # First time point\n",
    "lat = data_fp.lat\n",
    "lon = data_fp.lon\n",
    "footprint = data_fp.values\n",
    "\n",
    "vmin = 1e-5 # min is 0 and can't use 0 for a log scale\n",
    "vmax = footprint.max()\n",
    "\n",
    "im = ax.pcolormesh(lon, lat, footprint, \n",
    "              norm=colors.LogNorm(vmin=vmin, \n",
    "                                  vmax=vmax), shading=\"auto\") # Put on a log scale\n",
    "cb = plt.colorbar(im, ax=ax)\n",
    "cb.set_label(\"Footprint\")\n",
    "\n",
    "## Add station position\n",
    "attrs = data.attrs\n",
    "if \"station_longitude\" in attrs and \"station_latitude\" in attrs:\n",
    "    station_lon = data.attrs[\"station_longitude\"]\n",
    "    station_lat = data.attrs[\"station_latitude\"]\n",
    "    ax.scatter([station_lon],[station_lat])"
   ]
  }
 ],
 "metadata": {
  "interpreter": {
   "hash": "be46fac04113c12cba86920494e488404427b4279e35c30cf0606e819f4acc5b"
  },
  "kernelspec": {
   "display_name": "Python 3",
   "language": "python",
   "name": "python3"
  },
  "language_info": {
   "codemirror_mode": {
    "name": "ipython",
    "version": 3
   },
   "file_extension": ".py",
   "mimetype": "text/x-python",
   "name": "python",
   "nbconvert_exporter": "python",
   "pygments_lexer": "ipython3",
   "version": "3.9.6"
  }
 },
 "nbformat": 4,
 "nbformat_minor": 5
}
