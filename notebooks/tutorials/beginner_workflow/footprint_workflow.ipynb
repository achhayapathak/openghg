{
 "cells": [
  {
   "cell_type": "markdown",
   "id": "square-affair",
   "metadata": {},
   "source": [
    "# Other datasets\n",
    "\n",
    "To also include additional files within the object store including footprints, emissions [+boundary conditions+] you can do this by accessing the underlying methods and reading in the file.\n",
    "\n",
    "At the moment, the expected format for these files is created through standard methods from within the ACRG repository.\n",
    "\n",
    "Before starting we need to define where our object store is located. If using a local compute resource please set this to your local work directory or a directory suitable for writing a large number of files to."
   ]
  },
  {
   "cell_type": "code",
   "execution_count": null,
   "id": "flush-provincial",
   "metadata": {},
   "outputs": [],
   "source": [
    "import os\n",
    "import matplotlib.pyplot as plt\n",
    "from openghg.localclient import get_obs_surface\n",
    "from openghg.modules import Emissions, FOOTPRINTS, ObsSurface\n",
    "from openghg.processing import footprints_data_merge, search\n",
    "\n",
    "# object_store = \"/work/<username>/object_store\"\n",
    "\n",
    "# Or to create a temporary object store if testing on your local machine\n",
    "object_store = \"/tmp/openghg_object_store\"\n",
    "\n",
    "os.environ[\"OPENGHG_PATH\"] = object_store"
   ]
  },
  {
   "cell_type": "markdown",
   "id": "little-entity",
   "metadata": {},
   "source": [
    "### Observations\n",
    "\n",
    "See [workflow.ipynb](workflow.ipynb#2.-Processing-data) tutorial notebook for how to add observation files to the object store, as well as how to access and use this data. For this example we need to make sure observations from the Tacolneston (TAC) site as part of the DECC network are within the Object store."
   ]
  },
  {
   "cell_type": "code",
   "execution_count": null,
   "id": "extended-schema",
   "metadata": {},
   "outputs": [],
   "source": [
    "site=\"tac\" \n",
    "network=\"DECC\"\n",
    "height=\"100m\"\n",
    "domain=\"EUROPE\"\n",
    "species=\"co2\""
   ]
  },
  {
   "cell_type": "code",
   "execution_count": null,
   "id": "visible-vermont",
   "metadata": {},
   "outputs": [],
   "source": [
    "obs_file = \"../data/DECC/tac.picarro.1minute.100m.test.dat\"\n",
    "\n",
    "ObsSurface.read_file(filepath=obs_file, data_type=\"CRDS\", site=site, network=network, inlet=height)"
   ]
  },
  {
   "cell_type": "code",
   "execution_count": null,
   "id": "bridal-works",
   "metadata": {},
   "outputs": [],
   "source": [
    "start_date = \"2012-08-01\"\n",
    "end_date = \"2012-09-01\"\n",
    "\n",
    "obs = get_obs_surface(site=site, species=species, start_date=start_date,\n",
    "                        end_date=end_date, inlet=height, network=network)\n",
    "\n",
    "mf = obs.data[\"mf\"]\n",
    "mf.plot(marker=\"x\")"
   ]
  },
  {
   "cell_type": "markdown",
   "id": "guided-spine",
   "metadata": {},
   "source": [
    "### Footprints"
   ]
  },
  {
   "cell_type": "code",
   "execution_count": null,
   "id": "valued-gregory",
   "metadata": {},
   "outputs": [],
   "source": [
    "fp_file_path = \"../data/footprints/TAC-100magl_EUROPE_201208.nc\"\n",
    "\n",
    "site=\"tac\" \n",
    "height=\"100m\"\n",
    "domain=\"EUROPE\"\n",
    "model=\"NAME\"\n",
    "\n",
    "FOOTPRINTS.read_file(filepath=fp_file_path, site=site, height=height, domain=domain, model=model)"
   ]
  },
  {
   "cell_type": "markdown",
   "id": "eleven-russian",
   "metadata": {},
   "source": [
    "### Emissions"
   ]
  },
  {
   "cell_type": "code",
   "execution_count": null,
   "id": "aggressive-airport",
   "metadata": {},
   "outputs": [],
   "source": [
    "flux_file_path = \"../data/emissions/co2-ff-edgar-bp-mth_EUROPE_2012.nc\"\n",
    "\n",
    "species=\"co2\"\n",
    "domain=\"EUROPE\"\n",
    "source=\"ff-edgar-bp-mth\"\n",
    "date = \"2012\"\n",
    "\n",
    "Emissions.read_file(filepath=flux_file_path, species=species, source=source, domain=domain, date=date)"
   ]
  },
  {
   "cell_type": "markdown",
   "id": "revised-margin",
   "metadata": {},
   "source": [
    "### Footprints data merge\n",
    "\n"
   ]
  },
  {
   "cell_type": "code",
   "execution_count": null,
   "id": "wicked-transcript",
   "metadata": {},
   "outputs": [],
   "source": [
    "start_date = \"2012-08-01\"\n",
    "end_date = \"2012-09-01\"\n",
    "\n",
    "site = \"tac\" \n",
    "height = \"100m\"\n",
    "domain =\"EUROPE\"\n",
    "model = \"NAME\"\n",
    "network = \"decc\"\n",
    "\n",
    "CombinedData = footprints_data_merge(site=site, height=height, network=network, domain=domain, \n",
    "                                    start_date=start_date, end_date=end_date, \n",
    "                                     species=species, load_flux=True)\n",
    "    \n",
    "data = CombinedData.data"
   ]
  },
  {
   "cell_type": "code",
   "execution_count": null,
   "id": "defined-mills",
   "metadata": {},
   "outputs": [],
   "source": [
    "mf = data[\"mf\"]\n",
    "mf.plot(marker=\"x\")\n",
    "## Would want to be able to plot modelled mole fraction here as a comparison"
   ]
  },
  {
   "cell_type": "code",
   "execution_count": null,
   "id": "sought-sensitivity",
   "metadata": {},
   "outputs": [],
   "source": [
    "import matplotlib.pyplot as plt\n",
    "import matplotlib.colors as colors\n",
    "\n",
    "## IDEALLY WOULD WANT TO LOAD CARTOPY HERE\n",
    "\n",
    "fig, ax = plt.subplots()\n",
    "\n",
    "## Plot footprints as a 2D colour map\n",
    "data_fp = data[\"fp\"].isel(time=0) # First time point\n",
    "lat = data_fp.lat\n",
    "lon = data_fp.lon\n",
    "footprint = data_fp.values\n",
    "\n",
    "vmin = 1e-5 # min is 0 and can't use 0 for a log scale\n",
    "vmax = footprint.max()\n",
    "\n",
    "im = ax.pcolormesh(lon, lat, footprint, \n",
    "              norm=colors.LogNorm(vmin=vmin, \n",
    "                                  vmax=vmax), shading=\"auto\") # Put on a log scale\n",
    "cb = plt.colorbar(im, ax=ax)\n",
    "cb.set_label(\"Footprint\")\n",
    "\n",
    "## Add station position\n",
    "station_lon = data.attrs[\"station_longitude\"]\n",
    "station_lat = data.attrs[\"station_latitude\"]\n",
    "ax.scatter([station_lon],[station_lat])"
   ]
  }
 ],
 "metadata": {
  "kernelspec": {
   "display_name": "Python 3",
   "language": "python",
   "name": "python3"
  },
  "language_info": {
   "codemirror_mode": {
    "name": "ipython",
    "version": 3
   },
   "file_extension": ".py",
   "mimetype": "text/x-python",
   "name": "python",
   "nbconvert_exporter": "python",
   "pygments_lexer": "ipython3",
   "version": "3.9.4"
  }
 },
 "nbformat": 4,
 "nbformat_minor": 5
}
