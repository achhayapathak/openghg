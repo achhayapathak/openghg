{
 "cells": [
  {
   "cell_type": "markdown",
   "id": "790454ed",
   "metadata": {},
   "source": [
    "## Carbon dioxide\n",
    "\n",
    "In order to compare our measurements to modelled data for carbon dioxide ($\\mathrm{CO_2}$), we should use the high time resolution workflow. This allows us to extract and use the correct footprints and emissions to account for the natural diurnal cycle."
   ]
  },
  {
   "cell_type": "code",
   "execution_count": null,
   "id": "9b124011",
   "metadata": {},
   "outputs": [],
   "source": [
    "import os\n",
    "import matplotlib.pyplot as plt\n",
    "from openghg.localclient import get_obs_surface\n",
    "from openghg.store import Emissions, Footprints, ObsSurface\n",
    "from openghg.processing import footprints_data_merge, search\n",
    "\n",
    "# object_store = \"/work/<username>/object_store\"\n",
    "\n",
    "# Or to create a temporary object store if testing on your local machine\n",
    "import tempfile\n",
    "tmp_dir = tempfile.TemporaryDirectory()\n",
    "object_store = tmp_dir.name  # \"/tmp/openghg_store\"\n",
    "\n",
    "os.environ[\"OPENGHG_PATH\"] = object_store"
   ]
  },
  {
   "cell_type": "markdown",
   "id": "2675a66e",
   "metadata": {},
   "source": [
    "## Loading the data files"
   ]
  },
  {
   "cell_type": "code",
   "execution_count": null,
   "id": "f78b500a",
   "metadata": {},
   "outputs": [],
   "source": [
    "## Defining inputs\n",
    "\n",
    "site = \"TAC\"\n",
    "network = \"DECC\"\n",
    "height = \"100m\"\n",
    "\n",
    "domain = \"EUROPE\"\n",
    "species = \"co2\""
   ]
  },
  {
   "cell_type": "code",
   "execution_count": null,
   "id": "1d648409",
   "metadata": {},
   "outputs": [],
   "source": [
    "## Observations\n",
    "\n",
    "obs_file = \"../data/DECC/tac.picarro.hourly.100m.test.dat\"\n",
    "ObsSurface.read_file(filepath=obs_file, data_type=\"CRDS\", site=site, network=network, inlet=height)"
   ]
  },
  {
   "cell_type": "code",
   "execution_count": null,
   "id": "ff4caa40",
   "metadata": {},
   "outputs": [],
   "source": [
    "## Footprints\n",
    "\n",
    "fp_file_path = \"../data/footprints/TAC-100magl_UKV_co2_TEST_201407.nc\"\n",
    "\n",
    "model = \"NAME\"\n",
    "metmodel = \"UKV\"\n",
    "\n",
    "Footprints.read_file(filepath=fp_file_path, site=site, height=height, domain=domain, model=model, metmodel=metmodel, species=species)"
   ]
  },
  {
   "cell_type": "code",
   "execution_count": null,
   "id": "63188a0e",
   "metadata": {},
   "outputs": [],
   "source": [
    "## Emissions\n",
    "\n",
    "flux_file_path = \"../data/emissions/co2-rtot-cardamom-2hr_TEST_2014.nc\"\n",
    "\n",
    "source = \"rtot-cardamom\"\n",
    "date = \"2014\"\n",
    "\n",
    "Emissions.read_file(filepath=flux_file_path, species=species, source=source, domain=domain, date=date, high_time_resolution=True)"
   ]
  },
  {
   "cell_type": "markdown",
   "id": "e5421ea9",
   "metadata": {},
   "source": [
    "## Combining data"
   ]
  },
  {
   "cell_type": "code",
   "execution_count": null,
   "id": "3f2a3df7",
   "metadata": {},
   "outputs": [],
   "source": [
    "start_date = \"2014-07-01\"\n",
    "end_date = \"2014-07-04\"\n",
    "\n",
    "CombinedData_HiTRes = footprints_data_merge(site=site, height=height, domain=domain, network=network,\n",
    "                                            start_date=start_date, end_date=end_date, flux_sources=source,\n",
    "                                            species=species, load_flux=True, calc_timeseries=True,\n",
    "                                            time_resolution=\"high\")\n"
   ]
  },
  {
   "cell_type": "code",
   "execution_count": null,
   "id": "b8e5b9b5",
   "metadata": {},
   "outputs": [],
   "source": [
    "data = CombinedData_HiTRes.data"
   ]
  },
  {
   "cell_type": "code",
   "execution_count": null,
   "id": "28dbdbf2",
   "metadata": {},
   "outputs": [],
   "source": [
    "import matplotlib.pyplot as plt\n",
    "\n",
    "fig, ax = plt.subplots()\n",
    "\n",
    "data.plot.scatter(x=\"time\", y=\"mf\",ax=ax, label=\"mf\")\n",
    "data.plot.scatter(x=\"time\", y=\"mf_mod\",ax=ax, label=\"mf_mod\")\n",
    "\n",
    "ax.legend()\n"
   ]
  },
  {
   "cell_type": "code",
   "execution_count": null,
   "id": "c79d2665",
   "metadata": {},
   "outputs": [],
   "source": [
    "data.time.dtype"
   ]
  }
 ],
 "metadata": {
  "interpreter": {
   "hash": "be46fac04113c12cba86920494e488404427b4279e35c30cf0606e819f4acc5b"
  },
  "kernelspec": {
   "display_name": "Python 3 (ipykernel)",
   "language": "python",
   "name": "python3"
  },
  "language_info": {
   "codemirror_mode": {
    "name": "ipython",
    "version": 3
   },
   "file_extension": ".py",
   "mimetype": "text/x-python",
   "name": "python",
   "nbconvert_exporter": "python",
   "pygments_lexer": "ipython3",
   "version": "3.9.7"
  }
 },
 "nbformat": 4,
 "nbformat_minor": 5
}
