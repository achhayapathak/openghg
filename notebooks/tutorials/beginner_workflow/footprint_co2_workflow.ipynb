{
 "cells": [
  {
   "cell_type": "markdown",
   "id": "790454ed",
   "metadata": {},
   "source": [
    "## Carbon dioxide\n",
    "\n",
    "In order to compare our measurements to modelled data for carbon dioxide ($\\mathrm{CO_2}$), we should use the high time resolution workflow. Thia allows us to extract and use the correct footprints and emissions to account for the natural diurnal cycle."
   ]
  },
  {
   "cell_type": "code",
   "execution_count": 10,
   "id": "9b124011",
   "metadata": {},
   "outputs": [],
   "source": [
    "import os\n",
    "import matplotlib.pyplot as plt\n",
    "from openghg.localclient import get_obs_surface\n",
    "from openghg.modules import Emissions, Footprints, ObsSurface\n",
    "from openghg.processing import footprints_data_merge, search\n",
    "\n",
    "# object_store = \"/work/<username>/object_store\"\n",
    "\n",
    "# Or to create a temporary object store if testing on your local machine\n",
    "import tempfile\n",
    "tmp_dir = tempfile.TemporaryDirectory()\n",
    "object_store = tmp_dir.name  # \"/tmp/openghg_store\"\n",
    "\n",
    "os.environ[\"OPENGHG_PATH\"] = object_store"
   ]
  },
  {
   "cell_type": "markdown",
   "id": "2675a66e",
   "metadata": {},
   "source": [
    "## Loading the data files"
   ]
  },
  {
   "cell_type": "code",
   "execution_count": 11,
   "id": "f78b500a",
   "metadata": {},
   "outputs": [],
   "source": [
    "## Defining inputs\n",
    "\n",
    "site = \"TAC\"\n",
    "network = \"DECC\"\n",
    "height = \"100m\"\n",
    "\n",
    "domain = \"EUROPE\"\n",
    "species = \"co2\""
   ]
  },
  {
   "cell_type": "code",
   "execution_count": 12,
   "id": "1d648409",
   "metadata": {},
   "outputs": [
    {
     "name": "stdout",
     "output_type": "stream",
     "text": [
      "Processing: tac.picarro.hourly.100m.test.dat: 100%|██████████| 1/1 [00:00<00:00, 10.64it/s]\n"
     ]
    },
    {
     "data": {
      "text/plain": [
       "defaultdict(dict,\n",
       "            {'processed': {'tac.picarro.hourly.100m.test.dat': {'ch4': 'b068098c-4374-4f15-a6e0-e1f807ff2ea7',\n",
       "               'co2': 'b63934af-b338-4445-bc89-f3c0c7ed3f6c'}}})"
      ]
     },
     "execution_count": 12,
     "metadata": {},
     "output_type": "execute_result"
    }
   ],
   "source": [
    "## Observations\n",
    "\n",
    "obs_file = \"../data/DECC/tac.picarro.hourly.100m.test.dat\"\n",
    "ObsSurface.read_file(filepath=obs_file, data_type=\"CRDS\", site=site, network=network, inlet=height)"
   ]
  },
  {
   "cell_type": "code",
   "execution_count": 13,
   "id": "ff4caa40",
   "metadata": {},
   "outputs": [
    {
     "data": {
      "text/plain": [
       "{'tac_europe_NAME_100m': '291ec4df-9929-44b8-bbb5-3636a67e0dc2'}"
      ]
     },
     "execution_count": 13,
     "metadata": {},
     "output_type": "execute_result"
    }
   ],
   "source": [
    "## Footprints\n",
    "\n",
    "fp_file_path = \"../data/footprints/TAC-100magl_UKV_co2_TEST_201407.nc\"\n",
    "\n",
    "model = \"NAME\"\n",
    "metmodel = \"UKV\"\n",
    "\n",
    "Footprints.read_file(filepath=fp_file_path, site=site, height=height, domain=domain, model=model, metmodel=metmodel, species=species)"
   ]
  },
  {
   "cell_type": "code",
   "execution_count": 14,
   "id": "63188a0e",
   "metadata": {},
   "outputs": [
    {
     "data": {
      "text/plain": [
       "{'co2_rtotcardamom_europe_2014': '35aed7e1-f6a2-44d6-ae98-f75dc5310142'}"
      ]
     },
     "execution_count": 14,
     "metadata": {},
     "output_type": "execute_result"
    }
   ],
   "source": [
    "## Emissions\n",
    "\n",
    "flux_file_path = \"../data/emissions/co2-rtot-cardamom-2hr_TEST_2014.nc\"\n",
    "\n",
    "source = \"rtot-cardamom\"\n",
    "date = \"2014\"\n",
    "\n",
    "Emissions.read_file(filepath=flux_file_path, species=species, source=source, domain=domain, date=date, high_time_resolution=True)"
   ]
  },
  {
   "cell_type": "markdown",
   "id": "e5421ea9",
   "metadata": {},
   "source": [
    "## Combining data"
   ]
  },
  {
   "cell_type": "code",
   "execution_count": 15,
   "id": "3f2a3df7",
   "metadata": {},
   "outputs": [
    {
     "name": "stderr",
     "output_type": "stream",
     "text": [
      "/user/home/rt17603/work/environments/openghg_env/lib/python3.8/site-packages/xarray/core/indexes.py:97: FutureWarning: Indexing a timezone-naive DatetimeIndex with a timezone-aware datetime is deprecated and will raise KeyError in a future version.  Use a timezone-naive object instead.\n",
      "  indexer = index.slice_indexer(\n"
     ]
    },
    {
     "name": "stdout",
     "output_type": "stream",
     "text": [
      "Calculating modelled timeseries comparison:\n"
     ]
    },
    {
     "name": "stderr",
     "output_type": "stream",
     "text": [
      "100%|██████████| 71/71 [00:00<00:00, 141.16it/s]\n"
     ]
    }
   ],
   "source": [
    "start_date = \"2014-07-01\"\n",
    "end_date = \"2014-07-04\"\n",
    "\n",
    "CombinedData_HiTRes = footprints_data_merge(site=site, height=height, domain=domain, network=network,\n",
    "                                            start_date=start_date, end_date=end_date, flux_sources=source,\n",
    "                                            species=species, load_flux=True, calc_timeseries=True,\n",
    "                                            time_resolution=\"high\")\n"
   ]
  },
  {
   "cell_type": "code",
   "execution_count": 16,
   "id": "b8e5b9b5",
   "metadata": {},
   "outputs": [],
   "source": [
    "data = CombinedData_HiTRes.data"
   ]
  },
  {
   "cell_type": "code",
   "execution_count": 17,
   "id": "28dbdbf2",
   "metadata": {},
   "outputs": [
    {
     "data": {
      "text/plain": [
       "<matplotlib.legend.Legend at 0x7f83fc5cba30>"
      ]
     },
     "execution_count": 17,
     "metadata": {},
     "output_type": "execute_result"
    },
    {
     "data": {
      "image/png": "[encoded data removed]",
      "text/plain": [
       "<Figure size 432x288 with 1 Axes>"
      ]
     },
     "metadata": {
      "needs_background": "light"
     },
     "output_type": "display_data"
    }
   ],
   "source": [
    "import matplotlib.pyplot as plt\n",
    "\n",
    "fig, ax = plt.subplots()\n",
    "\n",
    "data.plot.scatter(x=\"time\", y=\"mf\",ax=ax, label=\"mf\")\n",
    "data.plot.scatter(x=\"time\", y=\"mf_mod\",ax=ax, label=\"mf_mod\")\n",
    "\n",
    "ax.legend()\n"
   ]
  },
  {
   "cell_type": "code",
   "execution_count": 18,
   "id": "c79d2665",
   "metadata": {},
   "outputs": [
    {
     "data": {
      "text/plain": [
       "dtype('<M8[ns]')"
      ]
     },
     "execution_count": 18,
     "metadata": {},
     "output_type": "execute_result"
    }
   ],
   "source": [
    "data.time.dtype"
   ]
  }
 ],
 "metadata": {
  "interpreter": {
   "hash": "be46fac04113c12cba86920494e488404427b4279e35c30cf0606e819f4acc5b"
  },
  "kernelspec": {
   "display_name": "Python 3.7.4 64-bit ('openghg': venv)",
   "name": "python3"
  },
  "language_info": {
   "codemirror_mode": {
    "name": "ipython",
    "version": 3
   },
   "file_extension": ".py",
   "mimetype": "text/x-python",
   "name": "python",
   "nbconvert_exporter": "python",
   "pygments_lexer": "ipython3",
   "version": "3.8.8"
  }
 },
 "nbformat": 4,
 "nbformat_minor": 5
}
