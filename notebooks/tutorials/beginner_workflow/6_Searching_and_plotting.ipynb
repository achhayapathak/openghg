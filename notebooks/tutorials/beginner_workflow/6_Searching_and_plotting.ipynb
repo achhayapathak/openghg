{
 "cells": [
  {
   "cell_type": "markdown",
   "id": "fcae9aa0",
   "metadata": {},
   "source": [
    "# Searching and plotting\n",
    "\n",
    "In this short tutorial we'll show how to retrieve some data and create a simple plot using one of our plotting functions."
   ]
  },
  {
   "cell_type": "markdown",
   "id": "4cabec19",
   "metadata": {},
   "source": [
    "As in the [previous tutorial](1_Adding_observation_data.ipynb), we will start by setting up our temporary object store for our data. If you've already create your own local object store you can skip the next few steps and move onto the **Searching** section."
   ]
  },
  {
   "cell_type": "code",
   "execution_count": null,
   "id": "7fe5d713",
   "metadata": {},
   "outputs": [],
   "source": [
    "import os\n",
    "import tempfile\n",
    "\n",
    "tmp_dir = tempfile.TemporaryDirectory()\n",
    "os.environ[\"OPENGHG_PATH\"] = tmp_dir.name   # temporary directory"
   ]
  },
  {
   "cell_type": "code",
   "execution_count": null,
   "id": "6afd33a8",
   "metadata": {},
   "outputs": [],
   "source": [
    "from openghg.util import retrieve_example_data\n",
    "from openghg.client import process_obs\n",
    "\n",
    "tac_data = retrieve_example_data(path=\"timeseries/tac_example.tar.gz\")\n",
    "process_obs(files=tac_data, data_type=\"CRDS\", site=\"TAC\", network=\"DECC\")"
   ]
  },
  {
   "cell_type": "markdown",
   "id": "add053b6",
   "metadata": {},
   "source": [
    "## Searching"
   ]
  },
  {
   "cell_type": "markdown",
   "id": "f8c22cbc",
   "metadata": {},
   "source": [
    "Let's search for all the methane data from Tacolneston"
   ]
  },
  {
   "cell_type": "code",
   "execution_count": null,
   "id": "b2724ee5",
   "metadata": {},
   "outputs": [],
   "source": [
    "from openghg.client import search\n",
    "\n",
    "ch4_results = search(site=\"tac\", species=\"ch4\")\n",
    "ch4_results"
   ]
  },
  {
   "cell_type": "markdown",
   "id": "48481d0c",
   "metadata": {},
   "source": [
    "If we want to take a look at the data from the 185m inlet we can first retrieve the data from the object store and then create a quick timeseries plot. See the [`SearchResults`](https://docs.openghg.org/api/api_dataobjects.html#openghg.dataobjects.SearchResults) object documentation for more information."
   ]
  },
  {
   "cell_type": "code",
   "execution_count": null,
   "id": "ebd14190",
   "metadata": {},
   "outputs": [],
   "source": [
    "data_185m = ch4_results.retrieve(inlet=\"185m\")"
   ]
  },
  {
   "cell_type": "markdown",
   "id": "92266867",
   "metadata": {},
   "source": [
    "> **_NOTE:_**  the plots created below may not show up on the online documentation version of this notebook."
   ]
  },
  {
   "cell_type": "code",
   "execution_count": null,
   "id": "1decb082",
   "metadata": {},
   "outputs": [],
   "source": [
    "data_185m.plot_timeseries()"
   ]
  },
  {
   "cell_type": "markdown",
   "id": "eb47e9cb",
   "metadata": {},
   "source": [
    "You can make some simple changes to the plot using arguments"
   ]
  },
  {
   "cell_type": "code",
   "execution_count": null,
   "id": "cbcdce52",
   "metadata": {},
   "outputs": [],
   "source": [
    "data_185m.plot_timeseries(title=\"Methane at Tacolneston\", xlabel=\"Time\", ylabel=\"Conc.\", units=\"ppm\")"
   ]
  },
  {
   "cell_type": "markdown",
   "id": "3e13e128",
   "metadata": {},
   "source": [
    "## Plot all the data"
   ]
  },
  {
   "cell_type": "markdown",
   "id": "3dad50ef",
   "metadata": {},
   "source": [
    "We can also retrieve all the data, get a `list` of [`ObsData`](https://docs.openghg.org/api/api_dataobjects.html#openghg.dataobjects.ObsData) objects."
   ]
  },
  {
   "cell_type": "code",
   "execution_count": null,
   "id": "f4b157b3",
   "metadata": {},
   "outputs": [],
   "source": [
    "all_ch4_tac = ch4_results.retrieve_all()"
   ]
  },
  {
   "cell_type": "markdown",
   "id": "1679fb2c",
   "metadata": {},
   "source": [
    "Then we can use the `plot_timeseries` function from the `plotting` submodule to compare measurements from different inlets. This creates a [Plotly](https://plotly.com/python/) plot that should be interactive and and responsive, even with relatively large amounts of data."
   ]
  },
  {
   "cell_type": "code",
   "execution_count": null,
   "id": "257b19ac",
   "metadata": {},
   "outputs": [],
   "source": [
    "from openghg.plotting import plot_timeseries\n",
    "\n",
    "plot_timeseries(data=all_ch4_tac, units=\"ppb\")"
   ]
  }
 ],
 "metadata": {
  "jupytext": {
   "formats": "ipynb,md:myst"
  },
  "kernelspec": {
   "display_name": "Python 3 (ipykernel)",
   "language": "python",
   "name": "python3"
  },
  "language_info": {
   "codemirror_mode": {
    "name": "ipython",
    "version": 3
   },
   "file_extension": ".py",
   "mimetype": "text/x-python",
   "name": "python",
   "nbconvert_exporter": "python",
   "pygments_lexer": "ipython3",
   "version": "3.9.10"
  }
 },
 "nbformat": 4,
 "nbformat_minor": 5
}
