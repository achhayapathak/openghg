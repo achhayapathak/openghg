{
 "cells": [
  {
   "cell_type": "markdown",
   "metadata": {},
   "source": [
    "# Workflow 2: handling overlapping observation data"
   ]
  },
  {
   "cell_type": "markdown",
   "metadata": {},
   "source": [
    "As in the [previous tutorial](1_Adding_observation_data.ipynb), we will start by setting up our temporary object store for our data."
   ]
  },
  {
   "cell_type": "code",
   "execution_count": null,
   "metadata": {
    "execution": {
     "iopub.execute_input": "2022-02-01T15:30:41.573383Z",
     "iopub.status.busy": "2022-02-01T15:30:41.572797Z",
     "iopub.status.idle": "2022-02-01T15:30:41.576431Z",
     "shell.execute_reply": "2022-02-01T15:30:41.576817Z"
    }
   },
   "outputs": [],
   "source": [
    "import os\n",
    "import tempfile\n",
    "\n",
    "tmp_dir = tempfile.TemporaryDirectory()\n",
    "os.environ[\"OPENGHG_PATH\"] = tmp_dir.name   # temporary directory"
   ]
  },
  {
   "cell_type": "markdown",
   "metadata": {},
   "source": [
    "## 1. Overlapping observations\n",
    "\n",
    "For some surface sites in the networks considered, there will be multiple independent measurements made for the various species at the same time. This is often due to a site having multiple inlets which allow gases to be sampled at different heights.\n",
    "\n",
    "Often, when retrieving data for comparison there will be preferences between the streams of measurements, for example based on the inlet height. Within `openghg` it is possible to set a *ranking* for the different data sources so that the preferred data for a given species is always selected by default and without the need to know the exact details every time this data is accessed.\n",
    "\n",
    "To demonstrate this we will start by loading data from the Bilsdale (\"BSD\") site within the DECC network with measurements of the same species at multiple inlet heights."
   ]
  },
  {
   "cell_type": "code",
   "execution_count": null,
   "metadata": {
    "execution": {
     "iopub.execute_input": "2022-02-01T15:30:41.581365Z",
     "iopub.status.busy": "2022-02-01T15:30:41.580854Z",
     "iopub.status.idle": "2022-02-01T15:30:44.001826Z",
     "shell.execute_reply": "2022-02-01T15:30:44.000865Z"
    }
   },
   "outputs": [],
   "source": [
    "from openghg.client import process_obs\n",
    "\n",
    "bsd_filepaths = [\"../data/DECC/bsd.picarro.1minute.42m.min.dat\", \"../data/DECC/bsd.picarro.1minute.108m.min.dat\", \"../data/DECC/bsd.picarro.1minute.248m.min.dat\"]\n",
    "decc_results = process_obs(files=bsd_filepaths, data_type=\"CRDS\", site=\"bsd\", network=\"DECC\")"
   ]
  },
  {
   "cell_type": "code",
   "execution_count": null,
   "metadata": {
    "execution": {
     "iopub.execute_input": "2022-02-01T15:30:44.006921Z",
     "iopub.status.busy": "2022-02-01T15:30:44.005107Z",
     "iopub.status.idle": "2022-02-01T15:30:44.027994Z",
     "shell.execute_reply": "2022-02-01T15:30:44.027463Z"
    }
   },
   "outputs": [],
   "source": [
    "from openghg.retrieve import search\n",
    "\n",
    "search(site=\"bsd\", species=\"co\")"
   ]
  },
  {
   "cell_type": "markdown",
   "metadata": {},
   "source": [
    "Before we set any ranking for this data, we can still retrieve this from the object store using the `get_obs_surface` function, as we did before, but because there are multiple inlets we must specify these details to be able to return unambiguous observation data:"
   ]
  },
  {
   "cell_type": "code",
   "execution_count": null,
   "metadata": {
    "execution": {
     "iopub.execute_input": "2022-02-01T15:30:44.033528Z",
     "iopub.status.busy": "2022-02-01T15:30:44.032744Z",
     "iopub.status.idle": "2022-02-01T15:30:44.273588Z",
     "shell.execute_reply": "2022-02-01T15:30:44.273100Z"
    }
   },
   "outputs": [],
   "source": [
    "from openghg.retrieve import get_obs_surface\n",
    "\n",
    "obs_data_42m = get_obs_surface(site=\"bsd\", species=\"co\", inlet=\"42m\")\n",
    "obs_data_108m = get_obs_surface(site=\"bsd\", species=\"co\", inlet=\"108m\")\n",
    "obs_data_248m = get_obs_surface(site=\"bsd\", species=\"co\", inlet=\"108m\")\n",
    "\n",
    "## Uncomment the cell below to see what happens if we don't include the inlet details.\n",
    "# obs_data = get_obs_surface(site=\"bsd\", species=\"co\")"
   ]
  },
  {
   "cell_type": "markdown",
   "metadata": {},
   "source": [
    "We can get around this by setting up ranking details once, which will then persist as long as the object store exists or this is updated again."
   ]
  },
  {
   "cell_type": "markdown",
   "metadata": {},
   "source": [
    "## 2. Get ranking data\n",
    "\n",
    "We can access the ranking data and see any pre-existing details associated with our data by using the `RankSources` class and the `get_sources()` method. In this case we are looking at the Bilsdale site (\"BSD\") and the carbon monoxide (\"co\") species:"
   ]
  },
  {
   "cell_type": "code",
   "execution_count": null,
   "metadata": {
    "execution": {
     "iopub.execute_input": "2022-02-01T15:30:44.278102Z",
     "iopub.status.busy": "2022-02-01T15:30:44.277480Z",
     "iopub.status.idle": "2022-02-01T15:30:44.288979Z",
     "shell.execute_reply": "2022-02-01T15:30:44.289368Z"
    }
   },
   "outputs": [],
   "source": [
    "from openghg.client import rank_sources\n",
    "\n",
    "ranker = rank_sources(site=\"BSD\", species=\"co\")"
   ]
  },
  {
   "cell_type": "markdown",
   "metadata": {},
   "source": [
    "What this tells us that, at the moment, there is no ranking data set for any of the inlets.\n",
    " - rank data for each inlet is set to 'NA' as shown by `{'rank_data':'NA',...}`"
   ]
  },
  {
   "cell_type": "markdown",
   "metadata": {},
   "source": [
    "## 3. Set ranking data\n",
    "\n",
    "To set ranking data for carbon monoxide at Bilsdale for given date ranges we can use the `set_rank` method along with the relevant details for each inlet. Here we want to set the following for our data:\n",
    "\n",
    "- From 01/01/2016 to 01/01/2018 (exclusive range)\n",
    "  - Access carbon monoxide data from the inlet at \"248m\"\n",
    "- From 01/01/2018 to 30/05/2019\n",
    "  - Access carbon monoxide data from the inlet at \"42m\"\n",
    "- From 30/05/2019 to 30/11/2021\n",
    "  - Access carbon monoxide data from the inlet at \"108m\""
   ]
  },
  {
   "cell_type": "code",
   "execution_count": null,
   "metadata": {
    "execution": {
     "iopub.execute_input": "2022-02-01T15:30:44.294176Z",
     "iopub.status.busy": "2022-02-01T15:30:44.293339Z",
     "iopub.status.idle": "2022-02-01T15:30:44.299137Z",
     "shell.execute_reply": "2022-02-01T15:30:44.298623Z"
    }
   },
   "outputs": [],
   "source": [
    "ranker.set_rank(inlet=\"248m\", rank=1, start_date=\"2016-01-01\", end_date=\"2018-01-01\")\n",
    "ranker.set_rank(inlet=\"42m\", rank=1, start_date=\"2018-01-01\", end_date=\"2019-05-30\")\n",
    "ranker.set_rank(inlet=\"108m\", rank=1, start_date=\"2019-05-30\", end_date=\"2021-11-30\")"
   ]
  },
  {
   "cell_type": "markdown",
   "metadata": {},
   "source": [
    "Secondary ranks (`rank=2`) and so forth can also be set covering the same date ranges, to set a preference order based on which data is available.\n",
    "\n",
    "Now we can check everything was set correctlying using `get_sources` again as above:"
   ]
  },
  {
   "cell_type": "code",
   "execution_count": null,
   "metadata": {
    "execution": {
     "iopub.execute_input": "2022-02-01T15:30:44.303673Z",
     "iopub.status.busy": "2022-02-01T15:30:44.302824Z",
     "iopub.status.idle": "2022-02-01T15:30:44.315425Z",
     "shell.execute_reply": "2022-02-01T15:30:44.314871Z"
    }
   },
   "outputs": [],
   "source": [
    "ranker.get_sources(site=\"BSD\", species=\"co\")"
   ]
  },
  {
   "cell_type": "markdown",
   "metadata": {},
   "source": [
    "## 4. Retrieve data\n",
    "\n",
    "Once this has been set, we can now try retrieving this data from the object store again. Whereas before we had to specify an inlet, we can now rely on the highest ranked data always being returned for each date range:"
   ]
  },
  {
   "cell_type": "code",
   "execution_count": null,
   "metadata": {
    "execution": {
     "iopub.execute_input": "2022-02-01T15:30:44.319297Z",
     "iopub.status.busy": "2022-02-01T15:30:44.318792Z",
     "iopub.status.idle": "2022-02-01T15:30:44.441449Z",
     "shell.execute_reply": "2022-02-01T15:30:44.440912Z"
    }
   },
   "outputs": [],
   "source": [
    "co_data = get_obs_surface(site=\"bsd\", species=\"co\")"
   ]
  },
  {
   "cell_type": "code",
   "execution_count": null,
   "metadata": {
    "execution": {
     "iopub.execute_input": "2022-02-01T15:30:44.461639Z",
     "iopub.status.busy": "2022-02-01T15:30:44.449366Z",
     "iopub.status.idle": "2022-02-01T15:30:44.470416Z",
     "shell.execute_reply": "2022-02-01T15:30:44.470798Z"
    }
   },
   "outputs": [],
   "source": [
    "co_data.data"
   ]
  },
  {
   "cell_type": "markdown",
   "metadata": {},
   "source": [
    "You can also see that because we extracted all the data for this site and species, this has also returned details of which inlet was applicable for each data point.\n",
    "\n",
    "We will also have additional metadata associated with our returned `co_data` object which includes the details of the ranking and applicable date ranges:"
   ]
  },
  {
   "cell_type": "code",
   "execution_count": null,
   "metadata": {
    "execution": {
     "iopub.execute_input": "2022-02-01T15:30:44.475569Z",
     "iopub.status.busy": "2022-02-01T15:30:44.474662Z",
     "iopub.status.idle": "2022-02-01T15:30:44.478481Z",
     "shell.execute_reply": "2022-02-01T15:30:44.477880Z"
    }
   },
   "outputs": [],
   "source": [
    "co_data.metadata[\"rank_metadata\"]"
   ]
  },
  {
   "cell_type": "markdown",
   "metadata": {},
   "source": [
    "---"
   ]
  },
  {
   "cell_type": "markdown",
   "metadata": {},
   "source": [
    "#### Clean up\n",
    "\n",
    "If you used the `tmp_dir` as a location for your object store at the start of the tutorial you can run the cell below to remove any files that were created to make sure any persistant data is refreshed when the notebook is re-run."
   ]
  },
  {
   "cell_type": "code",
   "execution_count": null,
   "metadata": {
    "execution": {
     "iopub.execute_input": "2022-02-01T15:30:44.482335Z",
     "iopub.status.busy": "2022-02-01T15:30:44.481790Z",
     "iopub.status.idle": "2022-02-01T15:30:44.485198Z",
     "shell.execute_reply": "2022-02-01T15:30:44.485780Z"
    }
   },
   "outputs": [],
   "source": [
    "tmp_dir.cleanup()"
   ]
  }
 ],
 "metadata": {
  "interpreter": {
   "hash": "639e5ac7f180c95d47b677421e2009c00ec272255444d3116823602467956294"
  },
  "jupytext": {
   "formats": "ipynb,md:myst"
  },
  "kernelspec": {
   "display_name": "Python 3",
   "language": "python",
   "name": "python3"
  },
  "language_info": {
   "codemirror_mode": {
    "name": "ipython",
    "version": 3
   },
   "file_extension": ".py",
   "mimetype": "text/x-python",
   "name": "python",
   "nbconvert_exporter": "python",
   "pygments_lexer": "ipython3",
   "version": "3.10.2"
  }
 },
 "nbformat": 4,
 "nbformat_minor": 2
}
