{
 "cells": [
  {
   "cell_type": "code",
   "execution_count": null,
   "id": "inside-landscape",
   "metadata": {},
   "outputs": [],
   "source": [
    "import sys\n",
    "import os\n",
    "import tempfile\n",
    "\n",
    "from openghg.modules import ObsSurface\n",
    "from openghg.processing import search\n",
    "from pathlib import Path\n",
    "from glob import glob"
   ]
  },
  {
   "cell_type": "code",
   "execution_count": null,
   "id": "metric-daisy",
   "metadata": {},
   "outputs": [],
   "source": [
    "tmp_dir = tempfile.TemporaryDirectory()\n",
    "os.environ[\"OPENGHG_PATH\"] = str(tmp_dir.name)"
   ]
  },
  {
   "cell_type": "markdown",
   "id": "norman-thickness",
   "metadata": {},
   "source": [
    "Here we'll use the test data to show how the ranking system works"
   ]
  },
  {
   "cell_type": "code",
   "execution_count": null,
   "id": "backed-hunger",
   "metadata": {},
   "outputs": [],
   "source": [
    "bsd_files = glob(\"../../../tests/data/proc_test_data/CRDS/bsd*\")\n",
    "bsd_files"
   ]
  },
  {
   "cell_type": "markdown",
   "id": "underlying-subscription",
   "metadata": {},
   "source": [
    "Process the files"
   ]
  },
  {
   "cell_type": "code",
   "execution_count": null,
   "id": "american-halifax",
   "metadata": {},
   "outputs": [],
   "source": [
    "bsd_results = ObsSurface.read_file(filepath=bsd_files, data_type=\"CRDS\", site=\"bsd\", network=\"DECC\")"
   ]
  },
  {
   "cell_type": "code",
   "execution_count": null,
   "id": "clean-advice",
   "metadata": {},
   "outputs": [],
   "source": [
    "bsd_results"
   ]
  },
  {
   "cell_type": "markdown",
   "id": "encouraging-eleven",
   "metadata": {},
   "source": [
    "Using the `Datasource` UUIDs we set the rank for each over a specific daterange, not that these cannot overlap"
   ]
  },
  {
   "cell_type": "code",
   "execution_count": null,
   "id": "declared-marathon",
   "metadata": {},
   "outputs": [],
   "source": [
    "uid_42 = bsd_results[\"processed\"][\"bsd.picarro.1minute.42m.min.dat\"][\"ch4\"] \n",
    "uid_108 =  bsd_results[\"processed\"][\"bsd.picarro.1minute.108m.min.dat\"][\"ch4\"]\n",
    "uid_248 = bsd_results[\"processed\"][\"bsd.picarro.1minute.248m.min.dat\"][\"ch4\"]\n",
    "\n",
    "obs = ObsSurface.load()\n",
    "obs.set_rank(uuid=uid_248, rank=1, date_range=\"2012-01-01_2013-01-01\")\n",
    "obs.set_rank(uuid=uid_108, rank=1, date_range=\"2014-09-02_2014-11-01\")\n",
    "obs.set_rank(uuid=uid_248, rank=1, date_range=\"2015-01-01_2015-11-01\")\n",
    "obs.set_rank(uuid=uid_108, rank=1, date_range=\"2016-09-02_2018-11-01\")\n",
    "obs.set_rank(uuid=uid_42, rank=1, date_range=\"2019-01-02_2021-01-01\")"
   ]
  },
  {
   "cell_type": "markdown",
   "id": "central-cyprus",
   "metadata": {},
   "source": [
    "We can have a look at the ranking data stored in `ObsSurface`"
   ]
  },
  {
   "cell_type": "code",
   "execution_count": null,
   "id": "induced-manor",
   "metadata": {},
   "outputs": [],
   "source": [
    "obs._rank_data"
   ]
  },
  {
   "cell_type": "code",
   "execution_count": null,
   "id": "unauthorized-morocco",
   "metadata": {},
   "outputs": [],
   "source": [
    "search_res = search(site=\"bsd\", species=\"ch4\")\n"
   ]
  },
  {
   "cell_type": "markdown",
   "id": "extra-cooper",
   "metadata": {},
   "source": [
    "If we print the object we get the results in an easily readable format"
   ]
  },
  {
   "cell_type": "code",
   "execution_count": null,
   "id": "brave-devon",
   "metadata": {},
   "outputs": [],
   "source": [
    "print(search_res)"
   ]
  },
  {
   "cell_type": "markdown",
   "id": "changing-warren",
   "metadata": {},
   "source": [
    "The `__repr__` method that the notebook uses prints the whole raw dictionary"
   ]
  },
  {
   "cell_type": "code",
   "execution_count": null,
   "id": "surprising-manor",
   "metadata": {},
   "outputs": [],
   "source": [
    "search_res"
   ]
  },
  {
   "cell_type": "markdown",
   "id": "stopped-world",
   "metadata": {},
   "source": [
    "This can also be accessed using"
   ]
  },
  {
   "cell_type": "code",
   "execution_count": null,
   "id": "headed-demographic",
   "metadata": {},
   "outputs": [],
   "source": [
    "search_res.raw()"
   ]
  },
  {
   "cell_type": "markdown",
   "id": "favorite-climate",
   "metadata": {},
   "source": [
    "We can retrieve the metadata associated with a species at a site"
   ]
  },
  {
   "cell_type": "code",
   "execution_count": null,
   "id": "quarterly-surfing",
   "metadata": {},
   "outputs": [],
   "source": [
    "metadata = search_res.metadata(site=\"bsd\", species=\"ch4\")\n",
    "metadata"
   ]
  },
  {
   "cell_type": "markdown",
   "id": "overhead-geometry",
   "metadata": {},
   "source": [
    "This tells us the inlet height we've retrieved data for over specific dateranges (this interface will be improved)"
   ]
  },
  {
   "cell_type": "code",
   "execution_count": null,
   "id": "described-jones",
   "metadata": {},
   "outputs": [],
   "source": [
    "rank_metadata = search_res.raw()[\"bsd\"][\"ch4\"][\"rank_metadata\"]\n",
    "rank_metadata"
   ]
  },
  {
   "cell_type": "markdown",
   "id": "functional-parallel",
   "metadata": {},
   "source": [
    "We can retrieve the `ObsData` object using the `retrieve` method on the `SearchResults` object"
   ]
  },
  {
   "cell_type": "code",
   "execution_count": null,
   "id": "basic-premises",
   "metadata": {},
   "outputs": [],
   "source": [
    "data = search_res.retrieve(site=\"bsd\", species=\"ch4\")\n",
    "data"
   ]
  },
  {
   "cell_type": "markdown",
   "id": "industrial-occurrence",
   "metadata": {},
   "source": [
    "And then get the xarray Dataset using"
   ]
  },
  {
   "cell_type": "code",
   "execution_count": null,
   "id": "corrected-curtis",
   "metadata": {},
   "outputs": [],
   "source": [
    "data.data"
   ]
  },
  {
   "cell_type": "markdown",
   "id": "sustained-operation",
   "metadata": {},
   "source": [
    "We can also get the rank metadata using"
   ]
  },
  {
   "cell_type": "code",
   "execution_count": null,
   "id": "false-material",
   "metadata": {},
   "outputs": [],
   "source": [
    "data.metadata[\"rank_metadata\"]"
   ]
  },
  {
   "cell_type": "code",
   "execution_count": null,
   "id": "dried-affairs",
   "metadata": {},
   "outputs": [],
   "source": []
  }
 ],
 "metadata": {
  "kernelspec": {
   "display_name": "Python 3",
   "language": "python",
   "name": "python3"
  },
  "language_info": {
   "codemirror_mode": {
    "name": "ipython",
    "version": 3
   },
   "file_extension": ".py",
   "mimetype": "text/x-python",
   "name": "python",
   "nbconvert_exporter": "python",
   "pygments_lexer": "ipython3",
   "version": "3.9.4"
  }
 },
 "nbformat": 4,
 "nbformat_minor": 5
}
