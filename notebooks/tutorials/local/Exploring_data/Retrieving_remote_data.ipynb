{
 "cells": [
  {
   "cell_type": "markdown",
   "id": "55987467",
   "metadata": {},
   "source": [
    "# Retrieving data from remote archives"
   ]
  },
  {
   "cell_type": "markdown",
   "id": "f66068d7",
   "metadata": {},
   "source": [
    "This tutorial covers the retrieval of data from the ICOS Carbon Portal and the CEDA archives."
   ]
  },
  {
   "cell_type": "markdown",
   "id": "90afb2cf",
   "metadata": {},
   "source": [
    "## ICOS"
   ]
  },
  {
   "cell_type": "markdown",
   "id": "01bc908a",
   "metadata": {},
   "source": [
    "It's easy to retrieve atmospheric gas measurements from the [ICOS Carbon Portal](https://www.icos-cp.eu/observations/carbon-portal) using OpenGHG. To do so we'll use the `retrieve_icos` function from `openghg.client`."
   ]
  },
  {
   "cell_type": "markdown",
   "id": "b1f6de9e",
   "metadata": {},
   "source": [
    "### Checking available data"
   ]
  },
  {
   "cell_type": "markdown",
   "id": "7d3fab1c",
   "metadata": {},
   "source": [
    "You can find the stations available in ICOS using [their map interface](https://data.icos-cp.eu/portal/#%7B%22filterCategories%22%3A%7B%22project%22%3A%5B%22icos%22%5D%2C%22level%22%3A%5B1%2C2%5D%2C%22stationclass%22%3A%5B%22ICOS%22%5D%2C%22theme%22%3A%5B%22atmosphere%22%5D%7D%2C%22tabs%22%3A%7B%22resultTab%22%3A2%7D%7D). Click on a site to see it's information, then use it's three letter site code to retrieve data. You can also use the [search page](https://data.icos-cp.eu/portal/#%7B%22filterCategories%22:%7B%22project%22:%5B%22icos%22%5D,%22level%22:%5B1,2%5D,%22stationclass%22:%5B%22ICOS%22%5D%7D%7D) to find available data at a given site."
   ]
  },
  {
   "cell_type": "markdown",
   "id": "be8ed948",
   "metadata": {},
   "source": [
    "<div>\n",
    "<img src=\"images/icos_map.jpg\" width=\"50%\"/>\n",
    "</div>"
   ]
  },
  {
   "cell_type": "markdown",
   "id": "28623bff",
   "metadata": {},
   "source": [
    "### Using `retrieve_icos`\n",
    "\n",
    "First we'll import `retrieve_icos` from the `client` submodule, then we'll retrieve some data from Weybourne (**WAO**). The function will first check for any data from **WAO** already stored in the object store, if any is found it is returned, otherwise it'll retrieve the data from the ICOS Carbon Portal, this may take a bit longer."
   ]
  },
  {
   "cell_type": "code",
   "execution_count": 1,
   "id": "3023064b",
   "metadata": {},
   "outputs": [],
   "source": [
    "from openghg.retrieve.icos import retrieve_atmospheric"
   ]
  },
  {
   "cell_type": "code",
   "execution_count": 2,
   "id": "abb2836e",
   "metadata": {},
   "outputs": [
    {
     "name": "stdout",
     "output_type": "stream",
     "text": [
      "site: WAO {'species': 'ch4', 'instrument': 'multiple', 'instrument_data': ['Clarus 500 Gas Chromatograph for Weybourne', 'http://meta.icos-cp.eu/resources/instruments/ATC_232', 'FTIR', 'http://meta.icos-cp.eu/resources/instruments/ATC_505'], 'site': 'WAO', 'measurement_type': 'ch4 mixing ratio (dry mole fraction)', 'units': 'nmol mol-1', 'sampling_height': '10m', 'inlet_height_magl': '10m', 'sampling_height_units': 'metres', 'inlet': '10m', 'station_long_name': 'WAO', 'station_latitude': '52.95', 'station_longitude': '1.121', 'station_altitude': '31m', 'data_owner': 'Andrew Manning', 'data_owner_email': 'a.manning@uea.ac.uk', 'station_height_masl': '31', 'citation_string': 'Forster, G., Manning, A. (2022). Atmospheric CH4 product, Weybourne (10.0 m), 2013-03-06–2022-02-28, European ObsPack, https://hdl.handle.net/11676/FSJnmX4kksBfQFyibwi8tSXT', 'licence_name': 'ICOS CCBY4 Data Licence', 'licence_info': 'http://meta.icos-cp.eu/ontologies/cpmeta/icosLicence', 'network': 'ICOS', 'data_type': 'surface', 'data_source': 'icoscp', 'source_format': 'icos', 'icos_data_level': '2', 'conditions_of_use': 'Ensure that you contact the data owner at the outset of your project.', 'source': 'In situ measurements of air', 'Conventions': 'CF-1.8', 'file_created': '2023-01-05 14:00:05.758627+00:00', 'processed_by': 'OpenGHG_Cloud', 'calibration_scale': 'unknown', 'sampling_period': 'NOT_SET', 'sampling_period_unit': 's'}\n"
     ]
    },
    {
     "ename": "AttrMismatchError",
     "evalue": "Metadata mismatch for 'station_long_name', metadata: WAO - attributes: Weybourne Observatory, UK",
     "output_type": "error",
     "traceback": [
      "\u001b[0;31m---------------------------------------------------------------------------\u001b[0m",
      "\u001b[0;31mAttrMismatchError\u001b[0m                         Traceback (most recent call last)",
      "Cell \u001b[0;32mIn [2], line 1\u001b[0m\n\u001b[0;32m----> 1\u001b[0m wao_data \u001b[39m=\u001b[39m retrieve_atmospheric(site\u001b[39m=\u001b[39;49m\u001b[39m\"\u001b[39;49m\u001b[39mWAO\u001b[39;49m\u001b[39m\"\u001b[39;49m, species\u001b[39m=\u001b[39;49m\u001b[39m\"\u001b[39;49m\u001b[39mch4\u001b[39;49m\u001b[39m\"\u001b[39;49m)\n",
      "File \u001b[0;32m~/openghg/openghg/retrieve/icos/_retrieve.py:41\u001b[0m, in \u001b[0;36mretrieve_atmospheric\u001b[0;34m(site, species, sampling_height, start_date, end_date, force_retrieval, data_level)\u001b[0m\n\u001b[1;32m      7\u001b[0m \u001b[39mdef\u001b[39;00m \u001b[39mretrieve_atmospheric\u001b[39m(\n\u001b[1;32m      8\u001b[0m     site: \u001b[39mstr\u001b[39m,\n\u001b[1;32m      9\u001b[0m     species: Optional[Union[\u001b[39mstr\u001b[39m, List]] \u001b[39m=\u001b[39m \u001b[39mNone\u001b[39;00m,\n\u001b[0;32m   (...)\u001b[0m\n\u001b[1;32m     15\u001b[0m     \u001b[39m# site_filename: FilePathOpt = None,\u001b[39;00m\n\u001b[1;32m     16\u001b[0m ) \u001b[39m-\u001b[39m\u001b[39m>\u001b[39m Union[ObsData, List[ObsData], \u001b[39mNone\u001b[39;00m]:\n\u001b[1;32m     17\u001b[0m     \u001b[39m\"\"\"Retrieve ICOS atmospheric measurement data. If data is found in the object store it is returned. Otherwise\u001b[39;00m\n\u001b[1;32m     18\u001b[0m \u001b[39m    data will be retrieved from the ICOS Carbon Portal. Data retrieval from the Carbon Portal may take a short time.\u001b[39;00m\n\u001b[1;32m     19\u001b[0m \u001b[39m    If only a single data source is found an ObsData object is returned, if multiple a list of ObsData objects\u001b[39;00m\n\u001b[0;32m   (...)\u001b[0m\n\u001b[1;32m     39\u001b[0m \u001b[39m        ObsData, list[ObsData] or None\u001b[39;00m\n\u001b[1;32m     40\u001b[0m \u001b[39m    \"\"\"\u001b[39;00m\n\u001b[0;32m---> 41\u001b[0m     \u001b[39mreturn\u001b[39;00m retrieve(\n\u001b[1;32m     42\u001b[0m         site\u001b[39m=\u001b[39;49msite,\n\u001b[1;32m     43\u001b[0m         species\u001b[39m=\u001b[39;49mspecies,\n\u001b[1;32m     44\u001b[0m         sampling_height\u001b[39m=\u001b[39;49msampling_height,\n\u001b[1;32m     45\u001b[0m         start_date\u001b[39m=\u001b[39;49mstart_date,\n\u001b[1;32m     46\u001b[0m         end_date\u001b[39m=\u001b[39;49mend_date,\n\u001b[1;32m     47\u001b[0m         force_retrieval\u001b[39m=\u001b[39;49mforce_retrieval,\n\u001b[1;32m     48\u001b[0m         data_level\u001b[39m=\u001b[39;49mdata_level,\n\u001b[1;32m     49\u001b[0m         \u001b[39m# site_filename=site_filename,\u001b[39;49;00m\n\u001b[1;32m     50\u001b[0m     )\n",
      "File \u001b[0;32m~/openghg/openghg/retrieve/icos/_retrieve.py:116\u001b[0m, in \u001b[0;36mretrieve\u001b[0;34m(**kwargs)\u001b[0m\n\u001b[1;32m    114\u001b[0m         \u001b[39mreturn\u001b[39;00m obs_data\n\u001b[1;32m    115\u001b[0m \u001b[39melse\u001b[39;00m:\n\u001b[0;32m--> 116\u001b[0m     \u001b[39mreturn\u001b[39;00m local_retrieve(\u001b[39m*\u001b[39;49m\u001b[39m*\u001b[39;49mkwargs)\n",
      "File \u001b[0;32m~/openghg/openghg/retrieve/icos/_retrieve.py:174\u001b[0m, in \u001b[0;36mlocal_retrieve\u001b[0;34m(site, species, sampling_height, start_date, end_date, force_retrieval, data_level, **kwargs)\u001b[0m\n\u001b[1;32m    171\u001b[0m     obs_data \u001b[39m=\u001b[39m results\u001b[39m.\u001b[39mretrieve_all()\n\u001b[1;32m    172\u001b[0m \u001b[39melse\u001b[39;00m:\n\u001b[1;32m    173\u001b[0m     \u001b[39m# We'll also need to check we have current data\u001b[39;00m\n\u001b[0;32m--> 174\u001b[0m     standardised_data \u001b[39m=\u001b[39m _retrieve_remote(site\u001b[39m=\u001b[39;49msite, species\u001b[39m=\u001b[39;49mspecies, data_level\u001b[39m=\u001b[39;49mdata_level)\n\u001b[1;32m    176\u001b[0m     \u001b[39mif\u001b[39;00m standardised_data \u001b[39mis\u001b[39;00m \u001b[39mNone\u001b[39;00m:\n\u001b[1;32m    177\u001b[0m         \u001b[39mreturn\u001b[39;00m \u001b[39mNone\u001b[39;00m\n",
      "File \u001b[0;32m~/openghg/openghg/retrieve/icos/_retrieve.py:408\u001b[0m, in \u001b[0;36m_retrieve_remote\u001b[0;34m(site, data_level, species, sampling_height)\u001b[0m\n\u001b[1;32m    401\u001b[0m     \u001b[39m# TODO - do we need both attributes and metadata here?\u001b[39;00m\n\u001b[1;32m    402\u001b[0m     standardised_data[data_key] \u001b[39m=\u001b[39m {\n\u001b[1;32m    403\u001b[0m         \u001b[39m\"\u001b[39m\u001b[39mmetadata\u001b[39m\u001b[39m\"\u001b[39m: metadata,\n\u001b[1;32m    404\u001b[0m         \u001b[39m\"\u001b[39m\u001b[39mdata\u001b[39m\u001b[39m\"\u001b[39m: dataset,\n\u001b[1;32m    405\u001b[0m         \u001b[39m\"\u001b[39m\u001b[39mattributes\u001b[39m\u001b[39m\"\u001b[39m: metadata,\n\u001b[1;32m    406\u001b[0m     }\n\u001b[0;32m--> 408\u001b[0m standardised_data \u001b[39m=\u001b[39m assign_attributes(data\u001b[39m=\u001b[39;49mstandardised_data)\n\u001b[1;32m    409\u001b[0m \u001b[39m# match = False\u001b[39;00m\n\u001b[1;32m    410\u001b[0m \u001b[39m# attempts = 0\u001b[39;00m\n\u001b[1;32m    411\u001b[0m \u001b[39m# while not match and attempts < 10:\u001b[39;00m\n\u001b[0;32m   (...)\u001b[0m\n\u001b[1;32m    414\u001b[0m \u001b[39m#         standardised_data = assign_attributes(data=standardised_data)\u001b[39;00m\n\u001b[1;32m    415\u001b[0m \u001b[39m#     except AttrMismatchError:\u001b[39;00m\n\u001b[1;32m    417\u001b[0m \u001b[39mreturn\u001b[39;00m standardised_data\n",
      "File \u001b[0;32m~/openghg/openghg/standardise/meta/_attributes.py:69\u001b[0m, in \u001b[0;36massign_attributes\u001b[0;34m(data, site, network, sampling_period, site_filename, species_filename)\u001b[0m\n\u001b[1;32m     65\u001b[0m     metadata \u001b[39m=\u001b[39m gas_data[\u001b[39m\"\u001b[39m\u001b[39mmetadata\u001b[39m\u001b[39m\"\u001b[39m]\n\u001b[1;32m     67\u001b[0m     attrs \u001b[39m=\u001b[39m measurement_data\u001b[39m.\u001b[39mattrs\n\u001b[0;32m---> 69\u001b[0m     gas_data[\u001b[39m\"\u001b[39m\u001b[39mmetadata\u001b[39m\u001b[39m\"\u001b[39m] \u001b[39m=\u001b[39m sync_surface_metadata(metadata\u001b[39m=\u001b[39;49mmetadata, attributes\u001b[39m=\u001b[39;49mattrs)\n\u001b[1;32m     71\u001b[0m \u001b[39mreturn\u001b[39;00m data\n",
      "File \u001b[0;32m~/openghg/openghg/standardise/meta/_metadata.py:72\u001b[0m, in \u001b[0;36msync_surface_metadata\u001b[0;34m(metadata, attributes, keys_to_add)\u001b[0m\n\u001b[1;32m     68\u001b[0m     \u001b[39melse\u001b[39;00m:\n\u001b[1;32m     69\u001b[0m         \u001b[39m# Here we don't care about case. Within the Datasource we'll store the\u001b[39;00m\n\u001b[1;32m     70\u001b[0m         \u001b[39m# metadata as all lowercase, within the attributes we'll keep the case.\u001b[39;00m\n\u001b[1;32m     71\u001b[0m         \u001b[39mif\u001b[39;00m \u001b[39mstr\u001b[39m(value)\u001b[39m.\u001b[39mlower() \u001b[39m!=\u001b[39m \u001b[39mstr\u001b[39m(attr_value)\u001b[39m.\u001b[39mlower():\n\u001b[0;32m---> 72\u001b[0m             \u001b[39mraise\u001b[39;00m AttrMismatchError(\n\u001b[1;32m     73\u001b[0m                 \u001b[39mf\u001b[39m\u001b[39m\"\u001b[39m\u001b[39mMetadata mismatch for \u001b[39m\u001b[39m'\u001b[39m\u001b[39m{\u001b[39;00mkey\u001b[39m}\u001b[39;00m\u001b[39m'\u001b[39m\u001b[39m, metadata: \u001b[39m\u001b[39m{\u001b[39;00mvalue\u001b[39m}\u001b[39;00m\u001b[39m - attributes: \u001b[39m\u001b[39m{\u001b[39;00mattr_value\u001b[39m}\u001b[39;00m\u001b[39m\"\u001b[39m\n\u001b[1;32m     74\u001b[0m             )\n\u001b[1;32m     75\u001b[0m \u001b[39mexcept\u001b[39;00m \u001b[39mKeyError\u001b[39;00m:\n\u001b[1;32m     76\u001b[0m     \u001b[39m# Key wasn't in attributes for comparison\u001b[39;00m\n\u001b[1;32m     77\u001b[0m     \u001b[39mpass\u001b[39;00m\n",
      "\u001b[0;31mAttrMismatchError\u001b[0m: Metadata mismatch for 'station_long_name', metadata: WAO - attributes: Weybourne Observatory, UK"
     ]
    }
   ],
   "source": [
    "wao_data = retrieve_atmospheric(site=\"WAO\", species=\"ch4\")"
   ]
  },
  {
   "cell_type": "markdown",
   "id": "06893a69",
   "metadata": {},
   "source": [
    "Now we can inspect `wao_data`, an `ObsData` object to see what was retrieved."
   ]
  },
  {
   "cell_type": "code",
   "execution_count": null,
   "id": "f43027a9",
   "metadata": {},
   "outputs": [],
   "source": [
    "wao_data"
   ]
  },
  {
   "cell_type": "markdown",
   "id": "61683651",
   "metadata": {},
   "source": [
    "We can see that we've retrieved `ch4` data that covers 2013-04-01 - 2015-07-31. Quite a lot of metadata is saved during the retrieval process, including where the data was retrieved from (`dobj_pid` in the metadata), the instruments and their associated metadata and a citation string.\n",
    "\n",
    "You can see more information about the instruments by going to the link in the `instrument_data` section of the metadata"
   ]
  },
  {
   "cell_type": "code",
   "execution_count": null,
   "id": "a302229c",
   "metadata": {},
   "outputs": [],
   "source": [
    "metadata = wao_data.metadata\n",
    "instrument_data = metadata[\"instrument_data\"]\n",
    "citation_string = metadata[\"citation_string\"]"
   ]
  },
  {
   "cell_type": "markdown",
   "id": "e2c38cba",
   "metadata": {},
   "source": [
    "Here we get the instrument name and a link to the instrument data on the ICOS Carbon Portal."
   ]
  },
  {
   "cell_type": "code",
   "execution_count": null,
   "id": "eb6c21f8",
   "metadata": {},
   "outputs": [],
   "source": [
    "instrument_data"
   ]
  },
  {
   "cell_type": "markdown",
   "id": "468f10c9",
   "metadata": {},
   "source": [
    "And we can easily get the citation string for the data"
   ]
  },
  {
   "cell_type": "code",
   "execution_count": null,
   "id": "ae981e6b",
   "metadata": {},
   "outputs": [],
   "source": [
    "citation_string"
   ]
  },
  {
   "cell_type": "markdown",
   "id": "29b6217c",
   "metadata": {},
   "source": [
    "### Viewing the data\n",
    "\n",
    "As with any `ObsData` object we can quickly plot it to have a look.\n",
    "\n",
    "> **_NOTE:_**  the plot created below may not show up on the online documentation version of this notebook."
   ]
  },
  {
   "cell_type": "code",
   "execution_count": null,
   "id": "c75605a5",
   "metadata": {},
   "outputs": [],
   "source": [
    "wao_data.plot_timeseries()"
   ]
  },
  {
   "cell_type": "markdown",
   "id": "730bb2fd",
   "metadata": {},
   "source": [
    "### Data levels\n",
    "\n",
    "Data available on the ICOS Carbon Portal is made available under three different levels ([see docs](https://icos-carbon-portal.github.io/pylib/modules/#stationdatalevelnone)).\n",
    "\n",
    "```\n",
    "- Data level 1: Near Real Time Data (NRT) or Internal Work data (IW).\n",
    "- Data level 2: The final quality checked ICOS RI data set, published by the CFs,\n",
    "                to be distributed through the Carbon Portal.\n",
    "                This level is the ICOS-data product and free available for users.\n",
    "- Data level 3: All kinds of elaborated products by scientific communities\n",
    "                that rely on ICOS data products are called Level 3 data.\n",
    "```\n",
    "\n",
    "By default level 2 data is retrieved but this can be changed by passing `data_level` to `retrieve_icos`. Below we'll retrieve some more recent data from **WAO**."
   ]
  },
  {
   "cell_type": "code",
   "execution_count": null,
   "id": "59f48a55",
   "metadata": {},
   "outputs": [],
   "source": [
    "wao_data_level1 = retrieve_atmospheric(site=\"WAO\", species=\"CH4\", data_level=1)"
   ]
  },
  {
   "cell_type": "code",
   "execution_count": null,
   "id": "0f5926f5",
   "metadata": {},
   "outputs": [],
   "source": [
    "wao_data_level1"
   ]
  },
  {
   "cell_type": "markdown",
   "id": "5ecca41b",
   "metadata": {},
   "source": [
    "You can see that we've now got data from 2021-07-01 - 2022-04-24. The ability to retrieve different level data has been added for convenienve, choose the best option for your workflow.\n",
    "\n",
    "> **_NOTE:_**  level 1 data may not have been quality checked."
   ]
  },
  {
   "cell_type": "code",
   "execution_count": null,
   "id": "bd307642",
   "metadata": {},
   "outputs": [],
   "source": [
    "wao_data_level1.plot_timeseries(title=\"WAO - Level 1 data\")"
   ]
  },
  {
   "cell_type": "markdown",
   "id": "db9267d8",
   "metadata": {},
   "source": [
    "### Forcing retrieval\n",
    "\n",
    "As ICOS data is cached by OpenGHG you may sometimes need to force a retrieval from the ICOS Carbon Portal.\n",
    "\n",
    "If you retrieve data using `retrieve_icos` and notice that it does not return the most up to date data (compare the dates with those on the portal) you can force a retrieval using `force_retrieval`."
   ]
  },
  {
   "cell_type": "code",
   "execution_count": null,
   "id": "4021a864",
   "metadata": {},
   "outputs": [],
   "source": [
    "new_data = retrieve_atmospheric(site=\"WAO\", species=\"CH4\", data_level=1, force_retrieval=True)"
   ]
  },
  {
   "cell_type": "markdown",
   "id": "b864b2e6",
   "metadata": {},
   "source": [
    "Here you may notice we get a message telling us there is no new data to process, if you force a retrieval and there is no newer data you'll see this message."
   ]
  },
  {
   "cell_type": "markdown",
   "id": "3db57d66",
   "metadata": {},
   "source": [
    "## CEDA\n",
    "\n",
    "To retrieve data from CEDA you can use the `retrieve_ceda` function from `openghg.client`. This lets you pull down data from CEDA, process it and store it in the object store. Once the data has been stored successive calls will retrieve the data from the object store.\n",
    "\n",
    "> **_NOTE:_**  For the moment only surface observations can be retrieved and it is expected that these are already in a NetCDF file. If you find a file that can't be processed by the function please [open an issue on GitHub](https://github.com/openghg/openghg/issues/new/choose) and we'll do our best to add support that file type."
   ]
  },
  {
   "cell_type": "markdown",
   "id": "8a6e1f8d",
   "metadata": {},
   "source": [
    "To pull data from CEDA you'll first need to find the URL of the data. To do this use the [CEDA data browser](https://data.ceda.ac.uk/badc) and copy the link to the file (right click on the download button and click copy link / copy link address). You can then pass that URL to `retrieve_ceda`, it will then download the data, do some standardisation and checks and store it in the object store.\n",
    "\n",
    "We don't currently support downloading restricted data that requires a login to access. If you'd find this useful please open an issue at the link given above.\n",
    "\n",
    "Now we're ready to retrieve the data."
   ]
  },
  {
   "cell_type": "code",
   "execution_count": null,
   "id": "c8e9a4db",
   "metadata": {},
   "outputs": [],
   "source": [
    "from openghg.retrieve.ceda import retrieve_surface"
   ]
  },
  {
   "cell_type": "code",
   "execution_count": null,
   "id": "5386bcdf",
   "metadata": {},
   "outputs": [],
   "source": [
    "url = \"https://dap.ceda.ac.uk/badc/gauge/data/tower/heathfield/co2/100m/bristol-crds_heathfield_20130101_co2-100m.nc?download=1\""
   ]
  },
  {
   "cell_type": "code",
   "execution_count": null,
   "id": "f1bca89d",
   "metadata": {},
   "outputs": [],
   "source": [
    "hfd_data = retrieve_surface(url=url)"
   ]
  },
  {
   "cell_type": "markdown",
   "id": "d8400a53",
   "metadata": {},
   "source": [
    "Now we've got the data, we can use it as any other `ObsData` object, using `data` and `metadata`."
   ]
  },
  {
   "cell_type": "code",
   "execution_count": null,
   "id": "0d00253e",
   "metadata": {},
   "outputs": [],
   "source": [
    "hfd_data.plot_timeseries()"
   ]
  },
  {
   "cell_type": "markdown",
   "id": "ce596ba5",
   "metadata": {},
   "source": [
    "### Retrieving a second time"
   ]
  },
  {
   "cell_type": "markdown",
   "id": "86e06af5",
   "metadata": {},
   "source": [
    "The second time we (or another use) retrieves the data it will be pulled from the object store, this should be faster than retrieving from CEDA. To get the same data again use the `site`, `species` and `inlet` arguments."
   ]
  },
  {
   "cell_type": "code",
   "execution_count": null,
   "id": "8b3c07c6",
   "metadata": {},
   "outputs": [],
   "source": [
    "hfd_data2 = retrieve_surface(site=\"hfd\", species=\"co2\")"
   ]
  },
  {
   "cell_type": "code",
   "execution_count": null,
   "id": "2adcce61",
   "metadata": {},
   "outputs": [],
   "source": [
    "hfd_data2"
   ]
  },
  {
   "cell_type": "markdown",
   "id": "90a77d2f",
   "metadata": {},
   "source": [
    "### Cleanup the temporary object store"
   ]
  },
  {
   "cell_type": "code",
   "execution_count": null,
   "id": "51536f6b",
   "metadata": {},
   "outputs": [],
   "source": [
    "tmp_dir.cleanup()"
   ]
  }
 ],
 "metadata": {
  "jupytext": {
   "formats": "ipynb,md:myst"
  },
  "kernelspec": {
   "display_name": "env_openghg",
   "language": "python",
   "name": "python3"
  },
  "language_info": {
   "codemirror_mode": {
    "name": "ipython",
    "version": 3
   },
   "file_extension": ".py",
   "mimetype": "text/x-python",
   "name": "python",
   "nbconvert_exporter": "python",
   "pygments_lexer": "ipython3",
   "version": "3.8.15"
  },
  "vscode": {
   "interpreter": {
    "hash": "c6b20a886e078e7aebafdab945aabc82a64001f5e141a43f69abbf99bdd12a2b"
   }
  }
 },
 "nbformat": 4,
 "nbformat_minor": 5
}
