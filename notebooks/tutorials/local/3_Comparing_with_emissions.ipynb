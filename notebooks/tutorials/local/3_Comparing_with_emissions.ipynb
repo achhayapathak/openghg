{
 "cells": [
  {
   "cell_type": "markdown",
   "metadata": {},
   "source": [
    "# Workflow 3: comparing observations to emissions\n",
    "\n",
    "In addition to observation files, ancillary data can also be added to an openghg object store which can be used to perform analysis.\n",
    "\n",
    "At the moment, the accepted files include:\n",
    " - Footprints - regional outputs from an LPDM model (e.g. NAME)\n",
    " - Emissions/Flux - estimates of species emissions within a region\n",
    " - *[+Boundary conditions - to be added+]*\n",
    " - Global CTM output (e.g. GEOSChem)\n",
    "\n",
    "These inputs must adhere to an expected format and are expected to minimally contain a fixed set of inputs.\n",
    "\n",
    "*At the moment, the expected format for these files is created through standard methods from within the ACRG repository.*\n",
    "\n",
    "> **_NOTE:_**  Plots created within this tutorial may not show up on the online documentation version of this notebook."
   ]
  },
  {
   "cell_type": "markdown",
   "metadata": {},
   "source": [
    "## 1. Loading data sources into the object store\n",
    "\n",
    "For this tutorial we will again set up a temporary object store to store our data.\n",
    "\n",
    "See [1_Adding_observation_data.ipynb](1_Adding_observation_data.ipynb) for more details and advice on how to create a more permanent object store. Once a permanent object store is set up, these steps would only need to be performed once. Any added data can then be retrieved using searches."
   ]
  },
  {
   "cell_type": "code",
   "execution_count": null,
   "metadata": {},
   "outputs": [],
   "source": [
    "import os\n",
    "import tempfile\n",
    "\n",
    "tmp_dir = tempfile.TemporaryDirectory()\n",
    "os.environ[\"OPENGHG_PATH\"] = tmp_dir.name   # temporary directory\n",
    "\n",
    "%load_ext autoreload\n",
    "%autoreload 2"
   ]
  },
  {
   "cell_type": "markdown",
   "metadata": {},
   "source": [
    "For this, we will add observation, footprint and flux data to the object store. This data relates to Tacolneston (TAC) site within the DECC network and the area around Europe (EUROPE domain)."
   ]
  },
  {
   "cell_type": "code",
   "execution_count": 1,
   "metadata": {},
   "outputs": [
    {
     "data": {
      "application/vnd.jupyter.widget-view+json": {
       "model_id": "c5a5c58bf53b4815a428fb116852348b",
       "version_major": 2,
       "version_minor": 0
      },
      "text/plain": [
       "Downloading tac_example.tar.gz:   0%|          | 0/2378000 [00:00<?, ?it/s]"
      ]
     },
     "metadata": {},
     "output_type": "display_data"
    },
    {
     "name": "stdout",
     "output_type": "stream",
     "text": [
      "\r",
      "  0%| | 0/3"
     ]
    },
    {
     "name": "stderr",
     "output_type": "stream",
     "text": [
      "WARNING:openghg.store:This file has been uploaded previously with the filename : tac.picarro.hourly.100m.dat - skipping.\n"
     ]
    },
    {
     "name": "stdout",
     "output_type": "stream",
     "text": [
      "  0%| | 0/3\n"
     ]
    }
   ],
   "source": [
    "from openghg.util import retrieve_example_data\n",
    "from openghg.standardise import standardise_surface\n",
    "\n",
    "obs_data = retrieve_example_data(path=\"timeseries/tac_example.tar.gz\")\n",
    "\n",
    "site=\"tac\" \n",
    "network=\"DECC\"\n",
    "height=\"100m\"\n",
    "species=\"ch4\"\n",
    "\n",
    "obs_results = standardise_surface(filepaths=obs_data, source_format=\"CRDS\", site=site, network=network)"
   ]
  },
  {
   "cell_type": "code",
   "execution_count": 3,
   "metadata": {},
   "outputs": [
    {
     "data": {
      "application/vnd.jupyter.widget-view+json": {
       "model_id": "540a646b52434c0ab51fcedddb44875a",
       "version_major": 2,
       "version_minor": 0
      },
      "text/plain": [
       "Downloading ch4-ukghg-all_EUROPE_2016.tar.gz:   0%|          | 0/84462 [00:00<?, ?it/s]"
      ]
     },
     "metadata": {},
     "output_type": "display_data"
    }
   ],
   "source": [
    "from openghg.standardise import standardise_flux\n",
    "\n",
    "flux_data = retrieve_example_data(path=\"flux/ch4-ukghg-all_EUROPE_2016.tar.gz\")\n",
    "site=\"tac\" \n",
    "domain=\"EUROPE\"\n",
    "date = \"2016\"\n",
    "source_waste = \"waste\"\n",
    "source_energyprod = \"energyprod\"\n",
    "flux_data_waste = [filename for filename in flux_data if source_waste in str(filename)][0]\n",
    "flux_data_energyprod = [filename for filename in flux_data if source_energyprod in str(filename)][0]\n"
   ]
  },
  {
   "cell_type": "code",
   "execution_count": 4,
   "metadata": {},
   "outputs": [
    {
     "data": {
      "application/vnd.jupyter.widget-view+json": {
       "model_id": "fc8dfcf9bca4400eadb3184c799a5dc7",
       "version_major": 2,
       "version_minor": 0
      },
      "text/plain": [
       "Downloading tac_footprint_inert_201607.tar.gz:   0%|          | 0/70216145 [00:00<?, ?it/s]"
      ]
     },
     "metadata": {},
     "output_type": "display_data"
    },
    {
     "name": "stderr",
     "output_type": "stream",
     "text": [
      "WARNING:openghg.store:This file has been uploaded previously with the filename : TAC-100magl_UKV_EUROPE_201607.nc - skipping.\n"
     ]
    }
   ],
   "source": [
    "from openghg.standardise import standardise_footprint\n",
    "\n",
    "footprint_data = retrieve_example_data(path=\"footprint/tac_footprint_inert_201607.tar.gz\")\n",
    "\n",
    "site=\"tac\" \n",
    "height=\"100m\"\n",
    "domain=\"EUROPE\"\n",
    "model=\"NAME\"\n",
    "\n",
    "standardise_footprint(filepath=footprint_data, site=site, height=height, domain=domain, model=model)"
   ]
  },
  {
   "cell_type": "markdown",
   "metadata": {},
   "source": [
    "## 2. Creating a model scenario\n",
    "\n",
    "With this ancillary data, we can start to make comparisons between model data, such as bottom-up inventories, and our observations. This analysis is based around a `ModelScenario` class which can be created to link together observation, footprint and emissions data.\n",
    "\n",
    "*Boundary conditions and other model data will be added soon*\n",
    "\n",
    "Above we loaded observation data from the Tacolneston site into the object store. We also added an associated footprint (sensitivity map) and anthropogenic emissions maps both for a domain defined over Europe.\n",
    "\n",
    "To access and link this data we can set up our `ModelScenario` instance using a similiar set of keywords. In this case we have also limited ourselves to a date range:"
   ]
  },
  {
   "cell_type": "code",
   "execution_count": 5,
   "metadata": {},
   "outputs": [
    {
     "name": "stderr",
     "output_type": "stream",
     "text": [
      "/Users/gar/Documents/Devel/env/openenv/lib/python3.9/site-packages/xarray/core/indexes.py:159: FutureWarning: Indexing a timezone-naive DatetimeIndex with a timezone-aware datetime is deprecated and will raise KeyError in a future version.  Use a timezone-naive object instead.\n",
      "  indexer = index.slice_indexer(\n"
     ]
    },
    {
     "name": "stdout",
     "output_type": "stream",
     "text": [
      "Adding obs_surface to model scenario\n",
      "Updating any inputs based on observation data\n",
      "site: tac, species: ch4, inlet: 100m\n"
     ]
    },
    {
     "name": "stderr",
     "output_type": "stream",
     "text": [
      "WARNING:openghg.retrieve:No data found for the dates given, please try a wider search.\n"
     ]
    },
    {
     "name": "stdout",
     "output_type": "stream",
     "text": [
      "Adding footprint to model scenario\n",
      "Adding flux to model scenario\n",
      "Unable to add boundary_conditions data based on keywords supplied.\n",
      " Inputs - \n",
      "\n",
      " species: ch4\n",
      "\n",
      " domain: EUROPE\n",
      "\n",
      " bc_input: None\n",
      "\n",
      " start_date: 2016-07-01\n",
      "\n",
      " end_date: 2016-08-01\n",
      "\n",
      "Filename: /Users/gar/Documents/Devel/openghg/openghg/analyse/_scenario.py\n",
      "\n",
      "Line #    Mem usage    Increment  Occurrences   Line Contents\n",
      "=============================================================\n",
      "    78    177.8 MiB    177.8 MiB           1       @profile\n",
      "    79                                             def __init__(\n",
      "    80                                                 self,\n",
      "    81                                                 site: Optional[str] = None,\n",
      "    82                                                 species: Optional[str] = None,\n",
      "    83                                                 inlet: Optional[str] = None,\n",
      "    84                                                 network: Optional[str] = None,\n",
      "    85                                                 domain: Optional[str] = None,\n",
      "    86                                                 model: Optional[str] = None,\n",
      "    87                                                 metmodel: Optional[str] = None,\n",
      "    88                                                 source: Optional[str] = None,\n",
      "    89                                                 sources: Optional[Union[str, Sequence]] = None,\n",
      "    90                                                 bc_input: Optional[str] = None,\n",
      "    91                                                 start_date: Optional[Union[str, Timestamp]] = None,\n",
      "    92                                                 end_date: Optional[Union[str, Timestamp]] = None,\n",
      "    93                                                 obs: Optional[ObsData] = None,\n",
      "    94                                                 footprint: Optional[FootprintData] = None,\n",
      "    95                                                 flux: Optional[Union[FluxData, Dict[str, FluxData]]] = None,\n",
      "    96                                                 bc: Optional[BoundaryConditionsData] = None,\n",
      "    97                                             ):\n",
      "    98                                                 \"\"\"\n",
      "    99                                                 Create a ModelScenario instance based on a set of keywords to be\n",
      "   100                                                 or directly supplied objects. This can be created as an empty class to be\n",
      "   101                                                 populated.\n",
      "   102                                         \n",
      "   103                                                 The keywords are related to observation, footprint and flux data\n",
      "   104                                                 which may be available within the object store. The combination of these supplied\n",
      "   105                                                 will be used to extract the relevant data. Related keywords are as follows:\n",
      "   106                                                  - Observation data: site, species, inlet, network, start_date, end_data\n",
      "   107                                                  - Footprint data: site, inlet, domain, model, metmodel, species, start_date, end_date\n",
      "   108                                                  - Flux data: species, sources, domain, start_date, end_date\n",
      "   109                                         \n",
      "   110                                                 Args:\n",
      "   111                                                     site : Site code e.g. \"TAC\"\n",
      "   112                                                     species : Species code e.g. \"ch4\"\n",
      "   113                                                     inlet : Inlet value e.g. \"10m\"\n",
      "   114                                                     network : Network name e.g. \"AGAGE\"\n",
      "   115                                                     domain : Domain name e.g. \"EUROPE\"\n",
      "   116                                                     model : Model name used in creation of footprint e.g. \"NAME\"\n",
      "   117                                                     metmodel : Name of met model used in creation of footprint e.g. \"UKV\"\n",
      "   118                                                     sources : Emissions sources\n",
      "   119                                                     bc_input : Input keyword for boundary conditions e.g. \"mozart\" or \"cams\"\n",
      "   120                                                     start_date : Start of date range to use. Note for flux this may not be applied\n",
      "   121                                                     end_date : End of date range to use. Note for flux this may not be applied\n",
      "   122                                                     obs : Supply ObsData object directly (e.g. from get_obs...() functions)\n",
      "   123                                                     footprint : Supply FootprintData object directly (e.g. from get_footprint() function)\n",
      "   124                                                     flux : Supply FluxData object directly (e.g. from get_flux() function)\n",
      "   125                                                 Returns:\n",
      "   126                                                     None\n",
      "   127                                         \n",
      "   128                                                     Sets up instance of class with associated values.\n",
      "   129                                         \n",
      "   130                                                 TODO: For obs, footprint, flux should we also allow Dataset input and turn\n",
      "   131                                                 these into the appropriate class?\n",
      "   132                                                 \"\"\"\n",
      "   133                                         \n",
      "   134    177.8 MiB      0.0 MiB           1           self.obs: Optional[ObsData] = None\n",
      "   135    177.8 MiB      0.0 MiB           1           self.footprint: Optional[FootprintData] = None\n",
      "   136    177.8 MiB      0.0 MiB           1           self.fluxes: Optional[Dict[str, FluxData]] = None\n",
      "   137    177.8 MiB      0.0 MiB           1           self.bc: Optional[BoundaryConditionsData] = None\n",
      "   138                                         \n",
      "   139    177.8 MiB      0.0 MiB           1           if species is not None:\n",
      "   140    177.9 MiB      0.1 MiB           1               species = synonyms(species)\n",
      "   141                                         \n",
      "   142                                                 # Add observation data (directly or through keywords)\n",
      "   143    182.4 MiB      4.5 MiB           2           self.add_obs(\n",
      "   144    177.9 MiB      0.0 MiB           1               site=site,\n",
      "   145    177.9 MiB      0.0 MiB           1               species=species,\n",
      "   146    177.9 MiB      0.0 MiB           1               inlet=inlet,\n",
      "   147    177.9 MiB      0.0 MiB           1               network=network,\n",
      "   148    177.9 MiB      0.0 MiB           1               start_date=start_date,\n",
      "   149    177.9 MiB      0.0 MiB           1               end_date=end_date,\n",
      "   150    177.9 MiB      0.0 MiB           1               obs=obs,\n",
      "   151                                                 )\n",
      "   152                                         \n",
      "   153                                                 # Make sure obs data is present, make sure inputs match to metadata\n",
      "   154    182.4 MiB      0.0 MiB           1           if self.obs is not None:\n",
      "   155    182.4 MiB      0.0 MiB           1               obs_metadata = self.obs.metadata\n",
      "   156    182.4 MiB      0.0 MiB           1               site = obs_metadata[\"site\"]\n",
      "   157    182.4 MiB      0.0 MiB           1               species = obs_metadata[\"species\"]\n",
      "   158    182.4 MiB      0.0 MiB           1               inlet = obs_metadata[\"inlet\"]\n",
      "   159    182.4 MiB      0.0 MiB           1               print(\"Updating any inputs based on observation data\")\n",
      "   160    182.4 MiB      0.0 MiB           1               print(f\"site: {site}, species: {species}, inlet: {inlet}\")\n",
      "   161                                         \n",
      "   162                                                 # Add footprint data (directly or through keywords)\n",
      "   163   1149.2 MiB    966.8 MiB           2           self.add_footprint(\n",
      "   164    182.4 MiB      0.0 MiB           1               site=site,\n",
      "   165    182.4 MiB      0.0 MiB           1               inlet=inlet,\n",
      "   166    182.4 MiB      0.0 MiB           1               domain=domain,\n",
      "   167    182.4 MiB      0.0 MiB           1               model=model,\n",
      "   168    182.4 MiB      0.0 MiB           1               metmodel=metmodel,\n",
      "   169    182.4 MiB      0.0 MiB           1               start_date=start_date,\n",
      "   170    182.4 MiB      0.0 MiB           1               end_date=end_date,\n",
      "   171    182.4 MiB      0.0 MiB           1               species=species,\n",
      "   172    182.4 MiB      0.0 MiB           1               footprint=footprint,\n",
      "   173                                                 )\n",
      "   174                                         \n",
      "   175                                                 # Add flux data (directly or through keywords)\n",
      "   176   1149.2 MiB      0.0 MiB           2           self.add_flux(\n",
      "   177   1149.2 MiB      0.0 MiB           1               species=species,\n",
      "   178   1149.2 MiB      0.0 MiB           1               domain=domain,\n",
      "   179   1149.2 MiB      0.0 MiB           1               source=source,\n",
      "   180   1149.2 MiB      0.0 MiB           1               sources=sources,\n",
      "   181   1149.2 MiB      0.0 MiB           1               start_date=start_date,\n",
      "   182   1149.2 MiB      0.0 MiB           1               end_date=end_date,\n",
      "   183   1149.2 MiB      0.0 MiB           1               flux=flux,\n",
      "   184                                                 )\n",
      "   185                                         \n",
      "   186                                                 # Add boundary conditions (directly or through keywords)\n",
      "   187   1149.2 MiB      0.0 MiB           2           self.add_bc(\n",
      "   188   1149.2 MiB      0.0 MiB           1               species=species,\n",
      "   189   1149.2 MiB      0.0 MiB           1               bc_input=bc_input,\n",
      "   190   1149.2 MiB      0.0 MiB           1               domain=domain,\n",
      "   191   1149.2 MiB      0.0 MiB           1               start_date=start_date,\n",
      "   192   1149.2 MiB      0.0 MiB           1               end_date=end_date,\n",
      "   193   1149.2 MiB      0.0 MiB           1               bc=bc,\n",
      "   194                                                 )\n",
      "   195                                         \n",
      "   196                                                 # Initialise attributes used for caching\n",
      "   197   1149.2 MiB      0.0 MiB           1           self.scenario: Optional[Dataset] = None\n",
      "   198   1149.2 MiB      0.0 MiB           1           self.modelled_obs: Optional[DataArray] = None\n",
      "   199   1149.2 MiB      0.0 MiB           1           self.modelled_baseline: Optional[DataArray] = None\n",
      "   200   1149.2 MiB      0.0 MiB           1           self.flux_stacked: Optional[Dataset] = None\n",
      "   201                                         \n",
      "   202                                                 # TODO: Check species, site etc. values align between inputs?\n",
      "\n",
      "\n"
     ]
    }
   ],
   "source": [
    "from openghg.analyse import ModelScenario\n",
    "\n",
    "start_date = \"2016-07-01\"\n",
    "end_date = \"2016-08-01\"\n",
    "\n",
    "scenario = ModelScenario(site=site, \n",
    "                         inlet=height, \n",
    "                         domain=domain, \n",
    "                         species=species, \n",
    "                         source=source_waste, \n",
    "                         start_date=start_date,\n",
    "                         end_date=end_date)"
   ]
  },
  {
   "cell_type": "markdown",
   "metadata": {},
   "source": [
    "Using these keywords, this will search the object store and attempt to collect and attach observation, footprint and flux data. This collected data will be attached to your created `ModelScenario`. For the observations this will be stored as the `ModelScenario.obs` attribute. This will be an `ObsData` object which contains metadata and data for your observations:"
   ]
  },
  {
   "cell_type": "code",
   "execution_count": null,
   "metadata": {},
   "outputs": [],
   "source": [
    "scenario.obs"
   ]
  },
  {
   "cell_type": "markdown",
   "metadata": {},
   "source": [
    "To access the undelying xarray Dataset containing the observation data use `ModelScenario.obs.data`:"
   ]
  },
  {
   "cell_type": "code",
   "execution_count": null,
   "metadata": {},
   "outputs": [],
   "source": [
    "ds = scenario.obs.data"
   ]
  },
  {
   "cell_type": "markdown",
   "metadata": {},
   "source": [
    "The `ModelScenario.footprint` attribute contains the linked FootprintData (again, use `.data` to extract xarray Dataset):"
   ]
  },
  {
   "cell_type": "code",
   "execution_count": null,
   "metadata": {},
   "outputs": [],
   "source": [
    "scenario.footprint"
   ]
  },
  {
   "cell_type": "markdown",
   "metadata": {},
   "source": [
    "And the `ModelScenario.fluxes` attribute can be used to access the FluxData. Note that for `ModelScenario.fluxes` this can contain multiple flux sources and so this is stored as a dictionary linked to the source name:"
   ]
  },
  {
   "cell_type": "code",
   "execution_count": null,
   "metadata": {},
   "outputs": [],
   "source": [
    "scenario.fluxes"
   ]
  },
  {
   "cell_type": "markdown",
   "metadata": {},
   "source": [
    "An interactive plot for the linked observation data can be plotted using the `ModelScenario.plot_timeseries()` method:"
   ]
  },
  {
   "cell_type": "code",
   "execution_count": null,
   "metadata": {},
   "outputs": [],
   "source": [
    "scenario.plot_timeseries()"
   ]
  },
  {
   "cell_type": "markdown",
   "metadata": {},
   "source": [
    "You can also set up your own searches and add this data directly."
   ]
  },
  {
   "cell_type": "code",
   "execution_count": null,
   "metadata": {},
   "outputs": [],
   "source": [
    "from openghg.retrieve import get_obs_surface, get_footprint, get_flux\n",
    "\n",
    "# Extract obs results from object store\n",
    "obs_results = get_obs_surface(site=site,\n",
    "                              species=species,\n",
    "                              inlet=height,\n",
    "                              start_date=\"2016-07-01\",\n",
    "                              end_date=\"2016-08-01\")\n",
    "\n",
    "# Extract footprint results from object store\n",
    "footprint_results = get_footprint(site=site,\n",
    "                                  domain=domain,\n",
    "                                  height=height,\n",
    "                                  start_date=\"2016-07-01\",\n",
    "                                  end_date=\"2016-08-01\")\n",
    "\n",
    "# Extract flux results from object store\n",
    "flux_results = get_flux(species=species,\n",
    "                        domain=domain,\n",
    "                        source=source_waste)"
   ]
  },
  {
   "cell_type": "code",
   "execution_count": null,
   "metadata": {},
   "outputs": [],
   "source": [
    "scenario_direct = ModelScenario(obs=obs_results, footprint=footprint_results, flux=flux_results)"
   ]
  },
  {
   "cell_type": "markdown",
   "metadata": {},
   "source": [
    "*You can create your own input objects directly and add these in the same way. This allows you to bypass the object store for experimental examples. At the moment these inputs need to be `ObsData`, `FootprintData` or `FluxData` objects (can be created using classes from openghg.dataobjects) but simpler inputs will be made available*.\n",
    "\n",
    "One benefit of this interface is to reduce searching the database if the same data needs to be used for multiple different scenarios."
   ]
  },
  {
   "cell_type": "markdown",
   "metadata": {},
   "source": [
    "## 3. Comparing data sources\n",
    "\n",
    "Once your `ModelScenario` has been created you can then start to use the linked data to compare outputs. For example we may want to calculate modelled observations at our site based on our linkec footprint and emissions data:"
   ]
  },
  {
   "cell_type": "code",
   "execution_count": null,
   "metadata": {},
   "outputs": [],
   "source": [
    "modelled_observations = scenario.calc_modelled_obs()"
   ]
  },
  {
   "cell_type": "markdown",
   "metadata": {},
   "source": [
    "This could then be plotted directlt using the xarray plotting methods:"
   ]
  },
  {
   "cell_type": "code",
   "execution_count": null,
   "metadata": {},
   "outputs": [],
   "source": [
    "modelled_observations.plot()  # Can plot using xarray plotting methods"
   ]
  },
  {
   "cell_type": "markdown",
   "metadata": {},
   "source": [
    "To compare the these modelled observations to the ovbservations themselves, the `ModelScenario.plot_comparison()` method can be used."
   ]
  },
  {
   "cell_type": "code",
   "execution_count": null,
   "metadata": {},
   "outputs": [],
   "source": [
    "scenario.plot_comparison(baseline=\"percentile\")"
   ]
  },
  {
   "cell_type": "markdown",
   "metadata": {},
   "source": [
    "The `ModelScenario.footprints_data_merge()` method can also be used to created a combined output, with all aligned data stored directly within an `xarray.Dataset`:"
   ]
  },
  {
   "cell_type": "code",
   "execution_count": null,
   "metadata": {},
   "outputs": [],
   "source": [
    "combined_dataset = scenario.footprints_data_merge()\n",
    "combined_dataset"
   ]
  },
  {
   "cell_type": "markdown",
   "metadata": {},
   "source": [
    "When the same calculation is being performed for multiple methods, the last calculation is cached to allow the outputs to be produced more efficiently. This can be disabled for large datasets by using `cache=False`."
   ]
  },
  {
   "cell_type": "markdown",
   "metadata": {},
   "source": [
    "For a `ModelScenario` object, different analyses can be performed on this linked data. For example if a daily average for the modelled observations was required, we could calculate this setting our `resample_to` input to `\"1D\"` (matching available pandas time aliases):"
   ]
  },
  {
   "cell_type": "code",
   "execution_count": null,
   "metadata": {},
   "outputs": [],
   "source": [
    "modelled_observations_12H = scenario.calc_modelled_obs(resample_to=\"1D\")\n",
    "modelled_observations_12H.plot()"
   ]
  },
  {
   "cell_type": "markdown",
   "metadata": {},
   "source": [
    "To allow comparisons with multiple fluxes inputs, more than one flux source can be linked to your `ModelScenario`. This can be either be done upon creation or can be added using the `add_flux()` method. When calculating modelled observations, these flux sources will be aligned in time and stacked to create a total output:"
   ]
  },
  {
   "cell_type": "code",
   "execution_count": null,
   "metadata": {},
   "outputs": [],
   "source": [
    "scenario.add_flux(species=species, domain=domain, source=source_energyprod)"
   ]
  },
  {
   "cell_type": "code",
   "execution_count": null,
   "metadata": {},
   "outputs": [],
   "source": [
    "scenario.plot_comparison(baseline=\"percentile\")"
   ]
  },
  {
   "cell_type": "markdown",
   "metadata": {},
   "source": [
    "Output for individual sources can also be created by specifying the `sources` as an input:"
   ]
  },
  {
   "cell_type": "code",
   "execution_count": null,
   "metadata": {},
   "outputs": [],
   "source": [
    "# Included recalculate option to ensure this is updated from cached data.\n",
    "modelled_obs_energyprod = scenario.calc_modelled_obs(sources=\"energyprod\", recalculate=True)\n",
    "modelled_obs_energyprod.plot()"
   ]
  },
  {
   "cell_type": "markdown",
   "metadata": {},
   "source": [
    "*Plotting functions to be added for 2D / 3D data*"
   ]
  },
  {
   "cell_type": "markdown",
   "metadata": {},
   "source": [
    "---"
   ]
  }
 ],
 "metadata": {
  "interpreter": {
   "hash": "be46fac04113c12cba86920494e488404427b4279e35c30cf0606e819f4acc5b"
  },
  "kernelspec": {
   "display_name": "Python 3 (ipykernel)",
   "language": "python",
   "name": "python3"
  },
  "language_info": {
   "codemirror_mode": {
    "name": "ipython",
    "version": 3
   },
   "file_extension": ".py",
   "mimetype": "text/x-python",
   "name": "python",
   "nbconvert_exporter": "python",
   "pygments_lexer": "ipython3",
   "version": "3.9.13"
  }
 },
 "nbformat": 4,
 "nbformat_minor": 2
}
