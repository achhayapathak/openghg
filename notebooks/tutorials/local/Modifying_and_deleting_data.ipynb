{
 "cells": [
  {
   "cell_type": "markdown",
   "id": "2cd054c5",
   "metadata": {},
   "source": [
    "# Modifying and deleting data"
   ]
  },
  {
   "cell_type": "markdown",
   "id": "cdff4223",
   "metadata": {},
   "source": [
    "Sometimes you might want to modify some metadata after running the data through the standardisation scripts.\n",
    "After the standardisation process the metadata associated with some data can still be edited. This can save\n",
    "time if the data standardisation process is quite time consuming. Data can also be deleted from the object store."
   ]
  },
  {
   "cell_type": "code",
   "execution_count": 2,
   "id": "580bb241",
   "metadata": {},
   "outputs": [
    {
     "ename": "ImportError",
     "evalue": "cannot import name 'clear_tutorial_store' from 'openghg.tutorial._tutorial' (/Users/gar/Documents/Devel/openghg/openghg/tutorial/_tutorial.py)",
     "output_type": "error",
     "traceback": [
      "\u001b[0;31m---------------------------------------------------------------------------\u001b[0m",
      "\u001b[0;31mImportError\u001b[0m                               Traceback (most recent call last)",
      "Cell \u001b[0;32mIn [2], line 1\u001b[0m\n\u001b[0;32m----> 1\u001b[0m \u001b[38;5;28;01mfrom\u001b[39;00m \u001b[38;5;21;01mopenghg\u001b[39;00m\u001b[38;5;21;01m.\u001b[39;00m\u001b[38;5;21;01mstore\u001b[39;00m \u001b[38;5;28;01mimport\u001b[39;00m data_handler_lookup\n\u001b[1;32m      2\u001b[0m \u001b[38;5;28;01mfrom\u001b[39;00m \u001b[38;5;21;01mopenghg\u001b[39;00m\u001b[38;5;21;01m.\u001b[39;00m\u001b[38;5;21;01mtutorial\u001b[39;00m \u001b[38;5;28;01mimport\u001b[39;00m populate_footprint_inert, clear_tutorial_store, tutorial_store_path\n",
      "File \u001b[0;32m~/Documents/Devel/openghg/openghg/__init__.py:6\u001b[0m\n\u001b[1;32m      3\u001b[0m \u001b[38;5;28;01mimport\u001b[39;00m \u001b[38;5;21;01msys\u001b[39;00m \u001b[38;5;28;01mas\u001b[39;00m \u001b[38;5;21;01m_sys\u001b[39;00m\n\u001b[1;32m      4\u001b[0m \u001b[38;5;28;01mfrom\u001b[39;00m \u001b[38;5;21;01mpathlib\u001b[39;00m \u001b[38;5;28;01mimport\u001b[39;00m Path \u001b[38;5;28;01mas\u001b[39;00m _Path\n\u001b[0;32m----> 6\u001b[0m \u001b[38;5;28;01mfrom\u001b[39;00m \u001b[38;5;21;01m.\u001b[39;00m \u001b[38;5;28;01mimport\u001b[39;00m (\n\u001b[1;32m      7\u001b[0m     analyse,\n\u001b[1;32m      8\u001b[0m     cloud,\n\u001b[1;32m      9\u001b[0m     dataobjects,\n\u001b[1;32m     10\u001b[0m     objectstore,\n\u001b[1;32m     11\u001b[0m     retrieve,\n\u001b[1;32m     12\u001b[0m     plotting,\n\u001b[1;32m     13\u001b[0m     standardise,\n\u001b[1;32m     14\u001b[0m     store,\n\u001b[1;32m     15\u001b[0m     types,\n\u001b[1;32m     16\u001b[0m     tutorial,\n\u001b[1;32m     17\u001b[0m     util,\n\u001b[1;32m     18\u001b[0m )\n\u001b[1;32m     19\u001b[0m \u001b[38;5;28;01mfrom\u001b[39;00m \u001b[38;5;21;01m.\u001b[39;00m\u001b[38;5;21;01m_version\u001b[39;00m \u001b[38;5;28;01mimport\u001b[39;00m get_versions  \u001b[38;5;66;03m# type: ignore\u001b[39;00m\n\u001b[1;32m     21\u001b[0m __all__ \u001b[38;5;241m=\u001b[39m [\n\u001b[1;32m     22\u001b[0m     \u001b[38;5;124m\"\u001b[39m\u001b[38;5;124manalyse\u001b[39m\u001b[38;5;124m\"\u001b[39m,\n\u001b[1;32m     23\u001b[0m     \u001b[38;5;124m\"\u001b[39m\u001b[38;5;124mcloud\u001b[39m\u001b[38;5;124m\"\u001b[39m,\n\u001b[0;32m   (...)\u001b[0m\n\u001b[1;32m     32\u001b[0m     \u001b[38;5;124m\"\u001b[39m\u001b[38;5;124mutil\u001b[39m\u001b[38;5;124m\"\u001b[39m,\n\u001b[1;32m     33\u001b[0m ]\n",
      "File \u001b[0;32m~/Documents/Devel/openghg/openghg/tutorial/__init__.py:1\u001b[0m\n\u001b[0;32m----> 1\u001b[0m \u001b[38;5;28;01mfrom\u001b[39;00m \u001b[38;5;21;01m.\u001b[39;00m\u001b[38;5;21;01m_tutorial\u001b[39;00m \u001b[38;5;28;01mimport\u001b[39;00m (\n\u001b[1;32m      2\u001b[0m     populate_flux_data,\n\u001b[1;32m      3\u001b[0m     populate_footprint_data,\n\u001b[1;32m      4\u001b[0m     populate_surface_data,\n\u001b[1;32m      5\u001b[0m     populate_flux_ch4,\n\u001b[1;32m      6\u001b[0m     populate_flux_co2,\n\u001b[1;32m      7\u001b[0m     populate_footprint_co2,\n\u001b[1;32m      8\u001b[0m     populate_footprint_inert,\n\u001b[1;32m      9\u001b[0m     retrieve_example_data,\n\u001b[1;32m     10\u001b[0m     clear_example_cache,\n\u001b[1;32m     11\u001b[0m     clear_tutorial_store,\n\u001b[1;32m     12\u001b[0m     example_extract_path,\n\u001b[1;32m     13\u001b[0m     bilsdale_datapaths,\n\u001b[1;32m     14\u001b[0m     use_tutorial_store,\n\u001b[1;32m     15\u001b[0m     tutorial_store_path,\n\u001b[1;32m     16\u001b[0m     unpack_example_archive,\n\u001b[1;32m     17\u001b[0m )\n",
      "\u001b[0;31mImportError\u001b[0m: cannot import name 'clear_tutorial_store' from 'openghg.tutorial._tutorial' (/Users/gar/Documents/Devel/openghg/openghg/tutorial/_tutorial.py)"
     ]
    }
   ],
   "source": [
    "from openghg.store import data_handler_lookup\n",
    "from openghg.tutorial import populate_footprint_inert, clear_tutorial_store, tutorial_store_path"
   ]
  },
  {
   "cell_type": "code",
   "execution_count": null,
   "id": "ad73ef12",
   "metadata": {},
   "outputs": [],
   "source": [
    "tutorial_store_path()"
   ]
  },
  {
   "cell_type": "markdown",
   "id": "a897ebd2",
   "metadata": {},
   "source": [
    "We'll first add some footprint data to the object store."
   ]
  },
  {
   "cell_type": "code",
   "execution_count": null,
   "id": "8deb79f1",
   "metadata": {},
   "outputs": [],
   "source": [
    "clear_tutorial_store()"
   ]
  },
  {
   "cell_type": "code",
   "execution_count": null,
   "id": "510b0174",
   "metadata": {},
   "outputs": [],
   "source": [
    "populate_footprint_inert()"
   ]
  },
  {
   "cell_type": "code",
   "execution_count": null,
   "id": "c605f6bc",
   "metadata": {},
   "outputs": [],
   "source": [
    "result = data_handler_lookup(data_type=\"footprints\", site=\"TAC\", height=\"100m\")"
   ]
  },
  {
   "cell_type": "code",
   "execution_count": null,
   "id": "ed693e1c",
   "metadata": {},
   "outputs": [],
   "source": [
    "result.metadata"
   ]
  },
  {
   "cell_type": "markdown",
   "id": "261440c0",
   "metadata": {},
   "source": [
    "We want to update the model name so we'll use the ``update_metadata`` method of the ``DataHandler`` object. To do this we need to take the\n",
    "UUID of the Datasource returned by the ``data_handler_lookup`` function, this is the key of the metadata dictionary."
   ]
  },
  {
   "cell_type": "markdown",
   "id": "6d14c830",
   "metadata": {},
   "source": [
    "> **_NOTE:_**  The UUID below will be different on your computer. Take the UUID from the metadata dictionary."
   ]
  },
  {
   "cell_type": "code",
   "execution_count": null,
   "id": "40c24021",
   "metadata": {},
   "outputs": [],
   "source": [
    "uuid = \"60d68d7b-7d13-4b1d-8c78-237f9f7a0dea\""
   ]
  },
  {
   "cell_type": "code",
   "execution_count": null,
   "id": "2f1ca5cd",
   "metadata": {},
   "outputs": [],
   "source": [
    "updated = {\"model\": \"new_model\"}\n",
    "\n",
    "result.update_metadata(uuid=uuid, to_update=updated)"
   ]
  },
  {
   "cell_type": "markdown",
   "id": "1042d4b7",
   "metadata": {},
   "source": [
    "When you run `update_metadata` the internal store of metadata for each `Datasource` is updated. If you want to **really** make sure that the metadata in the object store has been updated you can run `refresh`."
   ]
  },
  {
   "cell_type": "code",
   "execution_count": null,
   "id": "a5cb62e1",
   "metadata": {},
   "outputs": [],
   "source": [
    "result.refresh()"
   ]
  },
  {
   "cell_type": "code",
   "execution_count": null,
   "id": "49c8cc4a",
   "metadata": {},
   "outputs": [],
   "source": [
    "metadata = result.metadata[uuid]"
   ]
  },
  {
   "cell_type": "markdown",
   "id": "4edb8ef2",
   "metadata": {},
   "source": [
    "And check the model has been changed."
   ]
  },
  {
   "cell_type": "code",
   "execution_count": null,
   "id": "99529533",
   "metadata": {},
   "outputs": [],
   "source": [
    "metadata[\"model\"]"
   ]
  },
  {
   "cell_type": "markdown",
   "id": "bdab3375",
   "metadata": {},
   "source": [
    "## Deleting keys"
   ]
  },
  {
   "cell_type": "markdown",
   "id": "b02c512a",
   "metadata": {},
   "source": [
    "Let's accidentally add too much metadata for the footprint and then delete."
   ]
  },
  {
   "cell_type": "code",
   "execution_count": null,
   "id": "00a65d69",
   "metadata": {},
   "outputs": [],
   "source": [
    "excess_metadata = {\"useless_key\": \"useless_value\"}\n",
    "new_result.update_metadata(uuid=uuid, to_update=excess_metadata)"
   ]
  },
  {
   "cell_type": "markdown",
   "id": "bb88123e",
   "metadata": {},
   "source": [
    "Oh no! We've added some useless metadata, let's remove it."
   ]
  },
  {
   "cell_type": "code",
   "execution_count": null,
   "id": "2222cf10",
   "metadata": {},
   "outputs": [],
   "source": [
    "to_delete = [\"useless_key\"]\n",
    "new_result.update_metadata(uuid=uuid, to_delete=to_delete)"
   ]
  },
  {
   "cell_type": "code",
   "execution_count": null,
   "id": "4ae14d49",
   "metadata": {},
   "outputs": [],
   "source": [
    "result = data_handler_lookup(data_type=\"footprints\", site=\"TAC\", height=\"100m\")"
   ]
  },
  {
   "cell_type": "markdown",
   "id": "d29a20a2",
   "metadata": {},
   "source": [
    "And check if the key is in the metadata:"
   ]
  },
  {
   "cell_type": "code",
   "execution_count": null,
   "id": "784a96fe",
   "metadata": {},
   "outputs": [],
   "source": [
    "\"useless_key\" in result.metadata[uuid]"
   ]
  },
  {
   "cell_type": "markdown",
   "id": "a6b22b28",
   "metadata": {},
   "source": [
    "# Restore from backup\n",
    "\n",
    "If you've accidentally pushed some bad metadata you can fix this easily by restoring from backup. Each `DataHandler` object stores a backup of the current metadata each time you run `update_metadata`. Let's add some bad metadata, have a quick look at the backup and then restore it."
   ]
  },
  {
   "cell_type": "code",
   "execution_count": null,
   "id": "1c74acee",
   "metadata": {},
   "outputs": [],
   "source": [
    "result = data_handler_lookup(data_type=\"footprints\", site=\"TAC\", height=\"100m\")"
   ]
  },
  {
   "cell_type": "code",
   "execution_count": null,
   "id": "0f964f17",
   "metadata": {},
   "outputs": [],
   "source": [
    "result.metadata.keys()"
   ]
  },
  {
   "cell_type": "code",
   "execution_count": null,
   "id": "a6cfb484",
   "metadata": {},
   "outputs": [],
   "source": [
    "uuid = \"b703e490-2fdd-4bb3-bb16-66673673bf16\""
   ]
  },
  {
   "cell_type": "code",
   "execution_count": null,
   "id": "11a2f9e7",
   "metadata": {},
   "outputs": [],
   "source": [
    "bad_metadata = {\"domain\": \"neptune\"}"
   ]
  },
  {
   "cell_type": "code",
   "execution_count": null,
   "id": "ccef2550",
   "metadata": {},
   "outputs": [],
   "source": [
    "result.update_metadata(uuid=uuid, to_update=bad_metadata)"
   ]
  },
  {
   "cell_type": "code",
   "execution_count": null,
   "id": "c658ffb5",
   "metadata": {},
   "outputs": [],
   "source": [
    "result.metadata[uuid][\"domain\"]"
   ]
  },
  {
   "cell_type": "code",
   "execution_count": null,
   "id": "41ff0d14",
   "metadata": {},
   "outputs": [],
   "source": [
    "result.view_backup()"
   ]
  },
  {
   "cell_type": "code",
   "execution_count": null,
   "id": "953145d5",
   "metadata": {},
   "outputs": [],
   "source": [
    "result.restore(uuid=uuid)"
   ]
  },
  {
   "cell_type": "code",
   "execution_count": null,
   "id": "3fb8f918",
   "metadata": {},
   "outputs": [],
   "source": [
    "result.metadata[uuid][\"domain\"]"
   ]
  },
  {
   "cell_type": "code",
   "execution_count": null,
   "id": "a8373a37",
   "metadata": {},
   "outputs": [],
   "source": [
    "result.refresh()"
   ]
  },
  {
   "cell_type": "code",
   "execution_count": null,
   "id": "22dbd0e3",
   "metadata": {},
   "outputs": [],
   "source": [
    "result.metadata[uuid][\"domain\"]"
   ]
  },
  {
   "cell_type": "markdown",
   "id": "5f5c2e49",
   "metadata": {},
   "source": [
    "## Multiple backups"
   ]
  },
  {
   "cell_type": "code",
   "execution_count": null,
   "id": "9b90d600",
   "metadata": {},
   "outputs": [],
   "source": [
    "more_metadata = {\"time_period\": \"1m\"}\n",
    "result.update_metadata(uuid=uuid, to_update=more_metadata)"
   ]
  },
  {
   "cell_type": "code",
   "execution_count": null,
   "id": "632093ac",
   "metadata": {},
   "outputs": [],
   "source": [
    "result.view_backup(uuid=uuid, version=2)"
   ]
  },
  {
   "cell_type": "markdown",
   "id": "a53f2037",
   "metadata": {},
   "source": [
    "# Deleting data"
   ]
  },
  {
   "cell_type": "markdown",
   "id": "4b648f42",
   "metadata": {},
   "source": [
    "To remove data from the object store we use `data_handler_lookup` again"
   ]
  },
  {
   "cell_type": "code",
   "execution_count": null,
   "id": "90a4203c",
   "metadata": {},
   "outputs": [],
   "source": [
    "result = data_handler_lookup(data_type=\"footprints\", site=\"TAC\", height=\"100m\")"
   ]
  },
  {
   "cell_type": "code",
   "execution_count": null,
   "id": "0e82088b",
   "metadata": {},
   "outputs": [],
   "source": [
    "result.metadata"
   ]
  },
  {
   "cell_type": "markdown",
   "id": "d68281b5",
   "metadata": {},
   "source": [
    "Each key of the metadata dictionary is a Datasource UUID. Please make sure that you double check the UUID of the Datasource you want to delete, this operation cannot be undone! Again, remember to change the UUID."
   ]
  },
  {
   "cell_type": "code",
   "execution_count": null,
   "id": "586a2395",
   "metadata": {},
   "outputs": [],
   "source": [
    "uuid = \"b2177d42-9df9-4a08-b50b-8aadbd7fb9d7\""
   ]
  },
  {
   "cell_type": "code",
   "execution_count": null,
   "id": "d23f9a42",
   "metadata": {},
   "outputs": [],
   "source": [
    "result.delete_datasource(uuid=uuid)"
   ]
  },
  {
   "cell_type": "markdown",
   "id": "40b1c24b",
   "metadata": {},
   "source": [
    "To make sure it's gone let's run the search again"
   ]
  },
  {
   "cell_type": "code",
   "execution_count": null,
   "id": "c6fb2802",
   "metadata": {},
   "outputs": [],
   "source": [
    "result = data_handler_lookup(data_type=\"footprints\", site=\"TAC\", height=\"100m\")"
   ]
  },
  {
   "cell_type": "code",
   "execution_count": null,
   "id": "4484ce1d",
   "metadata": {},
   "outputs": [],
   "source": [
    "result.metadata"
   ]
  },
  {
   "cell_type": "markdown",
   "id": "e3ef3140",
   "metadata": {},
   "source": [
    "An empty dictionary means no results, the deletion worked."
   ]
  },
  {
   "cell_type": "markdown",
   "id": "84649320",
   "metadata": {},
   "source": []
  },
  {
   "cell_type": "markdown",
   "id": "a921bbb1",
   "metadata": {},
   "source": []
  },
  {
   "cell_type": "code",
   "execution_count": null,
   "id": "39b5f176",
   "metadata": {},
   "outputs": [],
   "source": []
  }
 ],
 "metadata": {
  "jupytext": {
   "formats": "ipynb,md:myst"
  },
  "kernelspec": {
   "display_name": "Python 3 (ipykernel)",
   "language": "python",
   "name": "python3"
  },
  "language_info": {
   "codemirror_mode": {
    "name": "ipython",
    "version": 3
   },
   "file_extension": ".py",
   "mimetype": "text/x-python",
   "name": "python",
   "nbconvert_exporter": "python",
   "pygments_lexer": "ipython3",
   "version": "3.9.13"
  }
 },
 "nbformat": 4,
 "nbformat_minor": 5
}
