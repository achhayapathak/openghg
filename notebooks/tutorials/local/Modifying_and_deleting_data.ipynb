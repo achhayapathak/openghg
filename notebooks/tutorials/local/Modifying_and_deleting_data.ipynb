{
 "cells": [
  {
   "cell_type": "markdown",
   "id": "2cd054c5",
   "metadata": {},
   "source": [
    "# Modifying and deleting data"
   ]
  },
  {
   "cell_type": "markdown",
   "id": "cdff4223",
   "metadata": {},
   "source": [
    "Sometimes you might want to modify some metadata after running the data through the standardisation scripts. \n",
    "After the standardisation process the metadata associated with some data can still be edited. This can save\n",
    "time if the data standardisation process is quite time consuming. Data can also be deleted from the object store."
   ]
  },
  {
   "cell_type": "code",
   "execution_count": null,
   "id": "580bb241",
   "metadata": {},
   "outputs": [],
   "source": [
    "from openghg.store import data_handler_lookup, ObsSurface, Footprints\n",
    "from openghg.store.base import Datasource"
   ]
  },
  {
   "cell_type": "code",
   "execution_count": null,
   "id": "510b0174",
   "metadata": {},
   "outputs": [],
   "source": [
    "site = \"TMB\"\n",
    "network = \"LGHG\"\n",
    "height = \"10m\"\n",
    "domain = \"EUROPE\"\n",
    "model = \"test_model\"\n",
    "\n",
    "Footprints.read_file(\n",
    "    filepath=fp_path,\n",
    "    site=site,\n",
    "    model=model,\n",
    "    network=network,\n",
    "    height=height,\n",
    "    domain=domain,\n",
    "    period=\"monthly\",\n",
    "    high_spatial_res=True,\n",
    ")"
   ]
  },
  {
   "cell_type": "code",
   "execution_count": null,
   "id": "c605f6bc",
   "metadata": {},
   "outputs": [],
   "source": [
    "result = data_handler_lookup(data_type=\"footprints\", site=\"TMB\", network=\"LGHG\")"
   ]
  },
  {
   "cell_type": "code",
   "execution_count": null,
   "id": "ed693e1c",
   "metadata": {},
   "outputs": [],
   "source": [
    "result.metadata"
   ]
  },
  {
   "cell_type": "markdown",
   "id": "261440c0",
   "metadata": {},
   "source": [
    "We want to update the model name so we'll use the ``update_metadata`` method of the ``DataHandler`` object. To do this we need to take the\n",
    "UUID of the Datasource returned by the ``data_handler_lookup`` function, this is the key of the metadata dictionary, being ``012f6272-4fb1-4201-9d11-b5fb25f282e3``\n",
    "in this example. If run successfully we'll see a message printed."
   ]
  },
  {
   "cell_type": "code",
   "execution_count": null,
   "id": "2f1ca5cd",
   "metadata": {},
   "outputs": [],
   "source": [
    "uuid = \"012f6272-4fb1-4201-9d11-b5fb25f282e3\"\n",
    "updated = {\"model\": \"new_model\"}\n",
    "\n",
    "result.update_metadata(uuid=uuid, to_update=updated)"
   ]
  },
  {
   "cell_type": "markdown",
   "id": "1042d4b7",
   "metadata": {},
   "source": [
    "To confirm the metadata has been updated we can run the lookup data"
   ]
  },
  {
   "cell_type": "code",
   "execution_count": null,
   "id": "669462b0",
   "metadata": {},
   "outputs": [],
   "source": [
    "new_result = data_handler_lookup(data_type=\"footprints\", site=\"TMB\", network=\"LGHG\")"
   ]
  },
  {
   "cell_type": "code",
   "execution_count": null,
   "id": "58aa98e9",
   "metadata": {},
   "outputs": [],
   "source": [
    "metadata = new_result.metadata[uuid]"
   ]
  },
  {
   "cell_type": "markdown",
   "id": "4edb8ef2",
   "metadata": {},
   "source": [
    "And check the model has been changed."
   ]
  },
  {
   "cell_type": "code",
   "execution_count": null,
   "id": "99529533",
   "metadata": {},
   "outputs": [],
   "source": [
    "metadata[\"model\"]"
   ]
  },
  {
   "cell_type": "markdown",
   "id": "bdab3375",
   "metadata": {},
   "source": [
    "## Deleting keys"
   ]
  },
  {
   "cell_type": "markdown",
   "id": "b02c512a",
   "metadata": {},
   "source": [
    "Let's accidentally add too much metadata for the footprint and then delete."
   ]
  },
  {
   "cell_type": "code",
   "execution_count": null,
   "id": "00a65d69",
   "metadata": {},
   "outputs": [],
   "source": [
    "excess_metadata = {\"useless_key\": \"useless_value\"}\n",
    "new_result.update_metadata(uuid=uuid, to_update=excess_metadata)\n"
   ]
  },
  {
   "cell_type": "markdown",
   "id": "bb88123e",
   "metadata": {},
   "source": [
    "Oh no! We've added some useless metadata, let's remove it."
   ]
  },
  {
   "cell_type": "code",
   "execution_count": null,
   "id": "2222cf10",
   "metadata": {},
   "outputs": [],
   "source": [
    "to_delete = [\"useless_key\"]\n",
    "new_result.update_metadata(uuid=uuid, to_delete=to_delete)"
   ]
  },
  {
   "cell_type": "code",
   "execution_count": null,
   "id": "4ae14d49",
   "metadata": {},
   "outputs": [],
   "source": [
    "result = data_handler_lookup(data_type=\"footprints\", site=\"TMB\", network=\"LGHG\")"
   ]
  },
  {
   "cell_type": "markdown",
   "id": "d29a20a2",
   "metadata": {},
   "source": [
    "And check if the key is in the metadata:"
   ]
  },
  {
   "cell_type": "code",
   "execution_count": null,
   "id": "784a96fe",
   "metadata": {},
   "outputs": [],
   "source": [
    "\"useless_key\" in result.metadata[uuid]"
   ]
  },
  {
   "cell_type": "markdown",
   "id": "a53f2037",
   "metadata": {},
   "source": [
    "# Deleting data"
   ]
  },
  {
   "cell_type": "markdown",
   "id": "4b648f42",
   "metadata": {},
   "source": [
    "To remove data from the object store we use `data_handler_lookup` again"
   ]
  },
  {
   "cell_type": "code",
   "execution_count": null,
   "id": "90a4203c",
   "metadata": {},
   "outputs": [],
   "source": [
    "result = data_handler_lookup(data_type=\"footprints\", site=\"TMB\", network=\"LGHG\")"
   ]
  },
  {
   "cell_type": "code",
   "execution_count": null,
   "id": "0e82088b",
   "metadata": {},
   "outputs": [],
   "source": [
    "result.metadata"
   ]
  },
  {
   "cell_type": "markdown",
   "id": "d68281b5",
   "metadata": {},
   "source": [
    "We can see from the returned metadata that the UUID of the Datasource storing this data is `012f6272-4fb1-4201-9d11-b5fb25f282e3`. Please make sure that you double check the UUID of the Datasource you want to delete, this operation cannot be undone!"
   ]
  },
  {
   "cell_type": "code",
   "execution_count": null,
   "id": "85622aa1",
   "metadata": {},
   "outputs": [],
   "source": [
    "uuid = \"012f6272-4fb1-4201-9d11-b5fb25f282e3\""
   ]
  },
  {
   "cell_type": "code",
   "execution_count": null,
   "id": "d23f9a42",
   "metadata": {},
   "outputs": [],
   "source": [
    "result.delete_datasource(uuid=uuid)"
   ]
  },
  {
   "cell_type": "markdown",
   "id": "40b1c24b",
   "metadata": {},
   "source": [
    "To make sure it's gone let's run the search again"
   ]
  },
  {
   "cell_type": "code",
   "execution_count": null,
   "id": "c6fb2802",
   "metadata": {},
   "outputs": [],
   "source": [
    "result = data_handler_lookup(data_type=\"footprints\", site=\"TMB\", network=\"LGHG\")"
   ]
  },
  {
   "cell_type": "code",
   "execution_count": null,
   "id": "4484ce1d",
   "metadata": {},
   "outputs": [],
   "source": [
    "result.metadata"
   ]
  },
  {
   "cell_type": "markdown",
   "id": "e3ef3140",
   "metadata": {},
   "source": [
    "An empty dictionary means no results, the deletion worked."
   ]
  }
 ],
 "metadata": {
  "jupytext": {
   "formats": "ipynb,md:myst"
  },
  "kernelspec": {
   "display_name": "Python 3 (ipykernel)",
   "language": "python",
   "name": "python3"
  },
  "language_info": {
   "codemirror_mode": {
    "name": "ipython",
    "version": 3
   },
   "file_extension": ".py",
   "mimetype": "text/x-python",
   "name": "python",
   "nbconvert_exporter": "python",
   "pygments_lexer": "ipython3",
   "version": "3.9.13"
  }
 },
 "nbformat": 4,
 "nbformat_minor": 5
}
