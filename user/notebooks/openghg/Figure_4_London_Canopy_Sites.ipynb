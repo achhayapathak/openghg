{
 "cells": [
  {
   "cell_type": "code",
   "execution_count": null,
   "metadata": {},
   "outputs": [],
   "source": [
    "import os\n",
    "import sys\n",
    "from datetime import datetime\n",
    "sys.path.insert(0, \"../../..\")\n",
    "sys.path.insert(0, \"../../../../acquire\")\n",
    "\n",
    "from HUGS.Processing import search\n",
    "from HUGS.Client import Process, Search, Retrieve\n",
    "from Acquire.ObjectStore import datetime_to_string\n",
    "from Acquire.Client import User, Drive, Service, PAR, Authorisation, StorageCreds\n",
    "\n",
    "from HUGS.Client import Search\n",
    "from HUGS.Util import get_datapath, load_hugs_json\n",
    "\n",
    "import matplotlib.pyplot as plt\n",
    "from matplotlib.colors import ListedColormap, LinearSegmentedColormap\n",
    "from cartopy.feature import BORDERS\n",
    "import cartopy.crs as ccrs\n",
    "import matplotlib.cm as cm\n",
    "import xarray as xr\n",
    "import numpy as np\n",
    "import json\n",
    "\n",
    "import ipyleaflet as ipl\n",
    "import ipywidgets as ipw\n",
    "\n",
    "from pathlib import Path\n",
    "\n",
    "# Autoreload modules before executing code, useful during development\n",
    "%load_ext autoreload\n",
    "%autoreload 2"
   ]
  },
  {
   "cell_type": "code",
   "execution_count": null,
   "metadata": {},
   "outputs": [
    {
     "data": {
      "application/vnd.jupyter.widget-view+json": {
       "model_id": "e9e2a8e7dc2d42c38fcd061e06dc6ff9",
       "version_major": 2,
       "version_minor": 0
      },
      "text/plain": [
       "Map(center=[51.506815, -0.12771], controls=(ZoomControl(options=['position', 'zoom_in_text', 'zoom_in_title', …"
      ]
     },
     "metadata": {},
     "output_type": "display_data"
    }
   ],
   "source": [
    "center = [51.506815, -0.127710]\n",
    "zoom = 12\n",
    "\n",
    "# url = \"https://api.mapbox.com/styles/v1/hugs/ck5mpl49v0ng71iokprtni7ra/tiles/256/{z}/{x}/{y}@2x?access_token=pk.eyJ1IjoiaHVncyIsImEiOiJjazVtbzdxd20wNDFjM21wZDFtZzU1ZG5jIn0.qILQ7iSoXbV78pmZZF8Lcg\"\n",
    "url = \"https://api.mapbox.com/styles/v1/hugs/ck5ms14cu3jzo1imv5iizbgz8/tiles/256/{z}/{x}/{y}@2x?access_token=pk.eyJ1IjoiaHVncyIsImEiOiJjazVtbzdxd20wNDFjM21wZDFtZzU1ZG5jIn0.qILQ7iSoXbV78pmZZF8Lcg\"\n",
    "\n",
    "mapbox_map = ipl.TileLayer(url=url, opacity=1)\n",
    "map_london = ipl.Map(center=center, zoom=zoom)\n",
    "map_london.add_layer(mapbox_map)\n",
    "\n",
    "\n",
    "marker_legend = ipw.HTML(value=\"<img src='marker-icon-red.png'>   Current site<br><img src='marker-icon-red.png'>   Future site\")\n",
    "marker_control = ipl.WidgetControl(widget=marker_legend, position=\"topright\")\n",
    "# map_london.add_control(marker_control)\n",
    "\n",
    "lghg_data = load_hugs_json(\"lghg_sites.json\")\n",
    "\n",
    "for site in lghg_data[\"current\"]:\n",
    "    curr_site = lghg_data[\"current\"][site]\n",
    "    \n",
    "    lat = curr_site[\"latitude\"]\n",
    "    long = curr_site[\"longitude\"]\n",
    "    site_name = curr_site[\"long_name\"]\n",
    "    \n",
    "    marker = ipl.Marker(location=(lat, long), draggable=False)\n",
    "    marker.popup = ipw.HTML(value=f\"{site_name} ({site})\")\n",
    "    map_london.add_layer(marker)\n",
    "    \n",
    "for site in lghg_data[\"future\"]:\n",
    "    fut_site = lghg_data[\"future\"][site]\n",
    "    \n",
    "    lat = fut_site[\"latitude\"]\n",
    "    long = fut_site[\"longitude\"]\n",
    "    site_name = fut_site[\"long_name\"]\n",
    "    \n",
    "    # Here we want a green icon\n",
    "    icon = ipl.Icon(icon_url='marker-icon-red.png', icon_size=[25, 40], icon_anchor=[12,15])\n",
    "    \n",
    "    marker = ipl.Marker(location=(lat, long), draggable=False, icon=icon)\n",
    "    marker.popup = ipw.HTML(value=f\"{site_name} ({site})\")\n",
    "    map_london.add_layer(marker)\n",
    "    \n",
    "london_footprint = \"tmb_canopy_footprint_60op.png\"\n",
    "\n",
    "footprint = ipl.ImageOverlay(url=london_footprint, bounds=((50.8735, -1.25429), (51.5867, 0.1103)))\n",
    "map_london.add_layer(footprint)\n",
    "    \n",
    "    \n",
    "map_london"
   ]
  },
  {
   "cell_type": "code",
   "execution_count": null,
   "metadata": {},
   "outputs": [],
   "source": [
    "%ls"
   ]
  },
  {
   "cell_type": "markdown",
   "metadata": {},
   "source": [
    "#### Figure 4. Map of London showing sites that are currently part (blue markers) and are soon to be part (red markers) of the London GreeHouse Gas network run by the Atmospheric Chemistry Research Group at the University of Bristol. Overlain on the map is data showing tree density / canopy cover across the boroughs of London."
   ]
  },
  {
   "cell_type": "code",
   "execution_count": null,
   "metadata": {},
   "outputs": [],
   "source": [
    "filepath = \"/home/gar/Documents/Devel/hugs/raw_data/TMB-10magl_HR_UKV_EUROPE_201907.nc\"\n",
    "\n",
    "filepath = \"/home/gar/Documents/Devel/hugs/raw_data/london_footprints/HR/TMB-10magl_HR_UKV_EUROPE_201906.nc\"\n",
    "\n",
    "ds = xr.open_dataset(filepath)\n",
    "\n",
    "domain = \"EUROPE\"\n",
    "\n",
    "fp_name = \"fp_high\"\n",
    "lon_name = \"lon_high\"\n",
    "lat_name = \"lat_high\"\n",
    "\n",
    "long_values = ds[fp_name][lon_name]\n",
    "lat_values = ds[fp_name][lat_name]\n",
    "zero_values = ds[fp_name][:, :, 0]\n",
    "\n",
    "zero_mod = zero_values#.where(zero_values > 0.000001)\n",
    "\n",
    "fig = plt.figure(figsize=(14,10))\n",
    "ax = fig.add_subplot(111, projection=ccrs.PlateCarree())\n",
    "# ax = fig.add_subplot(111, projection=ccrs.Mercator(), frameon=False)\n",
    "\n",
    "ax.add_feature(BORDERS, edgecolor=\"0.5\")\n",
    "\n",
    "# ax.set_extent((-0.5,0.3, 51,52),crs=ccrs.PlateCarree())\n",
    "\n",
    "bigMagma = cm.get_cmap('magma', 512)\n",
    "lowMagma = ListedColormap(bigMagma(np.linspace(0.1, 0.8, 256)))\n",
    "\n",
    "levels = np.linspace(np.percentile(ds[fp_name].values, 5), np.percentile(ds[fp_name].values, 99.5), 20)\n",
    "\n",
    "p = ax.contourf(long_values, lat_values, zero_mod, levels=levels, cmap=lowMagma, extend=\"both\")\n",
    "# p.set_clim(zero_mod.min(), zero_mod.max())\n",
    "\n",
    "# ax.coastlines(color=\"white\")\n",
    "\n",
    "plt.savefig(fname=\"tmb_canopy_footprint.png\", dpi=600, pad_inches=0)"
   ]
  },
  {
   "cell_type": "code",
   "execution_count": null,
   "metadata": {},
   "outputs": [],
   "source": []
  }
 ],
 "metadata": {
  "kernelspec": {
   "display_name": "Python 3",
   "language": "python",
   "name": "python3"
  }
 },
 "nbformat": 4,
 "nbformat_minor": 4
}
