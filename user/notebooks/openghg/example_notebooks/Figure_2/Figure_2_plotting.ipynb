{
 "cells": [
  {
   "cell_type": "code",
   "execution_count": null,
   "metadata": {},
   "outputs": [],
   "source": [
    "import os\n",
    "import sys\n",
    "from datetime import datetime\n",
    "\n",
    "sys.path.insert(0, \"../../../../..\")\n",
    "sys.path.insert(0, \"../../../../../../acquire\")\n",
    "\n",
    "from HUGS.Processing import search\n",
    "from HUGS.Client import Process, Search, Retrieve\n",
    "from Acquire.ObjectStore import datetime_to_string\n",
    "from Acquire.Client import User, Drive, Service, PAR, Authorisation, StorageCreds\n",
    "\n",
    "from HUGS.Client import Search\n",
    "from HUGS.Util import get_datapath\n",
    "from HUGS.Interface import Interface\n",
    "\n",
    "import json\n",
    "\n",
    "import ipyleaflet as ipl\n",
    "import ipywidgets as ipw\n",
    "\n",
    "# Autoreload modules before executing code, useful during development\n",
    "%load_ext autoreload\n",
    "%autoreload 2"
   ]
  },
  {
   "cell_type": "code",
   "execution_count": null,
   "metadata": {},
   "outputs": [],
   "source": [
    "base_url= \"https://hugs.acquire-aaai.com/t\"\n",
    "search = Search(service_url=base_url)\n",
    "\n",
    "search_terms = [\"ch4\"]\n",
    "locations = []\n",
    "\n",
    "noaa_results = search.search(search_terms=search_terms, locations=locations, data_type=\"NOAA\")"
   ]
  },
  {
   "cell_type": "code",
   "execution_count": null,
   "metadata": {},
   "outputs": [],
   "source": [
    "box_layout = ipw.Layout(display='flex', flex_flow='column', align_items='center', width='50%')\n",
    "\n",
    "guide_text = ipw.HTML(value=\"<font size>To plot data from the sites shown on the map below please click on the label and then click download. A plotting box will then appear below the map. Two sites may be compared by clicking on both sites and ensuring their codes are visible at the top right of the map before clicking download. Please note that as data is being pulled from the object store, it may take a few moments for the plotting box to appear.</font>\")\n",
    "guide_box = ipw.VBox(children=[guide_text], layout=box_layout)"
   ]
  },
  {
   "cell_type": "code",
   "execution_count": null,
   "metadata": {},
   "outputs": [],
   "source": [
    "# Load in the ACRG site data\n",
    "acrg_json = \"../site_data/acrg_with_locations.json\"\n",
    "with open(acrg_json, \"r\") as f:\n",
    "    acrg_sites = json.load(f)\n",
    "    \n",
    "\n",
    "i = Interface()\n",
    "noaa_map, fig_widgets = i.mapbox_notebook(search_results=noaa_results, site_data=acrg_sites, center=[-5,37], zoom=2, data_type=\"NOAA\")\n",
    "\n",
    "noaa_map.layout.width = '50%'\n",
    "noaa_map.layout.height = '400px'\n",
    "\n",
    "edgar_image_path = \"Emissions_Americas.png\"\n",
    "\n",
    "edgar_layer = ipl.ImageOverlay(url=edgar_image_path, bounds=((-60,-140), (55,-30)))\n",
    "noaa_map.add_layer(edgar_layer)\n",
    "\n",
    "noaa_box = ipw.VBox(children=[noaa_map, fig_widgets])"
   ]
  },
  {
   "cell_type": "code",
   "execution_count": null,
   "metadata": {},
   "outputs": [],
   "source": [
    "search_terms = [\"co2\"]\n",
    "locations = []\n",
    "\n",
    "eurocom_results = search.search(search_terms=search_terms, locations=locations, data_type=\"EUROCOM\")"
   ]
  },
  {
   "cell_type": "code",
   "execution_count": null,
   "metadata": {},
   "outputs": [],
   "source": [
    "eurocom_map, eurowidgets = i.mapbox_notebook(search_results=eurocom_results, site_data=acrg_sites, center=[55,2], zoom=4, data_type=\"EUROCOM\")\n",
    "\n",
    "eurocom_map.layout.width = '50%'\n",
    "eurocom_map.layout.height = '400px'\n",
    "                                             \n",
    "eurobox = ipw.VBox(children=[eurocom_map, eurowidgets])"
   ]
  },
  {
   "cell_type": "code",
   "execution_count": null,
   "metadata": {},
   "outputs": [],
   "source": [
    "center = [51.506815, -0.56]\n",
    "zoom = 10\n",
    "\n",
    "map_london = ipl.Map(center=center, zoom=zoom)\n",
    "map_london.layout.width = '50%'\n",
    "map_london.layout.height = '400px'\n",
    "\n",
    "positron_layer = ipl.basemap_to_tiles(ipl.basemaps.CartoDB.Positron)\n",
    "\n",
    "map_london.add_layer(positron_layer)\n",
    "\n",
    "\n",
    "marker_legend = ipw.HTML(value=\"<img src='marker-icon-blue.png'>   Current site<br><img src='marker-icon-green.png'>   Future site\")\n",
    "marker_control = ipl.WidgetControl(widget=marker_legend, position=\"topright\")\n",
    "\n",
    "lghg_sites = \"../site_data/lghg_sites.json\"\n",
    "map_london.add_control(marker_control)\n",
    "\n",
    "with open(lghg_sites, \"r\") as f:\n",
    "    lghg_data = json.load(f)\n",
    "    \n",
    "\n",
    "for site in lghg_data[\"current\"]:\n",
    "    curr_site = lghg_data[\"current\"][site]\n",
    "    \n",
    "    lat = curr_site[\"latitude\"]\n",
    "    long = curr_site[\"longitude\"]\n",
    "    site_name = curr_site[\"long_name\"]\n",
    "    \n",
    "    marker = ipl.Marker(location=(lat, long), draggable=False)\n",
    "    marker.popup = ipw.HTML(value=f\"Site: {site_name} ({site})\")\n",
    "    map_london.add_layer(marker)\n",
    "    \n",
    "for site in lghg_data[\"future\"]:\n",
    "    fut_site = lghg_data[\"future\"][site]\n",
    "    \n",
    "    lat = fut_site[\"latitude\"]\n",
    "    long = fut_site[\"longitude\"]\n",
    "    site_name = fut_site[\"long_name\"]\n",
    "    \n",
    "    # Here we want a green icon\n",
    "    icon = ipl.Icon(icon_url='marker-icon-green.png', icon_size=[25, 40], icon_anchor=[12,15])\n",
    "    \n",
    "    marker = ipl.Marker(location=(lat, long), draggable=False, icon=icon)\n",
    "    marker.popup = ipw.HTML(value=f\"Site: {site_name} ({site})\")\n",
    "    map_london.add_layer(marker)\n",
    "    \n",
    "london_footprint = \"high_res_london_block_inferno_50p.png\"\n",
    "\n",
    "footprint = ipl.ImageOverlay(url=london_footprint, bounds=((51.2458, -1.259), (51.7092, 0.17389)))\n",
    "map_london.add_layer(footprint)"
   ]
  },
  {
   "cell_type": "code",
   "execution_count": null,
   "metadata": {},
   "outputs": [],
   "source": [
    "box_layout = ipw.Layout(display='flex',\n",
    "                flex_flow='column',\n",
    "                align_items='center',\n",
    "                width='100%')\n",
    "\n",
    "text_layout = ipw.Layout(display='flex',\n",
    "                flex_flow='column',\n",
    "                align_items='center',\n",
    "                width='50%')\n",
    "\n",
    "centre_layout = ipw.Layout(align_items='center')\n",
    "\n",
    "text = \"Figure 2.  Examples of a) Global Measurements locations from the NOAA \\\n",
    "network, b) selected nation / continental ICOS stations and c) current and \\\n",
    "planned urban measurement sites from the LondonGHG project, currently\\\n",
    "available for analysis on the HUGS platform. GHGs currently on the platform \\\n",
    "include CO2, CH4, N2O, halocarbons and related tracers (e.g. CO). Panel \\\n",
    "(a) also shows an overlay of emissions estimates from the EDGAR dataset. \\\n",
    "A footprint over Greater London is overlaid on panel (c). These images are \\\n",
    "screenshots from a Jupyter notebook hosted on the HUGS platform.\"\n",
    "\n",
    "figure_text = ipw.HTML(value=text, layout=text_layout)\n",
    "\n",
    "\n",
    "complete = ipw.VBox(children=[guide_box, noaa_box, eurobox, map_london, figure_text])\n",
    "\n",
    "hidden_box = ipw.VBox(children=[guide_box], layout=ipw.Layout(max_width=\"10%\", visibility=\"hidden\"))\n",
    "\n",
    "side = ipw.HBox(children=[hidden_box, complete])\n"
   ]
  },
  {
   "cell_type": "code",
   "execution_count": null,
   "metadata": {},
   "outputs": [],
   "source": [
    "side"
   ]
  }
 ],
 "metadata": {
  "kernelspec": {
   "display_name": "Python 3",
   "language": "python",
   "name": "python3"
  }
 },
 "nbformat": 4,
 "nbformat_minor": 2
}
