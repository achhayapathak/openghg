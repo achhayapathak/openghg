{
 "cells": [
  {
   "cell_type": "code",
   "execution_count": null,
   "metadata": {},
   "outputs": [
    {
     "name": "stdout",
     "output_type": "stream",
     "text": [
      "The autoreload extension is already loaded. To reload it, use:\n",
      "  %reload_ext autoreload\n"
     ]
    }
   ],
   "source": [
    "import os\n",
    "import sys\n",
    "from datetime import datetime\n",
    "sys.path.insert(0, \"../../..\")\n",
    "sys.path.insert(0, \"../../../../acquire\")\n",
    "\n",
    "from HUGS.Processing import search\n",
    "from HUGS.Client import Process, Search, Retrieve\n",
    "from Acquire.ObjectStore import datetime_to_string\n",
    "from Acquire.Client import User, Drive, Service, PAR, Authorisation, StorageCreds\n",
    "\n",
    "import ipyleaflet as ipl\n",
    "import ipywidgets as ipw\n",
    "\n",
    "from pathlib import Path\n",
    "\n",
    "# Autoreload modules before executing code, useful during development\n",
    "%load_ext autoreload\n",
    "%autoreload 2"
   ]
  },
  {
   "cell_type": "markdown",
   "metadata": {},
   "source": [
    "Search for some EUROCOM data"
   ]
  },
  {
   "cell_type": "code",
   "execution_count": null,
   "metadata": {},
   "outputs": [],
   "source": [
    "from HUGS.Client import Search\n",
    "from HUGS.Util import get_datapath\n",
    "import json"
   ]
  },
  {
   "cell_type": "code",
   "execution_count": null,
   "metadata": {},
   "outputs": [],
   "source": [
    "base_url= \"https://hugs.acquire-aaai.com/t\"\n",
    "search = Search(service_url=base_url)"
   ]
  },
  {
   "cell_type": "markdown",
   "metadata": {},
   "source": [
    "Panel 1 - NOAA with EDGAR"
   ]
  },
  {
   "cell_type": "code",
   "execution_count": null,
   "metadata": {},
   "outputs": [
    {
     "data": {
      "application/vnd.jupyter.widget-view+json": {
       "model_id": "780f57a276cb45e3b6e41c6a845240d9",
       "version_major": 2,
       "version_minor": 0
      },
      "text/plain": [
       "Map(basemap={'url': 'https://{s}.tile.openstreetmap.org/{z}/{x}/{y}.png', 'max_zoom': 19, 'attribution': 'Map …"
      ]
     },
     "metadata": {},
     "output_type": "display_data"
    }
   ],
   "source": [
    "acrg_json = get_datapath(filename=\"acrg_site_info.json\")\n",
    "with open(acrg_json, \"r\") as f:\n",
    "    acrg_sites = json.load(f)\n",
    "    \n",
    "center = [38, 0]\n",
    "zoom = 1\n",
    "noaa_map = ipyleaflet.Map(center=center, zoom=zoom)\n",
    "\n",
    "no_lat_long = []\n",
    "    \n",
    "for site in acrg_sites:\n",
    "    network_key = list(acrg_sites[site].keys())[0]\n",
    "    \n",
    "    if network_key == \"NOAA\":\n",
    "        site_data = acrg_sites[site][network_key]\n",
    "        \n",
    "        try:\n",
    "            lat = acrg_sites[site][network_key][\"latitude\"]\n",
    "            long = acrg_sites[site][network_key][\"longitude\"]\n",
    "\n",
    "            marker = ipl.Marker(location=(lat, long))\n",
    "            marker.popup = ipw.HTML(value=str(site))\n",
    "            noaa_map.add_layer(marker)\n",
    "        except:\n",
    "            no_lat_long.append(site)\n",
    "            \n",
    "        \n",
    "noaa_map\n",
    "        \n",
    "        \n",
    "        \n"
   ]
  },
  {
   "cell_type": "markdown",
   "metadata": {},
   "source": [
    "Panel 2 - EUROCOM with footprint"
   ]
  },
  {
   "cell_type": "code",
   "execution_count": null,
   "metadata": {},
   "outputs": [
    {
     "data": {
      "application/vnd.jupyter.widget-view+json": {
       "model_id": "69e0cfb7e729403a9861a0ecf88a9caa",
       "version_major": 2,
       "version_minor": 0
      },
      "text/plain": [
       "Map(basemap={'url': 'https://{s}.tile.openstreetmap.org/{z}/{x}/{y}.png', 'max_zoom': 19, 'attribution': 'Map …"
      ]
     },
     "metadata": {},
     "output_type": "display_data"
    }
   ],
   "source": [
    "icos_json = get_datapath(filename=\"icos_eurocom_sites.json\")\n",
    "\n",
    "center = [54.2361, -4.548]\n",
    "zoom = 3\n",
    "site_map = ipyleaflet.Map(center=center, zoom=zoom)\n",
    "\n",
    "with open(icos_json, \"r\") as f:\n",
    "    icos_sites = json.load(f)\n",
    "\n",
    "icos_markers = []\n",
    "\n",
    "for site in icos_sites:\n",
    "    lat = icos_sites[site][\"latitude\"]\n",
    "    long = icos_sites[site][\"longitude\"]\n",
    "    marker = ipl.Marker(location=(lat, long))\n",
    "    marker.popup = ipw.HTML(value=str(site))\n",
    "    site_map.add_layer(marker)\n",
    "\n",
    "site_map"
   ]
  },
  {
   "cell_type": "markdown",
   "metadata": {},
   "source": [
    "Panel 3 - London with Canopy and Footprint"
   ]
  },
  {
   "cell_type": "code",
   "execution_count": null,
   "metadata": {},
   "outputs": [
    {
     "data": {
      "application/vnd.jupyter.widget-view+json": {
       "model_id": "16201d133f524df6be187aa4032dc870",
       "version_major": 2,
       "version_minor": 0
      },
      "text/plain": [
       "Map(basemap={'url': 'https://{s}.tile.openstreetmap.org/{z}/{x}/{y}.png', 'max_zoom': 19, 'attribution': 'Map …"
      ]
     },
     "metadata": {},
     "output_type": "display_data"
    }
   ],
   "source": [
    "center = [54.2361, -4.548]\n",
    "zoom = 5\n",
    "agage_map = ipyleaflet.Map(center=center, zoom=zoom)\n",
    "\n",
    "agage = get_datapath(filename=\"icos_eurocom_sites.json\")\n",
    "\n",
    "agage_map"
   ]
  },
  {
   "cell_type": "code",
   "execution_count": null,
   "metadata": {},
   "outputs": [],
   "source": []
  }
 ],
 "metadata": {
  "kernelspec": {
   "display_name": "Python 3",
   "language": "python",
   "name": "python3"
  }
 },
 "nbformat": 4,
 "nbformat_minor": 2
}
