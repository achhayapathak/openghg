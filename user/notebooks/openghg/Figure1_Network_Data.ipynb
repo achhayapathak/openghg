{
 "cells": [
  {
   "cell_type": "code",
   "execution_count": null,
   "metadata": {},
   "outputs": [],
   "source": [
    "import os\n",
    "import sys\n",
    "from datetime import datetime\n",
    "sys.path.insert(0, \"../../..\")\n",
    "sys.path.insert(0, \"../../../../acquire\")\n",
    "\n",
    "from HUGS.Processing import search\n",
    "from HUGS.Client import Process, Search, Retrieve\n",
    "from Acquire.ObjectStore import datetime_to_string\n",
    "from Acquire.Client import User, Drive, Service, PAR, Authorisation, StorageCreds\n",
    "\n",
    "from HUGS.Client import Search\n",
    "from HUGS.Util import get_datapath\n",
    "\n",
    "import matplotlib.pyplot as plt\n",
    "from matplotlib.colors import ListedColormap, LinearSegmentedColormap\n",
    "from cartopy.feature import BORDERS\n",
    "import cartopy.crs as ccrs\n",
    "import matplotlib.cm as cm\n",
    "import xarray as xr\n",
    "import numpy as np\n",
    "import json\n",
    "\n",
    "import ipyleaflet as ipl\n",
    "import ipywidgets as ipw\n",
    "\n",
    "from pathlib import Path\n",
    "\n",
    "# Autoreload modules before executing code, useful during development\n",
    "%load_ext autoreload\n",
    "%autoreload 2"
   ]
  },
  {
   "cell_type": "markdown",
   "metadata": {},
   "source": [
    "Search for some EUROCOM data"
   ]
  },
  {
   "cell_type": "code",
   "execution_count": null,
   "metadata": {},
   "outputs": [],
   "source": [
    "base_url= \"https://hugs.acquire-aaai.com/t\"\n",
    "search = Search(service_url=base_url)"
   ]
  },
  {
   "cell_type": "code",
   "execution_count": null,
   "metadata": {},
   "outputs": [],
   "source": [
    "acrg_json = get_datapath(filename=\"acrg_site_info.json\")\n",
    "with open(acrg_json, \"r\") as f:\n",
    "    acrg_sites = json.load(f)"
   ]
  },
  {
   "cell_type": "markdown",
   "metadata": {},
   "source": [
    "Panel 1 - NOAA with EDGAR"
   ]
  },
  {
   "cell_type": "code",
   "execution_count": null,
   "metadata": {},
   "outputs": [],
   "source": [
    "filepath = \"/home/gar/Documents/Devel/hugs/user/notebooks/openghg/ch4-anthro_GLOBAL_2012.nc\"\n",
    "\n",
    "# Here try and work  out projection issues\n",
    "\n",
    "# filepath = \"/home/home/gar/Documents/Devel/RSE/hugs/raw_data/ch4-anthro_GLOBAL_2012.nc\"\n",
    "\n",
    "ds = xr.open_dataset(filepath)\n",
    "\n",
    "domain = \"EUROPE\"\n",
    "\n",
    "lon_name = \"lon\"\n",
    "lat_name = \"lat\"\n",
    "\n",
    "long_values = ds[\"flux\"][lon_name]\n",
    "lat_values = ds[\"flux\"][lat_name]\n",
    "zero_values = ds[\"flux\"][:, :, 0]"
   ]
  },
  {
   "cell_type": "code",
   "execution_count": null,
   "metadata": {},
   "outputs": [],
   "source": [
    "fig = plt.figure()\n",
    "# ax = fig.add_subplot(111, projection=ccrs.PlateCarree())\n",
    "ax = fig.add_subplot(111, projection=ccrs.Mercator(), frameon=False)\n",
    "\n",
    "ax.coastlines(color=\"0.2\")\n",
    "ax.add_feature(BORDERS, edgecolor=\"0.5\")\n",
    "\n",
    "ax.set_extent((-140,-30, -60,80),crs=ccrs.Mercator())\n",
    "\n",
    "ax.get_xaxis().set_visible(False)\n",
    "ax.get_yaxis().set_visible(False)\n",
    "\n",
    "cmap = cm.get_cmap(\"viridis\")\n",
    "\n",
    "levels = np.linspace(np.percentile(ds[\"flux\"].values, 5), np.percentile(ds[\"flux\"].values, 97), 10)\n",
    "\n",
    "ax.contourf(long_values, lat_values, zero_values, cmap=cmap, transform=ccrs.Mercator(), levels=levels)\n",
    "\n",
    "fig.savefig(\"emissions_edgar_NAmerica.png\", dpi=600, bbox_inches=\"tight\")"
   ]
  },
  {
   "cell_type": "code",
   "execution_count": null,
   "metadata": {},
   "outputs": [],
   "source": [
    "base_url= \"https://hugs.acquire-aaai.com/t\"\n",
    "search = Search(service_url=base_url)\n",
    "\n",
    "search_terms = [\"ch4\"]\n",
    "locations = []\n",
    "\n",
    "noaa_results = search.search(search_terms=search_terms, locations=locations, data_type=\"NOAA\")"
   ]
  },
  {
   "cell_type": "markdown",
   "metadata": {},
   "source": [
    "Process some of the results to extract the sites etc"
   ]
  },
  {
   "cell_type": "code",
   "execution_count": null,
   "metadata": {},
   "outputs": [],
   "source": [
    "import ipyleaflet as ipl\n",
    "\n",
    "center = [-5, 0]\n",
    "zoom = 2\n",
    "noaa_map = ipl.Map(center=center, zoom=zoom)\n",
    "\n",
    "# Load in the ACRG site data\n",
    "acrg_json = get_datapath(filename=\"acrg_site_info.json\")\n",
    "with open(acrg_json, \"r\") as f:\n",
    "    acrg_sites = json.load(f)\n",
    "\n",
    "for res in noaa_results:\n",
    "    site = noaa_results[res][\"metadata\"][\"site\"]\n",
    "    \n",
    "    site = site.upper()\n",
    " \n",
    "    species = noaa_results[res][\"metadata\"][\"species\"]\n",
    "    start_date = noaa_results[res][\"start_date\"]\n",
    "    end_date = noaa_results[res][\"end_date\"]\n",
    "    \n",
    "    # Get the latitude and longitude from the ACRG site info\n",
    "    # As we don't have all the site data stored we skip a few datasets\n",
    "    try:\n",
    "        long = acrg_sites[site][\"NOAA\"][\"longitude\"]\n",
    "        lat = acrg_sites[site][\"NOAA\"][\"latitude\"]\n",
    "        long_name = acrg_sites[site][\"NOAA\"][\"long_name\"]\n",
    "\n",
    "        marker = ipl.Marker(location=(lat, long), draggable=False)\n",
    "        marker.popup = ipw.HTML(value=f\"Site: {long_name} ({site})<br>Species: {species.upper()}<br>Daterange: {start_date} -<br>{end_date}\")\n",
    "\n",
    "        noaa_map.add_layer(marker)\n",
    "    except:\n",
    "        pass\n",
    "\n",
    "# Now we overlay the footprint image. In the future this will be dynamically updated from NetCDF\n",
    "edgar_image_path = \"Emissions_Americas.png\"\n",
    "\n",
    "edgar_layer = ipl.ImageOverlay(url=edgar_image_path, bounds=((-60,-140), (55,-30)))\n",
    "noaa_map.add_layer(edgar_layer)\n",
    "\n",
    "    \n",
    "noaa_map"
   ]
  },
  {
   "cell_type": "markdown",
   "metadata": {},
   "source": [
    "#### A. Map of sites for which NOAA (National Oceanic and Atmospheric Administration) flask data is available. An emissions map for the Americas has been overlain on the map to show methane emissions for these regions."
   ]
  },
  {
   "cell_type": "markdown",
   "metadata": {},
   "source": [
    "Panel 2 - EUROCOM with footprint"
   ]
  },
  {
   "cell_type": "code",
   "execution_count": null,
   "metadata": {},
   "outputs": [],
   "source": [
    "euro_search_terms = [\"co2\"]\n",
    "euro_locations = []\n",
    "\n",
    "eurocom_results = search.search(search_terms=euro_search_terms, locations=euro_locations, data_type=\"EUROCOM\")\n"
   ]
  },
  {
   "cell_type": "code",
   "execution_count": null,
   "metadata": {},
   "outputs": [],
   "source": [
    "center = [54.2361, -4.548]\n",
    "zoom = 3\n",
    "eurocom_map = ipl.Map(center=center, zoom=zoom)\n",
    "\n",
    "for res in eurocom_results:\n",
    "    site = eurocom_results[res][\"metadata\"][\"site\"]\n",
    "    \n",
    "    site = site.upper()\n",
    " \n",
    "    species = eurocom_results[res][\"metadata\"][\"species\"]\n",
    "    start_date = eurocom_results[res][\"start_date\"]\n",
    "    end_date = eurocom_results[res][\"end_date\"]\n",
    "    \n",
    "    # Get the latitude and longitude from the ACRG site info\n",
    "    # As we don't have all the site data stored we skip a few datasets\n",
    "    try:\n",
    "        # Some sites may not be associated with EUROCOM in acrg_sites\n",
    "        network_key = list(acrg_sites[site].keys())[0]\n",
    "        \n",
    "        long = acrg_sites[site][network_key][\"longitude\"]\n",
    "        lat = acrg_sites[site][network_key][\"latitude\"]\n",
    "        long_name = acrg_sites[site][network_key][\"long_name\"]\n",
    "\n",
    "        marker = ipl.Marker(location=(lat, long), draggable=False)\n",
    "        marker.popup = ipw.HTML(value=f\"Site: {long_name} ({site})<br>Species: {species.upper()}<br>Daterange: {start_date} -<br>{end_date}\")\n",
    "\n",
    "        eurocom_map.add_layer(marker)\n",
    "    except:\n",
    "        pass\n",
    "    \n",
    "eurocom_map"
   ]
  },
  {
   "cell_type": "markdown",
   "metadata": {},
   "source": [
    "#### B) Dynamic Map of EUROCOM sites for which data is available. Data for each site is plottable by clicking on the site icon and then pressing the plot button in the bottom left of the map."
   ]
  },
  {
   "cell_type": "code",
   "execution_count": null,
   "metadata": {},
   "outputs": [],
   "source": [
    "center = [51.506815, -0.127710]\n",
    "zoom = 10\n",
    "\n",
    "# url = \"https://api.mapbox.com/styles/v1/hugs/ck5mpl49v0ng71iokprtni7ra/tiles/256/{z}/{x}/{y}@2x?access_token=pk.eyJ1IjoiaHVncyIsImEiOiJjazVtbzdxd20wNDFjM21wZDFtZzU1ZG5jIn0.qILQ7iSoXbV78pmZZF8Lcg\"\n",
    "url = \"https://api.mapbox.com/styles/v1/hugs/ck5ms14cu3jzo1imv5iizbgz8/tiles/256/{z}/{x}/{y}@2x?access_token=pk.eyJ1IjoiaHVncyIsImEiOiJjazVtbzdxd20wNDFjM21wZDFtZzU1ZG5jIn0.qILQ7iSoXbV78pmZZF8Lcg\"\n",
    "\n",
    "# mapbox_map = ipl.TileLayer(url=url, opacity=1)\n",
    "map_london = ipl.Map(center=center, zoom=zoom)\n",
    "# map_london.add_layer(mapbox_map)\n",
    "\n",
    "positron_layer = ipl.basemap_to_tiles(ipl.basemaps.CartoDB.Positron)\n",
    "\n",
    "map_london.add_layer(positron_layer)\n",
    "\n",
    "\n",
    "marker_legend = ipw.HTML(value=\"<img src='marker-icon-blue.png'>   Current site<br><img src='marker-icon-green.png'>   Future site\")\n",
    "marker_control = ipl.WidgetControl(widget=marker_legend, position=\"topright\")\n",
    "\n",
    "\n",
    "\n",
    "lghg_sites = get_datapath(\"lghg_sites.json\")\n",
    "map_london.add_control(marker_control)\n",
    "\n",
    "with open(lghg_sites, \"r\") as f:\n",
    "    lghg_data = json.load(f)\n",
    "    \n",
    "\n",
    "for site in lghg_data[\"current\"]:\n",
    "    curr_site = lghg_data[\"current\"][site]\n",
    "    \n",
    "    lat = curr_site[\"latitude\"]\n",
    "    long = curr_site[\"longitude\"]\n",
    "    site_name = curr_site[\"long_name\"]\n",
    "    \n",
    "    marker = ipl.Marker(location=(lat, long), draggable=False)\n",
    "    marker.popup = ipw.HTML(value=f\"Site: {site_name} ({site})\")\n",
    "    map_london.add_layer(marker)\n",
    "    \n",
    "for site in lghg_data[\"future\"]:\n",
    "    fut_site = lghg_data[\"future\"][site]\n",
    "    \n",
    "    lat = fut_site[\"latitude\"]\n",
    "    long = fut_site[\"longitude\"]\n",
    "    site_name = fut_site[\"long_name\"]\n",
    "    \n",
    "    # Here we want a green icon\n",
    "    icon = ipl.Icon(icon_url='marker-icon-green.png', icon_size=[25, 40], icon_anchor=[12,15])\n",
    "    \n",
    "    marker = ipl.Marker(location=(lat, long), draggable=False, icon=icon)\n",
    "    marker.popup = ipw.HTML(value=f\"Site: {site_name} ({site})\")\n",
    "    map_london.add_layer(marker)\n",
    "    \n",
    "london_footprint = \"high_res_london_block_inferno_40p.png\"\n",
    "\n",
    "footprint = ipl.ImageOverlay(url=london_footprint, bounds=((51.2458, -1.259), (51.7092, 0.17389)))\n",
    "map_london.add_layer(footprint)\n",
    "    \n",
    "    \n",
    "map_london"
   ]
  },
  {
   "cell_type": "markdown",
   "metadata": {},
   "source": [
    "#### C. Map of London showing LGHG (London GreenHouse Gas) sites with overlain emissions map showing CO2 emissions across the city"
   ]
  },
  {
   "cell_type": "code",
   "execution_count": null,
   "metadata": {},
   "outputs": [],
   "source": [
    "filepath = \"/home/gar/Documents/Devel/hugs/raw_data/TMB-10magl_HR_UKV_EUROPE_201907.nc\"\n",
    "\n",
    "ds = xr.open_dataset(filepath)\n",
    "\n",
    "domain = \"EUROPE\"\n",
    "\n",
    "fp_name = \"fp_high\"\n",
    "lon_name = \"lon_high\"\n",
    "lat_name = \"lat_high\"\n",
    "\n",
    "long_values = ds[fp_name][lon_name]\n",
    "lat_values = ds[fp_name][lat_name]\n",
    "zero_values = ds[fp_name][:, :, 0]\n",
    "\n",
    "zero_mod = zero_values#.where(zero_values > 0.000001)\n",
    "\n",
    "fig = plt.figure(figsize=(14,10))\n",
    "ax = fig.add_subplot(111, projection=ccrs.PlateCarree())\n",
    "# ax = fig.add_subplot(111, projection=ccrs.Mercator(), frameon=False)\n",
    "\n",
    "ax.add_feature(BORDERS, edgecolor=\"0.5\")\n",
    "\n",
    "# ax.set_extent((-0.5,0.3, 51,52),crs=ccrs.PlateCarree())\n",
    "\n",
    "viridisBig = cm.get_cmap('inferno', 512)\n",
    "lowViridis = ListedColormap(viridisBig(np.linspace(0.1, 0.9, 256)))\n",
    "\n",
    "cmap = cm.get_cmap(\"magma\")\n",
    "\n",
    "levels = np.linspace(np.percentile(ds[fp_name].values, 5), np.percentile(ds[fp_name].values, 99.5), 20)\n",
    "\n",
    "p = ax.contourf(long_values, lat_values, zero_mod, levels=levels, cmap=lowViridis, extend=\"both\")\n",
    "# p.set_clim(zero_mod.min(), zero_mod.max())\n",
    "\n",
    "# ax.coastlines(color=\"white\")\n",
    "\n",
    "plt.savefig(fname=\"high_res_london_whole.png\", dpi=600, pad_inches=0)"
   ]
  },
  {
   "cell_type": "code",
   "execution_count": null,
   "metadata": {},
   "outputs": [],
   "source": [
    "zero_mod"
   ]
  },
  {
   "cell_type": "code",
   "execution_count": null,
   "metadata": {},
   "outputs": [],
   "source": [
    "zero_mod[\"lon_high\"].where(zero_mod)"
   ]
  },
  {
   "cell_type": "code",
   "execution_count": null,
   "metadata": {},
   "outputs": [],
   "source": [
    "print(lat_values.max())"
   ]
  },
  {
   "cell_type": "code",
   "execution_count": null,
   "metadata": {},
   "outputs": [],
   "source": [
    "print(lat_values.min())"
   ]
  },
  {
   "cell_type": "code",
   "execution_count": null,
   "metadata": {},
   "outputs": [],
   "source": [
    "print(long_values.max())"
   ]
  },
  {
   "cell_type": "code",
   "execution_count": null,
   "metadata": {},
   "outputs": [],
   "source": [
    "print(long_values.min())"
   ]
  },
  {
   "cell_type": "code",
   "execution_count": null,
   "metadata": {},
   "outputs": [],
   "source": [
    "print(zero_mod)"
   ]
  },
  {
   "cell_type": "code",
   "execution_count": null,
   "metadata": {},
   "outputs": [],
   "source": []
  }
 ],
 "metadata": {
  "kernelspec": {
   "display_name": "Python 3",
   "language": "python",
   "name": "python3"
  }
 },
 "nbformat": 4,
 "nbformat_minor": 2
}
