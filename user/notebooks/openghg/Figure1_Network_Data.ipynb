{
 "cells": [
  {
   "cell_type": "code",
   "execution_count": null,
   "metadata": {},
   "outputs": [],
   "source": [
    "import os\n",
    "import sys\n",
    "from datetime import datetime\n",
    "sys.path.insert(0, \"../../..\")\n",
    "sys.path.insert(0, \"../../../../acquire\")\n",
    "\n",
    "from HUGS.Processing import search\n",
    "from HUGS.Client import Process, Search, Retrieve\n",
    "from Acquire.ObjectStore import datetime_to_string\n",
    "from Acquire.Client import User, Drive, Service, PAR, Authorisation, StorageCreds\n",
    "\n",
    "import ipyleaflet as ipl\n",
    "import ipywidgets as ipw\n",
    "\n",
    "from pathlib import Path\n",
    "\n",
    "# Autoreload modules before executing code, useful during development\n",
    "%load_ext autoreload\n",
    "%autoreload 2"
   ]
  },
  {
   "cell_type": "markdown",
   "metadata": {},
   "source": [
    "Search for some EUROCOM data"
   ]
  },
  {
   "cell_type": "code",
   "execution_count": null,
   "metadata": {},
   "outputs": [],
   "source": [
    "from HUGS.Client import Search\n",
    "from HUGS.Util import get_datapath\n",
    "import json"
   ]
  },
  {
   "cell_type": "code",
   "execution_count": null,
   "metadata": {},
   "outputs": [],
   "source": [
    "base_url= \"https://hugs.acquire-aaai.com/t\"\n",
    "search = Search(service_url=base_url)"
   ]
  },
  {
   "cell_type": "code",
   "execution_count": null,
   "metadata": {},
   "outputs": [],
   "source": [
    "acrg_json = get_datapath(filename=\"acrg_site_info.json\")\n",
    "with open(acrg_json, \"r\") as f:\n",
    "    acrg_sites = json.load(f)"
   ]
  },
  {
   "cell_type": "code",
   "execution_count": null,
   "metadata": {},
   "outputs": [],
   "source": [
    "search_terms = [\"co2\"]\n",
    "locations = [site for site in acrg_sites]\n",
    "\n",
    "search.search(search_terms=search_terms, locations=locations, data_type=\"NOAA\")"
   ]
  },
  {
   "cell_type": "markdown",
   "metadata": {},
   "source": [
    "Panel 1 - NOAA with EDGAR"
   ]
  },
  {
   "cell_type": "code",
   "execution_count": null,
   "metadata": {},
   "outputs": [
    {
     "name": "stdout",
     "output_type": "stream",
     "text": [
      "KeysView(<xarray.Dataset>\n",
      "Dimensions:  (lat: 1800, lon: 3600, time: 1)\n",
      "Coordinates:\n",
      "  * lat      (lat) float32 -89.95 -89.85 -89.75 -89.65 ... 89.75 89.85 89.95\n",
      "  * lon      (lon) float32 -179.95 -179.85 -179.75 ... 179.75 179.85 179.95\n",
      "  * time     (time) datetime64[ns] 2012-01-01\n",
      "Data variables:\n",
      "    flux     (lat, lon, time) float32 0.0 0.0 0.0 0.0 0.0 ... 0.0 0.0 0.0 0.0\n",
      "Attributes:\n",
      "    title:                        ch4 emissions from EDGAR database.\n",
      "    author:                       rt17603\n",
      "    date_created:                 2020-01-15 14:29:44.308482\n",
      "    number_of_prior_files_used:   1\n",
      "    prior_file_1:                 EDGAR\n",
      "    prior_file_1_version:         v4.3.2\n",
      "    prior_file_1_raw_resolution:  0.1 x 0.1 degrees\n",
      "    prior_file_1_reference:       http://edgar.jrc.ec.europa.eu/overview.php?...\n",
      "    regridder_used:               acrg_grid.regrid.regrid_2D)\n",
      "<xarray.DataArray 'flux' (lon: 3600, time: 1)>\n",
      "array([[0.],\n",
      "       [0.],\n",
      "       [0.],\n",
      "       ...,\n",
      "       [0.],\n",
      "       [0.],\n",
      "       [0.]], dtype=float32)\n",
      "Coordinates:\n",
      "    lat      float32 -89.95\n",
      "  * lon      (lon) float32 -179.95 -179.85 -179.75 ... 179.75 179.85 179.95\n",
      "  * time     (time) datetime64[ns] 2012-01-01\n",
      "Attributes:\n",
      "    source:   ch4-anthro\n",
      "    units:    mol/m2/s\n",
      "    species:  ch4\n"
     ]
    },
    {
     "ename": "SyntaxError",
     "evalue": "'return' outside function (<ipython-input-29-0794e48c101e>, line 38)",
     "output_type": "error",
     "traceback": [
      "\u001b[0;36m  File \u001b[0;32m\"<ipython-input-29-0794e48c101e>\"\u001b[0;36m, line \u001b[0;32m38\u001b[0m\n\u001b[0;31m    return False\u001b[0m\n\u001b[0m    ^\u001b[0m\n\u001b[0;31mSyntaxError\u001b[0m\u001b[0;31m:\u001b[0m 'return' outside function\n"
     ]
    }
   ],
   "source": [
    "\n",
    "import matplotlib.pyplot as plt\n",
    "from cartopy.feature import BORDERS\n",
    "import cartopy.crs as ccrs\n",
    "import matplotlib.cm as cm\n",
    "import xarray as xr\n",
    "import numpy as np\n",
    "import ipyleaflet as ipl\n",
    "from random import uniform\n",
    "\n",
    "filepath = \"/home/gar/Documents/Devel/hugs/user/notebooks/openghg/ch4-anthro_GLOBAL_2012.nc\"\n",
    "\n",
    "ds = xr.open_dataset(filepath)\n",
    "\n",
    "domain = \"EUROPE\"\n",
    "\n",
    "# fig = plt.figure()\n",
    "# ax = fig.add_subplot(111, projection=ccrs.PlateCarree())\n",
    "\n",
    "# ax.coastlines(color=\"0.2\")\n",
    "# ax.add_feature(BORDERS, edgecolor=\"0.5\")\n",
    "\n",
    "fp_name = \"flux\"\n",
    "lon_name = \"lon\"\n",
    "lat_name = \"lat\"\n",
    "\n",
    "cmap = cm.get_cmap(\"magma\")\n",
    "levels = np.linspace(np.percentile(ds[fp_name].values, 5), np.percentile(ds[fp_name].values, 95), 20)\n",
    "\n",
    "long_values = ds[fp_name][lon_name].values\n",
    "long_values = long_values[:1800]\n",
    "lat_values = ds[fp_name][lat_name].values\n",
    "zero_values = ds[fp_name][:, :, 0].values\n",
    "\n",
    "print(ds.keys())\n",
    "\n",
    "print(ds)\n",
    "\n",
    "return False\n",
    "\n",
    "# locations = [[uniform(-80, 80), uniform(-180, 180), uniform(0, 1000)] for i in range(1000)]\n",
    "\n",
    "# print(type(long_values))\n",
    "\n",
    "print(len(long_values))\n",
    "print(len(lat_values))\n",
    "print(len(levels))\n",
    "\n",
    "print(zero_values[15])\n",
    "\n",
    "\n",
    "locations = [[a,b,uniform(0,100)] for a,b in zip(long_values, lat_values)]\n",
    "\n",
    "for x in range(5):\n",
    "    print(lat_values[x], long_values[x], zero_values[x])\n",
    "\n",
    "\n",
    "# locations = [long_values.tolist(), lat_values.tolist(), zero_values.tolist()]\n",
    "\n",
    "print(locations[1])\n",
    "\n",
    "m = ipl.Map(center=[0,0], zoom=2)\n",
    "heat = ipl.Heatmap(locations=locations, radius=20)\n",
    "\n",
    "m.add_layer(heat)\n",
    "\n",
    "m\n",
    "\n",
    "#     plt.imshow(long_values, lat_values, zero_values)\n",
    "\n",
    "# return ax.contourf(long_values, lat_values, zero_values,cmap=cm.get_cmap(\"inferno\"), levels=levels)"
   ]
  },
  {
   "cell_type": "code",
   "execution_count": null,
   "metadata": {},
   "outputs": [
    {
     "ename": "NameError",
     "evalue": "name 'plot_emissions' is not defined",
     "output_type": "error",
     "traceback": [
      "\u001b[0;31m---------------------------------------------------------------------------\u001b[0m",
      "\u001b[0;31mNameError\u001b[0m                                 Traceback (most recent call last)",
      "\u001b[0;32m<ipython-input-11-81f5b57a4289>\u001b[0m in \u001b[0;36m<module>\u001b[0;34m\u001b[0m\n\u001b[1;32m      1\u001b[0m \u001b[0memissions_file\u001b[0m \u001b[0;34m=\u001b[0m \u001b[0;34m\"/home/gar/Documents/Devel/hugs/user/notebooks/openghg/ch4-anthro_GLOBAL_2012.nc\"\u001b[0m\u001b[0;34m\u001b[0m\u001b[0;34m\u001b[0m\u001b[0m\n\u001b[1;32m      2\u001b[0m \u001b[0;34m\u001b[0m\u001b[0m\n\u001b[0;32m----> 3\u001b[0;31m \u001b[0mplot_emissions\u001b[0m\u001b[0;34m(\u001b[0m\u001b[0mfilepath\u001b[0m\u001b[0;34m=\u001b[0m\u001b[0memissions_file\u001b[0m\u001b[0;34m)\u001b[0m\u001b[0;34m\u001b[0m\u001b[0;34m\u001b[0m\u001b[0m\n\u001b[0m",
      "\u001b[0;31mNameError\u001b[0m: name 'plot_emissions' is not defined"
     ]
    }
   ],
   "source": [
    "emissions_file = \"/home/gar/Documents/Devel/hugs/user/notebooks/openghg/ch4-anthro_GLOBAL_2012.nc\"\n",
    "\n",
    "plot_emissions(filepath=emissions_file)"
   ]
  },
  {
   "cell_type": "code",
   "execution_count": null,
   "metadata": {},
   "outputs": [],
   "source": [
    "\n",
    "    \n",
    "center = [38, 0]\n",
    "zoom = 1\n",
    "noaa_map = ipyleaflet.Map(center=center, zoom=zoom)\n",
    "\n",
    "no_lat_long = []\n",
    "    \n",
    "for site in acrg_sites:\n",
    "    network_key = list(acrg_sites[site].keys())[0]\n",
    "    \n",
    "    if network_key == \"NOAA\":\n",
    "        site_data = acrg_sites[site][network_key]\n",
    "        \n",
    "        try:\n",
    "            lat = acrg_sites[site][network_key][\"latitude\"]\n",
    "            long = acrg_sites[site][network_key][\"longitude\"]\n",
    "\n",
    "            marker = ipl.Marker(location=(lat, long))\n",
    "            marker.popup = ipw.HTML(value=str(site))\n",
    "            noaa_map.add_layer(marker)\n",
    "        except:\n",
    "            no_lat_long.append(site)\n",
    "            \n",
    "        \n",
    "noaa_map\n",
    "        \n",
    "        \n",
    "        \n"
   ]
  },
  {
   "cell_type": "markdown",
   "metadata": {},
   "source": [
    "Panel 2 - EUROCOM with footprint"
   ]
  },
  {
   "cell_type": "code",
   "execution_count": null,
   "metadata": {},
   "outputs": [],
   "source": [
    "icos_json = get_datapath(filename=\"icos_eurocom_sites.json\")\n",
    "\n",
    "center = [54.2361, -4.548]\n",
    "zoom = 3\n",
    "site_map = ipyleaflet.Map(center=center, zoom=zoom)\n",
    "\n",
    "with open(icos_json, \"r\") as f:\n",
    "    icos_sites = json.load(f)\n",
    "\n",
    "icos_markers = []\n",
    "\n",
    "for site in icos_sites:\n",
    "    lat = icos_sites[site][\"latitude\"]\n",
    "    long = icos_sites[site][\"longitude\"]\n",
    "    marker = ipl.Marker(location=(lat, long))\n",
    "    marker.popup = ipw.HTML(value=str(site))\n",
    "    site_map.add_layer(marker)\n",
    "\n",
    "site_map"
   ]
  },
  {
   "cell_type": "markdown",
   "metadata": {},
   "source": [
    "Panel 3 - London with Canopy and Footprint"
   ]
  },
  {
   "cell_type": "code",
   "execution_count": null,
   "metadata": {},
   "outputs": [],
   "source": [
    "center = [54.2361, -4.548]\n",
    "zoom = 5\n",
    "agage_map = ipyleaflet.Map(center=center, zoom=zoom)\n",
    "\n",
    "agage = get_datapath(filename=\"icos_eurocom_sites.json\")\n",
    "\n",
    "agage_map"
   ]
  },
  {
   "cell_type": "code",
   "execution_count": null,
   "metadata": {},
   "outputs": [],
   "source": []
  }
 ],
 "metadata": {
  "kernelspec": {
   "display_name": "Python 3",
   "language": "python",
   "name": "python3"
  }
 },
 "nbformat": 4,
 "nbformat_minor": 2
}
