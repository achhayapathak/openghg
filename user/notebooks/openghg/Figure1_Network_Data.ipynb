{
 "cells": [
  {
   "cell_type": "code",
   "execution_count": null,
   "metadata": {},
   "outputs": [],
   "source": [
    "import os\n",
    "import sys\n",
    "from datetime import datetime\n",
    "sys.path.insert(0, \"../../..\")\n",
    "sys.path.insert(0, \"../../../../acquire\")\n",
    "\n",
    "from HUGS.Processing import search\n",
    "from HUGS.Client import Process, Search, Retrieve\n",
    "from Acquire.ObjectStore import datetime_to_string\n",
    "from Acquire.Client import User, Drive, Service, PAR, Authorisation, StorageCreds\n",
    "\n",
    "import ipyleaflet as ipl\n",
    "import ipywidgets as ipw\n",
    "\n",
    "from pathlib import Path\n",
    "\n",
    "# Autoreload modules before executing code, useful during development\n",
    "%load_ext autoreload\n",
    "%autoreload 2"
   ]
  },
  {
   "cell_type": "markdown",
   "metadata": {},
   "source": [
    "Search for some EUROCOM data"
   ]
  },
  {
   "cell_type": "code",
   "execution_count": null,
   "metadata": {},
   "outputs": [],
   "source": [
    "from HUGS.Client import Search\n",
    "from HUGS.Util import get_datapath\n",
    "import json"
   ]
  },
  {
   "cell_type": "code",
   "execution_count": null,
   "metadata": {},
   "outputs": [],
   "source": [
    "base_url= \"https://hugs.acquire-aaai.com/t\"\n",
    "search = Search(service_url=base_url)"
   ]
  },
  {
   "cell_type": "code",
   "execution_count": null,
   "metadata": {},
   "outputs": [],
   "source": [
    "acrg_json = get_datapath(filename=\"acrg_site_info.json\")\n",
    "with open(acrg_json, \"r\") as f:\n",
    "    acrg_sites = json.load(f)"
   ]
  },
  {
   "cell_type": "markdown",
   "metadata": {},
   "source": [
    "Panel 1 - NOAA with EDGAR"
   ]
  },
  {
   "cell_type": "code",
   "execution_count": null,
   "metadata": {},
   "outputs": [],
   "source": [
    "import matplotlib.pyplot as plt\n",
    "from cartopy.feature import BORDERS\n",
    "import cartopy.crs as ccrs\n",
    "import matplotlib.cm as cm\n",
    "import xarray as xr\n",
    "import numpy as np\n",
    "import ipyleaflet as ipl\n",
    "from random import uniform\n",
    "\n",
    "filepath = \"/home/gar/Documents/Devel/hugs/user/notebooks/openghg/ch4-anthro_GLOBAL_2012.nc\"\n",
    "\n",
    "# Here try and work  out projection issues\n",
    "\n",
    "# filepath = \"/home/home/gar/Documents/Devel/RSE/hugs/raw_data/ch4-anthro_GLOBAL_2012.nc\"\n",
    "\n",
    "ds = xr.open_dataset(filepath)\n",
    "\n",
    "domain = \"EUROPE\"\n",
    "\n",
    "lon_name = \"lon\"\n",
    "lat_name = \"lat\"\n",
    "\n",
    "long_values = ds[\"flux\"][lon_name]\n",
    "lat_values = ds[\"flux\"][lat_name]\n",
    "zero_values = ds[\"flux\"][:, :, 0]"
   ]
  },
  {
   "cell_type": "code",
   "execution_count": null,
   "metadata": {},
   "outputs": [
    {
     "data": {
      "image/png": "[encoded data removed]",
      "text/plain": [
       "<Figure size 432x288 with 1 Axes>"
      ]
     },
     "metadata": {
      "needs_background": "light"
     },
     "output_type": "display_data"
    }
   ],
   "source": [
    "fig = plt.figure()\n",
    "# ax = fig.add_subplot(111, projection=ccrs.PlateCarree())\n",
    "ax = fig.add_subplot(111, projection=ccrs.Mercator(), frameon=False)\n",
    "\n",
    "ax.coastlines(color=\"0.2\")\n",
    "ax.add_feature(BORDERS, edgecolor=\"0.5\")\n",
    "\n",
    "ax.set_extent((-140,-30, -60,80),crs=ccrs.Mercator())\n",
    "\n",
    "ax.get_xaxis().set_visible(False)\n",
    "ax.get_yaxis().set_visible(False)\n",
    "\n",
    "cmap = cm.get_cmap(\"viridis\")\n",
    "\n",
    "levels = np.linspace(np.percentile(ds[\"flux\"].values, 5), np.percentile(ds[\"flux\"].values, 97), 10)\n",
    "\n",
    "ax.contourf(long_values, lat_values, zero_values, cmap=cmap, transform=ccrs.Mercator(), levels=levels)\n",
    "\n",
    "fig.savefig(\"emissions_edgar_NAmerica.png\", dpi=600, bbox_inches=\"tight\")"
   ]
  },
  {
   "cell_type": "code",
   "execution_count": null,
   "metadata": {},
   "outputs": [],
   "source": [
    "# longitude box of -150,-50b\n",
    "# latitude box of 0, 60"
   ]
  },
  {
   "cell_type": "code",
   "execution_count": null,
   "metadata": {},
   "outputs": [],
   "source": [
    "# Search NOAA data"
   ]
  },
  {
   "cell_type": "code",
   "execution_count": null,
   "metadata": {},
   "outputs": [],
   "source": [
    "base_url= \"https://hugs.acquire-aaai.com/t\"\n",
    "search = Search(service_url=base_url)\n",
    "\n",
    "search_terms = [\"co\"]\n",
    "locations = []\n",
    "\n",
    "results = search.search(search_terms=search_terms, locations=locations, data_type=\"NOAA\")"
   ]
  },
  {
   "cell_type": "markdown",
   "metadata": {},
   "source": [
    "Process some of the results to extract the sites etc"
   ]
  },
  {
   "cell_type": "code",
   "execution_count": null,
   "metadata": {},
   "outputs": [
    {
     "data": {
      "application/vnd.jupyter.widget-view+json": {
       "model_id": "d601977cfb5449f39804296d1ad7572c",
       "version_major": 2,
       "version_minor": 0
      },
      "text/plain": [
       "Map(center=[0, 0], controls=(ZoomControl(options=['position', 'zoom_in_text', 'zoom_in_title', 'zoom_out_text'…"
      ]
     },
     "metadata": {},
     "output_type": "display_data"
    }
   ],
   "source": [
    "import ipyleaflet as ipl\n",
    "\n",
    "center = [0, 0]\n",
    "zoom = 2\n",
    "noaa_map = ipl.Map(center=center, zoom=zoom)\n",
    "\n",
    "# Load in the ACRG site data\n",
    "acrg_json = get_datapath(filename=\"acrg_site_info.json\")\n",
    "with open(acrg_json, \"r\") as f:\n",
    "    acrg_sites = json.load(f)\n",
    "\n",
    "for res in results:\n",
    "    site = results[res][\"metadata\"][\"site\"]\n",
    "    \n",
    "    site = site.upper()\n",
    " \n",
    "    species = results[res][\"metadata\"][\"species\"]\n",
    "    start_date = results[res][\"start_date\"]\n",
    "    end_date = results[res][\"end_date\"]\n",
    "    \n",
    "    # Get the latitude and longitude from the ACRG site info\n",
    "    # As we don't have all the site data stored we skip a few datasets\n",
    "    try:\n",
    "        long = acrg_sites[site][\"NOAA\"][\"longitude\"]\n",
    "        lat = acrg_sites[site][\"NOAA\"][\"latitude\"]\n",
    "        long_name = acrg_sites[site][\"NOAA\"][\"long_name\"]\n",
    "\n",
    "        marker = ipl.Marker(location=(lat, long), draggable=False)\n",
    "        marker.popup = ipw.HTML(value=f\"Site: {long_name} ({site})<br>Species: {species.upper()}<br>Daterange: {start_date} -<br>{end_date}\")\n",
    "\n",
    "        noaa_map.add_layer(marker)\n",
    "    except:\n",
    "        pass\n",
    "\n",
    "# Now we overlay the footprint image. In the future this will be dynamically updated from NetCDF\n",
    "edgar_image_path = \"Emissions_Americas.png\"\n",
    "\n",
    "edgar_layer = ipl.ImageOverlay(url=edgar_image_path, bounds=((-60,-140), (55,-30)))\n",
    "noaa_map.add_layer(edgar_layer)\n",
    "\n",
    "    \n",
    "noaa_map"
   ]
  },
  {
   "cell_type": "markdown",
   "metadata": {},
   "source": [
    "Panel 2 - EUROCOM with footprint"
   ]
  },
  {
   "cell_type": "code",
   "execution_count": null,
   "metadata": {},
   "outputs": [],
   "source": [
    "# filepath = \"/home/gar/Documents/Devel/hugs/raw_data/london_footprints/NPL-17magl_UKV_EUROPE_201909.nc\"\n",
    "\n",
    "# ds = xr.open_dataset(filepath)\n",
    "\n",
    "# domain = \"EUROPE\"\n",
    "\n",
    "# fp_name = \"fp\"\n",
    "# lon_name = \"lon\"\n",
    "# lat_name = \"lat\"\n",
    "\n",
    "# long_values = ds[fp_name][lon_name]\n",
    "# lat_values = ds[fp_name][lat_name]\n",
    "# zero_values = ds[fp_name][:, :, 0]\n",
    "\n",
    "# levels = np.linspace(np.percentile(ds[fp_name].values, 5), np.percentile(ds[fp_name].values, 95), 20)\n"
   ]
  },
  {
   "cell_type": "code",
   "execution_count": null,
   "metadata": {},
   "outputs": [
    {
     "ename": "KeyError",
     "evalue": "\"Error calling 'search' on 'https://hugs.acquire-aaai.com/t/hugs': 'latest_version'\"",
     "output_type": "error",
     "traceback": [
      "\u001b[0;31m---------------------------------------------------------------------------\u001b[0m",
      "\u001b[0;31mKeyError\u001b[0m                                  Traceback (most recent call last)",
      "\u001b[0;32m<ipython-input-210-0e549052ed67>\u001b[0m in \u001b[0;36m<module>\u001b[0;34m\u001b[0m\n\u001b[1;32m      2\u001b[0m \u001b[0meuro_locations\u001b[0m \u001b[0;34m=\u001b[0m \u001b[0;34m[\u001b[0m\u001b[0;34m]\u001b[0m\u001b[0;34m\u001b[0m\u001b[0;34m\u001b[0m\u001b[0m\n\u001b[1;32m      3\u001b[0m \u001b[0;34m\u001b[0m\u001b[0m\n\u001b[0;32m----> 4\u001b[0;31m \u001b[0meurocom_results\u001b[0m \u001b[0;34m=\u001b[0m \u001b[0msearch\u001b[0m\u001b[0;34m.\u001b[0m\u001b[0msearch\u001b[0m\u001b[0;34m(\u001b[0m\u001b[0msearch_terms\u001b[0m\u001b[0;34m=\u001b[0m\u001b[0meuro_search_terms\u001b[0m\u001b[0;34m,\u001b[0m \u001b[0mlocations\u001b[0m\u001b[0;34m=\u001b[0m\u001b[0meuro_locations\u001b[0m\u001b[0;34m,\u001b[0m \u001b[0mdata_type\u001b[0m\u001b[0;34m=\u001b[0m\u001b[0;34m\"EUROCOM\"\u001b[0m\u001b[0;34m)\u001b[0m\u001b[0;34m\u001b[0m\u001b[0;34m\u001b[0m\u001b[0m\n\u001b[0m",
      "\u001b[0;32m~/Documents/Devel/hugs/HUGS/Client/_search.py\u001b[0m in \u001b[0;36msearch\u001b[0;34m(self, search_terms, locations, data_type, start_datetime, end_datetime)\u001b[0m\n\u001b[1;32m     24\u001b[0m             \u001b[0margs\u001b[0m\u001b[0;34m[\u001b[0m\u001b[0;34m\"end_datetime\"\u001b[0m\u001b[0;34m]\u001b[0m \u001b[0;34m=\u001b[0m \u001b[0m_datetime_to_string\u001b[0m\u001b[0;34m(\u001b[0m\u001b[0mend_datetime\u001b[0m\u001b[0;34m)\u001b[0m\u001b[0;34m\u001b[0m\u001b[0;34m\u001b[0m\u001b[0m\n\u001b[1;32m     25\u001b[0m \u001b[0;34m\u001b[0m\u001b[0m\n\u001b[0;32m---> 26\u001b[0;31m         \u001b[0mresponse\u001b[0m \u001b[0;34m=\u001b[0m \u001b[0mself\u001b[0m\u001b[0;34m.\u001b[0m\u001b[0m_service\u001b[0m\u001b[0;34m.\u001b[0m\u001b[0mcall_function\u001b[0m\u001b[0;34m(\u001b[0m\u001b[0mfunction\u001b[0m\u001b[0;34m=\u001b[0m\u001b[0;34m\"search\"\u001b[0m\u001b[0;34m,\u001b[0m \u001b[0margs\u001b[0m\u001b[0;34m=\u001b[0m\u001b[0margs\u001b[0m\u001b[0;34m)\u001b[0m\u001b[0;34m\u001b[0m\u001b[0;34m\u001b[0m\u001b[0m\n\u001b[0m\u001b[1;32m     27\u001b[0m \u001b[0;34m\u001b[0m\u001b[0m\n\u001b[1;32m     28\u001b[0m         \u001b[0;32mreturn\u001b[0m \u001b[0mresponse\u001b[0m\u001b[0;34m[\u001b[0m\u001b[0;34m\"results\"\u001b[0m\u001b[0;34m]\u001b[0m\u001b[0;34m\u001b[0m\u001b[0;34m\u001b[0m\u001b[0m\n",
      "\u001b[0;32m~/Documents/Devel/acquire/Acquire/Service/_service.py\u001b[0m in \u001b[0;36mcall_function\u001b[0;34m(self, function, args)\u001b[0m\n\u001b[1;32m    849\u001b[0m \u001b[0;34m\u001b[0m\u001b[0m\n\u001b[1;32m    850\u001b[0m         \u001b[0;32mtry\u001b[0m\u001b[0;34m:\u001b[0m\u001b[0;34m\u001b[0m\u001b[0;34m\u001b[0m\u001b[0m\n\u001b[0;32m--> 851\u001b[0;31m             return _call_function(service_url=self.service_url(),\n\u001b[0m\u001b[1;32m    852\u001b[0m                                   \u001b[0mfunction\u001b[0m\u001b[0;34m=\u001b[0m\u001b[0mfunction\u001b[0m\u001b[0;34m,\u001b[0m\u001b[0;34m\u001b[0m\u001b[0;34m\u001b[0m\u001b[0m\n\u001b[1;32m    853\u001b[0m                                   \u001b[0margs\u001b[0m\u001b[0;34m=\u001b[0m\u001b[0margs\u001b[0m\u001b[0;34m,\u001b[0m\u001b[0;34m\u001b[0m\u001b[0;34m\u001b[0m\u001b[0m\n",
      "\u001b[0;32m~/Documents/Devel/acquire/Acquire/Service/_function.py\u001b[0m in \u001b[0;36mcall_function\u001b[0;34m(service_url, function, args, args_key, response_key, public_cert)\u001b[0m\n\u001b[1;32m    493\u001b[0m              response.encoding, str(response.content)))\n\u001b[1;32m    494\u001b[0m \u001b[0;34m\u001b[0m\u001b[0m\n\u001b[0;32m--> 495\u001b[0;31m     return unpack_return_value(return_value=result, key=response_key,\n\u001b[0m\u001b[1;32m    496\u001b[0m                                \u001b[0mpublic_cert\u001b[0m\u001b[0;34m=\u001b[0m\u001b[0mpublic_cert\u001b[0m\u001b[0;34m,\u001b[0m\u001b[0;34m\u001b[0m\u001b[0;34m\u001b[0m\u001b[0m\n\u001b[1;32m    497\u001b[0m                                function=function, service=service_url)\n",
      "\u001b[0;32m~/Documents/Devel/acquire/Acquire/Service/_function.py\u001b[0m in \u001b[0;36munpack_return_value\u001b[0;34m(return_value, key, public_cert, function, service)\u001b[0m\n\u001b[1;32m    347\u001b[0m     \"\"\"Call this to unpack the passed arguments that have been encoded\n\u001b[1;32m    348\u001b[0m        as a json string, packed using pack_arguments\"\"\"\n\u001b[0;32m--> 349\u001b[0;31m     return unpack_arguments(return_value, key=key, public_cert=public_cert,\n\u001b[0m\u001b[1;32m    350\u001b[0m                             \u001b[0mis_return_value\u001b[0m\u001b[0;34m=\u001b[0m\u001b[0;32mTrue\u001b[0m\u001b[0;34m,\u001b[0m \u001b[0mfunction\u001b[0m\u001b[0;34m=\u001b[0m\u001b[0mfunction\u001b[0m\u001b[0;34m,\u001b[0m\u001b[0;34m\u001b[0m\u001b[0;34m\u001b[0m\u001b[0m\n\u001b[1;32m    351\u001b[0m                             service=service)\n",
      "\u001b[0;32m~/Documents/Devel/acquire/Acquire/Service/_function.py\u001b[0m in \u001b[0;36munpack_arguments\u001b[0;34m(args, key, public_cert, is_return_value, function, service)\u001b[0m\n\u001b[1;32m    318\u001b[0m \u001b[0;34m\u001b[0m\u001b[0m\n\u001b[1;32m    319\u001b[0m         \u001b[0mdecrypted_data\u001b[0m \u001b[0;34m=\u001b[0m \u001b[0m_get_key\u001b[0m\u001b[0;34m(\u001b[0m\u001b[0mkey\u001b[0m\u001b[0;34m,\u001b[0m \u001b[0mfingerprint\u001b[0m\u001b[0;34m)\u001b[0m\u001b[0;34m.\u001b[0m\u001b[0mdecrypt\u001b[0m\u001b[0;34m(\u001b[0m\u001b[0mencrypted_data\u001b[0m\u001b[0;34m)\u001b[0m\u001b[0;34m\u001b[0m\u001b[0;34m\u001b[0m\u001b[0m\n\u001b[0;32m--> 320\u001b[0;31m         return unpack_arguments(decrypted_data,\n\u001b[0m\u001b[1;32m    321\u001b[0m                                 \u001b[0mis_return_value\u001b[0m\u001b[0;34m=\u001b[0m\u001b[0mis_return_value\u001b[0m\u001b[0;34m,\u001b[0m\u001b[0;34m\u001b[0m\u001b[0;34m\u001b[0m\u001b[0m\n\u001b[1;32m    322\u001b[0m                                 function=function, service=service)\n",
      "\u001b[0;32m~/Documents/Devel/acquire/Acquire/Service/_function.py\u001b[0m in \u001b[0;36munpack_arguments\u001b[0;34m(args, key, public_cert, is_return_value, function, service)\u001b[0m\n\u001b[1;32m    265\u001b[0m             \u001b[0;32mif\u001b[0m \u001b[0mpayload\u001b[0m\u001b[0;34m[\u001b[0m\u001b[0;34m\"status\"\u001b[0m\u001b[0;34m]\u001b[0m \u001b[0;34m!=\u001b[0m \u001b[0;36m0\u001b[0m\u001b[0;34m:\u001b[0m\u001b[0;34m\u001b[0m\u001b[0;34m\u001b[0m\u001b[0m\n\u001b[1;32m    266\u001b[0m                 \u001b[0;32mif\u001b[0m \u001b[0;34m\"exception\"\u001b[0m \u001b[0;32min\u001b[0m \u001b[0mpayload\u001b[0m\u001b[0;34m:\u001b[0m\u001b[0;34m\u001b[0m\u001b[0;34m\u001b[0m\u001b[0m\n\u001b[0;32m--> 267\u001b[0;31m                     \u001b[0m_unpack_and_raise\u001b[0m\u001b[0;34m(\u001b[0m\u001b[0mfunction\u001b[0m\u001b[0;34m,\u001b[0m \u001b[0mservice\u001b[0m\u001b[0;34m,\u001b[0m \u001b[0mpayload\u001b[0m\u001b[0;34m[\u001b[0m\u001b[0;34m\"exception\"\u001b[0m\u001b[0;34m]\u001b[0m\u001b[0;34m)\u001b[0m\u001b[0;34m\u001b[0m\u001b[0;34m\u001b[0m\u001b[0m\n\u001b[0m\u001b[1;32m    268\u001b[0m                 \u001b[0;32melse\u001b[0m\u001b[0;34m:\u001b[0m\u001b[0;34m\u001b[0m\u001b[0;34m\u001b[0m\u001b[0m\n\u001b[1;32m    269\u001b[0m                     \u001b[0;32mfrom\u001b[0m \u001b[0mAcquire\u001b[0m\u001b[0;34m.\u001b[0m\u001b[0mService\u001b[0m \u001b[0;32mimport\u001b[0m \u001b[0mRemoteFunctionCallError\u001b[0m\u001b[0;34m\u001b[0m\u001b[0;34m\u001b[0m\u001b[0m\n",
      "\u001b[0;32m~/Documents/Devel/acquire/Acquire/Service/_function.py\u001b[0m in \u001b[0;36m_unpack_and_raise\u001b[0;34m(function, service, exdata)\u001b[0m\n\u001b[1;32m    401\u001b[0m             (function, service, _exception_to_string(e), exdata))\n\u001b[1;32m    402\u001b[0m \u001b[0;34m\u001b[0m\u001b[0m\n\u001b[0;32m--> 403\u001b[0;31m     \u001b[0;32mraise\u001b[0m \u001b[0mex\u001b[0m\u001b[0;34m\u001b[0m\u001b[0;34m\u001b[0m\u001b[0m\n\u001b[0m\u001b[1;32m    404\u001b[0m \u001b[0;34m\u001b[0m\u001b[0m\n\u001b[1;32m    405\u001b[0m \u001b[0;34m\u001b[0m\u001b[0m\n",
      "\u001b[0;32m/function/python_modules/admin/handler.py\u001b[0m in \u001b[0;36m_base_handler\u001b[0;34m()\u001b[0m\n",
      "\u001b[0;32m/function/python_modules/admin/handler.py\u001b[0m in \u001b[0;36m_handle\u001b[0;34m()\u001b[0m\n",
      "\u001b[0;32m/function/python_modules/admin/handler.py\u001b[0m in \u001b[0;36m_route_function\u001b[0;34m()\u001b[0m\n",
      "\u001b[0;32mroute.py\u001b[0m in \u001b[0;36mhugs_functions\u001b[0;34m()\u001b[0m\n",
      "\u001b[0;32m/function/python_modules/hugs_service/search.py\u001b[0m in \u001b[0;36msearch\u001b[0;34m()\u001b[0m\n",
      "\u001b[0;32m/function/python_modules/HUGS/Processing/_search.py\u001b[0m in \u001b[0;36msearch\u001b[0;34m()\u001b[0m\n",
      "\u001b[0;32m/function/python_modules/HUGS/Processing/_search.py\u001b[0m in \u001b[0;36m<listcomp>\u001b[0;34m()\u001b[0m\n",
      "\u001b[0;32m/function/python_modules/HUGS/Modules/_datasource.py\u001b[0m in \u001b[0;36mload\u001b[0;34m()\u001b[0m\n",
      "\u001b[0;32m/function/python_modules/HUGS/Modules/_datasource.py\u001b[0m in \u001b[0;36mfrom_data\u001b[0;34m()\u001b[0m\n",
      "\u001b[0;31mKeyError\u001b[0m: \"Error calling 'search' on 'https://hugs.acquire-aaai.com/t/hugs': 'latest_version'\""
     ]
    }
   ],
   "source": [
    "euro_search_terms = [\"co\"]\n",
    "euro_locations = []\n",
    "\n",
    "eurocom_results = search.search(search_terms=euro_search_terms, locations=euro_locations, data_type=\"EUROCOM\")"
   ]
  },
  {
   "cell_type": "code",
   "execution_count": null,
   "metadata": {},
   "outputs": [],
   "source": [
    "eurocom_results"
   ]
  },
  {
   "cell_type": "code",
   "execution_count": null,
   "metadata": {},
   "outputs": [],
   "source": [
    "center = [54.2361, -4.548]\n",
    "zoom = 3\n",
    "eurocom_map = ipl.Map(center=center, zoom=zoom)\n",
    "\n",
    "for res in eurocom_results:\n",
    "    site = results[res][\"metadata\"][\"site\"]\n",
    "    \n",
    "    site = site.upper()\n",
    " \n",
    "    species = results[res][\"metadata\"][\"species\"]\n",
    "    start_date = results[res][\"start_date\"]\n",
    "    end_date = results[res][\"end_date\"]\n",
    "    \n",
    "    # Get the latitude and longitude from the ACRG site info\n",
    "    # As we don't have all the site data stored we skip a few datasets\n",
    "    try:\n",
    "        # Some sites may not be associated with EUROCOM in acrg_sites\n",
    "        network_key = list(acrg_sites[site].keys())[0]\n",
    "        \n",
    "        long = acrg_sites[site][network_key][\"longitude\"]\n",
    "        lat = acrg_sites[site][network_key][\"latitude\"]\n",
    "        long_name = acrg_sites[site][\"NOAA\"][\"long_name\"]\n",
    "\n",
    "        marker = ipl.Marker(location=(lat, long), draggable=False)\n",
    "        marker.popup = ipw.HTML(value=f\"Site: {long_name} ({site})<br>Species: {species.upper()}<br>Daterange: {start_date} -<br>{end_date}\")\n",
    "\n",
    "        eurocom_map.add_layer(marker)\n",
    "    except:\n",
    "        pass\n"
   ]
  },
  {
   "cell_type": "markdown",
   "metadata": {},
   "source": [
    "Panel 3 - London with Canopy and Footprint"
   ]
  },
  {
   "cell_type": "code",
   "execution_count": null,
   "metadata": {},
   "outputs": [
    {
     "data": {
      "application/vnd.jupyter.widget-view+json": {
       "model_id": "b5abb895b30940448592d8c494215c32",
       "version_major": 2,
       "version_minor": 0
      },
      "text/plain": [
       "Map(center=[51.506815, -0.12771], controls=(ZoomControl(options=['position', 'zoom_in_text', 'zoom_in_title', …"
      ]
     },
     "metadata": {},
     "output_type": "display_data"
    }
   ],
   "source": [
    "from ipyleaflet import Map, basemaps, basemap_to_tiles\n",
    "\n",
    "\n",
    "center = [51.506815, -0.127710]\n",
    "zoom = 10\n",
    "map_london = ipl.Map(center=center, zoom=zoom)\n",
    "\n",
    "dark_matter_layer = basemap_to_tiles(basemaps.CartoDB.Positron)\n",
    "map_london.add_layer(dark_matter_layer)\n",
    "\n",
    "lghg_sites = get_datapath(\"lghg_sites.json\")\n",
    "\n",
    "# Fix legend here\n",
    "marker_legend = ipw.HTML(value=\"<img src='marker-icon-blue.png'>   Current site<br><img src='marker-icon-green.png'>   Future site\")\n",
    "marker_control = ipl.WidgetControl(widget=marker_legend, position=\"topright\")\n",
    "\n",
    "map_london.add_control(marker_control)\n",
    "\n",
    "with open(lghg_sites, \"r\") as f:\n",
    "    lghg_data = json.load(f)\n",
    "    \n",
    "\n",
    "for site in lghg_data[\"current\"]:\n",
    "    curr_site = lghg_data[\"current\"][site]\n",
    "    \n",
    "    lat = curr_site[\"latitude\"]\n",
    "    long = curr_site[\"longitude\"]\n",
    "    site_name = curr_site[\"long_name\"]\n",
    "    \n",
    "    marker = ipl.Marker(location=(lat, long), draggable=False)\n",
    "    marker.popup = ipw.HTML(value=f\"Site: {site_name} ({site})\")\n",
    "    map_london.add_layer(marker)\n",
    "    \n",
    "for site in lghg_data[\"future\"]:\n",
    "    fut_site = lghg_data[\"future\"][site]\n",
    "    \n",
    "    lat = fut_site[\"latitude\"]\n",
    "    long = fut_site[\"longitude\"]\n",
    "    site_name = fut_site[\"long_name\"]\n",
    "    \n",
    "    # Here we want a green icon\n",
    "    icon = ipl.Icon(icon_url='marker-icon-green.png', icon_size=[25, 40], icon_anchor=[12,15])\n",
    "    \n",
    "    marker = ipl.Marker(location=(lat, long), draggable=False, icon=icon)\n",
    "    marker.popup = ipw.HTML(value=f\"Site: {site_name} ({site})\")\n",
    "    map_london.add_layer(marker)\n",
    "    \n",
    "    \n",
    "# Here we can load in just some canopy tiles for Central London\n",
    "# see https://data.london.gov.uk/dataset/curio-canopy and tile-grid-lookup.zip for the tiles\n",
    "\n",
    "# with open('/home/home/gar/Documents/Devel/RSE/hugs/canopy_data/gla-hexagon-grid-canopy-cover.geojson', 'r') as f:\n",
    "#   data = json.load(f)\n",
    "\n",
    "# geo_json = ipl.GeoJSON(data=data)\n",
    "# agage_map.add_layer(geo_json)\n",
    "\n",
    "agage = get_datapath(filename=\"icos_eurocom_sites.json\")\n",
    "\n",
    "map_london"
   ]
  },
  {
   "cell_type": "code",
   "execution_count": null,
   "metadata": {},
   "outputs": [],
   "source": []
  }
 ],
 "metadata": {
  "kernelspec": {
   "display_name": "Python 3",
   "language": "python",
   "name": "python3"
  }
 },
 "nbformat": 4,
 "nbformat_minor": 2
}
