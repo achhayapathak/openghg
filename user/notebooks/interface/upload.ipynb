{
 "cells": [
  {
   "cell_type": "code",
   "execution_count": null,
   "metadata": {},
   "outputs": [],
   "source": [
    "import os\n",
    "from pathlib import Path\n",
    "import sys\n",
    "from datetime import datetime\n",
    "sys.path.insert(0, \"../../..\")\n",
    "sys.path.insert(0, \"../../../../acquire\")\n",
    "\n",
    "from HUGS.Processing import search\n",
    "from HUGS.Client import Process, Search, Retrieve\n",
    "\n",
    "from Acquire.ObjectStore import datetime_to_string\n",
    "from Acquire.Client import User, Drive, Service, PAR, Authorisation, StorageCreds\n",
    "\n",
    "from bqplot import pyplot as plt\n",
    "from bqplot import DateScale, LinearScale, LogScale, Axis, Lines, Figure, Scatter\n",
    "from random import randint    \n",
    "\n",
    "from numpy import random as np_random\n",
    "import matplotlib.pyplot as plt\n",
    "import numpy as np\n",
    "from pandas import read_json as pd_read_json\n",
    "\n",
    "from ipywidgets import HBox, VBox"
   ]
  },
  {
   "cell_type": "code",
   "execution_count": null,
   "metadata": {},
   "outputs": [],
   "source": [
    "%matplotlib notebook"
   ]
  },
  {
   "cell_type": "code",
   "execution_count": null,
   "metadata": {},
   "outputs": [],
   "source": [
    "# Autoreload modules before executing code, useful during development\n",
    "%load_ext autoreload\n",
    "%autoreload 2"
   ]
  },
  {
   "cell_type": "code",
   "execution_count": null,
   "metadata": {},
   "outputs": [],
   "source": [
    "base_url = \"https://hugs.acquire-aaai.com/t\"\n",
    "user = User(username=\"gareth\", identity_url=F\"{base_url}/identity\")\n",
    "response = user.request_login()"
   ]
  },
  {
   "cell_type": "code",
   "execution_count": null,
   "metadata": {},
   "outputs": [],
   "source": [
    "user.wait_for_login()"
   ]
  },
  {
   "cell_type": "code",
   "execution_count": null,
   "metadata": {},
   "outputs": [],
   "source": [
    "# Helper function for test file paths\n",
    "def get_path(filename, data_type=\"CRDS\"):\n",
    "    dir_path = os.path.abspath(\"\")\n",
    "    test_data = f\"../../../test/data/proc_test_data/{data_type}\"\n",
    "    return os.path.join(dir_path, test_data, filename)\n",
    "\n",
    "processing = Process(service_url=base_url)"
   ]
  },
  {
   "cell_type": "code",
   "execution_count": null,
   "metadata": {},
   "outputs": [],
   "source": [
    "bsd_file = get_path(\"bsd.picarro.1minute.248m.dat\", data_type=\"CRDS\")\n",
    "hfd_file = get_path(\"hfd.picarro.1minute.100m_min.dat\", data_type=\"CRDS\")\n",
    "\"\"\n",
    "result_bsd = processing.process_files(user=user, files=bsd_file, data_type=\"CRDS\", source_name=\"bsd.picarro.1minute.248m\")\n",
    "result_hfd = processing.process_files(user=user, files=hfd_file, data_type=\"CRDS\", source_name=\"hfd.picarro.1minute.100m_min\")"
   ]
  },
  {
   "cell_type": "code",
   "execution_count": null,
   "metadata": {},
   "outputs": [],
   "source": [
    "print(result_bsd, \"\\n\\n\", result_hfd)"
   ]
  },
  {
   "cell_type": "code",
   "execution_count": null,
   "metadata": {},
   "outputs": [],
   "source": [
    "fourmeg = \"/Users/wm19361/Documents/Devel/hugs/raw_data/bilsdale-picarro/results-gcwerks/bsd.picarro.hourly.108m.dat\""
   ]
  },
  {
   "cell_type": "code",
   "execution_count": null,
   "metadata": {},
   "outputs": [],
   "source": [
    "result_fourmeg = processing.process_files(user=user, files=fourmeg, data_type=\"CRDS\", source_name=\"bsd.picarro.hourly.108m\")"
   ]
  },
  {
   "cell_type": "code",
   "execution_count": null,
   "metadata": {},
   "outputs": [],
   "source": []
  },
  {
   "cell_type": "code",
   "execution_count": null,
   "metadata": {},
   "outputs": [],
   "source": [
    "eight_meg = 8*1024*1024"
   ]
  },
  {
   "cell_type": "code",
   "execution_count": null,
   "metadata": {},
   "outputs": [],
   "source": [
    "raw_data  = \"/Users/wm19361/Documents/Devel/hugs/raw_data\""
   ]
  },
  {
   "cell_type": "code",
   "execution_count": null,
   "metadata": {},
   "outputs": [],
   "source": [
    "filepaths = [f for f in Path(raw_data).glob(f'**/*.dat') if os.stat(f).st_size < eight_meg]"
   ]
  },
  {
   "cell_type": "code",
   "execution_count": null,
   "metadata": {},
   "outputs": [],
   "source": [
    "filepaths"
   ]
  },
  {
   "cell_type": "code",
   "execution_count": null,
   "metadata": {},
   "outputs": [],
   "source": [
    "size_in_meg = [(p.name, (os.stat(p).st_size)/(1024*1024)) for p in filepaths]"
   ]
  },
  {
   "cell_type": "code",
   "execution_count": null,
   "metadata": {},
   "outputs": [],
   "source": [
    "size_in_meg"
   ]
  },
  {
   "cell_type": "code",
   "execution_count": null,
   "metadata": {},
   "outputs": [],
   "source": [
    "bsd_picarro5310 = filepaths[4:8]\n",
    "bsd_picarro5310"
   ]
  },
  {
   "cell_type": "code",
   "execution_count": null,
   "metadata": {},
   "outputs": [],
   "source": [
    "for f in bsd_picarro5310:\n",
    "    source_name = os.path.splitext(f.name)[0]\n",
    "    res = processing.process_files(user=user, files=str(f.resolve()), data_type=\"CRDS\", source_name=source_name)\n",
    "    print(res)\n",
    "    "
   ]
  },
  {
   "cell_type": "code",
   "execution_count": null,
   "metadata": {},
   "outputs": [],
   "source": [
    "source_name = os.path.splitext(filepaths[.name)[0]\n",
    "res = processing.process_files(user=user, files=str(f.resolve()), data_type=\"CRDS\", source_name=source_name)\n",
    "print(res)"
   ]
  },
  {
   "cell_type": "code",
   "execution_count": null,
   "metadata": {},
   "outputs": [],
   "source": [
    "rpb = filepaths[9:11]"
   ]
  },
  {
   "cell_type": "code",
   "execution_count": null,
   "metadata": {},
   "outputs": [],
   "source": [
    "rpb"
   ]
  },
  {
   "cell_type": "code",
   "execution_count": null,
   "metadata": {},
   "outputs": [],
   "source": [
    "for f in rpb:\n",
    "    source_name = os.path.splitext(f.name)[0]\n",
    "    res = processing.process_files(user=user, files=str(f.resolve()), data_type=\"CRDS\", source_name=source_name)\n",
    "    print(res)"
   ]
  },
  {
   "cell_type": "code",
   "execution_count": null,
   "metadata": {},
   "outputs": [],
   "source": [
    "hfd = filepaths[11:15]"
   ]
  },
  {
   "cell_type": "code",
   "execution_count": null,
   "metadata": {},
   "outputs": [],
   "source": [
    "hfd"
   ]
  },
  {
   "cell_type": "code",
   "execution_count": null,
   "metadata": {},
   "outputs": [],
   "source": [
    "for f in hfd:\n",
    "    source_name = os.path.splitext(f.name)[0]\n",
    "    res = processing.process_files(user=user, files=str(f.resolve()), data_type=\"CRDS\", source_name=source_name)\n",
    "    print(res)"
   ]
  },
  {
   "cell_type": "code",
   "execution_count": null,
   "metadata": {},
   "outputs": [],
   "source": [
    "f = hfd[-1]\n",
    "source_name = os.path.splitext(f.name)[0]\n",
    "res = processing.process_files(user=user, files=str(f.resolve()), data_type=\"CRDS\", source_name=source_name)\n",
    "print(res)"
   ]
  },
  {
   "cell_type": "code",
   "execution_count": null,
   "metadata": {},
   "outputs": [],
   "source": [
    "tac1 = filepaths[15:18]\n",
    "tac2 = filepaths[18:21]"
   ]
  },
  {
   "cell_type": "code",
   "execution_count": null,
   "metadata": {},
   "outputs": [],
   "source": [
    "tac1"
   ]
  },
  {
   "cell_type": "code",
   "execution_count": null,
   "metadata": {},
   "outputs": [],
   "source": [
    "tac2"
   ]
  },
  {
   "cell_type": "code",
   "execution_count": null,
   "metadata": {},
   "outputs": [],
   "source": [
    "for f in tac1:    \n",
    "    source_name = os.path.splitext(f.name)[0]\n",
    "    res = processing.process_files(user=user, files=str(f.resolve()), data_type=\"CRDS\", source_name=source_name)\n",
    "    print(res)"
   ]
  },
  {
   "cell_type": "code",
   "execution_count": null,
   "metadata": {},
   "outputs": [],
   "source": [
    "for f in tac2:    \n",
    "    source_name = os.path.splitext(f.name)[0]\n",
    "    res = processing.process_files(user=user, files=str(f.resolve()), data_type=\"CRDS\", source_name=source_name)\n",
    "    print(res)"
   ]
  },
  {
   "cell_type": "code",
   "execution_count": null,
   "metadata": {},
   "outputs": [],
   "source": [
    "bsd = filepaths[21:24]"
   ]
  },
  {
   "cell_type": "code",
   "execution_count": null,
   "metadata": {},
   "outputs": [],
   "source": [
    "bsd2 = filepaths[24:27]"
   ]
  },
  {
   "cell_type": "code",
   "execution_count": null,
   "metadata": {},
   "outputs": [],
   "source": [
    "bsd"
   ]
  },
  {
   "cell_type": "code",
   "execution_count": null,
   "metadata": {},
   "outputs": [],
   "source": [
    "bsd2"
   ]
  },
  {
   "cell_type": "code",
   "execution_count": null,
   "metadata": {},
   "outputs": [],
   "source": [
    "for f in bsd:    \n",
    "    source_name = os.path.splitext(f.name)[0]\n",
    "    res = processing.process_files(user=user, files=str(f.resolve()), data_type=\"CRDS\", source_name=source_name)\n",
    "    print(res)"
   ]
  },
  {
   "cell_type": "code",
   "execution_count": null,
   "metadata": {},
   "outputs": [],
   "source": [
    "for f in bsd2:\n",
    "    source_name = os.path.splitext(f.name)[0]\n",
    "    res = processing.process_files(user=user, files=str(f.resolve()), data_type=\"CRDS\", source_name=source_name)\n",
    "    print(res)"
   ]
  },
  {
   "cell_type": "markdown",
   "metadata": {},
   "source": [
    "## GC data"
   ]
  },
  {
   "cell_type": "markdown",
   "metadata": {},
   "source": [
    "Will keep it under 10 MB as well"
   ]
  },
  {
   "cell_type": "code",
   "execution_count": null,
   "metadata": {},
   "outputs": [],
   "source": [
    "import pathlib"
   ]
  },
  {
   "cell_type": "code",
   "execution_count": null,
   "metadata": {},
   "outputs": [],
   "source": [
    "gc_data = \"/Users/wm19361/Documents/Devel/hugs/raw_data/GC/data\""
   ]
  },
  {
   "cell_type": "code",
   "execution_count": null,
   "metadata": {},
   "outputs": [],
   "source": [
    "precisions = [f for f in pathlib.Path(gc_data).glob(f'**/*.C') if \"precisions\" in f.name and \"-\" not in f.name]"
   ]
  },
  {
   "cell_type": "code",
   "execution_count": null,
   "metadata": {},
   "outputs": [],
   "source": [
    "precisions"
   ]
  },
  {
   "cell_type": "code",
   "execution_count": null,
   "metadata": {},
   "outputs": [],
   "source": [
    "ten_meg = 10*1024*1024\n",
    "data_precision = []\n",
    "\n",
    "for p in precisions:\n",
    "\tparent = p.parents[0]\n",
    "\tdata_file = p.name.rstrip(\".precisions.C\")\n",
    "\tdata_file = data_file + \".C\"\n",
    "\t# Get a proper path\n",
    "\tdata_file = pathlib.Path(f\"{parent}/{data_file}\")\n",
    "\t\t\n",
    "\tif data_file.is_file() and os.path.getsize(data_file) < ten_meg:\n",
    "\t\tdata_precision.append((str(data_file), str(p)))\n",
    "\telse:\n",
    "\t\tprint(f\"{data_file} not found\")"
   ]
  },
  {
   "cell_type": "code",
   "execution_count": null,
   "metadata": {},
   "outputs": [],
   "source": [
    "len(data_precision)"
   ]
  },
  {
   "cell_type": "code",
   "execution_count": null,
   "metadata": {},
   "outputs": [],
   "source": [
    "print(data_precision)"
   ]
  },
  {
   "cell_type": "code",
   "execution_count": null,
   "metadata": {},
   "outputs": [],
   "source": [
    "for f in data_precision:\n",
    "    filename = f[0].split(\"/\")[-1]\n",
    "    source_name = filename.split(\".\")[0]\n",
    "    print(source_name)"
   ]
  },
  {
   "cell_type": "code",
   "execution_count": null,
   "metadata": {},
   "outputs": [],
   "source": [
    "second = data_precision[1]\n",
    "print(second)"
   ]
  },
  {
   "cell_type": "code",
   "execution_count": null,
   "metadata": {},
   "outputs": [],
   "source": [
    "%time res = processing.process_files(user=user, files=data_precision, data_type=\"GC\", instrument=\"GCMD\")"
   ]
  },
  {
   "cell_type": "code",
   "execution_count": null,
   "metadata": {},
   "outputs": [],
   "source": [
    "step = 5\n",
    "chunks = [data_precision[x:x+step] for x in range(0, len(data_precision), step)]"
   ]
  },
  {
   "cell_type": "code",
   "execution_count": null,
   "metadata": {},
   "outputs": [],
   "source": [
    "len(chunks)"
   ]
  },
  {
   "cell_type": "code",
   "execution_count": null,
   "metadata": {},
   "outputs": [],
   "source": [
    "import time\n",
    "results = []\n",
    "for c in chunks:\n",
    "    res = processing.process_files(user=user, files=c, data_type=\"GC\", instrument=\"GCMD\")\n",
    "    results.append(res)"
   ]
  },
  {
   "cell_type": "code",
   "execution_count": null,
   "metadata": {},
   "outputs": [],
   "source": [
    "gc = GC.load()\n",
    "print(gc.datasources())\n"
   ]
  },
  {
   "cell_type": "code",
   "execution_count": null,
   "metadata": {},
   "outputs": [],
   "source": [
    "gc.clear_datasources()\n",
    "gc.save()"
   ]
  },
  {
   "cell_type": "code",
   "execution_count": null,
   "metadata": {},
   "outputs": [],
   "source": [
    "gc.datasources()"
   ]
  },
  {
   "cell_type": "code",
   "execution_count": null,
   "metadata": {},
   "outputs": [],
   "source": [
    "del gc"
   ]
  },
  {
   "cell_type": "code",
   "execution_count": null,
   "metadata": {},
   "outputs": [],
   "source": [
    "del gc2"
   ]
  },
  {
   "cell_type": "code",
   "execution_count": null,
   "metadata": {},
   "outputs": [],
   "source": [
    "gc = GC.load()"
   ]
  },
  {
   "cell_type": "code",
   "execution_count": null,
   "metadata": {},
   "outputs": [],
   "source": [
    "gc.datasources()"
   ]
  },
  {
   "cell_type": "markdown",
   "metadata": {},
   "source": [
    "Read all the GC data and upload"
   ]
  },
  {
   "cell_type": "code",
   "execution_count": null,
   "metadata": {},
   "outputs": [],
   "source": [
    "ten_meg = 10*1024*1024\n",
    "data_precison = []\n",
    "\n",
    "for p in precisions:\n",
    "\tparent = p.parents[0]\n",
    "\tdata_file = p.name.rstrip(\".precisions.C\")\n",
    "\tdata_file = data_file + \".C\"\n",
    "\t# Get a proper path\n",
    "\tdata_file = pathlib.Path(f\"{parent}/{data_file}\")\n",
    "\t\t\n",
    "\tif data_file.is_file() and os.path.getsize(data_file) < ten_meg:\n",
    "\t\tdata_precision.append((str(data_file), str(p)))\n",
    "\telse:\n",
    "\t\tprint(f\"{data_file} not found\")"
   ]
  }
 ],
 "metadata": {
  "kernelspec": {
   "display_name": "Python 3",
   "language": "python",
   "name": "python3"
  }
 },
 "nbformat": 4,
 "nbformat_minor": 2
}
