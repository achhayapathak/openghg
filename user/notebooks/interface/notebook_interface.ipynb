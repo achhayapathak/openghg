{
 "cells": [
  {
   "cell_type": "markdown",
   "metadata": {},
   "source": [
    "This notebook will be used to upload, search and plot using the HUGS Cloud platform"
   ]
  },
  {
   "cell_type": "code",
   "execution_count": null,
   "metadata": {},
   "outputs": [],
   "source": [
    "import os\n",
    "import sys\n",
    "from datetime import datetime\n",
    "sys.path.insert(0, \"../../..\")\n",
    "sys.path.insert(0, \"../../../../acquire\")\n",
    "\n",
    "from HUGS.Processing import search\n",
    "from HUGS.Client import Process, Search, Retrieve\n",
    "\n",
    "from Acquire.ObjectStore import datetime_to_string\n",
    "from Acquire.Client import User, Drive, Service, PAR, Authorisation, StorageCreds\n",
    "\n",
    "from bqplot import pyplot as plt\n",
    "from bqplot import DateScale, LinearScale, LogScale, Axis, Lines, Figure, Scatter\n",
    "from random import randint    \n",
    "\n",
    "from numpy import random as np_random\n",
    "import matplotlib.pyplot as plt\n",
    "import numpy as np\n",
    "from pandas import read_json as pd_read_json\n",
    "\n",
    "from ipywidgets import HBox, VBox"
   ]
  },
  {
   "cell_type": "code",
   "execution_count": null,
   "metadata": {},
   "outputs": [],
   "source": [
    "%matplotlib notebook"
   ]
  },
  {
   "cell_type": "code",
   "execution_count": null,
   "metadata": {},
   "outputs": [],
   "source": [
    "# Autoreload modules before executing code, useful during development\n",
    "%load_ext autoreload\n",
    "%autoreload 2"
   ]
  },
  {
   "cell_type": "markdown",
   "metadata": {},
   "source": [
    "## Login"
   ]
  },
  {
   "cell_type": "markdown",
   "metadata": {},
   "source": [
    "Login to the platform"
   ]
  },
  {
   "cell_type": "code",
   "execution_count": null,
   "metadata": {},
   "outputs": [
    {
     "name": "stdout",
     "output_type": "stream",
     "text": [
      "Login by visiting: https://login.acquire-aaai.com?id=a0-a6/30.25.5b.f7\n",
      "(please check that this page displays the message 'small sheep run quietly')\n"
     ]
    }
   ],
   "source": [
    "base_url = \"https://hugs.acquire-aaai.com/t\"\n",
    "user = User(username=\"gareth\", identity_url=F\"{base_url}/identity\")\n",
    "response = user.request_login()"
   ]
  },
  {
   "cell_type": "markdown",
   "metadata": {},
   "source": [
    "Check we've logged in successfully"
   ]
  },
  {
   "cell_type": "code",
   "execution_count": null,
   "metadata": {},
   "outputs": [
    {
     "data": {
      "text/plain": [
       "True"
      ]
     },
     "execution_count": null,
     "metadata": {},
     "output_type": "execute_result"
    }
   ],
   "source": [
    "user.wait_for_login()"
   ]
  },
  {
   "cell_type": "code",
   "execution_count": null,
   "metadata": {},
   "outputs": [],
   "source": []
  },
  {
   "cell_type": "markdown",
   "metadata": {},
   "source": [
    "## Upload"
   ]
  },
  {
   "cell_type": "markdown",
   "metadata": {},
   "source": [
    "First we want to upload the data to the cloud platform"
   ]
  },
  {
   "cell_type": "code",
   "execution_count": null,
   "metadata": {},
   "outputs": [],
   "source": [
    "# Helper function for test file paths\n",
    "def get_path(filename, data_type=\"CRDS\"):\n",
    "    dir_path = os.path.abspath(\"\")\n",
    "    test_data = f\"../../../test/data/proc_test_data/{data_type}\"\n",
    "    return os.path.join(dir_path, test_data, filename)"
   ]
  },
  {
   "cell_type": "markdown",
   "metadata": {},
   "source": [
    "Get a process object so we can send files to the platform"
   ]
  },
  {
   "cell_type": "code",
   "execution_count": null,
   "metadata": {},
   "outputs": [],
   "source": [
    "processing = Process(service_url=base_url)"
   ]
  },
  {
   "cell_type": "markdown",
   "metadata": {},
   "source": [
    "For the time being clear Datasources"
   ]
  },
  {
   "cell_type": "code",
   "execution_count": null,
   "metadata": {},
   "outputs": [],
   "source": [
    "hugs = Service(service_url=\"%s/hugs\" % base_url)\n",
    "# hugs.call_function(function=\"clear_datasources\", args={})"
   ]
  },
  {
   "cell_type": "markdown",
   "metadata": {},
   "source": [
    "Upload some data"
   ]
  },
  {
   "cell_type": "code",
   "execution_count": null,
   "metadata": {},
   "outputs": [],
   "source": [
    "bsd_file = get_path(\"bsd.picarro.1minute.248m.dat\", data_type=\"CRDS\")\n",
    "hfd_file = get_path(\"hfd.picarro.1minute.100m_min.dat\", data_type=\"CRDS\")\n",
    "\"\"\n",
    "result_bsd = processing.process_files(user=user, files=bsd_file, data_type=\"CRDS\", source_name=\"bsd.picarro.1minute.248m\")\n",
    "result_hfd = processing.process_files(user=user, files=hfd_file, data_type=\"CRDS\", source_name=\"hfd.picarro.1minute.100m_min\")"
   ]
  },
  {
   "cell_type": "code",
   "execution_count": null,
   "metadata": {},
   "outputs": [],
   "source": [
    "print(result_bsd, \"\\n\\n\", result_hfd)"
   ]
  },
  {
   "cell_type": "markdown",
   "metadata": {},
   "source": [
    "Get a search object"
   ]
  },
  {
   "cell_type": "code",
   "execution_count": null,
   "metadata": {},
   "outputs": [],
   "source": [
    "search = Search(service_url=base_url)"
   ]
  },
  {
   "cell_type": "code",
   "execution_count": null,
   "metadata": {},
   "outputs": [
    {
     "name": "stdout",
     "output_type": "stream",
     "text": [
      "['co'] []\n"
     ]
    }
   ],
   "source": [
    "start = datetime(1970, 1,1)\n",
    "end = datetime.now()\n",
    "\n",
    "search_terms = [\"co\"]\n",
    "search_locations = []\n",
    "data_type = \"CRDS\"\n",
    "\n",
    "search_results = search.search(search_terms=search_terms, locations=search_locations, \n",
    "                               data_type=data_type, start_datetime=start, end_datetime=end)\n"
   ]
  },
  {
   "cell_type": "code",
   "execution_count": null,
   "metadata": {},
   "outputs": [
    {
     "data": {
      "text/plain": [
       "{'bsd_co': ['data/uuid/0ad33eb6-00a6-4a41-9c7e-3d0c53bd7653/2014-01-30T10:52:30_2014-01-30T14:20:30'],\n",
       " 'hfd_co': ['data/uuid/6c43c43a-2621-464f-850d-bd073eb6d483/2013-12-04T14:02:30_2013-12-25T22:56:30',\n",
       "  'data/uuid/6c43c43a-2621-464f-850d-bd073eb6d483/2014-01-01T18:25:30_2014-12-28T08:02:30',\n",
       "  'data/uuid/6c43c43a-2621-464f-850d-bd073eb6d483/2015-01-04T17:22:30_2015-12-30T14:55:30',\n",
       "  'data/uuid/6c43c43a-2621-464f-850d-bd073eb6d483/2016-01-06T18:01:30_2016-12-29T02:17:30',\n",
       "  'data/uuid/6c43c43a-2621-464f-850d-bd073eb6d483/2017-01-01T19:56:30_2017-12-26T07:35:30',\n",
       "  'data/uuid/6c43c43a-2621-464f-850d-bd073eb6d483/2018-01-02T13:10:30_2018-12-30T10:12:30',\n",
       "  'data/uuid/6c43c43a-2621-464f-850d-bd073eb6d483/2019-01-06T11:02:30_2019-05-21T15:46:30']}"
      ]
     },
     "execution_count": null,
     "metadata": {},
     "output_type": "execute_result"
    }
   ],
   "source": [
    "search_results"
   ]
  },
  {
   "cell_type": "markdown",
   "metadata": {},
   "source": [
    "Get the keys we want "
   ]
  },
  {
   "cell_type": "code",
   "execution_count": null,
   "metadata": {},
   "outputs": [
    {
     "name": "stdout",
     "output_type": "stream",
     "text": [
      "['bsd_co', 'hfd_co']\n"
     ]
    }
   ],
   "source": [
    "print(list(search_results.keys()))"
   ]
  },
  {
   "cell_type": "markdown",
   "metadata": {},
   "source": [
    "The items stored at each key are the keys for the data"
   ]
  },
  {
   "cell_type": "code",
   "execution_count": null,
   "metadata": {},
   "outputs": [
    {
     "data": {
      "text/plain": [
       "['data/uuid/0ad33eb6-00a6-4a41-9c7e-3d0c53bd7653/2014-01-30T10:52:30_2014-01-30T14:20:30']"
      ]
     },
     "execution_count": null,
     "metadata": {},
     "output_type": "execute_result"
    }
   ],
   "source": [
    "search_results[\"bsd_co\"]"
   ]
  },
  {
   "cell_type": "markdown",
   "metadata": {},
   "source": [
    "Now create a list of the terms we want to download"
   ]
  },
  {
   "cell_type": "code",
   "execution_count": null,
   "metadata": {},
   "outputs": [],
   "source": [
    "to_download = [\"bsd_co\", \"hfd_co\"]"
   ]
  },
  {
   "cell_type": "markdown",
   "metadata": {},
   "source": [
    "Now we can (for now) pull this data from the object store for use"
   ]
  },
  {
   "cell_type": "code",
   "execution_count": null,
   "metadata": {},
   "outputs": [],
   "source": [
    "retrieve = Retrieve(service_url=base_url)"
   ]
  },
  {
   "cell_type": "code",
   "execution_count": null,
   "metadata": {},
   "outputs": [],
   "source": [
    "download_keys = {key: search_results[key] for key in to_download}"
   ]
  },
  {
   "cell_type": "code",
   "execution_count": null,
   "metadata": {},
   "outputs": [],
   "source": [
    "data = retrieve.retrieve(keys=download_keys)"
   ]
  },
  {
   "cell_type": "markdown",
   "metadata": {},
   "source": [
    "Create a list of DataFrames"
   ]
  },
  {
   "cell_type": "code",
   "execution_count": null,
   "metadata": {},
   "outputs": [],
   "source": [
    "# Should make this a HUGS function within Client ?\n",
    "def json_to_dataframe(data_dict):\n",
    "    dataframes = {}\n",
    "    for key in data_dict:\n",
    "        dataframes[key] = pd_read_json(data_dict[key])\n",
    "        \n",
    "    return dataframes\n",
    "\n",
    "def download_keys(key_dict, download_keys=None):\n",
    "    \"\"\"\n",
    "        Downloads the keys and converts the passed JSON data into Pandas DataFrames\n",
    "        \n",
    "        Args:\n",
    "            key_dict (dict): Dictionary keyed by site_searchterm containing the\n",
    "                             keys to access the data\n",
    "            download_keys (list, default=None): List of keys to download\n",
    "        Returns:\n",
    "            dict: Dictionary of DataFrames\n",
    "    \"\"\"\n",
    "    if download_keys:\n",
    "        download_keys = {key: search_results[key] for key in to_download}\n",
    "    else:\n",
    "        download_keys = key_dict\n",
    "    \n",
    "    return json_to_dataframe(retrieve.retrieve(keys=download_keys))    \n",
    "    "
   ]
  },
  {
   "cell_type": "markdown",
   "metadata": {},
   "source": [
    "Convert the data from JSON to DataFrames"
   ]
  },
  {
   "cell_type": "code",
   "execution_count": null,
   "metadata": {},
   "outputs": [],
   "source": [
    "dataframes = json_to_dataframe(data)"
   ]
  },
  {
   "cell_type": "markdown",
   "metadata": {},
   "source": [
    "## Plots"
   ]
  },
  {
   "cell_type": "markdown",
   "metadata": {},
   "source": [
    "Plot some time series using bqplot. Here we use their internal object model. It's also possible to use a more `matplotlib` like interface. See https://bqplot.readthedocs.io/en/latest/usage.html"
   ]
  },
  {
   "cell_type": "code",
   "execution_count": null,
   "metadata": {},
   "outputs": [
    {
     "data": {
      "application/vnd.jupyter.widget-view+json": {
       "model_id": "e0cc0eb1326542d6a621c43877f3e051",
       "version_major": 2,
       "version_minor": 0
      },
      "text/plain": [
       "Figure(animation_duration=1000, axes=[Axis(label='Date', scale=DateScale()), Axis(label='Count', orientation='…"
      ]
     },
     "metadata": {},
     "output_type": "display_data"
    }
   ],
   "source": [
    "x_scale = DateScale()\n",
    "y_scale = LinearScale()\n",
    "scales = {\"x\": x_scale, \"y\": y_scale}\n",
    "\n",
    "ax = Axis(label=\"Date\", scale=x_scale)\n",
    "ay = Axis(label=\"Count\", scale=y_scale, orientation=\"vertical\")\n",
    "\n",
    "bsd_data = dataframes[\"bsd_co\"]\n",
    "\n",
    "x_data = bsd_data.index\n",
    "y_data = bsd_data.iloc[:,0]\n",
    "\n",
    "scatter = Scatter(x=x_data, y=y_data, scales=scales)\n",
    "figure = Figure(marks=[scatter], axes=[ax, ay], animation_duration=1000)\n",
    "figure"
   ]
  },
  {
   "cell_type": "markdown",
   "metadata": {},
   "source": [
    "We can also just plot using `pandas` plotting inline"
   ]
  },
  {
   "cell_type": "code",
   "execution_count": null,
   "metadata": {},
   "outputs": [],
   "source": [
    "hfd_data = dataframes[\"hfd_co\"]"
   ]
  },
  {
   "cell_type": "code",
   "execution_count": null,
   "metadata": {},
   "outputs": [],
   "source": [
    "hfd_data[\"co count\"].plot()"
   ]
  },
  {
   "cell_type": "markdown",
   "metadata": {},
   "source": [
    "### Plot multiple compounds for a single site - with the option to overlay "
   ]
  },
  {
   "cell_type": "markdown",
   "metadata": {},
   "source": [
    "Get the data from multiple sites as we have with our search call above"
   ]
  },
  {
   "cell_type": "markdown",
   "metadata": {},
   "source": [
    "Plot the data from Bilsdale"
   ]
  },
  {
   "cell_type": "code",
   "execution_count": null,
   "metadata": {},
   "outputs": [],
   "source": [
    "bsd_terms = [\"bsd_co\", \"bsd_co2\"]\n",
    "bsd_keys = {key: search_results[key] for key in bsd_terms}\n",
    "bsd_data = json_to_dataframe(retrieve.retrieve(keys=bsd_keys))"
   ]
  },
  {
   "cell_type": "markdown",
   "metadata": {},
   "source": [
    "Now we can plot and compare the CO and CO2 data at Bilsdale"
   ]
  },
  {
   "cell_type": "code",
   "execution_count": null,
   "metadata": {},
   "outputs": [],
   "source": [
    "x_scale = DateScale()\n",
    "y_scale = LinearScale()\n",
    "scales = {\"x\": x_scale, \"y\": y_scale}\n",
    "\n",
    "ax = Axis(label=\"Date\", scale=x_scale)\n",
    "ay = Axis(label=\"Count\", scale=y_scale, orientation=\"vertical\")\n",
    "\n",
    "co_data = bsd_data[\"bsd_co\"]\n",
    "co2_data = bsd_data[\"bsd_co2\"]\n",
    "\n",
    "co_x_data = co_data.index\n",
    "co_y_data = co_data.iloc[:,0]\n",
    "\n",
    "co2_x_data = co2_data.index\n",
    "co2_y_data = co2_data.iloc[:,0]\n",
    "\n",
    "co_scatter = Scatter(x=co_x_data, y=co_y_data, scales=scales, colors=[\"LightGreen\"])\n",
    "co2_scatter = Scatter(x=co2_x_data, y=co2_y_data, scales=scales, colors=[\"steelblue\"])\n",
    "\n",
    "figure = Figure(marks=[co_scatter, co2_scatter], axes=[ax, ay], animation_duration=1000)\n",
    "figure\n",
    "\n"
   ]
  },
  {
   "cell_type": "markdown",
   "metadata": {},
   "source": [
    "### Plot multiple compounds form different sites - with the option to overlay "
   ]
  },
  {
   "cell_type": "code",
   "execution_count": null,
   "metadata": {},
   "outputs": [],
   "source": [
    "search_results.keys()"
   ]
  },
  {
   "cell_type": "code",
   "execution_count": null,
   "metadata": {},
   "outputs": [],
   "source": [
    "bsd_hfd_data = json_to_dataframe(retrieve.retrieve(keys=search_results))"
   ]
  },
  {
   "cell_type": "code",
   "execution_count": null,
   "metadata": {},
   "outputs": [],
   "source": [
    "bsd_hfd_data.keys()"
   ]
  },
  {
   "cell_type": "markdown",
   "metadata": {},
   "source": [
    "Upload some data from Tacolneston, `tac.picarro.1minute.100m.min.dat`"
   ]
  },
  {
   "cell_type": "code",
   "execution_count": null,
   "metadata": {},
   "outputs": [],
   "source": [
    "tac_file = get_path(\"tac.picarro.1minute.100m.min.dat\")\n",
    "result_tac = processing.process_files(user=user, files=tac_file, data_type=\"CRDS\")"
   ]
  },
  {
   "cell_type": "code",
   "execution_count": null,
   "metadata": {},
   "outputs": [],
   "source": [
    "result_tac"
   ]
  },
  {
   "cell_type": "markdown",
   "metadata": {},
   "source": [
    "Do a new search for the TAC and HFD data"
   ]
  },
  {
   "cell_type": "code",
   "execution_count": null,
   "metadata": {},
   "outputs": [],
   "source": [
    "start = datetime(1970, 1,1)\n",
    "end = datetime.now()\n",
    "\n",
    "search_terms = [\"ch4\", \"co2\"]\n",
    "search_locations = [\"tac\", \"hfd\"]\n",
    "data_type = \"CRDS\"\n",
    "\n",
    "search_results = search.search(search_terms=search_terms, locations=search_locations, \n",
    "                               data_type=data_type, start_datetime=start, end_datetime=end)"
   ]
  },
  {
   "cell_type": "code",
   "execution_count": null,
   "metadata": {},
   "outputs": [],
   "source": [
    "hfd_tac_data = download_keys(key_dict=search_results)"
   ]
  },
  {
   "cell_type": "code",
   "execution_count": null,
   "metadata": {},
   "outputs": [],
   "source": [
    "hfd_tac_data.keys()"
   ]
  },
  {
   "cell_type": "code",
   "execution_count": null,
   "metadata": {},
   "outputs": [],
   "source": [
    "ch4_scales = {\"x\": DateScale(), \"y\": LinearScale()}\n",
    "co2_scales = {\"x\": DateScale(), \"y\": LinearScale()}\n",
    "\n",
    "ax = Axis(label=\"Date\", scale=x_scale)\n",
    "ay = Axis(label=\"Count\", scale=y_scale, orientation=\"vertical\")\n",
    "\n",
    "tac_ch4_data = hfd_tac_data[\"tac_ch4\"]\n",
    "hfd_ch4_data = hfd_tac_data[\"hfd_ch4\"]\n",
    "\n",
    "tac_co2_data = hfd_tac_data[\"tac_co2\"]\n",
    "hfd_co2_data = hfd_tac_data[\"hfd_co2\"]\n",
    "\n",
    "tac_ch4_x = tac_ch4_data.index\n",
    "tac_ch4_y = tac_ch4_data[\"ch4 count\"]\n",
    "\n",
    "hfd_ch4_x = hfd_ch4_data.index\n",
    "hfd_ch4_y = hfd_ch4_data[\"ch4 count\"]\n",
    "\n",
    "tac_co2_x = tac_co2_data.index\n",
    "tac_co2_y = tac_co2_data[\"co2 count\"]\n",
    "\n",
    "hfd_co2_x = hfd_co2_data.index\n",
    "hfd_co2_y = hfd_co2_data[\"co2 count\"]\n",
    "\n",
    "# co_x_data = co_data.index\n",
    "# co_y_data = co_data.iloc[:,0]\n",
    "\n",
    "# co2_x_data = co2_data.index\n",
    "# co2_y_data = co2_data.iloc[:,0]\n",
    "\n",
    "tac_ch4_scatter = Lines(x=tac_ch4_x, y=tac_ch4_y, scales=ch4_scales, colors=[\"LightGreen\"])\n",
    "hfd_ch4_scatter = Lines(x=hfd_ch4_x, y=hfd_ch4_y, scales=ch4_scales, colors=[\"steelblue\"])\n",
    "\n",
    "tac_co2_scatter = Lines(x=tac_co2_x, y=tac_co2_y, scales=co2_scales, colors=[\"LightGreen\"])\n",
    "hfd_co2_scatter = Lines(x=hfd_co2_x, y=hfd_co2_y, scales=co2_scales, colors=[\"steelblue\"])\n",
    "\n",
    "ch4_figure = Figure(marks=[tac_ch4_scatter, hfd_ch4_scatter], axes=[ax, ay], animation_duration=1000, title=\"CH4\")\n",
    "co2_figure = Figure(marks=[tac_co2_scatter, hfd_co2_scatter], axes=[ax, ay], animation_duration=1000, title=\"CO2\")\n",
    "\n",
    "\n",
    "VBox(children=[ch4_figure, co2_figure])"
   ]
  },
  {
   "cell_type": "code",
   "execution_count": null,
   "metadata": {},
   "outputs": [],
   "source": []
  },
  {
   "cell_type": "markdown",
   "metadata": {},
   "source": [
    "# Upload some GC data and plot it\n",
    "### Here we'll upload from data from Capegrim"
   ]
  },
  {
   "cell_type": "code",
   "execution_count": null,
   "metadata": {},
   "outputs": [],
   "source": [
    "cape_data = get_path(\"capegrim-medusa.18.C\", data_type=\"GC\")\n",
    "cape_prec = get_path(\"capegrim-medusa.18.precisions.C\", data_type=\"GC\")\n",
    "\n",
    "cape_tup = cape_data, cape_prec\n",
    "\n",
    "trinidad_data = get_path(\"trinidadhead.01.C\", data_type=\"GC\")\n",
    "trinidad_prec = get_path(\"trinidadhead.01.precisions.C\", data_type=\"GC\")\n",
    "\n",
    "trinidad_tup = trinidad_data, trinidad_prec\n",
    "                          "
   ]
  },
  {
   "cell_type": "code",
   "execution_count": null,
   "metadata": {},
   "outputs": [],
   "source": [
    "result_cape = processing.process_files(user=user, files=cape_tup, data_type=\"GC\", source_name=\"capegrim-medusa.18\")"
   ]
  },
  {
   "cell_type": "code",
   "execution_count": null,
   "metadata": {},
   "outputs": [],
   "source": [
    "# result_trinidad = processing.process_files(user=user, files=trinidad_tup, data_type=\"GC\", source_name=\"trinidadhead.01\")"
   ]
  },
  {
   "cell_type": "code",
   "execution_count": null,
   "metadata": {},
   "outputs": [],
   "source": [
    "result_cape"
   ]
  },
  {
   "cell_type": "markdown",
   "metadata": {},
   "source": [
    "For the Capegrim file we should have 56 Datasources"
   ]
  },
  {
   "cell_type": "code",
   "execution_count": null,
   "metadata": {},
   "outputs": [],
   "source": [
    "print(len(result_cape[\"capegrim-medusa.18.C\"]))"
   ]
  },
  {
   "cell_type": "code",
   "execution_count": null,
   "metadata": {},
   "outputs": [
    {
     "name": "stdout",
     "output_type": "stream",
     "text": [
      "['H-2402', 'CH3Cl', 'CH2Cl2', 'HFC-152a'] []\n"
     ]
    }
   ],
   "source": [
    "start = datetime(1970, 1,1)\n",
    "end = datetime.now()\n",
    "\n",
    "search_terms = [\"H-2402\", \"CH3Cl\", \"CH2Cl2\", \"HFC-152a\"]\n",
    "search_locations = []\n",
    "data_type = \"GC\"\n",
    "\n",
    "search_results = search.search(search_terms=search_terms, locations=search_locations, \n",
    "                               data_type=data_type, start_datetime=start, end_datetime=end)"
   ]
  },
  {
   "cell_type": "code",
   "execution_count": null,
   "metadata": {},
   "outputs": [
    {
     "data": {
      "text/plain": [
       "{'capegrim_H-2402': ['data/uuid/e0244e53-5963-4b2e-962b-91f06cc13eb7/2018-01-01T02:24:00_2018-01-31T23:33:00'],\n",
       " 'capegrim_CH3Cl': ['data/uuid/2bcaaf3e-dc25-4c1e-9163-4195d2db1580/2018-01-01T02:24:00_2018-01-31T23:33:00'],\n",
       " 'capegrim_CH2Cl2': ['data/uuid/44d4d5cf-9bb4-463e-b43c-d980638f8752/2018-01-01T02:24:00_2018-01-31T23:33:00'],\n",
       " 'capegrim_HFC-152a': ['data/uuid/375a193f-7fe9-4473-9d4b-3edf28fbceba/2018-01-01T02:24:00_2018-01-31T23:33:00']}"
      ]
     },
     "execution_count": null,
     "metadata": {},
     "output_type": "execute_result"
    }
   ],
   "source": [
    "search_results"
   ]
  },
  {
   "cell_type": "code",
   "execution_count": null,
   "metadata": {},
   "outputs": [],
   "source": [
    "capegrim_data = download_keys(key_dict=search_results)"
   ]
  },
  {
   "cell_type": "code",
   "execution_count": null,
   "metadata": {},
   "outputs": [
    {
     "data": {
      "text/plain": [
       "{'capegrim_H-2402':                      H-2402  H-2402 repeatability  H-2402 status_flag  \\\n",
       " 2018-01-01 02:24:00   0.402               0.00416                   0   \n",
       " 2018-01-01 04:34:00   0.401               0.00416                   0   \n",
       " 2018-01-01 06:44:00   0.403               0.00416                   0   \n",
       " 2018-01-01 08:54:00   0.398               0.00416                   0   \n",
       " 2018-01-01 11:04:00   0.395               0.00416                   0   \n",
       " ...                     ...                   ...                 ...   \n",
       " 2018-01-31 14:53:00   0.400               0.00343                   0   \n",
       " 2018-01-31 17:03:00   0.397               0.00343                   0   \n",
       " 2018-01-31 19:13:00   0.392               0.00343                   0   \n",
       " 2018-01-31 21:23:00   0.393               0.00343                   0   \n",
       " 2018-01-31 23:33:00   0.393               0.00343                   0   \n",
       " \n",
       "                      H-2402 integration_flag  Inlet  \n",
       " 2018-01-01 02:24:00                        0  75m_4  \n",
       " 2018-01-01 04:34:00                        0  75m_4  \n",
       " 2018-01-01 06:44:00                        0  75m_4  \n",
       " 2018-01-01 08:54:00                        0  75m_4  \n",
       " 2018-01-01 11:04:00                        0  75m_4  \n",
       " ...                                      ...    ...  \n",
       " 2018-01-31 14:53:00                        0  75m_4  \n",
       " 2018-01-31 17:03:00                        0  75m_4  \n",
       " 2018-01-31 19:13:00                        0  75m_4  \n",
       " 2018-01-31 21:23:00                        0  75m_4  \n",
       " 2018-01-31 23:33:00                        0  75m_4  \n",
       " \n",
       " [282 rows x 5 columns],\n",
       " 'capegrim_CH3Cl':                        CH3Cl  CH3Cl repeatability  CH3Cl status_flag  \\\n",
       " 2018-01-01 02:24:00  518.018              1.14803                  0   \n",
       " 2018-01-01 04:34:00  515.714              1.14803                  0   \n",
       " 2018-01-01 06:44:00  513.870              1.14803                  0   \n",
       " 2018-01-01 08:54:00  514.856              1.14803                  0   \n",
       " 2018-01-01 11:04:00  515.170              1.14803                  0   \n",
       " ...                      ...                  ...                ...   \n",
       " 2018-01-31 12:43:00  548.644              1.26603                  0   \n",
       " 2018-01-31 17:03:00  556.600              1.26603                  0   \n",
       " 2018-01-31 19:13:00  549.028              1.26603                  0   \n",
       " 2018-01-31 21:23:00  552.424              1.26603                  0   \n",
       " 2018-01-31 23:33:00  537.156              1.26603                  0   \n",
       " \n",
       "                      CH3Cl integration_flag  Inlet  \n",
       " 2018-01-01 02:24:00                       0  75m_4  \n",
       " 2018-01-01 04:34:00                       0  75m_4  \n",
       " 2018-01-01 06:44:00                       0  75m_4  \n",
       " 2018-01-01 08:54:00                       0  75m_4  \n",
       " 2018-01-01 11:04:00                       0  75m_4  \n",
       " ...                                     ...    ...  \n",
       " 2018-01-31 12:43:00                       0  75m_4  \n",
       " 2018-01-31 17:03:00                       0  75m_4  \n",
       " 2018-01-31 19:13:00                       0  75m_4  \n",
       " 2018-01-31 21:23:00                       0  75m_4  \n",
       " 2018-01-31 23:33:00                       0  75m_4  \n",
       " \n",
       " [272 rows x 5 columns],\n",
       " 'capegrim_CH2Cl2':                      CH2Cl2  CH2Cl2 repeatability  CH2Cl2 status_flag  \\\n",
       " 2018-01-01 02:24:00  14.539               0.12787                   0   \n",
       " 2018-01-01 04:34:00  14.350               0.12787                   0   \n",
       " 2018-01-01 06:44:00  14.359               0.12787                   0   \n",
       " 2018-01-01 08:54:00  14.348               0.12787                   0   \n",
       " 2018-01-01 11:04:00  14.275               0.12787                   0   \n",
       " ...                     ...                   ...                 ...   \n",
       " 2018-01-31 14:53:00  13.479               0.17458                   0   \n",
       " 2018-01-31 17:03:00  13.606               0.17458                   0   \n",
       " 2018-01-31 19:13:00  13.524               0.17458                   0   \n",
       " 2018-01-31 21:23:00  13.380               0.17458                   0   \n",
       " 2018-01-31 23:33:00  13.296               0.17458                   0   \n",
       " \n",
       "                      CH2Cl2 integration_flag  Inlet  \n",
       " 2018-01-01 02:24:00                        0  75m_4  \n",
       " 2018-01-01 04:34:00                        0  75m_4  \n",
       " 2018-01-01 06:44:00                        0  75m_4  \n",
       " 2018-01-01 08:54:00                        0  75m_4  \n",
       " 2018-01-01 11:04:00                        0  75m_4  \n",
       " ...                                      ...    ...  \n",
       " 2018-01-31 14:53:00                        0  75m_4  \n",
       " 2018-01-31 17:03:00                        0  75m_4  \n",
       " 2018-01-31 19:13:00                        0  75m_4  \n",
       " 2018-01-31 21:23:00                        0  75m_4  \n",
       " 2018-01-31 23:33:00                        0  75m_4  \n",
       " \n",
       " [286 rows x 5 columns],\n",
       " 'capegrim_HFC-152a':                      HFC-152a  HFC-152a repeatability  HFC-152a status_flag  \\\n",
       " 2018-01-01 02:24:00     4.409                 0.03557                     0   \n",
       " 2018-01-01 04:34:00     4.368                 0.03557                     0   \n",
       " 2018-01-01 06:44:00     4.354                 0.03557                     0   \n",
       " 2018-01-01 08:54:00     4.403                 0.03557                     0   \n",
       " 2018-01-01 11:04:00     4.345                 0.03557                     0   \n",
       " ...                       ...                     ...                   ...   \n",
       " 2018-01-31 14:53:00     4.293                 0.03271                     0   \n",
       " 2018-01-31 17:03:00     4.348                 0.03271                     0   \n",
       " 2018-01-31 19:13:00     4.340                 0.03271                     0   \n",
       " 2018-01-31 21:23:00     4.376                 0.03271                     0   \n",
       " 2018-01-31 23:33:00     4.262                 0.03271                     0   \n",
       " \n",
       "                      HFC-152a integration_flag  Inlet  \n",
       " 2018-01-01 02:24:00                          0  75m_4  \n",
       " 2018-01-01 04:34:00                          0  75m_4  \n",
       " 2018-01-01 06:44:00                          0  75m_4  \n",
       " 2018-01-01 08:54:00                          0  75m_4  \n",
       " 2018-01-01 11:04:00                          0  75m_4  \n",
       " ...                                        ...    ...  \n",
       " 2018-01-31 14:53:00                          0  75m_4  \n",
       " 2018-01-31 17:03:00                          0  75m_4  \n",
       " 2018-01-31 19:13:00                          0  75m_4  \n",
       " 2018-01-31 21:23:00                          0  75m_4  \n",
       " 2018-01-31 23:33:00                          0  75m_4  \n",
       " \n",
       " [283 rows x 5 columns]}"
      ]
     },
     "execution_count": null,
     "metadata": {},
     "output_type": "execute_result"
    }
   ],
   "source": [
    "capegrim_data"
   ]
  },
  {
   "cell_type": "code",
   "execution_count": null,
   "metadata": {},
   "outputs": [],
   "source": [
    "H2402_data = capegrim_data[\"capegrim_H-2402\"][\"H-2402\"]"
   ]
  },
  {
   "cell_type": "code",
   "execution_count": null,
   "metadata": {},
   "outputs": [],
   "source": [
    "H2402_data = capegrim_data[\"capegrim_H-2402\"][\"H-2402\"]\n",
    "CH3Cl_data = capegrim_data[\"capegrim_CH3Cl\"][\"CH3Cl\"]\n",
    "CH2Cl2_data = capegrim_data[\"capegrim_CH2Cl2\"][\"CH2Cl2\"]\n",
    "HFC152a_data = capegrim_data[\"capegrim_HFC-152a\"][\"HFC-152a\"]"
   ]
  },
  {
   "cell_type": "code",
   "execution_count": null,
   "metadata": {},
   "outputs": [
    {
     "data": {
      "application/javascript": [
       "/* Put everything inside the global mpl namespace */\n",
       "window.mpl = {};\n",
       "\n",
       "\n",
       "mpl.get_websocket_type = function() {\n",
       "    if (typeof(WebSocket) !== 'undefined') {\n",
       "        return WebSocket;\n",
       "    } else if (typeof(MozWebSocket) !== 'undefined') {\n",
       "        return MozWebSocket;\n",
       "    } else {\n",
       "        alert('Your browser does not have WebSocket support. ' +\n",
       "              'Please try Chrome, Safari or Firefox ≥ 6. ' +\n",
       "              'Firefox 4 and 5 are also supported but you ' +\n",
       "              'have to enable WebSockets in about:config.');\n",
       "    };\n",
       "}\n",
       "\n",
       "mpl.figure = function(figure_id, websocket, ondownload, parent_element) {\n",
       "    this.id = figure_id;\n",
       "\n",
       "    this.ws = websocket;\n",
       "\n",
       "    this.supports_binary = (this.ws.binaryType != undefined);\n",
       "\n",
       "    if (!this.supports_binary) {\n",
       "        var warnings = document.getElementById(\"mpl-warnings\");\n",
       "        if (warnings) {\n",
       "            warnings.style.display = 'block';\n",
       "            warnings.textContent = (\n",
       "                \"This browser does not support binary websocket messages. \" +\n",
       "                    \"Performance may be slow.\");\n",
       "        }\n",
       "    }\n",
       "\n",
       "    this.imageObj = new Image();\n",
       "\n",
       "    this.context = undefined;\n",
       "    this.message = undefined;\n",
       "    this.canvas = undefined;\n",
       "    this.rubberband_canvas = undefined;\n",
       "    this.rubberband_context = undefined;\n",
       "    this.format_dropdown = undefined;\n",
       "\n",
       "    this.image_mode = 'full';\n",
       "\n",
       "    this.root = $('<div/>');\n",
       "    this._root_extra_style(this.root)\n",
       "    this.root.attr('style', 'display: inline-block');\n",
       "\n",
       "    $(parent_element).append(this.root);\n",
       "\n",
       "    this._init_header(this);\n",
       "    this._init_canvas(this);\n",
       "    this._init_toolbar(this);\n",
       "\n",
       "    var fig = this;\n",
       "\n",
       "    this.waiting = false;\n",
       "\n",
       "    this.ws.onopen =  function () {\n",
       "            fig.send_message(\"supports_binary\", {value: fig.supports_binary});\n",
       "            fig.send_message(\"send_image_mode\", {});\n",
       "            if (mpl.ratio != 1) {\n",
       "                fig.send_message(\"set_dpi_ratio\", {'dpi_ratio': mpl.ratio});\n",
       "            }\n",
       "            fig.send_message(\"refresh\", {});\n",
       "        }\n",
       "\n",
       "    this.imageObj.onload = function() {\n",
       "            if (fig.image_mode == 'full') {\n",
       "                // Full images could contain transparency (where diff images\n",
       "                // almost always do), so we need to clear the canvas so that\n",
       "                // there is no ghosting.\n",
       "                fig.context.clearRect(0, 0, fig.canvas.width, fig.canvas.height);\n",
       "            }\n",
       "            fig.context.drawImage(fig.imageObj, 0, 0);\n",
       "        };\n",
       "\n",
       "    this.imageObj.onunload = function() {\n",
       "        fig.ws.close();\n",
       "    }\n",
       "\n",
       "    this.ws.onmessage = this._make_on_message_function(this);\n",
       "\n",
       "    this.ondownload = ondownload;\n",
       "}\n",
       "\n",
       "mpl.figure.prototype._init_header = function() {\n",
       "    var titlebar = $(\n",
       "        '<div class=\"ui-dialog-titlebar ui-widget-header ui-corner-all ' +\n",
       "        'ui-helper-clearfix\"/>');\n",
       "    var titletext = $(\n",
       "        '<div class=\"ui-dialog-title\" style=\"width: 100%; ' +\n",
       "        'text-align: center; padding: 3px;\"/>');\n",
       "    titlebar.append(titletext)\n",
       "    this.root.append(titlebar);\n",
       "    this.header = titletext[0];\n",
       "}\n",
       "\n",
       "\n",
       "\n",
       "mpl.figure.prototype._canvas_extra_style = function(canvas_div) {\n",
       "\n",
       "}\n",
       "\n",
       "\n",
       "mpl.figure.prototype._root_extra_style = function(canvas_div) {\n",
       "\n",
       "}\n",
       "\n",
       "mpl.figure.prototype._init_canvas = function() {\n",
       "    var fig = this;\n",
       "\n",
       "    var canvas_div = $('<div/>');\n",
       "\n",
       "    canvas_div.attr('style', 'position: relative; clear: both; outline: 0');\n",
       "\n",
       "    function canvas_keyboard_event(event) {\n",
       "        return fig.key_event(event, event['data']);\n",
       "    }\n",
       "\n",
       "    canvas_div.keydown('key_press', canvas_keyboard_event);\n",
       "    canvas_div.keyup('key_release', canvas_keyboard_event);\n",
       "    this.canvas_div = canvas_div\n",
       "    this._canvas_extra_style(canvas_div)\n",
       "    this.root.append(canvas_div);\n",
       "\n",
       "    var canvas = $('<canvas/>');\n",
       "    canvas.addClass('mpl-canvas');\n",
       "    canvas.attr('style', \"left: 0; top: 0; z-index: 0; outline: 0\")\n",
       "\n",
       "    this.canvas = canvas[0];\n",
       "    this.context = canvas[0].getContext(\"2d\");\n",
       "\n",
       "    var backingStore = this.context.backingStorePixelRatio ||\n",
       "\tthis.context.webkitBackingStorePixelRatio ||\n",
       "\tthis.context.mozBackingStorePixelRatio ||\n",
       "\tthis.context.msBackingStorePixelRatio ||\n",
       "\tthis.context.oBackingStorePixelRatio ||\n",
       "\tthis.context.backingStorePixelRatio || 1;\n",
       "\n",
       "    mpl.ratio = (window.devicePixelRatio || 1) / backingStore;\n",
       "\n",
       "    var rubberband = $('<canvas/>');\n",
       "    rubberband.attr('style', \"position: absolute; left: 0; top: 0; z-index: 1;\")\n",
       "\n",
       "    var pass_mouse_events = true;\n",
       "\n",
       "    canvas_div.resizable({\n",
       "        start: function(event, ui) {\n",
       "            pass_mouse_events = false;\n",
       "        },\n",
       "        resize: function(event, ui) {\n",
       "            fig.request_resize(ui.size.width, ui.size.height);\n",
       "        },\n",
       "        stop: function(event, ui) {\n",
       "            pass_mouse_events = true;\n",
       "            fig.request_resize(ui.size.width, ui.size.height);\n",
       "        },\n",
       "    });\n",
       "\n",
       "    function mouse_event_fn(event) {\n",
       "        if (pass_mouse_events)\n",
       "            return fig.mouse_event(event, event['data']);\n",
       "    }\n",
       "\n",
       "    rubberband.mousedown('button_press', mouse_event_fn);\n",
       "    rubberband.mouseup('button_release', mouse_event_fn);\n",
       "    // Throttle sequential mouse events to 1 every 20ms.\n",
       "    rubberband.mousemove('motion_notify', mouse_event_fn);\n",
       "\n",
       "    rubberband.mouseenter('figure_enter', mouse_event_fn);\n",
       "    rubberband.mouseleave('figure_leave', mouse_event_fn);\n",
       "\n",
       "    canvas_div.on(\"wheel\", function (event) {\n",
       "        event = event.originalEvent;\n",
       "        event['data'] = 'scroll'\n",
       "        if (event.deltaY < 0) {\n",
       "            event.step = 1;\n",
       "        } else {\n",
       "            event.step = -1;\n",
       "        }\n",
       "        mouse_event_fn(event);\n",
       "    });\n",
       "\n",
       "    canvas_div.append(canvas);\n",
       "    canvas_div.append(rubberband);\n",
       "\n",
       "    this.rubberband = rubberband;\n",
       "    this.rubberband_canvas = rubberband[0];\n",
       "    this.rubberband_context = rubberband[0].getContext(\"2d\");\n",
       "    this.rubberband_context.strokeStyle = \"#000000\";\n",
       "\n",
       "    this._resize_canvas = function(width, height) {\n",
       "        // Keep the size of the canvas, canvas container, and rubber band\n",
       "        // canvas in synch.\n",
       "        canvas_div.css('width', width)\n",
       "        canvas_div.css('height', height)\n",
       "\n",
       "        canvas.attr('width', width * mpl.ratio);\n",
       "        canvas.attr('height', height * mpl.ratio);\n",
       "        canvas.attr('style', 'width: ' + width + 'px; height: ' + height + 'px;');\n",
       "\n",
       "        rubberband.attr('width', width);\n",
       "        rubberband.attr('height', height);\n",
       "    }\n",
       "\n",
       "    // Set the figure to an initial 600x600px, this will subsequently be updated\n",
       "    // upon first draw.\n",
       "    this._resize_canvas(600, 600);\n",
       "\n",
       "    // Disable right mouse context menu.\n",
       "    $(this.rubberband_canvas).bind(\"contextmenu\",function(e){\n",
       "        return false;\n",
       "    });\n",
       "\n",
       "    function set_focus () {\n",
       "        canvas.focus();\n",
       "        canvas_div.focus();\n",
       "    }\n",
       "\n",
       "    window.setTimeout(set_focus, 100);\n",
       "}\n",
       "\n",
       "mpl.figure.prototype._init_toolbar = function() {\n",
       "    var fig = this;\n",
       "\n",
       "    var nav_element = $('<div/>');\n",
       "    nav_element.attr('style', 'width: 100%');\n",
       "    this.root.append(nav_element);\n",
       "\n",
       "    // Define a callback function for later on.\n",
       "    function toolbar_event(event) {\n",
       "        return fig.toolbar_button_onclick(event['data']);\n",
       "    }\n",
       "    function toolbar_mouse_event(event) {\n",
       "        return fig.toolbar_button_onmouseover(event['data']);\n",
       "    }\n",
       "\n",
       "    for(var toolbar_ind in mpl.toolbar_items) {\n",
       "        var name = mpl.toolbar_items[toolbar_ind][0];\n",
       "        var tooltip = mpl.toolbar_items[toolbar_ind][1];\n",
       "        var image = mpl.toolbar_items[toolbar_ind][2];\n",
       "        var method_name = mpl.toolbar_items[toolbar_ind][3];\n",
       "\n",
       "        if (!name) {\n",
       "            // put a spacer in here.\n",
       "            continue;\n",
       "        }\n",
       "        var button = $('<button/>');\n",
       "        button.addClass('ui-button ui-widget ui-state-default ui-corner-all ' +\n",
       "                        'ui-button-icon-only');\n",
       "        button.attr('role', 'button');\n",
       "        button.attr('aria-disabled', 'false');\n",
       "        button.click(method_name, toolbar_event);\n",
       "        button.mouseover(tooltip, toolbar_mouse_event);\n",
       "\n",
       "        var icon_img = $('<span/>');\n",
       "        icon_img.addClass('ui-button-icon-primary ui-icon');\n",
       "        icon_img.addClass(image);\n",
       "        icon_img.addClass('ui-corner-all');\n",
       "\n",
       "        var tooltip_span = $('<span/>');\n",
       "        tooltip_span.addClass('ui-button-text');\n",
       "        tooltip_span.html(tooltip);\n",
       "\n",
       "        button.append(icon_img);\n",
       "        button.append(tooltip_span);\n",
       "\n",
       "        nav_element.append(button);\n",
       "    }\n",
       "\n",
       "    var fmt_picker_span = $('<span/>');\n",
       "\n",
       "    var fmt_picker = $('<select/>');\n",
       "    fmt_picker.addClass('mpl-toolbar-option ui-widget ui-widget-content');\n",
       "    fmt_picker_span.append(fmt_picker);\n",
       "    nav_element.append(fmt_picker_span);\n",
       "    this.format_dropdown = fmt_picker[0];\n",
       "\n",
       "    for (var ind in mpl.extensions) {\n",
       "        var fmt = mpl.extensions[ind];\n",
       "        var option = $(\n",
       "            '<option/>', {selected: fmt === mpl.default_extension}).html(fmt);\n",
       "        fmt_picker.append(option);\n",
       "    }\n",
       "\n",
       "    // Add hover states to the ui-buttons\n",
       "    $( \".ui-button\" ).hover(\n",
       "        function() { $(this).addClass(\"ui-state-hover\");},\n",
       "        function() { $(this).removeClass(\"ui-state-hover\");}\n",
       "    );\n",
       "\n",
       "    var status_bar = $('<span class=\"mpl-message\"/>');\n",
       "    nav_element.append(status_bar);\n",
       "    this.message = status_bar[0];\n",
       "}\n",
       "\n",
       "mpl.figure.prototype.request_resize = function(x_pixels, y_pixels) {\n",
       "    // Request matplotlib to resize the figure. Matplotlib will then trigger a resize in the client,\n",
       "    // which will in turn request a refresh of the image.\n",
       "    this.send_message('resize', {'width': x_pixels, 'height': y_pixels});\n",
       "}\n",
       "\n",
       "mpl.figure.prototype.send_message = function(type, properties) {\n",
       "    properties['type'] = type;\n",
       "    properties['figure_id'] = this.id;\n",
       "    this.ws.send(JSON.stringify(properties));\n",
       "}\n",
       "\n",
       "mpl.figure.prototype.send_draw_message = function() {\n",
       "    if (!this.waiting) {\n",
       "        this.waiting = true;\n",
       "        this.ws.send(JSON.stringify({type: \"draw\", figure_id: this.id}));\n",
       "    }\n",
       "}\n",
       "\n",
       "\n",
       "mpl.figure.prototype.handle_save = function(fig, msg) {\n",
       "    var format_dropdown = fig.format_dropdown;\n",
       "    var format = format_dropdown.options[format_dropdown.selectedIndex].value;\n",
       "    fig.ondownload(fig, format);\n",
       "}\n",
       "\n",
       "\n",
       "mpl.figure.prototype.handle_resize = function(fig, msg) {\n",
       "    var size = msg['size'];\n",
       "    if (size[0] != fig.canvas.width || size[1] != fig.canvas.height) {\n",
       "        fig._resize_canvas(size[0], size[1]);\n",
       "        fig.send_message(\"refresh\", {});\n",
       "    };\n",
       "}\n",
       "\n",
       "mpl.figure.prototype.handle_rubberband = function(fig, msg) {\n",
       "    var x0 = msg['x0'] / mpl.ratio;\n",
       "    var y0 = (fig.canvas.height - msg['y0']) / mpl.ratio;\n",
       "    var x1 = msg['x1'] / mpl.ratio;\n",
       "    var y1 = (fig.canvas.height - msg['y1']) / mpl.ratio;\n",
       "    x0 = Math.floor(x0) + 0.5;\n",
       "    y0 = Math.floor(y0) + 0.5;\n",
       "    x1 = Math.floor(x1) + 0.5;\n",
       "    y1 = Math.floor(y1) + 0.5;\n",
       "    var min_x = Math.min(x0, x1);\n",
       "    var min_y = Math.min(y0, y1);\n",
       "    var width = Math.abs(x1 - x0);\n",
       "    var height = Math.abs(y1 - y0);\n",
       "\n",
       "    fig.rubberband_context.clearRect(\n",
       "        0, 0, fig.canvas.width / mpl.ratio, fig.canvas.height / mpl.ratio);\n",
       "\n",
       "    fig.rubberband_context.strokeRect(min_x, min_y, width, height);\n",
       "}\n",
       "\n",
       "mpl.figure.prototype.handle_figure_label = function(fig, msg) {\n",
       "    // Updates the figure title.\n",
       "    fig.header.textContent = msg['label'];\n",
       "}\n",
       "\n",
       "mpl.figure.prototype.handle_cursor = function(fig, msg) {\n",
       "    var cursor = msg['cursor'];\n",
       "    switch(cursor)\n",
       "    {\n",
       "    case 0:\n",
       "        cursor = 'pointer';\n",
       "        break;\n",
       "    case 1:\n",
       "        cursor = 'default';\n",
       "        break;\n",
       "    case 2:\n",
       "        cursor = 'crosshair';\n",
       "        break;\n",
       "    case 3:\n",
       "        cursor = 'move';\n",
       "        break;\n",
       "    }\n",
       "    fig.rubberband_canvas.style.cursor = cursor;\n",
       "}\n",
       "\n",
       "mpl.figure.prototype.handle_message = function(fig, msg) {\n",
       "    fig.message.textContent = msg['message'];\n",
       "}\n",
       "\n",
       "mpl.figure.prototype.handle_draw = function(fig, msg) {\n",
       "    // Request the server to send over a new figure.\n",
       "    fig.send_draw_message();\n",
       "}\n",
       "\n",
       "mpl.figure.prototype.handle_image_mode = function(fig, msg) {\n",
       "    fig.image_mode = msg['mode'];\n",
       "}\n",
       "\n",
       "mpl.figure.prototype.updated_canvas_event = function() {\n",
       "    // Called whenever the canvas gets updated.\n",
       "    this.send_message(\"ack\", {});\n",
       "}\n",
       "\n",
       "// A function to construct a web socket function for onmessage handling.\n",
       "// Called in the figure constructor.\n",
       "mpl.figure.prototype._make_on_message_function = function(fig) {\n",
       "    return function socket_on_message(evt) {\n",
       "        if (evt.data instanceof Blob) {\n",
       "            /* FIXME: We get \"Resource interpreted as Image but\n",
       "             * transferred with MIME type text/plain:\" errors on\n",
       "             * Chrome.  But how to set the MIME type?  It doesn't seem\n",
       "             * to be part of the websocket stream */\n",
       "            evt.data.type = \"image/png\";\n",
       "\n",
       "            /* Free the memory for the previous frames */\n",
       "            if (fig.imageObj.src) {\n",
       "                (window.URL || window.webkitURL).revokeObjectURL(\n",
       "                    fig.imageObj.src);\n",
       "            }\n",
       "\n",
       "            fig.imageObj.src = (window.URL || window.webkitURL).createObjectURL(\n",
       "                evt.data);\n",
       "            fig.updated_canvas_event();\n",
       "            fig.waiting = false;\n",
       "            return;\n",
       "        }\n",
       "        else if (typeof evt.data === 'string' && evt.data.slice(0, 21) == \"data:image/png;base64\") {\n",
       "            fig.imageObj.src = evt.data;\n",
       "            fig.updated_canvas_event();\n",
       "            fig.waiting = false;\n",
       "            return;\n",
       "        }\n",
       "\n",
       "        var msg = JSON.parse(evt.data);\n",
       "        var msg_type = msg['type'];\n",
       "\n",
       "        // Call the  \"handle_{type}\" callback, which takes\n",
       "        // the figure and JSON message as its only arguments.\n",
       "        try {\n",
       "            var callback = fig[\"handle_\" + msg_type];\n",
       "        } catch (e) {\n",
       "            console.log(\"No handler for the '\" + msg_type + \"' message type: \", msg);\n",
       "            return;\n",
       "        }\n",
       "\n",
       "        if (callback) {\n",
       "            try {\n",
       "                // console.log(\"Handling '\" + msg_type + \"' message: \", msg);\n",
       "                callback(fig, msg);\n",
       "            } catch (e) {\n",
       "                console.log(\"Exception inside the 'handler_\" + msg_type + \"' callback:\", e, e.stack, msg);\n",
       "            }\n",
       "        }\n",
       "    };\n",
       "}\n",
       "\n",
       "// from http://stackoverflow.com/questions/1114465/getting-mouse-location-in-canvas\n",
       "mpl.findpos = function(e) {\n",
       "    //this section is from http://www.quirksmode.org/js/events_properties.html\n",
       "    var targ;\n",
       "    if (!e)\n",
       "        e = window.event;\n",
       "    if (e.target)\n",
       "        targ = e.target;\n",
       "    else if (e.srcElement)\n",
       "        targ = e.srcElement;\n",
       "    if (targ.nodeType == 3) // defeat Safari bug\n",
       "        targ = targ.parentNode;\n",
       "\n",
       "    // jQuery normalizes the pageX and pageY\n",
       "    // pageX,Y are the mouse positions relative to the document\n",
       "    // offset() returns the position of the element relative to the document\n",
       "    var x = e.pageX - $(targ).offset().left;\n",
       "    var y = e.pageY - $(targ).offset().top;\n",
       "\n",
       "    return {\"x\": x, \"y\": y};\n",
       "};\n",
       "\n",
       "/*\n",
       " * return a copy of an object with only non-object keys\n",
       " * we need this to avoid circular references\n",
       " * http://stackoverflow.com/a/24161582/3208463\n",
       " */\n",
       "function simpleKeys (original) {\n",
       "  return Object.keys(original).reduce(function (obj, key) {\n",
       "    if (typeof original[key] !== 'object')\n",
       "        obj[key] = original[key]\n",
       "    return obj;\n",
       "  }, {});\n",
       "}\n",
       "\n",
       "mpl.figure.prototype.mouse_event = function(event, name) {\n",
       "    var canvas_pos = mpl.findpos(event)\n",
       "\n",
       "    if (name === 'button_press')\n",
       "    {\n",
       "        this.canvas.focus();\n",
       "        this.canvas_div.focus();\n",
       "    }\n",
       "\n",
       "    var x = canvas_pos.x * mpl.ratio;\n",
       "    var y = canvas_pos.y * mpl.ratio;\n",
       "\n",
       "    this.send_message(name, {x: x, y: y, button: event.button,\n",
       "                             step: event.step,\n",
       "                             guiEvent: simpleKeys(event)});\n",
       "\n",
       "    /* This prevents the web browser from automatically changing to\n",
       "     * the text insertion cursor when the button is pressed.  We want\n",
       "     * to control all of the cursor setting manually through the\n",
       "     * 'cursor' event from matplotlib */\n",
       "    event.preventDefault();\n",
       "    return false;\n",
       "}\n",
       "\n",
       "mpl.figure.prototype._key_event_extra = function(event, name) {\n",
       "    // Handle any extra behaviour associated with a key event\n",
       "}\n",
       "\n",
       "mpl.figure.prototype.key_event = function(event, name) {\n",
       "\n",
       "    // Prevent repeat events\n",
       "    if (name == 'key_press')\n",
       "    {\n",
       "        if (event.which === this._key)\n",
       "            return;\n",
       "        else\n",
       "            this._key = event.which;\n",
       "    }\n",
       "    if (name == 'key_release')\n",
       "        this._key = null;\n",
       "\n",
       "    var value = '';\n",
       "    if (event.ctrlKey && event.which != 17)\n",
       "        value += \"ctrl+\";\n",
       "    if (event.altKey && event.which != 18)\n",
       "        value += \"alt+\";\n",
       "    if (event.shiftKey && event.which != 16)\n",
       "        value += \"shift+\";\n",
       "\n",
       "    value += 'k';\n",
       "    value += event.which.toString();\n",
       "\n",
       "    this._key_event_extra(event, name);\n",
       "\n",
       "    this.send_message(name, {key: value,\n",
       "                             guiEvent: simpleKeys(event)});\n",
       "    return false;\n",
       "}\n",
       "\n",
       "mpl.figure.prototype.toolbar_button_onclick = function(name) {\n",
       "    if (name == 'download') {\n",
       "        this.handle_save(this, null);\n",
       "    } else {\n",
       "        this.send_message(\"toolbar_button\", {name: name});\n",
       "    }\n",
       "};\n",
       "\n",
       "mpl.figure.prototype.toolbar_button_onmouseover = function(tooltip) {\n",
       "    this.message.textContent = tooltip;\n",
       "};\n",
       "mpl.toolbar_items = [[\"Home\", \"Reset original view\", \"fa fa-home icon-home\", \"home\"], [\"Back\", \"Back to previous view\", \"fa fa-arrow-left icon-arrow-left\", \"back\"], [\"Forward\", \"Forward to next view\", \"fa fa-arrow-right icon-arrow-right\", \"forward\"], [\"\", \"\", \"\", \"\"], [\"Pan\", \"Pan axes with left mouse, zoom with right\", \"fa fa-arrows icon-move\", \"pan\"], [\"Zoom\", \"Zoom to rectangle\", \"fa fa-square-o icon-check-empty\", \"zoom\"], [\"\", \"\", \"\", \"\"], [\"Download\", \"Download plot\", \"fa fa-floppy-o icon-save\", \"download\"]];\n",
       "\n",
       "mpl.extensions = [\"eps\", \"jpeg\", \"pdf\", \"png\", \"ps\", \"raw\", \"svg\", \"tif\"];\n",
       "\n",
       "mpl.default_extension = \"png\";var comm_websocket_adapter = function(comm) {\n",
       "    // Create a \"websocket\"-like object which calls the given IPython comm\n",
       "    // object with the appropriate methods. Currently this is a non binary\n",
       "    // socket, so there is still some room for performance tuning.\n",
       "    var ws = {};\n",
       "\n",
       "    ws.close = function() {\n",
       "        comm.close()\n",
       "    };\n",
       "    ws.send = function(m) {\n",
       "        //console.log('sending', m);\n",
       "        comm.send(m);\n",
       "    };\n",
       "    // Register the callback with on_msg.\n",
       "    comm.on_msg(function(msg) {\n",
       "        //console.log('receiving', msg['content']['data'], msg);\n",
       "        // Pass the mpl event to the overridden (by mpl) onmessage function.\n",
       "        ws.onmessage(msg['content']['data'])\n",
       "    });\n",
       "    return ws;\n",
       "}\n",
       "\n",
       "mpl.mpl_figure_comm = function(comm, msg) {\n",
       "    // This is the function which gets called when the mpl process\n",
       "    // starts-up an IPython Comm through the \"matplotlib\" channel.\n",
       "\n",
       "    var id = msg.content.data.id;\n",
       "    // Get hold of the div created by the display call when the Comm\n",
       "    // socket was opened in Python.\n",
       "    var element = $(\"#\" + id);\n",
       "    var ws_proxy = comm_websocket_adapter(comm)\n",
       "\n",
       "    function ondownload(figure, format) {\n",
       "        window.open(figure.imageObj.src);\n",
       "    }\n",
       "\n",
       "    var fig = new mpl.figure(id, ws_proxy,\n",
       "                           ondownload,\n",
       "                           element.get(0));\n",
       "\n",
       "    // Call onopen now - mpl needs it, as it is assuming we've passed it a real\n",
       "    // web socket which is closed, not our websocket->open comm proxy.\n",
       "    ws_proxy.onopen();\n",
       "\n",
       "    fig.parent_element = element.get(0);\n",
       "    fig.cell_info = mpl.find_output_cell(\"<div id='\" + id + \"'></div>\");\n",
       "    if (!fig.cell_info) {\n",
       "        console.error(\"Failed to find cell for figure\", id, fig);\n",
       "        return;\n",
       "    }\n",
       "\n",
       "    var output_index = fig.cell_info[2]\n",
       "    var cell = fig.cell_info[0];\n",
       "\n",
       "};\n",
       "\n",
       "mpl.figure.prototype.handle_close = function(fig, msg) {\n",
       "    var width = fig.canvas.width/mpl.ratio\n",
       "    fig.root.unbind('remove')\n",
       "\n",
       "    // Update the output cell to use the data from the current canvas.\n",
       "    fig.push_to_output();\n",
       "    var dataURL = fig.canvas.toDataURL();\n",
       "    // Re-enable the keyboard manager in IPython - without this line, in FF,\n",
       "    // the notebook keyboard shortcuts fail.\n",
       "    IPython.keyboard_manager.enable()\n",
       "    $(fig.parent_element).html('<img src=\"' + dataURL + '\" width=\"' + width + '\">');\n",
       "    fig.close_ws(fig, msg);\n",
       "}\n",
       "\n",
       "mpl.figure.prototype.close_ws = function(fig, msg){\n",
       "    fig.send_message('closing', msg);\n",
       "    // fig.ws.close()\n",
       "}\n",
       "\n",
       "mpl.figure.prototype.push_to_output = function(remove_interactive) {\n",
       "    // Turn the data on the canvas into data in the output cell.\n",
       "    var width = this.canvas.width/mpl.ratio\n",
       "    var dataURL = this.canvas.toDataURL();\n",
       "    this.cell_info[1]['text/html'] = '<img src=\"' + dataURL + '\" width=\"' + width + '\">';\n",
       "}\n",
       "\n",
       "mpl.figure.prototype.updated_canvas_event = function() {\n",
       "    // Tell IPython that the notebook contents must change.\n",
       "    IPython.notebook.set_dirty(true);\n",
       "    this.send_message(\"ack\", {});\n",
       "    var fig = this;\n",
       "    // Wait a second, then push the new image to the DOM so\n",
       "    // that it is saved nicely (might be nice to debounce this).\n",
       "    setTimeout(function () { fig.push_to_output() }, 1000);\n",
       "}\n",
       "\n",
       "mpl.figure.prototype._init_toolbar = function() {\n",
       "    var fig = this;\n",
       "\n",
       "    var nav_element = $('<div/>');\n",
       "    nav_element.attr('style', 'width: 100%');\n",
       "    this.root.append(nav_element);\n",
       "\n",
       "    // Define a callback function for later on.\n",
       "    function toolbar_event(event) {\n",
       "        return fig.toolbar_button_onclick(event['data']);\n",
       "    }\n",
       "    function toolbar_mouse_event(event) {\n",
       "        return fig.toolbar_button_onmouseover(event['data']);\n",
       "    }\n",
       "\n",
       "    for(var toolbar_ind in mpl.toolbar_items){\n",
       "        var name = mpl.toolbar_items[toolbar_ind][0];\n",
       "        var tooltip = mpl.toolbar_items[toolbar_ind][1];\n",
       "        var image = mpl.toolbar_items[toolbar_ind][2];\n",
       "        var method_name = mpl.toolbar_items[toolbar_ind][3];\n",
       "\n",
       "        if (!name) { continue; };\n",
       "\n",
       "        var button = $('<button class=\"btn btn-default\" href=\"#\" title=\"' + name + '\"><i class=\"fa ' + image + ' fa-lg\"></i></button>');\n",
       "        button.click(method_name, toolbar_event);\n",
       "        button.mouseover(tooltip, toolbar_mouse_event);\n",
       "        nav_element.append(button);\n",
       "    }\n",
       "\n",
       "    // Add the status bar.\n",
       "    var status_bar = $('<span class=\"mpl-message\" style=\"text-align:right; float: right;\"/>');\n",
       "    nav_element.append(status_bar);\n",
       "    this.message = status_bar[0];\n",
       "\n",
       "    // Add the close button to the window.\n",
       "    var buttongrp = $('<div class=\"btn-group inline pull-right\"></div>');\n",
       "    var button = $('<button class=\"btn btn-mini btn-primary\" href=\"#\" title=\"Stop Interaction\"><i class=\"fa fa-power-off icon-remove icon-large\"></i></button>');\n",
       "    button.click(function (evt) { fig.handle_close(fig, {}); } );\n",
       "    button.mouseover('Stop Interaction', toolbar_mouse_event);\n",
       "    buttongrp.append(button);\n",
       "    var titlebar = this.root.find($('.ui-dialog-titlebar'));\n",
       "    titlebar.prepend(buttongrp);\n",
       "}\n",
       "\n",
       "mpl.figure.prototype._root_extra_style = function(el){\n",
       "    var fig = this\n",
       "    el.on(\"remove\", function(){\n",
       "\tfig.close_ws(fig, {});\n",
       "    });\n",
       "}\n",
       "\n",
       "mpl.figure.prototype._canvas_extra_style = function(el){\n",
       "    // this is important to make the div 'focusable\n",
       "    el.attr('tabindex', 0)\n",
       "    // reach out to IPython and tell the keyboard manager to turn it's self\n",
       "    // off when our div gets focus\n",
       "\n",
       "    // location in version 3\n",
       "    if (IPython.notebook.keyboard_manager) {\n",
       "        IPython.notebook.keyboard_manager.register_events(el);\n",
       "    }\n",
       "    else {\n",
       "        // location in version 2\n",
       "        IPython.keyboard_manager.register_events(el);\n",
       "    }\n",
       "\n",
       "}\n",
       "\n",
       "mpl.figure.prototype._key_event_extra = function(event, name) {\n",
       "    var manager = IPython.notebook.keyboard_manager;\n",
       "    if (!manager)\n",
       "        manager = IPython.keyboard_manager;\n",
       "\n",
       "    // Check for shift+enter\n",
       "    if (event.shiftKey && event.which == 13) {\n",
       "        this.canvas_div.blur();\n",
       "        event.shiftKey = false;\n",
       "        // Send a \"J\" for go to next cell\n",
       "        event.which = 74;\n",
       "        event.keyCode = 74;\n",
       "        manager.command_mode();\n",
       "        manager.handle_keydown(event);\n",
       "    }\n",
       "}\n",
       "\n",
       "mpl.figure.prototype.handle_save = function(fig, msg) {\n",
       "    fig.ondownload(fig, null);\n",
       "}\n",
       "\n",
       "\n",
       "mpl.find_output_cell = function(html_output) {\n",
       "    // Return the cell and output element which can be found *uniquely* in the notebook.\n",
       "    // Note - this is a bit hacky, but it is done because the \"notebook_saving.Notebook\"\n",
       "    // IPython event is triggered only after the cells have been serialised, which for\n",
       "    // our purposes (turning an active figure into a static one), is too late.\n",
       "    var cells = IPython.notebook.get_cells();\n",
       "    var ncells = cells.length;\n",
       "    for (var i=0; i<ncells; i++) {\n",
       "        var cell = cells[i];\n",
       "        if (cell.cell_type === 'code'){\n",
       "            for (var j=0; j<cell.output_area.outputs.length; j++) {\n",
       "                var data = cell.output_area.outputs[j];\n",
       "                if (data.data) {\n",
       "                    // IPython >= 3 moved mimebundle to data attribute of output\n",
       "                    data = data.data;\n",
       "                }\n",
       "                if (data['text/html'] == html_output) {\n",
       "                    return [cell, data, j];\n",
       "                }\n",
       "            }\n",
       "        }\n",
       "    }\n",
       "}\n",
       "\n",
       "// Register the function which deals with the matplotlib target/channel.\n",
       "// The kernel may be null if the page has been refreshed.\n",
       "if (IPython.notebook.kernel != null) {\n",
       "    IPython.notebook.kernel.comm_manager.register_target('matplotlib', mpl.mpl_figure_comm);\n",
       "}\n"
      ],
      "text/plain": [
       "<IPython.core.display.Javascript object>"
      ]
     },
     "metadata": {},
     "output_type": "display_data"
    },
    {
     "data": {
      "text/html": [
       "<img src=\"data:image/png;base64,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\" width=\"843\">"
      ],
      "text/plain": [
       "<IPython.core.display.HTML object>"
      ]
     },
     "metadata": {},
     "output_type": "display_data"
    },
    {
     "data": {
      "text/plain": [
       "[<matplotlib.axis.XTick at 0x7f09eedca310>,\n",
       " <matplotlib.axis.XTick at 0x7f09eedc4a10>,\n",
       " <matplotlib.axis.XTick at 0x7f09eedbe150>]"
      ]
     },
     "execution_count": null,
     "metadata": {},
     "output_type": "execute_result"
    }
   ],
   "source": [
    "fig = plt.figure(tight_layout=True)\n",
    "\n",
    "ax = fig.add_subplot(221)\n",
    "ax.plot(H2402_data.index, H2402_data.values)\n",
    "ax.set_xticks(ax.get_xticks()[::4])\n",
    "ax = fig.add_subplot(222)\n",
    "ax.plot(CH3Cl_data.index, CH3Cl_data.values)\n",
    "ax.set_xticks(ax.get_xticks()[::4])\n",
    "ax = fig.add_subplot(223)\n",
    "ax.plot(CH2Cl2_data.index, CH2Cl2_data.values)\n",
    "ax.set_xticks(ax.get_xticks()[::4])\n",
    "ax = fig.add_subplot(224)\n",
    "ax.plot(HFC152a_data.index, HFC152a_data.values)\n",
    "ax.set_xticks(ax.get_xticks()[::4])\n",
    "\n",
    "\n"
   ]
  },
  {
   "cell_type": "markdown",
   "metadata": {},
   "source": [
    "### Creating multiple plots"
   ]
  },
  {
   "cell_type": "code",
   "execution_count": null,
   "metadata": {},
   "outputs": [],
   "source": [
    "x_scale = DateScale()\n",
    "y_scale = LinearScale()\n",
    "date_line_scales = {\"x\": x_scale, \"y\": y_scale}\n",
    "\n",
    "x_scale2 = DateScale()\n",
    "y_scale2 = LinearScale()\n",
    "date_line_scales2 = {\"x\": x_scale2, \"y\": y_scale2}\n",
    "\n",
    "ax = Axis(label=\"Date\", scale=x_scale, visible=True, tick_style={\"font-size\":12})\n",
    "ay = Axis(label=\"Count\", scale=y_scale, orientation=\"vertical\", visible=True, tick_style={\"font-size\":12})\n",
    "\n",
    "H2402_lines= Lines(x=H2402_data.index, y=H2402_data, scales=date_line_scales)\n",
    "H2402_fig = Figure(marks=[H2402_lines], axes=[ax,ay], title=\"H2402\")\n",
    "\n",
    "\n",
    "\n",
    "CH3Cl_lines= Lines(x=CH3Cl_data.index, y=CH3Cl_data, scales=date_line_scales2)\n",
    "CH3Cl_fig = Figure(marks=[CH3Cl_lines], axes=[ax,ay], title=\"CH3Cl\")\n",
    "\n",
    "# CH2Cl2_lines= Lines(x=CH2Cl2_data.index, y=CH2Cl2_data, scales={\"x\": DateScale(), \"y\": LinearScale()})\n",
    "# CH2Cl2_fig = Figure(marks=[CH2Cl2_lines], axes=[ax,ay], title=\"CH2Cl2\")\n",
    "\n",
    "# HFC152a_lines = Lines(x=HFC152a_data.index, y=HFC152a_data, scales={\"x\": DateScale(), \"y\": LinearScale()})\n",
    "# HFC152a_fig = Figure(marks=[HFC152a_lines], axes=[ax,ay], title=\"HFC152a\")\n",
    "\n",
    "# top_line = HBox(children=[H2402_fig, CH3Cl_fig])\n",
    "# bot_line = HBox(children=[CH2Cl2_fig, HFC152a_fig])\n",
    "\n",
    "# grid = VBox(children=[top_line, bot_line])\n",
    "# grid"
   ]
  },
  {
   "cell_type": "code",
   "execution_count": null,
   "metadata": {},
   "outputs": [
    {
     "data": {
      "application/vnd.jupyter.widget-view+json": {
       "model_id": "c774b6d22894482aaecfe115210a803d",
       "version_major": 2,
       "version_minor": 0
      },
      "text/plain": [
       "Figure(axes=[Axis(label='Date', scale=DateScale(), side='bottom', tick_style={'font-size': 12}), Axis(label='C…"
      ]
     },
     "metadata": {},
     "output_type": "display_data"
    }
   ],
   "source": [
    "H2402_fig"
   ]
  },
  {
   "cell_type": "code",
   "execution_count": null,
   "metadata": {},
   "outputs": [
    {
     "data": {
      "application/vnd.jupyter.widget-view+json": {
       "model_id": "bfaf71a30ae04eefa3bc286d21a15554",
       "version_major": 2,
       "version_minor": 0
      },
      "text/plain": [
       "Figure(axes=[Axis(label='Date', scale=DateScale(), side='bottom', tick_style={'font-size': 12}), Axis(label='C…"
      ]
     },
     "metadata": {},
     "output_type": "display_data"
    }
   ],
   "source": [
    "CH3Cl_fig"
   ]
  },
  {
   "cell_type": "code",
   "execution_count": null,
   "metadata": {},
   "outputs": [],
   "source": []
  }
 ],
 "metadata": {
  "kernelspec": {
   "display_name": "Python 3",
   "language": "python",
   "name": "python3"
  }
 },
 "nbformat": 4,
 "nbformat_minor": 2
}
