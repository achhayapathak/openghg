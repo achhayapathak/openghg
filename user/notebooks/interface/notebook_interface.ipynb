{
 "cells": [
  {
   "cell_type": "markdown",
   "metadata": {},
   "source": [
    "This notebook will be used to upload, search and plot using the HUGS Cloud platform"
   ]
  },
  {
   "cell_type": "code",
   "execution_count": null,
   "metadata": {},
   "outputs": [],
   "source": [
    "import os\n",
    "import sys\n",
    "from datetime import datetime\n",
    "sys.path.insert(0, \"../../..\")\n",
    "sys.path.insert(0, \"../../../../acquire\")\n",
    "\n",
    "from HUGS.Processing import search\n",
    "from HUGS.Client import Process, Search, Retrieve\n",
    "\n",
    "from Acquire.ObjectStore import datetime_to_string\n",
    "from Acquire.Client import User, Drive, Service, PAR, Authorisation, StorageCreds\n",
    "\n",
    "from bqplot import pyplot as plt\n",
    "from bqplot import DateScale, LinearScale, LogScale, Axis, Lines, Figure, Scatter\n",
    "from random import randint    \n",
    "\n",
    "from numpy import random as np_random\n",
    "import matplotlib.pyplot as plt\n",
    "import numpy as np\n",
    "from pandas import read_json as pd_read_json\n",
    "\n",
    "from ipywidgets import VBox"
   ]
  },
  {
   "cell_type": "code",
   "execution_count": null,
   "metadata": {},
   "outputs": [],
   "source": [
    "%matplotlib notebook"
   ]
  },
  {
   "cell_type": "code",
   "execution_count": null,
   "metadata": {},
   "outputs": [],
   "source": [
    "# Autoreload modules before executing code, useful during development\n",
    "%load_ext autoreload\n",
    "%autoreload 2"
   ]
  },
  {
   "cell_type": "markdown",
   "metadata": {},
   "source": [
    "## Login"
   ]
  },
  {
   "cell_type": "markdown",
   "metadata": {},
   "source": [
    "Login to the platform"
   ]
  },
  {
   "cell_type": "code",
   "execution_count": null,
   "metadata": {},
   "outputs": [
    {
     "name": "stdout",
     "output_type": "stream",
     "text": [
      "Login by visiting: https://login.acquire-aaai.com?id=a0-a6/ff.93.71.9f\n",
      "(please check that this page displays the message 'big cats sit slowly')\n"
     ]
    }
   ],
   "source": [
    "base_url = \"https://hugs.acquire-aaai.com/t\"\n",
    "user = User(username=\"gareth\", identity_url=F\"{base_url}/identity\")\n",
    "response = user.request_login()"
   ]
  },
  {
   "cell_type": "markdown",
   "metadata": {},
   "source": [
    "Check we've logged in successfully"
   ]
  },
  {
   "cell_type": "code",
   "execution_count": null,
   "metadata": {},
   "outputs": [
    {
     "data": {
      "text/plain": [
       "True"
      ]
     },
     "execution_count": null,
     "metadata": {},
     "output_type": "execute_result"
    }
   ],
   "source": [
    "user.wait_for_login()"
   ]
  },
  {
   "cell_type": "markdown",
   "metadata": {},
   "source": [
    "## Upload"
   ]
  },
  {
   "cell_type": "markdown",
   "metadata": {},
   "source": [
    "First we want to upload the data to the cloud platform"
   ]
  },
  {
   "cell_type": "code",
   "execution_count": null,
   "metadata": {},
   "outputs": [],
   "source": [
    "# Helper function for test file paths\n",
    "def get_path(filename, data_type=\"CRDS\"):\n",
    "    dir_path = os.path.abspath(\"\")\n",
    "    test_data = f\"../../../test/data/proc_test_data/{data_type}\"\n",
    "    return os.path.join(dir_path, test_data, filename)"
   ]
  },
  {
   "cell_type": "markdown",
   "metadata": {},
   "source": [
    "Get a process object so we can send files to the platform"
   ]
  },
  {
   "cell_type": "code",
   "execution_count": null,
   "metadata": {},
   "outputs": [],
   "source": [
    "processing = Process(service_url=base_url)"
   ]
  },
  {
   "cell_type": "markdown",
   "metadata": {},
   "source": [
    "For the time being clear Datasources"
   ]
  },
  {
   "cell_type": "code",
   "execution_count": null,
   "metadata": {},
   "outputs": [],
   "source": [
    "hugs = Service(service_url=\"%s/hugs\" % base_url)\n",
    "hugs.call_function(function=\"clear_datasources\", args={})"
   ]
  },
  {
   "cell_type": "markdown",
   "metadata": {},
   "source": [
    "Upload some data"
   ]
  },
  {
   "cell_type": "code",
   "execution_count": null,
   "metadata": {},
   "outputs": [],
   "source": [
    "bsd_file = get_CRDS_path(\"bsd.picarro.1minute.248m.dat\")\n",
    "hfd_file = get_CRDS_path(\"hfd.picarro.1minute.100m_min.dat\")\n",
    "\n",
    "result_bsd = processing.process_files(user=user, files=bsd_file, data_type=\"CRDS\")\n",
    "result_hfd = processing.process_files(user=user, files=hfd_file, data_type=\"CRDS\")"
   ]
  },
  {
   "cell_type": "code",
   "execution_count": null,
   "metadata": {},
   "outputs": [
    {
     "name": "stdout",
     "output_type": "stream",
     "text": [
      "{'bsd.picarro.1minute.248m.dat': ['ec5c8163-b52f-417d-bf1f-9fc2bc6abc0c', 'f09de09a-88a3-4cdb-a505-069b4ec505d3', '7b20fc25-0f77-4eae-9934-143a2164c116']} \n",
      "\n",
      " {'hfd.picarro.1minute.100m_min.dat': ['dfa37b97-561b-44e7-8957-f2d4daa09916', '6c1cb4aa-4215-4af0-aad8-34821de5937c', '451faf7d-d58c-42dc-b16f-f8e1c15df66f']}\n"
     ]
    }
   ],
   "source": [
    "print(result_bsd, \"\\n\\n\", result_hfd)"
   ]
  },
  {
   "cell_type": "markdown",
   "metadata": {},
   "source": [
    "Get a search object"
   ]
  },
  {
   "cell_type": "code",
   "execution_count": null,
   "metadata": {},
   "outputs": [],
   "source": [
    "search = Search(service_url=base_url)"
   ]
  },
  {
   "cell_type": "code",
   "execution_count": null,
   "metadata": {},
   "outputs": [
    {
     "name": "stdout",
     "output_type": "stream",
     "text": [
      "['co', 'co2'] ['bsd', 'hfd']\n"
     ]
    }
   ],
   "source": [
    "start = datetime(1970, 1,1)\n",
    "end = datetime.now()\n",
    "\n",
    "search_terms = [\"co\", \"co2\"]\n",
    "search_locations = [\"bsd\", \"hfd\"]\n",
    "data_type = \"CRDS\"\n",
    "\n",
    "search_results = search.search(search_terms=search_terms, locations=search_locations, \n",
    "                               data_type=data_type, start_datetime=start, end_datetime=end)\n"
   ]
  },
  {
   "cell_type": "markdown",
   "metadata": {},
   "source": [
    "Get the keys we want "
   ]
  },
  {
   "cell_type": "code",
   "execution_count": null,
   "metadata": {},
   "outputs": [
    {
     "name": "stdout",
     "output_type": "stream",
     "text": [
      "['bsd_co', 'hfd_co', 'bsd_co2', 'hfd_co2']\n"
     ]
    }
   ],
   "source": [
    "print(list(search_results.keys()))"
   ]
  },
  {
   "cell_type": "markdown",
   "metadata": {},
   "source": [
    "The items stored at each key are the keys for the data"
   ]
  },
  {
   "cell_type": "code",
   "execution_count": null,
   "metadata": {},
   "outputs": [
    {
     "data": {
      "text/plain": [
       "['data/uuid/7b20fc25-0f77-4eae-9934-143a2164c116/2014-01-30T10:52:30_2014-01-30T14:20:30']"
      ]
     },
     "execution_count": null,
     "metadata": {},
     "output_type": "execute_result"
    }
   ],
   "source": [
    "search_results[\"bsd_co\"]"
   ]
  },
  {
   "cell_type": "markdown",
   "metadata": {},
   "source": [
    "Now create a list of the terms we want to download"
   ]
  },
  {
   "cell_type": "code",
   "execution_count": null,
   "metadata": {},
   "outputs": [],
   "source": [
    "to_download = [\"bsd_co\", \"hfd_co\"]"
   ]
  },
  {
   "cell_type": "markdown",
   "metadata": {},
   "source": [
    "Now we can (for now) pull this data from the object store for use"
   ]
  },
  {
   "cell_type": "code",
   "execution_count": null,
   "metadata": {},
   "outputs": [],
   "source": [
    "retrieve = Retrieve(service_url=base_url)"
   ]
  },
  {
   "cell_type": "code",
   "execution_count": null,
   "metadata": {},
   "outputs": [],
   "source": [
    "download_keys = {key: search_results[key] for key in to_download}"
   ]
  },
  {
   "cell_type": "code",
   "execution_count": null,
   "metadata": {},
   "outputs": [],
   "source": [
    "data = retrieve.retrieve(keys=download_keys)"
   ]
  },
  {
   "cell_type": "markdown",
   "metadata": {},
   "source": [
    "Create a list of DataFrames"
   ]
  },
  {
   "cell_type": "code",
   "execution_count": null,
   "metadata": {},
   "outputs": [],
   "source": [
    "# Should make this a HUGS function within Client ?\n",
    "def json_to_dataframe(data_dict):\n",
    "    dataframes = {}\n",
    "    for key in data_dict:\n",
    "        dataframes[key] = pd_read_json(data_dict[key])\n",
    "        \n",
    "    return dataframes\n",
    "\n",
    "def download_keys(key_dict, download_keys=None):\n",
    "    \"\"\"\n",
    "        Downloads the keys and converts the passed JSON data into Pandas DataFrames\n",
    "        \n",
    "        Args:\n",
    "            key_dict (dict): Dictionary keyed by site_searchterm containing the\n",
    "                             keys to access the data\n",
    "            download_keys (list, default=None): List of keys to download\n",
    "        Returns:\n",
    "            dict: Dictionary of DataFrames\n",
    "    \"\"\"\n",
    "    if download_keys:\n",
    "        download_keys = {key: search_results[key] for key in to_download}\n",
    "    else:\n",
    "        download_keys = key_dict\n",
    "    \n",
    "    return json_to_dataframe(retrieve.retrieve(keys=download_keys))    \n",
    "    "
   ]
  },
  {
   "cell_type": "markdown",
   "metadata": {},
   "source": [
    "Convert the data from JSON to DataFrames"
   ]
  },
  {
   "cell_type": "code",
   "execution_count": null,
   "metadata": {},
   "outputs": [],
   "source": [
    "dataframes = json_to_dataframe(data)"
   ]
  },
  {
   "cell_type": "markdown",
   "metadata": {},
   "source": [
    "## Plots"
   ]
  },
  {
   "cell_type": "markdown",
   "metadata": {},
   "source": [
    "Plot some time series using bqplot. Here we use their internal object model. It's also possible to use a more `matplotlib` like interface. See https://bqplot.readthedocs.io/en/latest/usage.html"
   ]
  },
  {
   "cell_type": "code",
   "execution_count": null,
   "metadata": {},
   "outputs": [
    {
     "data": {
      "application/vnd.jupyter.widget-view+json": {
       "model_id": "b4ba09c8412a420687879a4b798fb0eb",
       "version_major": 2,
       "version_minor": 0
      },
      "text/plain": [
       "Figure(animation_duration=1000, axes=[Axis(label='Date', scale=DateScale()), Axis(label='Count', orientation='…"
      ]
     },
     "metadata": {},
     "output_type": "display_data"
    }
   ],
   "source": [
    "x_scale = DateScale()\n",
    "y_scale = LinearScale()\n",
    "scales = {\"x\": x_scale, \"y\": y_scale}\n",
    "\n",
    "ax = Axis(label=\"Date\", scale=x_scale)\n",
    "ay = Axis(label=\"Count\", scale=y_scale, orientation=\"vertical\")\n",
    "\n",
    "bsd_data = dataframes[\"bsd_co\"]\n",
    "\n",
    "x_data = bsd_data.index\n",
    "y_data = bsd_data.iloc[:,0]\n",
    "\n",
    "scatter = Scatter(x=x_data, y=y_data, scales=scales)\n",
    "figure = Figure(marks=[scatter], axes=[ax, ay], animation_duration=1000)\n",
    "figure\n",
    "\n"
   ]
  },
  {
   "cell_type": "markdown",
   "metadata": {},
   "source": [
    "We can also just plot using `pandas` plotting inline"
   ]
  },
  {
   "cell_type": "code",
   "execution_count": null,
   "metadata": {},
   "outputs": [],
   "source": [
    "hfd_data = dataframes[\"hfd_co\"]"
   ]
  },
  {
   "cell_type": "code",
   "execution_count": null,
   "metadata": {},
   "outputs": [
    {
     "data": {
      "application/javascript": [
       "/* Put everything inside the global mpl namespace */\n",
       "window.mpl = {};\n",
       "\n",
       "\n",
       "mpl.get_websocket_type = function() {\n",
       "    if (typeof(WebSocket) !== 'undefined') {\n",
       "        return WebSocket;\n",
       "    } else if (typeof(MozWebSocket) !== 'undefined') {\n",
       "        return MozWebSocket;\n",
       "    } else {\n",
       "        alert('Your browser does not have WebSocket support. ' +\n",
       "              'Please try Chrome, Safari or Firefox ≥ 6. ' +\n",
       "              'Firefox 4 and 5 are also supported but you ' +\n",
       "              'have to enable WebSockets in about:config.');\n",
       "    };\n",
       "}\n",
       "\n",
       "mpl.figure = function(figure_id, websocket, ondownload, parent_element) {\n",
       "    this.id = figure_id;\n",
       "\n",
       "    this.ws = websocket;\n",
       "\n",
       "    this.supports_binary = (this.ws.binaryType != undefined);\n",
       "\n",
       "    if (!this.supports_binary) {\n",
       "        var warnings = document.getElementById(\"mpl-warnings\");\n",
       "        if (warnings) {\n",
       "            warnings.style.display = 'block';\n",
       "            warnings.textContent = (\n",
       "                \"This browser does not support binary websocket messages. \" +\n",
       "                    \"Performance may be slow.\");\n",
       "        }\n",
       "    }\n",
       "\n",
       "    this.imageObj = new Image();\n",
       "\n",
       "    this.context = undefined;\n",
       "    this.message = undefined;\n",
       "    this.canvas = undefined;\n",
       "    this.rubberband_canvas = undefined;\n",
       "    this.rubberband_context = undefined;\n",
       "    this.format_dropdown = undefined;\n",
       "\n",
       "    this.image_mode = 'full';\n",
       "\n",
       "    this.root = $('<div/>');\n",
       "    this._root_extra_style(this.root)\n",
       "    this.root.attr('style', 'display: inline-block');\n",
       "\n",
       "    $(parent_element).append(this.root);\n",
       "\n",
       "    this._init_header(this);\n",
       "    this._init_canvas(this);\n",
       "    this._init_toolbar(this);\n",
       "\n",
       "    var fig = this;\n",
       "\n",
       "    this.waiting = false;\n",
       "\n",
       "    this.ws.onopen =  function () {\n",
       "            fig.send_message(\"supports_binary\", {value: fig.supports_binary});\n",
       "            fig.send_message(\"send_image_mode\", {});\n",
       "            if (mpl.ratio != 1) {\n",
       "                fig.send_message(\"set_dpi_ratio\", {'dpi_ratio': mpl.ratio});\n",
       "            }\n",
       "            fig.send_message(\"refresh\", {});\n",
       "        }\n",
       "\n",
       "    this.imageObj.onload = function() {\n",
       "            if (fig.image_mode == 'full') {\n",
       "                // Full images could contain transparency (where diff images\n",
       "                // almost always do), so we need to clear the canvas so that\n",
       "                // there is no ghosting.\n",
       "                fig.context.clearRect(0, 0, fig.canvas.width, fig.canvas.height);\n",
       "            }\n",
       "            fig.context.drawImage(fig.imageObj, 0, 0);\n",
       "        };\n",
       "\n",
       "    this.imageObj.onunload = function() {\n",
       "        fig.ws.close();\n",
       "    }\n",
       "\n",
       "    this.ws.onmessage = this._make_on_message_function(this);\n",
       "\n",
       "    this.ondownload = ondownload;\n",
       "}\n",
       "\n",
       "mpl.figure.prototype._init_header = function() {\n",
       "    var titlebar = $(\n",
       "        '<div class=\"ui-dialog-titlebar ui-widget-header ui-corner-all ' +\n",
       "        'ui-helper-clearfix\"/>');\n",
       "    var titletext = $(\n",
       "        '<div class=\"ui-dialog-title\" style=\"width: 100%; ' +\n",
       "        'text-align: center; padding: 3px;\"/>');\n",
       "    titlebar.append(titletext)\n",
       "    this.root.append(titlebar);\n",
       "    this.header = titletext[0];\n",
       "}\n",
       "\n",
       "\n",
       "\n",
       "mpl.figure.prototype._canvas_extra_style = function(canvas_div) {\n",
       "\n",
       "}\n",
       "\n",
       "\n",
       "mpl.figure.prototype._root_extra_style = function(canvas_div) {\n",
       "\n",
       "}\n",
       "\n",
       "mpl.figure.prototype._init_canvas = function() {\n",
       "    var fig = this;\n",
       "\n",
       "    var canvas_div = $('<div/>');\n",
       "\n",
       "    canvas_div.attr('style', 'position: relative; clear: both; outline: 0');\n",
       "\n",
       "    function canvas_keyboard_event(event) {\n",
       "        return fig.key_event(event, event['data']);\n",
       "    }\n",
       "\n",
       "    canvas_div.keydown('key_press', canvas_keyboard_event);\n",
       "    canvas_div.keyup('key_release', canvas_keyboard_event);\n",
       "    this.canvas_div = canvas_div\n",
       "    this._canvas_extra_style(canvas_div)\n",
       "    this.root.append(canvas_div);\n",
       "\n",
       "    var canvas = $('<canvas/>');\n",
       "    canvas.addClass('mpl-canvas');\n",
       "    canvas.attr('style', \"left: 0; top: 0; z-index: 0; outline: 0\")\n",
       "\n",
       "    this.canvas = canvas[0];\n",
       "    this.context = canvas[0].getContext(\"2d\");\n",
       "\n",
       "    var backingStore = this.context.backingStorePixelRatio ||\n",
       "\tthis.context.webkitBackingStorePixelRatio ||\n",
       "\tthis.context.mozBackingStorePixelRatio ||\n",
       "\tthis.context.msBackingStorePixelRatio ||\n",
       "\tthis.context.oBackingStorePixelRatio ||\n",
       "\tthis.context.backingStorePixelRatio || 1;\n",
       "\n",
       "    mpl.ratio = (window.devicePixelRatio || 1) / backingStore;\n",
       "\n",
       "    var rubberband = $('<canvas/>');\n",
       "    rubberband.attr('style', \"position: absolute; left: 0; top: 0; z-index: 1;\")\n",
       "\n",
       "    var pass_mouse_events = true;\n",
       "\n",
       "    canvas_div.resizable({\n",
       "        start: function(event, ui) {\n",
       "            pass_mouse_events = false;\n",
       "        },\n",
       "        resize: function(event, ui) {\n",
       "            fig.request_resize(ui.size.width, ui.size.height);\n",
       "        },\n",
       "        stop: function(event, ui) {\n",
       "            pass_mouse_events = true;\n",
       "            fig.request_resize(ui.size.width, ui.size.height);\n",
       "        },\n",
       "    });\n",
       "\n",
       "    function mouse_event_fn(event) {\n",
       "        if (pass_mouse_events)\n",
       "            return fig.mouse_event(event, event['data']);\n",
       "    }\n",
       "\n",
       "    rubberband.mousedown('button_press', mouse_event_fn);\n",
       "    rubberband.mouseup('button_release', mouse_event_fn);\n",
       "    // Throttle sequential mouse events to 1 every 20ms.\n",
       "    rubberband.mousemove('motion_notify', mouse_event_fn);\n",
       "\n",
       "    rubberband.mouseenter('figure_enter', mouse_event_fn);\n",
       "    rubberband.mouseleave('figure_leave', mouse_event_fn);\n",
       "\n",
       "    canvas_div.on(\"wheel\", function (event) {\n",
       "        event = event.originalEvent;\n",
       "        event['data'] = 'scroll'\n",
       "        if (event.deltaY < 0) {\n",
       "            event.step = 1;\n",
       "        } else {\n",
       "            event.step = -1;\n",
       "        }\n",
       "        mouse_event_fn(event);\n",
       "    });\n",
       "\n",
       "    canvas_div.append(canvas);\n",
       "    canvas_div.append(rubberband);\n",
       "\n",
       "    this.rubberband = rubberband;\n",
       "    this.rubberband_canvas = rubberband[0];\n",
       "    this.rubberband_context = rubberband[0].getContext(\"2d\");\n",
       "    this.rubberband_context.strokeStyle = \"#000000\";\n",
       "\n",
       "    this._resize_canvas = function(width, height) {\n",
       "        // Keep the size of the canvas, canvas container, and rubber band\n",
       "        // canvas in synch.\n",
       "        canvas_div.css('width', width)\n",
       "        canvas_div.css('height', height)\n",
       "\n",
       "        canvas.attr('width', width * mpl.ratio);\n",
       "        canvas.attr('height', height * mpl.ratio);\n",
       "        canvas.attr('style', 'width: ' + width + 'px; height: ' + height + 'px;');\n",
       "\n",
       "        rubberband.attr('width', width);\n",
       "        rubberband.attr('height', height);\n",
       "    }\n",
       "\n",
       "    // Set the figure to an initial 600x600px, this will subsequently be updated\n",
       "    // upon first draw.\n",
       "    this._resize_canvas(600, 600);\n",
       "\n",
       "    // Disable right mouse context menu.\n",
       "    $(this.rubberband_canvas).bind(\"contextmenu\",function(e){\n",
       "        return false;\n",
       "    });\n",
       "\n",
       "    function set_focus () {\n",
       "        canvas.focus();\n",
       "        canvas_div.focus();\n",
       "    }\n",
       "\n",
       "    window.setTimeout(set_focus, 100);\n",
       "}\n",
       "\n",
       "mpl.figure.prototype._init_toolbar = function() {\n",
       "    var fig = this;\n",
       "\n",
       "    var nav_element = $('<div/>');\n",
       "    nav_element.attr('style', 'width: 100%');\n",
       "    this.root.append(nav_element);\n",
       "\n",
       "    // Define a callback function for later on.\n",
       "    function toolbar_event(event) {\n",
       "        return fig.toolbar_button_onclick(event['data']);\n",
       "    }\n",
       "    function toolbar_mouse_event(event) {\n",
       "        return fig.toolbar_button_onmouseover(event['data']);\n",
       "    }\n",
       "\n",
       "    for(var toolbar_ind in mpl.toolbar_items) {\n",
       "        var name = mpl.toolbar_items[toolbar_ind][0];\n",
       "        var tooltip = mpl.toolbar_items[toolbar_ind][1];\n",
       "        var image = mpl.toolbar_items[toolbar_ind][2];\n",
       "        var method_name = mpl.toolbar_items[toolbar_ind][3];\n",
       "\n",
       "        if (!name) {\n",
       "            // put a spacer in here.\n",
       "            continue;\n",
       "        }\n",
       "        var button = $('<button/>');\n",
       "        button.addClass('ui-button ui-widget ui-state-default ui-corner-all ' +\n",
       "                        'ui-button-icon-only');\n",
       "        button.attr('role', 'button');\n",
       "        button.attr('aria-disabled', 'false');\n",
       "        button.click(method_name, toolbar_event);\n",
       "        button.mouseover(tooltip, toolbar_mouse_event);\n",
       "\n",
       "        var icon_img = $('<span/>');\n",
       "        icon_img.addClass('ui-button-icon-primary ui-icon');\n",
       "        icon_img.addClass(image);\n",
       "        icon_img.addClass('ui-corner-all');\n",
       "\n",
       "        var tooltip_span = $('<span/>');\n",
       "        tooltip_span.addClass('ui-button-text');\n",
       "        tooltip_span.html(tooltip);\n",
       "\n",
       "        button.append(icon_img);\n",
       "        button.append(tooltip_span);\n",
       "\n",
       "        nav_element.append(button);\n",
       "    }\n",
       "\n",
       "    var fmt_picker_span = $('<span/>');\n",
       "\n",
       "    var fmt_picker = $('<select/>');\n",
       "    fmt_picker.addClass('mpl-toolbar-option ui-widget ui-widget-content');\n",
       "    fmt_picker_span.append(fmt_picker);\n",
       "    nav_element.append(fmt_picker_span);\n",
       "    this.format_dropdown = fmt_picker[0];\n",
       "\n",
       "    for (var ind in mpl.extensions) {\n",
       "        var fmt = mpl.extensions[ind];\n",
       "        var option = $(\n",
       "            '<option/>', {selected: fmt === mpl.default_extension}).html(fmt);\n",
       "        fmt_picker.append(option);\n",
       "    }\n",
       "\n",
       "    // Add hover states to the ui-buttons\n",
       "    $( \".ui-button\" ).hover(\n",
       "        function() { $(this).addClass(\"ui-state-hover\");},\n",
       "        function() { $(this).removeClass(\"ui-state-hover\");}\n",
       "    );\n",
       "\n",
       "    var status_bar = $('<span class=\"mpl-message\"/>');\n",
       "    nav_element.append(status_bar);\n",
       "    this.message = status_bar[0];\n",
       "}\n",
       "\n",
       "mpl.figure.prototype.request_resize = function(x_pixels, y_pixels) {\n",
       "    // Request matplotlib to resize the figure. Matplotlib will then trigger a resize in the client,\n",
       "    // which will in turn request a refresh of the image.\n",
       "    this.send_message('resize', {'width': x_pixels, 'height': y_pixels});\n",
       "}\n",
       "\n",
       "mpl.figure.prototype.send_message = function(type, properties) {\n",
       "    properties['type'] = type;\n",
       "    properties['figure_id'] = this.id;\n",
       "    this.ws.send(JSON.stringify(properties));\n",
       "}\n",
       "\n",
       "mpl.figure.prototype.send_draw_message = function() {\n",
       "    if (!this.waiting) {\n",
       "        this.waiting = true;\n",
       "        this.ws.send(JSON.stringify({type: \"draw\", figure_id: this.id}));\n",
       "    }\n",
       "}\n",
       "\n",
       "\n",
       "mpl.figure.prototype.handle_save = function(fig, msg) {\n",
       "    var format_dropdown = fig.format_dropdown;\n",
       "    var format = format_dropdown.options[format_dropdown.selectedIndex].value;\n",
       "    fig.ondownload(fig, format);\n",
       "}\n",
       "\n",
       "\n",
       "mpl.figure.prototype.handle_resize = function(fig, msg) {\n",
       "    var size = msg['size'];\n",
       "    if (size[0] != fig.canvas.width || size[1] != fig.canvas.height) {\n",
       "        fig._resize_canvas(size[0], size[1]);\n",
       "        fig.send_message(\"refresh\", {});\n",
       "    };\n",
       "}\n",
       "\n",
       "mpl.figure.prototype.handle_rubberband = function(fig, msg) {\n",
       "    var x0 = msg['x0'] / mpl.ratio;\n",
       "    var y0 = (fig.canvas.height - msg['y0']) / mpl.ratio;\n",
       "    var x1 = msg['x1'] / mpl.ratio;\n",
       "    var y1 = (fig.canvas.height - msg['y1']) / mpl.ratio;\n",
       "    x0 = Math.floor(x0) + 0.5;\n",
       "    y0 = Math.floor(y0) + 0.5;\n",
       "    x1 = Math.floor(x1) + 0.5;\n",
       "    y1 = Math.floor(y1) + 0.5;\n",
       "    var min_x = Math.min(x0, x1);\n",
       "    var min_y = Math.min(y0, y1);\n",
       "    var width = Math.abs(x1 - x0);\n",
       "    var height = Math.abs(y1 - y0);\n",
       "\n",
       "    fig.rubberband_context.clearRect(\n",
       "        0, 0, fig.canvas.width / mpl.ratio, fig.canvas.height / mpl.ratio);\n",
       "\n",
       "    fig.rubberband_context.strokeRect(min_x, min_y, width, height);\n",
       "}\n",
       "\n",
       "mpl.figure.prototype.handle_figure_label = function(fig, msg) {\n",
       "    // Updates the figure title.\n",
       "    fig.header.textContent = msg['label'];\n",
       "}\n",
       "\n",
       "mpl.figure.prototype.handle_cursor = function(fig, msg) {\n",
       "    var cursor = msg['cursor'];\n",
       "    switch(cursor)\n",
       "    {\n",
       "    case 0:\n",
       "        cursor = 'pointer';\n",
       "        break;\n",
       "    case 1:\n",
       "        cursor = 'default';\n",
       "        break;\n",
       "    case 2:\n",
       "        cursor = 'crosshair';\n",
       "        break;\n",
       "    case 3:\n",
       "        cursor = 'move';\n",
       "        break;\n",
       "    }\n",
       "    fig.rubberband_canvas.style.cursor = cursor;\n",
       "}\n",
       "\n",
       "mpl.figure.prototype.handle_message = function(fig, msg) {\n",
       "    fig.message.textContent = msg['message'];\n",
       "}\n",
       "\n",
       "mpl.figure.prototype.handle_draw = function(fig, msg) {\n",
       "    // Request the server to send over a new figure.\n",
       "    fig.send_draw_message();\n",
       "}\n",
       "\n",
       "mpl.figure.prototype.handle_image_mode = function(fig, msg) {\n",
       "    fig.image_mode = msg['mode'];\n",
       "}\n",
       "\n",
       "mpl.figure.prototype.updated_canvas_event = function() {\n",
       "    // Called whenever the canvas gets updated.\n",
       "    this.send_message(\"ack\", {});\n",
       "}\n",
       "\n",
       "// A function to construct a web socket function for onmessage handling.\n",
       "// Called in the figure constructor.\n",
       "mpl.figure.prototype._make_on_message_function = function(fig) {\n",
       "    return function socket_on_message(evt) {\n",
       "        if (evt.data instanceof Blob) {\n",
       "            /* FIXME: We get \"Resource interpreted as Image but\n",
       "             * transferred with MIME type text/plain:\" errors on\n",
       "             * Chrome.  But how to set the MIME type?  It doesn't seem\n",
       "             * to be part of the websocket stream */\n",
       "            evt.data.type = \"image/png\";\n",
       "\n",
       "            /* Free the memory for the previous frames */\n",
       "            if (fig.imageObj.src) {\n",
       "                (window.URL || window.webkitURL).revokeObjectURL(\n",
       "                    fig.imageObj.src);\n",
       "            }\n",
       "\n",
       "            fig.imageObj.src = (window.URL || window.webkitURL).createObjectURL(\n",
       "                evt.data);\n",
       "            fig.updated_canvas_event();\n",
       "            fig.waiting = false;\n",
       "            return;\n",
       "        }\n",
       "        else if (typeof evt.data === 'string' && evt.data.slice(0, 21) == \"data:image/png;base64\") {\n",
       "            fig.imageObj.src = evt.data;\n",
       "            fig.updated_canvas_event();\n",
       "            fig.waiting = false;\n",
       "            return;\n",
       "        }\n",
       "\n",
       "        var msg = JSON.parse(evt.data);\n",
       "        var msg_type = msg['type'];\n",
       "\n",
       "        // Call the  \"handle_{type}\" callback, which takes\n",
       "        // the figure and JSON message as its only arguments.\n",
       "        try {\n",
       "            var callback = fig[\"handle_\" + msg_type];\n",
       "        } catch (e) {\n",
       "            console.log(\"No handler for the '\" + msg_type + \"' message type: \", msg);\n",
       "            return;\n",
       "        }\n",
       "\n",
       "        if (callback) {\n",
       "            try {\n",
       "                // console.log(\"Handling '\" + msg_type + \"' message: \", msg);\n",
       "                callback(fig, msg);\n",
       "            } catch (e) {\n",
       "                console.log(\"Exception inside the 'handler_\" + msg_type + \"' callback:\", e, e.stack, msg);\n",
       "            }\n",
       "        }\n",
       "    };\n",
       "}\n",
       "\n",
       "// from http://stackoverflow.com/questions/1114465/getting-mouse-location-in-canvas\n",
       "mpl.findpos = function(e) {\n",
       "    //this section is from http://www.quirksmode.org/js/events_properties.html\n",
       "    var targ;\n",
       "    if (!e)\n",
       "        e = window.event;\n",
       "    if (e.target)\n",
       "        targ = e.target;\n",
       "    else if (e.srcElement)\n",
       "        targ = e.srcElement;\n",
       "    if (targ.nodeType == 3) // defeat Safari bug\n",
       "        targ = targ.parentNode;\n",
       "\n",
       "    // jQuery normalizes the pageX and pageY\n",
       "    // pageX,Y are the mouse positions relative to the document\n",
       "    // offset() returns the position of the element relative to the document\n",
       "    var x = e.pageX - $(targ).offset().left;\n",
       "    var y = e.pageY - $(targ).offset().top;\n",
       "\n",
       "    return {\"x\": x, \"y\": y};\n",
       "};\n",
       "\n",
       "/*\n",
       " * return a copy of an object with only non-object keys\n",
       " * we need this to avoid circular references\n",
       " * http://stackoverflow.com/a/24161582/3208463\n",
       " */\n",
       "function simpleKeys (original) {\n",
       "  return Object.keys(original).reduce(function (obj, key) {\n",
       "    if (typeof original[key] !== 'object')\n",
       "        obj[key] = original[key]\n",
       "    return obj;\n",
       "  }, {});\n",
       "}\n",
       "\n",
       "mpl.figure.prototype.mouse_event = function(event, name) {\n",
       "    var canvas_pos = mpl.findpos(event)\n",
       "\n",
       "    if (name === 'button_press')\n",
       "    {\n",
       "        this.canvas.focus();\n",
       "        this.canvas_div.focus();\n",
       "    }\n",
       "\n",
       "    var x = canvas_pos.x * mpl.ratio;\n",
       "    var y = canvas_pos.y * mpl.ratio;\n",
       "\n",
       "    this.send_message(name, {x: x, y: y, button: event.button,\n",
       "                             step: event.step,\n",
       "                             guiEvent: simpleKeys(event)});\n",
       "\n",
       "    /* This prevents the web browser from automatically changing to\n",
       "     * the text insertion cursor when the button is pressed.  We want\n",
       "     * to control all of the cursor setting manually through the\n",
       "     * 'cursor' event from matplotlib */\n",
       "    event.preventDefault();\n",
       "    return false;\n",
       "}\n",
       "\n",
       "mpl.figure.prototype._key_event_extra = function(event, name) {\n",
       "    // Handle any extra behaviour associated with a key event\n",
       "}\n",
       "\n",
       "mpl.figure.prototype.key_event = function(event, name) {\n",
       "\n",
       "    // Prevent repeat events\n",
       "    if (name == 'key_press')\n",
       "    {\n",
       "        if (event.which === this._key)\n",
       "            return;\n",
       "        else\n",
       "            this._key = event.which;\n",
       "    }\n",
       "    if (name == 'key_release')\n",
       "        this._key = null;\n",
       "\n",
       "    var value = '';\n",
       "    if (event.ctrlKey && event.which != 17)\n",
       "        value += \"ctrl+\";\n",
       "    if (event.altKey && event.which != 18)\n",
       "        value += \"alt+\";\n",
       "    if (event.shiftKey && event.which != 16)\n",
       "        value += \"shift+\";\n",
       "\n",
       "    value += 'k';\n",
       "    value += event.which.toString();\n",
       "\n",
       "    this._key_event_extra(event, name);\n",
       "\n",
       "    this.send_message(name, {key: value,\n",
       "                             guiEvent: simpleKeys(event)});\n",
       "    return false;\n",
       "}\n",
       "\n",
       "mpl.figure.prototype.toolbar_button_onclick = function(name) {\n",
       "    if (name == 'download') {\n",
       "        this.handle_save(this, null);\n",
       "    } else {\n",
       "        this.send_message(\"toolbar_button\", {name: name});\n",
       "    }\n",
       "};\n",
       "\n",
       "mpl.figure.prototype.toolbar_button_onmouseover = function(tooltip) {\n",
       "    this.message.textContent = tooltip;\n",
       "};\n",
       "mpl.toolbar_items = [[\"Home\", \"Reset original view\", \"fa fa-home icon-home\", \"home\"], [\"Back\", \"Back to previous view\", \"fa fa-arrow-left icon-arrow-left\", \"back\"], [\"Forward\", \"Forward to next view\", \"fa fa-arrow-right icon-arrow-right\", \"forward\"], [\"\", \"\", \"\", \"\"], [\"Pan\", \"Pan axes with left mouse, zoom with right\", \"fa fa-arrows icon-move\", \"pan\"], [\"Zoom\", \"Zoom to rectangle\", \"fa fa-square-o icon-check-empty\", \"zoom\"], [\"\", \"\", \"\", \"\"], [\"Download\", \"Download plot\", \"fa fa-floppy-o icon-save\", \"download\"]];\n",
       "\n",
       "mpl.extensions = [\"eps\", \"jpeg\", \"pdf\", \"png\", \"ps\", \"raw\", \"svg\", \"tif\"];\n",
       "\n",
       "mpl.default_extension = \"png\";var comm_websocket_adapter = function(comm) {\n",
       "    // Create a \"websocket\"-like object which calls the given IPython comm\n",
       "    // object with the appropriate methods. Currently this is a non binary\n",
       "    // socket, so there is still some room for performance tuning.\n",
       "    var ws = {};\n",
       "\n",
       "    ws.close = function() {\n",
       "        comm.close()\n",
       "    };\n",
       "    ws.send = function(m) {\n",
       "        //console.log('sending', m);\n",
       "        comm.send(m);\n",
       "    };\n",
       "    // Register the callback with on_msg.\n",
       "    comm.on_msg(function(msg) {\n",
       "        //console.log('receiving', msg['content']['data'], msg);\n",
       "        // Pass the mpl event to the overridden (by mpl) onmessage function.\n",
       "        ws.onmessage(msg['content']['data'])\n",
       "    });\n",
       "    return ws;\n",
       "}\n",
       "\n",
       "mpl.mpl_figure_comm = function(comm, msg) {\n",
       "    // This is the function which gets called when the mpl process\n",
       "    // starts-up an IPython Comm through the \"matplotlib\" channel.\n",
       "\n",
       "    var id = msg.content.data.id;\n",
       "    // Get hold of the div created by the display call when the Comm\n",
       "    // socket was opened in Python.\n",
       "    var element = $(\"#\" + id);\n",
       "    var ws_proxy = comm_websocket_adapter(comm)\n",
       "\n",
       "    function ondownload(figure, format) {\n",
       "        window.open(figure.imageObj.src);\n",
       "    }\n",
       "\n",
       "    var fig = new mpl.figure(id, ws_proxy,\n",
       "                           ondownload,\n",
       "                           element.get(0));\n",
       "\n",
       "    // Call onopen now - mpl needs it, as it is assuming we've passed it a real\n",
       "    // web socket which is closed, not our websocket->open comm proxy.\n",
       "    ws_proxy.onopen();\n",
       "\n",
       "    fig.parent_element = element.get(0);\n",
       "    fig.cell_info = mpl.find_output_cell(\"<div id='\" + id + \"'></div>\");\n",
       "    if (!fig.cell_info) {\n",
       "        console.error(\"Failed to find cell for figure\", id, fig);\n",
       "        return;\n",
       "    }\n",
       "\n",
       "    var output_index = fig.cell_info[2]\n",
       "    var cell = fig.cell_info[0];\n",
       "\n",
       "};\n",
       "\n",
       "mpl.figure.prototype.handle_close = function(fig, msg) {\n",
       "    var width = fig.canvas.width/mpl.ratio\n",
       "    fig.root.unbind('remove')\n",
       "\n",
       "    // Update the output cell to use the data from the current canvas.\n",
       "    fig.push_to_output();\n",
       "    var dataURL = fig.canvas.toDataURL();\n",
       "    // Re-enable the keyboard manager in IPython - without this line, in FF,\n",
       "    // the notebook keyboard shortcuts fail.\n",
       "    IPython.keyboard_manager.enable()\n",
       "    $(fig.parent_element).html('<img src=\"' + dataURL + '\" width=\"' + width + '\">');\n",
       "    fig.close_ws(fig, msg);\n",
       "}\n",
       "\n",
       "mpl.figure.prototype.close_ws = function(fig, msg){\n",
       "    fig.send_message('closing', msg);\n",
       "    // fig.ws.close()\n",
       "}\n",
       "\n",
       "mpl.figure.prototype.push_to_output = function(remove_interactive) {\n",
       "    // Turn the data on the canvas into data in the output cell.\n",
       "    var width = this.canvas.width/mpl.ratio\n",
       "    var dataURL = this.canvas.toDataURL();\n",
       "    this.cell_info[1]['text/html'] = '<img src=\"' + dataURL + '\" width=\"' + width + '\">';\n",
       "}\n",
       "\n",
       "mpl.figure.prototype.updated_canvas_event = function() {\n",
       "    // Tell IPython that the notebook contents must change.\n",
       "    IPython.notebook.set_dirty(true);\n",
       "    this.send_message(\"ack\", {});\n",
       "    var fig = this;\n",
       "    // Wait a second, then push the new image to the DOM so\n",
       "    // that it is saved nicely (might be nice to debounce this).\n",
       "    setTimeout(function () { fig.push_to_output() }, 1000);\n",
       "}\n",
       "\n",
       "mpl.figure.prototype._init_toolbar = function() {\n",
       "    var fig = this;\n",
       "\n",
       "    var nav_element = $('<div/>');\n",
       "    nav_element.attr('style', 'width: 100%');\n",
       "    this.root.append(nav_element);\n",
       "\n",
       "    // Define a callback function for later on.\n",
       "    function toolbar_event(event) {\n",
       "        return fig.toolbar_button_onclick(event['data']);\n",
       "    }\n",
       "    function toolbar_mouse_event(event) {\n",
       "        return fig.toolbar_button_onmouseover(event['data']);\n",
       "    }\n",
       "\n",
       "    for(var toolbar_ind in mpl.toolbar_items){\n",
       "        var name = mpl.toolbar_items[toolbar_ind][0];\n",
       "        var tooltip = mpl.toolbar_items[toolbar_ind][1];\n",
       "        var image = mpl.toolbar_items[toolbar_ind][2];\n",
       "        var method_name = mpl.toolbar_items[toolbar_ind][3];\n",
       "\n",
       "        if (!name) { continue; };\n",
       "\n",
       "        var button = $('<button class=\"btn btn-default\" href=\"#\" title=\"' + name + '\"><i class=\"fa ' + image + ' fa-lg\"></i></button>');\n",
       "        button.click(method_name, toolbar_event);\n",
       "        button.mouseover(tooltip, toolbar_mouse_event);\n",
       "        nav_element.append(button);\n",
       "    }\n",
       "\n",
       "    // Add the status bar.\n",
       "    var status_bar = $('<span class=\"mpl-message\" style=\"text-align:right; float: right;\"/>');\n",
       "    nav_element.append(status_bar);\n",
       "    this.message = status_bar[0];\n",
       "\n",
       "    // Add the close button to the window.\n",
       "    var buttongrp = $('<div class=\"btn-group inline pull-right\"></div>');\n",
       "    var button = $('<button class=\"btn btn-mini btn-primary\" href=\"#\" title=\"Stop Interaction\"><i class=\"fa fa-power-off icon-remove icon-large\"></i></button>');\n",
       "    button.click(function (evt) { fig.handle_close(fig, {}); } );\n",
       "    button.mouseover('Stop Interaction', toolbar_mouse_event);\n",
       "    buttongrp.append(button);\n",
       "    var titlebar = this.root.find($('.ui-dialog-titlebar'));\n",
       "    titlebar.prepend(buttongrp);\n",
       "}\n",
       "\n",
       "mpl.figure.prototype._root_extra_style = function(el){\n",
       "    var fig = this\n",
       "    el.on(\"remove\", function(){\n",
       "\tfig.close_ws(fig, {});\n",
       "    });\n",
       "}\n",
       "\n",
       "mpl.figure.prototype._canvas_extra_style = function(el){\n",
       "    // this is important to make the div 'focusable\n",
       "    el.attr('tabindex', 0)\n",
       "    // reach out to IPython and tell the keyboard manager to turn it's self\n",
       "    // off when our div gets focus\n",
       "\n",
       "    // location in version 3\n",
       "    if (IPython.notebook.keyboard_manager) {\n",
       "        IPython.notebook.keyboard_manager.register_events(el);\n",
       "    }\n",
       "    else {\n",
       "        // location in version 2\n",
       "        IPython.keyboard_manager.register_events(el);\n",
       "    }\n",
       "\n",
       "}\n",
       "\n",
       "mpl.figure.prototype._key_event_extra = function(event, name) {\n",
       "    var manager = IPython.notebook.keyboard_manager;\n",
       "    if (!manager)\n",
       "        manager = IPython.keyboard_manager;\n",
       "\n",
       "    // Check for shift+enter\n",
       "    if (event.shiftKey && event.which == 13) {\n",
       "        this.canvas_div.blur();\n",
       "        event.shiftKey = false;\n",
       "        // Send a \"J\" for go to next cell\n",
       "        event.which = 74;\n",
       "        event.keyCode = 74;\n",
       "        manager.command_mode();\n",
       "        manager.handle_keydown(event);\n",
       "    }\n",
       "}\n",
       "\n",
       "mpl.figure.prototype.handle_save = function(fig, msg) {\n",
       "    fig.ondownload(fig, null);\n",
       "}\n",
       "\n",
       "\n",
       "mpl.find_output_cell = function(html_output) {\n",
       "    // Return the cell and output element which can be found *uniquely* in the notebook.\n",
       "    // Note - this is a bit hacky, but it is done because the \"notebook_saving.Notebook\"\n",
       "    // IPython event is triggered only after the cells have been serialised, which for\n",
       "    // our purposes (turning an active figure into a static one), is too late.\n",
       "    var cells = IPython.notebook.get_cells();\n",
       "    var ncells = cells.length;\n",
       "    for (var i=0; i<ncells; i++) {\n",
       "        var cell = cells[i];\n",
       "        if (cell.cell_type === 'code'){\n",
       "            for (var j=0; j<cell.output_area.outputs.length; j++) {\n",
       "                var data = cell.output_area.outputs[j];\n",
       "                if (data.data) {\n",
       "                    // IPython >= 3 moved mimebundle to data attribute of output\n",
       "                    data = data.data;\n",
       "                }\n",
       "                if (data['text/html'] == html_output) {\n",
       "                    return [cell, data, j];\n",
       "                }\n",
       "            }\n",
       "        }\n",
       "    }\n",
       "}\n",
       "\n",
       "// Register the function which deals with the matplotlib target/channel.\n",
       "// The kernel may be null if the page has been refreshed.\n",
       "if (IPython.notebook.kernel != null) {\n",
       "    IPython.notebook.kernel.comm_manager.register_target('matplotlib', mpl.mpl_figure_comm);\n",
       "}\n"
      ],
      "text/plain": [
       "<IPython.core.display.Javascript object>"
      ]
     },
     "metadata": {},
     "output_type": "display_data"
    },
    {
     "data": {
      "text/html": [
       "<img src=\"data:image/png;base64,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\" width=\"640\">"
      ],
      "text/plain": [
       "<IPython.core.display.HTML object>"
      ]
     },
     "metadata": {},
     "output_type": "display_data"
    },
    {
     "data": {
      "text/plain": [
       "<matplotlib.axes._subplots.AxesSubplot at 0x7fa5d983d950>"
      ]
     },
     "execution_count": null,
     "metadata": {},
     "output_type": "execute_result"
    }
   ],
   "source": [
    "hfd_data[\"co count\"].plot()"
   ]
  },
  {
   "cell_type": "markdown",
   "metadata": {},
   "source": [
    "### Plot multiple compounds for a single site - with the option to overlay "
   ]
  },
  {
   "cell_type": "markdown",
   "metadata": {},
   "source": [
    "Get the data from multiple sites as we have with our search call above"
   ]
  },
  {
   "cell_type": "markdown",
   "metadata": {},
   "source": [
    "Plot the data from Bilsdale"
   ]
  },
  {
   "cell_type": "code",
   "execution_count": null,
   "metadata": {},
   "outputs": [],
   "source": [
    "bsd_terms = [\"bsd_co\", \"bsd_co2\"]\n",
    "bsd_keys = {key: search_results[key] for key in bsd_terms}\n",
    "bsd_data = json_to_dataframe(retrieve.retrieve(keys=bsd_keys))"
   ]
  },
  {
   "cell_type": "markdown",
   "metadata": {},
   "source": [
    "Now we can plot and compare the CO and CO2 data at Bilsdale"
   ]
  },
  {
   "cell_type": "code",
   "execution_count": null,
   "metadata": {},
   "outputs": [
    {
     "data": {
      "application/vnd.jupyter.widget-view+json": {
       "model_id": "57b1996eced74903a39df81017c2881c",
       "version_major": 2,
       "version_minor": 0
      },
      "text/plain": [
       "Figure(animation_duration=1000, axes=[Axis(label='Date', scale=DateScale()), Axis(label='Count', orientation='…"
      ]
     },
     "metadata": {},
     "output_type": "display_data"
    }
   ],
   "source": [
    "x_scale = DateScale()\n",
    "y_scale = LinearScale()\n",
    "scales = {\"x\": x_scale, \"y\": y_scale}\n",
    "\n",
    "ax = Axis(label=\"Date\", scale=x_scale)\n",
    "ay = Axis(label=\"Count\", scale=y_scale, orientation=\"vertical\")\n",
    "\n",
    "co_data = bsd_data[\"bsd_co\"]\n",
    "co2_data = bsd_data[\"bsd_co2\"]\n",
    "\n",
    "co_x_data = co_data.index\n",
    "co_y_data = co_data.iloc[:,0]\n",
    "\n",
    "co2_x_data = co2_data.index\n",
    "co2_y_data = co2_data.iloc[:,0]\n",
    "\n",
    "co_scatter = Scatter(x=co_x_data, y=co_y_data, scales=scales, colors=[\"LightGreen\"])\n",
    "co2_scatter = Scatter(x=co2_x_data, y=co2_y_data, scales=scales, colors=[\"steelblue\"])\n",
    "\n",
    "figure = Figure(marks=[co_scatter, co2_scatter], axes=[ax, ay], animation_duration=1000)\n",
    "figure\n",
    "\n"
   ]
  },
  {
   "cell_type": "markdown",
   "metadata": {},
   "source": [
    "### Plot multiple compounds form different sites - with the option to overlay "
   ]
  },
  {
   "cell_type": "code",
   "execution_count": null,
   "metadata": {},
   "outputs": [
    {
     "data": {
      "text/plain": [
       "dict_keys(['bsd_co', 'hfd_co', 'bsd_co2', 'hfd_co2'])"
      ]
     },
     "execution_count": null,
     "metadata": {},
     "output_type": "execute_result"
    }
   ],
   "source": [
    "search_results.keys()"
   ]
  },
  {
   "cell_type": "code",
   "execution_count": null,
   "metadata": {},
   "outputs": [],
   "source": [
    "bsd_hfd_data = json_to_dataframe(retrieve.retrieve(keys=search_results))"
   ]
  },
  {
   "cell_type": "code",
   "execution_count": null,
   "metadata": {},
   "outputs": [
    {
     "data": {
      "text/plain": [
       "dict_keys(['bsd_co', 'hfd_co', 'bsd_co2', 'hfd_co2'])"
      ]
     },
     "execution_count": null,
     "metadata": {},
     "output_type": "execute_result"
    }
   ],
   "source": [
    "bsd_hfd_data.keys()"
   ]
  },
  {
   "cell_type": "markdown",
   "metadata": {},
   "source": [
    "Upload some data from Tacolneston, `tac.picarro.1minute.100m.min.dat`"
   ]
  },
  {
   "cell_type": "code",
   "execution_count": null,
   "metadata": {},
   "outputs": [],
   "source": [
    "tac_file = get_CRDS_path(\"tac.picarro.1minute.100m.min.dat\")\n",
    "result_tac = processing.process_files(user=user, files=tac_file, data_type=\"CRDS\")"
   ]
  },
  {
   "cell_type": "code",
   "execution_count": null,
   "metadata": {},
   "outputs": [
    {
     "data": {
      "text/plain": [
       "{'tac.picarro.1minute.100m.min.dat': ['8acd616f-d145-4ef3-8058-2eff116f0f6a',\n",
       "  'efe707ac-1a32-4cd1-9522-80f48163de19']}"
      ]
     },
     "execution_count": null,
     "metadata": {},
     "output_type": "execute_result"
    }
   ],
   "source": [
    "result_tac"
   ]
  },
  {
   "cell_type": "markdown",
   "metadata": {},
   "source": [
    "Do a new search for the TAC and HFD data"
   ]
  },
  {
   "cell_type": "code",
   "execution_count": null,
   "metadata": {},
   "outputs": [
    {
     "name": "stdout",
     "output_type": "stream",
     "text": [
      "['ch4', 'co2'] ['tac', 'hfd']\n"
     ]
    }
   ],
   "source": [
    "start = datetime(1970, 1,1)\n",
    "end = datetime.now()\n",
    "\n",
    "search_terms = [\"ch4\", \"co2\"]\n",
    "search_locations = [\"tac\", \"hfd\"]\n",
    "data_type = \"CRDS\"\n",
    "\n",
    "search_results = search.search(search_terms=search_terms, locations=search_locations, \n",
    "                               data_type=data_type, start_datetime=start, end_datetime=end)"
   ]
  },
  {
   "cell_type": "code",
   "execution_count": null,
   "metadata": {},
   "outputs": [],
   "source": [
    "hfd_tac_data = download_keys(key_dict=search_results)"
   ]
  },
  {
   "cell_type": "code",
   "execution_count": null,
   "metadata": {},
   "outputs": [
    {
     "data": {
      "text/plain": [
       "dict_keys(['tac_ch4', 'hfd_ch4', 'tac_co2', 'hfd_co2'])"
      ]
     },
     "execution_count": null,
     "metadata": {},
     "output_type": "execute_result"
    }
   ],
   "source": [
    "hfd_tac_data.keys()"
   ]
  },
  {
   "cell_type": "code",
   "execution_count": null,
   "metadata": {},
   "outputs": [],
   "source": [
    "ch4_scales = {\"x\": DateScale(), \"y\": LinearScale()}\n",
    "co2_scales = {\"x\": DateScale(), \"y\": LinearScale()}\n",
    "\n",
    "ax = Axis(label=\"Date\", scale=x_scale)\n",
    "ay = Axis(label=\"Count\", scale=y_scale, orientation=\"vertical\")\n",
    "\n",
    "tac_ch4_data = hfd_tac_data[\"tac_ch4\"]\n",
    "hfd_ch4_data = hfd_tac_data[\"hfd_ch4\"]\n",
    "\n",
    "tac_co2_data = hfd_tac_data[\"tac_co2\"]\n",
    "hfd_co2_data = hfd_tac_data[\"hfd_co2\"]\n",
    "\n",
    "tac_ch4_x = tac_ch4_data.index\n",
    "tac_ch4_y = tac_ch4_data[\"ch4 count\"]\n",
    "\n",
    "hfd_ch4_x = hfd_ch4_data.index\n",
    "hfd_ch4_y = hfd_ch4_data[\"ch4 count\"]\n",
    "\n",
    "tac_co2_x = tac_co2_data.index\n",
    "tac_co2_y = tac_co2_data[\"co2 count\"]\n",
    "\n",
    "hfd_co2_x = hfd_co2_data.index\n",
    "hfd_co2_y = hfd_co2_data[\"co2 count\"]\n",
    "\n",
    "# co_x_data = co_data.index\n",
    "# co_y_data = co_data.iloc[:,0]\n",
    "\n",
    "# co2_x_data = co2_data.index\n",
    "# co2_y_data = co2_data.iloc[:,0]\n",
    "\n",
    "tac_ch4_scatter = Lines(x=tac_ch4_x, y=tac_ch4_y, scales=ch4_scales, colors=[\"LightGreen\"])\n",
    "hfd_ch4_scatter = Lines(x=hfd_ch4_x, y=hfd_ch4_y, scales=ch4_scales, colors=[\"steelblue\"])\n",
    "\n",
    "tac_co2_scatter = Lines(x=tac_co2_x, y=tac_co2_y, scales=co2_scales, colors=[\"LightGreen\"])\n",
    "hfd_co2_scatter = Lines(x=hfd_co2_x, y=hfd_co2_y, scales=co2_scales, colors=[\"steelblue\"])\n",
    "\n",
    "ch4_figure = Figure(marks=[tac_ch4_scatter, hfd_ch4_scatter], axes=[ax, ay], animation_duration=1000)\n",
    "co2_figure = Figure(marks=[tac_co2_scatter, hfd_co2_scatter], axes=[ax, ay], animation_duration=1000)\n",
    "\n",
    "\n"
   ]
  },
  {
   "cell_type": "code",
   "execution_count": null,
   "metadata": {},
   "outputs": [
    {
     "data": {
      "application/vnd.jupyter.widget-view+json": {
       "model_id": "34aaab584c1e4f119bf595bdd61ac569",
       "version_major": 2,
       "version_minor": 0
      },
      "text/plain": [
       "VBox(children=(Figure(animation_duration=1000, axes=[Axis(label='Date', scale=DateScale(), side='bottom'), Axi…"
      ]
     },
     "metadata": {},
     "output_type": "display_data"
    }
   ],
   "source": [
    "VBox(children=[ch4_figure, co2_figure])"
   ]
  },
  {
   "cell_type": "markdown",
   "metadata": {},
   "source": [
    "# Upload from GC data"
   ]
  },
  {
   "cell_type": "code",
   "execution_count": null,
   "metadata": {},
   "outputs": [],
   "source": [
    "cape_data = get_path(\"capegrim-medusa.18.C\", data_type=\"GC\")\n",
    "cape_prec = get_path(\"capegrim-medusa.18.precisions.C\", data_type=\"GC\")\n",
    "\n",
    "trinindad_data = get_path(\"trinidadhead.01.C\", data_type=\"GC\")\n",
    "trinindad_prec = get_path(\"trinidadhead.01.precisions.C\", data_type=\"GC\")\n",
    "                          "
   ]
  },
  {
   "cell_type": "code",
   "execution_count": null,
   "metadata": {},
   "outputs": [],
   "source": [
    "result_cape = processing.process_files(user=user, files=bsd_file, data_type=\"CRDS\")"
   ]
  }
 ],
 "metadata": {
  "kernelspec": {
   "display_name": "Python 3",
   "language": "python",
   "name": "python3"
  }
 },
 "nbformat": 4,
 "nbformat_minor": 2
}
