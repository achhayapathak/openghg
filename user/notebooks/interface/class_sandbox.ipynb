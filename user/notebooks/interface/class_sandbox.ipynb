{
 "cells": [
  {
   "cell_type": "code",
   "execution_count": null,
   "metadata": {},
   "outputs": [],
   "source": [
    "import os\n",
    "import sys\n",
    "sys.path.insert(0, \"../../..\")\n",
    "sys.path.insert(0, \"../../../../acquire\")"
   ]
  },
  {
   "cell_type": "code",
   "execution_count": null,
   "metadata": {},
   "outputs": [
    {
     "name": "stdout",
     "output_type": "stream",
     "text": [
      "The autoreload extension is already loaded. To reload it, use:\n",
      "  %reload_ext autoreload\n"
     ]
    }
   ],
   "source": [
    "# Autoreload modules before executing code, useful during development\n",
    "%load_ext autoreload\n",
    "%autoreload 2"
   ]
  },
  {
   "cell_type": "code",
   "execution_count": null,
   "metadata": {},
   "outputs": [],
   "source": [
    "from HUGS.Interface import Interface"
   ]
  },
  {
   "cell_type": "code",
   "execution_count": null,
   "metadata": {},
   "outputs": [],
   "source": [
    "interface = Interface()"
   ]
  },
  {
   "cell_type": "code",
   "execution_count": null,
   "metadata": {},
   "outputs": [
    {
     "data": {
      "application/vnd.jupyter.widget-view+json": {
       "model_id": "3b3092d60d224668a5dffdaaa71c15d8",
       "version_major": 2,
       "version_minor": 0
      },
      "text/plain": [
       "VBox(children=(VBox(children=(Text(value='', description='Username: ', placeholder='username'), Label(value='S…"
      ]
     },
     "metadata": {},
     "output_type": "display_data"
    },
    {
     "name": "stdout",
     "output_type": "stream",
     "text": [
      "{'bsd_co_248m': ['data/uuid/f23375aa-958c-4df2-899f-6e588601d3ab/2014-01-30T10:52:30_2014-01-30T14:20:30']}\n",
      "Downloaded....\n",
      "{'bsd_co_248m': ['data/uuid/f23375aa-958c-4df2-899f-6e588601d3ab/2014-01-30T10:52:30_2014-01-30T14:20:30'], 'bsd_co2_248m': ['data/uuid/f9785f46-a512-4c7f-a5a9-d0ce71541881/2014-01-30T10:52:30_2014-01-30T14:20:30'], 'bsd_ch4_248m': ['data/uuid/3c3895d9-8759-435f-936d-84f876285f8f/2014-01-30T10:52:30_2014-01-30T14:20:30']}\n",
      "Downloaded....\n",
      "{'bsd_co_248m': ['data/uuid/f23375aa-958c-4df2-899f-6e588601d3ab/2014-01-30T10:52:30_2014-01-30T14:20:30'], 'bsd_co2_248m': ['data/uuid/f9785f46-a512-4c7f-a5a9-d0ce71541881/2014-01-30T10:52:30_2014-01-30T14:20:30'], 'bsd_ch4_248m': ['data/uuid/3c3895d9-8759-435f-936d-84f876285f8f/2014-01-30T10:52:30_2014-01-30T14:20:30']}\n",
      "Downloaded....\n"
     ]
    }
   ],
   "source": [
    "box = interface.show_interface(new_user=True)\n",
    "box"
   ]
  },
  {
   "cell_type": "code",
   "execution_count": null,
   "metadata": {},
   "outputs": [],
   "source": []
  },
  {
   "cell_type": "code",
   "execution_count": null,
   "metadata": {},
   "outputs": [],
   "source": []
  }
 ],
 "metadata": {
  "kernelspec": {
   "display_name": "Python 3",
   "language": "python",
   "name": "python3"
  }
 },
 "nbformat": 4,
 "nbformat_minor": 2
}
