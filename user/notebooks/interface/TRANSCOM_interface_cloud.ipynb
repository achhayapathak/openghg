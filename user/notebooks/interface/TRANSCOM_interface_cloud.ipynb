{
 "cells": [
  {
   "cell_type": "code",
   "execution_count": null,
   "metadata": {},
   "outputs": [],
   "source": [
    "import os\n",
    "import sys\n",
    "from datetime import datetime\n",
    "sys.path.insert(0, \"../../..\")\n",
    "sys.path.insert(0, \"../../../../acquire\")\n",
    "\n",
    "from Acquire.ObjectStore import datetime_to_string\n",
    "from Acquire.Client import User, Drive, Service, PAR, Authorisation, StorageCreds\n",
    "\n",
    "from HUGS.Processing import search\n",
    "from HUGS.Client import Process, Search, Retrieve\n",
    "from HUGS.Interface import get_map_locations, parse_data, scatter_plot, comparison_plot\n",
    "from HUGS.Interface import generate_password, get_download_keys, get_login, create_user\n",
    "from HUGS.Interface import search_emissions, get_emissions_data, plot_emissions\n",
    "\n",
    "from bqplot import pyplot as plt\n",
    "from bqplot import DateScale, LinearScale, LogScale, Axis, Lines, Figure, Scatter\n",
    "\n",
    "from ipywidgets import (GridspecLayout, GridBox , VBox, HBox, HTML, Layout, Text, \n",
    "                        Button, Output, Checkbox, Label)\n",
    "import ipywidgets as widget"
   ]
  },
  {
   "cell_type": "code",
   "execution_count": null,
   "metadata": {},
   "outputs": [],
   "source": [
    "%load_ext autoreload\n",
    "%autoreload 2"
   ]
  },
  {
   "cell_type": "markdown",
   "metadata": {},
   "source": [
    "# Welcome"
   ]
  },
  {
   "cell_type": "markdown",
   "metadata": {},
   "source": [
    "This notebook allows interaction with the prototype of the HUS platform. It is currently very heavily in development and as such will change extensively in the coming months. A polished notebook interface based on [ipywidgets](https://ipywidgets.readthedocs.io/en/latest/) will be developed along with another, web-based, interface for users may not be as comfortable with Jupyer Notebooks.\n",
    "\n",
    "Play around with the platform and please send us your feedback to [feedback@hugs-cloud.com](mailto:feedback@hugs-cloud.com)"
   ]
  },
  {
   "cell_type": "markdown",
   "metadata": {},
   "source": [
    " Enable matplotlib inline plotting"
   ]
  },
  {
   "cell_type": "code",
   "execution_count": null,
   "metadata": {},
   "outputs": [],
   "source": [
    "%matplotlib notebook"
   ]
  },
  {
   "cell_type": "markdown",
   "metadata": {},
   "source": [
    "# Remove this"
   ]
  },
  {
   "cell_type": "code",
   "execution_count": null,
   "metadata": {},
   "outputs": [],
   "source": [
    "# Autoreload modules before executing code, useful during development\n",
    "%load_ext autoreload\n",
    "%autoreload 2"
   ]
  },
  {
   "cell_type": "markdown",
   "metadata": {},
   "source": [
    "# Create an account\n",
    "\n",
    "To use the HUGS service an account must be created using the Acquire authentication service. Please follow the instructions below to create your account."
   ]
  },
  {
   "cell_type": "code",
   "execution_count": null,
   "metadata": {},
   "outputs": [],
   "source": [
    "create_user()"
   ]
  },
  {
   "cell_type": "markdown",
   "metadata": {},
   "source": [
    "## Login\n",
    "\n",
    "You are now ready to login to the HUGS platform"
   ]
  },
  {
   "cell_type": "code",
   "execution_count": null,
   "metadata": {},
   "outputs": [],
   "source": [
    "user, login = get_login()\n",
    "login"
   ]
  },
  {
   "cell_type": "markdown",
   "metadata": {},
   "source": [
    "#### Check that we've been logged in"
   ]
  },
  {
   "cell_type": "code",
   "execution_count": null,
   "metadata": {},
   "outputs": [],
   "source": [
    "user.wait_for_login()"
   ]
  },
  {
   "cell_type": "markdown",
   "metadata": {},
   "source": [
    "# Searching"
   ]
  },
  {
   "cell_type": "markdown",
   "metadata": {},
   "source": [
    "### To search\n",
    "\n",
    "1. `search_terms` - a `list` of species to search for. To search for all species or locations simply pass an empty list.\n",
    "  \n",
    "\n",
    "2. `search_locations` - a `list` of locations / sites to search for. \n",
    "For example `bsd` or `Bilsdale`.\n",
    "    \n",
    "3. `data_type` - For example `CRDS` or `GC`\n",
    "4. `start`, `end` - Python datetime objects \n",
    "\n"
   ]
  },
  {
   "cell_type": "code",
   "execution_count": null,
   "metadata": {},
   "outputs": [],
   "source": [
    "base_url = \"https://hugs.acquire-aaai.com/t\"\n",
    "search = Search(service_url=base_url)\n",
    "\n",
    "# A list of species names\n",
    "search_terms = []\n",
    "# A list of locations\n",
    "search_locations = []\n",
    "data_type = \"CRDS\"\n",
    "\n",
    "start = datetime(1970, 1,1)\n",
    "end = datetime.now()\n",
    "\n",
    "search_results = search.search(search_terms=search_terms, locations=search_locations, \n",
    "                               data_type=data_type, start_datetime=start, end_datetime=end)\n"
   ]
  },
  {
   "cell_type": "code",
   "execution_count": null,
   "metadata": {},
   "outputs": [],
   "source": [
    "search_results.keys()"
   ]
  },
  {
   "cell_type": "markdown",
   "metadata": {},
   "source": [
    "### Map of locations\n",
    "\n",
    "Here we utilise the [ipyleaflet](https://ipyleaflet.readthedocs.io/en/latest/) library to create a map marked with the locations of the sites available. You may click on the marked locations to see details about the data held for these sites."
   ]
  },
  {
   "cell_type": "code",
   "execution_count": null,
   "metadata": {},
   "outputs": [],
   "source": [
    "get_map_locations(search_results)"
   ]
  },
  {
   "cell_type": "markdown",
   "metadata": {},
   "source": [
    "### Playing with the data"
   ]
  },
  {
   "cell_type": "code",
   "execution_count": null,
   "metadata": {},
   "outputs": [],
   "source": [
    "to_download = [\"bsd_co\", \"hfd_co\", \"bsd_co2\", \"hfd_co2\"]"
   ]
  },
  {
   "cell_type": "markdown",
   "metadata": {},
   "source": [
    "Create a Retrieve object so we can interact with the data stored in the cloud."
   ]
  },
  {
   "cell_type": "code",
   "execution_count": null,
   "metadata": {},
   "outputs": [],
   "source": [
    "retrieve = Retrieve(service_url=base_url)"
   ]
  },
  {
   "cell_type": "markdown",
   "metadata": {},
   "source": [
    "From the search results we can select the keys for the data we want to work with using the `get_download_keys` function. We just pass it a list containing the keys we want to download and it returns an object we can give to the `retrieve` function."
   ]
  },
  {
   "cell_type": "code",
   "execution_count": null,
   "metadata": {},
   "outputs": [],
   "source": [
    "download_keys = get_download_keys(search_results, to_download)\n",
    "data = parse_data(retrieve.retrieve(keys=download_keys))"
   ]
  },
  {
   "cell_type": "code",
   "execution_count": null,
   "metadata": {},
   "outputs": [],
   "source": [
    "bsd_data = data[\"bsd_co\"]\n",
    "scatter_plot(bsd_data)"
   ]
  },
  {
   "cell_type": "code",
   "execution_count": null,
   "metadata": {},
   "outputs": [],
   "source": [
    "comparison_plot(data, [\"hfd_co\", \"hfd_co2\"])\n"
   ]
  },
  {
   "cell_type": "markdown",
   "metadata": {},
   "source": [
    "## Plotting using matplotlib\n",
    "\n",
    "The quick plots created above were created using [bqplot](https://github.com/bloomberg/bqplot/). You are free to use the plotting library of your choice to plot the data provided by the platform. For time-series data the data is provided as `Pandas.DataFrame` objects. Here we'll use `matplotlib` to make a few small plots.\n"
   ]
  },
  {
   "cell_type": "markdown",
   "metadata": {},
   "source": [
    "We'll now plot multiple gases and place these plots into a single figure"
   ]
  },
  {
   "cell_type": "code",
   "execution_count": null,
   "metadata": {},
   "outputs": [],
   "source": [
    "# A list of species names\n",
    "search_terms = [\"H-2402\",\"CH3Cl\",\"CH2Cl2\",\"HFC-152a\"]\n",
    "# A list of locations\n",
    "search_locations = [\"capegrim\"]\n",
    "data_type = \"GC\"\n",
    "\n",
    "start = datetime(1970, 1,1)\n",
    "end = datetime.now()\n",
    "\n",
    "search_results = search.search(search_terms=search_terms, locations=search_locations, \n",
    "                               data_type=data_type, start_datetime=start, end_datetime=end)"
   ]
  },
  {
   "cell_type": "code",
   "execution_count": null,
   "metadata": {},
   "outputs": [],
   "source": [
    "search_results.keys()"
   ]
  },
  {
   "cell_type": "code",
   "execution_count": null,
   "metadata": {},
   "outputs": [],
   "source": [
    "to_download = [\"capegrim_H-2402\", \"capegrim_CH3Cl\", \"capegrim_CH2Cl2\", \"capegrim_HFC-152a\"]\n",
    "download_keys = get_download_keys(search_results, to_download)\n",
    "data = parse_data(retrieve.retrieve(keys=download_keys))\n",
    "\n"
   ]
  },
  {
   "cell_type": "code",
   "execution_count": null,
   "metadata": {},
   "outputs": [],
   "source": [
    "H2402_data = data[\"capegrim_H-2402\"][\"H-2402\"]\n",
    "CH3Cl_data = data[\"capegrim_CH3Cl\"][\"CH3Cl\"]\n",
    "CH2Cl2_data = data[\"capegrim_CH2Cl2\"][\"CH2Cl2\"]\n",
    "HFC152a_data = data[\"capegrim_HFC-152a\"][\"HFC-152a\"]"
   ]
  },
  {
   "cell_type": "code",
   "execution_count": null,
   "metadata": {},
   "outputs": [],
   "source": [
    "import matplotlib.pyplot as plt\n",
    "import matplotlib as mpl\n",
    "\n",
    "fig = plt.figure(tight_layout=True)\n",
    "# Remove the spines\n",
    "mpl.style.use('default')\n",
    "mpl.rcParams['axes.spines.right'] = False\n",
    "mpl.rcParams['axes.spines.top'] = False\n",
    "# Get a nicer colourmap\n",
    "cmap = plt.get_cmap(\"Set2\")\n",
    "\n",
    "ax = fig.add_subplot(221)\n",
    "ax.plot(H2402_data.index, H2402_data.values, color=cmap(1), )\n",
    "ax.set_title(\"H-2402\")\n",
    "ax.set_xticks(ax.get_xticks()[::4])\n",
    "ax = fig.add_subplot(222)\n",
    "ax.plot(CH3Cl_data.index, CH3Cl_data.values, color=cmap(2))\n",
    "ax.set_title(\"CH3Cl\")\n",
    "ax.set_xticks(ax.get_xticks()[::4])\n",
    "ax = fig.add_subplot(223)\n",
    "ax.plot(CH2Cl2_data.index, CH2Cl2_data.values, color=cmap(3))\n",
    "ax.set_title(\"CH2Cl2\")\n",
    "ax.set_xticks(ax.get_xticks()[::4])\n",
    "ax = fig.add_subplot(224)\n",
    "ax.plot(HFC152a_data.index, HFC152a_data.values, color=cmap(4))\n",
    "ax.set_title(\"HFC152a\")\n",
    "ax.set_xticks(ax.get_xticks()[::4])"
   ]
  },
  {
   "cell_type": "markdown",
   "metadata": {},
   "source": [
    "## Plot emissions maps"
   ]
  },
  {
   "cell_type": "code",
   "execution_count": null,
   "metadata": {},
   "outputs": [],
   "source": [
    "# Empty search terms, show all data\n",
    "search_terms = []\n",
    "results = search_emissions(search_terms=search_terms)\n",
    "print(results)"
   ]
  },
  {
   "cell_type": "code",
   "execution_count": null,
   "metadata": {},
   "outputs": [],
   "source": [
    "data = get_emissions_data(\"WAO-20magl_EUROPE_201501\")\n",
    "\n",
    "plot_emissions(data)"
   ]
  },
  {
   "cell_type": "code",
   "execution_count": null,
   "metadata": {},
   "outputs": [],
   "source": []
  }
 ],
 "metadata": {
  "kernelspec": {
   "display_name": "Python 3",
   "language": "python",
   "name": "python3"
  }
 },
 "nbformat": 4,
 "nbformat_minor": 2
}
