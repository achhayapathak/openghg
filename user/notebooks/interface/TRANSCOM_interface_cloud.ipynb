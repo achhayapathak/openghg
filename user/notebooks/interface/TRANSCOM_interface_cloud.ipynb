{
 "cells": [
  {
   "cell_type": "code",
   "execution_count": null,
   "metadata": {},
   "outputs": [],
   "source": [
    "import os\n",
    "import sys\n",
    "from datetime import datetime\n",
    "# sys.path.insert(0, \"../../..\")\n",
    "# sys.path.insert(0, \"../../../../acquire\")\n",
    "\n",
    "from Acquire.ObjectStore import datetime_to_string\n",
    "from Acquire.Client import User, Drive, Service, PAR, Authorisation, StorageCreds\n",
    "\n",
    "from HUGS.Processing import search\n",
    "from HUGS.Client import Process, Search, Retrieve\n",
    "from HUGS.Interface import get_map_locations, parse_data, scatter_plot, comparison_plot\n",
    "from HUGS.Interface import generate_password, get_download_keys\n",
    "from HUGS.Interface import search_emissions, get_emissions_data, plot_emissions\n",
    "\n",
    "from bqplot import pyplot as plt\n",
    "from bqplot import DateScale, LinearScale, LogScale, Axis, Lines, Figure, Scatter\n",
    "\n",
    "from ipywidgets import (GridspecLayout, GridBox , VBox, HBox, HTML, Layout, Text, \n",
    "                        Button, Output, Checkbox, Label)\n",
    "import ipywidgets as widget"
   ]
  },
  {
   "cell_type": "markdown",
   "metadata": {},
   "source": [
    "# Welcome"
   ]
  },
  {
   "cell_type": "markdown",
   "metadata": {},
   "source": [
    "This notebook allows interaction with the prototype of the HUS platform. It is currently very heavily in development and as such will change extensively in the coming months. A polished notebook interface based on [ipywidgets](https://ipywidgets.readthedocs.io/en/latest/) will be developed along with another, web-based, interface for users may not be as comfortable with Jupyer Notebooks.\n",
    "\n",
    "Play around with the platform and please send us your feedback to [feedback@hugs-cloud.com](mailto:feedback@hugs-cloud.com)"
   ]
  },
  {
   "cell_type": "markdown",
   "metadata": {},
   "source": [
    " Enable matplotlib inline plotting"
   ]
  },
  {
   "cell_type": "code",
   "execution_count": null,
   "metadata": {},
   "outputs": [],
   "source": [
    "%matplotlib notebook"
   ]
  },
  {
   "cell_type": "code",
   "execution_count": null,
   "metadata": {},
   "outputs": [],
   "source": []
  },
  {
   "cell_type": "markdown",
   "metadata": {},
   "source": [
    "# Remove this"
   ]
  },
  {
   "cell_type": "code",
   "execution_count": null,
   "metadata": {},
   "outputs": [],
   "source": [
    "# Autoreload modules before executing code, useful during development\n",
    "%load_ext autoreload\n",
    "%autoreload 2"
   ]
  },
  {
   "cell_type": "markdown",
   "metadata": {},
   "source": [
    "# Create an account\n",
    "\n",
    "To use the HUGS service an account must be created using the Acquire authentication service. Please follow the instructions below to create your account."
   ]
  },
  {
   "cell_type": "markdown",
   "metadata": {},
   "source": [
    "Enter a username and password using the cells below"
   ]
  },
  {
   "cell_type": "markdown",
   "metadata": {},
   "source": [
    "#### Password generator"
   ]
  },
  {
   "cell_type": "code",
   "execution_count": null,
   "metadata": {},
   "outputs": [
    {
     "name": "stdout",
     "output_type": "stream",
     "text": [
      "4A65f7Fddb4EeE8f40D1\n"
     ]
    }
   ],
   "source": [
    "long_password = generate_password()\n",
    "print(long_password)"
   ]
  },
  {
   "cell_type": "markdown",
   "metadata": {},
   "source": [
    "#### Credentials"
   ]
  },
  {
   "cell_type": "code",
   "execution_count": null,
   "metadata": {},
   "outputs": [],
   "source": [
    "username = \"gareth\"\n",
    "password = long_password # or create your own here"
   ]
  },
  {
   "cell_type": "code",
   "execution_count": null,
   "metadata": {},
   "outputs": [],
   "source": [
    "base_url = \"https://hugs.acquire-aaai.com/t\"\n",
    "result = User.register(username=username, password=password, \n",
    "                        identity_url=f\"{base_url}/identity\")"
   ]
  },
  {
   "cell_type": "code",
   "execution_count": null,
   "metadata": {},
   "outputs": [
    {
     "data": {
      "text/plain": [
       "{'provisioning_uri': 'otpauth://totp/identity%40hugs.acquire-aaai.com:gareth?secret=BMPWVD2Y7FFNWPHZ&issuer=identity%40hugs.acquire-aaai.com',\n",
       " 'otpsecret': 'BMPWVD2Y7FFNWPHZ',\n",
       " 'qrcode': <qrcode.image.pil.PilImage at 0x7f0058301810>}"
      ]
     },
     "execution_count": null,
     "metadata": {},
     "output_type": "execute_result"
    }
   ],
   "source": [
    "result"
   ]
  },
  {
   "cell_type": "markdown",
   "metadata": {},
   "source": [
    "## OTP QR code\n",
    "\n",
    "Run the cell below to create a QR code to scan using an authenticator app such as AndOTP or Google Authenticator"
   ]
  },
  {
   "cell_type": "code",
   "execution_count": null,
   "metadata": {},
   "outputs": [
    {
     "data": {
      "image/png": "[encoded data removed]",
      "text/plain": [
       "<qrcode.image.pil.PilImage at 0x7f0058301810>"
      ]
     },
     "execution_count": null,
     "metadata": {},
     "output_type": "execute_result"
    }
   ],
   "source": [
    "result[\"qrcode\"]"
   ]
  },
  {
   "cell_type": "markdown",
   "metadata": {},
   "source": [
    "## Login\n",
    "\n",
    "You are now ready to login to the HUGS platform"
   ]
  },
  {
   "cell_type": "code",
   "execution_count": null,
   "metadata": {},
   "outputs": [],
   "source": [
    "username = \"gareth\""
   ]
  },
  {
   "cell_type": "code",
   "execution_count": null,
   "metadata": {},
   "outputs": [],
   "source": [
    "user = User(username=username, identity_url=f\"{base_url}/identity\")"
   ]
  },
  {
   "cell_type": "code",
   "execution_count": null,
   "metadata": {},
   "outputs": [
    {
     "name": "stdout",
     "output_type": "stream",
     "text": [
      "Login by visiting: https://login.acquire-aaai.com?id=a0-a6/29.55.55.81\n",
      "(please check that this page displays the message 'small cats run slowly')\n"
     ]
    }
   ],
   "source": [
    "result = user.request_login()"
   ]
  },
  {
   "cell_type": "markdown",
   "metadata": {},
   "source": [
    "#### Check that we've been logged in"
   ]
  },
  {
   "cell_type": "code",
   "execution_count": null,
   "metadata": {},
   "outputs": [],
   "source": [
    "user.wait_for_login()"
   ]
  },
  {
   "cell_type": "markdown",
   "metadata": {},
   "source": [
    "# Searching"
   ]
  },
  {
   "cell_type": "markdown",
   "metadata": {},
   "source": [
    "### To search\n",
    "\n",
    "1. `search_terms` - a `list` of species to search for. To search for all species or locations simply pass an empty list.\n",
    "  \n",
    "\n",
    "2. `search_locations` - a `list` of locations / sites to search for. \n",
    "For example `bsd` or `Bilsdale`.\n",
    "    \n",
    "3. `data_type` - For example `CRDS` or `GC`\n",
    "4. `start`, `end` - Python datetime objects \n",
    "\n"
   ]
  },
  {
   "cell_type": "code",
   "execution_count": null,
   "metadata": {},
   "outputs": [
    {
     "name": "stdout",
     "output_type": "stream",
     "text": [
      "[] []\n"
     ]
    }
   ],
   "source": [
    "base_url = \"https://hugs.acquire-aaai.com/t\"\n",
    "search = Search(service_url=base_url)\n",
    "\n",
    "# A list of species names\n",
    "search_terms = []\n",
    "# A list of locations\n",
    "search_locations = []\n",
    "data_type = \"CRDS\"\n",
    "\n",
    "start = datetime(1970, 1,1)\n",
    "end = datetime.now()\n",
    "\n",
    "search_results = search.search(search_terms=search_terms, locations=search_locations, \n",
    "                               data_type=data_type, start_datetime=start, end_datetime=end)\n"
   ]
  },
  {
   "cell_type": "code",
   "execution_count": null,
   "metadata": {},
   "outputs": [
    {
     "data": {
      "text/plain": [
       "dict_keys(['bsd_ch4', 'bsd_co2', 'bsd_co', 'hfd_ch4', 'hfd_co2', 'hfd_co', 'tac_ch4', 'tac_co2'])"
      ]
     },
     "execution_count": null,
     "metadata": {},
     "output_type": "execute_result"
    }
   ],
   "source": [
    "search_results.keys()"
   ]
  },
  {
   "cell_type": "markdown",
   "metadata": {},
   "source": [
    "### Map of locations\n",
    "\n",
    "Here we utilise the [ipyleaflet](https://ipyleaflet.readthedocs.io/en/latest/) library to create a map marked with the locations of the sites available. You may click on the marked locations to see details about the data held for these sites."
   ]
  },
  {
   "cell_type": "code",
   "execution_count": null,
   "metadata": {},
   "outputs": [
    {
     "data": {
      "application/vnd.jupyter.widget-view+json": {
       "model_id": "4337837b483a4903a3066573dd6f5d7c",
       "version_major": 2,
       "version_minor": 0
      },
      "text/plain": [
       "Map(basemap={'url': 'https://{s}.tile.openstreetmap.org/{z}/{x}/{y}.png', 'max_zoom': 19, 'attribution': 'Map …"
      ]
     },
     "metadata": {},
     "output_type": "display_data"
    }
   ],
   "source": [
    "get_map_locations(search_results)"
   ]
  },
  {
   "cell_type": "markdown",
   "metadata": {},
   "source": [
    "### Playing with the data"
   ]
  },
  {
   "cell_type": "code",
   "execution_count": null,
   "metadata": {},
   "outputs": [],
   "source": [
    "to_download = [\"bsd_co\", \"hfd_co\", \"bsd_co2\", \"hfd_co2\"]"
   ]
  },
  {
   "cell_type": "markdown",
   "metadata": {},
   "source": [
    "Create a Retrieve object so we can interact with the data stored in the cloud."
   ]
  },
  {
   "cell_type": "code",
   "execution_count": null,
   "metadata": {},
   "outputs": [],
   "source": [
    "retrieve = Retrieve(service_url=base_url)"
   ]
  },
  {
   "cell_type": "markdown",
   "metadata": {},
   "source": [
    "From the search results we can select the keys for the data we want to work with using the `get_download_keys` function. We just pass it a list containing the keys we want to download and it returns an object we can give to the `retrieve` function."
   ]
  },
  {
   "cell_type": "code",
   "execution_count": null,
   "metadata": {},
   "outputs": [],
   "source": [
    "download_keys = get_download_keys(search_results, to_download)\n",
    "data = parse_data(retrieve.retrieve(keys=download_keys))"
   ]
  },
  {
   "cell_type": "code",
   "execution_count": null,
   "metadata": {},
   "outputs": [
    {
     "data": {
      "application/vnd.jupyter.widget-view+json": {
       "model_id": "354087d807ab445aa560b123ba29339e",
       "version_major": 2,
       "version_minor": 0
      },
      "text/plain": [
       "Figure(animation_duration=1000, axes=[Axis(label='Date', scale=DateScale()), Axis(label='Count', orientation='…"
      ]
     },
     "metadata": {},
     "output_type": "display_data"
    }
   ],
   "source": [
    "bsd_data = data[\"bsd_co\"]\n",
    "scatter_plot(bsd_data)"
   ]
  },
  {
   "cell_type": "code",
   "execution_count": null,
   "metadata": {},
   "outputs": [
    {
     "data": {
      "application/vnd.jupyter.widget-view+json": {
       "model_id": "bd328c30d12248e3accf6c9a5198e956",
       "version_major": 2,
       "version_minor": 0
      },
      "text/plain": [
       "Figure(animation_duration=1000, axes=[Axis(label='Date', scale=DateScale()), Axis(label='Count', orientation='…"
      ]
     },
     "metadata": {},
     "output_type": "display_data"
    }
   ],
   "source": [
    "comparison_plot(data, [\"hfd_co\", \"hfd_co2\"])\n"
   ]
  },
  {
   "cell_type": "markdown",
   "metadata": {},
   "source": [
    "## Raw plotting - use bqplot\n",
    "\n",
    "The quick plots created above were created using [bqplot](https://github.com/bloomberg/bqplot/). You are free to use the plotting library of your choice to plot the data provided by the platform. For time-series data the data is provided as `Pandas.DataFrame` objects.\n"
   ]
  },
  {
   "cell_type": "markdown",
   "metadata": {},
   "source": [
    "We'll now plot multiple gases and place these plots into a single figure"
   ]
  },
  {
   "cell_type": "code",
   "execution_count": null,
   "metadata": {},
   "outputs": [
    {
     "name": "stdout",
     "output_type": "stream",
     "text": [
      "['H-2402', 'CH3Cl', 'CH2Cl2', 'HFC-152a'] ['capegrim']\n"
     ]
    }
   ],
   "source": [
    "# A list of species names\n",
    "search_terms = [\"H-2402\",\"CH3Cl\",\"CH2Cl2\",\"HFC-152a\"]\n",
    "# A list of locations\n",
    "search_locations = [\"capegrim\"]\n",
    "data_type = \"GC\"\n",
    "\n",
    "start = datetime(1970, 1,1)\n",
    "end = datetime.now()\n",
    "\n",
    "search_results = search.search(search_terms=search_terms, locations=search_locations, \n",
    "                               data_type=data_type, start_datetime=start, end_datetime=end)"
   ]
  },
  {
   "cell_type": "code",
   "execution_count": null,
   "metadata": {},
   "outputs": [
    {
     "data": {
      "text/plain": [
       "dict_keys(['capegrim_H-2402', 'capegrim_CH3Cl', 'capegrim_CH2Cl2', 'capegrim_HFC-152a'])"
      ]
     },
     "execution_count": null,
     "metadata": {},
     "output_type": "execute_result"
    }
   ],
   "source": [
    "search_results.keys()"
   ]
  },
  {
   "cell_type": "code",
   "execution_count": null,
   "metadata": {},
   "outputs": [],
   "source": [
    "to_download = [\"capegrim_H-2402\", \"capegrim_CH3Cl\", \"capegrim_CH2Cl2\", \"capegrim_HFC-152a\"]\n",
    "download_keys = get_download_keys(search_results, to_download)\n",
    "data = parse_data(retrieve.retrieve(keys=download_keys))\n"
   ]
  },
  {
   "cell_type": "code",
   "execution_count": null,
   "metadata": {},
   "outputs": [],
   "source": [
    "H2402_data = data[\"capegrim_H-2402\"][\"H-2402\"]\n",
    "CH3Cl_data = data[\"capegrim_CH3Cl\"][\"CH3Cl\"]\n",
    "CH2Cl2_data = data[\"capegrim_CH2Cl2\"][\"CH2Cl2\"]\n",
    "HFC152a_data = data[\"capegrim_HFC-152a\"][\"HFC-152a\"]"
   ]
  },
  {
   "cell_type": "code",
   "execution_count": null,
   "metadata": {},
   "outputs": [
    {
     "data": {
      "application/vnd.jupyter.widget-view+json": {
       "model_id": "7420840d172f49909165cb1c9f07e34b",
       "version_major": 2,
       "version_minor": 0
      },
      "text/plain": [
       "VBox(children=(HBox(children=(Figure(axes=[Axis(label='Date', scale=DateScale()), Axis(label='Count', orientat…"
      ]
     },
     "metadata": {},
     "output_type": "display_data"
    }
   ],
   "source": [
    "x_scale = DateScale()\n",
    "y_scale = LinearScale()\n",
    "date_line_scales = {\"x\": DateScale(), \"y\": LinearScale()}\n",
    "\n",
    "ax = Axis(label=\"Date\", scale=x_scale)\n",
    "ay = Axis(label=\"Count\", scale=y_scale, orientation=\"vertical\")\n",
    "\n",
    "H2402_lines= Lines(x=H2402_data.index, y=H2402_data, scales={\"x\": DateScale(), \"y\": LinearScale()})\n",
    "H2402_fig = Figure(marks=[H2402_lines], axes=[ax,ay], title=\"H2402\")\n",
    "\n",
    "CH3Cl_lines= Lines(x=CH3Cl_data.index, y=CH3Cl_data, scales={\"x\": DateScale(), \"y\": LinearScale()})\n",
    "CH3Cl_fig = Figure(marks=[CH3Cl_lines], axes=[ax,ay], title=\"CH3Cl\")\n",
    "\n",
    "CH2Cl2_lines= Lines(x=CH2Cl2_data.index, y=CH2Cl2_data, scales={\"x\": DateScale(), \"y\": LinearScale()})\n",
    "CH2Cl2_fig = Figure(marks=[CH2Cl2_lines], axes=[ax,ay], title=\"CH2Cl2\")\n",
    "\n",
    "HFC152a_lines = Lines(x=HFC152a_data.index, y=HFC152a_data, scales={\"x\": DateScale(), \"y\": LinearScale()})\n",
    "HFC152a_fig = Figure(marks=[HFC152a_lines], axes=[ax,ay], title=\"HFC152a\")\n",
    "\n",
    "top_line = HBox(children=[H2402_fig, CH3Cl_fig])\n",
    "bot_line = HBox(children=[CH2Cl2_fig, HFC152a_fig])\n",
    "\n",
    "grid = VBox(children=[top_line, bot_line])\n",
    "grid"
   ]
  },
  {
   "cell_type": "markdown",
   "metadata": {},
   "source": [
    "## Plot emissions maps"
   ]
  },
  {
   "cell_type": "code",
   "execution_count": null,
   "metadata": {},
   "outputs": [
    {
     "ename": "NameError",
     "evalue": "name 'search_emissions' is not defined",
     "output_type": "error",
     "traceback": [
      "\u001b[0;31m---------------------------------------------------------------------------\u001b[0m",
      "\u001b[0;31mNameError\u001b[0m                                 Traceback (most recent call last)",
      "\u001b[0;32m<ipython-input-11-f5450a7ead46>\u001b[0m in \u001b[0;36m<module>\u001b[0;34m\u001b[0m\n\u001b[1;32m      1\u001b[0m \u001b[0;31m# Empty search terms, show all data\u001b[0m\u001b[0;34m\u001b[0m\u001b[0;34m\u001b[0m\u001b[0;34m\u001b[0m\u001b[0m\n\u001b[1;32m      2\u001b[0m \u001b[0msearch_terms\u001b[0m \u001b[0;34m=\u001b[0m \u001b[0;34m[\u001b[0m\u001b[0;34m]\u001b[0m\u001b[0;34m\u001b[0m\u001b[0;34m\u001b[0m\u001b[0m\n\u001b[0;32m----> 3\u001b[0;31m \u001b[0mresults\u001b[0m \u001b[0;34m=\u001b[0m \u001b[0msearch_emissions\u001b[0m\u001b[0;34m(\u001b[0m\u001b[0msearch_terms\u001b[0m\u001b[0;34m=\u001b[0m\u001b[0msearch_terms\u001b[0m\u001b[0;34m)\u001b[0m\u001b[0;34m\u001b[0m\u001b[0;34m\u001b[0m\u001b[0m\n\u001b[0m\u001b[1;32m      4\u001b[0m \u001b[0mprint\u001b[0m\u001b[0;34m(\u001b[0m\u001b[0mresults\u001b[0m\u001b[0;34m)\u001b[0m\u001b[0;34m\u001b[0m\u001b[0;34m\u001b[0m\u001b[0m\n",
      "\u001b[0;31mNameError\u001b[0m: name 'search_emissions' is not defined"
     ]
    }
   ],
   "source": [
    "# Empty search terms, show all data\n",
    "search_terms = []\n",
    "results = search_emissions(search_terms=search_terms)\n",
    "print(results)"
   ]
  },
  {
   "cell_type": "code",
   "execution_count": null,
   "metadata": {},
   "outputs": [],
   "source": [
    "data = get_emissions_data(results[0])\n",
    "\n",
    "plot_emissions(data)"
   ]
  },
  {
   "cell_type": "markdown",
   "metadata": {},
   "source": [
    "### Hide all the download keys etc from the user and just give a table of things to plot"
   ]
  },
  {
   "cell_type": "markdown",
   "metadata": {},
   "source": [
    "### Select the things to plot, return VBox's etc from plotting functions?"
   ]
  },
  {
   "cell_type": "code",
   "execution_count": null,
   "metadata": {},
   "outputs": [],
   "source": [
    "from ipyleaflet import (\n",
    "    Map,\n",
    "    Marker, MarkerCluster, TileLayer, ImageOverlay, GeoJSON,\n",
    "    Polyline, Polygon, Rectangle, Circle, CircleMarker, Popup,\n",
    "    SplitMapControl, WidgetControl,\n",
    "    basemaps, basemap_to_tiles\n",
    ")\n",
    "\n",
    "from ipywidgets import HTML"
   ]
  },
  {
   "cell_type": "code",
   "execution_count": null,
   "metadata": {},
   "outputs": [],
   "source": [
    "center = [54.2361, -4.548]\n",
    "zoom = 5\n",
    "m = Map(center=center, zoom=zoom)\n",
    "mark_bsd = Marker(location=(54.942544, -1.369204))\n",
    "mark_bsd.popup = HTML(value=\"Bilsdale\")\n",
    "\n",
    "mark_mhd = Marker(location=(53.20,-9.54))\n",
    "mark_mhd.popup = HTML(value=\"Macehead\")\n",
    "\n",
    "mark_tac = Marker(location=(52.511, 1.155003))\n",
    "mark_tac.popup = HTML(value=\"Tacolneston\")\n",
    "\n",
    "m += mark_bsd\n",
    "m += mark_mhd\n",
    "m += mark_tac\n",
    "\n",
    "display(m)"
   ]
  },
  {
   "cell_type": "code",
   "execution_count": null,
   "metadata": {},
   "outputs": [],
   "source": []
  }
 ],
 "metadata": {
  "kernelspec": {
   "display_name": "Python 3",
   "language": "python",
   "name": "python3"
  }
 },
 "nbformat": 4,
 "nbformat_minor": 2
}
