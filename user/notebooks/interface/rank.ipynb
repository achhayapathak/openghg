{
 "cells": [
  {
   "cell_type": "code",
   "execution_count": null,
   "metadata": {},
   "outputs": [],
   "source": [
    "import sys\n",
    "from datetime import datetime\n",
    "sys.path.insert(0, \"../../..\")\n",
    "sys.path.insert(0, \"../../../../acquire\")\n",
    "\n",
    "from Acquire.Client import User\n",
    "from HUGS.Client import Search, RankSources\n",
    "\n",
    "%load_ext autoreload\n",
    "%autoreload 2"
   ]
  },
  {
   "cell_type": "markdown",
   "metadata": {},
   "source": [
    "This is a simple and low-level interface to the ranking system"
   ]
  },
  {
   "cell_type": "code",
   "execution_count": null,
   "metadata": {},
   "outputs": [],
   "source": [
    "r = RankSources()\n",
    "\n",
    "# Get the sources for CO2 at Tacolneston\n",
    "rank_info = r.get_sources(site=\"tac\", species=\"co2\", data_type=\"CRDS\")\n",
    "\n",
    "rank_info"
   ]
  },
  {
   "cell_type": "markdown",
   "metadata": {},
   "source": [
    "Set a rank of 1 (the highest) for the 100m inlet between "
   ]
  },
  {
   "cell_type": "code",
   "execution_count": null,
   "metadata": {},
   "outputs": [],
   "source": [
    "daterange_100m = r.create_daterange(start=\"2012-07-26\", end=\"2016-07-06\")\n",
    "daterange_185m = r.create_daterange(start=\"2016-07-07\", end=\"2020-07-06\")"
   ]
  },
  {
   "cell_type": "code",
   "execution_count": null,
   "metadata": {},
   "outputs": [],
   "source": [
    "daterange_100m"
   ]
  },
  {
   "cell_type": "markdown",
   "metadata": {},
   "source": [
    "Change the rank by modifying the rank_info dictionary and changing the rank parameter and daterange"
   ]
  },
  {
   "cell_type": "markdown",
   "metadata": {},
   "source": [
    "```python\n",
    "updated_ranks = {'co2_tac_100m': {'rank': {'1': [daterange_100m]},\n",
    "  'data_range': '2012-07-26T11:04:07_2020-07-06T10:21:44',\n",
    "  'uuid': '<uuid>'},\n",
    " 'co2_tac_185m': {'rank': {'1': [daterange_185m]},\n",
    "  'data_range': '2013-01-31T00:18:30_2020-07-06T10:47:30',\n",
    "  'uuid': '<uuid>'}}\n",
    "```"
   ]
  },
  {
   "cell_type": "markdown",
   "metadata": {},
   "source": [
    "To more easily create valid daterange strings you can pass start/end dates to "
   ]
  },
  {
   "cell_type": "code",
   "execution_count": null,
   "metadata": {},
   "outputs": [],
   "source": [
    "updated_ranks = {'co2_tac_100m': {'rank': {'1': [daterange_100m]},\n",
    "  'data_range': '2012-07-26T11:04:07_2020-07-06T10:21:44',\n",
    "  'uuid': '6d15a125-3659-4c3c-9d4c-5344037151a2'},\n",
    " 'co2_tac_185m': {'rank': {'1': [daterange_185m]},\n",
    "  'data_range': '2013-01-31T00:18:30_2020-07-06T10:47:30',\n",
    "  'uuid': '6ba669f9-79a8-4dec-97f6-d97c4d437366'}}"
   ]
  },
  {
   "cell_type": "code",
   "execution_count": null,
   "metadata": {},
   "outputs": [],
   "source": [
    "r.rank_sources(updated_rankings=updated_ranks, data_type=\"CRDS\")"
   ]
  },
  {
   "cell_type": "code",
   "execution_count": null,
   "metadata": {},
   "outputs": [],
   "source": [
    "rank_info = r.get_sources(site=\"tac\", species=\"co2\", data_type=\"CRDS\")"
   ]
  },
  {
   "cell_type": "code",
   "execution_count": null,
   "metadata": {},
   "outputs": [],
   "source": [
    "rank_info"
   ]
  },
  {
   "cell_type": "markdown",
   "metadata": {},
   "source": [
    "Now we can search for CO2 data at TAC and it will return the highest ranked data for the daterange we specify"
   ]
  },
  {
   "cell_type": "code",
   "execution_count": null,
   "metadata": {},
   "outputs": [],
   "source": [
    "s = Search()\n",
    "\n",
    "results = s.search(species=\"co2\", locations=\"tac\", data_type=\"CRDS\")\n",
    "\n",
    "results"
   ]
  },
  {
   "cell_type": "markdown",
   "metadata": {},
   "source": [
    "Download the data and get a list of netCDFs"
   ]
  },
  {
   "cell_type": "code",
   "execution_count": null,
   "metadata": {},
   "outputs": [],
   "source": [
    "data = s.download([\"co2_tac_100m\", \"co2_tac_185m\"])"
   ]
  },
  {
   "cell_type": "code",
   "execution_count": null,
   "metadata": {},
   "outputs": [],
   "source": [
    "data"
   ]
  },
  {
   "cell_type": "code",
   "execution_count": null,
   "metadata": {},
   "outputs": [],
   "source": []
  }
 ],
 "metadata": {
  "kernelspec": {
   "display_name": "Python 3",
   "language": "python",
   "name": "python3"
  },
  "language_info": {
   "codemirror_mode": {
    "name": "ipython",
    "version": 3
   },
   "file_extension": ".py",
   "mimetype": "text/x-python",
   "name": "python",
   "nbconvert_exporter": "python",
   "pygments_lexer": "ipython3",
   "version": "3.8.3"
  }
 },
 "nbformat": 4,
 "nbformat_minor": 4
}
