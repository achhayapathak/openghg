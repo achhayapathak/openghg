{
 "cells": [
  {
   "cell_type": "code",
   "execution_count": null,
   "metadata": {},
   "outputs": [],
   "source": [
    "import ipywidgets as widgets"
   ]
  },
  {
   "cell_type": "code",
   "execution_count": null,
   "metadata": {},
   "outputs": [],
   "source": [
    " # Create the login widget - currently only accept a single file\n",
    "selection_button = widgets.FileUpload(description=\"Select\", multiple=False)\n",
    "upload_button = widgets.Button(description=\"Upload\", button_style=\"primary\")"
   ]
  },
  {
   "cell_type": "code",
   "execution_count": null,
   "metadata": {},
   "outputs": [],
   "source": [
    "header_layout = widgets.Layout(display='flex',flex_flow='row')\n",
    "\n",
    "table_layout = widgets.Layout(display='flex',flex_flow='row')\n",
    "\n",
    "main_layout = widgets.Layout(\n",
    "    display='flex',\n",
    "    flex_flow='row',\n",
    "    align_items='stretch',\n",
    "    width='80%',\n",
    "    justify_content='space-between'\n",
    ")"
   ]
  },
  {
   "cell_type": "code",
   "execution_count": null,
   "metadata": {},
   "outputs": [
    {
     "data": {
      "application/vnd.jupyter.widget-view+json": {
       "model_id": "8863156f315f46d3bc645b90243ef720",
       "version_major": 2,
       "version_minor": 0
      },
      "text/plain": [
       "VBox(children=(VBox(children=(HBox(children=(HTML(value='<b>Filename</b>', layout=Layout(display='flex', flex_…"
      ]
     },
     "metadata": {},
     "output_type": "display_data"
    }
   ],
   "source": [
    "# Header\n",
    "# Files\n",
    "# Selection - Upload box\n",
    "header_label_filename = widgets.HTML(value=f\"<b>Filename</b>\", layout=header_layout)\n",
    "header_label_datatype = widgets.HTML(value=f\"<b>Data type</b>\", layout=header_layout)\n",
    "header_label_select = widgets.HTML(value=f\"<b>Select</b>\", layout=header_layout)\n",
    "\n",
    "filenames = []\n",
    "data_types = []\n",
    "checkboxes = []\n",
    "\n",
    "# This holds the binary data passed by the FileUpload widget\n",
    "data = {}\n",
    "\n",
    "data_type_list = [\"CRDS\", \"GC\"]\n",
    "\n",
    "files = [\"file1 is really how fdfd\", \"file1 is really howfdfdf \", \"file1 is really how\"]\n",
    "\n",
    "\n",
    "\n",
    "    \n",
    "def clear_checkboxes(*args):\n",
    "    for c in checkboxes:\n",
    "        c.value = False\n",
    "\n",
    "def upload_data(*args):\n",
    "    # Call the upload function and pass data to processing\n",
    "    pass\n",
    "\n",
    "def update_filelist(*args):\n",
    "    \"\"\" Update the list of files to be selected for upload\n",
    "    \n",
    "    \"\"\"\n",
    "    for filename in selection_button.value.keys():\n",
    "        filenames.append(widgets.HTML(value=f\"{filename}\", layout=widgets.Layout(flex='1 1 auto', width='auto')))\n",
    "        data_types.append(widgets.Dropdown(options=data_type_list, value=\"GC\", \n",
    "                                           layout=widgets.Layout(flex='1 1 auto', width='auto')))\n",
    "        checkboxes.append(widgets.Checkbox(value=True, layout=widgets.Layout(flex='1 1 auto', width='auto')))\n",
    "        \n",
    "    filename_box = widgets.VBox(children=filenames)\n",
    "    datatype_box = widgets.VBox(children=data_types)\n",
    "    checkbox_box = widgets.VBox(children=checkboxes)\n",
    "    \n",
    "    list_box.children = [filename_box, datatype_box, checkbox_box]\n",
    "    \n",
    "header = widgets.HBox(children=[header_label_filename, header_label_datatype, header_label_select], layout=main_layout)\n",
    "\n",
    "filename_box = widgets.VBox(children=filenames)\n",
    "datatype_box = widgets.VBox(children=data_types)\n",
    "checkbox_box = widgets.VBox(children=checkboxes)\n",
    "\n",
    "# list_box = widgets.HBox(children=[filename_box, datatype_box, checkbox_box], layout=main_layout)\n",
    "list_box = widgets.HBox(children=[], layout=main_layout)\n",
    "\n",
    "file_selector = widgets.VBox(children=[header, list_box])\n",
    "\n",
    "\n",
    "# Now create file selector button and clear, upload buttons\n",
    "\n",
    "selection_button = widgets.FileUpload(description=\"Select\")\n",
    "clear_button = widgets.Button(button_style=\"danger\", description=\"Clear\")\n",
    "upload_button = widgets.Button(button_style=\"primary\", description=\"Upload\")\n",
    "\n",
    "\n",
    "selection_button.observe(update_filelist, names=\"value\")\n",
    "\n",
    "clear_button.on_click(clear_checkboxes)\n",
    "\n",
    "button_box = widgets.VBox(children=[selection_button, widgets.HBox(children=[clear_button, upload_button])], layout=main_layout)\n",
    "\n",
    "complete = widgets.VBox(children=[file_selector, button_box])\n",
    "\n",
    "complete\n",
    "\n"
   ]
  },
  {
   "cell_type": "code",
   "execution_count": null,
   "metadata": {},
   "outputs": [],
   "source": [
    "u = widgets.FileUpload()"
   ]
  },
  {
   "cell_type": "code",
   "execution_count": null,
   "metadata": {},
   "outputs": [],
   "source": [
    "u ="
   ]
  },
  {
   "cell_type": "code",
   "execution_count": null,
   "metadata": {},
   "outputs": [],
   "source": [
    "u.value"
   ]
  },
  {
   "cell_type": "code",
   "execution_count": null,
   "metadata": {},
   "outputs": [],
   "source": []
  }
 ],
 "metadata": {
  "kernelspec": {
   "display_name": "Python 3",
   "language": "python",
   "name": "python3"
  }
 },
 "nbformat": 4,
 "nbformat_minor": 2
}
