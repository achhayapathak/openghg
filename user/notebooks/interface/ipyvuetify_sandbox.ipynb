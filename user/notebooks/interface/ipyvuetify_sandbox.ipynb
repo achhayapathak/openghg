{
 "cells": [
  {
   "cell_type": "code",
   "execution_count": null,
   "metadata": {},
   "outputs": [],
   "source": [
    "import os\n",
    "import sys\n",
    "sys.path.insert(0, \"../../..\")\n",
    "sys.path.insert(0, \"../../../../acquire\")\n",
    "import ipywidgets as widgets\n",
    "\n",
    "from ipywidgets import (GridspecLayout, GridBox , VBox, HBox, HTML, Layout, Text, \n",
    "                        Button, Output, Checkbox, Label)\n",
    "from HUGS.Processing import search\n",
    "from Acquire.Client import User, Drive, Service, PAR, Authorisation, StorageCreds\n",
    "\n",
    "from bqplot import pyplot as plt\n",
    "from bqplot import DateScale, LinearScale, Axis, Lines, Figure\n",
    "from random import randint    \n",
    "from numpy import random as np_random\n",
    "import numpy as np"
   ]
  },
  {
   "cell_type": "code",
   "execution_count": null,
   "metadata": {},
   "outputs": [],
   "source": [
    "# Autoreload modules before executing code, useful during development\n",
    "%load_ext autoreload\n",
    "%autoreload 2"
   ]
  },
  {
   "cell_type": "code",
   "execution_count": null,
   "metadata": {},
   "outputs": [],
   "source": [
    "login_text = HTML(value=\"<b>Please enter your username to be taken to a login page</b>\")\n",
    "username_text = Text(value=None, placeholder=\"user\", description=\"Username: \")\n",
    "login_button = Button(description=\"Login\", button_style=\"success\")\n",
    "status_text = HTML(value=\"\")\n",
    "login_link_box = Output()\n",
    "\n",
    "user = None\n",
    "def login(a):\n",
    "    global user\n",
    "    base_url = \"https://hugs.acquire-aaai.com/t\"\n",
    "    if username_text.value:\n",
    "        status_text.value = f\"<font color='blue'>Please wait for login link...</font>\"\n",
    "        user = User(username=username_text.value, identity_url=F\"{base_url}/identity\")\n",
    "        with login_link_box:\n",
    "            login_link_box.clear_output()\n",
    "            response = user.request_login()\n",
    "                \n",
    "        if user.wait_for_login():\n",
    "            status_text.value = f\"<font color='green'>Success</font>\"\n",
    "        else:\n",
    "            status_text.value = f\"<font color='red'>Failure</font>\"  \n",
    "        \n",
    "login_button.on_click(login)\n",
    "    \n",
    "login_children = [login_text, username_text, login_button, status_text, login_link_box]\n",
    "login_box = VBox(children=login_children)"
   ]
  },
  {
   "cell_type": "code",
   "execution_count": null,
   "metadata": {},
   "outputs": [
    {
     "data": {
      "application/vnd.jupyter.widget-view+json": {
       "model_id": "a7969e4281a84946bd684c796fa442fc",
       "version_major": 2,
       "version_minor": 0
      },
      "text/plain": [
       "Slider(class_='px-4', thumb_label='always', v_model=30)"
      ]
     },
     "metadata": {},
     "output_type": "display_data"
    }
   ],
   "source": [
    "slider = v.Slider(thumb_label='always', class_=\"px-4\", v_model=30)\n",
    "widgets.link((slider, 'v_model'), (hist, 'bins'))\n",
    "slider"
   ]
  },
  {
   "cell_type": "code",
   "execution_count": null,
   "metadata": {},
   "outputs": [
    {
     "data": {
      "application/vnd.jupyter.widget-view+json": {
       "model_id": "c1e927f533ee41b98cf88b84b3e54c8c",
       "version_major": 2,
       "version_minor": 0
      },
      "text/plain": [
       "Tabs(children=[Tab(children=['Tab1']), Tab(children=['Tab2']), Tab(children=['Tab3']), TabItem(children=[Layou…"
      ]
     },
     "metadata": {},
     "output_type": "display_data"
    }
   ],
   "source": [
    "v.Tabs(_metadata={'mount_id': 'content-main'}, children=[\n",
    "    v.Tab(children=['Tab1']),\n",
    "    v.Tab(children=['Tab2']),\n",
    "    v.Tab(children=['Tab3']),\n",
    "    v.TabItem(children=[\n",
    "        v.Layout(row=True, wrap=True, align_center=True, children=[\n",
    "            v.Flex(xs12=True, lg6=True, xl4=True, children=[\n",
    "                fig, slider\n",
    "            ]),\n",
    "#             v.Flex(xs12=True, lg6=True, xl4=True, children=[\n",
    "#                 figHist2, sliderHist2\n",
    "#             ]),\n",
    "#             v.Flex(xs12=True, xl4=True, children=[\n",
    "#                 fig2, sliderHist2\n",
    "#             ]),\n",
    "        ])\n",
    "    ]),\n",
    "    v.TabItem(children=[\n",
    "        v.Container(children=['Lorum ipsum'])\n",
    "    ]),\n",
    "    v.TabItem(children=[\n",
    "        v.Container(children=['Lorum ipsum'])\n",
    "    ])\n",
    "])"
   ]
  },
  {
   "cell_type": "code",
   "execution_count": null,
   "metadata": {},
   "outputs": [],
   "source": []
  },
  {
   "cell_type": "code",
   "execution_count": null,
   "metadata": {},
   "outputs": [],
   "source": []
  }
 ],
 "metadata": {
  "kernelspec": {
   "display_name": "Python 3",
   "language": "python",
   "name": "python3"
  }
 },
 "nbformat": 4,
 "nbformat_minor": 2
}
