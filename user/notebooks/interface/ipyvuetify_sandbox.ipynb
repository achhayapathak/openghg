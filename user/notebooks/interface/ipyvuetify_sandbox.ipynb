{
 "cells": [
  {
   "cell_type": "code",
   "execution_count": null,
   "metadata": {},
   "outputs": [],
   "source": [
    "import os\n",
    "import sys\n",
    "sys.path.insert(0, \"../../..\")\n",
    "sys.path.insert(0, \"../../../../acquire\")\n",
    "import ipywidgets as widgets\n",
    "import ipyvuetify as v\n",
    "\n",
    "from ipywidgets import (GridspecLayout, GridBox , VBox, HBox, HTML, Layout, Text, \n",
    "                        Button, Output, Checkbox, Label)\n",
    "from HUGS.Processing import search\n",
    "from Acquire.Client import User, Drive, Service, PAR, Authorisation, StorageCreds\n",
    "\n",
    "from bqplot import pyplot as plt\n",
    "from bqplot import DateScale, LinearScale, Axis, Lines, Figure\n",
    "from random import randint    \n",
    "from numpy import random as np_random\n",
    "import numpy as np"
   ]
  },
  {
   "cell_type": "code",
   "execution_count": null,
   "metadata": {},
   "outputs": [
    {
     "name": "stdout",
     "output_type": "stream",
     "text": [
      "The autoreload extension is already loaded. To reload it, use:\n",
      "  %reload_ext autoreload\n"
     ]
    }
   ],
   "source": [
    "# Autoreload modules before executing code, useful during development\n",
    "%load_ext autoreload\n",
    "%autoreload 2"
   ]
  },
  {
   "cell_type": "code",
   "execution_count": null,
   "metadata": {},
   "outputs": [],
   "source": [
    "login_text = HTML(value=\"<b>Please enter your username to be taken to a login page</b>\")\n",
    "username_text = Text(value=None, placeholder=\"user\", description=\"Username: \")\n",
    "login_button = Button(description=\"Login\", button_style=\"success\")\n",
    "status_text = HTML(value=\"\")\n",
    "login_link_box = Output()\n",
    "\n",
    "user = None\n",
    "def login(a):\n",
    "    global user\n",
    "    base_url = \"https://hugs.acquire-aaai.com/t\"\n",
    "    if username_text.value:\n",
    "        status_text.value = f\"<font color='blue'>Please wait for login link...</font>\"\n",
    "        user = User(username=username_text.value, identity_url=F\"{base_url}/identity\")\n",
    "        with login_link_box:\n",
    "            login_link_box.clear_output()\n",
    "            response = user.request_login()\n",
    "                \n",
    "        if user.wait_for_login():\n",
    "            status_text.value = f\"<font color='green'>Success</font>\"\n",
    "        else:\n",
    "            status_text.value = f\"<font color='red'>Failure</font>\"  \n",
    "        \n",
    "login_button.on_click(login)\n",
    "    \n",
    "login_children = [login_text, username_text, login_button, status_text, login_link_box]\n",
    "login_box = VBox(children=login_children)"
   ]
  },
  {
   "cell_type": "code",
   "execution_count": null,
   "metadata": {},
   "outputs": [],
   "source": []
  },
  {
   "cell_type": "code",
   "execution_count": null,
   "metadata": {},
   "outputs": [],
   "source": [
    "# slider = v.Slider(thumb_label='always', class_=\"px-4\", v_model=30)\n",
    "# widgets.link((slider, 'v_model'), (hist, 'bins'))\n",
    "# slider"
   ]
  },
  {
   "cell_type": "code",
   "execution_count": null,
   "metadata": {},
   "outputs": [
    {
     "data": {
      "application/vnd.jupyter.widget-view+json": {
       "model_id": "c9fc356c848046dd8929abf3132736f9",
       "version_major": 2,
       "version_minor": 0
      },
      "text/plain": [
       "Slider(class_='px-4', thumb_label='always', v_model=30)"
      ]
     },
     "metadata": {},
     "output_type": "display_data"
    }
   ],
   "source": [
    "# slider = widgets.IntSlider(min=1, max=100, v_model=30)\n",
    "# widgets.link((fig_hist, 'bins'), (slider, 'value'))\n",
    "# slider\n",
    "import ipyvuetify as v\n",
    "slider = v.Slider(thumb_label='always', class_=\"px-4\", v_model=30)\n",
    "# widgets.link((slider, 'v_model'), (hist, 'bins'))\n",
    "slider"
   ]
  },
  {
   "cell_type": "code",
   "execution_count": null,
   "metadata": {},
   "outputs": [
    {
     "data": {
      "application/vnd.jupyter.widget-view+json": {
       "model_id": "cce7feb072e74fc094e9a71d204b53d5",
       "version_major": 2,
       "version_minor": 0
      },
      "text/plain": [
       "Select(items=['dashed', 'solid', 'dotted'], label='line style', v_model='dashed')"
      ]
     },
     "metadata": {},
     "output_type": "display_data"
    }
   ],
   "source": [
    "line_styles = ['dashed', 'solid', 'dotted']\n",
    "widget_line_styles = v.Select(items=line_styles, label='line style', v_model=line_styles[0])\n",
    "widget_line_styles"
   ]
  },
  {
   "cell_type": "markdown",
   "metadata": {},
   "source": [
    "Login box"
   ]
  },
  {
   "cell_type": "code",
   "execution_count": null,
   "metadata": {},
   "outputs": [],
   "source": [
    "v.Layout(pa_4=True, _metadata={'mount_id': 'content-nav'}, column=True, children=[slider, widget_line_styles]);"
   ]
  },
  {
   "cell_type": "code",
   "execution_count": null,
   "metadata": {},
   "outputs": [],
   "source": [
    "layout = v.Layout(\n",
    "                _metadata={'mount_id': 'content-main'},\n",
    "                row=True, wrap=True, align_center=True, children=[\n",
    "                v.Flex(xs12=True, lg6=True, children=[\n",
    "                    login_button\n",
    "                ]),\n",
    "                v.Flex(xs12=True, lg6=True, children=[\n",
    "                    login_button\n",
    "                ]),\n",
    "            ])\n",
    "\n"
   ]
  },
  {
   "cell_type": "code",
   "execution_count": null,
   "metadata": {},
   "outputs": [
    {
     "data": {
      "application/vnd.jupyter.widget-view+json": {
       "model_id": "e152efe7cedc4fa3a028eb812285c635",
       "version_major": 2,
       "version_minor": 0
      },
      "text/plain": [
       "Layout(align_center=True, children=[Flex(children=[Button(button_style='success', description='Login', style=B…"
      ]
     },
     "metadata": {},
     "output_type": "display_data"
    }
   ],
   "source": [
    "layout"
   ]
  },
  {
   "cell_type": "code",
   "execution_count": null,
   "metadata": {},
   "outputs": [],
   "source": []
  }
 ],
 "metadata": {
  "kernelspec": {
   "display_name": "Python 3",
   "language": "python",
   "name": "python3"
  }
 },
 "nbformat": 4,
 "nbformat_minor": 2
}
