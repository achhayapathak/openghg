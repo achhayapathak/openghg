{
 "cells": [
  {
   "cell_type": "code",
   "execution_count": null,
   "metadata": {},
   "outputs": [],
   "source": [
    "import os\n",
    "import sys\n",
    "from datetime import datetime\n",
    "sys.path.insert(0, \"../../..\")\n",
    "sys.path.insert(0, \"../../../../acquire\")\n",
    "\n",
    "from Acquire.ObjectStore import datetime_to_string\n",
    "from Acquire.Client import User, Drive, Service, PAR, Authorisation, StorageCreds\n",
    "\n",
    "from HUGS.Processing import search\n",
    "from HUGS.Client import Process, Search, Retrieve\n",
    "from HUGS.Interface import get_map_locations, parse_data, scatter_plot, comparison_plot\n",
    "from HUGS.Interface import generate_password, get_download_keys, get_login, create_user\n",
    "from HUGS.Interface import search_emissions, get_emissions_data, plot_emissions\n",
    "\n",
    "from bqplot import pyplot as plt\n",
    "from bqplot import DateScale, LinearScale, LogScale, Axis, Lines, Figure, Scatter\n",
    "\n",
    "from HUGS.Interface import search_box\n",
    "from HUGS.Interface import download_box\n",
    "import ipywidgets as widgets"
   ]
  },
  {
   "cell_type": "code",
   "execution_count": null,
   "metadata": {},
   "outputs": [],
   "source": [
    "# Autoreload modules before executing code, useful during development\n",
    "%load_ext autoreload\n",
    "%autoreload 2"
   ]
  },
  {
   "cell_type": "code",
   "execution_count": null,
   "metadata": {},
   "outputs": [],
   "source": [
    "search_terms = widgets.Text(value=\"\", placeholder = \"Search\", description = \"Search terms:\", disabled = False)\n",
    "locations = widgets.Text(value=\"\", placeholder = \"BSD, HFD\", description = \"Locations:\", disabled = False)\n",
    "data_type = widgets.Dropdown(options=[\"CRDS\", \"GC\"], value=\"CRDS\", description=\"Data type\", disabled=False)\n",
    "start_picker = widgets.DatePicker(description='Start date',disabled=False)\n",
    "end_picker = widgets.DatePicker(description='End date',disabled=False)\n",
    "search_button = widgets.Button(description=\"Search\", button_style=\"success\")\n",
    "status_box = widgets.HTML(value=\"\")\n",
    "\n",
    "search_results = None\n",
    "date_keys = None\n",
    "\n",
    "def parse_results(results):\n",
    "    \"\"\" Split the keys into a list of each key and the date that the data covers\n",
    "        \n",
    "        Args:\n",
    "            results (dict): Dictionary of search results\n",
    "        Returns:\n",
    "            list (tuple): List of date, data key list pairs\n",
    "    \"\"\"\n",
    "    date_keys = {}\n",
    "    for key in results.keys():\n",
    "        keys = sorted(results[key])\n",
    "        start_key = keys[0]\n",
    "        end_key = keys[-1]\n",
    "        # Get the first and last dates from the keys in the search results\n",
    "        start_date = start_key.split(\"/\")[-1].split(\"_\")[0]\n",
    "        end_date = end_key.split(\"/\")[-1].split(\"_\")[-1]\n",
    "        \n",
    "        dates_covered = start_date + \"_\" + end_date\n",
    "        \n",
    "        date_keys[key] = {\"dates\": dates_covered, \"keys\": keys}\n",
    "        \n",
    "    return date_keys\n",
    "\n",
    "def call_search(x):\n",
    "    \"\"\" Call the search function and pass it the values \n",
    "        in the text boxes\n",
    "            \n",
    "    \"\"\"\n",
    "    from datetime import datetime\n",
    "    from Acquire.ObjectStore import datetime_to_string\n",
    "    from HUGS.Client import Search\n",
    "    start = datetime.combine(start_picker.value, datetime.min.time())\n",
    "    end = datetime.combine(end_picker.value, datetime.min.time())\n",
    "    \n",
    "    split_search_terms = search_terms.value.replace(\" \", \"\").split(\",\")\n",
    "    split_locations = locations.value.replace(\" \", \"\").split(\",\")\n",
    "    \n",
    "    global search_results\n",
    "    global date_keys\n",
    "    \n",
    "#     search = Search(service_url=base_url)\n",
    "    search_results = [\"yahyah\"] #search.search(search_terms=split_search_terms, locations=split_locations, data_type=data_type.value, start_datetime=start, end_datetime=end)\n",
    "    \n",
    "    if search_results:\n",
    "#         date_keys = parse_results(search_results)\n",
    "        status_box.value = f\"<font color='green'>Success</font>\"\n",
    "        # Now we have search results we can select the ones we want to download\n",
    "        create_download_box()\n",
    "    else:\n",
    "        status_box.value = f\"<font color='red'>No results</font>\"\n",
    "    \n",
    "    print(\"yahyah\")\n",
    "\n",
    "search_button.on_click(call_search)\n",
    "widgets.VBox(children=[search_terms, locations, data_type, start_picker, end_picker, search_button])\n"
   ]
  },
  {
   "cell_type": "code",
   "execution_count": null,
   "metadata": {},
   "outputs": [],
   "source": []
  },
  {
   "cell_type": "code",
   "execution_count": null,
   "metadata": {},
   "outputs": [
    {
     "data": {
      "application/vnd.jupyter.widget-view+json": {
       "model_id": "c2943ca2d7cc41eb90e2d2e55056193c",
       "version_major": 2,
       "version_minor": 0
      },
      "text/plain": [
       "VBox(children=(VBox(children=(Text(value='', description='Search terms:', placeholder='Search'), Text(value=''…"
      ]
     },
     "metadata": {},
     "output_type": "display_data"
    }
   ],
   "source": [
    "search_box()"
   ]
  },
  {
   "cell_type": "code",
   "execution_count": null,
   "metadata": {},
   "outputs": [],
   "source": [
    "download_box()"
   ]
  },
  {
   "cell_type": "code",
   "execution_count": null,
   "metadata": {},
   "outputs": [],
   "source": []
  },
  {
   "cell_type": "code",
   "execution_count": null,
   "metadata": {},
   "outputs": [],
   "source": []
  },
  {
   "cell_type": "markdown",
   "metadata": {},
   "source": [
    "This can be used for plotting of different data type"
   ]
  },
  {
   "cell_type": "code",
   "execution_count": null,
   "metadata": {},
   "outputs": [],
   "source": [
    "ret_data = {\"CRDS\": [\"100m\", \"200m\"], \"GC\": [\"25m\", \"50m\"]}\n",
    "desc_dict = {\"CRDS\": \"height\", \"GC\": \"inlet\"}\n",
    "\n",
    "def update_inlets(dtype):\n",
    "    inlet_type.options = ret_data[dtype]\n",
    "    \n",
    "data_type = widgets.Dropdown(options=ret_data.keys(), description=\"Data type\")\n",
    "init = data_type.value\n",
    "inlet_type = widgets.Dropdown(options=ret_data[init], description=\"Height\")\n",
    "\n",
    "i = widgets.interactive(update_inlets, dtype=data_type)\n",
    "VBox(children=[data_type, inlet_type])\n"
   ]
  },
  {
   "cell_type": "code",
   "execution_count": null,
   "metadata": {},
   "outputs": [],
   "source": []
  },
  {
   "cell_type": "code",
   "execution_count": null,
   "metadata": {},
   "outputs": [],
   "source": [
    "from ipywidgets import Checkbox, VBox\n",
    "\n",
    "cb1 = Checkbox(description='1')\n",
    "cb2 = Checkbox(description='2')\n",
    "cb3 = Checkbox(description='3')\n",
    "\n",
    "vb = VBox(children = [cb1, cb2, cb3])\n",
    "top_toggle = Checkbox(description='Remove 3')\n",
    "\n",
    "def remove_3(button):\n",
    "    if button['new']:\n",
    "        vb.children = [cb1, cb2]\n",
    "    else:\n",
    "        vb.children = [cb1, cb2, cb3]\n",
    "\n",
    "top_toggle.observe(remove_3, names='value')\n",
    "display(top_toggle)\n",
    "display(vb)"
   ]
  },
  {
   "cell_type": "code",
   "execution_count": null,
   "metadata": {},
   "outputs": [],
   "source": [
    "from HUGS.Interface import test_case"
   ]
  },
  {
   "cell_type": "code",
   "execution_count": null,
   "metadata": {},
   "outputs": [],
   "source": [
    "test_case()"
   ]
  },
  {
   "cell_type": "code",
   "execution_count": null,
   "metadata": {},
   "outputs": [],
   "source": []
  }
 ],
 "metadata": {
  "kernelspec": {
   "display_name": "Python 3",
   "language": "python",
   "name": "python3"
  }
 },
 "nbformat": 4,
 "nbformat_minor": 2
}
