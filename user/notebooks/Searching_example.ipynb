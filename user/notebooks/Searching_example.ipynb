{
 "cells": [
  {
   "cell_type": "code",
   "execution_count": null,
   "metadata": {},
   "outputs": [],
   "source": [
    "# Adding HUGS and Acquire to the Python path\n",
    "import sys\n",
    "import os\n",
    "sys.path.insert(0, os.path.abspath(\"../..\"))\n",
    "sys.path.insert(0, os.path.abspath(\"../../../acquire\"))"
   ]
  },
  {
   "cell_type": "markdown",
   "metadata": {},
   "source": [
    "# Searching the object store"
   ]
  },
  {
   "cell_type": "markdown",
   "metadata": {},
   "source": [
    "In this example we will load in data from 3 sites. The data will be separated into sections and stored in the object store. We can then use a search function to search for data from the sites over a certain daterange, retrieve that data and visualize it."
   ]
  },
  {
   "cell_type": "code",
   "execution_count": null,
   "metadata": {},
   "outputs": [],
   "source": [
    "from HUGS.Modules import CRDS, Datasource\n",
    "from HUGS.ObjectStore import get_local_bucket, get_object_names\n",
    "from HUGS.Processing import recombine_sections, search\n",
    "from HUGS.Util import get_datetime\n",
    "# Matplotlib for inline plotting\n",
    "%matplotlib notebook\n",
    "import matplotlib.pyplot as plt\n",
    "# Suppress matplotlib and pandas warning on deprecation\n",
    "from pandas.plotting import register_matplotlib_converters\n",
    "register_matplotlib_converters()\n",
    "# Pretty printer for nicer printing to console\n",
    "import pprint\n",
    "pp = pprint.PrettyPrinter(indent=2)\n"
   ]
  },
  {
   "cell_type": "markdown",
   "metadata": {},
   "source": [
    "First we get an empty bucket to store the data we are going to process. We then use the CRDS static method `read_folder`. This reads all `*.dat` files in a folder and passes them to `CRDS.read_file` for processing."
   ]
  },
  {
   "cell_type": "code",
   "execution_count": null,
   "metadata": {},
   "outputs": [],
   "source": [
    "bucket = get_local_bucket(empty=True)\n",
    "test_data = \"../../test/data/search_data/\"\n",
    "\n",
    "os.listdir(test_data)\n"
   ]
  },
  {
   "cell_type": "code",
   "execution_count": null,
   "metadata": {},
   "outputs": [],
   "source": [
    "CRDS.read_folder(folder_path=test_data)"
   ]
  },
  {
   "cell_type": "code",
   "execution_count": null,
   "metadata": {},
   "outputs": [],
   "source": [
    "prefix = \"datasource\"\n",
    "objects_in_store = get_object_names(bucket=bucket, prefix=prefix)"
   ]
  },
  {
   "cell_type": "markdown",
   "metadata": {},
   "source": [
    "We can now list all the objects that have been created and stored in the object store"
   ]
  },
  {
   "cell_type": "code",
   "execution_count": null,
   "metadata": {},
   "outputs": [],
   "source": [
    "pp.pprint(objects_in_store)"
   ]
  },
  {
   "cell_type": "markdown",
   "metadata": {},
   "source": [
    "To search the data we search the label dictionary that is stored within each Datasource. To do this we load in the Datasources using the keys obtained from `get_object_names` and store these objects in a list. Note: we pass in `shallow=True` here to stop each Datasource loading in its data, we only require the JSON data that makes up the `name`, `uuid`, `labels` etc of the object"
   ]
  },
  {
   "cell_type": "code",
   "execution_count": null,
   "metadata": {},
   "outputs": [],
   "source": [
    "datasources = [Datasource.load(key=key) for key in objects_in_store]\n",
    "pp.pprint(datasources)"
   ]
  },
  {
   "cell_type": "markdown",
   "metadata": {},
   "source": [
    "We can now create a list of search terms to be passed to the search function."
   ]
  },
  {
   "cell_type": "code",
   "execution_count": null,
   "metadata": {},
   "outputs": [],
   "source": [
    "search_terms = [\"bsd\", \"hfd\", \"tac\"]"
   ]
  },
  {
   "cell_type": "markdown",
   "metadata": {},
   "source": [
    "We must also provide the data type we are searching for and can optionally provide a start and end datetime for our search"
   ]
  },
  {
   "cell_type": "code",
   "execution_count": null,
   "metadata": {},
   "outputs": [],
   "source": [
    "data_type = \"CRDS\"\n",
    "start = get_datetime(year=2016, month=1, day=1)\n",
    "end =None #get_datetime(year=2016, month=1, day=1)"
   ]
  },
  {
   "cell_type": "code",
   "execution_count": null,
   "metadata": {
    "scrolled": true
   },
   "outputs": [],
   "source": [
    "results = search(search_terms=search_terms, data_type=data_type, require_all=False, start_datetime=start, end_datetime=end)\n",
    "\n",
    "for key, value in sorted(results.items()):\n",
    "    print(key, \":\", value, \"\\n\")"
   ]
  },
  {
   "cell_type": "markdown",
   "metadata": {},
   "source": [
    "The search function returns a Python dictionary that is keyed using the search term and the species name\n",
    "as `search_term_species_name`. The value part of the key:value pair consists of object store keys that point to the raw data stored in the HDF5 format in the object store.\n",
    "\n",
    "The dictionary can be see as so\n",
    "\n",
    "`bsd_ch4 : ['data/uuid/db5cbe8b-a66e-45dc-bba4-8b79eb61e261/2015-01-01T00:33:30_2015-10-24T08:57:30', 'data/uuid/db5cbe8b-a66e-45dc-bba4-8b79eb61e261/2014-01-30T13:33:30_2014-12-31T22:23:30']`\n",
    "\n",
    "where the key is formed of `bsd` (the Bilsdale site) and `ch4` (the name of the species) and the value part containing object store keys in the form `data/uuid/{uuid_here}`.\n",
    "\n",
    "We now pass this dictionary to the `recombine_sections` function that retrieves the data stored in the object store keys and joins the sections as per the keying in the dictionary."
   ]
  },
  {
   "cell_type": "code",
   "execution_count": null,
   "metadata": {},
   "outputs": [],
   "source": [
    "recombined_sections = recombine_sections(data_keys=results)"
   ]
  },
  {
   "cell_type": "markdown",
   "metadata": {},
   "source": [
    "We can now plot the methane readings from each site for comparison"
   ]
  },
  {
   "cell_type": "code",
   "execution_count": null,
   "metadata": {},
   "outputs": [],
   "source": [
    "hdf_ch4 = recombined_sections[\"hfd_ch4\"]\n",
    "bsd_ch4 = recombined_sections[\"bsd_ch4\"]\n",
    "tac_ch4 = recombined_sections[\"tac_ch4\"]\n",
    "\n",
    "fig = plt.figure()\n",
    "ax = fig.add_subplot(111)\n",
    "ax.plot(hdf_ch4.index.values, hdf_ch4[\"ch4 count\"], label = \"hdf ch4\", linewidth = 1, color=\"#4e79a7\")\n",
    "ax.plot(bsd_ch4.index.values, bsd_ch4[\"ch4 count\"], label = \"bsd ch4\", linewidth = 1, color=\"#59a14f\")\n",
    "ax.plot(tac_ch4.index.values, tac_ch4[\"ch4 count\"], label = \"tac ch4\", linewidth = 1, color=\"#e15759\")\n",
    "ax.legend(frameon=False)"
   ]
  },
  {
   "cell_type": "code",
   "execution_count": null,
   "metadata": {},
   "outputs": [],
   "source": []
  }
 ],
 "metadata": {
  "kernelspec": {
   "display_name": "Python 3",
   "language": "python",
   "name": "python3"
  },
  "language_info": {
   "codemirror_mode": {
    "name": "ipython",
    "version": 3
   },
   "file_extension": ".py",
   "mimetype": "text/x-python",
   "name": "python",
   "nbconvert_exporter": "python",
   "pygments_lexer": "ipython3",
   "version": "3.7.1"
  }
 },
 "nbformat": 4,
 "nbformat_minor": 2
}
