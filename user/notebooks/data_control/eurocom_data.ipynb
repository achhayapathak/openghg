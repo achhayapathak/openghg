{
 "cells": [
  {
   "cell_type": "code",
   "execution_count": null,
   "metadata": {},
   "outputs": [],
   "source": [
    "import os\n",
    "import sys\n",
    "from datetime import datetime\n",
    "sys.path.insert(0, \"../../..\")\n",
    "sys.path.insert(0, \"../../../../acquire\")\n",
    "\n",
    "from HUGS.Processing import search\n",
    "from HUGS.Client import Process, Search, Retrieve\n",
    "from Acquire.ObjectStore import datetime_to_string\n",
    "from Acquire.Client import User, Drive, Service, PAR, Authorisation, StorageCreds\n",
    "\n",
    "from pathlib import Path\n",
    "import time\n",
    "\n",
    "# Autoreload modules before executing code, useful during development\n",
    "%load_ext autoreload\n",
    "%autoreload 2"
   ]
  },
  {
   "cell_type": "code",
   "execution_count": null,
   "metadata": {},
   "outputs": [],
   "source": [
    "base_url= \"https://hugs.acquire-aaai.com/t\""
   ]
  },
  {
   "cell_type": "code",
   "execution_count": null,
   "metadata": {},
   "outputs": [
    {
     "name": "stdout",
     "output_type": "stream",
     "text": [
      "Login by visiting: https://login.acquire-aaai.com?id=a0-a6/c4.19.e3.b3\n",
      "(please check that this page displays the message 'small mice climb happily')\n"
     ]
    }
   ],
   "source": [
    "# base_url = \"https://hugs.acquire-aaai.com/t\"\n",
    "\n",
    "user = User(username=\"gareth\", identity_url=F\"{base_url}/identity\")\n",
    "response = user.request_login()"
   ]
  },
  {
   "cell_type": "code",
   "execution_count": null,
   "metadata": {},
   "outputs": [
    {
     "data": {
      "text/plain": [
       "True"
      ]
     },
     "execution_count": null,
     "metadata": {},
     "output_type": "execute_result"
    }
   ],
   "source": [
    "user.wait_for_login()"
   ]
  },
  {
   "cell_type": "code",
   "execution_count": null,
   "metadata": {},
   "outputs": [],
   "source": [
    "processing = Process(service_url=base_url)"
   ]
  },
  {
   "cell_type": "code",
   "execution_count": null,
   "metadata": {},
   "outputs": [],
   "source": [
    "eurocom_data = \"/Users/wm19361/Documents/Devel/hugs/raw_data/eurocom\""
   ]
  },
  {
   "cell_type": "code",
   "execution_count": null,
   "metadata": {},
   "outputs": [],
   "source": [
    "known_sites = ['/Users/wm19361/Documents/Devel/hugs/raw_data/eurocom/small/./BIS_air.hdf.all.COMBI_Drought2018_20190522_min.co2',\n",
    " '/Users/wm19361/Documents/Devel/hugs/raw_data/eurocom/small/./CBW_207m_air.hdf.all.COMBI_Drought2018_20190522_min.co2',\n",
    " '/Users/wm19361/Documents/Devel/hugs/raw_data/eurocom/small/./TRN_50m_air.hdf.all.COMBI_Drought2018_20190522_min.co2',\n",
    " '/Users/wm19361/Documents/Devel/hugs/raw_data/eurocom/small/./SMR_67.2m_air.hdf.all.COMBI_Drought2018_20190522_min.co2',\n",
    " '/Users/wm19361/Documents/Devel/hugs/raw_data/eurocom/small/./OPE_50m_air.hdf.all.COMBI_Drought2018_20190522_min.co2',\n",
    " '/Users/wm19361/Documents/Devel/hugs/raw_data/eurocom/small/./BIK_300m_air.hdf.all.COMBI_Drought2018_20190522_min.co2',\n",
    " '/Users/wm19361/Documents/Devel/hugs/raw_data/eurocom/small/./SMR_125m_air.hdf.all.COMBI_Drought2018_20190522_min.co2',\n",
    " '/Users/wm19361/Documents/Devel/hugs/raw_data/eurocom/small/./OPE_120m_air.hdf.all.COMBI_Drought2018_20190522_min.co2',\n",
    " '/Users/wm19361/Documents/Devel/hugs/raw_data/eurocom/small/./CBW_127m_air.hdf.all.COMBI_Drought2018_20190522_min.co2',\n",
    " '/Users/wm19361/Documents/Devel/hugs/raw_data/eurocom/small/./TAC_185m_air.hdf.all.COMBI_Drought2018_20190522_min.co2',\n",
    " '/Users/wm19361/Documents/Devel/hugs/raw_data/eurocom/small/./OPE_10m_air.hdf.all.COMBI_Drought2018_20190522_min.co2',\n",
    " '/Users/wm19361/Documents/Devel/hugs/raw_data/eurocom/small/./PAL_air.hdf.all.COMBI_Drought2018_20190522_min.co2',\n",
    " '/Users/wm19361/Documents/Devel/hugs/raw_data/eurocom/small/./LMP_air.hdf.all.COMBI_Drought2018_20190522_min.co2',\n",
    " '/Users/wm19361/Documents/Devel/hugs/raw_data/eurocom/small/./HEI_air.hdf.all.COMBI_Drought2018_20190522_min.co2',\n",
    " '/Users/wm19361/Documents/Devel/hugs/raw_data/eurocom/small/./IZO_air.hdf.all.COMBI_Drought2018_20190522_min.co2',\n",
    " '/Users/wm19361/Documents/Devel/hugs/raw_data/eurocom/small/./BIK_30m_air.hdf.all.COMBI_Drought2018_20190522_min.co2',\n",
    " '/Users/wm19361/Documents/Devel/hugs/raw_data/eurocom/small/./TRN_180m_air.hdf.all.COMBI_Drought2018_20190522_min.co2',\n",
    " '/Users/wm19361/Documents/Devel/hugs/raw_data/eurocom/small/./MHD_air.hdf.all.COMBI_Drought2018_20190522_min.co2',\n",
    " '/Users/wm19361/Documents/Devel/hugs/raw_data/eurocom/small/./SSL_air.hdf.all.COMBI_Drought2018_20190522_min.co2',\n",
    " '/Users/wm19361/Documents/Devel/hugs/raw_data/eurocom/small/./WAO_air.hdf.all.COMBI_Drought2018_20190522_min.co2',\n",
    " '/Users/wm19361/Documents/Devel/hugs/raw_data/eurocom/small/./CBW_27m_air.hdf.all.COMBI_Drought2018_20190522_min.co2',\n",
    " '/Users/wm19361/Documents/Devel/hugs/raw_data/eurocom/small/./TRN_100m_air.hdf.all.COMBI_Drought2018_20190522_min.co2',\n",
    " '/Users/wm19361/Documents/Devel/hugs/raw_data/eurocom/small/./TRN_5m_air.hdf.all.COMBI_Drought2018_20190522_min.co2',\n",
    " '/Users/wm19361/Documents/Devel/hugs/raw_data/eurocom/small/./SMR_16.8m_air.hdf.all.COMBI_Drought2018_20190522_min.co2',\n",
    " '/Users/wm19361/Documents/Devel/hugs/raw_data/eurocom/small/./RGL_45m_air.hdf.all.COMBI_Drought2018_20190522_min.co2',\n",
    " '/Users/wm19361/Documents/Devel/hugs/raw_data/eurocom/small/./SVB_150m_air.hdf.all.COMBI_Drought2018_20190522_min.co2',\n",
    " '/Users/wm19361/Documents/Devel/hugs/raw_data/eurocom/small/./BIK_90m_air.hdf.all.COMBI_Drought2018_20190522_min.co2',\n",
    " '/Users/wm19361/Documents/Devel/hugs/raw_data/eurocom/small/./CBW_67m_air.hdf.all.COMBI_Drought2018_20190522_min.co2',\n",
    " '/Users/wm19361/Documents/Devel/hugs/raw_data/eurocom/small/./SVB_35m_air.hdf.all.COMBI_Drought2018_20190522_min.co2',\n",
    " '/Users/wm19361/Documents/Devel/hugs/raw_data/eurocom/small/./JFJ_air.hdf.all.COMBI_Drought2018_20190522_min.co2',\n",
    " '/Users/wm19361/Documents/Devel/hugs/raw_data/eurocom/small/./LUT_air.hdf.all.COMBI_Drought2018_20190522_min.co2',\n",
    " '/Users/wm19361/Documents/Devel/hugs/raw_data/eurocom/small/./CMN_air.hdf.all.COMBI_Drought2018_20190522_min.co2',\n",
    " '/Users/wm19361/Documents/Devel/hugs/raw_data/eurocom/small/./BIK_180m_air.hdf.all.COMBI_Drought2018_20190522_min.co2',\n",
    " '/Users/wm19361/Documents/Devel/hugs/raw_data/eurocom/small/./KAS_air.hdf.all.COMBI_Drought2018_20190522_min.co2',\n",
    " '/Users/wm19361/Documents/Devel/hugs/raw_data/eurocom/small/./HUN_115m_air.hdf.all.COMBI_Drought2018_20190522_min.co2',\n",
    " '/Users/wm19361/Documents/Devel/hugs/raw_data/eurocom/small/./SVB_85m_air.hdf.all.COMBI_Drought2018_20190522_min.co2',\n",
    " '/Users/wm19361/Documents/Devel/hugs/raw_data/eurocom/small/./HUN_82m_air.hdf.all.COMBI_Drought2018_20190522_min.co2',\n",
    " '/Users/wm19361/Documents/Devel/hugs/raw_data/eurocom/small/./HUN_10m_air.hdf.all.COMBI_Drought2018_20190522_min.co2',\n",
    " '/Users/wm19361/Documents/Devel/hugs/raw_data/eurocom/small/./HUN_48m_air.hdf.all.COMBI_Drought2018_20190522_min.co2',\n",
    " '/Users/wm19361/Documents/Devel/hugs/raw_data/eurocom/small/./BIR_air.hdf.all.COMBI_Drought2018_20190522_min.co2',\n",
    " '/Users/wm19361/Documents/Devel/hugs/raw_data/eurocom/small/./PRS_air.hdf.all.COMBI_Drought2018_20190522_min.co2',\n",
    " '/Users/wm19361/Documents/Devel/hugs/raw_data/eurocom/small/./TAC_54m_air.hdf.all.COMBI_Drought2018_20190522_min.co2',\n",
    " '/Users/wm19361/Documents/Devel/hugs/raw_data/eurocom/small/./TAC_100m_air.hdf.all.COMBI_Drought2018_20190522_min.co2',\n",
    " '/Users/wm19361/Documents/Devel/hugs/raw_data/eurocom/small/./BIK_5m_air.hdf.all.COMBI_Drought2018_20190522_min.co2',\n",
    " '/Users/wm19361/Documents/Devel/hugs/raw_data/eurocom/small/./RGL_90m_air.hdf.all.COMBI_Drought2018_20190522_min.co2']"
   ]
  },
  {
   "cell_type": "code",
   "execution_count": null,
   "metadata": {},
   "outputs": [
    {
     "data": {
      "text/plain": [
       "45"
      ]
     },
     "execution_count": null,
     "metadata": {},
     "output_type": "execute_result"
    }
   ],
   "source": [
    "len(known_sites)"
   ]
  },
  {
   "cell_type": "code",
   "execution_count": null,
   "metadata": {},
   "outputs": [],
   "source": [
    "n = 5\n",
    "chunked = [known_sites[i:i + n] for i in range(0, len(known_sites), n)]"
   ]
  },
  {
   "cell_type": "markdown",
   "metadata": {},
   "source": [
    "Try processing them five at a time with a sleep in"
   ]
  },
  {
   "cell_type": "code",
   "execution_count": null,
   "metadata": {},
   "outputs": [
    {
     "ename": "FileNotFoundError",
     "evalue": "[Errno 2] No such file or directory: '/Users/wm19361/Documents/Devel/hugs/raw_data/eurocom/small/BIS_air.hdf.all.COMBI_Drought2018_20190522_min.co2'",
     "output_type": "error",
     "traceback": [
      "\u001b[0;31m---------------------------------------------------------------------------\u001b[0m",
      "\u001b[0;31mFileNotFoundError\u001b[0m                         Traceback (most recent call last)",
      "\u001b[0;32m<ipython-input-10-3ec46f3f4313>\u001b[0m in \u001b[0;36m<module>\u001b[0;34m\u001b[0m\n\u001b[1;32m      1\u001b[0m \u001b[0muuids\u001b[0m \u001b[0;34m=\u001b[0m \u001b[0;34m[\u001b[0m\u001b[0;34m]\u001b[0m\u001b[0;34m\u001b[0m\u001b[0;34m\u001b[0m\u001b[0m\n\u001b[1;32m      2\u001b[0m \u001b[0;32mfor\u001b[0m \u001b[0mchunk\u001b[0m \u001b[0;32min\u001b[0m \u001b[0mchunked\u001b[0m\u001b[0;34m:\u001b[0m\u001b[0;34m\u001b[0m\u001b[0;34m\u001b[0m\u001b[0m\n\u001b[0;32m----> 3\u001b[0;31m     \u001b[0muids\u001b[0m \u001b[0;34m=\u001b[0m \u001b[0mprocessing\u001b[0m\u001b[0;34m.\u001b[0m\u001b[0mprocess_files\u001b[0m\u001b[0;34m(\u001b[0m\u001b[0muser\u001b[0m\u001b[0;34m=\u001b[0m\u001b[0muser\u001b[0m\u001b[0;34m,\u001b[0m \u001b[0mfiles\u001b[0m\u001b[0;34m=\u001b[0m\u001b[0mchunk\u001b[0m\u001b[0;34m,\u001b[0m \u001b[0mdata_type\u001b[0m\u001b[0;34m=\u001b[0m\u001b[0;34m\"EUROCOM\"\u001b[0m\u001b[0;34m)\u001b[0m\u001b[0;34m\u001b[0m\u001b[0;34m\u001b[0m\u001b[0m\n\u001b[0m\u001b[1;32m      4\u001b[0m     \u001b[0muuids\u001b[0m\u001b[0;34m.\u001b[0m\u001b[0mappend\u001b[0m\u001b[0;34m(\u001b[0m\u001b[0muids\u001b[0m\u001b[0;34m)\u001b[0m\u001b[0;34m\u001b[0m\u001b[0;34m\u001b[0m\u001b[0m\n\u001b[1;32m      5\u001b[0m     \u001b[0mtime\u001b[0m\u001b[0;34m.\u001b[0m\u001b[0msleep\u001b[0m\u001b[0;34m(\u001b[0m\u001b[0;36m5\u001b[0m\u001b[0;34m)\u001b[0m\u001b[0;34m\u001b[0m\u001b[0;34m\u001b[0m\u001b[0m\n",
      "\u001b[0;32m~/Documents/Devel/hugs/HUGS/Client/_process.py\u001b[0m in \u001b[0;36mprocess_files\u001b[0;34m(self, user, files, data_type, source_name, overwrite, hugs_url, storage_url, datasource, site, instrument)\u001b[0m\n\u001b[1;32m    141\u001b[0m                 \u001b[0mfilename\u001b[0m \u001b[0;34m=\u001b[0m \u001b[0mfile\u001b[0m\u001b[0;34m.\u001b[0m\u001b[0mname\u001b[0m\u001b[0;34m\u001b[0m\u001b[0;34m\u001b[0m\u001b[0m\n\u001b[1;32m    142\u001b[0m \u001b[0;34m\u001b[0m\u001b[0m\n\u001b[0;32m--> 143\u001b[0;31m                 \u001b[0mfilemeta\u001b[0m \u001b[0;34m=\u001b[0m \u001b[0mdrive\u001b[0m\u001b[0;34m.\u001b[0m\u001b[0mupload\u001b[0m\u001b[0;34m(\u001b[0m\u001b[0mfile\u001b[0m\u001b[0;34m)\u001b[0m\u001b[0;34m\u001b[0m\u001b[0;34m\u001b[0m\u001b[0m\n\u001b[0m\u001b[1;32m    144\u001b[0m                 \u001b[0mpar\u001b[0m \u001b[0;34m=\u001b[0m \u001b[0mPAR\u001b[0m\u001b[0;34m(\u001b[0m\u001b[0mlocation\u001b[0m\u001b[0;34m=\u001b[0m\u001b[0mfilemeta\u001b[0m\u001b[0;34m.\u001b[0m\u001b[0mlocation\u001b[0m\u001b[0;34m(\u001b[0m\u001b[0;34m)\u001b[0m\u001b[0;34m,\u001b[0m \u001b[0muser\u001b[0m\u001b[0;34m=\u001b[0m\u001b[0muser\u001b[0m\u001b[0;34m)\u001b[0m\u001b[0;34m\u001b[0m\u001b[0;34m\u001b[0m\u001b[0m\n\u001b[1;32m    145\u001b[0m                 \u001b[0mpar_secret\u001b[0m \u001b[0;34m=\u001b[0m \u001b[0mhugs\u001b[0m\u001b[0;34m.\u001b[0m\u001b[0mencrypt_data\u001b[0m\u001b[0;34m(\u001b[0m\u001b[0mpar\u001b[0m\u001b[0;34m.\u001b[0m\u001b[0msecret\u001b[0m\u001b[0;34m(\u001b[0m\u001b[0;34m)\u001b[0m\u001b[0;34m)\u001b[0m\u001b[0;34m\u001b[0m\u001b[0;34m\u001b[0m\u001b[0m\n",
      "\u001b[0;32m~/Documents/Devel/acquire/Acquire/Client/_drive.py\u001b[0m in \u001b[0;36mupload\u001b[0;34m(self, filename, dir, uploaded_name, aclrules, force_par)\u001b[0m\n\u001b[1;32m    247\u001b[0m             \u001b[0mfilemeta\u001b[0m\u001b[0;34m.\u001b[0m\u001b[0m_set_drive_metadata\u001b[0m\u001b[0;34m(\u001b[0m\u001b[0mself\u001b[0m\u001b[0;34m.\u001b[0m\u001b[0m_metadata\u001b[0m\u001b[0;34m,\u001b[0m \u001b[0mself\u001b[0m\u001b[0;34m.\u001b[0m\u001b[0m_creds\u001b[0m\u001b[0;34m)\u001b[0m\u001b[0;34m\u001b[0m\u001b[0;34m\u001b[0m\u001b[0m\n\u001b[1;32m    248\u001b[0m \u001b[0;34m\u001b[0m\u001b[0m\n\u001b[0;32m--> 249\u001b[0;31m             return filemeta.open().upload(filename=filename,\n\u001b[0m\u001b[1;32m    250\u001b[0m                                           \u001b[0mforce_par\u001b[0m\u001b[0;34m=\u001b[0m\u001b[0mforce_par\u001b[0m\u001b[0;34m,\u001b[0m\u001b[0;34m\u001b[0m\u001b[0;34m\u001b[0m\u001b[0m\n\u001b[1;32m    251\u001b[0m                                           aclrules=aclrules)\n",
      "\u001b[0;32m~/Documents/Devel/acquire/Acquire/Client/_file.py\u001b[0m in \u001b[0;36mupload\u001b[0;34m(self, filename, force_par, aclrules)\u001b[0m\n\u001b[1;32m    165\u001b[0m         \u001b[0mdrive_uid\u001b[0m \u001b[0;34m=\u001b[0m \u001b[0mself\u001b[0m\u001b[0;34m.\u001b[0m\u001b[0m_metadata\u001b[0m\u001b[0;34m.\u001b[0m\u001b[0mdrive\u001b[0m\u001b[0;34m(\u001b[0m\u001b[0;34m)\u001b[0m\u001b[0;34m.\u001b[0m\u001b[0muid\u001b[0m\u001b[0;34m(\u001b[0m\u001b[0;34m)\u001b[0m\u001b[0;34m\u001b[0m\u001b[0;34m\u001b[0m\u001b[0m\n\u001b[1;32m    166\u001b[0m \u001b[0;34m\u001b[0m\u001b[0m\n\u001b[0;32m--> 167\u001b[0;31m         filehandle = _FileHandle(filename=filename,\n\u001b[0m\u001b[1;32m    168\u001b[0m                                  \u001b[0mremote_filename\u001b[0m\u001b[0;34m=\u001b[0m\u001b[0muploaded_name\u001b[0m\u001b[0;34m,\u001b[0m\u001b[0;34m\u001b[0m\u001b[0;34m\u001b[0m\u001b[0m\n\u001b[1;32m    169\u001b[0m                                  \u001b[0mdrive_uid\u001b[0m\u001b[0;34m=\u001b[0m\u001b[0mdrive_uid\u001b[0m\u001b[0;34m,\u001b[0m\u001b[0;34m\u001b[0m\u001b[0;34m\u001b[0m\u001b[0m\n",
      "\u001b[0;32m~/Documents/Devel/acquire/Acquire/Storage/_filehandle.py\u001b[0m in \u001b[0;36m__init__\u001b[0;34m(self, filename, remote_filename, aclrules, drive_uid, compress, local_cutoff)\u001b[0m\n\u001b[1;32m    108\u001b[0m             \u001b[0;32mimport\u001b[0m \u001b[0mos\u001b[0m \u001b[0;32mas\u001b[0m \u001b[0m_os\u001b[0m\u001b[0;34m\u001b[0m\u001b[0;34m\u001b[0m\u001b[0m\n\u001b[1;32m    109\u001b[0m \u001b[0;34m\u001b[0m\u001b[0m\n\u001b[0;32m--> 110\u001b[0;31m             \u001b[0;34m(\u001b[0m\u001b[0mfilesize\u001b[0m\u001b[0;34m,\u001b[0m \u001b[0mcksum\u001b[0m\u001b[0;34m)\u001b[0m \u001b[0;34m=\u001b[0m \u001b[0m_get_filesize_and_checksum\u001b[0m\u001b[0;34m(\u001b[0m\u001b[0mfilename\u001b[0m\u001b[0;34m=\u001b[0m\u001b[0mfilename\u001b[0m\u001b[0;34m)\u001b[0m\u001b[0;34m\u001b[0m\u001b[0;34m\u001b[0m\u001b[0m\n\u001b[0m\u001b[1;32m    111\u001b[0m \u001b[0;34m\u001b[0m\u001b[0m\n\u001b[1;32m    112\u001b[0m             if compress and _should_compress(filename=filename,\n",
      "\u001b[0;32m~/Documents/Devel/acquire/Acquire/Access/_checksum.py\u001b[0m in \u001b[0;36mget_filesize_and_checksum\u001b[0;34m(filename)\u001b[0m\n\u001b[1;32m     33\u001b[0m     \u001b[0msize\u001b[0m \u001b[0;34m=\u001b[0m \u001b[0;36m0\u001b[0m\u001b[0;34m\u001b[0m\u001b[0;34m\u001b[0m\u001b[0m\n\u001b[1;32m     34\u001b[0m \u001b[0;34m\u001b[0m\u001b[0m\n\u001b[0;32m---> 35\u001b[0;31m     \u001b[0;32mwith\u001b[0m \u001b[0mopen\u001b[0m\u001b[0;34m(\u001b[0m\u001b[0mfilename\u001b[0m\u001b[0;34m,\u001b[0m \u001b[0;34m\"rb\"\u001b[0m\u001b[0;34m)\u001b[0m \u001b[0;32mas\u001b[0m \u001b[0mf\u001b[0m\u001b[0;34m:\u001b[0m\u001b[0;34m\u001b[0m\u001b[0;34m\u001b[0m\u001b[0m\n\u001b[0m\u001b[1;32m     36\u001b[0m         \u001b[0;32mfor\u001b[0m \u001b[0mchunk\u001b[0m \u001b[0;32min\u001b[0m \u001b[0miter\u001b[0m\u001b[0;34m(\u001b[0m\u001b[0;32mlambda\u001b[0m\u001b[0;34m:\u001b[0m \u001b[0mf\u001b[0m\u001b[0;34m.\u001b[0m\u001b[0mread\u001b[0m\u001b[0;34m(\u001b[0m\u001b[0;36m4096\u001b[0m\u001b[0;34m)\u001b[0m\u001b[0;34m,\u001b[0m \u001b[0;34mb\"\"\u001b[0m\u001b[0;34m)\u001b[0m\u001b[0;34m:\u001b[0m\u001b[0;34m\u001b[0m\u001b[0;34m\u001b[0m\u001b[0m\n\u001b[1;32m     37\u001b[0m             \u001b[0mmd5\u001b[0m\u001b[0;34m.\u001b[0m\u001b[0mupdate\u001b[0m\u001b[0;34m(\u001b[0m\u001b[0mchunk\u001b[0m\u001b[0;34m)\u001b[0m\u001b[0;34m\u001b[0m\u001b[0;34m\u001b[0m\u001b[0m\n",
      "\u001b[0;31mFileNotFoundError\u001b[0m: [Errno 2] No such file or directory: '/Users/wm19361/Documents/Devel/hugs/raw_data/eurocom/small/BIS_air.hdf.all.COMBI_Drought2018_20190522_min.co2'"
     ]
    }
   ],
   "source": [
    "uuids = []\n",
    "for chunk in chunked:\n",
    "    uids = processing.process_files(user=user, files=chunk, data_type=\"EUROCOM\")\n",
    "    uuids.append(uids)\n",
    "    time.sleep(5)"
   ]
  },
  {
   "cell_type": "code",
   "execution_count": null,
   "metadata": {},
   "outputs": [
    {
     "data": {
      "text/plain": [
       "[{'BIS_air.hdf.all.COMBI_Drought2018_20190522_min.co2': ValueError(\"Error calling 'process' on 'https://hugs.acquire-aaai.com/t/hugs': This file has been uploaded previously with the filename : BIS_air.hdf.all.COMBI_Drought2018_20190522_min.co2\"),\n",
       "  'CBW_207m_air.hdf.all.COMBI_Drought2018_20190522_min.co2': ValueError(\"Error calling 'process' on 'https://hugs.acquire-aaai.com/t/hugs': This file has been uploaded previously with the filename : CBW_207m_air.hdf.all.COMBI_Drought2018_20190522_min.co2\"),\n",
       "  'TRN_50m_air.hdf.all.COMBI_Drought2018_20190522_min.co2': ValueError(\"Error calling 'process' on 'https://hugs.acquire-aaai.com/t/hugs': This file has been uploaded previously with the filename : TRN_50m_air.hdf.all.COMBI_Drought2018_20190522_min.co2\"),\n",
       "  'SMR_67.2m_air.hdf.all.COMBI_Drought2018_20190522_min.co2': ValueError(\"Error calling 'process' on 'https://hugs.acquire-aaai.com/t/hugs': This file has been uploaded previously with the filename : SMR_67.2m_air.hdf.all.COMBI_Drought2018_20190522_min.co2\"),\n",
       "  'OPE_50m_air.hdf.all.COMBI_Drought2018_20190522_min.co2': ValueError(\"Error calling 'process' on 'https://hugs.acquire-aaai.com/t/hugs': This file has been uploaded previously with the filename : OPE_50m_air.hdf.all.COMBI_Drought2018_20190522_min.co2\")},\n",
       " {'BIK_300m_air.hdf.all.COMBI_Drought2018_20190522_min.co2': ValueError(\"Error calling 'process' on 'https://hugs.acquire-aaai.com/t/hugs': This file has been uploaded previously with the filename : BIK_300m_air.hdf.all.COMBI_Drought2018_20190522_min.co2\"),\n",
       "  'SMR_125m_air.hdf.all.COMBI_Drought2018_20190522_min.co2': ValueError(\"Error calling 'process' on 'https://hugs.acquire-aaai.com/t/hugs': This file has been uploaded previously with the filename : SMR_125m_air.hdf.all.COMBI_Drought2018_20190522_min.co2\"),\n",
       "  'OPE_120m_air.hdf.all.COMBI_Drought2018_20190522_min.co2': ValueError(\"Error calling 'process' on 'https://hugs.acquire-aaai.com/t/hugs': This file has been uploaded previously with the filename : OPE_120m_air.hdf.all.COMBI_Drought2018_20190522_min.co2\"),\n",
       "  'CBW_127m_air.hdf.all.COMBI_Drought2018_20190522_min.co2': ValueError(\"Error calling 'process' on 'https://hugs.acquire-aaai.com/t/hugs': This file has been uploaded previously with the filename : CBW_127m_air.hdf.all.COMBI_Drought2018_20190522_min.co2\"),\n",
       "  'TAC_185m_air.hdf.all.COMBI_Drought2018_20190522_min.co2': ValueError(\"Error calling 'process' on 'https://hugs.acquire-aaai.com/t/hugs': This file has been uploaded previously with the filename : TAC_185m_air.hdf.all.COMBI_Drought2018_20190522_min.co2\")},\n",
       " {'OPE_10m_air.hdf.all.COMBI_Drought2018_20190522_min.co2': ValueError(\"Error calling 'process' on 'https://hugs.acquire-aaai.com/t/hugs': This file has been uploaded previously with the filename : OPE_10m_air.hdf.all.COMBI_Drought2018_20190522_min.co2\"),\n",
       "  'PAL_air.hdf.all.COMBI_Drought2018_20190522_min.co2': ValueError(\"Error calling 'process' on 'https://hugs.acquire-aaai.com/t/hugs': This file has been uploaded previously with the filename : PAL_air.hdf.all.COMBI_Drought2018_20190522_min.co2\"),\n",
       "  'LMP_air.hdf.all.COMBI_Drought2018_20190522_min.co2': ValueError(\"Error calling 'process' on 'https://hugs.acquire-aaai.com/t/hugs': This file has been uploaded previously with the filename : LMP_air.hdf.all.COMBI_Drought2018_20190522_min.co2\"),\n",
       "  'HEI_air.hdf.all.COMBI_Drought2018_20190522_min.co2': ValueError(\"Error calling 'process' on 'https://hugs.acquire-aaai.com/t/hugs': This file has been uploaded previously with the filename : HEI_air.hdf.all.COMBI_Drought2018_20190522_min.co2\"),\n",
       "  'IZO_air.hdf.all.COMBI_Drought2018_20190522_min.co2': ValueError(\"Error calling 'process' on 'https://hugs.acquire-aaai.com/t/hugs': This file has been uploaded previously with the filename : IZO_air.hdf.all.COMBI_Drought2018_20190522_min.co2\")},\n",
       " {'BIK_30m_air.hdf.all.COMBI_Drought2018_20190522_min.co2': ValueError(\"Error calling 'process' on 'https://hugs.acquire-aaai.com/t/hugs': This file has been uploaded previously with the filename : BIK_30m_air.hdf.all.COMBI_Drought2018_20190522_min.co2\"),\n",
       "  'TRN_180m_air.hdf.all.COMBI_Drought2018_20190522_min.co2': ValueError(\"Error calling 'process' on 'https://hugs.acquire-aaai.com/t/hugs': This file has been uploaded previously with the filename : TRN_180m_air.hdf.all.COMBI_Drought2018_20190522_min.co2\"),\n",
       "  'MHD_air.hdf.all.COMBI_Drought2018_20190522_min.co2': ValueError(\"Error calling 'process' on 'https://hugs.acquire-aaai.com/t/hugs': This file has been uploaded previously with the filename : MHD_air.hdf.all.COMBI_Drought2018_20190522_min.co2\"),\n",
       "  'SSL_air.hdf.all.COMBI_Drought2018_20190522_min.co2': {'SSL_air.hdf.all.COMBI_Drought2018_20190522_min_co2': 'ccbc4d7b-6908-4286-802c-997ceb4c7fa2'},\n",
       "  'WAO_air.hdf.all.COMBI_Drought2018_20190522_min.co2': {'WAO_air.hdf.all.COMBI_Drought2018_20190522_min_co2': 'ac65ec93-fe3f-4881-bbf4-1a6921e11c42'}},\n",
       " {'CBW_27m_air.hdf.all.COMBI_Drought2018_20190522_min.co2': {'CBW_27m_air.hdf.all.COMBI_Drought2018_20190522_min_co2': '5f0aa7b6-6905-4792-aa2e-e68d60b2a536'},\n",
       "  'TRN_100m_air.hdf.all.COMBI_Drought2018_20190522_min.co2': {'TRN_100m_air.hdf.all.COMBI_Drought2018_20190522_min_co2': '32ea6644-0e94-48be-a08e-9be1aa6ce5d8'},\n",
       "  'TRN_5m_air.hdf.all.COMBI_Drought2018_20190522_min.co2': {'TRN_5m_air.hdf.all.COMBI_Drought2018_20190522_min_co2': '0ec3d8a8-c02a-4bdd-9f73-c51ec26c4fcf'},\n",
       "  'SMR_16.8m_air.hdf.all.COMBI_Drought2018_20190522_min.co2': {'SMR_16.8m_air.hdf.all.COMBI_Drought2018_20190522_min_co2': 'f977f7cb-956f-45e4-9bba-b5e55cfa34ed'},\n",
       "  'RGL_45m_air.hdf.all.COMBI_Drought2018_20190522_min.co2': {'RGL_45m_air.hdf.all.COMBI_Drought2018_20190522_min_co2': '5773eef2-d5bd-4bc5-9901-997fe223fccd'}},\n",
       " {'SVB_150m_air.hdf.all.COMBI_Drought2018_20190522_min.co2': {'SVB_150m_air.hdf.all.COMBI_Drought2018_20190522_min_co2': '80c85326-0a3b-48bb-97dc-b40c74498c34'},\n",
       "  'BIK_90m_air.hdf.all.COMBI_Drought2018_20190522_min.co2': {'BIK_90m_air.hdf.all.COMBI_Drought2018_20190522_min_co2': '1deb7b7a-61a2-4148-9528-6008e745eca2'},\n",
       "  'CBW_67m_air.hdf.all.COMBI_Drought2018_20190522_min.co2': {'CBW_67m_air.hdf.all.COMBI_Drought2018_20190522_min_co2': '9ea07595-849b-4285-a203-b50637a474b8'},\n",
       "  'SVB_35m_air.hdf.all.COMBI_Drought2018_20190522_min.co2': {'SVB_35m_air.hdf.all.COMBI_Drought2018_20190522_min_co2': '2ea74ab2-1437-4972-982b-357e62216a7e'},\n",
       "  'JFJ_air.hdf.all.COMBI_Drought2018_20190522_min.co2': {'JFJ_air.hdf.all.COMBI_Drought2018_20190522_min_co2': '69644c6a-9cb8-41ed-af7e-acd981e13425'}},\n",
       " {'LUT_air.hdf.all.COMBI_Drought2018_20190522_min.co2': {'LUT_air.hdf.all.COMBI_Drought2018_20190522_min_co2': '55191a46-18c7-4736-95be-1da00f49e7d9'},\n",
       "  'CMN_air.hdf.all.COMBI_Drought2018_20190522_min.co2': {'CMN_air.hdf.all.COMBI_Drought2018_20190522_min_co2': '893fef4f-e993-4be5-a07c-b6b69fbe6e72'},\n",
       "  'BIK_180m_air.hdf.all.COMBI_Drought2018_20190522_min.co2': {'BIK_180m_air.hdf.all.COMBI_Drought2018_20190522_min_co2': '91edce36-a68f-4dcf-9d7c-ae3e6662b158'},\n",
       "  'KAS_air.hdf.all.COMBI_Drought2018_20190522_min.co2': {'KAS_air.hdf.all.COMBI_Drought2018_20190522_min_co2': '0bd98530-306b-4da7-a9c7-83a2a04095ff'},\n",
       "  'HUN_115m_air.hdf.all.COMBI_Drought2018_20190522_min.co2': {'HUN_115m_air.hdf.all.COMBI_Drought2018_20190522_min_co2': 'b4846e6e-0a1c-429c-ab7a-c802761c6108'}},\n",
       " {'SVB_85m_air.hdf.all.COMBI_Drought2018_20190522_min.co2': {'SVB_85m_air.hdf.all.COMBI_Drought2018_20190522_min_co2': 'a72f4ea6-e1c5-42ae-967e-a7249c8d9c94'},\n",
       "  'HUN_82m_air.hdf.all.COMBI_Drought2018_20190522_min.co2': {'HUN_82m_air.hdf.all.COMBI_Drought2018_20190522_min_co2': '10eeac52-b108-4979-8af9-acdb258ed757'},\n",
       "  'HUN_10m_air.hdf.all.COMBI_Drought2018_20190522_min.co2': {'HUN_10m_air.hdf.all.COMBI_Drought2018_20190522_min_co2': '23a8c3d7-7aaf-4ad0-89ac-bbe0ed72d8d0'},\n",
       "  'HUN_48m_air.hdf.all.COMBI_Drought2018_20190522_min.co2': {'HUN_48m_air.hdf.all.COMBI_Drought2018_20190522_min_co2': '40400d4e-047e-47d1-bdc9-3d321e35ab4f'},\n",
       "  'BIR_air.hdf.all.COMBI_Drought2018_20190522_min.co2': {'BIR_air.hdf.all.COMBI_Drought2018_20190522_min_co2': 'b98ba41e-4f3f-491a-bf9b-70d7b96a4196'}},\n",
       " {'PRS_air.hdf.all.COMBI_Drought2018_20190522_min.co2': {'PRS_air.hdf.all.COMBI_Drought2018_20190522_min_co2': 'e090e849-69b9-43d9-b665-46ad45e86ab3'},\n",
       "  'TAC_54m_air.hdf.all.COMBI_Drought2018_20190522_min.co2': {'TAC_54m_air.hdf.all.COMBI_Drought2018_20190522_min_co2': '4479c06c-0f30-41b2-936f-fb3361c7c694'},\n",
       "  'TAC_100m_air.hdf.all.COMBI_Drought2018_20190522_min.co2': {'TAC_100m_air.hdf.all.COMBI_Drought2018_20190522_min_co2': '30253aae-e075-4594-a47b-86b349eca502'},\n",
       "  'BIK_5m_air.hdf.all.COMBI_Drought2018_20190522_min.co2': {'BIK_5m_air.hdf.all.COMBI_Drought2018_20190522_min_co2': 'ccc090d0-5ee2-4176-9f3d-292b4369cf78'},\n",
       "  'RGL_90m_air.hdf.all.COMBI_Drought2018_20190522_min.co2': {'RGL_90m_air.hdf.all.COMBI_Drought2018_20190522_min_co2': 'c12ceabf-a39b-4871-a832-4fdd85df7e62'}}]"
      ]
     },
     "execution_count": null,
     "metadata": {},
     "output_type": "execute_result"
    }
   ],
   "source": [
    "uuids"
   ]
  },
  {
   "cell_type": "code",
   "execution_count": null,
   "metadata": {},
   "outputs": [],
   "source": []
  }
 ],
 "metadata": {
  "kernelspec": {
   "display_name": "Python 3",
   "language": "python",
   "name": "python3"
  }
 },
 "nbformat": 4,
 "nbformat_minor": 2
}
