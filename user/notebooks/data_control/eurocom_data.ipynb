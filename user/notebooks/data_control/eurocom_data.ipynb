{
 "cells": [
  {
   "cell_type": "code",
   "execution_count": null,
   "metadata": {},
   "outputs": [],
   "source": [
    "import os\n",
    "import sys\n",
    "from datetime import datetime\n",
    "sys.path.insert(0, \"../../..\")\n",
    "sys.path.insert(0, \"../../../../acquire\")\n",
    "\n",
    "from HUGS.Processing import search\n",
    "from HUGS.Client import Process, Search, Retrieve\n",
    "from Acquire.ObjectStore import datetime_to_string\n",
    "from Acquire.Client import User, Drive, Service, PAR, Authorisation, StorageCreds\n",
    "\n",
    "from pathlib import Path\n",
    "import time\n",
    "import glob\n",
    "\n",
    "# Autoreload modules before executing code, useful during development\n",
    "%load_ext autoreload\n",
    "%autoreload 2"
   ]
  },
  {
   "cell_type": "code",
   "execution_count": null,
   "metadata": {},
   "outputs": [],
   "source": [
    "base_url= \"https://hugs.acquire-aaai.com/t\""
   ]
  },
  {
   "cell_type": "code",
   "execution_count": null,
   "metadata": {},
   "outputs": [
    {
     "name": "stdout",
     "output_type": "stream",
     "text": [
      "Login by visiting: https://login.acquire-aaai.com?id=a0-a6/70.9f.b8.37\n",
      "(please check that this page displays the message 'fluffy cows stand happily')\n"
     ]
    }
   ],
   "source": [
    "# base_url = \"https://hugs.acquire-aaai.com/t\"\n",
    "\n",
    "user = User(username=\"gareth\", identity_url=F\"{base_url}/identity\")\n",
    "response = user.request_login()"
   ]
  },
  {
   "cell_type": "code",
   "execution_count": null,
   "metadata": {},
   "outputs": [
    {
     "data": {
      "text/plain": [
       "True"
      ]
     },
     "execution_count": null,
     "metadata": {},
     "output_type": "execute_result"
    }
   ],
   "source": [
    "user.wait_for_login()"
   ]
  },
  {
   "cell_type": "code",
   "execution_count": null,
   "metadata": {},
   "outputs": [],
   "source": [
    "processing = Process(service_url=base_url)"
   ]
  },
  {
   "cell_type": "code",
   "execution_count": null,
   "metadata": {},
   "outputs": [],
   "source": [
    "eurocom_data = \"/home/gar/Documents/Devel/hugs/raw_data/eurocom/small/*.*co2\""
   ]
  },
  {
   "cell_type": "code",
   "execution_count": null,
   "metadata": {},
   "outputs": [],
   "source": [
    "files = glob.glob(eurocom_data)"
   ]
  },
  {
   "cell_type": "code",
   "execution_count": null,
   "metadata": {},
   "outputs": [
    {
     "data": {
      "text/plain": [
       "['/home/gar/Documents/Devel/hugs/raw_data/eurocom/small/NOR_100m_air.hdf.all.COMBI_Drought2018_20190522_min.co2',\n",
       " '/home/gar/Documents/Devel/hugs/raw_data/eurocom/small/SVB_35m_air.hdf.all.COMBI_Drought2018_20190522_min.co2',\n",
       " '/home/gar/Documents/Devel/hugs/raw_data/eurocom/small/KAS_air.hdf.all.COMBI_Drought2018_20190522_min.co2',\n",
       " '/home/gar/Documents/Devel/hugs/raw_data/eurocom/small/TRN_5m_air.hdf.all.COMBI_Drought2018_20190522_min.co2',\n",
       " '/home/gar/Documents/Devel/hugs/raw_data/eurocom/small/OPE_10m_air.hdf.all.COMBI_Drought2018_20190522_min.co2',\n",
       " '/home/gar/Documents/Devel/hugs/raw_data/eurocom/small/HUN_48m_air.hdf.all.COMBI_Drought2018_20190522_min.co2',\n",
       " '/home/gar/Documents/Devel/hugs/raw_data/eurocom/small/IPR_100m_air.hdf.all.COMBI_Drought2018_20190522_min.co2',\n",
       " '/home/gar/Documents/Devel/hugs/raw_data/eurocom/small/TRN_100m_air.hdf.all.COMBI_Drought2018_20190522_min.co2',\n",
       " '/home/gar/Documents/Devel/hugs/raw_data/eurocom/small/SMR_67.2m_air.hdf.all.COMBI_Drought2018_20190522_min.co2',\n",
       " '/home/gar/Documents/Devel/hugs/raw_data/eurocom/small/NOR_59m_air.hdf.all.COMBI_Drought2018_20190522_min.co2',\n",
       " '/home/gar/Documents/Devel/hugs/raw_data/eurocom/small/BIK_30m_air.hdf.all.COMBI_Drought2018_20190522_min.co2',\n",
       " '/home/gar/Documents/Devel/hugs/raw_data/eurocom/small/NOR_32m_air.hdf.all.COMBI_Drought2018_20190522_min.co2',\n",
       " '/home/gar/Documents/Devel/hugs/raw_data/eurocom/small/CBW_127m_air.hdf.all.COMBI_Drought2018_20190522_min.co2',\n",
       " '/home/gar/Documents/Devel/hugs/raw_data/eurocom/small/SSL_air.hdf.all.COMBI_Drought2018_20190522_min.co2',\n",
       " '/home/gar/Documents/Devel/hugs/raw_data/eurocom/small/CMN_air.hdf.all.COMBI_Drought2018_20190522_min.co2',\n",
       " '/home/gar/Documents/Devel/hugs/raw_data/eurocom/small/OPE_50m_air.hdf.all.COMBI_Drought2018_20190522_min.co2',\n",
       " '/home/gar/Documents/Devel/hugs/raw_data/eurocom/small/ERS_air.hdf.all.COMBI_Drought2018_20190522_min.co2',\n",
       " '/home/gar/Documents/Devel/hugs/raw_data/eurocom/small/TRN_180m_air.hdf.all.COMBI_Drought2018_20190522_min.co2',\n",
       " '/home/gar/Documents/Devel/hugs/raw_data/eurocom/small/MLH_air.hdf.all.COMBI_Drought2018_20190522_min.co2',\n",
       " '/home/gar/Documents/Devel/hugs/raw_data/eurocom/small/HUN_115m_air.hdf.all.COMBI_Drought2018_20190522_min.co2',\n",
       " '/home/gar/Documents/Devel/hugs/raw_data/eurocom/small/PRS_air.hdf.all.COMBI_Drought2018_20190522_min.co2',\n",
       " '/home/gar/Documents/Devel/hugs/raw_data/eurocom/small/PAL_air.hdf.all.COMBI_Drought2018_20190522_min.co2',\n",
       " '/home/gar/Documents/Devel/hugs/raw_data/eurocom/small/BIR_air.hdf.all.COMBI_Drought2018_20190522_min.co2',\n",
       " '/home/gar/Documents/Devel/hugs/raw_data/eurocom/small/HUN_10m_air.hdf.all.COMBI_Drought2018_20190522_min.co2',\n",
       " '/home/gar/Documents/Devel/hugs/raw_data/eurocom/small/CBW_27m_air.hdf.all.COMBI_Drought2018_20190522_min.co2',\n",
       " '/home/gar/Documents/Devel/hugs/raw_data/eurocom/small/CBW_207m_air.hdf.all.COMBI_Drought2018_20190522_min.co2',\n",
       " '/home/gar/Documents/Devel/hugs/raw_data/eurocom/small/PUI_air.hdf.all.COMBI_Drought2018_20190522_min.co2',\n",
       " '/home/gar/Documents/Devel/hugs/raw_data/eurocom/small/CBW_67m_air.hdf.all.COMBI_Drought2018_20190522_min.co2',\n",
       " '/home/gar/Documents/Devel/hugs/raw_data/eurocom/small/OHP_100m_air.hdf.all.COMBI_Drought2018_20190522_min.co2',\n",
       " '/home/gar/Documents/Devel/hugs/raw_data/eurocom/small/HPB_50m_air.hdf.all.COMBI_Drought2018_20190522_min.co2',\n",
       " '/home/gar/Documents/Devel/hugs/raw_data/eurocom/small/OPE_120m_air.hdf.all.COMBI_Drought2018_20190522_min.co2',\n",
       " '/home/gar/Documents/Devel/hugs/raw_data/eurocom/small/HPB_131m_air.hdf.all.COMBI_Drought2018_20190522_min.co2',\n",
       " '/home/gar/Documents/Devel/hugs/raw_data/eurocom/small/LUT_air.hdf.all.COMBI_Drought2018_20190522_min.co2',\n",
       " '/home/gar/Documents/Devel/hugs/raw_data/eurocom/small/BIS_air.hdf.all.COMBI_Drought2018_20190522_min.co2',\n",
       " '/home/gar/Documents/Devel/hugs/raw_data/eurocom/small/DEC_air.hdf.all.COMBI_Drought2018_20190522_min.co2',\n",
       " '/home/gar/Documents/Devel/hugs/raw_data/eurocom/small/LMP_air.hdf.all.COMBI_Drought2018_20190522_min.co2',\n",
       " '/home/gar/Documents/Devel/hugs/raw_data/eurocom/small/RGL_45m_air.hdf.all.COMBI_Drought2018_20190522_min.co2',\n",
       " '/home/gar/Documents/Devel/hugs/raw_data/eurocom/small/BIK_90m_air.hdf.all.COMBI_Drought2018_20190522_min.co2',\n",
       " '/home/gar/Documents/Devel/hugs/raw_data/eurocom/small/BIK_180m_air.hdf.all.COMBI_Drought2018_20190522_min.co2',\n",
       " '/home/gar/Documents/Devel/hugs/raw_data/eurocom/small/JFJ_air.hdf.all.COMBI_Drought2018_20190522_min.co2',\n",
       " '/home/gar/Documents/Devel/hugs/raw_data/eurocom/small/LHW_air.hdf.all.COMBI_Drought2018_20190522_min.co2',\n",
       " '/home/gar/Documents/Devel/hugs/raw_data/eurocom/small/TRN_50m_air.hdf.all.COMBI_Drought2018_20190522_min.co2',\n",
       " '/home/gar/Documents/Devel/hugs/raw_data/eurocom/small/HUN_82m_air.hdf.all.COMBI_Drought2018_20190522_min.co2',\n",
       " '/home/gar/Documents/Devel/hugs/raw_data/eurocom/small/PUY_air.hdf.all.COMBI_Drought2018_20190522_min.co2',\n",
       " '/home/gar/Documents/Devel/hugs/raw_data/eurocom/small/WAO_air.hdf.all.COMBI_Drought2018_20190522_min.co2',\n",
       " '/home/gar/Documents/Devel/hugs/raw_data/eurocom/small/TAC_100m_air.hdf.all.COMBI_Drought2018_20190522_min.co2',\n",
       " '/home/gar/Documents/Devel/hugs/raw_data/eurocom/small/TAC_185m_air.hdf.all.COMBI_Drought2018_20190522_min.co2',\n",
       " '/home/gar/Documents/Devel/hugs/raw_data/eurocom/small/HPB_93m_air.hdf.all.COMBI_Drought2018_20190522_min.co2',\n",
       " '/home/gar/Documents/Devel/hugs/raw_data/eurocom/small/FKL_air.hdf.all.COMBI_Drought2018_20190522_min.co2',\n",
       " '/home/gar/Documents/Devel/hugs/raw_data/eurocom/small/PDM_air.hdf.all.COMBI_Drought2018_20190522_min.co2',\n",
       " '/home/gar/Documents/Devel/hugs/raw_data/eurocom/small/ZEP_air.hdf.all.COMBI_Drought2018_20190522_min.co2',\n",
       " '/home/gar/Documents/Devel/hugs/raw_data/eurocom/small/BIK_5m_air.hdf.all.COMBI_Drought2018_20190522_min.co2',\n",
       " '/home/gar/Documents/Devel/hugs/raw_data/eurocom/small/IZO_air.hdf.all.COMBI_Drought2018_20190522_min.co2',\n",
       " '/home/gar/Documents/Devel/hugs/raw_data/eurocom/small/SVB_85m_air.hdf.all.COMBI_Drought2018_20190522_min.co2',\n",
       " '/home/gar/Documents/Devel/hugs/raw_data/eurocom/small/CRP_air.hdf.all.COMBI_Drought2018_20190522_min.co2',\n",
       " '/home/gar/Documents/Devel/hugs/raw_data/eurocom/small/SAC_100m_air.hdf.all.COMBI_Drought2018_20190522_min.co2',\n",
       " '/home/gar/Documents/Devel/hugs/raw_data/eurocom/small/HEI_air.hdf.all.COMBI_Drought2018_20190522_min.co2',\n",
       " '/home/gar/Documents/Devel/hugs/raw_data/eurocom/small/RGL_90m_air.hdf.all.COMBI_Drought2018_20190522_min.co2',\n",
       " '/home/gar/Documents/Devel/hugs/raw_data/eurocom/small/LMU_air.hdf.all.COMBI_Drought2018_20190522_min.co2',\n",
       " '/home/gar/Documents/Devel/hugs/raw_data/eurocom/small/TAC_54m_air.hdf.all.COMBI_Drought2018_20190522_min.co2',\n",
       " '/home/gar/Documents/Devel/hugs/raw_data/eurocom/small/SMR_125m_air.hdf.all.COMBI_Drought2018_20190522_min.co2',\n",
       " '/home/gar/Documents/Devel/hugs/raw_data/eurocom/small/MHD_air.hdf.all.COMBI_Drought2018_20190522_min.co2',\n",
       " '/home/gar/Documents/Devel/hugs/raw_data/eurocom/small/SMR_16.8m_air.hdf.all.COMBI_Drought2018_20190522_min.co2',\n",
       " '/home/gar/Documents/Devel/hugs/raw_data/eurocom/small/SVB_150m_air.hdf.all.COMBI_Drought2018_20190522_min.co2',\n",
       " '/home/gar/Documents/Devel/hugs/raw_data/eurocom/small/SAC_15m_air.hdf.all.COMBI_Drought2018_20190522_min.co2',\n",
       " '/home/gar/Documents/Devel/hugs/raw_data/eurocom/small/SAC_60m_air.hdf.all.COMBI_Drought2018_20190522_min.co2',\n",
       " '/home/gar/Documents/Devel/hugs/raw_data/eurocom/small/BIK_300m_air.hdf.all.COMBI_Drought2018_20190522_min.co2']"
      ]
     },
     "execution_count": null,
     "metadata": {},
     "output_type": "execute_result"
    }
   ],
   "source": [
    "files"
   ]
  },
  {
   "cell_type": "code",
   "execution_count": null,
   "metadata": {},
   "outputs": [
    {
     "data": {
      "text/plain": [
       "67"
      ]
     },
     "execution_count": null,
     "metadata": {},
     "output_type": "execute_result"
    }
   ],
   "source": [
    "len(files)"
   ]
  },
  {
   "cell_type": "code",
   "execution_count": null,
   "metadata": {},
   "outputs": [],
   "source": [
    "known_sites = ['/home/gar/Documents/Devel/hugs/raw_data/eurocom/small/./BIS_air.hdf.all.COMBI_Drought2018_20190522_min.co2',\n",
    " '/home/gar/Documents/Devel/hugs/raw_data/eurocom/small/./CBW_207m_air.hdf.all.COMBI_Drought2018_20190522_min.co2',\n",
    " '/home/gar/Documents/Devel/hugs/raw_data/eurocom/small/./TRN_50m_air.hdf.all.COMBI_Drought2018_20190522_min.co2',\n",
    " '/home/gar/Documents/Devel/hugs/raw_data/eurocom/small/./SMR_67.2m_air.hdf.all.COMBI_Drought2018_20190522_min.co2',\n",
    " '/home/gar/Documents/Devel/hugs/raw_data/eurocom/small/./OPE_50m_air.hdf.all.COMBI_Drought2018_20190522_min.co2',\n",
    " '/home/gar/Documents/Devel/hugs/raw_data/eurocom/small/./BIK_300m_air.hdf.all.COMBI_Drought2018_20190522_min.co2',\n",
    " '/home/gar/Documents/Devel/hugs/raw_data/eurocom/small/./SMR_125m_air.hdf.all.COMBI_Drought2018_20190522_min.co2',\n",
    " '/home/gar/Documents/Devel/hugs/raw_data/eurocom/small/./OPE_120m_air.hdf.all.COMBI_Drought2018_20190522_min.co2',\n",
    " '/home/gar/Documents/Devel/hugs/raw_data/eurocom/small/./CBW_127m_air.hdf.all.COMBI_Drought2018_20190522_min.co2',\n",
    " '/home/gar/Documents/Devel/hugs/raw_data/eurocom/small/./TAC_185m_air.hdf.all.COMBI_Drought2018_20190522_min.co2',\n",
    " '/home/gar/Documents/Devel/hugs/raw_data/eurocom/small/./OPE_10m_air.hdf.all.COMBI_Drought2018_20190522_min.co2',\n",
    " '/home/gar/Documents/Devel/hugs/raw_data/eurocom/small/./PAL_air.hdf.all.COMBI_Drought2018_20190522_min.co2',\n",
    " '/home/gar/Documents/Devel/hugs/raw_data/eurocom/small/./LMP_air.hdf.all.COMBI_Drought2018_20190522_min.co2',\n",
    " '/home/gar/Documents/Devel/hugs/raw_data/eurocom/small/./HEI_air.hdf.all.COMBI_Drought2018_20190522_min.co2',\n",
    " '/home/gar/Documents/Devel/hugs/raw_data/eurocom/small/./IZO_air.hdf.all.COMBI_Drought2018_20190522_min.co2',\n",
    " '/home/gar/Documents/Devel/hugs/raw_data/eurocom/small/./BIK_30m_air.hdf.all.COMBI_Drought2018_20190522_min.co2',\n",
    " '/home/gar/Documents/Devel/hugs/raw_data/eurocom/small/./TRN_180m_air.hdf.all.COMBI_Drought2018_20190522_min.co2',\n",
    " '/home/gar/Documents/Devel/hugs/raw_data/eurocom/small/./MHD_air.hdf.all.COMBI_Drought2018_20190522_min.co2',\n",
    " '/home/gar/Documents/Devel/hugs/raw_data/eurocom/small/./SSL_air.hdf.all.COMBI_Drought2018_20190522_min.co2',\n",
    " '/home/gar/Documents/Devel/hugs/raw_data/eurocom/small/./WAO_air.hdf.all.COMBI_Drought2018_20190522_min.co2',\n",
    " '/home/gar/Documents/Devel/hugs/raw_data/eurocom/small/./CBW_27m_air.hdf.all.COMBI_Drought2018_20190522_min.co2',\n",
    " '/home/gar/Documents/Devel/hugs/raw_data/eurocom/small/./TRN_100m_air.hdf.all.COMBI_Drought2018_20190522_min.co2',\n",
    " '/home/gar/Documents/Devel/hugs/raw_data/eurocom/small/./TRN_5m_air.hdf.all.COMBI_Drought2018_20190522_min.co2',\n",
    " '/home/gar/Documents/Devel/hugs/raw_data/eurocom/small/./SMR_16.8m_air.hdf.all.COMBI_Drought2018_20190522_min.co2',\n",
    " '/home/gar/Documents/Devel/hugs/raw_data/eurocom/small/./RGL_45m_air.hdf.all.COMBI_Drought2018_20190522_min.co2',\n",
    " '/home/gar/Documents/Devel/hugs/raw_data/eurocom/small/./SVB_150m_air.hdf.all.COMBI_Drought2018_20190522_min.co2',\n",
    " '/home/gar/Documents/Devel/hugs/raw_data/eurocom/small/./BIK_90m_air.hdf.all.COMBI_Drought2018_20190522_min.co2',\n",
    " '/home/gar/Documents/Devel/hugs/raw_data/eurocom/small/./CBW_67m_air.hdf.all.COMBI_Drought2018_20190522_min.co2',\n",
    " '/home/gar/Documents/Devel/hugs/raw_data/eurocom/small/./SVB_35m_air.hdf.all.COMBI_Drought2018_20190522_min.co2',\n",
    " '/home/gar/Documents/Devel/hugs/raw_data/eurocom/small/./JFJ_air.hdf.all.COMBI_Drought2018_20190522_min.co2',\n",
    " '/home/gar/Documents/Devel/hugs/raw_data/eurocom/small/./LUT_air.hdf.all.COMBI_Drought2018_20190522_min.co2',\n",
    " '/home/gar/Documents/Devel/hugs/raw_data/eurocom/small/./CMN_air.hdf.all.COMBI_Drought2018_20190522_min.co2',\n",
    " '/home/gar/Documents/Devel/hugs/raw_data/eurocom/small/./BIK_180m_air.hdf.all.COMBI_Drought2018_20190522_min.co2',\n",
    " '/home/gar/Documents/Devel/hugs/raw_data/eurocom/small/./KAS_air.hdf.all.COMBI_Drought2018_20190522_min.co2',\n",
    " '/home/gar/Documents/Devel/hugs/raw_data/eurocom/small/./HUN_115m_air.hdf.all.COMBI_Drought2018_20190522_min.co2',\n",
    " '/home/gar/Documents/Devel/hugs/raw_data/eurocom/small/./SVB_85m_air.hdf.all.COMBI_Drought2018_20190522_min.co2',\n",
    " '/home/gar/Documents/Devel/hugs/raw_data/eurocom/small/./HUN_82m_air.hdf.all.COMBI_Drought2018_20190522_min.co2',\n",
    " '/home/gar/Documents/Devel/hugs/raw_data/eurocom/small/./HUN_10m_air.hdf.all.COMBI_Drought2018_20190522_min.co2',\n",
    " '/home/gar/Documents/Devel/hugs/raw_data/eurocom/small/./HUN_48m_air.hdf.all.COMBI_Drought2018_20190522_min.co2',\n",
    " '/home/gar/Documents/Devel/hugs/raw_data/eurocom/small/./BIR_air.hdf.all.COMBI_Drought2018_20190522_min.co2',\n",
    " '/home/gar/Documents/Devel/hugs/raw_data/eurocom/small/./PRS_air.hdf.all.COMBI_Drought2018_20190522_min.co2',\n",
    " '/home/gar/Documents/Devel/hugs/raw_data/eurocom/small/./TAC_54m_air.hdf.all.COMBI_Drought2018_20190522_min.co2',\n",
    " '/home/gar/Documents/Devel/hugs/raw_data/eurocom/small/./TAC_100m_air.hdf.all.COMBI_Drought2018_20190522_min.co2',\n",
    " '/home/gar/Documents/Devel/hugs/raw_data/eurocom/small/./BIK_5m_air.hdf.all.COMBI_Drought2018_20190522_min.co2',\n",
    " '/home/gar/Documents/Devel/hugs/raw_data/eurocom/small/./RGL_90m_air.hdf.all.COMBI_Drought2018_20190522_min.co2']"
   ]
  },
  {
   "cell_type": "code",
   "execution_count": null,
   "metadata": {},
   "outputs": [],
   "source": [
    "n = 5\n",
    "chunked = [known_sites[i:i + n] for i in range(0, len(known_sites), n)]"
   ]
  },
  {
   "cell_type": "markdown",
   "metadata": {},
   "source": [
    "Try processing them five at a time with a sleep in"
   ]
  },
  {
   "cell_type": "code",
   "execution_count": null,
   "metadata": {},
   "outputs": [],
   "source": [
    "uuids = []\n",
    "for chunk in chunked:\n",
    "    uids = processing.process_files(user=user, files=chunk, data_type=\"EUROCOM\")\n",
    "    uuids.append(uids)\n",
    "    time.sleep(5)"
   ]
  },
  {
   "cell_type": "code",
   "execution_count": null,
   "metadata": {},
   "outputs": [
    {
     "data": {
      "text/plain": [
       "[{'BIS_air.hdf.all.COMBI_Drought2018_20190522_min.co2': {'BIS_air.hdf.all.COMBI_Drought2018_20190522_min_co2': '284bc51b-ef76-4894-86dd-ff4f63e64b65'},\n",
       "  'CBW_207m_air.hdf.all.COMBI_Drought2018_20190522_min.co2': {'CBW_207m_air.hdf.all.COMBI_Drought2018_20190522_min_co2': 'fb278ae6-f6ea-4355-bac6-e63e2c050943'},\n",
       "  'TRN_50m_air.hdf.all.COMBI_Drought2018_20190522_min.co2': {'TRN_50m_air.hdf.all.COMBI_Drought2018_20190522_min_co2': 'f7771a75-8d88-4743-9d0c-d700f483eaad'},\n",
       "  'SMR_67.2m_air.hdf.all.COMBI_Drought2018_20190522_min.co2': {'SMR_67.2m_air.hdf.all.COMBI_Drought2018_20190522_min_co2': 'd6ebd880-a9b2-4d2d-966c-1ed65a85cc09'},\n",
       "  'OPE_50m_air.hdf.all.COMBI_Drought2018_20190522_min.co2': {'OPE_50m_air.hdf.all.COMBI_Drought2018_20190522_min_co2': '517ad809-9b15-4ce4-b06f-3d86e0196bb4'}},\n",
       " {'BIK_300m_air.hdf.all.COMBI_Drought2018_20190522_min.co2': {'BIK_300m_air.hdf.all.COMBI_Drought2018_20190522_min_co2': '96d9efab-8300-41db-baed-1a8419aaf676'},\n",
       "  'SMR_125m_air.hdf.all.COMBI_Drought2018_20190522_min.co2': {'SMR_125m_air.hdf.all.COMBI_Drought2018_20190522_min_co2': '7edd689f-7a13-4c85-becc-b1a5c64f3e31'},\n",
       "  'OPE_120m_air.hdf.all.COMBI_Drought2018_20190522_min.co2': {'OPE_120m_air.hdf.all.COMBI_Drought2018_20190522_min_co2': 'acbe1d56-891e-486a-86c8-b53d87e9f013'},\n",
       "  'CBW_127m_air.hdf.all.COMBI_Drought2018_20190522_min.co2': {'CBW_127m_air.hdf.all.COMBI_Drought2018_20190522_min_co2': '55e162e7-f03d-4ec7-8b73-40af038012f2'},\n",
       "  'TAC_185m_air.hdf.all.COMBI_Drought2018_20190522_min.co2': {'TAC_185m_air.hdf.all.COMBI_Drought2018_20190522_min_co2': '5a9e1049-987d-4e59-9bd6-17a87c42b847'}},\n",
       " {'OPE_10m_air.hdf.all.COMBI_Drought2018_20190522_min.co2': {'OPE_10m_air.hdf.all.COMBI_Drought2018_20190522_min_co2': '67f49b9e-81fc-4684-9f95-c1fd2d9eaf0c'},\n",
       "  'PAL_air.hdf.all.COMBI_Drought2018_20190522_min.co2': {'PAL_air.hdf.all.COMBI_Drought2018_20190522_min_co2': '90db6bef-c834-4152-9cd1-508c948e0e26'},\n",
       "  'LMP_air.hdf.all.COMBI_Drought2018_20190522_min.co2': {'LMP_air.hdf.all.COMBI_Drought2018_20190522_min_co2': 'cb966057-72a2-4942-b572-dda76869b40d'},\n",
       "  'HEI_air.hdf.all.COMBI_Drought2018_20190522_min.co2': {'HEI_air.hdf.all.COMBI_Drought2018_20190522_min_co2': 'c0c216c6-7753-48d6-9e51-2fc59266e7cb'},\n",
       "  'IZO_air.hdf.all.COMBI_Drought2018_20190522_min.co2': {'IZO_air.hdf.all.COMBI_Drought2018_20190522_min_co2': 'c79e85bd-27c9-492e-9a30-937ff9ab5c64'}},\n",
       " {'BIK_30m_air.hdf.all.COMBI_Drought2018_20190522_min.co2': {'BIK_30m_air.hdf.all.COMBI_Drought2018_20190522_min_co2': '46cc58c6-1723-4745-8d7f-e4eee8a4bd39'},\n",
       "  'TRN_180m_air.hdf.all.COMBI_Drought2018_20190522_min.co2': {'TRN_180m_air.hdf.all.COMBI_Drought2018_20190522_min_co2': 'f31a407b-f167-4ccd-8e83-d2a033e88713'},\n",
       "  'MHD_air.hdf.all.COMBI_Drought2018_20190522_min.co2': {'MHD_air.hdf.all.COMBI_Drought2018_20190522_min_co2': '3620f7c4-5a0b-44ff-86b1-c014eb98e658'},\n",
       "  'SSL_air.hdf.all.COMBI_Drought2018_20190522_min.co2': {'SSL_air.hdf.all.COMBI_Drought2018_20190522_min_co2': '769fed60-df10-4da7-b4fc-a296b29b6b2e'},\n",
       "  'WAO_air.hdf.all.COMBI_Drought2018_20190522_min.co2': {'WAO_air.hdf.all.COMBI_Drought2018_20190522_min_co2': '2aff1fb5-7859-4531-997c-148721b3a450'}},\n",
       " {'CBW_27m_air.hdf.all.COMBI_Drought2018_20190522_min.co2': {'CBW_27m_air.hdf.all.COMBI_Drought2018_20190522_min_co2': 'fb8bb3d9-9789-403b-b56d-5c4e04d684df'},\n",
       "  'TRN_100m_air.hdf.all.COMBI_Drought2018_20190522_min.co2': {'TRN_100m_air.hdf.all.COMBI_Drought2018_20190522_min_co2': '357c43da-b64a-48e8-ab44-cf4d7040aea6'},\n",
       "  'TRN_5m_air.hdf.all.COMBI_Drought2018_20190522_min.co2': {'TRN_5m_air.hdf.all.COMBI_Drought2018_20190522_min_co2': '7211f1c3-5c1a-4a2b-89aa-eed34dc99cdf'},\n",
       "  'SMR_16.8m_air.hdf.all.COMBI_Drought2018_20190522_min.co2': {'SMR_16.8m_air.hdf.all.COMBI_Drought2018_20190522_min_co2': '7dc366db-d615-4aa9-a0eb-2b3325adef77'},\n",
       "  'RGL_45m_air.hdf.all.COMBI_Drought2018_20190522_min.co2': {'RGL_45m_air.hdf.all.COMBI_Drought2018_20190522_min_co2': 'd70a54eb-eec9-4fa1-bdd5-d5e4cb079bf2'}},\n",
       " {'SVB_150m_air.hdf.all.COMBI_Drought2018_20190522_min.co2': {'SVB_150m_air.hdf.all.COMBI_Drought2018_20190522_min_co2': '3f35a6bc-b0a3-4b54-ad96-b2e02f7e2ed4'},\n",
       "  'BIK_90m_air.hdf.all.COMBI_Drought2018_20190522_min.co2': {'BIK_90m_air.hdf.all.COMBI_Drought2018_20190522_min_co2': '2a46434c-7639-4b94-9d1b-d1b7c22aa032'},\n",
       "  'CBW_67m_air.hdf.all.COMBI_Drought2018_20190522_min.co2': {'CBW_67m_air.hdf.all.COMBI_Drought2018_20190522_min_co2': '166820aa-5d05-4faa-9561-e5f86a4fdbca'},\n",
       "  'SVB_35m_air.hdf.all.COMBI_Drought2018_20190522_min.co2': {'SVB_35m_air.hdf.all.COMBI_Drought2018_20190522_min_co2': '635a1363-5165-477d-87d1-71d1cd7c84b2'},\n",
       "  'JFJ_air.hdf.all.COMBI_Drought2018_20190522_min.co2': {'JFJ_air.hdf.all.COMBI_Drought2018_20190522_min_co2': '9312d441-05ba-4068-81ea-031732357eea'}},\n",
       " {'LUT_air.hdf.all.COMBI_Drought2018_20190522_min.co2': {'LUT_air.hdf.all.COMBI_Drought2018_20190522_min_co2': 'e4d5035e-8b24-4c9e-83e3-96d9e290603a'},\n",
       "  'CMN_air.hdf.all.COMBI_Drought2018_20190522_min.co2': {'CMN_air.hdf.all.COMBI_Drought2018_20190522_min_co2': '45fec5f4-c2f0-41b8-bd95-54495d129d4d'},\n",
       "  'BIK_180m_air.hdf.all.COMBI_Drought2018_20190522_min.co2': {'BIK_180m_air.hdf.all.COMBI_Drought2018_20190522_min_co2': 'e857a95c-87e6-49ad-808c-9cd9abdedb4f'},\n",
       "  'KAS_air.hdf.all.COMBI_Drought2018_20190522_min.co2': {'KAS_air.hdf.all.COMBI_Drought2018_20190522_min_co2': 'a85c9c18-13b9-4cba-bde7-2b5c02742093'},\n",
       "  'HUN_115m_air.hdf.all.COMBI_Drought2018_20190522_min.co2': {'HUN_115m_air.hdf.all.COMBI_Drought2018_20190522_min_co2': '0b616eb5-da9d-4f0c-bd29-2f16b9da12e9'}},\n",
       " {'SVB_85m_air.hdf.all.COMBI_Drought2018_20190522_min.co2': {'SVB_85m_air.hdf.all.COMBI_Drought2018_20190522_min_co2': 'f9d72b28-84d2-43b6-99ea-fe27834a83a2'},\n",
       "  'HUN_82m_air.hdf.all.COMBI_Drought2018_20190522_min.co2': {'HUN_82m_air.hdf.all.COMBI_Drought2018_20190522_min_co2': '697745d2-495c-4751-8310-55aa3ebd54e7'},\n",
       "  'HUN_10m_air.hdf.all.COMBI_Drought2018_20190522_min.co2': {'HUN_10m_air.hdf.all.COMBI_Drought2018_20190522_min_co2': '6a0d0dfe-cd2a-4b04-8519-13e8698f4497'},\n",
       "  'HUN_48m_air.hdf.all.COMBI_Drought2018_20190522_min.co2': {'HUN_48m_air.hdf.all.COMBI_Drought2018_20190522_min_co2': 'cf61a265-eb8f-4f0c-93e7-0a888ca28ab0'},\n",
       "  'BIR_air.hdf.all.COMBI_Drought2018_20190522_min.co2': {'BIR_air.hdf.all.COMBI_Drought2018_20190522_min_co2': '41d64d63-c377-4def-b2bb-4ebb97080631'}},\n",
       " {'PRS_air.hdf.all.COMBI_Drought2018_20190522_min.co2': {'PRS_air.hdf.all.COMBI_Drought2018_20190522_min_co2': 'e0810a20-fc0a-442e-9cf0-92871a6eab4c'},\n",
       "  'TAC_54m_air.hdf.all.COMBI_Drought2018_20190522_min.co2': {'TAC_54m_air.hdf.all.COMBI_Drought2018_20190522_min_co2': '6cc57226-9d1d-4515-b8bb-448c50c597f8'},\n",
       "  'TAC_100m_air.hdf.all.COMBI_Drought2018_20190522_min.co2': {'TAC_100m_air.hdf.all.COMBI_Drought2018_20190522_min_co2': 'a1241f2a-d947-4324-8fff-10e5b99dbc36'},\n",
       "  'BIK_5m_air.hdf.all.COMBI_Drought2018_20190522_min.co2': {'BIK_5m_air.hdf.all.COMBI_Drought2018_20190522_min_co2': '01697022-c549-45da-a0ee-45a239faecd3'},\n",
       "  'RGL_90m_air.hdf.all.COMBI_Drought2018_20190522_min.co2': {'RGL_90m_air.hdf.all.COMBI_Drought2018_20190522_min_co2': 'f45bb8e8-aedb-4b7b-8ef6-ecd7cc0307d7'}}]"
      ]
     },
     "execution_count": null,
     "metadata": {},
     "output_type": "execute_result"
    }
   ],
   "source": [
    "uuids"
   ]
  },
  {
   "cell_type": "code",
   "execution_count": null,
   "metadata": {},
   "outputs": [],
   "source": []
  }
 ],
 "metadata": {
  "kernelspec": {
   "display_name": "Python 3",
   "language": "python",
   "name": "python3"
  }
 },
 "nbformat": 4,
 "nbformat_minor": 2
}
