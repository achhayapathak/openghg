{
 "cells": [
  {
   "cell_type": "code",
   "execution_count": null,
   "metadata": {},
   "outputs": [],
   "source": [
    "import os\n",
    "import sys\n",
    "from datetime import datetime\n",
    "sys.path.insert(0, \"../../..\")\n",
    "sys.path.insert(0, \"../../../../acquire\")\n",
    "\n",
    "from HUGS.Processing import search\n",
    "from HUGS.Client import Process, Search, Retrieve\n",
    "from Acquire.ObjectStore import datetime_to_string\n",
    "from Acquire.Client import User, Drive, Service, PAR, Authorisation, StorageCreds\n",
    "\n",
    "from pathlib import Path\n",
    "import time\n",
    "import glob\n",
    "\n",
    "# Autoreload modules before executing code, useful during development\n",
    "%load_ext autoreload\n",
    "%autoreload 2"
   ]
  },
  {
   "cell_type": "code",
   "execution_count": null,
   "metadata": {},
   "outputs": [],
   "source": [
    "base_url= \"https://hugs.acquire-aaai.com/t\""
   ]
  },
  {
   "cell_type": "code",
   "execution_count": null,
   "metadata": {},
   "outputs": [],
   "source": [
    "# base_url = \"https://hugs.acquire-aaai.com/t\"\n",
    "\n",
    "user = User(username=\"gareth\", identity_url=F\"{base_url}/identity\")\n",
    "response = user.request_login()"
   ]
  },
  {
   "cell_type": "code",
   "execution_count": null,
   "metadata": {},
   "outputs": [],
   "source": [
    "user.wait_for_login()"
   ]
  },
  {
   "cell_type": "code",
   "execution_count": null,
   "metadata": {},
   "outputs": [],
   "source": [
    "processing = Process(service_url=base_url)"
   ]
  },
  {
   "cell_type": "code",
   "execution_count": null,
   "metadata": {},
   "outputs": [],
   "source": [
    "eurocom_data = \"/home/gar/Documents/Devel/hugs/raw_data/eurocom/small/*.*co2\""
   ]
  },
  {
   "cell_type": "code",
   "execution_count": null,
   "metadata": {},
   "outputs": [],
   "source": [
    "files = glob.glob(eurocom_data)"
   ]
  },
  {
   "cell_type": "code",
   "execution_count": null,
   "metadata": {},
   "outputs": [],
   "source": [
    "files"
   ]
  },
  {
   "cell_type": "code",
   "execution_count": null,
   "metadata": {},
   "outputs": [],
   "source": [
    "len(files)"
   ]
  },
  {
   "cell_type": "code",
   "execution_count": null,
   "metadata": {},
   "outputs": [],
   "source": [
    "known_sites = ['/home/gar/Documents/Devel/hugs/raw_data/eurocom/small/./BIS_air.hdf.all.COMBI_Drought2018_20190522_min.co2',\n",
    " '/home/gar/Documents/Devel/hugs/raw_data/eurocom/small/./CBW_207m_air.hdf.all.COMBI_Drought2018_20190522_min.co2',\n",
    " '/home/gar/Documents/Devel/hugs/raw_data/eurocom/small/./TRN_50m_air.hdf.all.COMBI_Drought2018_20190522_min.co2',\n",
    " '/home/gar/Documents/Devel/hugs/raw_data/eurocom/small/./SMR_67.2m_air.hdf.all.COMBI_Drought2018_20190522_min.co2',\n",
    " '/home/gar/Documents/Devel/hugs/raw_data/eurocom/small/./OPE_50m_air.hdf.all.COMBI_Drought2018_20190522_min.co2',\n",
    " '/home/gar/Documents/Devel/hugs/raw_data/eurocom/small/./BIK_300m_air.hdf.all.COMBI_Drought2018_20190522_min.co2',\n",
    " '/home/gar/Documents/Devel/hugs/raw_data/eurocom/small/./SMR_125m_air.hdf.all.COMBI_Drought2018_20190522_min.co2',\n",
    " '/home/gar/Documents/Devel/hugs/raw_data/eurocom/small/./OPE_120m_air.hdf.all.COMBI_Drought2018_20190522_min.co2',\n",
    " '/home/gar/Documents/Devel/hugs/raw_data/eurocom/small/./CBW_127m_air.hdf.all.COMBI_Drought2018_20190522_min.co2',\n",
    " '/home/gar/Documents/Devel/hugs/raw_data/eurocom/small/./TAC_185m_air.hdf.all.COMBI_Drought2018_20190522_min.co2',\n",
    " '/home/gar/Documents/Devel/hugs/raw_data/eurocom/small/./OPE_10m_air.hdf.all.COMBI_Drought2018_20190522_min.co2',\n",
    " '/home/gar/Documents/Devel/hugs/raw_data/eurocom/small/./PAL_air.hdf.all.COMBI_Drought2018_20190522_min.co2',\n",
    " '/home/gar/Documents/Devel/hugs/raw_data/eurocom/small/./LMP_air.hdf.all.COMBI_Drought2018_20190522_min.co2',\n",
    " '/home/gar/Documents/Devel/hugs/raw_data/eurocom/small/./HEI_air.hdf.all.COMBI_Drought2018_20190522_min.co2',\n",
    " '/home/gar/Documents/Devel/hugs/raw_data/eurocom/small/./IZO_air.hdf.all.COMBI_Drought2018_20190522_min.co2',\n",
    " '/home/gar/Documents/Devel/hugs/raw_data/eurocom/small/./BIK_30m_air.hdf.all.COMBI_Drought2018_20190522_min.co2',\n",
    " '/home/gar/Documents/Devel/hugs/raw_data/eurocom/small/./TRN_180m_air.hdf.all.COMBI_Drought2018_20190522_min.co2',\n",
    " '/home/gar/Documents/Devel/hugs/raw_data/eurocom/small/./MHD_air.hdf.all.COMBI_Drought2018_20190522_min.co2',\n",
    " '/home/gar/Documents/Devel/hugs/raw_data/eurocom/small/./SSL_air.hdf.all.COMBI_Drought2018_20190522_min.co2',\n",
    " '/home/gar/Documents/Devel/hugs/raw_data/eurocom/small/./WAO_air.hdf.all.COMBI_Drought2018_20190522_min.co2',\n",
    " '/home/gar/Documents/Devel/hugs/raw_data/eurocom/small/./CBW_27m_air.hdf.all.COMBI_Drought2018_20190522_min.co2',\n",
    " '/home/gar/Documents/Devel/hugs/raw_data/eurocom/small/./TRN_100m_air.hdf.all.COMBI_Drought2018_20190522_min.co2',\n",
    " '/home/gar/Documents/Devel/hugs/raw_data/eurocom/small/./TRN_5m_air.hdf.all.COMBI_Drought2018_20190522_min.co2',\n",
    " '/home/gar/Documents/Devel/hugs/raw_data/eurocom/small/./SMR_16.8m_air.hdf.all.COMBI_Drought2018_20190522_min.co2',\n",
    " '/home/gar/Documents/Devel/hugs/raw_data/eurocom/small/./RGL_45m_air.hdf.all.COMBI_Drought2018_20190522_min.co2',\n",
    " '/home/gar/Documents/Devel/hugs/raw_data/eurocom/small/./SVB_150m_air.hdf.all.COMBI_Drought2018_20190522_min.co2',\n",
    " '/home/gar/Documents/Devel/hugs/raw_data/eurocom/small/./BIK_90m_air.hdf.all.COMBI_Drought2018_20190522_min.co2',\n",
    " '/home/gar/Documents/Devel/hugs/raw_data/eurocom/small/./CBW_67m_air.hdf.all.COMBI_Drought2018_20190522_min.co2',\n",
    " '/home/gar/Documents/Devel/hugs/raw_data/eurocom/small/./SVB_35m_air.hdf.all.COMBI_Drought2018_20190522_min.co2',\n",
    " '/home/gar/Documents/Devel/hugs/raw_data/eurocom/small/./JFJ_air.hdf.all.COMBI_Drought2018_20190522_min.co2',\n",
    " '/home/gar/Documents/Devel/hugs/raw_data/eurocom/small/./LUT_air.hdf.all.COMBI_Drought2018_20190522_min.co2',\n",
    " '/home/gar/Documents/Devel/hugs/raw_data/eurocom/small/./CMN_air.hdf.all.COMBI_Drought2018_20190522_min.co2',\n",
    " '/home/gar/Documents/Devel/hugs/raw_data/eurocom/small/./BIK_180m_air.hdf.all.COMBI_Drought2018_20190522_min.co2',\n",
    " '/home/gar/Documents/Devel/hugs/raw_data/eurocom/small/./KAS_air.hdf.all.COMBI_Drought2018_20190522_min.co2',\n",
    " '/home/gar/Documents/Devel/hugs/raw_data/eurocom/small/./HUN_115m_air.hdf.all.COMBI_Drought2018_20190522_min.co2',\n",
    " '/home/gar/Documents/Devel/hugs/raw_data/eurocom/small/./SVB_85m_air.hdf.all.COMBI_Drought2018_20190522_min.co2',\n",
    " '/home/gar/Documents/Devel/hugs/raw_data/eurocom/small/./HUN_82m_air.hdf.all.COMBI_Drought2018_20190522_min.co2',\n",
    " '/home/gar/Documents/Devel/hugs/raw_data/eurocom/small/./HUN_10m_air.hdf.all.COMBI_Drought2018_20190522_min.co2',\n",
    " '/home/gar/Documents/Devel/hugs/raw_data/eurocom/small/./HUN_48m_air.hdf.all.COMBI_Drought2018_20190522_min.co2',\n",
    " '/home/gar/Documents/Devel/hugs/raw_data/eurocom/small/./BIR_air.hdf.all.COMBI_Drought2018_20190522_min.co2',\n",
    " '/home/gar/Documents/Devel/hugs/raw_data/eurocom/small/./PRS_air.hdf.all.COMBI_Drought2018_20190522_min.co2',\n",
    " '/home/gar/Documents/Devel/hugs/raw_data/eurocom/small/./TAC_54m_air.hdf.all.COMBI_Drought2018_20190522_min.co2',\n",
    " '/home/gar/Documents/Devel/hugs/raw_data/eurocom/small/./TAC_100m_air.hdf.all.COMBI_Drought2018_20190522_min.co2',\n",
    " '/home/gar/Documents/Devel/hugs/raw_data/eurocom/small/./BIK_5m_air.hdf.all.COMBI_Drought2018_20190522_min.co2',\n",
    " '/home/gar/Documents/Devel/hugs/raw_data/eurocom/small/./RGL_90m_air.hdf.all.COMBI_Drought2018_20190522_min.co2']"
   ]
  },
  {
   "cell_type": "code",
   "execution_count": null,
   "metadata": {},
   "outputs": [],
   "source": [
    "n = 5\n",
    "chunked = [known_sites[i:i + n] for i in range(0, len(known_sites), n)]"
   ]
  },
  {
   "cell_type": "markdown",
   "metadata": {},
   "source": [
    "Try processing them five at a time with a sleep in"
   ]
  },
  {
   "cell_type": "code",
   "execution_count": null,
   "metadata": {},
   "outputs": [],
   "source": [
    "uuids = []\n",
    "for chunk in chunked:\n",
    "    uids = processing.process_files(user=user, files=chunk, data_type=\"EUROCOM\")\n",
    "    uuids.append(uids)\n",
    "    time.sleep(5)"
   ]
  },
  {
   "cell_type": "code",
   "execution_count": null,
   "metadata": {},
   "outputs": [],
   "source": [
    "uuids"
   ]
  },
  {
   "cell_type": "code",
   "execution_count": null,
   "metadata": {},
   "outputs": [],
   "source": []
  }
 ],
 "metadata": {
  "kernelspec": {
   "display_name": "Python 3",
   "language": "python",
   "name": "python3"
  }
 },
 "nbformat": 4,
 "nbformat_minor": 2
}
