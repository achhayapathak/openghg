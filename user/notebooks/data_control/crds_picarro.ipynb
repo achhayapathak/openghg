{
 "cells": [
  {
   "cell_type": "code",
   "execution_count": null,
   "metadata": {},
   "outputs": [],
   "source": [
    "import os\n",
    "import sys\n",
    "from datetime import datetime\n",
    "sys.path.insert(0, \"../../..\")\n",
    "sys.path.insert(0, \"../../../../acquire\")\n",
    "\n",
    "from HUGS.Processing import search\n",
    "from HUGS.Client import Process, Search, Retrieve\n",
    "from Acquire.ObjectStore import datetime_to_string\n",
    "from Acquire.Client import User, Drive, Service, PAR, Authorisation, StorageCreds\n",
    "\n",
    "from pathlib import Path\n",
    "import time\n",
    "\n",
    "# Autoreload modules before executing code, useful during development\n",
    "%load_ext autoreload\n",
    "%autoreload 2"
   ]
  },
  {
   "cell_type": "code",
   "execution_count": null,
   "metadata": {},
   "outputs": [],
   "source": [
    "base_url= \"https://hugs.acquire-aaai.com/t\""
   ]
  },
  {
   "cell_type": "code",
   "execution_count": null,
   "metadata": {},
   "outputs": [],
   "source": [
    "# base_url = \"https://hugs.acquire-aaai.com/t\"\n",
    "\n",
    "user = User(username=\"gareth\", identity_url=F\"{base_url}/identity\")\n",
    "response = user.request_login()"
   ]
  },
  {
   "cell_type": "code",
   "execution_count": null,
   "metadata": {},
   "outputs": [],
   "source": [
    "user.wait_for_login()"
   ]
  },
  {
   "cell_type": "code",
   "execution_count": null,
   "metadata": {},
   "outputs": [],
   "source": [
    "processing = Process(service_url=base_url)"
   ]
  },
  {
   "cell_type": "code",
   "execution_count": null,
   "metadata": {},
   "outputs": [],
   "source": [
    "bilsdale_picarro = \"/home/gar/Documents/Devel/hugs/raw_data/CRDS_picarro/bilsdale-picarro/bsd.picarro.hourly.108m.dat\""
   ]
  },
  {
   "cell_type": "code",
   "execution_count": null,
   "metadata": {},
   "outputs": [],
   "source": [
    "uuids = processing.process_files(user=user, files=bilsdale_picarro, data_type=\"CRDS\")"
   ]
  },
  {
   "cell_type": "code",
   "execution_count": null,
   "metadata": {},
   "outputs": [],
   "source": [
    "uuids"
   ]
  },
  {
   "cell_type": "code",
   "execution_count": null,
   "metadata": {},
   "outputs": [],
   "source": []
  }
 ],
 "metadata": {
  "kernelspec": {
   "display_name": "Python 3",
   "language": "python",
   "name": "python3"
  }
 },
 "nbformat": 4,
 "nbformat_minor": 2
}
