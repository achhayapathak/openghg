{
 "cells": [
  {
   "cell_type": "code",
   "execution_count": null,
   "metadata": {},
   "outputs": [
    {
     "name": "stdout",
     "output_type": "stream",
     "text": [
      "The autoreload extension is already loaded. To reload it, use:\n",
      "  %reload_ext autoreload\n"
     ]
    }
   ],
   "source": [
    "import os\n",
    "import sys\n",
    "from datetime import datetime\n",
    "sys.path.insert(0, \"../../..\")\n",
    "sys.path.insert(0, \"../../../../acquire\")\n",
    "\n",
    "from HUGS.Processing import search\n",
    "from HUGS.Client import Process, Search, Retrieve\n",
    "from Acquire.ObjectStore import datetime_to_string\n",
    "from Acquire.Client import User, Drive, Service, PAR, Authorisation, StorageCreds\n",
    "\n",
    "import glob\n",
    "from pathlib import Path\n",
    "import time\n",
    "\n",
    "# Autoreload modules before executing code, useful during development\n",
    "%load_ext autoreload\n",
    "%autoreload 2"
   ]
  },
  {
   "cell_type": "code",
   "execution_count": null,
   "metadata": {},
   "outputs": [],
   "source": [
    "base_url= \"https://hugs.acquire-aaai.com/t\""
   ]
  },
  {
   "cell_type": "code",
   "execution_count": null,
   "metadata": {},
   "outputs": [
    {
     "name": "stdout",
     "output_type": "stream",
     "text": [
      "Login by visiting: https://login.acquire-aaai.com?id=a0-a6/65.9c.05.d5\n",
      "(please check that this page displays the message 'black cows sit quietly')\n"
     ]
    }
   ],
   "source": [
    "# base_url = \"https://hugs.acquire-aaai.com/t\"\n",
    "\n",
    "user = User(username=\"gareth\", identity_url=F\"{base_url}/identity\")\n",
    "response = user.request_login()"
   ]
  },
  {
   "cell_type": "code",
   "execution_count": null,
   "metadata": {},
   "outputs": [
    {
     "data": {
      "text/plain": [
       "True"
      ]
     },
     "execution_count": null,
     "metadata": {},
     "output_type": "execute_result"
    }
   ],
   "source": [
    "user.wait_for_login()"
   ]
  },
  {
   "cell_type": "code",
   "execution_count": null,
   "metadata": {},
   "outputs": [],
   "source": [
    "noaa_co_data = \"/home/gar/Documents/Devel/hugs/raw_data/NOAA/CO/event/*.txt\""
   ]
  },
  {
   "cell_type": "code",
   "execution_count": null,
   "metadata": {},
   "outputs": [],
   "source": [
    "files = glob.glob(noaa_co_data)"
   ]
  },
  {
   "cell_type": "code",
   "execution_count": null,
   "metadata": {},
   "outputs": [
    {
     "data": {
      "text/plain": [
       "['/home/gar/Documents/Devel/hugs/raw_data/NOAA/CO/event/co_nwr_surface-flask_1_ccgg_event.txt',\n",
       " '/home/gar/Documents/Devel/hugs/raw_data/NOAA/CO/event/co_kzd_surface-flask_1_ccgg_event.txt',\n",
       " '/home/gar/Documents/Devel/hugs/raw_data/NOAA/CO/event/co_oxk_surface-flask_1_ccgg_event.txt',\n",
       " '/home/gar/Documents/Devel/hugs/raw_data/NOAA/CO/event/co_wlg_surface-flask_1_ccgg_event.txt',\n",
       " '/home/gar/Documents/Devel/hugs/raw_data/NOAA/CO/event/co_mkn_surface-flask_1_ccgg_event.txt',\n",
       " '/home/gar/Documents/Devel/hugs/raw_data/NOAA/CO/event/co_mhd_surface-flask_1_ccgg_event.txt',\n",
       " '/home/gar/Documents/Devel/hugs/raw_data/NOAA/CO/event/co_kzm_surface-flask_1_ccgg_event.txt',\n",
       " '/home/gar/Documents/Devel/hugs/raw_data/NOAA/CO/event/co_bme_surface-flask_1_ccgg_event.txt',\n",
       " '/home/gar/Documents/Devel/hugs/raw_data/NOAA/CO/event/co_bkt_surface-flask_1_ccgg_event.txt',\n",
       " '/home/gar/Documents/Devel/hugs/raw_data/NOAA/CO/event/co_bmw_surface-flask_1_ccgg_event.txt',\n",
       " '/home/gar/Documents/Devel/hugs/raw_data/NOAA/CO/event/co_bal_surface-flask_1_ccgg_event.txt',\n",
       " '/home/gar/Documents/Devel/hugs/raw_data/NOAA/CO/event/co_spo_surface-flask_1_ccgg_event.txt',\n",
       " '/home/gar/Documents/Devel/hugs/raw_data/NOAA/CO/event/co_cba_surface-flask_1_ccgg_event.txt',\n",
       " '/home/gar/Documents/Devel/hugs/raw_data/NOAA/CO/event/co_cgo_surface-flask_1_ccgg_event.txt',\n",
       " '/home/gar/Documents/Devel/hugs/raw_data/NOAA/CO/event/co_thd_surface-flask_1_ccgg_event.txt',\n",
       " '/home/gar/Documents/Devel/hugs/raw_data/NOAA/CO/event/co_kum_surface-flask_1_ccgg_event.txt',\n",
       " '/home/gar/Documents/Devel/hugs/raw_data/NOAA/CO/event/co_amt_surface-flask_1_ccgg_event.txt',\n",
       " '/home/gar/Documents/Devel/hugs/raw_data/NOAA/CO/event/co_ice_surface-flask_1_ccgg_event.txt',\n",
       " '/home/gar/Documents/Devel/hugs/raw_data/NOAA/CO/event/co_asc_surface-flask_1_ccgg_event.txt',\n",
       " '/home/gar/Documents/Devel/hugs/raw_data/NOAA/CO/event/co_zep_surface-flask_1_ccgg_event.txt',\n",
       " '/home/gar/Documents/Devel/hugs/raw_data/NOAA/CO/event/co_rpb_surface-flask_1_ccgg_event.txt',\n",
       " '/home/gar/Documents/Devel/hugs/raw_data/NOAA/CO/event/co_bsc_surface-flask_1_ccgg_event.txt',\n",
       " '/home/gar/Documents/Devel/hugs/raw_data/NOAA/CO/event/co_shm_surface-flask_1_ccgg_event.txt',\n",
       " '/home/gar/Documents/Devel/hugs/raw_data/NOAA/CO/event/co_abp_surface-flask_1_ccgg_event.txt',\n",
       " '/home/gar/Documents/Devel/hugs/raw_data/NOAA/CO/event/co_pal_surface-flask_1_ccgg_event.txt',\n",
       " '/home/gar/Documents/Devel/hugs/raw_data/NOAA/CO/event/co_mbc_surface-flask_1_ccgg_event.txt',\n",
       " '/home/gar/Documents/Devel/hugs/raw_data/NOAA/CO/event/co_ask_surface-flask_1_ccgg_event.txt',\n",
       " '/home/gar/Documents/Devel/hugs/raw_data/NOAA/CO/event/co_izo_surface-flask_1_ccgg_event.txt',\n",
       " '/home/gar/Documents/Devel/hugs/raw_data/NOAA/CO/event/co_sey_surface-flask_1_ccgg_event.txt',\n",
       " '/home/gar/Documents/Devel/hugs/raw_data/NOAA/CO/event/co_sum_surface-flask_1_ccgg_event.txt',\n",
       " '/home/gar/Documents/Devel/hugs/raw_data/NOAA/CO/event/co_uta_surface-flask_1_ccgg_event.txt',\n",
       " '/home/gar/Documents/Devel/hugs/raw_data/NOAA/CO/event/co_alt_surface-flask_1_ccgg_event.txt',\n",
       " '/home/gar/Documents/Devel/hugs/raw_data/NOAA/CO/event/co_hba_surface-flask_1_ccgg_event.txt',\n",
       " '/home/gar/Documents/Devel/hugs/raw_data/NOAA/CO/event/co_ush_surface-flask_1_ccgg_event.txt',\n",
       " '/home/gar/Documents/Devel/hugs/raw_data/NOAA/CO/event/co_wkt_surface-flask_1_ccgg_event.txt',\n",
       " '/home/gar/Documents/Devel/hugs/raw_data/NOAA/CO/event/co_sdz_surface-flask_1_ccgg_event.txt',\n",
       " '/home/gar/Documents/Devel/hugs/raw_data/NOAA/CO/event/co_brw_surface-flask_1_ccgg_event.txt',\n",
       " '/home/gar/Documents/Devel/hugs/raw_data/NOAA/CO/event/co_mex_surface-flask_1_ccgg_event.txt',\n",
       " '/home/gar/Documents/Devel/hugs/raw_data/NOAA/CO/event/co_tac_surface-flask_1_ccgg_event.txt',\n",
       " '/home/gar/Documents/Devel/hugs/raw_data/NOAA/CO/event/co_itn_surface-flask_1_ccgg_event.txt',\n",
       " '/home/gar/Documents/Devel/hugs/raw_data/NOAA/CO/event/co_lef_surface-flask_1_ccgg_event.txt',\n",
       " '/home/gar/Documents/Devel/hugs/raw_data/NOAA/CO/event/co_pao_surface-flask_1_ccgg_event.txt',\n",
       " '/home/gar/Documents/Devel/hugs/raw_data/NOAA/CO/event/co_hsu_surface-flask_1_ccgg_event.txt',\n",
       " '/home/gar/Documents/Devel/hugs/raw_data/NOAA/CO/event/co_eic_surface-flask_1_ccgg_event.txt',\n",
       " '/home/gar/Documents/Devel/hugs/raw_data/NOAA/CO/event/co_smo_surface-flask_1_ccgg_event.txt',\n",
       " '/home/gar/Documents/Devel/hugs/raw_data/NOAA/CO/event/co_hpb_surface-flask_1_ccgg_event.txt',\n",
       " '/home/gar/Documents/Devel/hugs/raw_data/NOAA/CO/event/co_cpt_surface-flask_1_ccgg_event.txt',\n",
       " '/home/gar/Documents/Devel/hugs/raw_data/NOAA/CO/event/co_lln_surface-flask_1_ccgg_event.txt',\n",
       " '/home/gar/Documents/Devel/hugs/raw_data/NOAA/CO/event/co_llb_surface-flask_1_ccgg_event.txt',\n",
       " '/home/gar/Documents/Devel/hugs/raw_data/NOAA/CO/event/co_lmp_surface-flask_1_ccgg_event.txt',\n",
       " '/home/gar/Documents/Devel/hugs/raw_data/NOAA/CO/event/co_pta_surface-flask_1_ccgg_event.txt',\n",
       " '/home/gar/Documents/Devel/hugs/raw_data/NOAA/CO/event/co_psa_surface-flask_1_ccgg_event.txt',\n",
       " '/home/gar/Documents/Devel/hugs/raw_data/NOAA/CO/event/co_syo_surface-flask_1_ccgg_event.txt',\n",
       " '/home/gar/Documents/Devel/hugs/raw_data/NOAA/CO/event/co_amy_surface-flask_1_ccgg_event.txt',\n",
       " '/home/gar/Documents/Devel/hugs/raw_data/NOAA/CO/event/co_azr_surface-flask_1_ccgg_event.txt',\n",
       " '/home/gar/Documents/Devel/hugs/raw_data/NOAA/CO/event/co_tik_surface-flask_1_ccgg_event.txt',\n",
       " '/home/gar/Documents/Devel/hugs/raw_data/NOAA/CO/event/co_chr_surface-flask_1_ccgg_event.txt',\n",
       " '/home/gar/Documents/Devel/hugs/raw_data/NOAA/CO/event/co_dsi_surface-flask_1_ccgg_event.txt',\n",
       " '/home/gar/Documents/Devel/hugs/raw_data/NOAA/CO/event/co_hun_surface-flask_1_ccgg_event.txt',\n",
       " '/home/gar/Documents/Devel/hugs/raw_data/NOAA/CO/event/co_crz_surface-flask_1_ccgg_event.txt',\n",
       " '/home/gar/Documents/Devel/hugs/raw_data/NOAA/CO/event/co_key_surface-flask_1_ccgg_event.txt',\n",
       " '/home/gar/Documents/Devel/hugs/raw_data/NOAA/CO/event/co_tap_surface-flask_1_ccgg_event.txt',\n",
       " '/home/gar/Documents/Devel/hugs/raw_data/NOAA/CO/event/co_uum_surface-flask_1_ccgg_event.txt',\n",
       " '/home/gar/Documents/Devel/hugs/raw_data/NOAA/CO/event/co_cmo_surface-flask_1_ccgg_event.txt',\n",
       " '/home/gar/Documents/Devel/hugs/raw_data/NOAA/CO/event/co_bhd_surface-flask_1_ccgg_event.txt',\n",
       " '/home/gar/Documents/Devel/hugs/raw_data/NOAA/CO/event/co_goz_surface-flask_1_ccgg_event.txt',\n",
       " '/home/gar/Documents/Devel/hugs/raw_data/NOAA/CO/event/co_stm_surface-flask_1_ccgg_event.txt',\n",
       " '/home/gar/Documents/Devel/hugs/raw_data/NOAA/CO/event/co_drp_surface-flask_1_ccgg_event.txt',\n",
       " '/home/gar/Documents/Devel/hugs/raw_data/NOAA/CO/event/co_nmb_surface-flask_1_ccgg_event.txt',\n",
       " '/home/gar/Documents/Devel/hugs/raw_data/NOAA/CO/event/co_nat_surface-flask_1_ccgg_event.txt',\n",
       " '/home/gar/Documents/Devel/hugs/raw_data/NOAA/CO/event/co_mid_surface-flask_1_ccgg_event.txt',\n",
       " '/home/gar/Documents/Devel/hugs/raw_data/NOAA/CO/event/co_sgp_surface-flask_1_ccgg_event.txt',\n",
       " '/home/gar/Documents/Devel/hugs/raw_data/NOAA/CO/event/co_kco_surface-flask_1_ccgg_event.txt',\n",
       " '/home/gar/Documents/Devel/hugs/raw_data/NOAA/CO/event/co_cib_surface-flask_1_ccgg_event.txt',\n",
       " '/home/gar/Documents/Devel/hugs/raw_data/NOAA/CO/event/co_mlo_surface-flask_1_ccgg_event.txt',\n",
       " '/home/gar/Documents/Devel/hugs/raw_data/NOAA/CO/event/co_gmi_surface-flask_1_ccgg_event.txt',\n",
       " '/home/gar/Documents/Devel/hugs/raw_data/NOAA/CO/event/co_wis_surface-flask_1_ccgg_event.txt',\n",
       " '/home/gar/Documents/Devel/hugs/raw_data/NOAA/CO/event/co_wpc_surface-flask_1_ccgg_event.txt']"
      ]
     },
     "execution_count": null,
     "metadata": {},
     "output_type": "execute_result"
    }
   ],
   "source": [
    "files"
   ]
  },
  {
   "cell_type": "code",
   "execution_count": null,
   "metadata": {},
   "outputs": [],
   "source": [
    "n = 5\n",
    "chunked = [files[i:i + n] for i in range(0, len(files), n)]"
   ]
  },
  {
   "cell_type": "code",
   "execution_count": null,
   "metadata": {},
   "outputs": [],
   "source": [
    "processing = Process(service_url=base_url)"
   ]
  },
  {
   "cell_type": "code",
   "execution_count": null,
   "metadata": {},
   "outputs": [],
   "source": [
    "uuids_chunk1 = processing.process_files(user=user, files=chunked[0], data_type=\"NOAA\")"
   ]
  },
  {
   "cell_type": "code",
   "execution_count": null,
   "metadata": {},
   "outputs": [
    {
     "data": {
      "text/plain": [
       "{'co_nwr_surface-flask_1_ccgg_event.txt': {'co_nwr_surface_CO': 'a3438615-3b96-4a35-91a7-78027b78a385'},\n",
       " 'co_kzd_surface-flask_1_ccgg_event.txt': {'co_kzd_surface_CO': 'd34c6fa1-f3fb-433a-8161-069c54c87896'},\n",
       " 'co_oxk_surface-flask_1_ccgg_event.txt': {'co_oxk_surface_CO': '5454932a-a36b-4970-80ff-79e4759810ff'},\n",
       " 'co_wlg_surface-flask_1_ccgg_event.txt': {'co_wlg_surface_CO': '0413e8b6-bd43-4d47-b0ac-17d155f04904'},\n",
       " 'co_mkn_surface-flask_1_ccgg_event.txt': {'co_mkn_surface_CO': '34807daf-f000-46ef-96b2-3ab29be0c989'}}"
      ]
     },
     "execution_count": null,
     "metadata": {},
     "output_type": "execute_result"
    }
   ],
   "source": [
    "uuids_chunk1"
   ]
  },
  {
   "cell_type": "code",
   "execution_count": null,
   "metadata": {},
   "outputs": [
    {
     "name": "stdout",
     "output_type": "stream",
     "text": [
      "hugs.acquire-aaai.com/t/storage\n"
     ]
    },
    {
     "ename": "RemoteFunctionCallError",
     "evalue": "An exception occurred while calling 'process' on 'https://hugs.acquire-aaai.com/t/hugs'\n\nCAUSE: Traceback (most recent call last):\n  File \"../../../../acquire/Acquire/Service/_function.py\", line 382, in _unpack_and_raise\n    mod = _importlib.import_module(exdata[\"module\"])\n  File \"/home/gar/Documents/Devel/env/vuetify/lib/python3.8/importlib/__init__.py\", line 127, in import_module\n    return _bootstrap._gcd_import(name[level:], package, level)\nModuleNotFoundError: No module named 'oci'\n\n\nEXDATA: {'class': 'ServiceError', 'module': 'oci.exceptions', 'error': \"{'opc-request-id': 'fra-1:svXQw27OJ5eLRNNSu5SE6IGj4PqayRaKhg9S_viEG4hlJy7Tjyl1XzaGBJx8hGA9', 'code': 'InternalServerError', 'message': 'Internal server error', 'status': 500}\", 'traceback': {'tb_frame': {'f_globals': {'__name__': 'admin.handler', '__file__': '/function/python_modules/admin/handler.py'}, 'f_code': {'co_filename': '/function/python_modules/admin/handler.py', 'co_name': '_base_handler'}}, 'tb_lineno': 185, 'tb_next': {'tb_frame': {'f_globals': {'__name__': 'admin.handler', '__file__': '/function/python_modules/admin/handler.py'}, 'f_code': {'co_filename': '/function/python_modules/admin/handler.py', 'co_name': '_handle'}}, 'tb_lineno': 134, 'tb_next': {'tb_frame': {'f_globals': {'__name__': 'admin.handler', '__file__': '/function/python_modules/admin/handler.py'}, 'f_code': {'co_filename': '/function/python_modules/admin/handler.py', 'co_name': '_route_function'}}, 'tb_lineno': 102, 'tb_next': {'tb_frame': {'f_globals': {'__name__': '__main__', '__file__': 'route.py'}, 'f_code': {'co_filename': 'route.py', 'co_name': 'hugs_functions'}}, 'tb_lineno': 19, 'tb_next': {'tb_frame': {'f_globals': {'__name__': 'hugs_service.process', '__file__': '/function/python_modules/hugs_service/process.py'}, 'f_code': {'co_filename': '/function/python_modules/hugs_service/process.py', 'co_name': 'process'}}, 'tb_lineno': 55, 'tb_next': {'tb_frame': {'f_globals': {'__name__': 'HUGS.Processing._process', '__file__': '/function/python_modules/HUGS/Processing/_process.py'}, 'f_code': {'co_filename': '/function/python_modules/HUGS/Processing/_process.py', 'co_name': 'process_data'}}, 'tb_lineno': 34, 'tb_next': {'tb_frame': {'f_globals': {'__name__': 'HUGS.Modules._noaa', '__file__': '/function/python_modules/HUGS/Modules/_noaa.py'}, 'f_code': {'co_filename': '/function/python_modules/HUGS/Modules/_noaa.py', 'co_name': 'read_file'}}, 'tb_lineno': 147, 'tb_next': {'tb_frame': {'f_globals': {'__name__': 'HUGS.Processing._segment', '__file__': '/function/python_modules/HUGS/Processing/_segment.py'}, 'f_code': {'co_filename': '/function/python_modules/HUGS/Processing/_segment.py', 'co_name': 'assign_data'}}, 'tb_lineno': 83, 'tb_next': {'tb_frame': {'f_globals': {'__name__': 'HUGS.Modules._datasource', '__file__': '/function/python_modules/HUGS/Modules/_datasource.py'}, 'f_code': {'co_filename': '/function/python_modules/HUGS/Modules/_datasource.py', 'co_name': 'save'}}, 'tb_lineno': 484, 'tb_next': {'tb_frame': {'f_globals': {'__name__': 'Acquire.ObjectStore._objstore', '__file__': '/function/python_modules/Acquire/ObjectStore/_objstore.py'}, 'f_code': {'co_filename': '/function/python_modules/Acquire/ObjectStore/_objstore.py', 'co_name': 'set_object_from_file'}}, 'tb_lineno': 240, 'tb_next': {'tb_frame': {'f_globals': {'__name__': 'Acquire.ObjectStore._objstore', '__file__': '/function/python_modules/Acquire/ObjectStore/_objstore.py'}, 'f_code': {'co_filename': '/function/python_modules/Acquire/ObjectStore/_objstore.py', 'co_name': 'set_object'}}, 'tb_lineno': 233, 'tb_next': {'tb_frame': {'f_globals': {'__name__': 'Acquire.ObjectStore._oci_objstore', '__file__': '/function/python_modules/Acquire/ObjectStore/_oci_objstore.py'}, 'f_code': {'co_filename': '/function/python_modules/Acquire/ObjectStore/_oci_objstore.py', 'co_name': 'set_object'}}, 'tb_lineno': 680, 'tb_next': {'tb_frame': {'f_globals': {'__name__': 'oci.object_storage.object_storage_client', '__file__': '/python/oci/object_storage/object_storage_client.py'}, 'f_code': {'co_filename': '/python/oci/object_storage/object_storage_client.py', 'co_name': 'put_object'}}, 'tb_lineno': 2790, 'tb_next': {'tb_frame': {'f_globals': {'__name__': 'oci.base_client', '__file__': '/python/oci/base_client.py'}, 'f_code': {'co_filename': '/python/oci/base_client.py', 'co_name': 'call_api'}}, 'tb_lineno': 239, 'tb_next': {'tb_frame': {'f_globals': {'__name__': 'oci.base_client', '__file__': '/python/oci/base_client.py'}, 'f_code': {'co_filename': '/python/oci/base_client.py', 'co_name': 'request'}}, 'tb_lineno': 362, 'tb_next': {'tb_frame': {'f_globals': {'__name__': 'oci.base_client', '__file__': '/python/oci/base_client.py'}, 'f_code': {'co_filename': '/python/oci/base_client.py', 'co_name': 'raise_service_error'}}, 'tb_lineno': 532, 'tb_next': None}}}}}}}}}}}}}}}}}",
     "output_type": "error",
     "traceback": [
      "\u001b[0;31m---------------------------------------------------------------------------\u001b[0m",
      "\u001b[0;31mModuleNotFoundError\u001b[0m                       Traceback (most recent call last)",
      "\u001b[0;32m~/Documents/Devel/acquire/Acquire/Service/_function.py\u001b[0m in \u001b[0;36m_unpack_and_raise\u001b[0;34m(function, service, exdata)\u001b[0m\n\u001b[1;32m    381\u001b[0m         \u001b[0;32melse\u001b[0m\u001b[0;34m:\u001b[0m\u001b[0;34m\u001b[0m\u001b[0;34m\u001b[0m\u001b[0m\n\u001b[0;32m--> 382\u001b[0;31m             \u001b[0mmod\u001b[0m \u001b[0;34m=\u001b[0m \u001b[0m_importlib\u001b[0m\u001b[0;34m.\u001b[0m\u001b[0mimport_module\u001b[0m\u001b[0;34m(\u001b[0m\u001b[0mexdata\u001b[0m\u001b[0;34m[\u001b[0m\u001b[0;34m\"module\"\u001b[0m\u001b[0;34m]\u001b[0m\u001b[0;34m)\u001b[0m\u001b[0;34m\u001b[0m\u001b[0;34m\u001b[0m\u001b[0m\n\u001b[0m\u001b[1;32m    383\u001b[0m             \u001b[0mexclass\u001b[0m \u001b[0;34m=\u001b[0m \u001b[0mgetattr\u001b[0m\u001b[0;34m(\u001b[0m\u001b[0mmod\u001b[0m\u001b[0;34m,\u001b[0m \u001b[0mexdata\u001b[0m\u001b[0;34m[\u001b[0m\u001b[0;34m\"class\"\u001b[0m\u001b[0;34m]\u001b[0m\u001b[0;34m)\u001b[0m\u001b[0;34m\u001b[0m\u001b[0;34m\u001b[0m\u001b[0m\n",
      "\u001b[0;32m~/Documents/Devel/env/vuetify/lib/python3.8/importlib/__init__.py\u001b[0m in \u001b[0;36mimport_module\u001b[0;34m(name, package)\u001b[0m\n\u001b[1;32m    126\u001b[0m             \u001b[0mlevel\u001b[0m \u001b[0;34m+=\u001b[0m \u001b[0;36m1\u001b[0m\u001b[0;34m\u001b[0m\u001b[0;34m\u001b[0m\u001b[0m\n\u001b[0;32m--> 127\u001b[0;31m     \u001b[0;32mreturn\u001b[0m \u001b[0m_bootstrap\u001b[0m\u001b[0;34m.\u001b[0m\u001b[0m_gcd_import\u001b[0m\u001b[0;34m(\u001b[0m\u001b[0mname\u001b[0m\u001b[0;34m[\u001b[0m\u001b[0mlevel\u001b[0m\u001b[0;34m:\u001b[0m\u001b[0;34m]\u001b[0m\u001b[0;34m,\u001b[0m \u001b[0mpackage\u001b[0m\u001b[0;34m,\u001b[0m \u001b[0mlevel\u001b[0m\u001b[0;34m)\u001b[0m\u001b[0;34m\u001b[0m\u001b[0;34m\u001b[0m\u001b[0m\n\u001b[0m\u001b[1;32m    128\u001b[0m \u001b[0;34m\u001b[0m\u001b[0m\n",
      "\u001b[0;32m~/Documents/Devel/env/vuetify/lib/python3.8/importlib/_bootstrap.py\u001b[0m in \u001b[0;36m_gcd_import\u001b[0;34m(name, package, level)\u001b[0m\n",
      "\u001b[0;32m~/Documents/Devel/env/vuetify/lib/python3.8/importlib/_bootstrap.py\u001b[0m in \u001b[0;36m_find_and_load\u001b[0;34m(name, import_)\u001b[0m\n",
      "\u001b[0;32m~/Documents/Devel/env/vuetify/lib/python3.8/importlib/_bootstrap.py\u001b[0m in \u001b[0;36m_find_and_load_unlocked\u001b[0;34m(name, import_)\u001b[0m\n",
      "\u001b[0;32m~/Documents/Devel/env/vuetify/lib/python3.8/importlib/_bootstrap.py\u001b[0m in \u001b[0;36m_call_with_frames_removed\u001b[0;34m(f, *args, **kwds)\u001b[0m\n",
      "\u001b[0;32m~/Documents/Devel/env/vuetify/lib/python3.8/importlib/_bootstrap.py\u001b[0m in \u001b[0;36m_gcd_import\u001b[0;34m(name, package, level)\u001b[0m\n",
      "\u001b[0;32m~/Documents/Devel/env/vuetify/lib/python3.8/importlib/_bootstrap.py\u001b[0m in \u001b[0;36m_find_and_load\u001b[0;34m(name, import_)\u001b[0m\n",
      "\u001b[0;32m~/Documents/Devel/env/vuetify/lib/python3.8/importlib/_bootstrap.py\u001b[0m in \u001b[0;36m_find_and_load_unlocked\u001b[0;34m(name, import_)\u001b[0m\n",
      "\u001b[0;31mModuleNotFoundError\u001b[0m: No module named 'oci'",
      "\nDuring handling of the above exception, another exception occurred:\n",
      "\u001b[0;31mRemoteFunctionCallError\u001b[0m                   Traceback (most recent call last)",
      "\u001b[0;32m<ipython-input-36-3e82dc983630>\u001b[0m in \u001b[0;36m<module>\u001b[0;34m\u001b[0m\n\u001b[1;32m      1\u001b[0m \u001b[0muuids\u001b[0m \u001b[0;34m=\u001b[0m \u001b[0;34m[\u001b[0m\u001b[0;34m]\u001b[0m\u001b[0;34m\u001b[0m\u001b[0;34m\u001b[0m\u001b[0m\n\u001b[1;32m      2\u001b[0m \u001b[0;32mfor\u001b[0m \u001b[0mchunk\u001b[0m \u001b[0;32min\u001b[0m \u001b[0mchunked\u001b[0m\u001b[0;34m:\u001b[0m\u001b[0;34m\u001b[0m\u001b[0;34m\u001b[0m\u001b[0m\n\u001b[0;32m----> 3\u001b[0;31m     \u001b[0muids\u001b[0m \u001b[0;34m=\u001b[0m \u001b[0mprocessing\u001b[0m\u001b[0;34m.\u001b[0m\u001b[0mprocess_files\u001b[0m\u001b[0;34m(\u001b[0m\u001b[0muser\u001b[0m\u001b[0;34m=\u001b[0m\u001b[0muser\u001b[0m\u001b[0;34m,\u001b[0m \u001b[0mfiles\u001b[0m\u001b[0;34m=\u001b[0m\u001b[0mchunk\u001b[0m\u001b[0;34m,\u001b[0m \u001b[0mdata_type\u001b[0m\u001b[0;34m=\u001b[0m\u001b[0;34m\"NOAA\"\u001b[0m\u001b[0;34m)\u001b[0m\u001b[0;34m\u001b[0m\u001b[0;34m\u001b[0m\u001b[0m\n\u001b[0m\u001b[1;32m      4\u001b[0m     \u001b[0muuids\u001b[0m\u001b[0;34m.\u001b[0m\u001b[0mappend\u001b[0m\u001b[0;34m(\u001b[0m\u001b[0muids\u001b[0m\u001b[0;34m)\u001b[0m\u001b[0;34m\u001b[0m\u001b[0;34m\u001b[0m\u001b[0m\n\u001b[1;32m      5\u001b[0m     \u001b[0mtime\u001b[0m\u001b[0;34m.\u001b[0m\u001b[0msleep\u001b[0m\u001b[0;34m(\u001b[0m\u001b[0;36m5\u001b[0m\u001b[0;34m)\u001b[0m\u001b[0;34m\u001b[0m\u001b[0;34m\u001b[0m\u001b[0m\n",
      "\u001b[0;32m~/Documents/Devel/hugs/HUGS/Client/_process.py\u001b[0m in \u001b[0;36mprocess_files\u001b[0;34m(self, user, files, data_type, source_name, overwrite, hugs_url, storage_url, datasource, site, instrument)\u001b[0m\n\u001b[1;32m    154\u001b[0m             \u001b[0;31m# file contains overlapping data\u001b[0m\u001b[0;34m\u001b[0m\u001b[0;34m\u001b[0m\u001b[0;34m\u001b[0m\u001b[0m\n\u001b[1;32m    155\u001b[0m             \u001b[0;32mtry\u001b[0m\u001b[0;34m:\u001b[0m\u001b[0;34m\u001b[0m\u001b[0;34m\u001b[0m\u001b[0m\n\u001b[0;32m--> 156\u001b[0;31m                 \u001b[0mresponse\u001b[0m \u001b[0;34m=\u001b[0m \u001b[0mself\u001b[0m\u001b[0;34m.\u001b[0m\u001b[0m_service\u001b[0m\u001b[0;34m.\u001b[0m\u001b[0mcall_function\u001b[0m\u001b[0;34m(\u001b[0m\u001b[0mfunction\u001b[0m\u001b[0;34m=\u001b[0m\u001b[0;34m\"process\"\u001b[0m\u001b[0;34m,\u001b[0m \u001b[0margs\u001b[0m\u001b[0;34m=\u001b[0m\u001b[0margs\u001b[0m\u001b[0;34m)\u001b[0m\u001b[0;34m\u001b[0m\u001b[0;34m\u001b[0m\u001b[0m\n\u001b[0m\u001b[1;32m    157\u001b[0m                 \u001b[0mdatasource_uuids\u001b[0m\u001b[0;34m[\u001b[0m\u001b[0mfilename\u001b[0m\u001b[0;34m]\u001b[0m \u001b[0;34m=\u001b[0m \u001b[0mresponse\u001b[0m\u001b[0;34m[\u001b[0m\u001b[0;34m\"results\"\u001b[0m\u001b[0;34m]\u001b[0m\u001b[0;34m\u001b[0m\u001b[0;34m\u001b[0m\u001b[0m\n\u001b[1;32m    158\u001b[0m             \u001b[0;32mexcept\u001b[0m \u001b[0mValueError\u001b[0m \u001b[0;32mas\u001b[0m \u001b[0merr\u001b[0m\u001b[0;34m:\u001b[0m\u001b[0;34m\u001b[0m\u001b[0;34m\u001b[0m\u001b[0m\n",
      "\u001b[0;32m~/Documents/Devel/acquire/Acquire/Service/_service.py\u001b[0m in \u001b[0;36mcall_function\u001b[0;34m(self, function, args)\u001b[0m\n\u001b[1;32m    849\u001b[0m \u001b[0;34m\u001b[0m\u001b[0m\n\u001b[1;32m    850\u001b[0m         \u001b[0;32mtry\u001b[0m\u001b[0;34m:\u001b[0m\u001b[0;34m\u001b[0m\u001b[0;34m\u001b[0m\u001b[0m\n\u001b[0;32m--> 851\u001b[0;31m             return _call_function(service_url=self.service_url(),\n\u001b[0m\u001b[1;32m    852\u001b[0m                                   \u001b[0mfunction\u001b[0m\u001b[0;34m=\u001b[0m\u001b[0mfunction\u001b[0m\u001b[0;34m,\u001b[0m\u001b[0;34m\u001b[0m\u001b[0;34m\u001b[0m\u001b[0m\n\u001b[1;32m    853\u001b[0m                                   \u001b[0margs\u001b[0m\u001b[0;34m=\u001b[0m\u001b[0margs\u001b[0m\u001b[0;34m,\u001b[0m\u001b[0;34m\u001b[0m\u001b[0;34m\u001b[0m\u001b[0m\n",
      "\u001b[0;32m~/Documents/Devel/acquire/Acquire/Service/_function.py\u001b[0m in \u001b[0;36mcall_function\u001b[0;34m(service_url, function, args, args_key, response_key, public_cert)\u001b[0m\n\u001b[1;32m    493\u001b[0m              response.encoding, str(response.content)))\n\u001b[1;32m    494\u001b[0m \u001b[0;34m\u001b[0m\u001b[0m\n\u001b[0;32m--> 495\u001b[0;31m     return unpack_return_value(return_value=result, key=response_key,\n\u001b[0m\u001b[1;32m    496\u001b[0m                                \u001b[0mpublic_cert\u001b[0m\u001b[0;34m=\u001b[0m\u001b[0mpublic_cert\u001b[0m\u001b[0;34m,\u001b[0m\u001b[0;34m\u001b[0m\u001b[0;34m\u001b[0m\u001b[0m\n\u001b[1;32m    497\u001b[0m                                function=function, service=service_url)\n",
      "\u001b[0;32m~/Documents/Devel/acquire/Acquire/Service/_function.py\u001b[0m in \u001b[0;36munpack_return_value\u001b[0;34m(return_value, key, public_cert, function, service)\u001b[0m\n\u001b[1;32m    347\u001b[0m     \"\"\"Call this to unpack the passed arguments that have been encoded\n\u001b[1;32m    348\u001b[0m        as a json string, packed using pack_arguments\"\"\"\n\u001b[0;32m--> 349\u001b[0;31m     return unpack_arguments(return_value, key=key, public_cert=public_cert,\n\u001b[0m\u001b[1;32m    350\u001b[0m                             \u001b[0mis_return_value\u001b[0m\u001b[0;34m=\u001b[0m\u001b[0;32mTrue\u001b[0m\u001b[0;34m,\u001b[0m \u001b[0mfunction\u001b[0m\u001b[0;34m=\u001b[0m\u001b[0mfunction\u001b[0m\u001b[0;34m,\u001b[0m\u001b[0;34m\u001b[0m\u001b[0;34m\u001b[0m\u001b[0m\n\u001b[1;32m    351\u001b[0m                             service=service)\n",
      "\u001b[0;32m~/Documents/Devel/acquire/Acquire/Service/_function.py\u001b[0m in \u001b[0;36munpack_arguments\u001b[0;34m(args, key, public_cert, is_return_value, function, service)\u001b[0m\n\u001b[1;32m    318\u001b[0m \u001b[0;34m\u001b[0m\u001b[0m\n\u001b[1;32m    319\u001b[0m         \u001b[0mdecrypted_data\u001b[0m \u001b[0;34m=\u001b[0m \u001b[0m_get_key\u001b[0m\u001b[0;34m(\u001b[0m\u001b[0mkey\u001b[0m\u001b[0;34m,\u001b[0m \u001b[0mfingerprint\u001b[0m\u001b[0;34m)\u001b[0m\u001b[0;34m.\u001b[0m\u001b[0mdecrypt\u001b[0m\u001b[0;34m(\u001b[0m\u001b[0mencrypted_data\u001b[0m\u001b[0;34m)\u001b[0m\u001b[0;34m\u001b[0m\u001b[0;34m\u001b[0m\u001b[0m\n\u001b[0;32m--> 320\u001b[0;31m         return unpack_arguments(decrypted_data,\n\u001b[0m\u001b[1;32m    321\u001b[0m                                 \u001b[0mis_return_value\u001b[0m\u001b[0;34m=\u001b[0m\u001b[0mis_return_value\u001b[0m\u001b[0;34m,\u001b[0m\u001b[0;34m\u001b[0m\u001b[0;34m\u001b[0m\u001b[0m\n\u001b[1;32m    322\u001b[0m                                 function=function, service=service)\n",
      "\u001b[0;32m~/Documents/Devel/acquire/Acquire/Service/_function.py\u001b[0m in \u001b[0;36munpack_arguments\u001b[0;34m(args, key, public_cert, is_return_value, function, service)\u001b[0m\n\u001b[1;32m    265\u001b[0m             \u001b[0;32mif\u001b[0m \u001b[0mpayload\u001b[0m\u001b[0;34m[\u001b[0m\u001b[0;34m\"status\"\u001b[0m\u001b[0;34m]\u001b[0m \u001b[0;34m!=\u001b[0m \u001b[0;36m0\u001b[0m\u001b[0;34m:\u001b[0m\u001b[0;34m\u001b[0m\u001b[0;34m\u001b[0m\u001b[0m\n\u001b[1;32m    266\u001b[0m                 \u001b[0;32mif\u001b[0m \u001b[0;34m\"exception\"\u001b[0m \u001b[0;32min\u001b[0m \u001b[0mpayload\u001b[0m\u001b[0;34m:\u001b[0m\u001b[0;34m\u001b[0m\u001b[0;34m\u001b[0m\u001b[0m\n\u001b[0;32m--> 267\u001b[0;31m                     \u001b[0m_unpack_and_raise\u001b[0m\u001b[0;34m(\u001b[0m\u001b[0mfunction\u001b[0m\u001b[0;34m,\u001b[0m \u001b[0mservice\u001b[0m\u001b[0;34m,\u001b[0m \u001b[0mpayload\u001b[0m\u001b[0;34m[\u001b[0m\u001b[0;34m\"exception\"\u001b[0m\u001b[0;34m]\u001b[0m\u001b[0;34m)\u001b[0m\u001b[0;34m\u001b[0m\u001b[0;34m\u001b[0m\u001b[0m\n\u001b[0m\u001b[1;32m    268\u001b[0m                 \u001b[0;32melse\u001b[0m\u001b[0;34m:\u001b[0m\u001b[0;34m\u001b[0m\u001b[0;34m\u001b[0m\u001b[0m\n\u001b[1;32m    269\u001b[0m                     \u001b[0;32mfrom\u001b[0m \u001b[0mAcquire\u001b[0m\u001b[0;34m.\u001b[0m\u001b[0mService\u001b[0m \u001b[0;32mimport\u001b[0m \u001b[0mRemoteFunctionCallError\u001b[0m\u001b[0;34m\u001b[0m\u001b[0;34m\u001b[0m\u001b[0m\n",
      "\u001b[0;32m~/Documents/Devel/acquire/Acquire/Service/_function.py\u001b[0m in \u001b[0;36m_unpack_and_raise\u001b[0;34m(function, service, exdata)\u001b[0m\n\u001b[1;32m    396\u001b[0m         \u001b[0;32mfrom\u001b[0m \u001b[0mAcquire\u001b[0m\u001b[0;34m.\u001b[0m\u001b[0mService\u001b[0m \u001b[0;32mimport\u001b[0m \u001b[0mexception_to_string\u001b[0m\u001b[0;31m \u001b[0m\u001b[0;31m\\\u001b[0m\u001b[0;34m\u001b[0m\u001b[0;34m\u001b[0m\u001b[0m\n\u001b[1;32m    397\u001b[0m             \u001b[0;32mas\u001b[0m \u001b[0m_exception_to_string\u001b[0m\u001b[0;34m\u001b[0m\u001b[0;34m\u001b[0m\u001b[0m\n\u001b[0;32m--> 398\u001b[0;31m         raise RemoteFunctionCallError(\n\u001b[0m\u001b[1;32m    399\u001b[0m             \u001b[0;34m\"An exception occurred while calling '%s' on '%s'\\n\\n\"\u001b[0m\u001b[0;34m\u001b[0m\u001b[0;34m\u001b[0m\u001b[0m\n\u001b[1;32m    400\u001b[0m             \u001b[0;34m\"CAUSE: %s\\n\\nEXDATA: %s\"\u001b[0m \u001b[0;34m%\u001b[0m\u001b[0;34m\u001b[0m\u001b[0;34m\u001b[0m\u001b[0m\n",
      "\u001b[0;31mRemoteFunctionCallError\u001b[0m: An exception occurred while calling 'process' on 'https://hugs.acquire-aaai.com/t/hugs'\n\nCAUSE: Traceback (most recent call last):\n  File \"../../../../acquire/Acquire/Service/_function.py\", line 382, in _unpack_and_raise\n    mod = _importlib.import_module(exdata[\"module\"])\n  File \"/home/gar/Documents/Devel/env/vuetify/lib/python3.8/importlib/__init__.py\", line 127, in import_module\n    return _bootstrap._gcd_import(name[level:], package, level)\nModuleNotFoundError: No module named 'oci'\n\n\nEXDATA: {'class': 'ServiceError', 'module': 'oci.exceptions', 'error': \"{'opc-request-id': 'fra-1:svXQw27OJ5eLRNNSu5SE6IGj4PqayRaKhg9S_viEG4hlJy7Tjyl1XzaGBJx8hGA9', 'code': 'InternalServerError', 'message': 'Internal server error', 'status': 500}\", 'traceback': {'tb_frame': {'f_globals': {'__name__': 'admin.handler', '__file__': '/function/python_modules/admin/handler.py'}, 'f_code': {'co_filename': '/function/python_modules/admin/handler.py', 'co_name': '_base_handler'}}, 'tb_lineno': 185, 'tb_next': {'tb_frame': {'f_globals': {'__name__': 'admin.handler', '__file__': '/function/python_modules/admin/handler.py'}, 'f_code': {'co_filename': '/function/python_modules/admin/handler.py', 'co_name': '_handle'}}, 'tb_lineno': 134, 'tb_next': {'tb_frame': {'f_globals': {'__name__': 'admin.handler', '__file__': '/function/python_modules/admin/handler.py'}, 'f_code': {'co_filename': '/function/python_modules/admin/handler.py', 'co_name': '_route_function'}}, 'tb_lineno': 102, 'tb_next': {'tb_frame': {'f_globals': {'__name__': '__main__', '__file__': 'route.py'}, 'f_code': {'co_filename': 'route.py', 'co_name': 'hugs_functions'}}, 'tb_lineno': 19, 'tb_next': {'tb_frame': {'f_globals': {'__name__': 'hugs_service.process', '__file__': '/function/python_modules/hugs_service/process.py'}, 'f_code': {'co_filename': '/function/python_modules/hugs_service/process.py', 'co_name': 'process'}}, 'tb_lineno': 55, 'tb_next': {'tb_frame': {'f_globals': {'__name__': 'HUGS.Processing._process', '__file__': '/function/python_modules/HUGS/Processing/_process.py'}, 'f_code': {'co_filename': '/function/python_modules/HUGS/Processing/_process.py', 'co_name': 'process_data'}}, 'tb_lineno': 34, 'tb_next': {'tb_frame': {'f_globals': {'__name__': 'HUGS.Modules._noaa', '__file__': '/function/python_modules/HUGS/Modules/_noaa.py'}, 'f_code': {'co_filename': '/function/python_modules/HUGS/Modules/_noaa.py', 'co_name': 'read_file'}}, 'tb_lineno': 147, 'tb_next': {'tb_frame': {'f_globals': {'__name__': 'HUGS.Processing._segment', '__file__': '/function/python_modules/HUGS/Processing/_segment.py'}, 'f_code': {'co_filename': '/function/python_modules/HUGS/Processing/_segment.py', 'co_name': 'assign_data'}}, 'tb_lineno': 83, 'tb_next': {'tb_frame': {'f_globals': {'__name__': 'HUGS.Modules._datasource', '__file__': '/function/python_modules/HUGS/Modules/_datasource.py'}, 'f_code': {'co_filename': '/function/python_modules/HUGS/Modules/_datasource.py', 'co_name': 'save'}}, 'tb_lineno': 484, 'tb_next': {'tb_frame': {'f_globals': {'__name__': 'Acquire.ObjectStore._objstore', '__file__': '/function/python_modules/Acquire/ObjectStore/_objstore.py'}, 'f_code': {'co_filename': '/function/python_modules/Acquire/ObjectStore/_objstore.py', 'co_name': 'set_object_from_file'}}, 'tb_lineno': 240, 'tb_next': {'tb_frame': {'f_globals': {'__name__': 'Acquire.ObjectStore._objstore', '__file__': '/function/python_modules/Acquire/ObjectStore/_objstore.py'}, 'f_code': {'co_filename': '/function/python_modules/Acquire/ObjectStore/_objstore.py', 'co_name': 'set_object'}}, 'tb_lineno': 233, 'tb_next': {'tb_frame': {'f_globals': {'__name__': 'Acquire.ObjectStore._oci_objstore', '__file__': '/function/python_modules/Acquire/ObjectStore/_oci_objstore.py'}, 'f_code': {'co_filename': '/function/python_modules/Acquire/ObjectStore/_oci_objstore.py', 'co_name': 'set_object'}}, 'tb_lineno': 680, 'tb_next': {'tb_frame': {'f_globals': {'__name__': 'oci.object_storage.object_storage_client', '__file__': '/python/oci/object_storage/object_storage_client.py'}, 'f_code': {'co_filename': '/python/oci/object_storage/object_storage_client.py', 'co_name': 'put_object'}}, 'tb_lineno': 2790, 'tb_next': {'tb_frame': {'f_globals': {'__name__': 'oci.base_client', '__file__': '/python/oci/base_client.py'}, 'f_code': {'co_filename': '/python/oci/base_client.py', 'co_name': 'call_api'}}, 'tb_lineno': 239, 'tb_next': {'tb_frame': {'f_globals': {'__name__': 'oci.base_client', '__file__': '/python/oci/base_client.py'}, 'f_code': {'co_filename': '/python/oci/base_client.py', 'co_name': 'request'}}, 'tb_lineno': 362, 'tb_next': {'tb_frame': {'f_globals': {'__name__': 'oci.base_client', '__file__': '/python/oci/base_client.py'}, 'f_code': {'co_filename': '/python/oci/base_client.py', 'co_name': 'raise_service_error'}}, 'tb_lineno': 532, 'tb_next': None}}}}}}}}}}}}}}}}}"
     ]
    }
   ],
   "source": [
    "uuids = []\n",
    "for chunk in chunked:\n",
    "    uids = processing.process_files(user=user, files=chunk, data_type=\"NOAA\")\n",
    "    uuids.append(uids)\n",
    "    time.sleep(5)"
   ]
  },
  {
   "cell_type": "code",
   "execution_count": null,
   "metadata": {},
   "outputs": [],
   "source": []
  }
 ],
 "metadata": {
  "kernelspec": {
   "display_name": "Python 3",
   "language": "python",
   "name": "python3"
  }
 },
 "nbformat": 4,
 "nbformat_minor": 2
}
