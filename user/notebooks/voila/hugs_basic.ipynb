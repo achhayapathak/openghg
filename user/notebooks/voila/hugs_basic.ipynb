{
 "cells": [
  {
   "cell_type": "code",
   "execution_count": null,
   "metadata": {},
   "outputs": [],
   "source": [
    "import sys\n",
    "sys.path.insert(0,\"../../..\")\n",
    "sys.path.insert(0,\"../../../../acquire/\")\n",
    "\n",
    "import ipyvuetify as v\n",
    "import ipywidgets as widgets\n",
    "import bqplot as bq\n",
    "\n",
    "from HUGS.Interface import Interface"
   ]
  },
  {
   "cell_type": "markdown",
   "metadata": {},
   "source": [
    "# Set up voila vuetify layout\n",
    "The voila vuetify template does not render output from the notebook, it only shows widget with the mount_id metadata."
   ]
  },
  {
   "cell_type": "code",
   "execution_count": null,
   "metadata": {},
   "outputs": [],
   "source": [
    "# Create the HUGS Interface object and create widgets and boxes\n",
    "interface = Interface()\n",
    "interface.voila_interface()\n"
   ]
  },
  {
   "cell_type": "code",
   "execution_count": null,
   "metadata": {},
   "outputs": [],
   "source": [
    "items = [v.ListItem(children=[v.ListItemTitle(children=[f'Item {i}'])]) for i in range(1, 5)]\n",
    "\n",
    "register_nav = v.ListItem(children=[v.ListItemTitle(children=[v.Icon(children=[\"account_circle\"]), \"  Register\"])])\n",
    "login_nav = v.ListItem(children=[v.ListItemTitle(children=[v.Icon(children=[\"check_circle_outline\"]), \"  Login\"])])\n",
    "search_nav = v.ListItem(children=[v.ListItemTitle(children=[v.Icon(children=[\"search\"]), \"  Search\"])])\n",
    "plot_nav = v.ListItem(children=[v.ListItemTitle(children=[v.Icon(children=[\"fa-bar-chart\"]), \"  Plot\"])])\n",
    "\n",
    "# output_box = widgets.Output()\n",
    "\n",
    "def on_menu_click(widget, event, data):\n",
    "    with output_box:\n",
    "        print(f\"Printing {widget}, event {event}\")\n",
    "        \n",
    "def on_login_click(widget, event, data):\n",
    "    reg_layout.children = interface.show_module(\"register\")\n",
    "    \n",
    "def on_register_click(widget, event, data):\n",
    "    reg_layout.children = interface.show_module(\"login\")\n",
    "    \n",
    "def on_search_click(widget, event, data):\n",
    "    reg_layout.children = interface.show_module(\"search\")\n",
    "    \n",
    "def on_plot_click(widget, event, data):\n",
    "    reg_layout.children = interface.show_module(\"plot\")\n",
    "\n",
    "    \n",
    "register_nav.on_event(\"click\", on_register_click)\n",
    "login_nav.on_event(\"click\", on_login_click)\n",
    "search_nav.on_event(\"click\", on_search_click)\n",
    "plot_nav.on_event(\"click\", on_plot_click)\n",
    "\n",
    "nav_items = [register_nav, login_nav, search_nav, plot_nav]\n",
    "\n",
    "nav_drawer = v.NavigationDrawer(children=nav_items)\n",
    "\n",
    "nav_layout = v.Layout(_metadata={\"mount_id\":\"content-nav\"}, children=[nav_drawer])"
   ]
  },
  {
   "cell_type": "code",
   "execution_count": null,
   "metadata": {},
   "outputs": [],
   "source": [
    "reg_layout = v.Layout(_metadata={\"mount_id\": \"content-main\"}, children=[])"
   ]
  },
  {
   "cell_type": "markdown",
   "metadata": {},
   "source": [
    "register on click change the reg_layout box to be one set of widgets\n",
    "login changes to another set of widgets\n",
    "etc"
   ]
  },
  {
   "cell_type": "code",
   "execution_count": null,
   "metadata": {},
   "outputs": [
    {
     "data": {
      "application/vnd.jupyter.widget-view+json": {
       "model_id": "be52acc379ff42dd9acc010745f327f7",
       "version_major": 2,
       "version_minor": 0
      },
      "text/plain": [
       "Layout(children=[Layout(children=[NavigationDrawer(children=[ListItem(children=[ListItemTitle(children=[Icon(c…"
      ]
     },
     "metadata": {},
     "output_type": "display_data"
    },
    {
     "ename": "ValueError",
     "evalue": "module_name must be valid module from module list",
     "output_type": "error",
     "traceback": [
      "\u001b[0;31m---------------------------------------------------------------------------\u001b[0m",
      "\u001b[0;31mValueError\u001b[0m                                Traceback (most recent call last)",
      "\u001b[0;32m<ipython-input-12-e7303b0605a5>\u001b[0m in \u001b[0;36mon_plot_click\u001b[0;34m(widget, event, data)\u001b[0m\n\u001b[1;32m     22\u001b[0m \u001b[0;34m\u001b[0m\u001b[0m\n\u001b[1;32m     23\u001b[0m \u001b[0;32mdef\u001b[0m \u001b[0mon_plot_click\u001b[0m\u001b[0;34m(\u001b[0m\u001b[0mwidget\u001b[0m\u001b[0;34m,\u001b[0m \u001b[0mevent\u001b[0m\u001b[0;34m,\u001b[0m \u001b[0mdata\u001b[0m\u001b[0;34m)\u001b[0m\u001b[0;34m:\u001b[0m\u001b[0;34m\u001b[0m\u001b[0;34m\u001b[0m\u001b[0m\n\u001b[0;32m---> 24\u001b[0;31m     \u001b[0mreg_layout\u001b[0m\u001b[0;34m.\u001b[0m\u001b[0mchildren\u001b[0m \u001b[0;34m=\u001b[0m \u001b[0minterface\u001b[0m\u001b[0;34m.\u001b[0m\u001b[0mshow_module\u001b[0m\u001b[0;34m(\u001b[0m\u001b[0;34m\"plot\"\u001b[0m\u001b[0;34m)\u001b[0m\u001b[0;34m\u001b[0m\u001b[0;34m\u001b[0m\u001b[0m\n\u001b[0m\u001b[1;32m     25\u001b[0m \u001b[0;34m\u001b[0m\u001b[0m\n\u001b[1;32m     26\u001b[0m \u001b[0;34m\u001b[0m\u001b[0m\n",
      "\u001b[0;32m/home/home/gar/Documents/Devel/RSE/hugs/HUGS/Interface/_interface.py\u001b[0m in \u001b[0;36mshow_module\u001b[0;34m(self, module_name)\u001b[0m\n\u001b[1;32m    596\u001b[0m \u001b[0;34m\u001b[0m\u001b[0m\n\u001b[1;32m    597\u001b[0m         \u001b[0;32mif\u001b[0m \u001b[0mmodule_name\u001b[0m \u001b[0;32mnot\u001b[0m \u001b[0;32min\u001b[0m \u001b[0mself\u001b[0m\u001b[0;34m.\u001b[0m\u001b[0m_module_list\u001b[0m\u001b[0;34m:\u001b[0m\u001b[0;34m\u001b[0m\u001b[0;34m\u001b[0m\u001b[0m\n\u001b[0;32m--> 598\u001b[0;31m             \u001b[0;32mraise\u001b[0m \u001b[0mKeyError\u001b[0m\u001b[0;34m(\u001b[0m\u001b[0;34m\"module_name must be valid module from module list\"\u001b[0m\u001b[0;34m)\u001b[0m\u001b[0;34m\u001b[0m\u001b[0;34m\u001b[0m\u001b[0m\n\u001b[0m\u001b[1;32m    599\u001b[0m \u001b[0;34m\u001b[0m\u001b[0m\n\u001b[1;32m    600\u001b[0m         \u001b[0;32mreturn\u001b[0m \u001b[0;34m[\u001b[0m\u001b[0mself\u001b[0m\u001b[0;34m.\u001b[0m\u001b[0m_widgets\u001b[0m\u001b[0;34m[\u001b[0m\u001b[0mmodule_name\u001b[0m\u001b[0;34m]\u001b[0m\u001b[0;34m]\u001b[0m\u001b[0;34m\u001b[0m\u001b[0;34m\u001b[0m\u001b[0m\n",
      "\u001b[0;31mValueError\u001b[0m: module_name must be valid module from module list"
     ]
    }
   ],
   "source": [
    "v.Layout(children=[nav_layout, reg_layout])"
   ]
  },
  {
   "cell_type": "code",
   "execution_count": null,
   "metadata": {},
   "outputs": [],
   "source": []
  }
 ],
 "metadata": {
  "kernelspec": {
   "display_name": "Python 3",
   "language": "python",
   "name": "python3"
  }
 },
 "nbformat": 4,
 "nbformat_minor": 2
}
