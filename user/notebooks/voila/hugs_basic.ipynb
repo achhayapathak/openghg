{
 "cells": [
  {
   "cell_type": "code",
   "execution_count": null,
   "metadata": {},
   "outputs": [],
   "source": [
    "import sys\n",
    "sys.path.insert(0,\"../../..\")\n",
    "sys.path.insert(0,\"../../../../acquire/\")\n",
    "\n",
    "import ipyvuetify as v\n",
    "import ipywidgets as widgets\n",
    "import bqplot as bq\n",
    "\n",
    "from HUGS.Interface import Interface"
   ]
  },
  {
   "cell_type": "code",
   "execution_count": null,
   "metadata": {},
   "outputs": [
    {
     "name": "stdout",
     "output_type": "stream",
     "text": [
      "The autoreload extension is already loaded. To reload it, use:\n",
      "  %reload_ext autoreload\n"
     ]
    }
   ],
   "source": [
    "# Autoreload modules before executing code, useful during development\n",
    "%load_ext autoreload\n",
    "%autoreload 2"
   ]
  },
  {
   "cell_type": "markdown",
   "metadata": {},
   "source": [
    "# Set up voila vuetify layout\n",
    "The voila vuetify template does not render output from the notebook, it only shows widget with the mount_id metadata."
   ]
  },
  {
   "cell_type": "code",
   "execution_count": null,
   "metadata": {},
   "outputs": [],
   "source": [
    "# Create the HUGS Interface object and create widgets and boxes\n",
    "interface = Interface()\n",
    "interface.voila_interface()\n"
   ]
  },
  {
   "cell_type": "code",
   "execution_count": null,
   "metadata": {},
   "outputs": [],
   "source": [
    "register_nav = v.ListItem(children=[v.ListItemTitle(children=[v.Icon(children=[\"account_circle\"]), \"  Register\"])])\n",
    "login_nav = v.ListItem(children=[v.ListItemTitle(children=[v.Icon(children=[\"check_circle_outline\"]), \"  Login\"])])\n",
    "search_nav = v.ListItem(children=[v.ListItemTitle(children=[v.Icon(children=[\"search\"]), \"  Search\"])])\n",
    "plot_nav = v.ListItem(children=[v.ListItemTitle(children=[v.Icon(children=[\"fa-bar-chart\"]), \"  Plotting\"])])\n",
    "\n",
    "# output_box = widgets.Output()\n",
    "\n",
    "def on_menu_click(widget, event, data):\n",
    "    with output_box:\n",
    "        print(f\"Printing {widget}, event {event}\")\n",
    "\n",
    "def on_register_click(widget, event, data):\n",
    "    reg_layout.children = interface.show_module(\"register\")\n",
    "\n",
    "def on_login_click(widget, event, data):\n",
    "    reg_layout.children = interface.show_module(\"login\")\n",
    "    \n",
    "def on_search_click(widget, event, data):\n",
    "    reg_layout.children = interface.show_module(\"search\")\n",
    "    \n",
    "def on_plot_click(widget, event, data):\n",
    "    print(interface.show_module(\"plot_1\"))\n",
    "#     reg_layout.children = interface.show_module(\"plot_1\")\n",
    "    \n",
    "    \n",
    "register_nav.on_event(\"click\", on_register_click)\n",
    "login_nav.on_event(\"click\", on_login_click)\n",
    "search_nav.on_event(\"click\", on_search_click)\n",
    "plot_nav.on_event(\"click\", on_plot_click)\n",
    "\n",
    "nav_items = [register_nav, login_nav, search_nav, plot_nav]\n",
    "\n",
    "nav_drawer = v.NavigationDrawer(children=nav_items)\n",
    "\n",
    "nav_layout = v.Layout(_metadata={\"mount_id\":\"content-nav\"}, children=[nav_drawer])"
   ]
  },
  {
   "cell_type": "code",
   "execution_count": null,
   "metadata": {},
   "outputs": [],
   "source": [
    "reg_layout = v.Layout(_metadata={\"mount_id\": \"content-main\"}, children=[])"
   ]
  },
  {
   "cell_type": "markdown",
   "metadata": {},
   "source": [
    "register on click change the reg_layout box to be one set of widgets\n",
    "login changes to another set of widgets\n",
    "etc"
   ]
  },
  {
   "cell_type": "code",
   "execution_count": null,
   "metadata": {},
   "outputs": [
    {
     "data": {
      "application/vnd.jupyter.widget-view+json": {
       "model_id": "68c9768dd79e47629871aa7c18ff6a71",
       "version_major": 2,
       "version_minor": 0
      },
      "text/plain": [
       "Layout(children=[Layout(children=[NavigationDrawer(children=[ListItem(children=[ListItemTitle(children=[Icon(c…"
      ]
     },
     "metadata": {},
     "output_type": "display_data"
    },
    {
     "name": "stdout",
     "output_type": "stream",
     "text": [
      "[VBox()]\n",
      "[VBox()]\n"
     ]
    }
   ],
   "source": [
    "v.Layout(children=[nav_layout, reg_layout])"
   ]
  },
  {
   "cell_type": "code",
   "execution_count": null,
   "metadata": {},
   "outputs": [],
   "source": [
    "from HUGS.Interface import VueInterface"
   ]
  },
  {
   "cell_type": "code",
   "execution_count": null,
   "metadata": {},
   "outputs": [
    {
     "data": {
      "application/vnd.jupyter.widget-view+json": {
       "model_id": "229268dec7024596a76f9d58935e5622",
       "version_major": 2,
       "version_minor": 0
      },
      "text/plain": [
       "Layout(children=[Layout(children=[NavigationDrawer(children=[ListItem(children=[ListItemTitle(children=[Icon(c…"
      ]
     },
     "metadata": {},
     "output_type": "display_data"
    },
    {
     "name": "stdout",
     "output_type": "stream",
     "text": [
      "[VBox()]\n"
     ]
    }
   ],
   "source": [
    "vueinterface = VueInterface()\n",
    "vueinterface.voila_layout()"
   ]
  },
  {
   "cell_type": "code",
   "execution_count": null,
   "metadata": {},
   "outputs": [
    {
     "name": "stdout",
     "output_type": "stream",
     "text": [
      "Layout(children=[Layout(children=[NavigationDrawer(children=[ListItem(children=[ListItemTitle(children=[Icon(children=['account_circle']), '  Register'])]), ListItem(children=[ListItemTitle(children=[Icon(children=['check_circle_outline']), '  Login'])]), ListItem(children=[ListItemTitle(children=[Icon(children=['search']), '  Search'])]), ListItem(children=[ListItemTitle(children=[Icon(children=['fa-bar-chart']), '  Plotting'])])])]), Layout()])\n"
     ]
    }
   ],
   "source": [
    "print(vueinterface.voila_layout())"
   ]
  },
  {
   "cell_type": "code",
   "execution_count": null,
   "metadata": {},
   "outputs": [],
   "source": []
  }
 ],
 "metadata": {
  "kernelspec": {
   "display_name": "Python 3",
   "language": "python",
   "name": "python3"
  }
 },
 "nbformat": 4,
 "nbformat_minor": 2
}
