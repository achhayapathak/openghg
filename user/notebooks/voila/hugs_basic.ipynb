{
 "cells": [
  {
   "cell_type": "code",
   "execution_count": null,
   "metadata": {},
   "outputs": [],
   "source": [
    "import ipyvuetify as v\n",
    "import bqplot"
   ]
  },
  {
   "cell_type": "markdown",
   "metadata": {},
   "source": [
    "# Set up voila vuetify layout\n",
    "The voila vuetify template does not render output from the notebook, it only shows widget with the mount_id metadata."
   ]
  },
  {
   "cell_type": "code",
   "execution_count": null,
   "metadata": {},
   "outputs": [
    {
     "data": {
      "application/vnd.jupyter.widget-view+json": {
       "model_id": "b8ebf2a2a4dd4132a6ea1d95564e11ec",
       "version_major": 2,
       "version_minor": 0
      },
      "text/plain": [
       "Layout(children=[Btn(children=['primary'], class_='ma-2', color='primary')])"
      ]
     },
     "metadata": {},
     "output_type": "display_data"
    }
   ],
   "source": [
    "v.Layout(_metadata={\"mount_id\":\"content-nav\"}, children=[v.Btn(color='primary', class_='ma-2', children=['primary'])])"
   ]
  },
  {
   "cell_type": "code",
   "execution_count": null,
   "metadata": {},
   "outputs": [],
   "source": [
    "drawer = v.NavigationDrawer(_metadata={\"mount_id\":\"content-nav\"}, \n",
    "                            children=[v.Btn(color='primary', class_='ma-2', children=['Yah']),\n",
    "                                      v.Btn(color='primary', class_='ma-2', children=['primary']),\n",
    "                                      v.Btn(color='primary', class_='ma-2', children=['primary'])                                    \n",
    "                                     ])"
   ]
  },
  {
   "cell_type": "code",
   "execution_count": null,
   "metadata": {},
   "outputs": [],
   "source": [
    "drawer = v.NavigationDrawer(_metadata={\"mount_id\":\"content-nav\"},\n",
    "                            children=[v.ListItem()]\n",
    "                           )"
   ]
  },
  {
   "cell_type": "code",
   "execution_count": null,
   "metadata": {},
   "outputs": [
    {
     "data": {
      "application/vnd.jupyter.widget-view+json": {
       "model_id": "9106bab182a94f8c848f8748c1aeda47",
       "version_major": 2,
       "version_minor": 0
      },
      "text/plain": [
       "Layout(children=[Btn(children=['Home'], class_='ma-2', color='primary'), Btn(children=['Login'], class_='ma-2'…"
      ]
     },
     "metadata": {},
     "output_type": "display_data"
    }
   ],
   "source": [
    "# drawer = v.NavigationDrawer(_metadata={\"mount_id\":\"content-nav\"}, \n",
    "#                             children=[v.Btn(color='primary', class_='ma-2', children=['Yah']),\n",
    "#                                       v.Btn(color='primary', class_='ma-2', children=['primary']),\n",
    "#                                       v.Btn(color='primary', class_='ma-2', children=['primary'])                                    \n",
    "#                                      ])\n",
    "\n",
    "drawer = v.Layout(_metadata={\"mount_id\":\"content-nav\"},\n",
    "                  children=[v.Btn(color='primary', class_='ma-2', children=['Home']),\n",
    "                            v.Btn(color='primary', class_='ma-2', children=['Login']),\n",
    "                            v.Btn(color='primary', class_='ma-2', children=['Search']),\n",
    "                            v.Btn(color='primary', class_='ma-2', children=['Plot'])])\n",
    "\n",
    "drawer\n",
    "# <v-navigation-drawer permanent>\n",
    "#       <v-list-item>\n",
    "#         <v-list-item-content>\n",
    "#           <v-list-item-title class=\"title\">\n",
    "#             Application\n",
    "#           </v-list-item-title>\n",
    "#           <v-list-item-subtitle>\n",
    "#             subtext\n",
    "#           </v-list-item-subtitle>\n",
    "#         </v-list-item-content>\n",
    "#       </v-list-item>\n",
    "\n",
    "#       <v-divider></v-divider>\n",
    "\n",
    "#       <v-list\n",
    "#         dense\n",
    "#         nav\n",
    "#       >\n",
    "#         <v-list-item\n",
    "#           v-for=\"item in items\"\n",
    "#           :key=\"item.title\"\n",
    "#           link\n",
    "#         >\n",
    "#           <v-list-item-icon>\n",
    "#             <v-icon>{{ item.icon }}</v-icon>\n",
    "#           </v-list-item-icon>\n",
    "\n",
    "#           <v-list-item-content>\n",
    "#             <v-list-item-title>{{ item.title }}</v-list-item-title>\n",
    "#           </v-list-item-content>\n",
    "#         </v-list-item>\n",
    "#       </v-list>\n",
    "#     </v-navigation-drawer>"
   ]
  },
  {
   "cell_type": "code",
   "execution_count": null,
   "metadata": {},
   "outputs": [
    {
     "ename": "NameError",
     "evalue": "name 'figHist2' is not defined",
     "output_type": "error",
     "traceback": [
      "\u001b[0;31m---------------------------------------------------------------------------\u001b[0m",
      "\u001b[0;31mNameError\u001b[0m                                 Traceback (most recent call last)",
      "\u001b[0;32m<ipython-input-16-568a15516db5>\u001b[0m in \u001b[0;36m<module>\u001b[0;34m\u001b[0m\n\u001b[1;32m     10\u001b[0m             ]),\n\u001b[1;32m     11\u001b[0m             v.Flex(xs12=True, lg6=True, xl4=True, children=[\n\u001b[0;32m---> 12\u001b[0;31m                 \u001b[0mfigHist2\u001b[0m\u001b[0;34m,\u001b[0m \u001b[0msliderHist2\u001b[0m\u001b[0;34m\u001b[0m\u001b[0;34m\u001b[0m\u001b[0m\n\u001b[0m\u001b[1;32m     13\u001b[0m             ]),\n\u001b[1;32m     14\u001b[0m             v.Flex(xs12=True, xl4=True, children=[\n",
      "\u001b[0;31mNameError\u001b[0m: name 'figHist2' is not defined"
     ]
    }
   ],
   "source": [
    "v.Tabs(_metadata={'mount_id': 'content-main'}, children=[\n",
    "    v.Tab(children=['Tab1']),\n",
    "    v.Tab(children=['Tab2']),\n",
    "    v.Tab(children=['Tab3']),\n",
    "    v.Tab(children=['Tab4']),\n",
    "    v.TabItem(children=[\n",
    "        v.Layout(row=True, wrap=True, align_center=True, children=[\n",
    "            v.Flex(xs12=True, lg6=True, xl4=True, children=[\n",
    "                fig, slider\n",
    "            ]),\n",
    "            v.Flex(xs12=True, lg6=True, xl4=True, children=[\n",
    "                figHist2, sliderHist2\n",
    "            ]),\n",
    "            v.Flex(xs12=True, xl4=True, children=[\n",
    "                fig2, sliderHist2\n",
    "            ]),\n",
    "            v.Flex(xs12=True, xl4=True, children=[\n",
    "                fig2, sliderHist2\n",
    "            ]),\n",
    "            v.Flex(xs12=True, xl4=True, children=[\n",
    "                fig2, sliderHist2\n",
    "            ]),\n",
    "            v.Flex(xs12=True, xl4=True, children=[\n",
    "                fig2, sliderHist2\n",
    "            ]),\n",
    "        ])\n",
    "    ]),\n",
    "    v.TabItem(children=[\n",
    "        v.Container(children=['Lorum ipsum'])\n",
    "    ]),\n",
    "    v.TabItem(children=[\n",
    "        v.Container(children=['Lorum ipsum'])\n",
    "    ]),\n",
    "    v.TabItem(children=[\n",
    "        v.Container(children=['Lorum dipsum'])\n",
    "    ])\n",
    "])"
   ]
  },
  {
   "cell_type": "code",
   "execution_count": null,
   "metadata": {},
   "outputs": [],
   "source": []
  },
  {
   "cell_type": "code",
   "execution_count": null,
   "metadata": {},
   "outputs": [],
   "source": []
  }
 ],
 "metadata": {
  "kernelspec": {
   "display_name": "Python 3",
   "language": "python",
   "name": "python3"
  }
 },
 "nbformat": 4,
 "nbformat_minor": 2
}
