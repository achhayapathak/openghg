{
 "cells": [
  {
   "cell_type": "code",
   "execution_count": null,
   "metadata": {},
   "outputs": [
    {
     "data": {
      "application/vnd.jupyter.widget-view+json": {
       "model_id": "d8cc545f842a49719d91c698dee4cdfe",
       "version_major": 2,
       "version_minor": 0
      },
      "text/plain": [
       "Layout(children=[NavigationDrawer(absolute=True, children=[ListItem(children=[ListItemTitle(children=['Item 1'…"
      ]
     },
     "metadata": {},
     "output_type": "display_data"
    }
   ],
   "source": [
    "import ipyvuetify as v\n",
    "import ipywidgets as widgets\n",
    "\n",
    "def on_click(widget, event, data):\n",
    "   nav_drawer.v_model = not nav_drawer.v_model\n",
    "\n",
    "drawer_button = v.Btn(color='primary', children=['Drawer button'])\n",
    "\n",
    "buttons = [v.Btn(color=\"primary\", children=[f\"Button {i}\"]) for i in range(1,5)]\n",
    "\n",
    "# See if this works properly within the template with voila\n",
    "\n",
    "items = [v.ListItem(children=[\n",
    "    v.ListItemTitle(children=[\n",
    "        f'Item {i}'])]) \n",
    "         for i in range(1, 5)]\n",
    "\n",
    "\n",
    "drawer_button.on_event('click', on_click)\n",
    "\n",
    "nav_drawer = v.NavigationDrawer(v_model=False, absolute=True, right=True, children=items)\n",
    "\n",
    "show_drawer = v.Btn(color='primary', children=['Toggle'])\n",
    "show_drawer.on_event('click', on_click)\n",
    "\n",
    "v.Layout(_metadata={\"mount_id\":\"content-nav\"}, children=[nav_drawer, show_drawer]) "
   ]
  },
  {
   "cell_type": "code",
   "execution_count": null,
   "metadata": {},
   "outputs": [],
   "source": []
  }
 ],
 "metadata": {
  "kernelspec": {
   "display_name": "Python 3",
   "language": "python",
   "name": "python3"
  }
 },
 "nbformat": 4,
 "nbformat_minor": 2
}
