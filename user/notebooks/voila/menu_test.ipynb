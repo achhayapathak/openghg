{
 "cells": [
  {
   "cell_type": "code",
   "execution_count": null,
   "metadata": {},
   "outputs": [],
   "source": [
    "import ipywidgets\n",
    "import ipyvuetify as v\n",
    "from threading import Timer\n",
    "from traitlets import(Any, Unicode, List)"
   ]
  },
  {
   "cell_type": "code",
   "execution_count": null,
   "metadata": {},
   "outputs": [],
   "source": [
    "def on_menu_click(widget, event, data):\n",
    "    if len(layout.children) == 1:\n",
    "        layout.children = layout.children + [info]\n",
    "    info.children = [f\"Item {items.index(widget)+1} clicked\"]\n",
    "\n",
    "items = [v.ListItem(children=[v.ListItemTitle(children=[f\"Item {i}\"])]) for i in range(1,5)]"
   ]
  },
  {
   "cell_type": "code",
   "execution_count": null,
   "metadata": {},
   "outputs": [
    {
     "data": {
      "application/vnd.jupyter.widget-view+json": {
       "model_id": "4c5a03ca063047f5ab27a8d07aa1aa9a",
       "version_major": 2,
       "version_minor": 0
      },
      "text/plain": [
       "Layout(children=[Menu(children=[List(children=[ListItem(children=[ListItemTitle(children=['Item 1'])]), ListIt…"
      ]
     },
     "metadata": {},
     "output_type": "display_data"
    }
   ],
   "source": [
    "for item in items:\n",
    "    item.on_event(\"click\", on_menu_click)\n",
    "    \n",
    "button = v.Btn(v_on=\"menuData.on\", class_=\"ma-2\", color=\"primary\", \n",
    "                children=[\"menu\", v.Icon(right=True, children=[\"arrow_drop_down\"])])\n",
    "\n",
    "slots = {\"name\": \"activator\",\n",
    "             \"variable\": \"menuData\",\n",
    "             \"children\": button}\n",
    "\n",
    "menu = v.Menu(offset_y=True, v_slots=[slots], children=[v.List(children=items)])\n",
    "\n",
    "info = v.Chip(class_=\"ma-2\")\n",
    "\n",
    "layout = v.Layout(children=[menu])\n",
    "layout"
   ]
  },
  {
   "cell_type": "code",
   "execution_count": null,
   "metadata": {},
   "outputs": [
    {
     "data": {
      "application/vnd.jupyter.widget-view+json": {
       "model_id": "e9c6157aad524e5582ca7737d2beb847",
       "version_major": 2,
       "version_minor": 0
      },
      "text/plain": [
       "Layout(children=[NavigationDrawer(absolute=True, children=[ListItem(children=[ListItemTitle(children=['Item 1'…"
      ]
     },
     "metadata": {},
     "output_type": "display_data"
    }
   ],
   "source": [
    "def on_click(widget, event, data):\n",
    "   nav_drawer.v_model = not nav_drawer.v_model\n",
    "\n",
    "drawer_button = v.Btn(color='primary', children=['Drawer button'])\n",
    "\n",
    "buttons = [v.Btn(color=\"primary\", children=[f\"Button {i}\"]) for i in range(1,5)]\n",
    "\n",
    "# See if this works properly within the template with voila\n",
    "\n",
    "items = [v.ListItem(children=[\n",
    "    v.ListItemTitle(children=[\n",
    "        f'Item {i}'])]) \n",
    "         for i in range(1, 5)]\n",
    "\n",
    "\n",
    "drawer_button.on_event('click', on_click)\n",
    "\n",
    "nav_drawer = v.NavigationDrawer(v_model=False, absolute=True, right=True, children=items)\n",
    "\n",
    "show_drawer = v.Btn(color='primary', children=['Toggle'])\n",
    "show_drawer.on_event('click', on_click)\n",
    "\n",
    "v.Layout(children=[nav_drawer, show_drawer]) "
   ]
  },
  {
   "cell_type": "code",
   "execution_count": null,
   "metadata": {},
   "outputs": [
    {
     "data": {
      "text/plain": [
       "[Btn(children=['Button 1'], color='primary'),\n",
       " Btn(children=['Button 2'], color='primary'),\n",
       " Btn(children=['Button 3'], color='primary'),\n",
       " Btn(children=['Button 4'], color='primary')]"
      ]
     },
     "execution_count": null,
     "metadata": {},
     "output_type": "execute_result"
    }
   ],
   "source": [
    "buttons"
   ]
  },
  {
   "cell_type": "code",
   "execution_count": null,
   "metadata": {},
   "outputs": [],
   "source": [
    "type(vnd)"
   ]
  },
  {
   "cell_type": "code",
   "execution_count": null,
   "metadata": {},
   "outputs": [],
   "source": [
    "import ipyvuetify as v\n",
    "import ipywidgets as widgets\n",
    "\n",
    "items = [v.ListItem(children=[v.ListItemTitle(children=[f'Item {i}'])]) for i in range(1, 5)]\n",
    "\n",
    "nav_drawer = v.NavigationDrawer(v_model=False, absolute=True, left=True, children=items)\n",
    "\n",
    "v.Layout(children=[nav_drawer])"
   ]
  }
 ],
 "metadata": {
  "kernelspec": {
   "display_name": "Python 3",
   "language": "python",
   "name": "python3"
  }
 },
 "nbformat": 4,
 "nbformat_minor": 2
}
