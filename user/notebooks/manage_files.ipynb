{
 "cells": [
  {
   "cell_type": "markdown",
   "metadata": {},
   "source": [
    "Demonstration notebook to show how to upload files to a Drive, and then how to call hugs functions that could process those files subject to user authorisation"
   ]
  },
  {
   "cell_type": "code",
   "execution_count": null,
   "metadata": {},
   "outputs": [],
   "source": [
    "import sys\n",
    "sys.path.insert(0, \"../../../acquire\")"
   ]
  },
  {
   "cell_type": "code",
   "execution_count": null,
   "metadata": {},
   "outputs": [],
   "source": [
    "from Acquire.Client import User, Drive, Service, StorageCreds, PAR, Authorisation"
   ]
  },
  {
   "cell_type": "code",
   "execution_count": null,
   "metadata": {},
   "outputs": [],
   "source": [
    "base_url = \"https://hugs.acquire-aaai.com/t\""
   ]
  },
  {
   "cell_type": "markdown",
   "metadata": {},
   "source": [
    "First, login as a valid hugs user..."
   ]
  },
  {
   "cell_type": "code",
   "execution_count": null,
   "metadata": {},
   "outputs": [],
   "source": [
    "user = User(username=\"gareth\", identity_url=\"%s/identity\" % base_url)"
   ]
  },
  {
   "cell_type": "code",
   "execution_count": null,
   "metadata": {},
   "outputs": [
    {
     "ename": "ServiceAccountError",
     "evalue": "Error calling 'None' on 'https://hugs.acquire-aaai.com/t/identity': Cannot find a private key for 'IdentityService(url=hugs.acquire-aaai.com/t/identity, uid=a0-a6)' that matches the fingerprint 25:bc:5a:95:70:3a:c0:1c:48:14:f1:c1:df:dc:fe:a2. This is either because you are using a key that is too old or you are requesting a wrong key. Please call refresh_keys on your Service object and try again: Cannot find a key or certificate with fingerprint '25:bc:5a:95:70:3a:c0:1c:48:14:f1:c1:df:dc:fe:a2' : _service_key/oldkeys/fingerprints/25:bc:5a:95:70:3a:c0:1c:48:14:f1:c1:df:dc:fe:a2",
     "output_type": "error",
     "traceback": [
      "\u001b[0;31m---------------------------------------------------------------------------\u001b[0m",
      "\u001b[0;31mServiceAccountError\u001b[0m                       Traceback (most recent call last)",
      "\u001b[0;32m<ipython-input-10-13df98ff853f>\u001b[0m in \u001b[0;36m<module>\u001b[0;34m\u001b[0m\n\u001b[0;32m----> 1\u001b[0;31m \u001b[0mresponse\u001b[0m \u001b[0;34m=\u001b[0m \u001b[0muser\u001b[0m\u001b[0;34m.\u001b[0m\u001b[0mrequest_login\u001b[0m\u001b[0;34m(\u001b[0m\u001b[0;34m)\u001b[0m\u001b[0;34m\u001b[0m\u001b[0;34m\u001b[0m\u001b[0m\n\u001b[0m",
      "\u001b[0;32m/home/home/gar/Documents/Devel/RSE/acquire/Acquire/Client/_user.py\u001b[0m in \u001b[0;36mrequest_login\u001b[0;34m(self, login_message)\u001b[0m\n\u001b[1;32m    496\u001b[0m             \u001b[0margs\u001b[0m\u001b[0;34m[\u001b[0m\u001b[0;34m\"login_message\"\u001b[0m\u001b[0;34m]\u001b[0m \u001b[0;34m=\u001b[0m \u001b[0mlogin_message\u001b[0m\u001b[0;34m\u001b[0m\u001b[0;34m\u001b[0m\u001b[0m\n\u001b[1;32m    497\u001b[0m \u001b[0;34m\u001b[0m\u001b[0m\n\u001b[0;32m--> 498\u001b[0;31m         \u001b[0midentity_service\u001b[0m \u001b[0;34m=\u001b[0m \u001b[0mself\u001b[0m\u001b[0;34m.\u001b[0m\u001b[0midentity_service\u001b[0m\u001b[0;34m(\u001b[0m\u001b[0;34m)\u001b[0m\u001b[0;34m\u001b[0m\u001b[0;34m\u001b[0m\u001b[0m\n\u001b[0m\u001b[1;32m    499\u001b[0m \u001b[0;34m\u001b[0m\u001b[0m\n\u001b[1;32m    500\u001b[0m         result = identity_service.call_function(\n",
      "\u001b[0;32m/home/home/gar/Documents/Devel/RSE/acquire/Acquire/Client/_user.py\u001b[0m in \u001b[0;36midentity_service\u001b[0;34m(self)\u001b[0m\n\u001b[1;32m    245\u001b[0m         service = _Service.resolve(service_url=self._identity_url,\n\u001b[1;32m    246\u001b[0m                                    \u001b[0mservice_uid\u001b[0m\u001b[0;34m=\u001b[0m\u001b[0mself\u001b[0m\u001b[0;34m.\u001b[0m\u001b[0m_identity_uid\u001b[0m\u001b[0;34m,\u001b[0m\u001b[0;34m\u001b[0m\u001b[0;34m\u001b[0m\u001b[0m\n\u001b[0;32m--> 247\u001b[0;31m                                    fetch=True)[\"service\"]\n\u001b[0m\u001b[1;32m    248\u001b[0m \u001b[0;34m\u001b[0m\u001b[0m\n\u001b[1;32m    249\u001b[0m         \u001b[0mself\u001b[0m\u001b[0;34m.\u001b[0m\u001b[0m_identity_service\u001b[0m \u001b[0;34m=\u001b[0m \u001b[0mservice\u001b[0m\u001b[0;34m\u001b[0m\u001b[0;34m\u001b[0m\u001b[0m\n",
      "\u001b[0;32m/home/home/gar/Documents/Devel/RSE/acquire/Acquire/Service/_service.py\u001b[0m in \u001b[0;36mresolve\u001b[0;34m(service, service_uid, service_url, fetch)\u001b[0m\n\u001b[1;32m    175\u001b[0m             service = _get_trusted_service(service_uid=s[\"service_uid\"],\n\u001b[1;32m    176\u001b[0m                                            \u001b[0mservice_url\u001b[0m\u001b[0;34m=\u001b[0m\u001b[0ms\u001b[0m\u001b[0;34m[\u001b[0m\u001b[0;34m\"service_url\"\u001b[0m\u001b[0;34m]\u001b[0m\u001b[0;34m,\u001b[0m\u001b[0;34m\u001b[0m\u001b[0;34m\u001b[0m\u001b[0m\n\u001b[0;32m--> 177\u001b[0;31m                                            autofetch=True)\n\u001b[0m\u001b[1;32m    178\u001b[0m \u001b[0;34m\u001b[0m\u001b[0m\n\u001b[1;32m    179\u001b[0m             \u001b[0ms\u001b[0m\u001b[0;34m[\u001b[0m\u001b[0;34m\"service\"\u001b[0m\u001b[0;34m]\u001b[0m \u001b[0;34m=\u001b[0m \u001b[0mservice\u001b[0m\u001b[0;34m\u001b[0m\u001b[0;34m\u001b[0m\u001b[0m\n",
      "\u001b[0;32m/usr/lib/python3.7/site-packages/cachetools/__init__.py\u001b[0m in \u001b[0;36mwrapper\u001b[0;34m(*args, **kwargs)\u001b[0m\n\u001b[1;32m     44\u001b[0m                 \u001b[0;32mexcept\u001b[0m \u001b[0mKeyError\u001b[0m\u001b[0;34m:\u001b[0m\u001b[0;34m\u001b[0m\u001b[0;34m\u001b[0m\u001b[0m\n\u001b[1;32m     45\u001b[0m                     \u001b[0;32mpass\u001b[0m  \u001b[0;31m# key not found\u001b[0m\u001b[0;34m\u001b[0m\u001b[0;34m\u001b[0m\u001b[0m\n\u001b[0;32m---> 46\u001b[0;31m                 \u001b[0mv\u001b[0m \u001b[0;34m=\u001b[0m \u001b[0mfunc\u001b[0m\u001b[0;34m(\u001b[0m\u001b[0;34m*\u001b[0m\u001b[0margs\u001b[0m\u001b[0;34m,\u001b[0m \u001b[0;34m**\u001b[0m\u001b[0mkwargs\u001b[0m\u001b[0;34m)\u001b[0m\u001b[0;34m\u001b[0m\u001b[0;34m\u001b[0m\u001b[0m\n\u001b[0m\u001b[1;32m     47\u001b[0m                 \u001b[0;32mtry\u001b[0m\u001b[0;34m:\u001b[0m\u001b[0;34m\u001b[0m\u001b[0;34m\u001b[0m\u001b[0m\n\u001b[1;32m     48\u001b[0m                     \u001b[0mcache\u001b[0m\u001b[0;34m[\u001b[0m\u001b[0mk\u001b[0m\u001b[0;34m]\u001b[0m \u001b[0;34m=\u001b[0m \u001b[0mv\u001b[0m\u001b[0;34m\u001b[0m\u001b[0;34m\u001b[0m\u001b[0m\n",
      "\u001b[0;32m/home/home/gar/Documents/Devel/RSE/acquire/Acquire/Service/_get_services.py\u001b[0m in \u001b[0;36mget_trusted_service\u001b[0;34m(service_url, service_uid, service_type, autofetch)\u001b[0m\n\u001b[1;32m    163\u001b[0m                                      \u001b[0mservice_url\u001b[0m\u001b[0;34m=\u001b[0m\u001b[0mservice_url\u001b[0m\u001b[0;34m,\u001b[0m\u001b[0;34m\u001b[0m\u001b[0;34m\u001b[0m\u001b[0m\n\u001b[1;32m    164\u001b[0m                                      \u001b[0mservice_type\u001b[0m\u001b[0;34m=\u001b[0m\u001b[0mservice_type\u001b[0m\u001b[0;34m,\u001b[0m\u001b[0;34m\u001b[0m\u001b[0;34m\u001b[0m\u001b[0m\n\u001b[0;32m--> 165\u001b[0;31m                                      autofetch=autofetch)\n\u001b[0m\u001b[1;32m    166\u001b[0m         \u001b[0;32mreturn\u001b[0m \u001b[0mservice\u001b[0m\u001b[0;34m\u001b[0m\u001b[0;34m\u001b[0m\u001b[0m\n",
      "\u001b[0;32m/home/home/gar/Documents/Devel/RSE/acquire/Acquire/Client/_wallet.py\u001b[0m in \u001b[0;36mget_service\u001b[0;34m(self, service_url, service_uid, service_type, autofetch)\u001b[0m\n\u001b[1;32m    443\u001b[0m         \u001b[0;31m# the new keys and save them to the service file...\u001b[0m\u001b[0;34m\u001b[0m\u001b[0;34m\u001b[0m\u001b[0;34m\u001b[0m\u001b[0m\n\u001b[1;32m    444\u001b[0m         \u001b[0;32mif\u001b[0m \u001b[0mservice\u001b[0m\u001b[0;34m.\u001b[0m\u001b[0mshould_refresh_keys\u001b[0m\u001b[0;34m(\u001b[0m\u001b[0;34m)\u001b[0m\u001b[0;34m:\u001b[0m\u001b[0;34m\u001b[0m\u001b[0;34m\u001b[0m\u001b[0m\n\u001b[0;32m--> 445\u001b[0;31m             \u001b[0mservice\u001b[0m\u001b[0;34m.\u001b[0m\u001b[0mrefresh_keys\u001b[0m\u001b[0;34m(\u001b[0m\u001b[0;34m)\u001b[0m\u001b[0;34m\u001b[0m\u001b[0;34m\u001b[0m\u001b[0m\n\u001b[0m\u001b[1;32m    446\u001b[0m             \u001b[0mmust_write\u001b[0m \u001b[0;34m=\u001b[0m \u001b[0;32mTrue\u001b[0m\u001b[0;34m\u001b[0m\u001b[0;34m\u001b[0m\u001b[0m\n\u001b[1;32m    447\u001b[0m \u001b[0;34m\u001b[0m\u001b[0m\n",
      "\u001b[0;32m/home/home/gar/Documents/Devel/RSE/acquire/Acquire/Service/_service.py\u001b[0m in \u001b[0;36mrefresh_keys\u001b[0;34m(self)\u001b[0m\n\u001b[1;32m    547\u001b[0m                               \u001b[0margs_key\u001b[0m\u001b[0;34m=\u001b[0m\u001b[0mself\u001b[0m\u001b[0;34m.\u001b[0m\u001b[0m_pubkey\u001b[0m\u001b[0;34m,\u001b[0m\u001b[0;34m\u001b[0m\u001b[0;34m\u001b[0m\u001b[0m\n\u001b[1;32m    548\u001b[0m                               \u001b[0mresponse_key\u001b[0m\u001b[0;34m=\u001b[0m\u001b[0m_get_private_key\u001b[0m\u001b[0;34m(\u001b[0m\u001b[0;34m\"function\"\u001b[0m\u001b[0;34m)\u001b[0m\u001b[0;34m,\u001b[0m\u001b[0;34m\u001b[0m\u001b[0;34m\u001b[0m\u001b[0m\n\u001b[0;32m--> 549\u001b[0;31m                               public_cert=self._pubcert)\n\u001b[0m\u001b[1;32m    550\u001b[0m \u001b[0;34m\u001b[0m\u001b[0m\n\u001b[1;32m    551\u001b[0m             \u001b[0;32mif\u001b[0m \u001b[0mchallenge\u001b[0m \u001b[0;32mis\u001b[0m \u001b[0;32mNone\u001b[0m\u001b[0;34m:\u001b[0m\u001b[0;34m\u001b[0m\u001b[0;34m\u001b[0m\u001b[0m\n",
      "\u001b[0;32m/home/home/gar/Documents/Devel/RSE/acquire/Acquire/Service/_function.py\u001b[0m in \u001b[0;36mcall_function\u001b[0;34m(service_url, function, args, args_key, response_key, public_cert)\u001b[0m\n\u001b[1;32m    495\u001b[0m     return unpack_return_value(return_value=result, key=response_key,\n\u001b[1;32m    496\u001b[0m                                \u001b[0mpublic_cert\u001b[0m\u001b[0;34m=\u001b[0m\u001b[0mpublic_cert\u001b[0m\u001b[0;34m,\u001b[0m\u001b[0;34m\u001b[0m\u001b[0;34m\u001b[0m\u001b[0m\n\u001b[0;32m--> 497\u001b[0;31m                                function=function, service=service_url)\n\u001b[0m",
      "\u001b[0;32m/home/home/gar/Documents/Devel/RSE/acquire/Acquire/Service/_function.py\u001b[0m in \u001b[0;36munpack_return_value\u001b[0;34m(return_value, key, public_cert, function, service)\u001b[0m\n\u001b[1;32m    349\u001b[0m     return unpack_arguments(return_value, key=key, public_cert=public_cert,\n\u001b[1;32m    350\u001b[0m                             \u001b[0mis_return_value\u001b[0m\u001b[0;34m=\u001b[0m\u001b[0;32mTrue\u001b[0m\u001b[0;34m,\u001b[0m \u001b[0mfunction\u001b[0m\u001b[0;34m=\u001b[0m\u001b[0mfunction\u001b[0m\u001b[0;34m,\u001b[0m\u001b[0;34m\u001b[0m\u001b[0;34m\u001b[0m\u001b[0m\n\u001b[0;32m--> 351\u001b[0;31m                             service=service)\n\u001b[0m\u001b[1;32m    352\u001b[0m \u001b[0;34m\u001b[0m\u001b[0m\n\u001b[1;32m    353\u001b[0m \u001b[0;34m\u001b[0m\u001b[0m\n",
      "\u001b[0;32m/home/home/gar/Documents/Devel/RSE/acquire/Acquire/Service/_function.py\u001b[0m in \u001b[0;36munpack_arguments\u001b[0;34m(args, key, public_cert, is_return_value, function, service)\u001b[0m\n\u001b[1;32m    265\u001b[0m             \u001b[0;32mif\u001b[0m \u001b[0mpayload\u001b[0m\u001b[0;34m[\u001b[0m\u001b[0;34m\"status\"\u001b[0m\u001b[0;34m]\u001b[0m \u001b[0;34m!=\u001b[0m \u001b[0;36m0\u001b[0m\u001b[0;34m:\u001b[0m\u001b[0;34m\u001b[0m\u001b[0;34m\u001b[0m\u001b[0m\n\u001b[1;32m    266\u001b[0m                 \u001b[0;32mif\u001b[0m \u001b[0;34m\"exception\"\u001b[0m \u001b[0;32min\u001b[0m \u001b[0mpayload\u001b[0m\u001b[0;34m:\u001b[0m\u001b[0;34m\u001b[0m\u001b[0;34m\u001b[0m\u001b[0m\n\u001b[0;32m--> 267\u001b[0;31m                     \u001b[0m_unpack_and_raise\u001b[0m\u001b[0;34m(\u001b[0m\u001b[0mfunction\u001b[0m\u001b[0;34m,\u001b[0m \u001b[0mservice\u001b[0m\u001b[0;34m,\u001b[0m \u001b[0mpayload\u001b[0m\u001b[0;34m[\u001b[0m\u001b[0;34m\"exception\"\u001b[0m\u001b[0;34m]\u001b[0m\u001b[0;34m)\u001b[0m\u001b[0;34m\u001b[0m\u001b[0;34m\u001b[0m\u001b[0m\n\u001b[0m\u001b[1;32m    268\u001b[0m                 \u001b[0;32melse\u001b[0m\u001b[0;34m:\u001b[0m\u001b[0;34m\u001b[0m\u001b[0;34m\u001b[0m\u001b[0m\n\u001b[1;32m    269\u001b[0m                     \u001b[0;32mfrom\u001b[0m \u001b[0mAcquire\u001b[0m\u001b[0;34m.\u001b[0m\u001b[0mService\u001b[0m \u001b[0;32mimport\u001b[0m \u001b[0mRemoteFunctionCallError\u001b[0m\u001b[0;34m\u001b[0m\u001b[0;34m\u001b[0m\u001b[0m\n",
      "\u001b[0;32m/home/home/gar/Documents/Devel/RSE/acquire/Acquire/Service/_function.py\u001b[0m in \u001b[0;36m_unpack_and_raise\u001b[0;34m(function, service, exdata)\u001b[0m\n\u001b[1;32m    401\u001b[0m             (function, service, _exception_to_string(e), exdata))\n\u001b[1;32m    402\u001b[0m \u001b[0;34m\u001b[0m\u001b[0m\n\u001b[0;32m--> 403\u001b[0;31m     \u001b[0;32mraise\u001b[0m \u001b[0mex\u001b[0m\u001b[0;34m\u001b[0m\u001b[0;34m\u001b[0m\u001b[0m\n\u001b[0m\u001b[1;32m    404\u001b[0m \u001b[0;34m\u001b[0m\u001b[0m\n\u001b[1;32m    405\u001b[0m \u001b[0;34m\u001b[0m\u001b[0m\n",
      "\u001b[0;32m/function/python_modules/admin/handler.py\u001b[0m in \u001b[0;36m_base_handler\u001b[0;34m()\u001b[0m\n",
      "\u001b[0;32m/function/python_modules/Acquire/Service/_function.py\u001b[0m in \u001b[0;36munpack_arguments\u001b[0;34m()\u001b[0m\n",
      "\u001b[0;32m/function/python_modules/Acquire/Service/_function.py\u001b[0m in \u001b[0;36m_get_key\u001b[0;34m()\u001b[0m\n",
      "\u001b[0;32m/function/python_modules/Acquire/Service/_service_account.py\u001b[0m in \u001b[0;36mget_service_private_key\u001b[0;34m()\u001b[0m\n",
      "\u001b[0;31mServiceAccountError\u001b[0m: Error calling 'None' on 'https://hugs.acquire-aaai.com/t/identity': Cannot find a private key for 'IdentityService(url=hugs.acquire-aaai.com/t/identity, uid=a0-a6)' that matches the fingerprint 25:bc:5a:95:70:3a:c0:1c:48:14:f1:c1:df:dc:fe:a2. This is either because you are using a key that is too old or you are requesting a wrong key. Please call refresh_keys on your Service object and try again: Cannot find a key or certificate with fingerprint '25:bc:5a:95:70:3a:c0:1c:48:14:f1:c1:df:dc:fe:a2' : _service_key/oldkeys/fingerprints/25:bc:5a:95:70:3a:c0:1c:48:14:f1:c1:df:dc:fe:a2"
     ]
    }
   ],
   "source": [
    "response = user.request_login()"
   ]
  },
  {
   "cell_type": "code",
   "execution_count": null,
   "metadata": {},
   "outputs": [
    {
     "data": {
      "image/png": "[encoded data removed]",
      "text/plain": [
       "<qrcode.image.pil.PilImage at 0x7ff6e2a69908>"
      ]
     },
     "execution_count": null,
     "metadata": {},
     "output_type": "execute_result"
    }
   ],
   "source": [
    "from Acquire.Client import create_qrcode\n",
    "create_qrcode(response[\"login_url\"])"
   ]
  },
  {
   "cell_type": "code",
   "execution_count": null,
   "metadata": {},
   "outputs": [
    {
     "data": {
      "text/plain": [
       "True"
      ]
     },
     "execution_count": null,
     "metadata": {},
     "output_type": "execute_result"
    }
   ],
   "source": [
    "user.wait_for_login()"
   ]
  },
  {
   "cell_type": "markdown",
   "metadata": {},
   "source": [
    "Next create the credentials used to connect to the storage service to create/get a drive"
   ]
  },
  {
   "cell_type": "code",
   "execution_count": null,
   "metadata": {},
   "outputs": [],
   "source": [
    "creds = StorageCreds(user=user, service_url=\"%s/storage\" % base_url)"
   ]
  },
  {
   "cell_type": "markdown",
   "metadata": {},
   "source": [
    "The below line will give you a handle to a drive called 'test_drive' - this will be automatically created if it doesn't exist"
   ]
  },
  {
   "cell_type": "code",
   "execution_count": null,
   "metadata": {},
   "outputs": [],
   "source": [
    "drive = Drive(creds=creds, name=\"test_drive\")"
   ]
  },
  {
   "cell_type": "markdown",
   "metadata": {},
   "source": [
    "Next, we upload a file to this drive. This returns the metadata about the file, from which we can get the universally-resolvable file location"
   ]
  },
  {
   "cell_type": "code",
   "execution_count": null,
   "metadata": {},
   "outputs": [
    {
     "ename": "RequestBucketError",
     "evalue": "Error calling 'upload' on 'https://hugs.acquire-aaai.com/t/storage': Unable to open the bucket 'user_files': name 'STORAGE_COMPARTMENT' is not defined",
     "output_type": "error",
     "traceback": [
      "\u001b[0;31m---------------------------------\u001b[0m",
      "\u001b[0;31mRequestBucketError\u001b[0mTraceback (most recent call last)",
      "\u001b[0;32m<ipython-input-21-a5eff83ccbc7>\u001b[0m in \u001b[0;36m<module>\u001b[0;34m\u001b[0m\n\u001b[0;32m----> 1\u001b[0;31m \u001b[0mfilemeta\u001b[0m \u001b[0;34m=\u001b[0m \u001b[0mdrive\u001b[0m\u001b[0;34m.\u001b[0m\u001b[0mupload\u001b[0m\u001b[0;34m(\u001b[0m\u001b[0;34m\"test_file.txt\"\u001b[0m\u001b[0;34m)\u001b[0m\u001b[0;34m\u001b[0m\u001b[0;34m\u001b[0m\u001b[0m\n\u001b[0m",
      "\u001b[0;32m~/Documents/Devel/acquire/Acquire/Client/_drive.py\u001b[0m in \u001b[0;36mupload\u001b[0;34m(self, filename, dir, uploaded_name, aclrules, force_par)\u001b[0m\n\u001b[1;32m    249\u001b[0m             return filemeta.open().upload(filename=filename,\n\u001b[1;32m    250\u001b[0m                                           \u001b[0mforce_par\u001b[0m\u001b[0;34m=\u001b[0m\u001b[0mforce_par\u001b[0m\u001b[0;34m,\u001b[0m\u001b[0;34m\u001b[0m\u001b[0;34m\u001b[0m\u001b[0m\n\u001b[0;32m--> 251\u001b[0;31m                                           aclrules=aclrules)\n\u001b[0m\u001b[1;32m    252\u001b[0m \u001b[0;34m\u001b[0m\u001b[0m\n\u001b[1;32m    253\u001b[0m     def chunk_download(self, filename, dir=None, download_name=None,\n",
      "\u001b[0;32m~/Documents/Devel/acquire/Acquire/Client/_file.py\u001b[0m in \u001b[0;36mupload\u001b[0;34m(self, filename, force_par, aclrules)\u001b[0m\n\u001b[1;32m    205\u001b[0m \u001b[0;34m\u001b[0m\u001b[0m\n\u001b[1;32m    206\u001b[0m             response = storage_service.call_function(\n\u001b[0;32m--> 207\u001b[0;31m                                     function=\"upload\", args=args)\n\u001b[0m\u001b[1;32m    208\u001b[0m \u001b[0;34m\u001b[0m\u001b[0m\n\u001b[1;32m    209\u001b[0m             \u001b[0mfilemeta\u001b[0m \u001b[0;34m=\u001b[0m \u001b[0m_FileMeta\u001b[0m\u001b[0;34m.\u001b[0m\u001b[0mfrom_data\u001b[0m\u001b[0;34m(\u001b[0m\u001b[0mresponse\u001b[0m\u001b[0;34m[\u001b[0m\u001b[0;34m\"filemeta\"\u001b[0m\u001b[0;34m]\u001b[0m\u001b[0;34m)\u001b[0m\u001b[0;34m\u001b[0m\u001b[0;34m\u001b[0m\u001b[0m\n",
      "\u001b[0;32m~/Documents/Devel/acquire/Acquire/Service/_service.py\u001b[0m in \u001b[0;36mcall_function\u001b[0;34m(self, function, args)\u001b[0m\n\u001b[1;32m    850\u001b[0m                               \u001b[0margs_key\u001b[0m\u001b[0;34m=\u001b[0m\u001b[0mself\u001b[0m\u001b[0;34m.\u001b[0m\u001b[0mpublic_key\u001b[0m\u001b[0;34m(\u001b[0m\u001b[0;34m)\u001b[0m\u001b[0;34m,\u001b[0m\u001b[0;34m\u001b[0m\u001b[0;34m\u001b[0m\u001b[0m\n\u001b[1;32m    851\u001b[0m                               \u001b[0mpublic_cert\u001b[0m\u001b[0;34m=\u001b[0m\u001b[0mself\u001b[0m\u001b[0;34m.\u001b[0m\u001b[0mpublic_certificate\u001b[0m\u001b[0;34m(\u001b[0m\u001b[0;34m)\u001b[0m\u001b[0;34m,\u001b[0m\u001b[0;34m\u001b[0m\u001b[0;34m\u001b[0m\u001b[0m\n\u001b[0;32m--> 852\u001b[0;31m                               response_key=_get_private_key(\"function\"))\n\u001b[0m\u001b[1;32m    853\u001b[0m \u001b[0;34m\u001b[0m\u001b[0m\n\u001b[1;32m    854\u001b[0m     \u001b[0;32mdef\u001b[0m \u001b[0msign\u001b[0m\u001b[0;34m(\u001b[0m\u001b[0mself\u001b[0m\u001b[0;34m,\u001b[0m \u001b[0mmessage\u001b[0m\u001b[0;34m)\u001b[0m\u001b[0;34m:\u001b[0m\u001b[0;34m\u001b[0m\u001b[0;34m\u001b[0m\u001b[0m\n",
      "\u001b[0;32m~/Documents/Devel/acquire/Acquire/Service/_function.py\u001b[0m in \u001b[0;36mcall_function\u001b[0;34m(service_url, function, args, args_key, response_key, public_cert)\u001b[0m\n\u001b[1;32m    495\u001b[0m     return unpack_return_value(return_value=result, key=response_key,\n\u001b[1;32m    496\u001b[0m                                \u001b[0mpublic_cert\u001b[0m\u001b[0;34m=\u001b[0m\u001b[0mpublic_cert\u001b[0m\u001b[0;34m,\u001b[0m\u001b[0;34m\u001b[0m\u001b[0;34m\u001b[0m\u001b[0m\n\u001b[0;32m--> 497\u001b[0;31m                                function=function, service=service_url)\n\u001b[0m",
      "\u001b[0;32m~/Documents/Devel/acquire/Acquire/Service/_function.py\u001b[0m in \u001b[0;36munpack_return_value\u001b[0;34m(return_value, key, public_cert, function, service)\u001b[0m\n\u001b[1;32m    349\u001b[0m     return unpack_arguments(return_value, key=key, public_cert=public_cert,\n\u001b[1;32m    350\u001b[0m                             \u001b[0mis_return_value\u001b[0m\u001b[0;34m=\u001b[0m\u001b[0;32mTrue\u001b[0m\u001b[0;34m,\u001b[0m \u001b[0mfunction\u001b[0m\u001b[0;34m=\u001b[0m\u001b[0mfunction\u001b[0m\u001b[0;34m,\u001b[0m\u001b[0;34m\u001b[0m\u001b[0;34m\u001b[0m\u001b[0m\n\u001b[0;32m--> 351\u001b[0;31m                             service=service)\n\u001b[0m\u001b[1;32m    352\u001b[0m \u001b[0;34m\u001b[0m\u001b[0m\n\u001b[1;32m    353\u001b[0m \u001b[0;34m\u001b[0m\u001b[0m\n",
      "\u001b[0;32m~/Documents/Devel/acquire/Acquire/Service/_function.py\u001b[0m in \u001b[0;36munpack_arguments\u001b[0;34m(args, key, public_cert, is_return_value, function, service)\u001b[0m\n\u001b[1;32m    320\u001b[0m         return unpack_arguments(decrypted_data,\n\u001b[1;32m    321\u001b[0m                                 \u001b[0mis_return_value\u001b[0m\u001b[0;34m=\u001b[0m\u001b[0mis_return_value\u001b[0m\u001b[0;34m,\u001b[0m\u001b[0;34m\u001b[0m\u001b[0;34m\u001b[0m\u001b[0m\n\u001b[0;32m--> 322\u001b[0;31m                                 function=function, service=service)\n\u001b[0m\u001b[1;32m    323\u001b[0m \u001b[0;34m\u001b[0m\u001b[0m\n\u001b[1;32m    324\u001b[0m     \u001b[0;32mif\u001b[0m \u001b[0mpayload\u001b[0m \u001b[0;32mis\u001b[0m \u001b[0;32mNone\u001b[0m\u001b[0;34m:\u001b[0m\u001b[0;34m\u001b[0m\u001b[0;34m\u001b[0m\u001b[0m\n",
      "\u001b[0;32m~/Documents/Devel/acquire/Acquire/Service/_function.py\u001b[0m in \u001b[0;36munpack_arguments\u001b[0;34m(args, key, public_cert, is_return_value, function, service)\u001b[0m\n\u001b[1;32m    265\u001b[0m             \u001b[0;32mif\u001b[0m \u001b[0mpayload\u001b[0m\u001b[0;34m[\u001b[0m\u001b[0;34m\"status\"\u001b[0m\u001b[0;34m]\u001b[0m \u001b[0;34m!=\u001b[0m \u001b[0;36m0\u001b[0m\u001b[0;34m:\u001b[0m\u001b[0;34m\u001b[0m\u001b[0;34m\u001b[0m\u001b[0m\n\u001b[1;32m    266\u001b[0m                 \u001b[0;32mif\u001b[0m \u001b[0;34m\"exception\"\u001b[0m \u001b[0;32min\u001b[0m \u001b[0mpayload\u001b[0m\u001b[0;34m:\u001b[0m\u001b[0;34m\u001b[0m\u001b[0;34m\u001b[0m\u001b[0m\n\u001b[0;32m--> 267\u001b[0;31m                     \u001b[0m_unpack_and_raise\u001b[0m\u001b[0;34m(\u001b[0m\u001b[0mfunction\u001b[0m\u001b[0;34m,\u001b[0m \u001b[0mservice\u001b[0m\u001b[0;34m,\u001b[0m \u001b[0mpayload\u001b[0m\u001b[0;34m[\u001b[0m\u001b[0;34m\"exception\"\u001b[0m\u001b[0;34m]\u001b[0m\u001b[0;34m)\u001b[0m\u001b[0;34m\u001b[0m\u001b[0;34m\u001b[0m\u001b[0m\n\u001b[0m\u001b[1;32m    268\u001b[0m                 \u001b[0;32melse\u001b[0m\u001b[0;34m:\u001b[0m\u001b[0;34m\u001b[0m\u001b[0;34m\u001b[0m\u001b[0m\n\u001b[1;32m    269\u001b[0m                     \u001b[0;32mfrom\u001b[0m \u001b[0mAcquire\u001b[0m\u001b[0;34m.\u001b[0m\u001b[0mService\u001b[0m \u001b[0;32mimport\u001b[0m \u001b[0mRemoteFunctionCallError\u001b[0m\u001b[0;34m\u001b[0m\u001b[0;34m\u001b[0m\u001b[0m\n",
      "\u001b[0;32m~/Documents/Devel/acquire/Acquire/Service/_function.py\u001b[0m in \u001b[0;36m_unpack_and_raise\u001b[0;34m(function, service, exdata)\u001b[0m\n\u001b[1;32m    401\u001b[0m             (function, service, _exception_to_string(e), exdata))\n\u001b[1;32m    402\u001b[0m \u001b[0;34m\u001b[0m\u001b[0m\n\u001b[0;32m--> 403\u001b[0;31m     \u001b[0;32mraise\u001b[0m \u001b[0mex\u001b[0m\u001b[0;34m\u001b[0m\u001b[0;34m\u001b[0m\u001b[0m\n\u001b[0m\u001b[1;32m    404\u001b[0m \u001b[0;34m\u001b[0m\u001b[0m\n\u001b[1;32m    405\u001b[0m \u001b[0;34m\u001b[0m\u001b[0m\n",
      "\u001b[0;32m/function/python_modules/admin/handler.py\u001b[0m in \u001b[0;36m_base_handler\u001b[0;34m()\u001b[0m\n",
      "\u001b[0;32m/function/python_modules/admin/handler.py\u001b[0m in \u001b[0;36m_handle\u001b[0;34m()\u001b[0m\n",
      "\u001b[0;32m/function/python_modules/admin/handler.py\u001b[0m in \u001b[0;36m_route_function\u001b[0;34m()\u001b[0m\n",
      "\u001b[0;32mroute.py\u001b[0m in \u001b[0;36mstorage_functions\u001b[0;34m()\u001b[0m\n",
      "\u001b[0;32m/function/python_modules/storage/upload.py\u001b[0m in \u001b[0;36mrun\u001b[0;34m()\u001b[0m\n",
      "\u001b[0;32m/function/python_modules/Acquire/Storage/_driveinfo.py\u001b[0m in \u001b[0;36mupload\u001b[0;34m()\u001b[0m\n",
      "\u001b[0;32m/function/python_modules/Acquire/Storage/_driveinfo.py\u001b[0m in \u001b[0;36m_get_file_bucket\u001b[0;34m()\u001b[0m\n",
      "\u001b[0;31mRequestBucketError\u001b[0m: Error calling 'upload' on 'https://hugs.acquire-aaai.com/t/storage': Unable to open the bucket 'user_files': name 'STORAGE_COMPARTMENT' is not defined"
     ]
    }
   ],
   "source": [
    "filemeta = drive.upload(\"test_file.txt\")"
   ]
  },
  {
   "cell_type": "code",
   "execution_count": null,
   "metadata": {},
   "outputs": [],
   "source": [
    "filemeta.location()"
   ]
  },
  {
   "cell_type": "markdown",
   "metadata": {},
   "source": [
    "Create a pre-authenticated request that can grant temporary access to this file to whoever holds a copy. This PAR is for a specified location, and grants access with the same permissions as the passed user (defaults to read-only)"
   ]
  },
  {
   "cell_type": "code",
   "execution_count": null,
   "metadata": {},
   "outputs": [],
   "source": [
    "par = PAR(location=filemeta.location(), user=user)"
   ]
  },
  {
   "cell_type": "code",
   "execution_count": null,
   "metadata": {},
   "outputs": [],
   "source": [
    "par.to_data()"
   ]
  },
  {
   "cell_type": "markdown",
   "metadata": {},
   "source": [
    "Now get a handle to the HUGS service."
   ]
  },
  {
   "cell_type": "code",
   "execution_count": null,
   "metadata": {},
   "outputs": [],
   "source": [
    "hugs = Service(service_url=\"%s/hugs\" % base_url)"
   ]
  },
  {
   "cell_type": "markdown",
   "metadata": {},
   "source": [
    "We will create an authorisation to call the 'hello' function. We will pass this, together with the PAR to the 'hello' function. The PAR is protected with an internal secret. To share this, we need to encrypt the secret using the hugs service and send that too. Only the hugs service is capable of decrypting the resulting 'par_secret'"
   ]
  },
  {
   "cell_type": "code",
   "execution_count": null,
   "metadata": {},
   "outputs": [],
   "source": [
    "auth = Authorisation(resource=\"hello\", user=user)"
   ]
  },
  {
   "cell_type": "code",
   "execution_count": null,
   "metadata": {},
   "outputs": [],
   "source": [
    "par_secret = hugs.encrypt_data(par.secret())"
   ]
  },
  {
   "cell_type": "code",
   "execution_count": null,
   "metadata": {},
   "outputs": [],
   "source": [
    "args = {\"authorisation\": auth.to_data(),\n",
    "        \"file_par\": par.to_data(),\n",
    "        \"par_secret\": par_secret}"
   ]
  },
  {
   "cell_type": "markdown",
   "metadata": {},
   "source": [
    "Finally(!) we can call the function. This will say hello, and will also download the passed file and return its contents to us in 'response'"
   ]
  },
  {
   "cell_type": "code",
   "execution_count": null,
   "metadata": {},
   "outputs": [],
   "source": [
    "response = hugs.call_function(function=\"hello\", args=args)"
   ]
  },
  {
   "cell_type": "code",
   "execution_count": null,
   "metadata": {},
   "outputs": [],
   "source": [
    "response"
   ]
  },
  {
   "cell_type": "markdown",
   "metadata": {},
   "source": [
    "The code that performs the \"hello\" function is copied below;\n",
    "\n",
    "```python\n",
    "from Acquire.Client import Authorisation, PAR\n",
    "from Acquire.Service import get_this_service\n",
    "\n",
    "\n",
    "def hello(args):\n",
    "    try:\n",
    "        name = args[\"name\"]\n",
    "    except:\n",
    "        name = \"World\"\n",
    "\n",
    "    try:\n",
    "        authorisation = Authorisation.from_data(args[\"authorisation\"])\n",
    "    except:\n",
    "        authorisation = None\n",
    "\n",
    "    try:\n",
    "        par = PAR.from_data(args[\"file_par\"])\n",
    "    except:\n",
    "        par = None\n",
    "\n",
    "    try:\n",
    "        par_secret = args[\"par_secret\"]\n",
    "    except:\n",
    "        par_secret = None\n",
    "\n",
    "    if authorisation:\n",
    "        authorisation.verify(\"hello\")\n",
    "        name = \"%s [authorised]\" % authorisation.user_guid()\n",
    "\n",
    "    if name == \"no-one\":\n",
    "        raise PermissionError(\n",
    "            \"You cannot say hello to no-one!\")\n",
    "\n",
    "    greeting = \"Hello %s\" % name\n",
    "\n",
    "    result = {\"greeting\": greeting}\n",
    "\n",
    "    if par:\n",
    "        # we need the hugs service with private access so that\n",
    "        # we can decrypt the par_secret\n",
    "        hugs = get_this_service(need_private_access=True)\n",
    "        par_secret = hugs.decrypt_data(par_secret)\n",
    "\n",
    "        # resolve the par to get the underlying file\n",
    "        # (note that pars can be for files or directories)\n",
    "        file = par.resolve(secret=par_secret)\n",
    "        result[\"file\"] = str(file)\n",
    "\n",
    "        # now download the file to the /tmp directory - this will\n",
    "        # time out if you don't specify the directory as the current\n",
    "        # directory is read-only - the return value is the actual\n",
    "        # name of the file that has been downloaded\n",
    "        filename = file.download(dir=\"/tmp\")\n",
    "        result[\"filename\"] = filename\n",
    "\n",
    "        # here I am just reading the file to return it to you,\n",
    "        # just to show that the file was correctly uploaded\n",
    "        lines = open(filename).readlines()\n",
    "        result[\"uploaded\"] = lines\n",
    "\n",
    "    return result\n",
    "```\n",
    "\n",
    "Always remember to log out from the user at the end of the notebook. User's will auto-logout on destruction, and will also log out after a period of time, but it is still good practice"
   ]
  },
  {
   "cell_type": "code",
   "execution_count": null,
   "metadata": {},
   "outputs": [],
   "source": [
    "user.logout()"
   ]
  },
  {
   "cell_type": "code",
   "execution_count": null,
   "metadata": {},
   "outputs": [],
   "source": []
  },
  {
   "cell_type": "code",
   "execution_count": null,
   "metadata": {},
   "outputs": [],
   "source": []
  },
  {
   "cell_type": "code",
   "execution_count": null,
   "metadata": {},
   "outputs": [],
   "source": []
  },
  {
   "cell_type": "code",
   "execution_count": null,
   "metadata": {},
   "outputs": [],
   "source": []
  },
  {
   "cell_type": "code",
   "execution_count": null,
   "metadata": {},
   "outputs": [],
   "source": []
  },
  {
   "cell_type": "code",
   "execution_count": null,
   "metadata": {},
   "outputs": [],
   "source": []
  },
  {
   "cell_type": "code",
   "execution_count": null,
   "metadata": {},
   "outputs": [],
   "source": []
  }
 ],
 "metadata": {
  "kernelspec": {
   "display_name": "Python 3",
   "language": "python",
   "name": "python3"
  }
 },
 "nbformat": 4,
 "nbformat_minor": 2
}
