{
 "cells": [
  {
   "cell_type": "markdown",
   "metadata": {},
   "source": [
    "Demonstration notebook to show how to upload files to a Drive, and then how to call hugs functions that could process those files subject to user authorisation"
   ]
  },
  {
   "cell_type": "code",
   "execution_count": null,
   "metadata": {},
   "outputs": [],
   "source": [
    "import sys\n",
    "sys.path.insert(0, \"../../../acquire\")"
   ]
  },
  {
   "cell_type": "code",
   "execution_count": null,
   "metadata": {},
   "outputs": [],
   "source": [
    "from Acquire.Client import User, Drive, Service, StorageCreds, PAR, Authorisation"
   ]
  },
  {
   "cell_type": "code",
   "execution_count": null,
   "metadata": {},
   "outputs": [],
   "source": [
    "base_url = \"https://hugs.acquire-aaai.com/t\""
   ]
  },
  {
   "cell_type": "markdown",
   "metadata": {},
   "source": [
    "First, login as a valid hugs user..."
   ]
  },
  {
   "cell_type": "code",
   "execution_count": null,
   "metadata": {},
   "outputs": [],
   "source": [
    "user = User(username=\"gareth\", identity_url=\"%s/identity\" % base_url)"
   ]
  },
  {
   "cell_type": "code",
   "execution_count": null,
   "metadata": {},
   "outputs": [
    {
     "name": "stdout",
     "output_type": "stream",
     "text": [
      "Login by visiting: https://login.acquire-aaai.com?id=a0-a6/31.74.32.ba\n",
      "(please check that this page displays the message 'fluffy mice run quickly')\n"
     ]
    }
   ],
   "source": [
    "response = user.request_login()"
   ]
  },
  {
   "cell_type": "code",
   "execution_count": null,
   "metadata": {},
   "outputs": [],
   "source": [
    "from Acquire.Client import create_qrcode\n",
    "create_qrcode(response[\"login_url\"])"
   ]
  },
  {
   "cell_type": "code",
   "execution_count": null,
   "metadata": {},
   "outputs": [
    {
     "data": {
      "text/plain": [
       "True"
      ]
     },
     "execution_count": null,
     "metadata": {},
     "output_type": "execute_result"
    }
   ],
   "source": [
    "user.wait_for_login()"
   ]
  },
  {
   "cell_type": "markdown",
   "metadata": {},
   "source": [
    "Next create the credentials used to connect to the storage service to create/get a drive"
   ]
  },
  {
   "cell_type": "code",
   "execution_count": null,
   "metadata": {},
   "outputs": [],
   "source": [
    "creds = StorageCreds(user=user, service_url=\"%s/storage\" % base_url)"
   ]
  },
  {
   "cell_type": "markdown",
   "metadata": {},
   "source": [
    "The below line will give you a handle to a drive called 'test_drive' - this will be automatically created if it doesn't exist"
   ]
  },
  {
   "cell_type": "code",
   "execution_count": null,
   "metadata": {},
   "outputs": [],
   "source": [
    "drive = Drive(creds=creds, name=\"test_drive\")"
   ]
  },
  {
   "cell_type": "markdown",
   "metadata": {},
   "source": [
    "Next, we upload a file to this drive. This returns the metadata about the file, from which we can get the universally-resolvable file location"
   ]
  },
  {
   "cell_type": "code",
   "execution_count": null,
   "metadata": {},
   "outputs": [],
   "source": [
    "filemeta = drive.upload(\"test_file.txt\")"
   ]
  },
  {
   "cell_type": "code",
   "execution_count": null,
   "metadata": {},
   "outputs": [
    {
     "data": {
      "text/plain": [
       "acquire_file://a561b6b2-05f0-4729-b16d-31345344178a@a0-b1/dGVzdF9maWxlLnR4dA==/2019-07-12T15:37:26.770663/ba90bc71"
      ]
     },
     "execution_count": null,
     "metadata": {},
     "output_type": "execute_result"
    }
   ],
   "source": [
    "filemeta.location()"
   ]
  },
  {
   "cell_type": "markdown",
   "metadata": {},
   "source": [
    "Create a pre-authenticated request that can grant temporary access to this file to whoever holds a copy. This PAR is for a specified location, and grants access with the same permissions as the passed user (defaults to read-only)"
   ]
  },
  {
   "cell_type": "code",
   "execution_count": null,
   "metadata": {},
   "outputs": [],
   "source": [
    "par = PAR(location=filemeta.location(), user=user)"
   ]
  },
  {
   "cell_type": "code",
   "execution_count": null,
   "metadata": {},
   "outputs": [
    {
     "data": {
      "text/plain": [
       "{'location': {'drive_guid': 'a561b6b2-05f0-4729-b16d-31345344178a@a0-b1',\n",
       "  'encoded_filename': 'dGVzdF9maWxlLnR4dA==',\n",
       "  'version': '2019-07-12T15:37:26.770663/ba90bc71'},\n",
       " 'aclrule': 'reader',\n",
       " 'expires_datetime': '2019-07-13T15:37:28.573669',\n",
       " 'uid': 'a44520d1-b4b1-4471-928c-101fabaf25ec'}"
      ]
     },
     "execution_count": null,
     "metadata": {},
     "output_type": "execute_result"
    }
   ],
   "source": [
    "par.to_data()"
   ]
  },
  {
   "cell_type": "markdown",
   "metadata": {},
   "source": [
    "Now get a handle to the HUGS service."
   ]
  },
  {
   "cell_type": "code",
   "execution_count": null,
   "metadata": {},
   "outputs": [],
   "source": [
    "hugs = Service(service_url=\"%s/hugs\" % base_url)"
   ]
  },
  {
   "cell_type": "markdown",
   "metadata": {},
   "source": [
    "We will create an authorisation to call the 'hello' function. We will pass this, together with the PAR to the 'hello' function. The PAR is protected with an internal secret. To share this, we need to encrypt the secret using the hugs service and send that too. Only the hugs service is capable of decrypting the resulting 'par_secret'"
   ]
  },
  {
   "cell_type": "code",
   "execution_count": null,
   "metadata": {},
   "outputs": [],
   "source": [
    "auth = Authorisation(resource=\"hello\", user=user)"
   ]
  },
  {
   "cell_type": "code",
   "execution_count": null,
   "metadata": {},
   "outputs": [],
   "source": [
    "par_secret = hugs.encrypt_data(par.secret())"
   ]
  },
  {
   "cell_type": "code",
   "execution_count": null,
   "metadata": {},
   "outputs": [],
   "source": [
    "args = {\"authorisation\": auth.to_data(),\n",
    "        \"file_par\": par.to_data(),\n",
    "        \"par_secret\": par_secret}"
   ]
  },
  {
   "cell_type": "markdown",
   "metadata": {},
   "source": [
    "Finally(!) we can call the function. This will say hello, and will also download the passed file and return its contents to us in 'response'"
   ]
  },
  {
   "cell_type": "code",
   "execution_count": null,
   "metadata": {},
   "outputs": [],
   "source": [
    "response = hugs.call_function(function=\"hello\", args=args)"
   ]
  },
  {
   "cell_type": "code",
   "execution_count": null,
   "metadata": {},
   "outputs": [
    {
     "data": {
      "text/plain": [
       "{'greeting': 'Hello 57d6f72f-519f-4122-8d5b-ac6463d4092d@a0-a6 [authorised]',\n",
       " 'file': \"File(name='test_file.txt')\",\n",
       " 'filename': '/tmp/test_file.txt',\n",
       " 'uploaded': ['This is a test file\\n', '\\n']}"
      ]
     },
     "execution_count": null,
     "metadata": {},
     "output_type": "execute_result"
    }
   ],
   "source": [
    "response"
   ]
  },
  {
   "cell_type": "markdown",
   "metadata": {},
   "source": [
    "The code that performs the \"hello\" function is copied below;\n",
    "\n",
    "```python\n",
    "from Acquire.Client import Authorisation, PAR\n",
    "from Acquire.Service import get_this_service\n",
    "\n",
    "\n",
    "def hello(args):\n",
    "    try:\n",
    "        name = args[\"name\"]\n",
    "    except:\n",
    "        name = \"World\"\n",
    "\n",
    "    try:\n",
    "        authorisation = Authorisation.from_data(args[\"authorisation\"])\n",
    "    except:\n",
    "        authorisation = None\n",
    "\n",
    "    try:\n",
    "        par = PAR.from_data(args[\"file_par\"])\n",
    "    except:\n",
    "        par = None\n",
    "\n",
    "    try:\n",
    "        par_secret = args[\"par_secret\"]\n",
    "    except:\n",
    "        par_secret = None\n",
    "\n",
    "    if authorisation:\n",
    "        authorisation.verify(\"hello\")\n",
    "        name = \"%s [authorised]\" % authorisation.user_guid()\n",
    "\n",
    "    if name == \"no-one\":\n",
    "        raise PermissionError(\n",
    "            \"You cannot say hello to no-one!\")\n",
    "\n",
    "    greeting = \"Hello %s\" % name\n",
    "\n",
    "    result = {\"greeting\": greeting}\n",
    "\n",
    "    if par:\n",
    "        # we need the hugs service with private access so that\n",
    "        # we can decrypt the par_secret\n",
    "        hugs = get_this_service(need_private_access=True)\n",
    "        par_secret = hugs.decrypt_data(par_secret)\n",
    "\n",
    "        # resolve the par to get the underlying file\n",
    "        # (note that pars can be for files or directories)\n",
    "        file = par.resolve(secret=par_secret)\n",
    "        result[\"file\"] = str(file)\n",
    "\n",
    "        # now download the file to the /tmp directory - this will\n",
    "        # time out if you don't specify the directory as the current\n",
    "        # directory is read-only - the return value is the actual\n",
    "        # name of the file that has been downloaded\n",
    "        filename = file.download(dir=\"/tmp\")\n",
    "        result[\"filename\"] = filename\n",
    "\n",
    "        # here I am just reading the file to return it to you,\n",
    "        # just to show that the file was correctly uploaded\n",
    "        lines = open(filename).readlines()\n",
    "        result[\"uploaded\"] = lines\n",
    "\n",
    "    return result\n",
    "```\n",
    "\n",
    "Always remember to log out from the user at the end of the notebook. User's will auto-logout on destruction, and will also log out after a period of time, but it is still good practice"
   ]
  },
  {
   "cell_type": "code",
   "execution_count": null,
   "metadata": {},
   "outputs": [],
   "source": [
    "user.logout()"
   ]
  },
  {
   "cell_type": "code",
   "execution_count": null,
   "metadata": {},
   "outputs": [],
   "source": []
  }
 ],
 "metadata": {
  "kernelspec": {
   "display_name": "Python 3",
   "language": "python",
   "name": "python3"
  }
 },
 "nbformat": 4,
 "nbformat_minor": 2
}
