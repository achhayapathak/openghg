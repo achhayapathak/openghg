{
 "cells": [
  {
   "cell_type": "code",
   "execution_count": null,
   "metadata": {},
   "outputs": [],
   "source": [
    "import os\n",
    "import sys\n",
    "sys.path.insert(0, \"../..\")\n",
    "sys.path.insert(0, \"../../../acquire\")\n",
    "import ipywidgets as widgets\n",
    "\n",
    "from HUGS.Processing import search\n",
    "\n",
    "from Acquire.Client import User, Drive, Service, PAR, Authorisation, StorageCreds"
   ]
  },
  {
   "cell_type": "code",
   "execution_count": null,
   "metadata": {},
   "outputs": [],
   "source": [
    "# Autoreload modules before executing code, useful during development\n",
    "%load_ext autoreload\n",
    "%autoreload 2"
   ]
  },
  {
   "cell_type": "markdown",
   "metadata": {},
   "source": [
    "## Start with uploading and processing of the data"
   ]
  },
  {
   "cell_type": "code",
   "execution_count": null,
   "metadata": {},
   "outputs": [
    {
     "name": "stdout",
     "output_type": "stream",
     "text": [
      "Login by visiting: https://login.acquire-aaai.com?id=a0-a6/46.8f.b5.ff\n",
      "(please check that this page displays the message 'big sheep climb quickly')\n"
     ]
    }
   ],
   "source": [
    "base_url = \"https://hugs.acquire-aaai.com/t\"\n",
    "hugs_url = \"https://hugs.acquire-aaai.com\"\n",
    "user = User(username=\"gareth\", identity_url=\"%s/identity\" % base_url)\n",
    "response = user.request_login()"
   ]
  },
  {
   "cell_type": "markdown",
   "metadata": {},
   "source": [
    "Check we're logged in"
   ]
  },
  {
   "cell_type": "code",
   "execution_count": null,
   "metadata": {},
   "outputs": [
    {
     "data": {
      "text/plain": [
       "True"
      ]
     },
     "execution_count": null,
     "metadata": {},
     "output_type": "execute_result"
    }
   ],
   "source": [
    "user.wait_for_login()"
   ]
  },
  {
   "cell_type": "code",
   "execution_count": null,
   "metadata": {},
   "outputs": [],
   "source": [
    "filename = \"bsd.picarro.1minute.248m.dat\"\n",
    "dir_path = os.path.abspath(\"\")\n",
    "test_data = \"../../test/data/proc_test_data/CRDS\"\n",
    "filepath = os.path.join(dir_path, test_data, filename)\n",
    "\n",
    "hugs = Service(service_url=\"%s/hugs\" % base_url)\n",
    "\n",
    "creds = StorageCreds(user=user, service_url=\"%s/storage\" % base_url)\n",
    "drive = Drive(creds=creds, name=\"test_drive\")\n",
    "filemeta = drive.upload(filepath)\n",
    "par = PAR(location=filemeta.location(), user=user)\n",
    "\n",
    "par_secret = hugs.encrypt_data(par.secret())\n",
    "auth = Authorisation(resource=\"process\", user=user)"
   ]
  },
  {
   "cell_type": "code",
   "execution_count": null,
   "metadata": {},
   "outputs": [],
   "source": [
    "def upload_file(authenticated_user, filepath):\n",
    "    \"\"\" Upload a file to the object store\n",
    "    \n",
    "        Args:\n",
    "            filepath (str): Path to file to upload\n",
    "        Returns:\n",
    "            None    \n",
    "    \"\"\"\n",
    "    creds = StorageCreds(user=authenticated_user, service_url=\"%s/storage\" % base_url)\n",
    "    drive = Drive(creds=creds, name=\"test_drive\")\n",
    "    filemeta = drive.upload(filepath)\n",
    "    par = PAR(location=filemeta.location(), user=user)\n",
    "\n",
    "    par_secret = hugs.encrypt_data(par.secret())\n",
    "    auth = Authorisation(resource=\"process\", user=user)"
   ]
  },
  {
   "cell_type": "code",
   "execution_count": null,
   "metadata": {},
   "outputs": [],
   "source": [
    "def get_CRDS_path(filename):\n",
    "    dir_path = os.path.abspath(\"\")\n",
    "    test_data = \"../../test/data/proc_test_data/CRDS\"\n",
    "    return os.path.join(dir_path, test_data, filename)"
   ]
  },
  {
   "cell_type": "markdown",
   "metadata": {},
   "source": [
    "### Upload files for processing\n"
   ]
  },
  {
   "cell_type": "markdown",
   "metadata": {},
   "source": [
    "Upload Bilsdale data"
   ]
  },
  {
   "cell_type": "code",
   "execution_count": null,
   "metadata": {},
   "outputs": [],
   "source": [
    "bsd_path = get_CRDS_path(\"bsd.picarro.1minute.248m.dat\")\n",
    "upload_file(authenticated_user=user, filepath=bsd_path)\n"
   ]
  },
  {
   "cell_type": "markdown",
   "metadata": {},
   "source": [
    "Clear the Datasources from CRDS and GC objects (currently Datasource UUIDs are just being randomly generated and we get multiple Datasources holding the same data)"
   ]
  },
  {
   "cell_type": "code",
   "execution_count": null,
   "metadata": {},
   "outputs": [],
   "source": [
    "response = hugs.call_function(function=\"clear_datasources\", args={})\n",
    "response"
   ]
  },
  {
   "cell_type": "code",
   "execution_count": null,
   "metadata": {},
   "outputs": [
    {
     "name": "stdout",
     "output_type": "stream",
     "text": [
      "{'bsd.picarro.1minute.248m.dat': ['9f01c316-30af-45e1-8c01-0b144ae0ccc6', 'ac0482af-cc0b-4a6a-9cf3-6777d5b66102', '4cb9e3ce-89d4-407f-85a9-63f45471e279']}\n"
     ]
    }
   ],
   "source": [
    "from HUGS.Client import Process\n",
    "\n",
    "filename = \"bsd.picarro.1minute.248m.dat\"\n",
    "filepath = get_CRDS_path(filename)\n",
    "\n",
    "processing = Process(service_url=base_url)\n",
    "result = processing.process_files(user=user, files=filepath, data_type=\"CRDS\")\n",
    "print(result)"
   ]
  },
  {
   "cell_type": "markdown",
   "metadata": {},
   "source": [
    "Upload some Heathfield data"
   ]
  },
  {
   "cell_type": "code",
   "execution_count": null,
   "metadata": {},
   "outputs": [
    {
     "name": "stdout",
     "output_type": "stream",
     "text": [
      "{'hfd.picarro.1minute.100m_min.dat': ['fbc6f867-5665-43a2-909d-2d5827252474', '1c392920-2d88-43a7-8bae-4ed6a2e46886', '2ed2fa7e-7192-4e52-996d-ecc4c4a0e009']}\n"
     ]
    }
   ],
   "source": [
    "filename = \"hfd.picarro.1minute.100m_min.dat\"\n",
    "filepath = get_CRDS_path(filename)\n",
    "result = processing.process_files(user=user, files=filepath, data_type=\"CRDS\")\n",
    "print(result)"
   ]
  },
  {
   "cell_type": "code",
   "execution_count": null,
   "metadata": {},
   "outputs": [],
   "source": [
    "from HUGS.Processing import search\n",
    "\n",
    "search_results = None\n",
    "\n",
    "search_terms = widgets.Text(\n",
    "                    value=\"\",\n",
    "                    placeholder = \"Search\",\n",
    "                    description = \"Search terms:\",\n",
    "                    disabled = False\n",
    ")\n",
    "\n",
    "locations = widgets.Text(\n",
    "                value=\"\",\n",
    "                placeholder = \"BSD, HFD\",\n",
    "                description = \"Locations:\",\n",
    "                disabled = False\n",
    ")\n",
    "\n",
    "data_type = widgets.Dropdown(\n",
    "                options=[\"CRDS\", \"GC\"], \n",
    "                value=\"CRDS\",\n",
    "                description=\"Data type\",\n",
    "                disabled=False\n",
    "    )\n",
    "\n",
    "\n",
    "\n",
    "layout=widgets.Layout(display = \"flex\", width = \"50%\")\n",
    "search_button = widgets.Button(description=\"Search\", button_style=\"success\", \\\n",
    "                               layout=widgets.Layout(flex='1 1 0%', width='25%'))\n",
    "\n",
    "start_picker = widgets.DatePicker(\n",
    "                    description='Start date',\n",
    "                    disabled=False\n",
    ")\n",
    "\n",
    "end_picker = widgets.DatePicker(\n",
    "                    description='End date',\n",
    "                    disabled=False\n",
    ")\n",
    "\n",
    "\n",
    "box = widgets.VBox(children=[search_terms, locations, start_picker, end_picker, data_type,\n",
    "                                 search_button], layout=layout)\n",
    "\n",
    "\n",
    "\n",
    "def call_search(x):\n",
    "    \"\"\" Call the search function and pass it the values \n",
    "        in the text boxes\n",
    "            \n",
    "    \"\"\"\n",
    "    from datetime import datetime\n",
    "    from Acquire.ObjectStore import datetime_to_string\n",
    "    from HUGS.Client import Search\n",
    "    start = datetime(1970, 1,1) # datetime.combine(start_picker.value, datetime.min.time())\n",
    "    end = datetime.now() # datetime.combine(end_picker.value, datetime.min.time())\n",
    "    \n",
    "    split_search_terms = search_terms.value.replace(\" \", \"\").split(\",\")\n",
    "    split_locations = locations.value.replace(\" \", \"\").split(\",\")\n",
    "    \n",
    "    global search_results\n",
    "    search = Search(service_url=base_url)\n",
    "    search_results = search.search(search_terms=split_search_terms, locations=split_locations, data_type=data_type.value, start_datetime=start, end_datetime=end)\n",
    "\n",
    "search_button.on_click(call_search)\n",
    "\n",
    "\n"
   ]
  },
  {
   "cell_type": "code",
   "execution_count": null,
   "metadata": {},
   "outputs": [
    {
     "data": {
      "application/vnd.jupyter.widget-view+json": {
       "model_id": "b2400ca3a406479a90150e4243bc9250",
       "version_major": 2,
       "version_minor": 0
      },
      "text/plain": [
       "VBox(children=(Text(value='', description='Search terms:', placeholder='Search'), Text(value='', description='…"
      ]
     },
     "metadata": {},
     "output_type": "display_data"
    },
    {
     "name": "stdout",
     "output_type": "stream",
     "text": [
      "['co', 'co2'] ['bsd']\n"
     ]
    }
   ],
   "source": [
    "box"
   ]
  },
  {
   "cell_type": "code",
   "execution_count": null,
   "metadata": {},
   "outputs": [
    {
     "name": "stdout",
     "output_type": "stream",
     "text": [
      "{'bsd_co': ['data/uuid/4cb9e3ce-89d4-407f-85a9-63f45471e279/2014-01-30T10:52:30_2014-01-30T14:20:30'], 'bsd_co2': ['data/uuid/ac0482af-cc0b-4a6a-9cf3-6777d5b66102/2014-01-30T10:52:30_2014-01-30T14:20:30']}\n"
     ]
    }
   ],
   "source": [
    "print(search_results)"
   ]
  },
  {
   "cell_type": "markdown",
   "metadata": {},
   "source": [
    "Now take the result dictionary, parse the dictionary into a blocks that can be selected by the user"
   ]
  },
  {
   "cell_type": "code",
   "execution_count": null,
   "metadata": {},
   "outputs": [],
   "source": [
    "def parse_results(results):\n",
    "    \"\"\" Split the keys into a list of each key and the date that the data covers\n",
    "        \n",
    "        Args:\n",
    "            results (dict): Dictionary of search results\n",
    "        Returns:\n",
    "            list (tuple): List of date, data key list pairs\n",
    "    \"\"\"\n",
    "    date_keys = {}\n",
    "    for key in results.keys():\n",
    "        keys = sorted(results[key])\n",
    "        start_key = keys[0]\n",
    "        end_key = keys[-1]\n",
    "        # Get the first and last dates from the keys in the search results\n",
    "        start_date = start_key.split(\"/\")[-1].split(\"_\")[0]\n",
    "        end_date = end_key.split(\"/\")[-1].split(\"_\")[-1]\n",
    "        \n",
    "        dates_covered = start_date + \"_\" + end_date\n",
    "        \n",
    "        date_keys[key] = {\"dates\": dates_covered, \"keys\": keys}\n",
    "        \n",
    "    return date_keys"
   ]
  },
  {
   "cell_type": "markdown",
   "metadata": {},
   "source": [
    "Site, gas, dates and checkbox"
   ]
  },
  {
   "cell_type": "code",
   "execution_count": null,
   "metadata": {},
   "outputs": [
    {
     "name": "stdout",
     "output_type": "stream",
     "text": [
      "{'bsd_co': {'dates': '2014-01-30T10:52:30_2014-01-30T14:20:30', 'keys': ['data/uuid/4cb9e3ce-89d4-407f-85a9-63f45471e279/2014-01-30T10:52:30_2014-01-30T14:20:30']}, 'bsd_co2': {'dates': '2014-01-30T10:52:30_2014-01-30T14:20:30', 'keys': ['data/uuid/ac0482af-cc0b-4a6a-9cf3-6777d5b66102/2014-01-30T10:52:30_2014-01-30T14:20:30']}}\n"
     ]
    }
   ],
   "source": [
    "date_keys = parse_results(search_results)\n",
    "print(date_keys)"
   ]
  },
  {
   "cell_type": "code",
   "execution_count": null,
   "metadata": {},
   "outputs": [
    {
     "data": {
      "application/vnd.jupyter.widget-view+json": {
       "model_id": "2df1d997b9f64559a5aa26b4dc795e29",
       "version_major": 2,
       "version_minor": 0
      },
      "text/plain": [
       "VBox(children=(HBox(children=(HTML(value='<b>Site</b>', layout=Layout(height='28px', min_height='28px', min_wi…"
      ]
     },
     "metadata": {},
     "output_type": "display_data"
    },
    {
     "data": {
      "application/vnd.jupyter.widget-view+json": {
       "model_id": "39bfa23dc12643ccbbc59db8a093a03a",
       "version_major": 2,
       "version_minor": 0
      },
      "text/plain": [
       "Output()"
      ]
     },
     "metadata": {},
     "output_type": "display_data"
    }
   ],
   "source": [
    "from ipywidgets import Button, ButtonStyle, Checkbox, HTML, Label, HBox, VBox\n",
    "\n",
    "table_style = {'description_width': 'initial'}\n",
    "table_layout = {'width':'100px', 'min_width':'100px', 'height':'28px', 'min_height':'28px'}\n",
    "date_layout = {'width':'275px', 'min_width':'200px', 'height':'28px', 'min_height':'28px'}\n",
    "checkbox_layout = {'width':'100px', 'min_width':'100px', 'height':'28px', 'min_height':'28px'}\n",
    "statusbar_layout = {'width':'250px', 'min_width':'250px', 'height':'28px', 'min_height':'28px'}\n",
    "\n",
    "# row_layout = {'width':'200px', 'min_width':'200px'}\n",
    "\n",
    "header_label_site = HTML(value=f\"<b>Site</b>\", layout=table_layout)\n",
    "header_label_gas = HTML(value=f\"<b>Gas</b>\", layout=table_layout)\n",
    "header_label_dates = HTML(value=f\"<b>Dates</b>\", layout=date_layout)\n",
    "header_label_select = HTML(value=f\"<b>Select</b>\", layout=checkbox_layout)\n",
    "\n",
    "checkbox_objects = []\n",
    "search_keys = []\n",
    "\n",
    "site_labels = []\n",
    "date_labels = []\n",
    "gas_labels = []\n",
    "for key in date_keys:\n",
    "    # Create the checkboxes\n",
    "    checkbox = Checkbox(value=False)\n",
    "    checkbox_objects.append(checkbox)\n",
    "    search_keys.append(key)\n",
    "    \n",
    "    dates = date_keys[key][\"dates\"].replace(\"_\", \" to \").replace(\"T\", \" \")\n",
    "    date_label = Label(value=dates, layout=date_layout)\n",
    "    \n",
    "    split_key = key.split(\"_\")\n",
    "    site_name = split_key[0].upper()\n",
    "    gas_name = split_key[1].upper()\n",
    "    \n",
    "    gas_label = Label(value=gas_name, layout=table_layout)\n",
    "    site_label = Label(value=site_name, layout=table_layout)\n",
    "\n",
    "    date_labels.append(date_label)\n",
    "    site_labels.append(site_label)\n",
    "    gas_labels.append(gas_label)\n",
    "\n",
    "    \n",
    "arg_dict = {search_keys[i]: checkbox for i, checkbox in enumerate(checkbox_objects)}\n",
    "\n",
    "header_box = HBox(children=[header_label_site, header_label_gas, header_label_dates, header_label_select])\n",
    "\n",
    "site_vbox = VBox(children=site_labels)\n",
    "gas_vbox = VBox(children=gas_labels)\n",
    "dates_vbox = VBox(children=date_labels)\n",
    "checkbox_vbox = VBox(children=checkbox_objects)\n",
    "\n",
    "dynamic_box = HBox(children=[site_vbox, gas_vbox, dates_vbox, checkbox_vbox])\n",
    "\n",
    "download_button = Button(description=\"Download\", button_style=\"success\", layout=table_layout)\n",
    "download_box = HBox(children=[download_button])\n",
    "\n",
    "status_bar = HTML(value=\"Status: Waiting...\", layout=statusbar_layout)\n",
    "\n",
    "complete = VBox(children=[header_box, dynamic_box, download_box, status_bar])\n",
    "\n",
    "selected_data = []\n",
    "def select_data(**kwargs):\n",
    "    selected_data.clear()\n",
    "    \n",
    "    for key in kwargs:\n",
    "        if kwargs[key] is True:\n",
    "            selected_data.append(key)\n",
    "\n",
    "def update_statusbar(text):\n",
    "    status_bar.value = F\"Status: {text}\"\n",
    "    \n",
    "data = None\n",
    "def download_data(args):\n",
    "    \"\"\" Download the data in the selected keys from the object store\n",
    "    \n",
    "        Args:\n",
    "            ?\n",
    "        Returns:\n",
    "            Pandas.Dataframe of selected data\n",
    "    \"\"\"\n",
    "    from HUGS.Client import Retrieve\n",
    "    from pandas import read_json as pd_read_json\n",
    "    \n",
    "    update_statusbar(\"Downloading...\")\n",
    "    \n",
    "    download_keys = {key: date_keys[key][\"keys\"] for key in selected_data}\n",
    "    \n",
    "    retrieve = Retrieve(service_url=base_url)\n",
    "    \n",
    "    global data\n",
    "    data = retrieve.retrieve(keys=download_keys)\n",
    "    \n",
    "    # Conver the JSON into Dataframes\n",
    "    for key in data:\n",
    "        data[key] = pd_read_json(data[key])\n",
    "    \n",
    "    # Update the status bar\n",
    "    if len(data) > 0:\n",
    "        update_statusbar(\"Download complete\")\n",
    "    else:\n",
    "        update_statusbar(\"No data downloaded\")\n",
    "            \n",
    "download_button.on_click(download_data)\n",
    "out = widgets.interactive_output(select_data, arg_dict)\n",
    "\n",
    "display(complete, out)"
   ]
  },
  {
   "cell_type": "code",
   "execution_count": null,
   "metadata": {},
   "outputs": [
    {
     "data": {
      "text/plain": [
       "dict_keys(['bsd_co'])"
      ]
     },
     "execution_count": null,
     "metadata": {},
     "output_type": "execute_result"
    }
   ],
   "source": [
    "data.keys()"
   ]
  },
  {
   "cell_type": "markdown",
   "metadata": {},
   "source": [
    "Retrieve the data from the object store"
   ]
  },
  {
   "cell_type": "code",
   "execution_count": null,
   "metadata": {},
   "outputs": [
    {
     "data": {
      "text/plain": [
       "['bsd_co']"
      ]
     },
     "execution_count": null,
     "metadata": {},
     "output_type": "execute_result"
    }
   ],
   "source": [
    "selected_data"
   ]
  },
  {
   "cell_type": "code",
   "execution_count": null,
   "metadata": {},
   "outputs": [
    {
     "data": {
      "text/plain": [
       "{'bsd_co':                      co count  co stdev  co n_meas\n",
       " 2014-01-30 10:52:30    204.62     6.232         26\n",
       " 2014-01-30 10:53:30    200.78     5.934         26\n",
       " 2014-01-30 10:54:30    201.54     5.176         25\n",
       " 2014-01-30 10:55:30    203.39     6.535         26\n",
       " 2014-01-30 10:56:30    201.87     6.345         25\n",
       " ...                       ...       ...        ...\n",
       " 2014-01-30 14:16:30    197.83     6.410         26\n",
       " 2014-01-30 14:17:30    197.37     6.194         25\n",
       " 2014-01-30 14:18:30    197.52     8.251         26\n",
       " 2014-01-30 14:19:30    196.92     6.031         26\n",
       " 2014-01-30 14:20:30    196.35     6.879         25\n",
       " \n",
       " [76 rows x 3 columns]}"
      ]
     },
     "execution_count": null,
     "metadata": {},
     "output_type": "execute_result"
    }
   ],
   "source": [
    "data"
   ]
  },
  {
   "cell_type": "markdown",
   "metadata": {},
   "source": [
    "Plot the data we've selected"
   ]
  },
  {
   "cell_type": "markdown",
   "metadata": {},
   "source": [
    "Select the data from the downloaded data using the checkboxes and then click plot to update the figure"
   ]
  },
  {
   "cell_type": "code",
   "execution_count": null,
   "metadata": {},
   "outputs": [
    {
     "data": {
      "application/vnd.jupyter.widget-view+json": {
       "model_id": "32e91364618e4121aa93132ca4492b4c",
       "version_major": 2,
       "version_minor": 0
      },
      "text/plain": [
       "VBox(children=(HBox(children=(HBox(children=(HTML(value='Select data: ', layout=Layout(height='28px', min_heig…"
      ]
     },
     "metadata": {},
     "output_type": "display_data"
    },
    {
     "data": {
      "application/vnd.jupyter.widget-view+json": {
       "model_id": "7491161753ae4426b167984a6a8bd9e8",
       "version_major": 2,
       "version_minor": 0
      },
      "text/plain": [
       "Output()"
      ]
     },
     "metadata": {},
     "output_type": "display_data"
    },
    {
     "data": {
      "application/vnd.jupyter.widget-view+json": {
       "model_id": "f46a4e2abf2e4c7aaa08cbeb25b6e22e",
       "version_major": 2,
       "version_minor": 0
      },
      "text/plain": [
       "Figure(axes=[Axis(label='Date', scale=DateScale()), Axis(label='Count', orientation='vertical', scale=LinearSc…"
      ]
     },
     "metadata": {},
     "output_type": "display_data"
    },
    {
     "data": {
      "application/vnd.jupyter.widget-view+json": {
       "model_id": "043d01d1aeea4566a0dbe878fc8a3ad1",
       "version_major": 2,
       "version_minor": 0
      },
      "text/plain": [
       "Figure(axes=[Axis(label='Date', scale=DateScale()), Axis(label='Count', orientation='vertical', scale=LinearSc…"
      ]
     },
     "metadata": {},
     "output_type": "display_data"
    },
    {
     "data": {
      "application/vnd.jupyter.widget-view+json": {
       "model_id": "e3c48697c126449c91b363556fa531be",
       "version_major": 2,
       "version_minor": 0
      },
      "text/plain": [
       "Figure(axes=[Axis(label='Date', scale=DateScale()), Axis(label='Count', orientation='vertical', scale=LinearSc…"
      ]
     },
     "metadata": {},
     "output_type": "display_data"
    },
    {
     "data": {
      "application/vnd.jupyter.widget-view+json": {
       "model_id": "bc95f08d6c23402d96482f21700468a4",
       "version_major": 2,
       "version_minor": 0
      },
      "text/plain": [
       "Figure(axes=[Axis(label='Date', scale=DateScale()), Axis(label='Count', orientation='vertical', scale=LinearSc…"
      ]
     },
     "metadata": {},
     "output_type": "display_data"
    }
   ],
   "source": [
    "# Create some checkboxes\n",
    "plot_checkboxes = []\n",
    "plot_keys = [] \n",
    "\n",
    "for key in data:\n",
    "    # Create a more readable description\n",
    "    desc = \" \".join(key.split(\"_\")).upper()\n",
    "    plot_keys.append(key)\n",
    "    plot_checkboxes.append(Checkbox(description=desc, value=False))\n",
    "    \n",
    "select_instruction = HTML(value=\"Select data: \", layout=table_layout)\n",
    "plot_button = Button(description=\"Plot\", button_style=\"success\", layout=table_layout)\n",
    "\n",
    "select_box = HBox(children=[select_instruction])\n",
    "checkbox_box = HBox(children=plot_checkboxes)\n",
    "horiz_select = HBox(children=[select_box, checkbox_box])\n",
    "plot_box = HBox(children=[plot_button])\n",
    "ui_box = VBox(children=[horiz_select, plot_box])\n",
    "\n",
    "arg_dict = {plot_keys[i]: checkbox for i, checkbox in enumerate(plot_checkboxes)}\n",
    "\n",
    "selected_data = []\n",
    "def select_data(**kwargs):\n",
    "    selected_data.clear()\n",
    "    \n",
    "    for key in kwargs:\n",
    "        if kwargs[key] is True:\n",
    "            selected_data.append(key)\n",
    "    \n",
    "    print(selected_data)\n",
    "    \n",
    "# Link the checkbox selection with the selected dataframes to plot\n",
    "out = widgets.interactive_output(select_data, arg_dict)\n",
    "\n",
    "output = widgets.Output()\n",
    "\n",
    "def plot_data(an_arg):\n",
    "    \"\"\" Each key in the data dict is a dataframe\n",
    "    \n",
    "    \"\"\"\n",
    "    from bqplot import pyplot as plt\n",
    "    from bqplot import (DateScale, LinearScale, Axis, Lines, Figure)\n",
    "    # Here take the keys in the selected data list and use them to\n",
    "    # access the Dataframes to plot\n",
    "    # Use the same axes. Can have a button to create new plots etc in the future\n",
    "    \n",
    "    # TODO - change this to take the data directly from the dict?\n",
    "    plot_data = [data[x] for x in selected_data]\n",
    "        \n",
    "    # Setup the axes\n",
    "    x_scale = DateScale()\n",
    "    y_scale = LinearScale()\n",
    "    \n",
    "    ax = Axis(label=\"Date\", scale=x_scale)\n",
    "    # TODO - this could be updated depending on what's being plot\n",
    "    ay = Axis(label=\"Count\", scale=y_scale, orientation=\"vertical\")\n",
    "    \n",
    "    scales = {\"x\": x_scale, \"y\": y_scale}\n",
    "    lines = [Lines(x=d.index.values, y=d[\"co count\"], scales=scales) for d in plot_data]\n",
    "    \n",
    "    fig = Figure(marks=lines, axes=[ax, ay], title=\"A sweet figure\")\n",
    "    \n",
    "    display(fig)\n",
    "        \n",
    "    \n",
    "plot_button.on_click(plot_data)\n",
    "\n",
    "display(ui_box, out)"
   ]
  },
  {
   "cell_type": "code",
   "execution_count": null,
   "metadata": {},
   "outputs": [],
   "source": [
    "plot_checkboxes"
   ]
  },
  {
   "cell_type": "code",
   "execution_count": null,
   "metadata": {},
   "outputs": [],
   "source": [
    "from ipywidgets import Checkbox, interactive\n",
    "from IPython.display import display\n",
    "\n",
    "l = [\"Dog\", \"Cat\", \"Mouse\"]\n",
    "chk = [Checkbox(description=a) for a in l]\n",
    "\n",
    "def updatePlot(**kwargs):\n",
    "    print [k,v for k, v in kwargs.items()]\n",
    "\n",
    "interact(updatePlot, **{c.description: c.value for c in chk})"
   ]
  },
  {
   "cell_type": "code",
   "execution_count": null,
   "metadata": {},
   "outputs": [],
   "source": [
    "# imports\n",
    "%matplotlib inline\n",
    "\n",
    "from ipywidgets import interactive\n",
    "import pandas as pd\n",
    "import numpy as np\n",
    "from IPython.display import clear_output\n",
    "import matplotlib.pyplot as plt\n",
    "\n",
    "# Sample data\n",
    "np.random.seed(123)\n",
    "rows = 50\n",
    "dfx = pd.DataFrame(np.random.randint(90,110,size=(rows, 1)), columns=['Variable X'])\n",
    "dfy = pd.DataFrame(np.random.randint(25,68,size=(rows, 1)), columns=['Variable Y'])\n",
    "dfz = pd.DataFrame(np.random.randint(60,70,size=(rows, 1)), columns=['Variable Z'])\n",
    "\n",
    "df = pd.concat([dfx,dfy,dfz], axis = 1)\n",
    "#jtplot.style()\n",
    "\n",
    "import ipywidgets as widgets\n",
    "from IPython.display import display\n",
    "\n",
    "opts = df.columns.values\n",
    "\n",
    "selector = widgets.SelectMultiple(\n",
    "options=opts,\n",
    "value=[opts[1]],\n",
    "rows=len(opts),\n",
    "description='Variables',\n",
    "disabled=False)\n",
    "\n",
    "output = widgets.Output()\n",
    "\n",
    "display(selector)\n",
    "display(output)\n",
    "\n",
    "def multiplot(widg):\n",
    "    choices = widg['new']\n",
    "    data = df.loc[:, choices] if choices else df\n",
    "    output.clear_output(wait=True)\n",
    "    with output:\n",
    "        ax = data.plot()\n",
    "        plt.show()\n",
    "\n",
    "selector.observe(multiplot, names='value')"
   ]
  },
  {
   "cell_type": "markdown",
   "metadata": {},
   "source": [
    "Now we can plot some of the data"
   ]
  },
  {
   "cell_type": "code",
   "execution_count": null,
   "metadata": {},
   "outputs": [],
   "source": [
    "import pandas as pd\n",
    "# co2_data = pd.read_json(data[\"results\"][\"bsd_co2\"])\n",
    "co_data = pd.read_json(data[\"results\"][\"bsd_ch4\"])\n"
   ]
  },
  {
   "cell_type": "code",
   "execution_count": null,
   "metadata": {},
   "outputs": [],
   "source": [
    "co_data.head(10)"
   ]
  },
  {
   "cell_type": "code",
   "execution_count": null,
   "metadata": {},
   "outputs": [],
   "source": [
    "%matplotlib notebook\n",
    "import matplotlib.pyplot as plt\n",
    "from pandas.plotting import register_matplotlib_converters\n",
    "register_matplotlib_converters()\n",
    "\n",
    "fig = plt.figure()\n",
    "# ax = fig.add_subplot(211)\n",
    "# ax.plot(co2_data.index.values, co2_data[\"co2 count\"], color = \"#4e79a7\" )\n",
    "ax = fig.add_subplot(111)\n",
    "ax.plot(co_data.index.values, co_data[\"ch4 count\"], color = \"#59a14f\")\n",
    "\n",
    "plt.show()"
   ]
  },
  {
   "cell_type": "code",
   "execution_count": null,
   "metadata": {},
   "outputs": [],
   "source": [
    "# Checkboxes for selecting which data we want to plot\n",
    "# Select the gas, it goes and plots the \n",
    "# Simple line plot"
   ]
  },
  {
   "cell_type": "code",
   "execution_count": null,
   "metadata": {},
   "outputs": [],
   "source": [
    "from ipyleaflet import (\n",
    "    Map,\n",
    "    Marker, MarkerCluster, TileLayer, ImageOverlay, GeoJSON,\n",
    "    Polyline, Polygon, Rectangle, Circle, CircleMarker, Popup,\n",
    "    SplitMapControl, WidgetControl,\n",
    "    basemaps, basemap_to_tiles\n",
    ")\n",
    "\n",
    "from ipywidgets import HTML"
   ]
  },
  {
   "cell_type": "code",
   "execution_count": null,
   "metadata": {},
   "outputs": [],
   "source": [
    "center = [54.2361, -4.548]\n",
    "zoom = 5\n",
    "m = Map(center=center, zoom=zoom)\n",
    "mark_bsd = Marker(location=(54.942544, -1.369204))\n",
    "mark_bsd.popup = HTML(value=\"Bilsdale\")\n",
    "\n",
    "mark_mhd = Marker(location=(53.20,-9.54))\n",
    "mark_mhd.popup = HTML(value=\"Macehead\")\n",
    "\n",
    "mark_tac = Marker(location=(52.511, 1.155003))\n",
    "mark_tac.popup = HTML(value=\"Tacolneston\")\n",
    "\n",
    "m += mark_bsd\n",
    "m += mark_mhd\n",
    "m += mark_tac\n",
    "\n",
    "display(m)"
   ]
  },
  {
   "cell_type": "code",
   "execution_count": null,
   "metadata": {},
   "outputs": [],
   "source": [
    "m"
   ]
  },
  {
   "cell_type": "code",
   "execution_count": null,
   "metadata": {},
   "outputs": [],
   "source": []
  }
 ],
 "metadata": {
  "kernelspec": {
   "display_name": "Python 3",
   "language": "python",
   "name": "python3"
  }
 },
 "nbformat": 4,
 "nbformat_minor": 2
}
