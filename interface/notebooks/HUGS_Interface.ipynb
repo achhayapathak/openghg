{
 "cells": [
  {
   "cell_type": "code",
   "execution_count": null,
   "metadata": {},
   "outputs": [],
   "source": [
    "import os\n",
    "import sys\n",
    "sys.path.insert(0, \"../..\")\n",
    "sys.path.insert(0, \"../../../acquire\")\n",
    "import ipywidgets as widgets\n",
    "\n",
    "from HUGS.Processing import search\n",
    "\n",
    "from Acquire.Client import User, Drive, Service, PAR, Authorisation, StorageCreds"
   ]
  },
  {
   "cell_type": "code",
   "execution_count": null,
   "metadata": {},
   "outputs": [],
   "source": [
    "# Autoreload modules before executing code, useful during development\n",
    "%load_ext autoreload\n",
    "%autoreload 2"
   ]
  },
  {
   "cell_type": "markdown",
   "metadata": {},
   "source": [
    "## Start with uploading and processing of the data"
   ]
  },
  {
   "cell_type": "code",
   "execution_count": null,
   "metadata": {},
   "outputs": [
    {
     "name": "stdout",
     "output_type": "stream",
     "text": [
      "Login by visiting: https://login.acquire-aaai.com?id=a0-a6/2a.42.db.f9\n",
      "(please check that this page displays the message 'fluffy mice climb quietly')\n"
     ]
    }
   ],
   "source": [
    "base_url = \"https://hugs.acquire-aaai.com/t\"\n",
    "hugs_url = \"https://hugs.acquire-aaai.com\"\n",
    "user = User(username=\"gareth\", identity_url=\"%s/identity\" % base_url)\n",
    "response = user.request_login()"
   ]
  },
  {
   "cell_type": "markdown",
   "metadata": {},
   "source": [
    "Check we're logged in"
   ]
  },
  {
   "cell_type": "code",
   "execution_count": null,
   "metadata": {},
   "outputs": [
    {
     "data": {
      "text/plain": [
       "True"
      ]
     },
     "execution_count": null,
     "metadata": {},
     "output_type": "execute_result"
    }
   ],
   "source": [
    "user.wait_for_login()"
   ]
  },
  {
   "cell_type": "code",
   "execution_count": null,
   "metadata": {},
   "outputs": [],
   "source": [
    "filename = \"bsd.picarro.1minute.248m.dat\"\n",
    "dir_path = os.path.abspath(\"\")\n",
    "test_data = \"../../test/data/proc_test_data/CRDS\"\n",
    "filepath = os.path.join(dir_path, test_data, filename)\n",
    "\n",
    "hugs = Service(service_url=\"%s/hugs\" % base_url)\n",
    "\n",
    "creds = StorageCreds(user=user, service_url=\"%s/storage\" % base_url)\n",
    "drive = Drive(creds=creds, name=\"test_drive\")\n",
    "filemeta = drive.upload(filepath)\n",
    "par = PAR(location=filemeta.location(), user=user)\n",
    "\n",
    "par_secret = hugs.encrypt_data(par.secret())\n",
    "auth = Authorisation(resource=\"process\", user=user)"
   ]
  },
  {
   "cell_type": "code",
   "execution_count": null,
   "metadata": {},
   "outputs": [],
   "source": [
    "def upload_file(authenticated_user, filepath):\n",
    "    \"\"\" Upload a file to the object store\n",
    "    \n",
    "        Args:\n",
    "            filepath (str): Path to file to upload\n",
    "        Returns:\n",
    "            None    \n",
    "    \"\"\"\n",
    "    creds = StorageCreds(user=authenticated_user, service_url=\"%s/storage\" % base_url)\n",
    "    drive = Drive(creds=creds, name=\"test_drive\")\n",
    "    filemeta = drive.upload(filepath)\n",
    "    par = PAR(location=filemeta.location(), user=user)\n",
    "\n",
    "    par_secret = hugs.encrypt_data(par.secret())\n",
    "    auth = Authorisation(resource=\"process\", user=user)"
   ]
  },
  {
   "cell_type": "code",
   "execution_count": null,
   "metadata": {},
   "outputs": [],
   "source": [
    "def get_CRDS_path(filename):\n",
    "    dir_path = os.path.abspath(\"\")\n",
    "    test_data = \"../../test/data/proc_test_data/CRDS\"\n",
    "    return os.path.join(dir_path, test_data, filename)"
   ]
  },
  {
   "cell_type": "markdown",
   "metadata": {},
   "source": [
    "### Upload files for processing\n"
   ]
  },
  {
   "cell_type": "markdown",
   "metadata": {},
   "source": [
    "Clear the Datasources from CRDS and GC objects (currently Datasource UUIDs are just being randomly generated and we get multiple Datasources holding the same data)"
   ]
  },
  {
   "cell_type": "code",
   "execution_count": null,
   "metadata": {},
   "outputs": [],
   "source": [
    "response = hugs.call_function(function=\"clear_datasources\", args={})\n",
    "response"
   ]
  },
  {
   "cell_type": "code",
   "execution_count": null,
   "metadata": {},
   "outputs": [
    {
     "name": "stdout",
     "output_type": "stream",
     "text": [
      "{'bsd.picarro.1minute.248m.dat': ['dc01098c-07e1-4e86-9019-d830feec52c3', '68daa306-8a7a-47d2-b8fb-d63513cd1fc4', '98f99b5b-1f11-4794-8607-13eec12552d2']}\n"
     ]
    }
   ],
   "source": [
    "from HUGS.Client import Process\n",
    "\n",
    "filename = \"bsd.picarro.1minute.248m.dat\"\n",
    "filepath = get_CRDS_path(filename)\n",
    "\n",
    "processing = Process(service_url=base_url)\n",
    "result = processing.process_files(user=user, files=filepath, data_type=\"CRDS\")\n",
    "print(result)"
   ]
  },
  {
   "cell_type": "markdown",
   "metadata": {},
   "source": [
    "Upload some Heathfield data"
   ]
  },
  {
   "cell_type": "code",
   "execution_count": null,
   "metadata": {},
   "outputs": [
    {
     "name": "stdout",
     "output_type": "stream",
     "text": [
      "{'hfd.picarro.1minute.100m_min.dat': ['d277117f-65d7-4e56-955b-dff04f8e2da9', '19640040-8f07-4642-a9a6-2a903e02578e', '74055929-beff-4b53-a15a-4ffa837bebfa']}\n"
     ]
    }
   ],
   "source": [
    "filename = \"hfd.picarro.1minute.100m_min.dat\"\n",
    "filepath = get_CRDS_path(filename)\n",
    "result = processing.process_files(user=user, files=filepath, data_type=\"CRDS\")\n",
    "print(result)"
   ]
  },
  {
   "cell_type": "code",
   "execution_count": null,
   "metadata": {},
   "outputs": [],
   "source": [
    "from HUGS.Processing import search\n",
    "\n",
    "search_results = None\n",
    "\n",
    "search_terms = widgets.Text(\n",
    "                    value=\"\",\n",
    "                    placeholder = \"Search\",\n",
    "                    description = \"Search terms:\",\n",
    "                    disabled = False\n",
    ")\n",
    "\n",
    "locations = widgets.Text(\n",
    "                value=\"\",\n",
    "                placeholder = \"BSD, HFD\",\n",
    "                description = \"Locations:\",\n",
    "                disabled = False\n",
    ")\n",
    "\n",
    "data_type = widgets.Dropdown(\n",
    "                options=[\"CRDS\", \"GC\"], \n",
    "                value=\"CRDS\",\n",
    "                description=\"Data type\",\n",
    "                disabled=False\n",
    "    )\n",
    "\n",
    "\n",
    "\n",
    "layout=widgets.Layout(display = \"flex\", width = \"50%\")\n",
    "search_button = widgets.Button(description=\"Search\", button_style=\"success\", \\\n",
    "                               layout=widgets.Layout(flex='1 1 0%', width='25%'))\n",
    "\n",
    "start_picker = widgets.DatePicker(\n",
    "                    description='Start date',\n",
    "                    disabled=False\n",
    ")\n",
    "\n",
    "end_picker = widgets.DatePicker(\n",
    "                    description='End date',\n",
    "                    disabled=False\n",
    ")\n",
    "\n",
    "\n",
    "box = widgets.VBox(children=[search_terms, locations, start_picker, end_picker, data_type,\n",
    "                                 search_button], layout=layout)\n",
    "\n",
    "\n",
    "\n",
    "def call_search(x):\n",
    "    \"\"\" Call the search function and pass it the values \n",
    "        in the text boxes\n",
    "            \n",
    "    \"\"\"\n",
    "    from datetime import datetime\n",
    "    from Acquire.ObjectStore import datetime_to_string\n",
    "    from HUGS.Client import Search\n",
    "    start = datetime(1970, 1,1) # datetime.combine(start_picker.value, datetime.min.time())\n",
    "    end = datetime.now() # datetime.combine(end_picker.value, datetime.min.time())\n",
    "    \n",
    "    split_search_terms = search_terms.value.replace(\" \", \"\").split(\",\")\n",
    "    split_locations = locations.value.replace(\" \", \"\").split(\",\")\n",
    "    \n",
    "    global search_results\n",
    "    search = Search(service_url=base_url)\n",
    "    search_results = search.search(search_terms=split_search_terms, locations=split_locations, data_type=data_type.value, start_datetime=start, end_datetime=end)\n",
    "\n",
    "search_button.on_click(call_search)\n",
    "\n",
    "\n"
   ]
  },
  {
   "cell_type": "code",
   "execution_count": null,
   "metadata": {},
   "outputs": [
    {
     "data": {
      "application/vnd.jupyter.widget-view+json": {
       "model_id": "4b5f141483be4e4c80b46fc1de1c1524",
       "version_major": 2,
       "version_minor": 0
      },
      "text/plain": [
       "VBox(children=(Text(value='', description='Search terms:', placeholder='Search'), Text(value='', description='…"
      ]
     },
     "metadata": {},
     "output_type": "display_data"
    },
    {
     "name": "stdout",
     "output_type": "stream",
     "text": [
      "['co2', 'co'] ['bsd', 'hfd']\n"
     ]
    }
   ],
   "source": [
    "box"
   ]
  },
  {
   "cell_type": "code",
   "execution_count": null,
   "metadata": {},
   "outputs": [
    {
     "name": "stdout",
     "output_type": "stream",
     "text": [
      "{'bsd_co2': ['data/uuid/68daa306-8a7a-47d2-b8fb-d63513cd1fc4/2014-01-30T10:52:30_2014-01-30T14:20:30'], 'hfd_co2': ['data/uuid/19640040-8f07-4642-a9a6-2a903e02578e/2013-12-04T14:02:30_2013-12-25T22:56:30', 'data/uuid/19640040-8f07-4642-a9a6-2a903e02578e/2014-01-01T18:25:30_2014-12-28T08:02:30', 'data/uuid/19640040-8f07-4642-a9a6-2a903e02578e/2015-01-04T17:22:30_2015-12-30T14:55:30', 'data/uuid/19640040-8f07-4642-a9a6-2a903e02578e/2016-01-06T18:01:30_2016-12-29T02:17:30', 'data/uuid/19640040-8f07-4642-a9a6-2a903e02578e/2017-01-01T19:56:30_2017-12-26T07:35:30', 'data/uuid/19640040-8f07-4642-a9a6-2a903e02578e/2018-01-02T13:10:30_2018-12-30T10:12:30', 'data/uuid/19640040-8f07-4642-a9a6-2a903e02578e/2019-01-06T11:02:30_2019-05-21T15:46:30'], 'bsd_co': ['data/uuid/98f99b5b-1f11-4794-8607-13eec12552d2/2014-01-30T10:52:30_2014-01-30T14:20:30'], 'hfd_co': ['data/uuid/74055929-beff-4b53-a15a-4ffa837bebfa/2013-12-04T14:02:30_2013-12-25T22:56:30', 'data/uuid/74055929-beff-4b53-a15a-4ffa837bebfa/2014-01-01T18:25:30_2014-12-28T08:02:30', 'data/uuid/74055929-beff-4b53-a15a-4ffa837bebfa/2015-01-04T17:22:30_2015-12-30T14:55:30', 'data/uuid/74055929-beff-4b53-a15a-4ffa837bebfa/2016-01-06T18:01:30_2016-12-29T02:17:30', 'data/uuid/74055929-beff-4b53-a15a-4ffa837bebfa/2017-01-01T19:56:30_2017-12-26T07:35:30', 'data/uuid/74055929-beff-4b53-a15a-4ffa837bebfa/2018-01-02T13:10:30_2018-12-30T10:12:30', 'data/uuid/74055929-beff-4b53-a15a-4ffa837bebfa/2019-01-06T11:02:30_2019-05-21T15:46:30']}\n"
     ]
    }
   ],
   "source": [
    "print(search_results)"
   ]
  },
  {
   "cell_type": "markdown",
   "metadata": {},
   "source": [
    "Now take the result dictionary, parse the dictionary into a blocks that can be selected by the user"
   ]
  },
  {
   "cell_type": "code",
   "execution_count": null,
   "metadata": {},
   "outputs": [],
   "source": [
    "def parse_results(results):\n",
    "    \"\"\" Split the keys into a list of each key and the date that the data covers\n",
    "        \n",
    "        Args:\n",
    "            results (dict): Dictionary of search results\n",
    "        Returns:\n",
    "            list (tuple): List of date, data key list pairs\n",
    "    \"\"\"\n",
    "    date_keys = {}\n",
    "    for key in results.keys():\n",
    "        keys = sorted(results[key])\n",
    "        start_key = keys[0]\n",
    "        end_key = keys[-1]\n",
    "        # Get the first and last dates from the keys in the search results\n",
    "        start_date = start_key.split(\"/\")[-1].split(\"_\")[0]\n",
    "        end_date = end_key.split(\"/\")[-1].split(\"_\")[-1]\n",
    "        \n",
    "        dates_covered = start_date + \"_\" + end_date\n",
    "        \n",
    "        date_keys[key] = {\"dates\": dates_covered, \"keys\": keys}\n",
    "        \n",
    "    return date_keys"
   ]
  },
  {
   "cell_type": "markdown",
   "metadata": {},
   "source": [
    "Site, gas, dates and checkbox"
   ]
  },
  {
   "cell_type": "code",
   "execution_count": null,
   "metadata": {},
   "outputs": [
    {
     "name": "stdout",
     "output_type": "stream",
     "text": [
      "{'bsd_co2': {'dates': '2014-01-30T10:52:30_2014-01-30T14:20:30', 'keys': ['data/uuid/68daa306-8a7a-47d2-b8fb-d63513cd1fc4/2014-01-30T10:52:30_2014-01-30T14:20:30']}, 'hfd_co2': {'dates': '2013-12-04T14:02:30_2019-05-21T15:46:30', 'keys': ['data/uuid/19640040-8f07-4642-a9a6-2a903e02578e/2013-12-04T14:02:30_2013-12-25T22:56:30', 'data/uuid/19640040-8f07-4642-a9a6-2a903e02578e/2014-01-01T18:25:30_2014-12-28T08:02:30', 'data/uuid/19640040-8f07-4642-a9a6-2a903e02578e/2015-01-04T17:22:30_2015-12-30T14:55:30', 'data/uuid/19640040-8f07-4642-a9a6-2a903e02578e/2016-01-06T18:01:30_2016-12-29T02:17:30', 'data/uuid/19640040-8f07-4642-a9a6-2a903e02578e/2017-01-01T19:56:30_2017-12-26T07:35:30', 'data/uuid/19640040-8f07-4642-a9a6-2a903e02578e/2018-01-02T13:10:30_2018-12-30T10:12:30', 'data/uuid/19640040-8f07-4642-a9a6-2a903e02578e/2019-01-06T11:02:30_2019-05-21T15:46:30']}, 'bsd_co': {'dates': '2014-01-30T10:52:30_2014-01-30T14:20:30', 'keys': ['data/uuid/98f99b5b-1f11-4794-8607-13eec12552d2/2014-01-30T10:52:30_2014-01-30T14:20:30']}, 'hfd_co': {'dates': '2013-12-04T14:02:30_2019-05-21T15:46:30', 'keys': ['data/uuid/74055929-beff-4b53-a15a-4ffa837bebfa/2013-12-04T14:02:30_2013-12-25T22:56:30', 'data/uuid/74055929-beff-4b53-a15a-4ffa837bebfa/2014-01-01T18:25:30_2014-12-28T08:02:30', 'data/uuid/74055929-beff-4b53-a15a-4ffa837bebfa/2015-01-04T17:22:30_2015-12-30T14:55:30', 'data/uuid/74055929-beff-4b53-a15a-4ffa837bebfa/2016-01-06T18:01:30_2016-12-29T02:17:30', 'data/uuid/74055929-beff-4b53-a15a-4ffa837bebfa/2017-01-01T19:56:30_2017-12-26T07:35:30', 'data/uuid/74055929-beff-4b53-a15a-4ffa837bebfa/2018-01-02T13:10:30_2018-12-30T10:12:30', 'data/uuid/74055929-beff-4b53-a15a-4ffa837bebfa/2019-01-06T11:02:30_2019-05-21T15:46:30']}}\n"
     ]
    }
   ],
   "source": [
    "date_keys = parse_results(search_results)\n",
    "print(date_keys)"
   ]
  },
  {
   "cell_type": "code",
   "execution_count": null,
   "metadata": {},
   "outputs": [
    {
     "data": {
      "application/vnd.jupyter.widget-view+json": {
       "model_id": "52d6856846c44db4888fc5b661a0c545",
       "version_major": 2,
       "version_minor": 0
      },
      "text/plain": [
       "VBox(children=(HBox(children=(HTML(value='<b>Site</b>', layout=Layout(height='28px', min_height='28px', min_wi…"
      ]
     },
     "metadata": {},
     "output_type": "display_data"
    },
    {
     "data": {
      "application/vnd.jupyter.widget-view+json": {
       "model_id": "874f0936be9246508cf06859973a3ac1",
       "version_major": 2,
       "version_minor": 0
      },
      "text/plain": [
       "Output()"
      ]
     },
     "metadata": {},
     "output_type": "display_data"
    }
   ],
   "source": [
    "from ipywidgets import Button, ButtonStyle, Checkbox, HTML, Label, HBox, VBox\n",
    "\n",
    "table_style = {'description_width': 'initial'}\n",
    "table_layout = {'width':'100px', 'min_width':'100px', 'height':'28px', 'min_height':'28px'}\n",
    "date_layout = {'width':'275px', 'min_width':'200px', 'height':'28px', 'min_height':'28px'}\n",
    "checkbox_layout = {'width':'100px', 'min_width':'100px', 'height':'28px', 'min_height':'28px'}\n",
    "statusbar_layout = {'width':'250px', 'min_width':'250px', 'height':'28px', 'min_height':'28px'}\n",
    "\n",
    "# row_layout = {'width':'200px', 'min_width':'200px'}\n",
    "\n",
    "header_label_site = HTML(value=f\"<b>Site</b>\", layout=table_layout)\n",
    "header_label_gas = HTML(value=f\"<b>Gas</b>\", layout=table_layout)\n",
    "header_label_dates = HTML(value=f\"<b>Dates</b>\", layout=date_layout)\n",
    "header_label_select = HTML(value=f\"<b>Select</b>\", layout=checkbox_layout)\n",
    "\n",
    "checkbox_objects = []\n",
    "search_keys = []\n",
    "\n",
    "site_labels = []\n",
    "date_labels = []\n",
    "gas_labels = []\n",
    "for key in date_keys:\n",
    "    # Create the checkboxes\n",
    "    checkbox = Checkbox(value=False)\n",
    "    checkbox_objects.append(checkbox)\n",
    "    search_keys.append(key)\n",
    "    \n",
    "    dates = date_keys[key][\"dates\"].replace(\"_\", \" to \").replace(\"T\", \" \")\n",
    "    date_label = Label(value=dates, layout=date_layout)\n",
    "    \n",
    "    split_key = key.split(\"_\")\n",
    "    site_name = split_key[0].upper()\n",
    "    gas_name = split_key[1].upper()\n",
    "    \n",
    "    gas_label = Label(value=gas_name, layout=table_layout)\n",
    "    site_label = Label(value=site_name, layout=table_layout)\n",
    "\n",
    "    date_labels.append(date_label)\n",
    "    site_labels.append(site_label)\n",
    "    gas_labels.append(gas_label)\n",
    "\n",
    "    \n",
    "arg_dict = {search_keys[i]: checkbox for i, checkbox in enumerate(checkbox_objects)}\n",
    "\n",
    "header_box = HBox(children=[header_label_site, header_label_gas, header_label_dates, header_label_select])\n",
    "\n",
    "site_vbox = VBox(children=site_labels)\n",
    "gas_vbox = VBox(children=gas_labels)\n",
    "dates_vbox = VBox(children=date_labels)\n",
    "checkbox_vbox = VBox(children=checkbox_objects)\n",
    "\n",
    "dynamic_box = HBox(children=[site_vbox, gas_vbox, dates_vbox, checkbox_vbox])\n",
    "\n",
    "download_button = Button(description=\"Download\", button_style=\"success\", layout=table_layout)\n",
    "download_box = HBox(children=[download_button])\n",
    "\n",
    "status_bar = HTML(value=\"Status: Waiting...\", layout=statusbar_layout)\n",
    "\n",
    "complete = VBox(children=[header_box, dynamic_box, download_box, status_bar])\n",
    "\n",
    "selected_data = []\n",
    "def select_data(**kwargs):\n",
    "    selected_data.clear()\n",
    "    \n",
    "    for key in kwargs:\n",
    "        if kwargs[key] is True:\n",
    "            selected_data.append(key)\n",
    "\n",
    "def update_statusbar(text):\n",
    "    status_bar.value = F\"Status: {text}\"\n",
    "    \n",
    "data = None\n",
    "def download_data(args):\n",
    "    \"\"\" Download the data in the selected keys from the object store\n",
    "    \n",
    "        Args:\n",
    "            ?\n",
    "        Returns:\n",
    "            Pandas.Dataframe of selected data\n",
    "    \"\"\"\n",
    "    from HUGS.Client import Retrieve\n",
    "    from pandas import read_json as pd_read_json\n",
    "    \n",
    "    update_statusbar(\"Downloading...\")\n",
    "    \n",
    "    download_keys = {key: date_keys[key][\"keys\"] for key in selected_data}\n",
    "    \n",
    "    retrieve = Retrieve(service_url=base_url)\n",
    "    \n",
    "    global data\n",
    "    data = retrieve.retrieve(keys=download_keys)\n",
    "    \n",
    "    # Conver the JSON into Dataframes\n",
    "    for key in data:\n",
    "        data[key] = pd_read_json(data[key])\n",
    "    \n",
    "    # Update the status bar\n",
    "    if len(data) > 0:\n",
    "        update_statusbar(\"Download complete\")\n",
    "    else:\n",
    "        update_statusbar(\"No data downloaded\")\n",
    "            \n",
    "download_button.on_click(download_data)\n",
    "out = widgets.interactive_output(select_data, arg_dict)\n",
    "\n",
    "display(complete, out)"
   ]
  },
  {
   "cell_type": "code",
   "execution_count": null,
   "metadata": {},
   "outputs": [
    {
     "data": {
      "text/plain": [
       "dict_keys(['bsd_co2', 'hfd_co2', 'bsd_co', 'hfd_co'])"
      ]
     },
     "execution_count": null,
     "metadata": {},
     "output_type": "execute_result"
    }
   ],
   "source": [
    "data.keys()"
   ]
  },
  {
   "cell_type": "markdown",
   "metadata": {},
   "source": [
    "Retrieve the data from the object store"
   ]
  },
  {
   "cell_type": "code",
   "execution_count": null,
   "metadata": {},
   "outputs": [
    {
     "data": {
      "text/plain": [
       "['bsd_co2', 'hfd_co2', 'bsd_co', 'hfd_co']"
      ]
     },
     "execution_count": null,
     "metadata": {},
     "output_type": "execute_result"
    }
   ],
   "source": [
    "selected_data"
   ]
  },
  {
   "cell_type": "code",
   "execution_count": null,
   "metadata": {},
   "outputs": [
    {
     "data": {
      "text/plain": [
       "{'bsd_co2':                      co2 count  co2 stdev  co2 n_meas\n",
       " 2014-01-30 10:52:30     409.66      0.028          26\n",
       " 2014-01-30 10:53:30     409.50      0.058          26\n",
       " 2014-01-30 10:54:30     409.50      0.026          25\n",
       " 2014-01-30 10:55:30     409.37      0.044          26\n",
       " 2014-01-30 10:56:30     409.45      0.023          25\n",
       " ...                        ...        ...         ...\n",
       " 2014-01-30 14:16:30     408.82      0.032          26\n",
       " 2014-01-30 14:17:30     408.76      0.060          25\n",
       " 2014-01-30 14:18:30     408.79      0.030          26\n",
       " 2014-01-30 14:19:30     408.80      0.024          26\n",
       " 2014-01-30 14:20:30     408.78      0.019          25\n",
       " \n",
       " [76 rows x 3 columns],\n",
       " 'hfd_co2':                      co2 count  co2 stdev  co2 n_meas\n",
       " 2013-12-04 14:02:30     414.21      0.109          19\n",
       " 2013-12-11 12:52:30     410.96      0.258          19\n",
       " 2013-12-18 19:12:30     402.34      0.091          19\n",
       " 2013-12-25 22:56:30     401.66      0.317          19\n",
       " 2014-01-01 18:25:30     401.86      0.054          19\n",
       " ...                        ...        ...         ...\n",
       " 2019-05-07 01:43:30     413.97      0.026          15\n",
       " 2019-05-10 17:56:30     411.52      0.029          16\n",
       " 2019-05-14 06:15:30     422.50      0.126          15\n",
       " 2019-05-17 19:07:30     416.48      0.079          16\n",
       " 2019-05-21 15:46:30     411.08      0.247          16\n",
       " \n",
       " [274 rows x 3 columns],\n",
       " 'bsd_co':                      co count  co stdev  co n_meas\n",
       " 2014-01-30 10:52:30    204.62     6.232         26\n",
       " 2014-01-30 10:53:30    200.78     5.934         26\n",
       " 2014-01-30 10:54:30    201.54     5.176         25\n",
       " 2014-01-30 10:55:30    203.39     6.535         26\n",
       " 2014-01-30 10:56:30    201.87     6.345         25\n",
       " ...                       ...       ...        ...\n",
       " 2014-01-30 14:16:30    197.83     6.410         26\n",
       " 2014-01-30 14:17:30    197.37     6.194         25\n",
       " 2014-01-30 14:18:30    197.52     8.251         26\n",
       " 2014-01-30 14:19:30    196.92     6.031         26\n",
       " 2014-01-30 14:20:30    196.35     6.879         25\n",
       " \n",
       " [76 rows x 3 columns],\n",
       " 'hfd_co':                      co count  co stdev  co n_meas\n",
       " 2013-12-04 14:02:30    214.28     4.081         19\n",
       " 2013-12-11 12:52:30    216.21     3.634         19\n",
       " 2013-12-18 19:12:30    146.97     3.887         19\n",
       " 2013-12-25 22:56:30    135.33     4.110         19\n",
       " 2014-01-01 18:25:30    133.41     3.750         19\n",
       " ...                       ...       ...        ...\n",
       " 2019-05-07 01:43:30    124.65     3.619         15\n",
       " 2019-05-10 17:56:30    122.94     3.276         16\n",
       " 2019-05-14 06:15:30    123.69     4.280         15\n",
       " 2019-05-17 19:07:30    133.65     3.603         16\n",
       " 2019-05-21 15:46:30    118.47     4.442         16\n",
       " \n",
       " [274 rows x 3 columns]}"
      ]
     },
     "execution_count": null,
     "metadata": {},
     "output_type": "execute_result"
    }
   ],
   "source": [
    "data"
   ]
  },
  {
   "cell_type": "markdown",
   "metadata": {},
   "source": [
    "Plot the data we've selected"
   ]
  },
  {
   "cell_type": "markdown",
   "metadata": {},
   "source": [
    "Select the data from the downloaded data using the checkboxes and then click plot to update the figure"
   ]
  },
  {
   "cell_type": "code",
   "execution_count": null,
   "metadata": {},
   "outputs": [
    {
     "data": {
      "application/vnd.jupyter.widget-view+json": {
       "model_id": "5d6e6d0e150c4f06af136e5f559cd9fe",
       "version_major": 2,
       "version_minor": 0
      },
      "text/plain": [
       "VBox(children=(HBox(children=(HBox(children=(HTML(value='<b>Select data: </b>', layout=Layout(height='28px', m…"
      ]
     },
     "metadata": {},
     "output_type": "display_data"
    },
    {
     "data": {
      "application/vnd.jupyter.widget-view+json": {
       "model_id": "85fe40c2a61a4892a2f4214259bff9a2",
       "version_major": 2,
       "version_minor": 0
      },
      "text/plain": [
       "Output()"
      ]
     },
     "metadata": {},
     "output_type": "display_data"
    },
    {
     "data": {
      "application/vnd.jupyter.widget-view+json": {
       "model_id": "d93584c0df8b46bbb1f60c4c4d260141",
       "version_major": 2,
       "version_minor": 0
      },
      "text/plain": [
       "VBox(children=(Figure(animation_duration=1000, axes=[Axis(label='Date', scale=DateScale()), Axis(label='Count'…"
      ]
     },
     "metadata": {},
     "output_type": "display_data"
    },
    {
     "name": "stdout",
     "output_type": "stream",
     "text": [
      "<class 'numpy.ndarray'>\n",
      "[1386165750000000000, 1386766350000000000, 1387393950000000000, 1388012190000000000, 1388600730000000000, 1389189810000000000, 1394585790000000000, 1395194790000000000, 1395801570000000000, 1396407390000000000, 1397013270000000000, 1397633670000000000, 1398232170000000000, 1398827550000000000, 1399422510000000000, 1400033550000000000, 1400627370000000000, 1401215910000000000, 1401803250000000000, 1404834150000000000, 1405421190000000000, 1406618010000000000, 1407206070000000000, 1407794610000000000, 1408402890000000000, 1408991430000000000, 1409578770000000000, 1410177090000000000, 1410779670000000000, 1411397970000000000, 1411991370000000000, 1412580270000000000, 1413223830000000000, 1414520430000000000, 1415163510000000000, 1415805510000000000, 1416461910000000000, 1417102110000000000, 1417753110000000000, 1418387910000000000, 1419113550000000000, 1419753750000000000, 1420392150000000000, 1421032350000000000, 1421690550000000000, 1422328950000000000, 1422970950000000000, 1423609350000000000, 1424247750000000000, 1424905950000000000, 1425692250000000000, 1426308990000000000, 1427155770000000000, 1427746050000000000, 1428334590000000000, 1428923130000000000, 1430118750000000000, 1430707890000000000, 1431303150000000000, 1431903990000000000, 1432525530000000000, 1433134230000000000, 1433741430000000000, 1434350430000000000, 1435052370000000000, 1435659570000000000, 1436269770000000000, 1436872110000000000, 1437492630000000000, 1438104690000000000, 1438703970000000000, 1439305830000000000, 1439908110000000000, 1440526110000000000, 1441125030000000000, 1441726770000000000, 1442329770000000000, 1442949750000000000, 1443554370000000000, 1444157910000000000, 1445374230000000000, 1446010410000000000, 1446613050000000000, 1447229370000000000, 1447831950000000000, 1448449890000000000, 1449669750000000000, 1450866270000000000, 1451487330000000000, 1452103290000000000, 1452706290000000000, 1453311150000000000, 1453902930000000000, 1454521170000000000, 1455722490000000000, 1456318410000000000, 1456939470000000000, 1457540850000000000, 1458140250000000000, 1458736110000000000, 1459356630000000000, 1459957770000000000, 1461156750000000000, 1461778770000000000, 1462376250000000000, 1462978230000000000, 1463578290000000000, 1464801570000000000, 1465399230000000000, 1465999110000000000, 1466619870000000000, 1467218070000000000, 1467820470000000000, 1468420050000000000, 1469040990000000000, 1469635650000000000, 1470237750000000000, 1470836550000000000, 1471455270000000000, 1472136030000000000, 1472735190000000000, 1473337710000000000, 1473960030000000000, 1474573950000000000, 1475177130000000000, 1475778870000000000, 1476396150000000000, 1476996150000000000, 1477594710000000000, 1478197050000000000, 1479412890000000000, 1480008870000000000, 1481227530000000000, 1481827890000000000, 1482369510000000000, 1482673110000000000, 1482977850000000000, 1483300590000000000, 1483604070000000000, 1483908810000000000, 1484212350000000000, 1484517090000000000, 1484820630000000000, 1485125370000000000, 1485428910000000000, 1485751530000000000, 1486359810000000000, 1486664550000000000, 1486968090000000000, 1487272830000000000, 1487576310000000000, 1487919330000000000, 1488535710000000000, 1489152450000000000, 1489748970000000000, 1490369310000000000, 1490968770000000000, 1492184430000000000, 1492801650000000000, 1493404230000000000, 1494005370000000000, 1494628050000000000, 1495244430000000000, 1495843950000000000, 1497122610000000000, 1498341450000000000, 1498940490000000000, 1499558190000000000, 1500246570000000000, 1500851130000000000, 1501459590000000000, 1502730210000000000, 1503338970000000000, 1504559850000000000, 1505186970000000000, 1505821050000000000, 1506431070000000000, 1506744330000000000, 1507052550000000000, 1507378770000000000, 1507688130000000000, 1508027430000000000, 1508334570000000000, 1508643930000000000, 1508952330000000000, 1509260550000000000, 1509568830000000000, 1509895170000000000, 1510204530000000000, 1510512690000000000, 1510852170000000000, 1511160450000000000, 1511468670000000000, 1511776950000000000, 1512086430000000000, 1512412650000000000, 1512720870000000000, 1513029210000000000, 1513368690000000000, 1513676730000000000, 1514273730000000000, 1514898630000000000, 1515506490000000000, 1516145790000000000, 1516757070000000000, 1517385330000000000, 1518621450000000000, 1519228470000000000, 1520555550000000000, 1521164430000000000, 1521775410000000000, 1522104630000000000, 1522412850000000000, 1522722210000000000, 1523029230000000000, 1523338650000000000, 1523646870000000000, 1523955150000000000, 1524263370000000000, 1524571650000000000, 1525016610000000000, 1525627770000000000, 1526235570000000000, 1526842890000000000, 1528060890000000000, 1528676190000000000, 1529287170000000000, 1529897910000000000, 1530508710000000000, 1531119690000000000, 1532338830000000000, 1532948490000000000, 1533559350000000000, 1534167510000000000, 1534778070000000000, 1535385990000000000, 1535997750000000000, 1536602610000000000, 1537212870000000000, 1537824030000000000, 1538738910000000000, 1539348090000000000, 1539958890000000000, 1540566570000000000, 1541786730000000000, 1542393330000000000, 1543004190000000000, 1543612230000000000, 1544834250000000000, 1545537090000000000, 1546164750000000000, 1546772550000000000, 1547380650000000000, 1547990610000000000, 1548620850000000000, 1549229790000000000, 1549839330000000000, 1551125970000000000, 1551658410000000000, 1552110270000000000, 1552560750000000000, 1553013330000000000, 1553516970000000000, 1553971410000000000, 1554424650000000000, 1554877890000000000, 1555333170000000000, 1555816650000000000, 1556739450000000000, 1557193410000000000, 1557510990000000000, 1557814530000000000, 1558120050000000000, 1558453590000000000]\n"
     ]
    }
   ],
   "source": [
    "from bqplot import pyplot as plt\n",
    "from bqplot import DateScale, LinearScale, Axis, Lines, Figure\n",
    "from random import randint    \n",
    "from numpy import random as np_random\n",
    "import numpy as np\n",
    "\n",
    "# Create some checkboxes\n",
    "plot_checkboxes = []\n",
    "plot_keys = [] \n",
    "\n",
    "for key in data:\n",
    "    # Create a more readable description\n",
    "    desc = \" \".join(key.split(\"_\")).upper()\n",
    "    plot_keys.append(key)\n",
    "    plot_checkboxes.append(Checkbox(description=desc, value=False))\n",
    "    \n",
    "select_instruction = HTML(value=\"<b>Select data: </b>\", layout=table_layout)\n",
    "plot_button = Button(description=\"Plot\", button_style=\"success\", layout=table_layout)\n",
    "\n",
    "select_box = HBox(children=[select_instruction])\n",
    "checkbox_box = VBox(children=plot_checkboxes)\n",
    "horiz_select = HBox(children=[select_box, checkbox_box])\n",
    "plot_box = HBox(children=[plot_button])\n",
    "ui_box = VBox(children=[horiz_select, plot_box])\n",
    "\n",
    "arg_dict = {plot_keys[i]: checkbox for i, checkbox in enumerate(plot_checkboxes)}\n",
    "\n",
    "selected_data = []\n",
    "def select_data(**kwargs):\n",
    "    selected_data.clear()\n",
    "    \n",
    "    for key in kwargs:\n",
    "        if kwargs[key] is True:\n",
    "            selected_data.append(key)\n",
    "    \n",
    "    print(selected_data)\n",
    "    \n",
    "# Link the checkbox selection with the selected dataframes to plot\n",
    "out = widgets.interactive_output(select_data, arg_dict)\n",
    "\n",
    "output = widgets.Output()\n",
    "\n",
    "def plot_data(arg):\n",
    "    \"\"\" Each key in the data dict is a dataframe\n",
    "    \n",
    "    \"\"\"\n",
    "    # Here take the keys in the selected data list and use them to\n",
    "    # access the Dataframes to plot\n",
    "    # Use the same axes. Can have a button to create new plots etc in the future\n",
    "    \n",
    "    # TODO - change this to take the data directly from the dict?\n",
    "    plot_data = [data[x] for x in selected_data]\n",
    "    \n",
    "    # For now just plot the first column in the data\n",
    "        \n",
    "     # Setup the axes    \n",
    "    \n",
    "    x_scale = DateScale()\n",
    "    y_scale = LinearScale()\n",
    "    scales = {\"x\": x_scale, \"y\": y_scale}\n",
    "    \n",
    "    r = lambda: randint(0,255)\n",
    "#     lines = [Lines(x=d.index.values, y=d.iloc[:,0], scales=scales, colors=['#%02X%02X%02X' % (r(),r(),r())]) for d in plot_data]\n",
    "#     lines.x = plot_data[0].index.values\n",
    "#     fig.marks = [Lines(x=d.index.values, y=d.iloc[:,0], scales=scales, colors=['#%02X%02X%02X' % (r(),r(),r())]) for d in plot_data]\n",
    "    print(type(plot_data[0].index.values))\n",
    "    \n",
    "    lines.x = [d.index.values.tolist() for d in plot_data]    \n",
    "    lines.y = [d.iloc[:,0] for d in plot_data]\n",
    "    \n",
    "    print(plot_data[0].index.values.tolist())\n",
    "    \n",
    "#     print(type(plot_data[0].first_valid_index()))\n",
    "    \n",
    "#     print(lines.x)\n",
    "    \n",
    "    \n",
    "#     lines.x = np.arange(100)\n",
    "#     lines.y = np.cumsum(np.random.randn(2, 100), axis=1)\n",
    "#     lines.x = [Lines(x=d.index.values, y=d.iloc[:,0], scales=scales, colors=['#%02X%02X%02X' % (r(),r(),r())]) for d in plot_data]\n",
    "    \n",
    "    \n",
    "x_scale = DateScale()\n",
    "y_scale = LinearScale()\n",
    "scales = {\"x\": x_scale, \"y\": y_scale}\n",
    "\n",
    "ax = Axis(label=\"Date\", scale=x_scale)\n",
    "# TODO - this could be updated depending on what's being plot\n",
    "ay = Axis(label=\"Count\", scale=y_scale, orientation=\"vertical\")\n",
    "\n",
    "lines = Lines(x=np.arange(100), y=np.cumsum(np.random.randn(2, 100), axis=1), scales=scales)\n",
    "fig = Figure(marks=[lines], axes=[ax, ay], animation_duration=1000)\n",
    "    \n",
    "plot_button.on_click(plot_data)\n",
    "\n",
    "# plot_button.on_click(lambda btn: plot_data())\n",
    "\n",
    "display(ui_box, out)\n",
    "\n",
    "VBox([fig])"
   ]
  },
  {
   "cell_type": "code",
   "execution_count": null,
   "metadata": {},
   "outputs": [
    {
     "data": {
      "text/plain": [
       "750"
      ]
     },
     "execution_count": null,
     "metadata": {},
     "output_type": "execute_result"
    }
   ],
   "source": [
    "fig.animation_duration"
   ]
  },
  {
   "cell_type": "code",
   "execution_count": null,
   "metadata": {},
   "outputs": [
    {
     "name": "stdout",
     "output_type": "stream",
     "text": [
      "<traitlets.traitlets.List object at 0x7f7e5406a0b8>\n"
     ]
    }
   ],
   "source": [
    "from bqplot.scales import ColorScale\n",
    "print(ColorScale.colors)"
   ]
  },
  {
   "cell_type": "code",
   "execution_count": null,
   "metadata": {},
   "outputs": [],
   "source": [
    "plot_checkboxes"
   ]
  },
  {
   "cell_type": "markdown",
   "metadata": {},
   "source": [
    "Now we can plot some of the data"
   ]
  },
  {
   "cell_type": "code",
   "execution_count": null,
   "metadata": {},
   "outputs": [],
   "source": [
    "import pandas as pd\n",
    "# co2_data = pd.read_json(data[\"results\"][\"bsd_co2\"])\n",
    "co_data = pd.read_json(data[\"results\"][\"bsd_ch4\"])\n"
   ]
  },
  {
   "cell_type": "code",
   "execution_count": null,
   "metadata": {},
   "outputs": [],
   "source": [
    "co_data.head(10)"
   ]
  },
  {
   "cell_type": "code",
   "execution_count": null,
   "metadata": {},
   "outputs": [],
   "source": [
    "%matplotlib notebook\n",
    "import matplotlib.pyplot as plt\n",
    "from pandas.plotting import register_matplotlib_converters\n",
    "register_matplotlib_converters()\n",
    "\n",
    "fig = plt.figure()\n",
    "# ax = fig.add_subplot(211)\n",
    "# ax.plot(co2_data.index.values, co2_data[\"co2 count\"], color = \"#4e79a7\" )\n",
    "ax = fig.add_subplot(111)\n",
    "ax.plot(co_data.index.values, co_data[\"ch4 count\"], color = \"#59a14f\")\n",
    "\n",
    "plt.show()"
   ]
  },
  {
   "cell_type": "code",
   "execution_count": null,
   "metadata": {},
   "outputs": [],
   "source": [
    "# Checkboxes for selecting which data we want to plot\n",
    "# Select the gas, it goes and plots the \n",
    "# Simple line plot"
   ]
  },
  {
   "cell_type": "code",
   "execution_count": null,
   "metadata": {},
   "outputs": [],
   "source": [
    "from ipyleaflet import (\n",
    "    Map,\n",
    "    Marker, MarkerCluster, TileLayer, ImageOverlay, GeoJSON,\n",
    "    Polyline, Polygon, Rectangle, Circle, CircleMarker, Popup,\n",
    "    SplitMapControl, WidgetControl,\n",
    "    basemaps, basemap_to_tiles\n",
    ")\n",
    "\n",
    "from ipywidgets import HTML"
   ]
  },
  {
   "cell_type": "code",
   "execution_count": null,
   "metadata": {},
   "outputs": [],
   "source": [
    "center = [54.2361, -4.548]\n",
    "zoom = 5\n",
    "m = Map(center=center, zoom=zoom)\n",
    "mark_bsd = Marker(location=(54.942544, -1.369204))\n",
    "mark_bsd.popup = HTML(value=\"Bilsdale\")\n",
    "\n",
    "mark_mhd = Marker(location=(53.20,-9.54))\n",
    "mark_mhd.popup = HTML(value=\"Macehead\")\n",
    "\n",
    "mark_tac = Marker(location=(52.511, 1.155003))\n",
    "mark_tac.popup = HTML(value=\"Tacolneston\")\n",
    "\n",
    "m += mark_bsd\n",
    "m += mark_mhd\n",
    "m += mark_tac\n",
    "\n",
    "display(m)"
   ]
  },
  {
   "cell_type": "code",
   "execution_count": null,
   "metadata": {},
   "outputs": [],
   "source": [
    "m"
   ]
  },
  {
   "cell_type": "code",
   "execution_count": null,
   "metadata": {},
   "outputs": [],
   "source": []
  }
 ],
 "metadata": {
  "kernelspec": {
   "display_name": "Python 3",
   "language": "python",
   "name": "python3"
  }
 },
 "nbformat": 4,
 "nbformat_minor": 2
}
