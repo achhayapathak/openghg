{
 "cells": [
  {
   "cell_type": "code",
   "execution_count": null,
   "metadata": {},
   "outputs": [],
   "source": [
    "import os\n",
    "import sys\n",
    "sys.path.insert(0, \"../..\")\n",
    "sys.path.insert(0, \"../../../acquire\")\n",
    "import ipywidgets as widgets\n",
    "\n",
    "from HUGS.Processing import search\n",
    "\n",
    "from Acquire.Client import User, Drive, Service, PAR, Authorisation, StorageCreds"
   ]
  },
  {
   "cell_type": "code",
   "execution_count": null,
   "metadata": {},
   "outputs": [],
   "source": [
    "# Autoreload modules before executing code, useful during development\n",
    "%load_ext autoreload\n",
    "%autoreload 2"
   ]
  },
  {
   "cell_type": "markdown",
   "metadata": {},
   "source": [
    "## Start with uploading and processing of the data"
   ]
  },
  {
   "cell_type": "code",
   "execution_count": null,
   "metadata": {},
   "outputs": [
    {
     "name": "stdout",
     "output_type": "stream",
     "text": [
      "Login by visiting: https://login.acquire-aaai.com?id=a0-a6/2a.42.db.f9\n",
      "(please check that this page displays the message 'fluffy mice climb quietly')\n"
     ]
    }
   ],
   "source": [
    "base_url = \"https://hugs.acquire-aaai.com/t\"\n",
    "hugs_url = \"https://hugs.acquire-aaai.com\"\n",
    "user = User(username=\"gareth\", identity_url=\"%s/identity\" % base_url)\n",
    "response = user.request_login()"
   ]
  },
  {
   "cell_type": "markdown",
   "metadata": {},
   "source": [
    "Check we're logged in"
   ]
  },
  {
   "cell_type": "code",
   "execution_count": null,
   "metadata": {},
   "outputs": [
    {
     "data": {
      "text/plain": [
       "True"
      ]
     },
     "execution_count": null,
     "metadata": {},
     "output_type": "execute_result"
    }
   ],
   "source": [
    "user.wait_for_login()"
   ]
  },
  {
   "cell_type": "code",
   "execution_count": null,
   "metadata": {},
   "outputs": [],
   "source": [
    "filename = \"bsd.picarro.1minute.248m.dat\"\n",
    "dir_path = os.path.abspath(\"\")\n",
    "test_data = \"../../test/data/proc_test_data/CRDS\"\n",
    "filepath = os.path.join(dir_path, test_data, filename)\n",
    "\n",
    "hugs = Service(service_url=\"%s/hugs\" % base_url)\n",
    "\n",
    "creds = StorageCreds(user=user, service_url=\"%s/storage\" % base_url)\n",
    "drive = Drive(creds=creds, name=\"test_drive\")\n",
    "filemeta = drive.upload(filepath)\n",
    "par = PAR(location=filemeta.location(), user=user)\n",
    "\n",
    "par_secret = hugs.encrypt_data(par.secret())\n",
    "auth = Authorisation(resource=\"process\", user=user)"
   ]
  },
  {
   "cell_type": "code",
   "execution_count": null,
   "metadata": {},
   "outputs": [],
   "source": [
    "def upload_file(authenticated_user, filepath):\n",
    "    \"\"\" Upload a file to the object store\n",
    "    \n",
    "        Args:\n",
    "            filepath (str): Path to file to upload\n",
    "        Returns:\n",
    "            None    \n",
    "    \"\"\"\n",
    "    creds = StorageCreds(user=authenticated_user, service_url=\"%s/storage\" % base_url)\n",
    "    drive = Drive(creds=creds, name=\"test_drive\")\n",
    "    filemeta = drive.upload(filepath)\n",
    "    par = PAR(location=filemeta.location(), user=user)\n",
    "\n",
    "    par_secret = hugs.encrypt_data(par.secret())\n",
    "    auth = Authorisation(resource=\"process\", user=user)"
   ]
  },
  {
   "cell_type": "code",
   "execution_count": null,
   "metadata": {},
   "outputs": [],
   "source": [
    "def get_CRDS_path(filename):\n",
    "    dir_path = os.path.abspath(\"\")\n",
    "    test_data = \"../../test/data/proc_test_data/CRDS\"\n",
    "    return os.path.join(dir_path, test_data, filename)"
   ]
  },
  {
   "cell_type": "markdown",
   "metadata": {},
   "source": [
    "### Upload files for processing\n"
   ]
  },
  {
   "cell_type": "markdown",
   "metadata": {},
   "source": [
    "Clear the Datasources from CRDS and GC objects (currently Datasource UUIDs are just being randomly generated and we get multiple Datasources holding the same data)"
   ]
  },
  {
   "cell_type": "code",
   "execution_count": null,
   "metadata": {},
   "outputs": [],
   "source": [
    "response = hugs.call_function(function=\"clear_datasources\", args={})\n",
    "response"
   ]
  },
  {
   "cell_type": "code",
   "execution_count": null,
   "metadata": {},
   "outputs": [
    {
     "name": "stdout",
     "output_type": "stream",
     "text": [
      "{'bsd.picarro.1minute.248m.dat': ['dc01098c-07e1-4e86-9019-d830feec52c3', '68daa306-8a7a-47d2-b8fb-d63513cd1fc4', '98f99b5b-1f11-4794-8607-13eec12552d2']}\n"
     ]
    }
   ],
   "source": [
    "from HUGS.Client import Process\n",
    "\n",
    "filename = \"bsd.picarro.1minute.248m.dat\"\n",
    "filepath = get_CRDS_path(filename)\n",
    "\n",
    "processing = Process(service_url=base_url)\n",
    "result = processing.process_files(user=user, files=filepath, data_type=\"CRDS\")\n",
    "print(result)"
   ]
  },
  {
   "cell_type": "markdown",
   "metadata": {},
   "source": [
    "Upload some Heathfield data"
   ]
  },
  {
   "cell_type": "code",
   "execution_count": null,
   "metadata": {},
   "outputs": [
    {
     "name": "stdout",
     "output_type": "stream",
     "text": [
      "{'hfd.picarro.1minute.100m_min.dat': ['d277117f-65d7-4e56-955b-dff04f8e2da9', '19640040-8f07-4642-a9a6-2a903e02578e', '74055929-beff-4b53-a15a-4ffa837bebfa']}\n"
     ]
    }
   ],
   "source": [
    "filename = \"hfd.picarro.1minute.100m_min.dat\"\n",
    "filepath = get_CRDS_path(filename)\n",
    "result = processing.process_files(user=user, files=filepath, data_type=\"CRDS\")\n",
    "print(result)"
   ]
  },
  {
   "cell_type": "code",
   "execution_count": null,
   "metadata": {},
   "outputs": [],
   "source": [
    "from HUGS.Processing import search\n",
    "\n",
    "search_results = None\n",
    "\n",
    "search_terms = widgets.Text(\n",
    "                    value=\"\",\n",
    "                    placeholder = \"Search\",\n",
    "                    description = \"Search terms:\",\n",
    "                    disabled = False\n",
    ")\n",
    "\n",
    "locations = widgets.Text(\n",
    "                value=\"\",\n",
    "                placeholder = \"BSD, HFD\",\n",
    "                description = \"Locations:\",\n",
    "                disabled = False\n",
    ")\n",
    "\n",
    "data_type = widgets.Dropdown(\n",
    "                options=[\"CRDS\", \"GC\"], \n",
    "                value=\"CRDS\",\n",
    "                description=\"Data type\",\n",
    "                disabled=False\n",
    "    )\n",
    "\n",
    "\n",
    "\n",
    "layout=widgets.Layout(display = \"flex\", width = \"50%\")\n",
    "search_button = widgets.Button(description=\"Search\", button_style=\"success\", \\\n",
    "                               layout=widgets.Layout(flex='1 1 0%', width='25%'))\n",
    "\n",
    "start_picker = widgets.DatePicker(\n",
    "                    description='Start date',\n",
    "                    disabled=False\n",
    ")\n",
    "\n",
    "end_picker = widgets.DatePicker(\n",
    "                    description='End date',\n",
    "                    disabled=False\n",
    ")\n",
    "\n",
    "\n",
    "box = widgets.VBox(children=[search_terms, locations, start_picker, end_picker, data_type,\n",
    "                                 search_button], layout=layout)\n",
    "\n",
    "\n",
    "\n",
    "def call_search(x):\n",
    "    \"\"\" Call the search function and pass it the values \n",
    "        in the text boxes\n",
    "            \n",
    "    \"\"\"\n",
    "    from datetime import datetime\n",
    "    from Acquire.ObjectStore import datetime_to_string\n",
    "    from HUGS.Client import Search\n",
    "    start = datetime(1970, 1,1) # datetime.combine(start_picker.value, datetime.min.time())\n",
    "    end = datetime.now() # datetime.combine(end_picker.value, datetime.min.time())\n",
    "    \n",
    "    split_search_terms = search_terms.value.replace(\" \", \"\").split(\",\")\n",
    "    split_locations = locations.value.replace(\" \", \"\").split(\",\")\n",
    "    \n",
    "    global search_results\n",
    "    search = Search(service_url=base_url)\n",
    "    search_results = search.search(search_terms=split_search_terms, locations=split_locations, data_type=data_type.value, start_datetime=start, end_datetime=end)\n",
    "\n",
    "search_button.on_click(call_search)\n",
    "\n",
    "\n"
   ]
  },
  {
   "cell_type": "code",
   "execution_count": null,
   "metadata": {},
   "outputs": [
    {
     "data": {
      "application/vnd.jupyter.widget-view+json": {
       "model_id": "4b5f141483be4e4c80b46fc1de1c1524",
       "version_major": 2,
       "version_minor": 0
      },
      "text/plain": [
       "VBox(children=(Text(value='', description='Search terms:', placeholder='Search'), Text(value='', description='…"
      ]
     },
     "metadata": {},
     "output_type": "display_data"
    },
    {
     "name": "stdout",
     "output_type": "stream",
     "text": [
      "['co2', 'co'] ['bsd', 'hfd']\n"
     ]
    }
   ],
   "source": [
    "box"
   ]
  },
  {
   "cell_type": "code",
   "execution_count": null,
   "metadata": {},
   "outputs": [
    {
     "name": "stdout",
     "output_type": "stream",
     "text": [
      "{'bsd_co2': ['data/uuid/68daa306-8a7a-47d2-b8fb-d63513cd1fc4/2014-01-30T10:52:30_2014-01-30T14:20:30'], 'hfd_co2': ['data/uuid/19640040-8f07-4642-a9a6-2a903e02578e/2013-12-04T14:02:30_2013-12-25T22:56:30', 'data/uuid/19640040-8f07-4642-a9a6-2a903e02578e/2014-01-01T18:25:30_2014-12-28T08:02:30', 'data/uuid/19640040-8f07-4642-a9a6-2a903e02578e/2015-01-04T17:22:30_2015-12-30T14:55:30', 'data/uuid/19640040-8f07-4642-a9a6-2a903e02578e/2016-01-06T18:01:30_2016-12-29T02:17:30', 'data/uuid/19640040-8f07-4642-a9a6-2a903e02578e/2017-01-01T19:56:30_2017-12-26T07:35:30', 'data/uuid/19640040-8f07-4642-a9a6-2a903e02578e/2018-01-02T13:10:30_2018-12-30T10:12:30', 'data/uuid/19640040-8f07-4642-a9a6-2a903e02578e/2019-01-06T11:02:30_2019-05-21T15:46:30'], 'bsd_co': ['data/uuid/98f99b5b-1f11-4794-8607-13eec12552d2/2014-01-30T10:52:30_2014-01-30T14:20:30'], 'hfd_co': ['data/uuid/74055929-beff-4b53-a15a-4ffa837bebfa/2013-12-04T14:02:30_2013-12-25T22:56:30', 'data/uuid/74055929-beff-4b53-a15a-4ffa837bebfa/2014-01-01T18:25:30_2014-12-28T08:02:30', 'data/uuid/74055929-beff-4b53-a15a-4ffa837bebfa/2015-01-04T17:22:30_2015-12-30T14:55:30', 'data/uuid/74055929-beff-4b53-a15a-4ffa837bebfa/2016-01-06T18:01:30_2016-12-29T02:17:30', 'data/uuid/74055929-beff-4b53-a15a-4ffa837bebfa/2017-01-01T19:56:30_2017-12-26T07:35:30', 'data/uuid/74055929-beff-4b53-a15a-4ffa837bebfa/2018-01-02T13:10:30_2018-12-30T10:12:30', 'data/uuid/74055929-beff-4b53-a15a-4ffa837bebfa/2019-01-06T11:02:30_2019-05-21T15:46:30']}\n"
     ]
    }
   ],
   "source": [
    "print(search_results)"
   ]
  },
  {
   "cell_type": "markdown",
   "metadata": {},
   "source": [
    "Now take the result dictionary, parse the dictionary into a blocks that can be selected by the user"
   ]
  },
  {
   "cell_type": "code",
   "execution_count": null,
   "metadata": {},
   "outputs": [],
   "source": [
    "def parse_results(results):\n",
    "    \"\"\" Split the keys into a list of each key and the date that the data covers\n",
    "        \n",
    "        Args:\n",
    "            results (dict): Dictionary of search results\n",
    "        Returns:\n",
    "            list (tuple): List of date, data key list pairs\n",
    "    \"\"\"\n",
    "    date_keys = {}\n",
    "    for key in results.keys():\n",
    "        keys = sorted(results[key])\n",
    "        start_key = keys[0]\n",
    "        end_key = keys[-1]\n",
    "        # Get the first and last dates from the keys in the search results\n",
    "        start_date = start_key.split(\"/\")[-1].split(\"_\")[0]\n",
    "        end_date = end_key.split(\"/\")[-1].split(\"_\")[-1]\n",
    "        \n",
    "        dates_covered = start_date + \"_\" + end_date\n",
    "        \n",
    "        date_keys[key] = {\"dates\": dates_covered, \"keys\": keys}\n",
    "        \n",
    "    return date_keys"
   ]
  },
  {
   "cell_type": "markdown",
   "metadata": {},
   "source": [
    "Site, gas, dates and checkbox"
   ]
  },
  {
   "cell_type": "code",
   "execution_count": null,
   "metadata": {},
   "outputs": [
    {
     "name": "stdout",
     "output_type": "stream",
     "text": [
      "{'bsd_co2': {'dates': '2014-01-30T10:52:30_2014-01-30T14:20:30', 'keys': ['data/uuid/68daa306-8a7a-47d2-b8fb-d63513cd1fc4/2014-01-30T10:52:30_2014-01-30T14:20:30']}, 'hfd_co2': {'dates': '2013-12-04T14:02:30_2019-05-21T15:46:30', 'keys': ['data/uuid/19640040-8f07-4642-a9a6-2a903e02578e/2013-12-04T14:02:30_2013-12-25T22:56:30', 'data/uuid/19640040-8f07-4642-a9a6-2a903e02578e/2014-01-01T18:25:30_2014-12-28T08:02:30', 'data/uuid/19640040-8f07-4642-a9a6-2a903e02578e/2015-01-04T17:22:30_2015-12-30T14:55:30', 'data/uuid/19640040-8f07-4642-a9a6-2a903e02578e/2016-01-06T18:01:30_2016-12-29T02:17:30', 'data/uuid/19640040-8f07-4642-a9a6-2a903e02578e/2017-01-01T19:56:30_2017-12-26T07:35:30', 'data/uuid/19640040-8f07-4642-a9a6-2a903e02578e/2018-01-02T13:10:30_2018-12-30T10:12:30', 'data/uuid/19640040-8f07-4642-a9a6-2a903e02578e/2019-01-06T11:02:30_2019-05-21T15:46:30']}, 'bsd_co': {'dates': '2014-01-30T10:52:30_2014-01-30T14:20:30', 'keys': ['data/uuid/98f99b5b-1f11-4794-8607-13eec12552d2/2014-01-30T10:52:30_2014-01-30T14:20:30']}, 'hfd_co': {'dates': '2013-12-04T14:02:30_2019-05-21T15:46:30', 'keys': ['data/uuid/74055929-beff-4b53-a15a-4ffa837bebfa/2013-12-04T14:02:30_2013-12-25T22:56:30', 'data/uuid/74055929-beff-4b53-a15a-4ffa837bebfa/2014-01-01T18:25:30_2014-12-28T08:02:30', 'data/uuid/74055929-beff-4b53-a15a-4ffa837bebfa/2015-01-04T17:22:30_2015-12-30T14:55:30', 'data/uuid/74055929-beff-4b53-a15a-4ffa837bebfa/2016-01-06T18:01:30_2016-12-29T02:17:30', 'data/uuid/74055929-beff-4b53-a15a-4ffa837bebfa/2017-01-01T19:56:30_2017-12-26T07:35:30', 'data/uuid/74055929-beff-4b53-a15a-4ffa837bebfa/2018-01-02T13:10:30_2018-12-30T10:12:30', 'data/uuid/74055929-beff-4b53-a15a-4ffa837bebfa/2019-01-06T11:02:30_2019-05-21T15:46:30']}}\n"
     ]
    }
   ],
   "source": [
    "date_keys = parse_results(search_results)\n",
    "print(date_keys)"
   ]
  },
  {
   "cell_type": "code",
   "execution_count": null,
   "metadata": {},
   "outputs": [
    {
     "data": {
      "application/vnd.jupyter.widget-view+json": {
       "model_id": "52d6856846c44db4888fc5b661a0c545",
       "version_major": 2,
       "version_minor": 0
      },
      "text/plain": [
       "VBox(children=(HBox(children=(HTML(value='<b>Site</b>', layout=Layout(height='28px', min_height='28px', min_wi…"
      ]
     },
     "metadata": {},
     "output_type": "display_data"
    },
    {
     "data": {
      "application/vnd.jupyter.widget-view+json": {
       "model_id": "874f0936be9246508cf06859973a3ac1",
       "version_major": 2,
       "version_minor": 0
      },
      "text/plain": [
       "Output()"
      ]
     },
     "metadata": {},
     "output_type": "display_data"
    }
   ],
   "source": [
    "from ipywidgets import Button, ButtonStyle, Checkbox, HTML, Label, HBox, VBox\n",
    "\n",
    "table_style = {'description_width': 'initial'}\n",
    "table_layout = {'width':'100px', 'min_width':'100px', 'height':'28px', 'min_height':'28px'}\n",
    "date_layout = {'width':'275px', 'min_width':'200px', 'height':'28px', 'min_height':'28px'}\n",
    "checkbox_layout = {'width':'100px', 'min_width':'100px', 'height':'28px', 'min_height':'28px'}\n",
    "statusbar_layout = {'width':'250px', 'min_width':'250px', 'height':'28px', 'min_height':'28px'}\n",
    "\n",
    "# row_layout = {'width':'200px', 'min_width':'200px'}\n",
    "\n",
    "header_label_site = HTML(value=f\"<b>Site</b>\", layout=table_layout)\n",
    "header_label_gas = HTML(value=f\"<b>Gas</b>\", layout=table_layout)\n",
    "header_label_dates = HTML(value=f\"<b>Dates</b>\", layout=date_layout)\n",
    "header_label_select = HTML(value=f\"<b>Select</b>\", layout=checkbox_layout)\n",
    "\n",
    "checkbox_objects = []\n",
    "search_keys = []\n",
    "\n",
    "site_labels = []\n",
    "date_labels = []\n",
    "gas_labels = []\n",
    "for key in date_keys:\n",
    "    # Create the checkboxes\n",
    "    checkbox = Checkbox(value=False)\n",
    "    checkbox_objects.append(checkbox)\n",
    "    search_keys.append(key)\n",
    "    \n",
    "    dates = date_keys[key][\"dates\"].replace(\"_\", \" to \").replace(\"T\", \" \")\n",
    "    date_label = Label(value=dates, layout=date_layout)\n",
    "    \n",
    "    split_key = key.split(\"_\")\n",
    "    site_name = split_key[0].upper()\n",
    "    gas_name = split_key[1].upper()\n",
    "    \n",
    "    gas_label = Label(value=gas_name, layout=table_layout)\n",
    "    site_label = Label(value=site_name, layout=table_layout)\n",
    "\n",
    "    date_labels.append(date_label)\n",
    "    site_labels.append(site_label)\n",
    "    gas_labels.append(gas_label)\n",
    "\n",
    "    \n",
    "arg_dict = {search_keys[i]: checkbox for i, checkbox in enumerate(checkbox_objects)}\n",
    "\n",
    "header_box = HBox(children=[header_label_site, header_label_gas, header_label_dates, header_label_select])\n",
    "\n",
    "site_vbox = VBox(children=site_labels)\n",
    "gas_vbox = VBox(children=gas_labels)\n",
    "dates_vbox = VBox(children=date_labels)\n",
    "checkbox_vbox = VBox(children=checkbox_objects)\n",
    "\n",
    "dynamic_box = HBox(children=[site_vbox, gas_vbox, dates_vbox, checkbox_vbox])\n",
    "\n",
    "download_button = Button(description=\"Download\", button_style=\"success\", layout=table_layout)\n",
    "download_box = HBox(children=[download_button])\n",
    "\n",
    "status_bar = HTML(value=\"Status: Waiting...\", layout=statusbar_layout)\n",
    "\n",
    "complete = VBox(children=[header_box, dynamic_box, download_box, status_bar])\n",
    "\n",
    "selected_data = []\n",
    "def select_data(**kwargs):\n",
    "    selected_data.clear()\n",
    "    \n",
    "    for key in kwargs:\n",
    "        if kwargs[key] is True:\n",
    "            selected_data.append(key)\n",
    "\n",
    "def update_statusbar(text):\n",
    "    status_bar.value = F\"Status: {text}\"\n",
    "    \n",
    "data = None\n",
    "def download_data(args):\n",
    "    \"\"\" Download the data in the selected keys from the object store\n",
    "    \n",
    "        Args:\n",
    "            ?\n",
    "        Returns:\n",
    "            Pandas.Dataframe of selected data\n",
    "    \"\"\"\n",
    "    from HUGS.Client import Retrieve\n",
    "    from pandas import read_json as pd_read_json\n",
    "    \n",
    "    update_statusbar(\"Downloading...\")\n",
    "    \n",
    "    download_keys = {key: date_keys[key][\"keys\"] for key in selected_data}\n",
    "    \n",
    "    retrieve = Retrieve(service_url=base_url)\n",
    "    \n",
    "    global data\n",
    "    data = retrieve.retrieve(keys=download_keys)\n",
    "    \n",
    "    # Conver the JSON into Dataframes\n",
    "    for key in data:\n",
    "        data[key] = pd_read_json(data[key])\n",
    "    \n",
    "    # Update the status bar\n",
    "    if len(data) > 0:\n",
    "        update_statusbar(\"Download complete\")\n",
    "    else:\n",
    "        update_statusbar(\"No data downloaded\")\n",
    "            \n",
    "download_button.on_click(download_data)\n",
    "out = widgets.interactive_output(select_data, arg_dict)\n",
    "\n",
    "display(complete, out)"
   ]
  },
  {
   "cell_type": "code",
   "execution_count": null,
   "metadata": {},
   "outputs": [
    {
     "data": {
      "text/plain": [
       "dict_keys(['bsd_co2', 'hfd_co2', 'bsd_co', 'hfd_co'])"
      ]
     },
     "execution_count": null,
     "metadata": {},
     "output_type": "execute_result"
    }
   ],
   "source": [
    "data.keys()"
   ]
  },
  {
   "cell_type": "markdown",
   "metadata": {},
   "source": [
    "Retrieve the data from the object store"
   ]
  },
  {
   "cell_type": "code",
   "execution_count": null,
   "metadata": {},
   "outputs": [
    {
     "data": {
      "text/plain": [
       "['bsd_co2', 'hfd_co2', 'bsd_co', 'hfd_co']"
      ]
     },
     "execution_count": null,
     "metadata": {},
     "output_type": "execute_result"
    }
   ],
   "source": [
    "selected_data"
   ]
  },
  {
   "cell_type": "code",
   "execution_count": null,
   "metadata": {},
   "outputs": [
    {
     "data": {
      "text/plain": [
       "{'bsd_co2':                      co2 count  co2 stdev  co2 n_meas\n",
       " 2014-01-30 10:52:30     409.66      0.028          26\n",
       " 2014-01-30 10:53:30     409.50      0.058          26\n",
       " 2014-01-30 10:54:30     409.50      0.026          25\n",
       " 2014-01-30 10:55:30     409.37      0.044          26\n",
       " 2014-01-30 10:56:30     409.45      0.023          25\n",
       " ...                        ...        ...         ...\n",
       " 2014-01-30 14:16:30     408.82      0.032          26\n",
       " 2014-01-30 14:17:30     408.76      0.060          25\n",
       " 2014-01-30 14:18:30     408.79      0.030          26\n",
       " 2014-01-30 14:19:30     408.80      0.024          26\n",
       " 2014-01-30 14:20:30     408.78      0.019          25\n",
       " \n",
       " [76 rows x 3 columns],\n",
       " 'hfd_co2':                      co2 count  co2 stdev  co2 n_meas\n",
       " 2013-12-04 14:02:30     414.21      0.109          19\n",
       " 2013-12-11 12:52:30     410.96      0.258          19\n",
       " 2013-12-18 19:12:30     402.34      0.091          19\n",
       " 2013-12-25 22:56:30     401.66      0.317          19\n",
       " 2014-01-01 18:25:30     401.86      0.054          19\n",
       " ...                        ...        ...         ...\n",
       " 2019-05-07 01:43:30     413.97      0.026          15\n",
       " 2019-05-10 17:56:30     411.52      0.029          16\n",
       " 2019-05-14 06:15:30     422.50      0.126          15\n",
       " 2019-05-17 19:07:30     416.48      0.079          16\n",
       " 2019-05-21 15:46:30     411.08      0.247          16\n",
       " \n",
       " [274 rows x 3 columns],\n",
       " 'bsd_co':                      co count  co stdev  co n_meas\n",
       " 2014-01-30 10:52:30    204.62     6.232         26\n",
       " 2014-01-30 10:53:30    200.78     5.934         26\n",
       " 2014-01-30 10:54:30    201.54     5.176         25\n",
       " 2014-01-30 10:55:30    203.39     6.535         26\n",
       " 2014-01-30 10:56:30    201.87     6.345         25\n",
       " ...                       ...       ...        ...\n",
       " 2014-01-30 14:16:30    197.83     6.410         26\n",
       " 2014-01-30 14:17:30    197.37     6.194         25\n",
       " 2014-01-30 14:18:30    197.52     8.251         26\n",
       " 2014-01-30 14:19:30    196.92     6.031         26\n",
       " 2014-01-30 14:20:30    196.35     6.879         25\n",
       " \n",
       " [76 rows x 3 columns],\n",
       " 'hfd_co':                      co count  co stdev  co n_meas\n",
       " 2013-12-04 14:02:30    214.28     4.081         19\n",
       " 2013-12-11 12:52:30    216.21     3.634         19\n",
       " 2013-12-18 19:12:30    146.97     3.887         19\n",
       " 2013-12-25 22:56:30    135.33     4.110         19\n",
       " 2014-01-01 18:25:30    133.41     3.750         19\n",
       " ...                       ...       ...        ...\n",
       " 2019-05-07 01:43:30    124.65     3.619         15\n",
       " 2019-05-10 17:56:30    122.94     3.276         16\n",
       " 2019-05-14 06:15:30    123.69     4.280         15\n",
       " 2019-05-17 19:07:30    133.65     3.603         16\n",
       " 2019-05-21 15:46:30    118.47     4.442         16\n",
       " \n",
       " [274 rows x 3 columns]}"
      ]
     },
     "execution_count": null,
     "metadata": {},
     "output_type": "execute_result"
    }
   ],
   "source": [
    "data"
   ]
  },
  {
   "cell_type": "markdown",
   "metadata": {},
   "source": [
    "Plot the data we've selected"
   ]
  },
  {
   "cell_type": "markdown",
   "metadata": {},
   "source": [
    "Select the data from the downloaded data using the checkboxes and then click plot to update the figure"
   ]
  },
  {
   "cell_type": "code",
   "execution_count": null,
   "metadata": {},
   "outputs": [
    {
     "data": {
      "application/vnd.jupyter.widget-view+json": {
       "model_id": "c3395420bc9b4929bcbbfc5c8dcb6412",
       "version_major": 2,
       "version_minor": 0
      },
      "text/plain": [
       "VBox(children=(HBox(children=(HBox(children=(HTML(value='<b>Select data: </b>', layout=Layout(height='28px', m…"
      ]
     },
     "metadata": {},
     "output_type": "display_data"
    },
    {
     "data": {
      "application/vnd.jupyter.widget-view+json": {
       "model_id": "f65cc980fe8d499ea06359e8784eeac9",
       "version_major": 2,
       "version_minor": 0
      },
      "text/plain": [
       "Output()"
      ]
     },
     "metadata": {},
     "output_type": "display_data"
    },
    {
     "data": {
      "application/vnd.jupyter.widget-view+json": {
       "model_id": "519e1d4e43064843b256c237a0109f65",
       "version_major": 2,
       "version_minor": 0
      },
      "text/plain": [
       "VBox(children=(Figure(animation_duration=750, axes=[Axis(scale=LinearScale()), Axis(orientation='vertical', sc…"
      ]
     },
     "metadata": {},
     "output_type": "display_data"
    },
    {
     "ename": "ValueError",
     "evalue": "Can't clean for JSON: Lines(colors=['#863F7D'], interactions={'hover': 'tooltip'}, scales={'x': DateScale(), 'y': LinearScale()}, scales_metadata={'x': {'orientation': 'horizontal', 'dimension': 'x'}, 'y': {'orientation': 'vertical', 'dimension': 'y'}, 'color': {'dimension': 'color'}}, tooltip_style={'opacity': 0.9}, x=array(['2013-12-04T14:02:30.000000000', '2013-12-11T12:52:30.000000000',\n       '2013-12-18T19:12:30.000000000', '2013-12-25T22:56:30.000000000',\n       '2014-01-01T18:25:30.000000000', '2014-01-08T14:03:30.000000000',\n       '2014-03-12T00:56:30.000000000', '2014-03-19T02:06:30.000000000',\n       '2014-03-26T02:39:30.000000000', '2014-04-02T02:56:30.000000000',\n       '2014-04-09T03:14:30.000000000', '2014-04-16T07:34:30.000000000',\n       '2014-04-23T05:49:30.000000000', '2014-04-30T03:12:30.000000000',\n       '2014-05-07T00:28:30.000000000', '2014-05-14T02:12:30.000000000',\n       '2014-05-20T23:09:30.000000000', '2014-05-27T18:38:30.000000000',\n       '2014-06-03T13:47:30.000000000', '2014-07-08T15:42:30.000000000',\n       '2014-07-15T10:46:30.000000000', '2014-07-29T07:13:30.000000000',\n       '2014-08-05T02:34:30.000000000', '2014-08-11T22:03:30.000000000',\n       '2014-08-18T23:01:30.000000000', '2014-08-25T18:30:30.000000000',\n       '2014-09-01T13:39:30.000000000', '2014-09-08T11:51:30.000000000',\n       '2014-09-15T11:14:30.000000000', '2014-09-22T14:59:30.000000000',\n       '2014-09-29T11:49:30.000000000', '2014-10-06T07:24:30.000000000',\n       '2014-10-13T18:10:30.000000000', '2014-10-28T18:20:30.000000000',\n       '2014-11-05T04:58:30.000000000', '2014-11-12T15:18:30.000000000',\n       '2014-11-20T05:38:30.000000000', '2014-11-27T15:28:30.000000000',\n       '2014-12-05T04:18:30.000000000', '2014-12-12T12:38:30.000000000',\n       '2014-12-20T22:12:30.000000000', '2014-12-28T08:02:30.000000000',\n       '2015-01-04T17:22:30.000000000', '2015-01-12T03:12:30.000000000',\n       '2015-01-19T18:02:30.000000000', '2015-01-27T03:22:30.000000000',\n       '2015-02-03T13:42:30.000000000', '2015-02-10T23:02:30.000000000',\n       '2015-02-18T08:22:30.000000000', '2015-02-25T23:12:30.000000000',\n       '2015-03-07T01:37:30.000000000', '2015-03-14T04:56:30.000000000',\n       '2015-03-24T00:09:30.000000000', '2015-03-30T20:07:30.000000000',\n       '2015-04-06T15:36:30.000000000', '2015-04-13T11:05:30.000000000',\n       '2015-04-27T07:12:30.000000000', '2015-05-04T02:51:30.000000000',\n       '2015-05-11T00:12:30.000000000', '2015-05-17T23:06:30.000000000',\n       '2015-05-25T03:45:30.000000000', '2015-06-01T04:50:30.000000000',\n       '2015-06-08T05:30:30.000000000', '2015-06-15T06:40:30.000000000',\n       '2015-06-23T09:39:30.000000000', '2015-06-30T10:19:30.000000000',\n       '2015-07-07T11:49:30.000000000', '2015-07-14T11:08:30.000000000',\n       '2015-07-21T15:30:30.000000000', '2015-07-28T17:31:30.000000000',\n       '2015-08-04T15:59:30.000000000', '2015-08-11T15:10:30.000000000',\n       '2015-08-18T14:28:30.000000000', '2015-08-25T18:08:30.000000000',\n       '2015-09-01T16:30:30.000000000', '2015-09-08T15:39:30.000000000',\n       '2015-09-15T15:09:30.000000000', '2015-09-22T19:22:30.000000000',\n       '2015-09-29T19:19:30.000000000', '2015-10-06T18:58:30.000000000',\n       '2015-10-20T20:50:30.000000000', '2015-10-28T05:33:30.000000000',\n       '2015-11-04T04:57:30.000000000', '2015-11-11T08:09:30.000000000',\n       '2015-11-18T07:32:30.000000000', '2015-11-25T11:11:30.000000000',\n       '2015-12-09T14:02:30.000000000', '2015-12-23T10:24:30.000000000',\n       '2015-12-30T14:55:30.000000000', '2016-01-06T18:01:30.000000000',\n       '2016-01-13T17:31:30.000000000', '2016-01-20T17:32:30.000000000',\n       '2016-01-27T13:55:30.000000000', '2016-02-03T17:39:30.000000000',\n       '2016-02-17T15:21:30.000000000', '2016-02-24T12:53:30.000000000',\n       '2016-03-02T17:24:30.000000000', '2016-03-09T16:27:30.000000000',\n       '2016-03-16T14:57:30.000000000', '2016-03-23T12:28:30.000000000',\n       '2016-03-30T16:50:30.000000000', '2016-04-06T15:49:30.000000000',\n       '2016-04-20T12:52:30.000000000', '2016-04-27T17:39:30.000000000',\n       '2016-05-04T15:37:30.000000000', '2016-05-11T14:50:30.000000000',\n       '2016-05-18T13:31:30.000000000', '2016-06-01T17:19:30.000000000',\n       '2016-06-08T15:20:30.000000000', '2016-06-15T13:58:30.000000000',\n       '2016-06-22T18:24:30.000000000', '2016-06-29T16:34:30.000000000',\n       '2016-07-06T15:54:30.000000000', '2016-07-13T14:27:30.000000000',\n       '2016-07-20T18:56:30.000000000', '2016-07-27T16:07:30.000000000',\n       '2016-08-03T15:22:30.000000000', '2016-08-10T13:42:30.000000000',\n       '2016-08-17T17:34:30.000000000', '2016-08-25T14:40:30.000000000',\n       '2016-09-01T13:06:30.000000000', '2016-09-08T12:28:30.000000000',\n       '2016-09-15T17:20:30.000000000', '2016-09-22T19:52:30.000000000',\n       '2016-09-29T19:25:30.000000000', '2016-10-06T18:34:30.000000000',\n       '2016-10-13T22:02:30.000000000', '2016-10-20T20:42:30.000000000',\n       '2016-10-27T18:58:30.000000000', '2016-11-03T18:17:30.000000000',\n       '2016-11-17T20:01:30.000000000', '2016-11-24T17:34:30.000000000',\n       '2016-12-08T20:05:30.000000000', '2016-12-15T18:51:30.000000000',\n       '2016-12-22T01:18:30.000000000', '2016-12-25T13:38:30.000000000',\n       '2016-12-29T02:17:30.000000000', '2017-01-01T19:56:30.000000000',\n       '2017-01-05T08:14:30.000000000', '2017-01-08T20:53:30.000000000',\n       '2017-01-12T09:12:30.000000000', '2017-01-15T21:51:30.000000000',\n       '2017-01-19T10:10:30.000000000', '2017-01-22T22:49:30.000000000',\n       '2017-01-26T11:08:30.000000000', '2017-01-30T04:45:30.000000000',\n       '2017-02-06T05:43:30.000000000', '2017-02-09T18:22:30.000000000',\n       '2017-02-13T06:41:30.000000000', '2017-02-16T19:20:30.000000000',\n       '2017-02-20T07:38:30.000000000', '2017-02-24T06:55:30.000000000',\n       '2017-03-03T10:08:30.000000000', '2017-03-10T13:27:30.000000000',\n       '2017-03-17T11:09:30.000000000', '2017-03-24T15:28:30.000000000',\n       '2017-03-31T13:59:30.000000000', '2017-04-14T15:40:30.000000000',\n       '2017-04-21T19:07:30.000000000', '2017-04-28T18:30:30.000000000',\n       '2017-05-05T17:29:30.000000000', '2017-05-12T22:27:30.000000000',\n       '2017-05-20T01:40:30.000000000', '2017-05-27T00:12:30.000000000',\n       '2017-06-10T19:23:30.000000000', '2017-06-24T21:57:30.000000000',\n       '2017-07-01T20:21:30.000000000', '2017-07-08T23:56:30.000000000',\n       '2017-07-16T23:09:30.000000000', '2017-07-23T23:05:30.000000000',\n       '2017-07-31T00:06:30.000000000', '2017-08-14T17:03:30.000000000',\n       '2017-08-21T18:09:30.000000000', '2017-09-04T21:17:30.000000000',\n       '2017-09-12T03:29:30.000000000', '2017-09-19T11:37:30.000000000',\n       '2017-09-26T13:04:30.000000000', '2017-09-30T04:05:30.000000000',\n       '2017-10-03T17:42:30.000000000', '2017-10-07T12:19:30.000000000',\n       '2017-10-11T02:15:30.000000000', '2017-10-15T00:30:30.000000000',\n       '2017-10-18T13:49:30.000000000', '2017-10-22T03:45:30.000000000',\n       '2017-10-25T17:25:30.000000000', '2017-10-29T07:02:30.000000000',\n       '2017-11-01T20:40:30.000000000', '2017-11-05T15:19:30.000000000',\n       '2017-11-09T05:15:30.000000000', '2017-11-12T18:51:30.000000000',\n       '2017-11-16T17:09:30.000000000', '2017-11-20T06:47:30.000000000',\n       '2017-11-23T20:24:30.000000000', '2017-11-27T10:02:30.000000000',\n       '2017-12-01T00:00:30.000000000', '2017-12-04T18:37:30.000000000',\n       '2017-12-08T08:14:30.000000000', '2017-12-11T21:53:30.000000000',\n       '2017-12-15T20:11:30.000000000', '2017-12-19T09:45:30.000000000',\n       '2017-12-26T07:35:30.000000000', '2018-01-02T13:10:30.000000000',\n       '2018-01-09T14:01:30.000000000', '2018-01-16T23:36:30.000000000',\n       '2018-01-24T01:24:30.000000000', '2018-01-31T07:55:30.000000000',\n       '2018-02-14T15:17:30.000000000', '2018-02-21T15:54:30.000000000',\n       '2018-03-09T00:32:30.000000000', '2018-03-16T01:40:30.000000000',\n       '2018-03-23T03:23:30.000000000', '2018-03-26T22:50:30.000000000',\n       '2018-03-30T12:27:30.000000000', '2018-04-03T02:23:30.000000000',\n       '2018-04-06T15:40:30.000000000', '2018-04-10T05:37:30.000000000',\n       '2018-04-13T19:14:30.000000000', '2018-04-17T08:52:30.000000000',\n       '2018-04-20T22:29:30.000000000', '2018-04-24T12:07:30.000000000',\n       '2018-04-29T15:43:30.000000000', '2018-05-06T17:29:30.000000000',\n       '2018-05-13T18:19:30.000000000', '2018-05-20T19:01:30.000000000',\n       '2018-06-03T21:21:30.000000000', '2018-06-11T00:16:30.000000000',\n       '2018-06-18T01:59:30.000000000', '2018-06-25T03:38:30.000000000',\n       '2018-07-02T05:18:30.000000000', '2018-07-09T07:01:30.000000000',\n       '2018-07-23T09:40:30.000000000', '2018-07-30T11:01:30.000000000',\n       '2018-08-06T12:42:30.000000000', '2018-08-13T13:38:30.000000000',\n       '2018-08-20T15:14:30.000000000', '2018-08-27T16:06:30.000000000',\n       '2018-09-03T18:02:30.000000000', '2018-09-10T18:03:30.000000000',\n       '2018-09-17T19:34:30.000000000', '2018-09-24T21:20:30.000000000',\n       '2018-10-05T11:28:30.000000000', '2018-10-12T12:41:30.000000000',\n       '2018-10-19T14:21:30.000000000', '2018-10-26T15:09:30.000000000',\n       '2018-11-09T18:05:30.000000000', '2018-11-16T18:35:30.000000000',\n       '2018-11-23T20:16:30.000000000', '2018-11-30T21:10:30.000000000',\n       '2018-12-15T00:37:30.000000000', '2018-12-23T03:51:30.000000000',\n       '2018-12-30T10:12:30.000000000', '2019-01-06T11:02:30.000000000',\n       '2019-01-13T11:57:30.000000000', '2019-01-20T13:23:30.000000000',\n       '2019-01-27T20:27:30.000000000', '2019-02-03T21:36:30.000000000',\n       '2019-02-10T22:55:30.000000000', '2019-02-25T20:19:30.000000000',\n       '2019-03-04T00:13:30.000000000', '2019-03-09T05:44:30.000000000',\n       '2019-03-14T10:52:30.000000000', '2019-03-19T16:35:30.000000000',\n       '2019-03-25T12:29:30.000000000', '2019-03-30T18:43:30.000000000',\n       '2019-04-05T00:37:30.000000000', '2019-04-10T06:31:30.000000000',\n       '2019-04-15T12:59:30.000000000', '2019-04-21T03:17:30.000000000',\n       '2019-05-01T19:37:30.000000000', '2019-05-07T01:43:30.000000000',\n       '2019-05-10T17:56:30.000000000', '2019-05-14T06:15:30.000000000',\n       '2019-05-17T19:07:30.000000000', '2019-05-21T15:46:30.000000000'],\n      dtype='datetime64[ns]'), y=array([414.21, 410.96, 402.34, 401.66, 401.86, 402.95, 408.48, 408.79,\n       412.96, 408.9 , 402.81, 408.49, 402.59, 400.67, 405.95, 404.01,\n       401.45, 400.71, 400.11, 389.66, 394.56, 400.04, 392.54, 392.97,\n       392.8 , 392.4 , 389.09, 387.54, 394.52, 391.84, 418.35, 394.95,\n       403.71, 410.04, 419.53, 401.33, 421.69, 421.53, 438.53, 401.85,\n       405.56, 407.55, 407.73, 402.95, 411.58, 407.95, 407.93, 409.57,\n       405.42, 405.26, 405.18, 412.19, 411.61, 405.36, 406.36, 405.26,\n       419.27, 406.03, 402.05, 409.47, 410.95, 410.52, 412.8 , 407.  ,\n       398.98, 391.31, 396.98, 397.76, 393.46, 390.88, 392.36, 385.93,\n       387.52, 393.88, 390.06, 390.12, 392.25, 401.34, 402.84, 398.91,\n       406.63, 406.17, 411.83, 403.56, 411.29, 408.12, 405.33, 406.76,\n       407.96, 431.01, 407.53, 428.03, 408.31, 410.24, 410.86, 409.46,\n       409.16, 412.13, 412.29, 415.51, 408.47, 405.96, 408.47, 408.78,\n       406.86, 410.33, 404.39, 402.55, 392.81, 401.11, 403.97, 399.33,\n       397.65, 393.34, 401.16, 396.06, 395.81, 393.3 , 399.05, 414.19,\n       393.93, 394.07, 402.89, 401.46, 399.41, 404.04, 424.03, 418.93,\n       409.17, 410.91, 408.12, 410.92, 421.  , 424.31, 410.08, 407.24,\n       414.23, 411.19, 415.11, 417.72, 413.22, 416.1 , 429.83, 445.39,\n       435.5 , 412.85, 422.26, 430.8 , 440.36, 417.25, 418.21, 414.81,\n       420.81, 415.73, 411.99, 418.96, 410.52, 410.09, 410.06, 414.41,\n       414.29, 412.11, 412.5 , 405.71, 406.63, 409.4 , 400.67, 407.8 ,\n       415.07, 402.26, 400.06, 396.31, 404.15, 401.79, 404.17, 404.25,\n       414.97, 404.66, 398.41, 401.8 , 404.21, 407.08, 424.11, 407.32,\n       408.  , 411.63, 410.57, 407.73, 406.23, 412.85, 409.41, 413.37,\n       412.62, 411.99, 413.13, 416.06, 414.08, 426.77, 420.87, 414.61,\n       413.96, 413.41, 426.65, 412.92, 410.5 , 413.18, 413.61, 423.14,\n       414.91, 415.6 , 415.07, 415.09, 415.83, 414.36, 408.98, 428.57,\n       422.25, 419.21, 453.93, 414.4 , 413.35, 402.75, 411.18, 398.52,\n       405.55, 415.44, 412.09, 405.17, 417.59, 403.19, 404.83, 404.6 ,\n       403.3 , 403.15, 401.75, 395.4 , 400.08, 401.92, 403.58, 403.69,\n       410.3 , 404.77, 410.4 , 408.6 , 410.55, 434.01, 446.58, 412.09,\n       428.54, 413.38, 423.77, 422.66, 415.42, 427.77, 415.9 , 418.42,\n       416.99, 427.31, 415.24, 418.03, 414.99, 414.61, 417.12, 417.27,\n       416.15, 418.54, 417.07, 415.17, 411.13, 413.97, 411.52, 422.5 ,\n       416.48, 411.08]))",
     "output_type": "error",
     "traceback": [
      "\u001b[0;31m---------------------------------------------------------------------------\u001b[0m",
      "\u001b[0;31mValueError\u001b[0m                                Traceback (most recent call last)",
      "\u001b[0;32m<ipython-input-39-3f45a0b2796f>\u001b[0m in \u001b[0;36mplot_data\u001b[0;34m(arg)\u001b[0m\n\u001b[1;32m     68\u001b[0m \u001b[0;34m\u001b[0m\u001b[0m\n\u001b[1;32m     69\u001b[0m     \u001b[0mscales\u001b[0m \u001b[0;34m=\u001b[0m \u001b[0;34m{\u001b[0m\u001b[0;34m\"x\"\u001b[0m\u001b[0;34m:\u001b[0m \u001b[0mx_scale\u001b[0m\u001b[0;34m,\u001b[0m \u001b[0;34m\"y\"\u001b[0m\u001b[0;34m:\u001b[0m \u001b[0my_scale\u001b[0m\u001b[0;34m}\u001b[0m\u001b[0;34m\u001b[0m\u001b[0;34m\u001b[0m\u001b[0m\n\u001b[0;32m---> 70\u001b[0;31m     \u001b[0mlines\u001b[0m\u001b[0;34m.\u001b[0m\u001b[0my\u001b[0m \u001b[0;34m=\u001b[0m \u001b[0;34m[\u001b[0m\u001b[0mLines\u001b[0m\u001b[0;34m(\u001b[0m\u001b[0mx\u001b[0m\u001b[0;34m=\u001b[0m\u001b[0md\u001b[0m\u001b[0;34m.\u001b[0m\u001b[0mindex\u001b[0m\u001b[0;34m.\u001b[0m\u001b[0mvalues\u001b[0m\u001b[0;34m,\u001b[0m \u001b[0my\u001b[0m\u001b[0;34m=\u001b[0m\u001b[0md\u001b[0m\u001b[0;34m.\u001b[0m\u001b[0miloc\u001b[0m\u001b[0;34m[\u001b[0m\u001b[0;34m:\u001b[0m\u001b[0;34m,\u001b[0m\u001b[0;36m0\u001b[0m\u001b[0;34m]\u001b[0m\u001b[0;34m,\u001b[0m \u001b[0mscales\u001b[0m\u001b[0;34m=\u001b[0m\u001b[0mscales\u001b[0m\u001b[0;34m,\u001b[0m \u001b[0mcolors\u001b[0m\u001b[0;34m=\u001b[0m\u001b[0;34m[\u001b[0m\u001b[0;34m'#%02X%02X%02X'\u001b[0m \u001b[0;34m%\u001b[0m \u001b[0;34m(\u001b[0m\u001b[0mr\u001b[0m\u001b[0;34m(\u001b[0m\u001b[0;34m)\u001b[0m\u001b[0;34m,\u001b[0m\u001b[0mr\u001b[0m\u001b[0;34m(\u001b[0m\u001b[0;34m)\u001b[0m\u001b[0;34m,\u001b[0m\u001b[0mr\u001b[0m\u001b[0;34m(\u001b[0m\u001b[0;34m)\u001b[0m\u001b[0;34m)\u001b[0m\u001b[0;34m]\u001b[0m\u001b[0;34m)\u001b[0m \u001b[0;32mfor\u001b[0m \u001b[0md\u001b[0m \u001b[0;32min\u001b[0m \u001b[0mplot_data\u001b[0m\u001b[0;34m]\u001b[0m\u001b[0;34m\u001b[0m\u001b[0;34m\u001b[0m\u001b[0m\n\u001b[0m\u001b[1;32m     71\u001b[0m \u001b[0;34m\u001b[0m\u001b[0m\n\u001b[1;32m     72\u001b[0m     \u001b[0;31m# Update the values of each of the lines\u001b[0m\u001b[0;34m\u001b[0m\u001b[0;34m\u001b[0m\u001b[0;34m\u001b[0m\u001b[0m\n",
      "\u001b[0;32m~/Documents/Devel/env/widgets/lib/python3.7/site-packages/traitlets/traitlets.py\u001b[0m in \u001b[0;36m__set__\u001b[0;34m(self, obj, value)\u001b[0m\n\u001b[1;32m    583\u001b[0m             \u001b[0;32mraise\u001b[0m \u001b[0mTraitError\u001b[0m\u001b[0;34m(\u001b[0m\u001b[0;34m'The \"%s\" trait is read-only.'\u001b[0m \u001b[0;34m%\u001b[0m \u001b[0mself\u001b[0m\u001b[0;34m.\u001b[0m\u001b[0mname\u001b[0m\u001b[0;34m)\u001b[0m\u001b[0;34m\u001b[0m\u001b[0;34m\u001b[0m\u001b[0m\n\u001b[1;32m    584\u001b[0m         \u001b[0;32melse\u001b[0m\u001b[0;34m:\u001b[0m\u001b[0;34m\u001b[0m\u001b[0;34m\u001b[0m\u001b[0m\n\u001b[0;32m--> 585\u001b[0;31m             \u001b[0mself\u001b[0m\u001b[0;34m.\u001b[0m\u001b[0mset\u001b[0m\u001b[0;34m(\u001b[0m\u001b[0mobj\u001b[0m\u001b[0;34m,\u001b[0m \u001b[0mvalue\u001b[0m\u001b[0;34m)\u001b[0m\u001b[0;34m\u001b[0m\u001b[0;34m\u001b[0m\u001b[0m\n\u001b[0m\u001b[1;32m    586\u001b[0m \u001b[0;34m\u001b[0m\u001b[0m\n\u001b[1;32m    587\u001b[0m     \u001b[0;32mdef\u001b[0m \u001b[0m_validate\u001b[0m\u001b[0;34m(\u001b[0m\u001b[0mself\u001b[0m\u001b[0;34m,\u001b[0m \u001b[0mobj\u001b[0m\u001b[0;34m,\u001b[0m \u001b[0mvalue\u001b[0m\u001b[0;34m)\u001b[0m\u001b[0;34m:\u001b[0m\u001b[0;34m\u001b[0m\u001b[0;34m\u001b[0m\u001b[0m\n",
      "\u001b[0;32m~/Documents/Devel/env/widgets/lib/python3.7/site-packages/traittypes/traittypes.py\u001b[0m in \u001b[0;36mset\u001b[0;34m(self, obj, value)\u001b[0m\n\u001b[1;32m    110\u001b[0m         \u001b[0mobj\u001b[0m\u001b[0;34m.\u001b[0m\u001b[0m_trait_values\u001b[0m\u001b[0;34m[\u001b[0m\u001b[0mself\u001b[0m\u001b[0;34m.\u001b[0m\u001b[0mname\u001b[0m\u001b[0;34m]\u001b[0m \u001b[0;34m=\u001b[0m \u001b[0mnew_value\u001b[0m\u001b[0;34m\u001b[0m\u001b[0;34m\u001b[0m\u001b[0m\n\u001b[1;32m    111\u001b[0m         \u001b[0;32mif\u001b[0m \u001b[0;32mnot\u001b[0m \u001b[0mnp\u001b[0m\u001b[0;34m.\u001b[0m\u001b[0marray_equal\u001b[0m\u001b[0;34m(\u001b[0m\u001b[0mold_value\u001b[0m\u001b[0;34m,\u001b[0m \u001b[0mnew_value\u001b[0m\u001b[0;34m)\u001b[0m\u001b[0;34m:\u001b[0m\u001b[0;34m\u001b[0m\u001b[0;34m\u001b[0m\u001b[0m\n\u001b[0;32m--> 112\u001b[0;31m             \u001b[0mobj\u001b[0m\u001b[0;34m.\u001b[0m\u001b[0m_notify_trait\u001b[0m\u001b[0;34m(\u001b[0m\u001b[0mself\u001b[0m\u001b[0;34m.\u001b[0m\u001b[0mname\u001b[0m\u001b[0;34m,\u001b[0m \u001b[0mold_value\u001b[0m\u001b[0;34m,\u001b[0m \u001b[0mnew_value\u001b[0m\u001b[0;34m)\u001b[0m\u001b[0;34m\u001b[0m\u001b[0;34m\u001b[0m\u001b[0m\n\u001b[0m\u001b[1;32m    113\u001b[0m \u001b[0;34m\u001b[0m\u001b[0m\n\u001b[1;32m    114\u001b[0m     \u001b[0;32mdef\u001b[0m \u001b[0m__init__\u001b[0m\u001b[0;34m(\u001b[0m\u001b[0mself\u001b[0m\u001b[0;34m,\u001b[0m \u001b[0mdefault_value\u001b[0m\u001b[0;34m=\u001b[0m\u001b[0mEmpty\u001b[0m\u001b[0;34m,\u001b[0m \u001b[0mallow_none\u001b[0m\u001b[0;34m=\u001b[0m\u001b[0;32mFalse\u001b[0m\u001b[0;34m,\u001b[0m \u001b[0mdtype\u001b[0m\u001b[0;34m=\u001b[0m\u001b[0;32mNone\u001b[0m\u001b[0;34m,\u001b[0m \u001b[0;34m**\u001b[0m\u001b[0mkwargs\u001b[0m\u001b[0;34m)\u001b[0m\u001b[0;34m:\u001b[0m\u001b[0;34m\u001b[0m\u001b[0;34m\u001b[0m\u001b[0m\n",
      "\u001b[0;32m~/Documents/Devel/env/widgets/lib/python3.7/site-packages/traitlets/traitlets.py\u001b[0m in \u001b[0;36m_notify_trait\u001b[0;34m(self, name, old_value, new_value)\u001b[0m\n\u001b[1;32m   1137\u001b[0m             \u001b[0mnew\u001b[0m\u001b[0;34m=\u001b[0m\u001b[0mnew_value\u001b[0m\u001b[0;34m,\u001b[0m\u001b[0;34m\u001b[0m\u001b[0;34m\u001b[0m\u001b[0m\n\u001b[1;32m   1138\u001b[0m             \u001b[0mowner\u001b[0m\u001b[0;34m=\u001b[0m\u001b[0mself\u001b[0m\u001b[0;34m,\u001b[0m\u001b[0;34m\u001b[0m\u001b[0;34m\u001b[0m\u001b[0m\n\u001b[0;32m-> 1139\u001b[0;31m             \u001b[0mtype\u001b[0m\u001b[0;34m=\u001b[0m\u001b[0;34m'change'\u001b[0m\u001b[0;34m,\u001b[0m\u001b[0;34m\u001b[0m\u001b[0;34m\u001b[0m\u001b[0m\n\u001b[0m\u001b[1;32m   1140\u001b[0m         ))\n\u001b[1;32m   1141\u001b[0m \u001b[0;34m\u001b[0m\u001b[0m\n",
      "\u001b[0;32m~/Documents/Devel/env/widgets/lib/python3.7/site-packages/ipywidgets/widgets/widget.py\u001b[0m in \u001b[0;36mnotify_change\u001b[0;34m(self, change)\u001b[0m\n\u001b[1;32m    601\u001b[0m             \u001b[0;32mif\u001b[0m \u001b[0mname\u001b[0m \u001b[0;32min\u001b[0m \u001b[0mself\u001b[0m\u001b[0;34m.\u001b[0m\u001b[0mkeys\u001b[0m \u001b[0;32mand\u001b[0m \u001b[0mself\u001b[0m\u001b[0;34m.\u001b[0m\u001b[0m_should_send_property\u001b[0m\u001b[0;34m(\u001b[0m\u001b[0mname\u001b[0m\u001b[0;34m,\u001b[0m \u001b[0mgetattr\u001b[0m\u001b[0;34m(\u001b[0m\u001b[0mself\u001b[0m\u001b[0;34m,\u001b[0m \u001b[0mname\u001b[0m\u001b[0;34m)\u001b[0m\u001b[0;34m)\u001b[0m\u001b[0;34m:\u001b[0m\u001b[0;34m\u001b[0m\u001b[0;34m\u001b[0m\u001b[0m\n\u001b[1;32m    602\u001b[0m                 \u001b[0;31m# Send new state to front-end\u001b[0m\u001b[0;34m\u001b[0m\u001b[0;34m\u001b[0m\u001b[0;34m\u001b[0m\u001b[0m\n\u001b[0;32m--> 603\u001b[0;31m                 \u001b[0mself\u001b[0m\u001b[0;34m.\u001b[0m\u001b[0msend_state\u001b[0m\u001b[0;34m(\u001b[0m\u001b[0mkey\u001b[0m\u001b[0;34m=\u001b[0m\u001b[0mname\u001b[0m\u001b[0;34m)\u001b[0m\u001b[0;34m\u001b[0m\u001b[0;34m\u001b[0m\u001b[0m\n\u001b[0m\u001b[1;32m    604\u001b[0m         \u001b[0msuper\u001b[0m\u001b[0;34m(\u001b[0m\u001b[0mWidget\u001b[0m\u001b[0;34m,\u001b[0m \u001b[0mself\u001b[0m\u001b[0;34m)\u001b[0m\u001b[0;34m.\u001b[0m\u001b[0mnotify_change\u001b[0m\u001b[0;34m(\u001b[0m\u001b[0mchange\u001b[0m\u001b[0;34m)\u001b[0m\u001b[0;34m\u001b[0m\u001b[0;34m\u001b[0m\u001b[0m\n\u001b[1;32m    605\u001b[0m \u001b[0;34m\u001b[0m\u001b[0m\n",
      "\u001b[0;32m~/Documents/Devel/env/widgets/lib/python3.7/site-packages/ipywidgets/widgets/widget.py\u001b[0m in \u001b[0;36msend_state\u001b[0;34m(self, key)\u001b[0m\n\u001b[1;32m    485\u001b[0m             \u001b[0mstate\u001b[0m\u001b[0;34m,\u001b[0m \u001b[0mbuffer_paths\u001b[0m\u001b[0;34m,\u001b[0m \u001b[0mbuffers\u001b[0m \u001b[0;34m=\u001b[0m \u001b[0m_remove_buffers\u001b[0m\u001b[0;34m(\u001b[0m\u001b[0mstate\u001b[0m\u001b[0;34m)\u001b[0m\u001b[0;34m\u001b[0m\u001b[0;34m\u001b[0m\u001b[0m\n\u001b[1;32m    486\u001b[0m             \u001b[0mmsg\u001b[0m \u001b[0;34m=\u001b[0m \u001b[0;34m{\u001b[0m\u001b[0;34m'method'\u001b[0m\u001b[0;34m:\u001b[0m \u001b[0;34m'update'\u001b[0m\u001b[0;34m,\u001b[0m \u001b[0;34m'state'\u001b[0m\u001b[0;34m:\u001b[0m \u001b[0mstate\u001b[0m\u001b[0;34m,\u001b[0m \u001b[0;34m'buffer_paths'\u001b[0m\u001b[0;34m:\u001b[0m \u001b[0mbuffer_paths\u001b[0m\u001b[0;34m}\u001b[0m\u001b[0;34m\u001b[0m\u001b[0;34m\u001b[0m\u001b[0m\n\u001b[0;32m--> 487\u001b[0;31m             \u001b[0mself\u001b[0m\u001b[0;34m.\u001b[0m\u001b[0m_send\u001b[0m\u001b[0;34m(\u001b[0m\u001b[0mmsg\u001b[0m\u001b[0;34m,\u001b[0m \u001b[0mbuffers\u001b[0m\u001b[0;34m=\u001b[0m\u001b[0mbuffers\u001b[0m\u001b[0;34m)\u001b[0m\u001b[0;34m\u001b[0m\u001b[0;34m\u001b[0m\u001b[0m\n\u001b[0m\u001b[1;32m    488\u001b[0m \u001b[0;34m\u001b[0m\u001b[0m\n\u001b[1;32m    489\u001b[0m \u001b[0;34m\u001b[0m\u001b[0m\n",
      "\u001b[0;32m~/Documents/Devel/env/widgets/lib/python3.7/site-packages/ipywidgets/widgets/widget.py\u001b[0m in \u001b[0;36m_send\u001b[0;34m(self, msg, buffers)\u001b[0m\n\u001b[1;32m    733\u001b[0m         \u001b[0;34m\"\"\"Sends a message to the model in the front-end.\"\"\"\u001b[0m\u001b[0;34m\u001b[0m\u001b[0;34m\u001b[0m\u001b[0m\n\u001b[1;32m    734\u001b[0m         \u001b[0;32mif\u001b[0m \u001b[0mself\u001b[0m\u001b[0;34m.\u001b[0m\u001b[0mcomm\u001b[0m \u001b[0;32mis\u001b[0m \u001b[0;32mnot\u001b[0m \u001b[0;32mNone\u001b[0m \u001b[0;32mand\u001b[0m \u001b[0mself\u001b[0m\u001b[0;34m.\u001b[0m\u001b[0mcomm\u001b[0m\u001b[0;34m.\u001b[0m\u001b[0mkernel\u001b[0m \u001b[0;32mis\u001b[0m \u001b[0;32mnot\u001b[0m \u001b[0;32mNone\u001b[0m\u001b[0;34m:\u001b[0m\u001b[0;34m\u001b[0m\u001b[0;34m\u001b[0m\u001b[0m\n\u001b[0;32m--> 735\u001b[0;31m             \u001b[0mself\u001b[0m\u001b[0;34m.\u001b[0m\u001b[0mcomm\u001b[0m\u001b[0;34m.\u001b[0m\u001b[0msend\u001b[0m\u001b[0;34m(\u001b[0m\u001b[0mdata\u001b[0m\u001b[0;34m=\u001b[0m\u001b[0mmsg\u001b[0m\u001b[0;34m,\u001b[0m \u001b[0mbuffers\u001b[0m\u001b[0;34m=\u001b[0m\u001b[0mbuffers\u001b[0m\u001b[0;34m)\u001b[0m\u001b[0;34m\u001b[0m\u001b[0;34m\u001b[0m\u001b[0m\n\u001b[0m\u001b[1;32m    736\u001b[0m \u001b[0;34m\u001b[0m\u001b[0m\n\u001b[1;32m    737\u001b[0m     \u001b[0;32mdef\u001b[0m \u001b[0m_repr_keys\u001b[0m\u001b[0;34m(\u001b[0m\u001b[0mself\u001b[0m\u001b[0;34m)\u001b[0m\u001b[0;34m:\u001b[0m\u001b[0;34m\u001b[0m\u001b[0;34m\u001b[0m\u001b[0m\n",
      "\u001b[0;32m~/Documents/Devel/env/widgets/lib/python3.7/site-packages/ipykernel/comm/comm.py\u001b[0m in \u001b[0;36msend\u001b[0;34m(self, data, metadata, buffers)\u001b[0m\n\u001b[1;32m    119\u001b[0m         \u001b[0;34m\"\"\"Send a message to the frontend-side version of this comm\"\"\"\u001b[0m\u001b[0;34m\u001b[0m\u001b[0;34m\u001b[0m\u001b[0m\n\u001b[1;32m    120\u001b[0m         self._publish_msg('comm_msg',\n\u001b[0;32m--> 121\u001b[0;31m             \u001b[0mdata\u001b[0m\u001b[0;34m=\u001b[0m\u001b[0mdata\u001b[0m\u001b[0;34m,\u001b[0m \u001b[0mmetadata\u001b[0m\u001b[0;34m=\u001b[0m\u001b[0mmetadata\u001b[0m\u001b[0;34m,\u001b[0m \u001b[0mbuffers\u001b[0m\u001b[0;34m=\u001b[0m\u001b[0mbuffers\u001b[0m\u001b[0;34m,\u001b[0m\u001b[0;34m\u001b[0m\u001b[0;34m\u001b[0m\u001b[0m\n\u001b[0m\u001b[1;32m    122\u001b[0m         )\n\u001b[1;32m    123\u001b[0m \u001b[0;34m\u001b[0m\u001b[0m\n",
      "\u001b[0;32m~/Documents/Devel/env/widgets/lib/python3.7/site-packages/ipykernel/comm/comm.py\u001b[0m in \u001b[0;36m_publish_msg\u001b[0;34m(self, msg_type, data, metadata, buffers, **keys)\u001b[0m\n\u001b[1;32m     63\u001b[0m         \u001b[0mdata\u001b[0m \u001b[0;34m=\u001b[0m \u001b[0;34m{\u001b[0m\u001b[0;34m}\u001b[0m \u001b[0;32mif\u001b[0m \u001b[0mdata\u001b[0m \u001b[0;32mis\u001b[0m \u001b[0;32mNone\u001b[0m \u001b[0;32melse\u001b[0m \u001b[0mdata\u001b[0m\u001b[0;34m\u001b[0m\u001b[0;34m\u001b[0m\u001b[0m\n\u001b[1;32m     64\u001b[0m         \u001b[0mmetadata\u001b[0m \u001b[0;34m=\u001b[0m \u001b[0;34m{\u001b[0m\u001b[0;34m}\u001b[0m \u001b[0;32mif\u001b[0m \u001b[0mmetadata\u001b[0m \u001b[0;32mis\u001b[0m \u001b[0;32mNone\u001b[0m \u001b[0;32melse\u001b[0m \u001b[0mmetadata\u001b[0m\u001b[0;34m\u001b[0m\u001b[0;34m\u001b[0m\u001b[0m\n\u001b[0;32m---> 65\u001b[0;31m         \u001b[0mcontent\u001b[0m \u001b[0;34m=\u001b[0m \u001b[0mjson_clean\u001b[0m\u001b[0;34m(\u001b[0m\u001b[0mdict\u001b[0m\u001b[0;34m(\u001b[0m\u001b[0mdata\u001b[0m\u001b[0;34m=\u001b[0m\u001b[0mdata\u001b[0m\u001b[0;34m,\u001b[0m \u001b[0mcomm_id\u001b[0m\u001b[0;34m=\u001b[0m\u001b[0mself\u001b[0m\u001b[0;34m.\u001b[0m\u001b[0mcomm_id\u001b[0m\u001b[0;34m,\u001b[0m \u001b[0;34m**\u001b[0m\u001b[0mkeys\u001b[0m\u001b[0;34m)\u001b[0m\u001b[0;34m)\u001b[0m\u001b[0;34m\u001b[0m\u001b[0;34m\u001b[0m\u001b[0m\n\u001b[0m\u001b[1;32m     66\u001b[0m         self.kernel.session.send(self.kernel.iopub_socket, msg_type,\n\u001b[1;32m     67\u001b[0m             \u001b[0mcontent\u001b[0m\u001b[0;34m,\u001b[0m\u001b[0;34m\u001b[0m\u001b[0;34m\u001b[0m\u001b[0m\n",
      "\u001b[0;32m~/Documents/Devel/env/widgets/lib/python3.7/site-packages/ipykernel/jsonutil.py\u001b[0m in \u001b[0;36mjson_clean\u001b[0;34m(obj)\u001b[0m\n\u001b[1;32m    189\u001b[0m         \u001b[0mout\u001b[0m \u001b[0;34m=\u001b[0m \u001b[0;34m{\u001b[0m\u001b[0;34m}\u001b[0m\u001b[0;34m\u001b[0m\u001b[0;34m\u001b[0m\u001b[0m\n\u001b[1;32m    190\u001b[0m         \u001b[0;32mfor\u001b[0m \u001b[0mk\u001b[0m\u001b[0;34m,\u001b[0m\u001b[0mv\u001b[0m \u001b[0;32min\u001b[0m \u001b[0miteritems\u001b[0m\u001b[0;34m(\u001b[0m\u001b[0mobj\u001b[0m\u001b[0;34m)\u001b[0m\u001b[0;34m:\u001b[0m\u001b[0;34m\u001b[0m\u001b[0;34m\u001b[0m\u001b[0m\n\u001b[0;32m--> 191\u001b[0;31m             \u001b[0mout\u001b[0m\u001b[0;34m[\u001b[0m\u001b[0municode_type\u001b[0m\u001b[0;34m(\u001b[0m\u001b[0mk\u001b[0m\u001b[0;34m)\u001b[0m\u001b[0;34m]\u001b[0m \u001b[0;34m=\u001b[0m \u001b[0mjson_clean\u001b[0m\u001b[0;34m(\u001b[0m\u001b[0mv\u001b[0m\u001b[0;34m)\u001b[0m\u001b[0;34m\u001b[0m\u001b[0;34m\u001b[0m\u001b[0m\n\u001b[0m\u001b[1;32m    192\u001b[0m         \u001b[0;32mreturn\u001b[0m \u001b[0mout\u001b[0m\u001b[0;34m\u001b[0m\u001b[0;34m\u001b[0m\u001b[0m\n\u001b[1;32m    193\u001b[0m     \u001b[0;32mif\u001b[0m \u001b[0misinstance\u001b[0m\u001b[0;34m(\u001b[0m\u001b[0mobj\u001b[0m\u001b[0;34m,\u001b[0m \u001b[0mdatetime\u001b[0m\u001b[0;34m)\u001b[0m\u001b[0;34m:\u001b[0m\u001b[0;34m\u001b[0m\u001b[0;34m\u001b[0m\u001b[0m\n",
      "\u001b[0;32m~/Documents/Devel/env/widgets/lib/python3.7/site-packages/ipykernel/jsonutil.py\u001b[0m in \u001b[0;36mjson_clean\u001b[0;34m(obj)\u001b[0m\n\u001b[1;32m    189\u001b[0m         \u001b[0mout\u001b[0m \u001b[0;34m=\u001b[0m \u001b[0;34m{\u001b[0m\u001b[0;34m}\u001b[0m\u001b[0;34m\u001b[0m\u001b[0;34m\u001b[0m\u001b[0m\n\u001b[1;32m    190\u001b[0m         \u001b[0;32mfor\u001b[0m \u001b[0mk\u001b[0m\u001b[0;34m,\u001b[0m\u001b[0mv\u001b[0m \u001b[0;32min\u001b[0m \u001b[0miteritems\u001b[0m\u001b[0;34m(\u001b[0m\u001b[0mobj\u001b[0m\u001b[0;34m)\u001b[0m\u001b[0;34m:\u001b[0m\u001b[0;34m\u001b[0m\u001b[0;34m\u001b[0m\u001b[0m\n\u001b[0;32m--> 191\u001b[0;31m             \u001b[0mout\u001b[0m\u001b[0;34m[\u001b[0m\u001b[0municode_type\u001b[0m\u001b[0;34m(\u001b[0m\u001b[0mk\u001b[0m\u001b[0;34m)\u001b[0m\u001b[0;34m]\u001b[0m \u001b[0;34m=\u001b[0m \u001b[0mjson_clean\u001b[0m\u001b[0;34m(\u001b[0m\u001b[0mv\u001b[0m\u001b[0;34m)\u001b[0m\u001b[0;34m\u001b[0m\u001b[0;34m\u001b[0m\u001b[0m\n\u001b[0m\u001b[1;32m    192\u001b[0m         \u001b[0;32mreturn\u001b[0m \u001b[0mout\u001b[0m\u001b[0;34m\u001b[0m\u001b[0;34m\u001b[0m\u001b[0m\n\u001b[1;32m    193\u001b[0m     \u001b[0;32mif\u001b[0m \u001b[0misinstance\u001b[0m\u001b[0;34m(\u001b[0m\u001b[0mobj\u001b[0m\u001b[0;34m,\u001b[0m \u001b[0mdatetime\u001b[0m\u001b[0;34m)\u001b[0m\u001b[0;34m:\u001b[0m\u001b[0;34m\u001b[0m\u001b[0;34m\u001b[0m\u001b[0m\n",
      "\u001b[0;32m~/Documents/Devel/env/widgets/lib/python3.7/site-packages/ipykernel/jsonutil.py\u001b[0m in \u001b[0;36mjson_clean\u001b[0;34m(obj)\u001b[0m\n\u001b[1;32m    189\u001b[0m         \u001b[0mout\u001b[0m \u001b[0;34m=\u001b[0m \u001b[0;34m{\u001b[0m\u001b[0;34m}\u001b[0m\u001b[0;34m\u001b[0m\u001b[0;34m\u001b[0m\u001b[0m\n\u001b[1;32m    190\u001b[0m         \u001b[0;32mfor\u001b[0m \u001b[0mk\u001b[0m\u001b[0;34m,\u001b[0m\u001b[0mv\u001b[0m \u001b[0;32min\u001b[0m \u001b[0miteritems\u001b[0m\u001b[0;34m(\u001b[0m\u001b[0mobj\u001b[0m\u001b[0;34m)\u001b[0m\u001b[0;34m:\u001b[0m\u001b[0;34m\u001b[0m\u001b[0;34m\u001b[0m\u001b[0m\n\u001b[0;32m--> 191\u001b[0;31m             \u001b[0mout\u001b[0m\u001b[0;34m[\u001b[0m\u001b[0municode_type\u001b[0m\u001b[0;34m(\u001b[0m\u001b[0mk\u001b[0m\u001b[0;34m)\u001b[0m\u001b[0;34m]\u001b[0m \u001b[0;34m=\u001b[0m \u001b[0mjson_clean\u001b[0m\u001b[0;34m(\u001b[0m\u001b[0mv\u001b[0m\u001b[0;34m)\u001b[0m\u001b[0;34m\u001b[0m\u001b[0;34m\u001b[0m\u001b[0m\n\u001b[0m\u001b[1;32m    192\u001b[0m         \u001b[0;32mreturn\u001b[0m \u001b[0mout\u001b[0m\u001b[0;34m\u001b[0m\u001b[0;34m\u001b[0m\u001b[0m\n\u001b[1;32m    193\u001b[0m     \u001b[0;32mif\u001b[0m \u001b[0misinstance\u001b[0m\u001b[0;34m(\u001b[0m\u001b[0mobj\u001b[0m\u001b[0;34m,\u001b[0m \u001b[0mdatetime\u001b[0m\u001b[0;34m)\u001b[0m\u001b[0;34m:\u001b[0m\u001b[0;34m\u001b[0m\u001b[0;34m\u001b[0m\u001b[0m\n",
      "\u001b[0;32m~/Documents/Devel/env/widgets/lib/python3.7/site-packages/ipykernel/jsonutil.py\u001b[0m in \u001b[0;36mjson_clean\u001b[0;34m(obj)\u001b[0m\n\u001b[1;32m    189\u001b[0m         \u001b[0mout\u001b[0m \u001b[0;34m=\u001b[0m \u001b[0;34m{\u001b[0m\u001b[0;34m}\u001b[0m\u001b[0;34m\u001b[0m\u001b[0;34m\u001b[0m\u001b[0m\n\u001b[1;32m    190\u001b[0m         \u001b[0;32mfor\u001b[0m \u001b[0mk\u001b[0m\u001b[0;34m,\u001b[0m\u001b[0mv\u001b[0m \u001b[0;32min\u001b[0m \u001b[0miteritems\u001b[0m\u001b[0;34m(\u001b[0m\u001b[0mobj\u001b[0m\u001b[0;34m)\u001b[0m\u001b[0;34m:\u001b[0m\u001b[0;34m\u001b[0m\u001b[0;34m\u001b[0m\u001b[0m\n\u001b[0;32m--> 191\u001b[0;31m             \u001b[0mout\u001b[0m\u001b[0;34m[\u001b[0m\u001b[0municode_type\u001b[0m\u001b[0;34m(\u001b[0m\u001b[0mk\u001b[0m\u001b[0;34m)\u001b[0m\u001b[0;34m]\u001b[0m \u001b[0;34m=\u001b[0m \u001b[0mjson_clean\u001b[0m\u001b[0;34m(\u001b[0m\u001b[0mv\u001b[0m\u001b[0;34m)\u001b[0m\u001b[0;34m\u001b[0m\u001b[0;34m\u001b[0m\u001b[0m\n\u001b[0m\u001b[1;32m    192\u001b[0m         \u001b[0;32mreturn\u001b[0m \u001b[0mout\u001b[0m\u001b[0;34m\u001b[0m\u001b[0;34m\u001b[0m\u001b[0m\n\u001b[1;32m    193\u001b[0m     \u001b[0;32mif\u001b[0m \u001b[0misinstance\u001b[0m\u001b[0;34m(\u001b[0m\u001b[0mobj\u001b[0m\u001b[0;34m,\u001b[0m \u001b[0mdatetime\u001b[0m\u001b[0;34m)\u001b[0m\u001b[0;34m:\u001b[0m\u001b[0;34m\u001b[0m\u001b[0;34m\u001b[0m\u001b[0m\n",
      "\u001b[0;32m~/Documents/Devel/env/widgets/lib/python3.7/site-packages/ipykernel/jsonutil.py\u001b[0m in \u001b[0;36mjson_clean\u001b[0;34m(obj)\u001b[0m\n\u001b[1;32m    175\u001b[0m \u001b[0;34m\u001b[0m\u001b[0m\n\u001b[1;32m    176\u001b[0m     \u001b[0;32mif\u001b[0m \u001b[0misinstance\u001b[0m\u001b[0;34m(\u001b[0m\u001b[0mobj\u001b[0m\u001b[0;34m,\u001b[0m \u001b[0mlist\u001b[0m\u001b[0;34m)\u001b[0m\u001b[0;34m:\u001b[0m\u001b[0;34m\u001b[0m\u001b[0;34m\u001b[0m\u001b[0m\n\u001b[0;32m--> 177\u001b[0;31m         \u001b[0;32mreturn\u001b[0m \u001b[0;34m[\u001b[0m\u001b[0mjson_clean\u001b[0m\u001b[0;34m(\u001b[0m\u001b[0mx\u001b[0m\u001b[0;34m)\u001b[0m \u001b[0;32mfor\u001b[0m \u001b[0mx\u001b[0m \u001b[0;32min\u001b[0m \u001b[0mobj\u001b[0m\u001b[0;34m]\u001b[0m\u001b[0;34m\u001b[0m\u001b[0;34m\u001b[0m\u001b[0m\n\u001b[0m\u001b[1;32m    178\u001b[0m \u001b[0;34m\u001b[0m\u001b[0m\n\u001b[1;32m    179\u001b[0m     \u001b[0;32mif\u001b[0m \u001b[0misinstance\u001b[0m\u001b[0;34m(\u001b[0m\u001b[0mobj\u001b[0m\u001b[0;34m,\u001b[0m \u001b[0mdict\u001b[0m\u001b[0;34m)\u001b[0m\u001b[0;34m:\u001b[0m\u001b[0;34m\u001b[0m\u001b[0;34m\u001b[0m\u001b[0m\n",
      "\u001b[0;32m~/Documents/Devel/env/widgets/lib/python3.7/site-packages/ipykernel/jsonutil.py\u001b[0m in \u001b[0;36m<listcomp>\u001b[0;34m(.0)\u001b[0m\n\u001b[1;32m    175\u001b[0m \u001b[0;34m\u001b[0m\u001b[0m\n\u001b[1;32m    176\u001b[0m     \u001b[0;32mif\u001b[0m \u001b[0misinstance\u001b[0m\u001b[0;34m(\u001b[0m\u001b[0mobj\u001b[0m\u001b[0;34m,\u001b[0m \u001b[0mlist\u001b[0m\u001b[0;34m)\u001b[0m\u001b[0;34m:\u001b[0m\u001b[0;34m\u001b[0m\u001b[0;34m\u001b[0m\u001b[0m\n\u001b[0;32m--> 177\u001b[0;31m         \u001b[0;32mreturn\u001b[0m \u001b[0;34m[\u001b[0m\u001b[0mjson_clean\u001b[0m\u001b[0;34m(\u001b[0m\u001b[0mx\u001b[0m\u001b[0;34m)\u001b[0m \u001b[0;32mfor\u001b[0m \u001b[0mx\u001b[0m \u001b[0;32min\u001b[0m \u001b[0mobj\u001b[0m\u001b[0;34m]\u001b[0m\u001b[0;34m\u001b[0m\u001b[0;34m\u001b[0m\u001b[0m\n\u001b[0m\u001b[1;32m    178\u001b[0m \u001b[0;34m\u001b[0m\u001b[0m\n\u001b[1;32m    179\u001b[0m     \u001b[0;32mif\u001b[0m \u001b[0misinstance\u001b[0m\u001b[0;34m(\u001b[0m\u001b[0mobj\u001b[0m\u001b[0;34m,\u001b[0m \u001b[0mdict\u001b[0m\u001b[0;34m)\u001b[0m\u001b[0;34m:\u001b[0m\u001b[0;34m\u001b[0m\u001b[0;34m\u001b[0m\u001b[0m\n",
      "\u001b[0;32m~/Documents/Devel/env/widgets/lib/python3.7/site-packages/ipykernel/jsonutil.py\u001b[0m in \u001b[0;36mjson_clean\u001b[0;34m(obj)\u001b[0m\n\u001b[1;32m    195\u001b[0m \u001b[0;34m\u001b[0m\u001b[0m\n\u001b[1;32m    196\u001b[0m     \u001b[0;31m# we don't understand it, it's probably an unserializable object\u001b[0m\u001b[0;34m\u001b[0m\u001b[0;34m\u001b[0m\u001b[0;34m\u001b[0m\u001b[0m\n\u001b[0;32m--> 197\u001b[0;31m     \u001b[0;32mraise\u001b[0m \u001b[0mValueError\u001b[0m\u001b[0;34m(\u001b[0m\u001b[0;34m\"Can't clean for JSON: %r\"\u001b[0m \u001b[0;34m%\u001b[0m \u001b[0mobj\u001b[0m\u001b[0;34m)\u001b[0m\u001b[0;34m\u001b[0m\u001b[0;34m\u001b[0m\u001b[0m\n\u001b[0m",
      "\u001b[0;31mValueError\u001b[0m: Can't clean for JSON: Lines(colors=['#863F7D'], interactions={'hover': 'tooltip'}, scales={'x': DateScale(), 'y': LinearScale()}, scales_metadata={'x': {'orientation': 'horizontal', 'dimension': 'x'}, 'y': {'orientation': 'vertical', 'dimension': 'y'}, 'color': {'dimension': 'color'}}, tooltip_style={'opacity': 0.9}, x=array(['2013-12-04T14:02:30.000000000', '2013-12-11T12:52:30.000000000',\n       '2013-12-18T19:12:30.000000000', '2013-12-25T22:56:30.000000000',\n       '2014-01-01T18:25:30.000000000', '2014-01-08T14:03:30.000000000',\n       '2014-03-12T00:56:30.000000000', '2014-03-19T02:06:30.000000000',\n       '2014-03-26T02:39:30.000000000', '2014-04-02T02:56:30.000000000',\n       '2014-04-09T03:14:30.000000000', '2014-04-16T07:34:30.000000000',\n       '2014-04-23T05:49:30.000000000', '2014-04-30T03:12:30.000000000',\n       '2014-05-07T00:28:30.000000000', '2014-05-14T02:12:30.000000000',\n       '2014-05-20T23:09:30.000000000', '2014-05-27T18:38:30.000000000',\n       '2014-06-03T13:47:30.000000000', '2014-07-08T15:42:30.000000000',\n       '2014-07-15T10:46:30.000000000', '2014-07-29T07:13:30.000000000',\n       '2014-08-05T02:34:30.000000000', '2014-08-11T22:03:30.000000000',\n       '2014-08-18T23:01:30.000000000', '2014-08-25T18:30:30.000000000',\n       '2014-09-01T13:39:30.000000000', '2014-09-08T11:51:30.000000000',\n       '2014-09-15T11:14:30.000000000', '2014-09-22T14:59:30.000000000',\n       '2014-09-29T11:49:30.000000000', '2014-10-06T07:24:30.000000000',\n       '2014-10-13T18:10:30.000000000', '2014-10-28T18:20:30.000000000',\n       '2014-11-05T04:58:30.000000000', '2014-11-12T15:18:30.000000000',\n       '2014-11-20T05:38:30.000000000', '2014-11-27T15:28:30.000000000',\n       '2014-12-05T04:18:30.000000000', '2014-12-12T12:38:30.000000000',\n       '2014-12-20T22:12:30.000000000', '2014-12-28T08:02:30.000000000',\n       '2015-01-04T17:22:30.000000000', '2015-01-12T03:12:30.000000000',\n       '2015-01-19T18:02:30.000000000', '2015-01-27T03:22:30.000000000',\n       '2015-02-03T13:42:30.000000000', '2015-02-10T23:02:30.000000000',\n       '2015-02-18T08:22:30.000000000', '2015-02-25T23:12:30.000000000',\n       '2015-03-07T01:37:30.000000000', '2015-03-14T04:56:30.000000000',\n       '2015-03-24T00:09:30.000000000', '2015-03-30T20:07:30.000000000',\n       '2015-04-06T15:36:30.000000000', '2015-04-13T11:05:30.000000000',\n       '2015-04-27T07:12:30.000000000', '2015-05-04T02:51:30.000000000',\n       '2015-05-11T00:12:30.000000000', '2015-05-17T23:06:30.000000000',\n       '2015-05-25T03:45:30.000000000', '2015-06-01T04:50:30.000000000',\n       '2015-06-08T05:30:30.000000000', '2015-06-15T06:40:30.000000000',\n       '2015-06-23T09:39:30.000000000', '2015-06-30T10:19:30.000000000',\n       '2015-07-07T11:49:30.000000000', '2015-07-14T11:08:30.000000000',\n       '2015-07-21T15:30:30.000000000', '2015-07-28T17:31:30.000000000',\n       '2015-08-04T15:59:30.000000000', '2015-08-11T15:10:30.000000000',\n       '2015-08-18T14:28:30.000000000', '2015-08-25T18:08:30.000000000',\n       '2015-09-01T16:30:30.000000000', '2015-09-08T15:39:30.000000000',\n       '2015-09-15T15:09:30.000000000', '2015-09-22T19:22:30.000000000',\n       '2015-09-29T19:19:30.000000000', '2015-10-06T18:58:30.000000000',\n       '2015-10-20T20:50:30.000000000', '2015-10-28T05:33:30.000000000',\n       '2015-11-04T04:57:30.000000000', '2015-11-11T08:09:30.000000000',\n       '2015-11-18T07:32:30.000000000', '2015-11-25T11:11:30.000000000',\n       '2015-12-09T14:02:30.000000000', '2015-12-23T10:24:30.000000000',\n       '2015-12-30T14:55:30.000000000', '2016-01-06T18:01:30.000000000',\n       '2016-01-13T17:31:30.000000000', '2016-01-20T17:32:30.000000000',\n       '2016-01-27T13:55:30.000000000', '2016-02-03T17:39:30.000000000',\n       '2016-02-17T15:21:30.000000000', '2016-02-24T12:53:30.000000000',\n       '2016-03-02T17:24:30.000000000', '2016-03-09T16:27:30.000000000',\n       '2016-03-16T14:57:30.000000000', '2016-03-23T12:28:30.000000000',\n       '2016-03-30T16:50:30.000000000', '2016-04-06T15:49:30.000000000',\n       '2016-04-20T12:52:30.000000000', '2016-04-27T17:39:30.000000000',\n       '2016-05-04T15:37:30.000000000', '2016-05-11T14:50:30.000000000',\n       '2016-05-18T13:31:30.000000000', '2016-06-01T17:19:30.000000000',\n       '2016-06-08T15:20:30.000000000', '2016-06-15T13:58:30.000000000',\n       '2016-06-22T18:24:30.000000000', '2016-06-29T16:34:30.000000000',\n       '2016-07-06T15:54:30.000000000', '2016-07-13T14:27:30.000000000',\n       '2016-07-20T18:56:30.000000000', '2016-07-27T16:07:30.000000000',\n       '2016-08-03T15:22:30.000000000', '2016-08-10T13:42:30.000000000',\n       '2016-08-17T17:34:30.000000000', '2016-08-25T14:40:30.000000000',\n       '2016-09-01T13:06:30.000000000', '2016-09-08T12:28:30.000000000',\n       '2016-09-15T17:20:30.000000000', '2016-09-22T19:52:30.000000000',\n       '2016-09-29T19:25:30.000000000', '2016-10-06T18:34:30.000000000',\n       '2016-10-13T22:02:30.000000000', '2016-10-20T20:42:30.000000000',\n       '2016-10-27T18:58:30.000000000', '2016-11-03T18:17:30.000000000',\n       '2016-11-17T20:01:30.000000000', '2016-11-24T17:34:30.000000000',\n       '2016-12-08T20:05:30.000000000', '2016-12-15T18:51:30.000000000',\n       '2016-12-22T01:18:30.000000000', '2016-12-25T13:38:30.000000000',\n       '2016-12-29T02:17:30.000000000', '2017-01-01T19:56:30.000000000',\n       '2017-01-05T08:14:30.000000000', '2017-01-08T20:53:30.000000000',\n       '2017-01-12T09:12:30.000000000', '2017-01-15T21:51:30.000000000',\n       '2017-01-19T10:10:30.000000000', '2017-01-22T22:49:30.000000000',\n       '2017-01-26T11:08:30.000000000', '2017-01-30T04:45:30.000000000',\n       '2017-02-06T05:43:30.000000000', '2017-02-09T18:22:30.000000000',\n       '2017-02-13T06:41:30.000000000', '2017-02-16T19:20:30.000000000',\n       '2017-02-20T07:38:30.000000000', '2017-02-24T06:55:30.000000000',\n       '2017-03-03T10:08:30.000000000', '2017-03-10T13:27:30.000000000',\n       '2017-03-17T11:09:30.000000000', '2017-03-24T15:28:30.000000000',\n       '2017-03-31T13:59:30.000000000', '2017-04-14T15:40:30.000000000',\n       '2017-04-21T19:07:30.000000000', '2017-04-28T18:30:30.000000000',\n       '2017-05-05T17:29:30.000000000', '2017-05-12T22:27:30.000000000',\n       '2017-05-20T01:40:30.000000000', '2017-05-27T00:12:30.000000000',\n       '2017-06-10T19:23:30.000000000', '2017-06-24T21:57:30.000000000',\n       '2017-07-01T20:21:30.000000000', '2017-07-08T23:56:30.000000000',\n       '2017-07-16T23:09:30.000000000', '2017-07-23T23:05:30.000000000',\n       '2017-07-31T00:06:30.000000000', '2017-08-14T17:03:30.000000000',\n       '2017-08-21T18:09:30.000000000', '2017-09-04T21:17:30.000000000',\n       '2017-09-12T03:29:30.000000000', '2017-09-19T11:37:30.000000000',\n       '2017-09-26T13:04:30.000000000', '2017-09-30T04:05:30.000000000',\n       '2017-10-03T17:42:30.000000000', '2017-10-07T12:19:30.000000000',\n       '2017-10-11T02:15:30.000000000', '2017-10-15T00:30:30.000000000',\n       '2017-10-18T13:49:30.000000000', '2017-10-22T03:45:30.000000000',\n       '2017-10-25T17:25:30.000000000', '2017-10-29T07:02:30.000000000',\n       '2017-11-01T20:40:30.000000000', '2017-11-05T15:19:30.000000000',\n       '2017-11-09T05:15:30.000000000', '2017-11-12T18:51:30.000000000',\n       '2017-11-16T17:09:30.000000000', '2017-11-20T06:47:30.000000000',\n       '2017-11-23T20:24:30.000000000', '2017-11-27T10:02:30.000000000',\n       '2017-12-01T00:00:30.000000000', '2017-12-04T18:37:30.000000000',\n       '2017-12-08T08:14:30.000000000', '2017-12-11T21:53:30.000000000',\n       '2017-12-15T20:11:30.000000000', '2017-12-19T09:45:30.000000000',\n       '2017-12-26T07:35:30.000000000', '2018-01-02T13:10:30.000000000',\n       '2018-01-09T14:01:30.000000000', '2018-01-16T23:36:30.000000000',\n       '2018-01-24T01:24:30.000000000', '2018-01-31T07:55:30.000000000',\n       '2018-02-14T15:17:30.000000000', '2018-02-21T15:54:30.000000000',\n       '2018-03-09T00:32:30.000000000', '2018-03-16T01:40:30.000000000',\n       '2018-03-23T03:23:30.000000000', '2018-03-26T22:50:30.000000000',\n       '2018-03-30T12:27:30.000000000', '2018-04-03T02:23:30.000000000',\n       '2018-04-06T15:40:30.000000000', '2018-04-10T05:37:30.000000000',\n       '2018-04-13T19:14:30.000000000', '2018-04-17T08:52:30.000000000',\n       '2018-04-20T22:29:30.000000000', '2018-04-24T12:07:30.000000000',\n       '2018-04-29T15:43:30.000000000', '2018-05-06T17:29:30.000000000',\n       '2018-05-13T18:19:30.000000000', '2018-05-20T19:01:30.000000000',\n       '2018-06-03T21:21:30.000000000', '2018-06-11T00:16:30.000000000',\n       '2018-06-18T01:59:30.000000000', '2018-06-25T03:38:30.000000000',\n       '2018-07-02T05:18:30.000000000', '2018-07-09T07:01:30.000000000',\n       '2018-07-23T09:40:30.000000000', '2018-07-30T11:01:30.000000000',\n       '2018-08-06T12:42:30.000000000', '2018-08-13T13:38:30.000000000',\n       '2018-08-20T15:14:30.000000000', '2018-08-27T16:06:30.000000000',\n       '2018-09-03T18:02:30.000000000', '2018-09-10T18:03:30.000000000',\n       '2018-09-17T19:34:30.000000000', '2018-09-24T21:20:30.000000000',\n       '2018-10-05T11:28:30.000000000', '2018-10-12T12:41:30.000000000',\n       '2018-10-19T14:21:30.000000000', '2018-10-26T15:09:30.000000000',\n       '2018-11-09T18:05:30.000000000', '2018-11-16T18:35:30.000000000',\n       '2018-11-23T20:16:30.000000000', '2018-11-30T21:10:30.000000000',\n       '2018-12-15T00:37:30.000000000', '2018-12-23T03:51:30.000000000',\n       '2018-12-30T10:12:30.000000000', '2019-01-06T11:02:30.000000000',\n       '2019-01-13T11:57:30.000000000', '2019-01-20T13:23:30.000000000',\n       '2019-01-27T20:27:30.000000000', '2019-02-03T21:36:30.000000000',\n       '2019-02-10T22:55:30.000000000', '2019-02-25T20:19:30.000000000',\n       '2019-03-04T00:13:30.000000000', '2019-03-09T05:44:30.000000000',\n       '2019-03-14T10:52:30.000000000', '2019-03-19T16:35:30.000000000',\n       '2019-03-25T12:29:30.000000000', '2019-03-30T18:43:30.000000000',\n       '2019-04-05T00:37:30.000000000', '2019-04-10T06:31:30.000000000',\n       '2019-04-15T12:59:30.000000000', '2019-04-21T03:17:30.000000000',\n       '2019-05-01T19:37:30.000000000', '2019-05-07T01:43:30.000000000',\n       '2019-05-10T17:56:30.000000000', '2019-05-14T06:15:30.000000000',\n       '2019-05-17T19:07:30.000000000', '2019-05-21T15:46:30.000000000'],\n      dtype='datetime64[ns]'), y=array([414.21, 410.96, 402.34, 401.66, 401.86, 402.95, 408.48, 408.79,\n       412.96, 408.9 , 402.81, 408.49, 402.59, 400.67, 405.95, 404.01,\n       401.45, 400.71, 400.11, 389.66, 394.56, 400.04, 392.54, 392.97,\n       392.8 , 392.4 , 389.09, 387.54, 394.52, 391.84, 418.35, 394.95,\n       403.71, 410.04, 419.53, 401.33, 421.69, 421.53, 438.53, 401.85,\n       405.56, 407.55, 407.73, 402.95, 411.58, 407.95, 407.93, 409.57,\n       405.42, 405.26, 405.18, 412.19, 411.61, 405.36, 406.36, 405.26,\n       419.27, 406.03, 402.05, 409.47, 410.95, 410.52, 412.8 , 407.  ,\n       398.98, 391.31, 396.98, 397.76, 393.46, 390.88, 392.36, 385.93,\n       387.52, 393.88, 390.06, 390.12, 392.25, 401.34, 402.84, 398.91,\n       406.63, 406.17, 411.83, 403.56, 411.29, 408.12, 405.33, 406.76,\n       407.96, 431.01, 407.53, 428.03, 408.31, 410.24, 410.86, 409.46,\n       409.16, 412.13, 412.29, 415.51, 408.47, 405.96, 408.47, 408.78,\n       406.86, 410.33, 404.39, 402.55, 392.81, 401.11, 403.97, 399.33,\n       397.65, 393.34, 401.16, 396.06, 395.81, 393.3 , 399.05, 414.19,\n       393.93, 394.07, 402.89, 401.46, 399.41, 404.04, 424.03, 418.93,\n       409.17, 410.91, 408.12, 410.92, 421.  , 424.31, 410.08, 407.24,\n       414.23, 411.19, 415.11, 417.72, 413.22, 416.1 , 429.83, 445.39,\n       435.5 , 412.85, 422.26, 430.8 , 440.36, 417.25, 418.21, 414.81,\n       420.81, 415.73, 411.99, 418.96, 410.52, 410.09, 410.06, 414.41,\n       414.29, 412.11, 412.5 , 405.71, 406.63, 409.4 , 400.67, 407.8 ,\n       415.07, 402.26, 400.06, 396.31, 404.15, 401.79, 404.17, 404.25,\n       414.97, 404.66, 398.41, 401.8 , 404.21, 407.08, 424.11, 407.32,\n       408.  , 411.63, 410.57, 407.73, 406.23, 412.85, 409.41, 413.37,\n       412.62, 411.99, 413.13, 416.06, 414.08, 426.77, 420.87, 414.61,\n       413.96, 413.41, 426.65, 412.92, 410.5 , 413.18, 413.61, 423.14,\n       414.91, 415.6 , 415.07, 415.09, 415.83, 414.36, 408.98, 428.57,\n       422.25, 419.21, 453.93, 414.4 , 413.35, 402.75, 411.18, 398.52,\n       405.55, 415.44, 412.09, 405.17, 417.59, 403.19, 404.83, 404.6 ,\n       403.3 , 403.15, 401.75, 395.4 , 400.08, 401.92, 403.58, 403.69,\n       410.3 , 404.77, 410.4 , 408.6 , 410.55, 434.01, 446.58, 412.09,\n       428.54, 413.38, 423.77, 422.66, 415.42, 427.77, 415.9 , 418.42,\n       416.99, 427.31, 415.24, 418.03, 414.99, 414.61, 417.12, 417.27,\n       416.15, 418.54, 417.07, 415.17, 411.13, 413.97, 411.52, 422.5 ,\n       416.48, 411.08]))"
     ]
    }
   ],
   "source": [
    "from bqplot import pyplot as plt\n",
    "from bqplot import DateScale, LinearScale, Axis, Lines, Figure, Lines\n",
    "from random import randint    \n",
    "from numpy import random as np_random\n",
    "import numpy as np\n",
    "\n",
    "# Create some checkboxes\n",
    "plot_checkboxes = []\n",
    "plot_keys = [] \n",
    "\n",
    "for key in data:\n",
    "    # Create a more readable description\n",
    "    desc = \" \".join(key.split(\"_\")).upper()\n",
    "    plot_keys.append(key)\n",
    "    plot_checkboxes.append(Checkbox(description=desc, value=False))\n",
    "    \n",
    "select_instruction = HTML(value=\"<b>Select data: </b>\", layout=table_layout)\n",
    "plot_button = Button(description=\"Plot\", button_style=\"success\", layout=table_layout)\n",
    "\n",
    "select_box = HBox(children=[select_instruction])\n",
    "checkbox_box = VBox(children=plot_checkboxes)\n",
    "horiz_select = HBox(children=[select_box, checkbox_box])\n",
    "plot_box = HBox(children=[plot_button])\n",
    "ui_box = VBox(children=[horiz_select, plot_box])\n",
    "\n",
    "arg_dict = {plot_keys[i]: checkbox for i, checkbox in enumerate(plot_checkboxes)}\n",
    "\n",
    "selected_data = []\n",
    "def select_data(**kwargs):\n",
    "    selected_data.clear()\n",
    "    \n",
    "    for key in kwargs:\n",
    "        if kwargs[key] is True:\n",
    "            selected_data.append(key)\n",
    "    \n",
    "    print(selected_data)\n",
    "    \n",
    "# Link the checkbox selection with the selected dataframes to plot\n",
    "out = widgets.interactive_output(select_data, arg_dict)\n",
    "\n",
    "output = widgets.Output()\n",
    "\n",
    "def get_lines():\n",
    "    \"\"\" Get (updated) lines for the figure\n",
    "    \n",
    "        Returns:\n",
    "            tuple (list, list): A list for x and y axes\n",
    "    \"\"\"\n",
    "\n",
    "def plot_data(arg):\n",
    "    \"\"\" Each key in the data dict is a dataframe\n",
    "    \n",
    "    \"\"\"\n",
    "    # Here take the keys in the selected data list and use them to\n",
    "    # access the Dataframes to plot\n",
    "    # Use the same axes. Can have a button to create new plots etc in the future\n",
    "    \n",
    "    # TODO - change this to take the data directly from the dict?\n",
    "    plot_data = [data[x] for x in selected_data]\n",
    "    \n",
    "    # For now just plot the first column in the data\n",
    "        \n",
    "     # Setup the axes\n",
    "    x_scale = DateScale()\n",
    "    y_scale = LinearScale()\n",
    "   \n",
    "    ax = Axis(label=\"Date\", scale=x_scale)\n",
    "    # TODO - this could be updated depending on what's being plot\n",
    "    ay = Axis(label=\"Count\", scale=y_scale, orientation=\"vertical\")\n",
    "    \n",
    "    r = lambda: randint(0,255)\n",
    "    \n",
    "     # Setup the axes\n",
    "    x_scale = DateScale()\n",
    "    y_scale = LinearScale()\n",
    "    \n",
    "    scales = {\"x\": x_scale, \"y\": y_scale}\n",
    "    lines = [Lines(x=d.index.values, y=d.iloc[:,0], scales=scales, colors=['#%02X%02X%02X' % (r(),r(),r())]) for d in plot_data]\n",
    "    \n",
    "    # Update the values of each of the lines\n",
    "    fig.marks = lines\n",
    "    fig.axes = [ax, ay]\n",
    "    fig.title = \"A plot of some gases\"\n",
    "    \n",
    "\n",
    "lines = Lines()\n",
    "\n",
    "fig = bq.figure(animation_duration=750)\n",
    "    \n",
    "plot_button.on_click(plot_data)\n",
    "\n",
    "# plot_button.on_click(lambda btn: plot_data())\n",
    "\n",
    "display(ui_box, out)\n",
    "\n",
    "VBox([fig])"
   ]
  },
  {
   "cell_type": "code",
   "execution_count": null,
   "metadata": {},
   "outputs": [
    {
     "data": {
      "text/plain": [
       "{'_trait_values': {'_model_module': 'bqplot',\n",
       "  '_model_module_version': '^0.4.6',\n",
       "  '_model_name': 'FigureModel',\n",
       "  '_view_count': None,\n",
       "  '_view_module': 'bqplot',\n",
       "  '_view_module_version': '^0.4.6',\n",
       "  '_view_name': 'Figure',\n",
       "  'animation_duration': 750,\n",
       "  'legend_location': 'top-right',\n",
       "  'max_aspect_ratio': 100.0,\n",
       "  'min_aspect_ratio': 0.0,\n",
       "  'padding_x': 0.0,\n",
       "  'padding_y': 0.025,\n",
       "  'title': 'A plot of some gases',\n",
       "  'comm': <ipykernel.comm.comm.Comm at 0x7f0bc1fd9358>,\n",
       "  'keys': ['_dom_classes',\n",
       "   '_model_module',\n",
       "   '_model_module_version',\n",
       "   '_model_name',\n",
       "   '_view_count',\n",
       "   '_view_module',\n",
       "   '_view_module_version',\n",
       "   '_view_name',\n",
       "   'animation_duration',\n",
       "   'axes',\n",
       "   'background_style',\n",
       "   'fig_margin',\n",
       "   'interaction',\n",
       "   'layout',\n",
       "   'legend_location',\n",
       "   'legend_style',\n",
       "   'legend_text',\n",
       "   'marks',\n",
       "   'max_aspect_ratio',\n",
       "   'min_aspect_ratio',\n",
       "   'padding_x',\n",
       "   'padding_y',\n",
       "   'scale_x',\n",
       "   'scale_y',\n",
       "   'title',\n",
       "   'title_style'],\n",
       "  '_dom_classes': (),\n",
       "  'axes': [Axis(label='Date', scale=DateScale(), side='bottom'),\n",
       "   Axis(label='Count', orientation='vertical', scale=LinearScale(), side='left')],\n",
       "  'background_style': {},\n",
       "  'fig_margin': {'top': 60, 'bottom': 60, 'left': 60, 'right': 60},\n",
       "  'interaction': None,\n",
       "  'layout': Layout(min_width='125px'),\n",
       "  'legend_style': {},\n",
       "  'legend_text': {},\n",
       "  'marks': [Lines(colors=['#EB47B1'], interactions={'hover': 'tooltip'}, scales={'x': DateScale(), 'y': LinearScale()}, scales_metadata={'x': {'orientation': 'horizontal', 'dimension': 'x'}, 'y': {'orientation': 'vertical', 'dimension': 'y'}, 'color': {'dimension': 'color'}}, tooltip_style={'opacity': 0.9}, x=array(['2013-12-04T14:02:30.000000000', '2013-12-11T12:52:30.000000000',\n",
       "          '2013-12-18T19:12:30.000000000', '2013-12-25T22:56:30.000000000',\n",
       "          '2014-01-01T18:25:30.000000000', '2014-01-08T14:03:30.000000000',\n",
       "          '2014-03-12T00:56:30.000000000', '2014-03-19T02:06:30.000000000',\n",
       "          '2014-03-26T02:39:30.000000000', '2014-04-02T02:56:30.000000000',\n",
       "          '2014-04-09T03:14:30.000000000', '2014-04-16T07:34:30.000000000',\n",
       "          '2014-04-23T05:49:30.000000000', '2014-04-30T03:12:30.000000000',\n",
       "          '2014-05-07T00:28:30.000000000', '2014-05-14T02:12:30.000000000',\n",
       "          '2014-05-20T23:09:30.000000000', '2014-05-27T18:38:30.000000000',\n",
       "          '2014-06-03T13:47:30.000000000', '2014-07-08T15:42:30.000000000',\n",
       "          '2014-07-15T10:46:30.000000000', '2014-07-29T07:13:30.000000000',\n",
       "          '2014-08-05T02:34:30.000000000', '2014-08-11T22:03:30.000000000',\n",
       "          '2014-08-18T23:01:30.000000000', '2014-08-25T18:30:30.000000000',\n",
       "          '2014-09-01T13:39:30.000000000', '2014-09-08T11:51:30.000000000',\n",
       "          '2014-09-15T11:14:30.000000000', '2014-09-22T14:59:30.000000000',\n",
       "          '2014-09-29T11:49:30.000000000', '2014-10-06T07:24:30.000000000',\n",
       "          '2014-10-13T18:10:30.000000000', '2014-10-28T18:20:30.000000000',\n",
       "          '2014-11-05T04:58:30.000000000', '2014-11-12T15:18:30.000000000',\n",
       "          '2014-11-20T05:38:30.000000000', '2014-11-27T15:28:30.000000000',\n",
       "          '2014-12-05T04:18:30.000000000', '2014-12-12T12:38:30.000000000',\n",
       "          '2014-12-20T22:12:30.000000000', '2014-12-28T08:02:30.000000000',\n",
       "          '2015-01-04T17:22:30.000000000', '2015-01-12T03:12:30.000000000',\n",
       "          '2015-01-19T18:02:30.000000000', '2015-01-27T03:22:30.000000000',\n",
       "          '2015-02-03T13:42:30.000000000', '2015-02-10T23:02:30.000000000',\n",
       "          '2015-02-18T08:22:30.000000000', '2015-02-25T23:12:30.000000000',\n",
       "          '2015-03-07T01:37:30.000000000', '2015-03-14T04:56:30.000000000',\n",
       "          '2015-03-24T00:09:30.000000000', '2015-03-30T20:07:30.000000000',\n",
       "          '2015-04-06T15:36:30.000000000', '2015-04-13T11:05:30.000000000',\n",
       "          '2015-04-27T07:12:30.000000000', '2015-05-04T02:51:30.000000000',\n",
       "          '2015-05-11T00:12:30.000000000', '2015-05-17T23:06:30.000000000',\n",
       "          '2015-05-25T03:45:30.000000000', '2015-06-01T04:50:30.000000000',\n",
       "          '2015-06-08T05:30:30.000000000', '2015-06-15T06:40:30.000000000',\n",
       "          '2015-06-23T09:39:30.000000000', '2015-06-30T10:19:30.000000000',\n",
       "          '2015-07-07T11:49:30.000000000', '2015-07-14T11:08:30.000000000',\n",
       "          '2015-07-21T15:30:30.000000000', '2015-07-28T17:31:30.000000000',\n",
       "          '2015-08-04T15:59:30.000000000', '2015-08-11T15:10:30.000000000',\n",
       "          '2015-08-18T14:28:30.000000000', '2015-08-25T18:08:30.000000000',\n",
       "          '2015-09-01T16:30:30.000000000', '2015-09-08T15:39:30.000000000',\n",
       "          '2015-09-15T15:09:30.000000000', '2015-09-22T19:22:30.000000000',\n",
       "          '2015-09-29T19:19:30.000000000', '2015-10-06T18:58:30.000000000',\n",
       "          '2015-10-20T20:50:30.000000000', '2015-10-28T05:33:30.000000000',\n",
       "          '2015-11-04T04:57:30.000000000', '2015-11-11T08:09:30.000000000',\n",
       "          '2015-11-18T07:32:30.000000000', '2015-11-25T11:11:30.000000000',\n",
       "          '2015-12-09T14:02:30.000000000', '2015-12-23T10:24:30.000000000',\n",
       "          '2015-12-30T14:55:30.000000000', '2016-01-06T18:01:30.000000000',\n",
       "          '2016-01-13T17:31:30.000000000', '2016-01-20T17:32:30.000000000',\n",
       "          '2016-01-27T13:55:30.000000000', '2016-02-03T17:39:30.000000000',\n",
       "          '2016-02-17T15:21:30.000000000', '2016-02-24T12:53:30.000000000',\n",
       "          '2016-03-02T17:24:30.000000000', '2016-03-09T16:27:30.000000000',\n",
       "          '2016-03-16T14:57:30.000000000', '2016-03-23T12:28:30.000000000',\n",
       "          '2016-03-30T16:50:30.000000000', '2016-04-06T15:49:30.000000000',\n",
       "          '2016-04-20T12:52:30.000000000', '2016-04-27T17:39:30.000000000',\n",
       "          '2016-05-04T15:37:30.000000000', '2016-05-11T14:50:30.000000000',\n",
       "          '2016-05-18T13:31:30.000000000', '2016-06-01T17:19:30.000000000',\n",
       "          '2016-06-08T15:20:30.000000000', '2016-06-15T13:58:30.000000000',\n",
       "          '2016-06-22T18:24:30.000000000', '2016-06-29T16:34:30.000000000',\n",
       "          '2016-07-06T15:54:30.000000000', '2016-07-13T14:27:30.000000000',\n",
       "          '2016-07-20T18:56:30.000000000', '2016-07-27T16:07:30.000000000',\n",
       "          '2016-08-03T15:22:30.000000000', '2016-08-10T13:42:30.000000000',\n",
       "          '2016-08-17T17:34:30.000000000', '2016-08-25T14:40:30.000000000',\n",
       "          '2016-09-01T13:06:30.000000000', '2016-09-08T12:28:30.000000000',\n",
       "          '2016-09-15T17:20:30.000000000', '2016-09-22T19:52:30.000000000',\n",
       "          '2016-09-29T19:25:30.000000000', '2016-10-06T18:34:30.000000000',\n",
       "          '2016-10-13T22:02:30.000000000', '2016-10-20T20:42:30.000000000',\n",
       "          '2016-10-27T18:58:30.000000000', '2016-11-03T18:17:30.000000000',\n",
       "          '2016-11-17T20:01:30.000000000', '2016-11-24T17:34:30.000000000',\n",
       "          '2016-12-08T20:05:30.000000000', '2016-12-15T18:51:30.000000000',\n",
       "          '2016-12-22T01:18:30.000000000', '2016-12-25T13:38:30.000000000',\n",
       "          '2016-12-29T02:17:30.000000000', '2017-01-01T19:56:30.000000000',\n",
       "          '2017-01-05T08:14:30.000000000', '2017-01-08T20:53:30.000000000',\n",
       "          '2017-01-12T09:12:30.000000000', '2017-01-15T21:51:30.000000000',\n",
       "          '2017-01-19T10:10:30.000000000', '2017-01-22T22:49:30.000000000',\n",
       "          '2017-01-26T11:08:30.000000000', '2017-01-30T04:45:30.000000000',\n",
       "          '2017-02-06T05:43:30.000000000', '2017-02-09T18:22:30.000000000',\n",
       "          '2017-02-13T06:41:30.000000000', '2017-02-16T19:20:30.000000000',\n",
       "          '2017-02-20T07:38:30.000000000', '2017-02-24T06:55:30.000000000',\n",
       "          '2017-03-03T10:08:30.000000000', '2017-03-10T13:27:30.000000000',\n",
       "          '2017-03-17T11:09:30.000000000', '2017-03-24T15:28:30.000000000',\n",
       "          '2017-03-31T13:59:30.000000000', '2017-04-14T15:40:30.000000000',\n",
       "          '2017-04-21T19:07:30.000000000', '2017-04-28T18:30:30.000000000',\n",
       "          '2017-05-05T17:29:30.000000000', '2017-05-12T22:27:30.000000000',\n",
       "          '2017-05-20T01:40:30.000000000', '2017-05-27T00:12:30.000000000',\n",
       "          '2017-06-10T19:23:30.000000000', '2017-06-24T21:57:30.000000000',\n",
       "          '2017-07-01T20:21:30.000000000', '2017-07-08T23:56:30.000000000',\n",
       "          '2017-07-16T23:09:30.000000000', '2017-07-23T23:05:30.000000000',\n",
       "          '2017-07-31T00:06:30.000000000', '2017-08-14T17:03:30.000000000',\n",
       "          '2017-08-21T18:09:30.000000000', '2017-09-04T21:17:30.000000000',\n",
       "          '2017-09-12T03:29:30.000000000', '2017-09-19T11:37:30.000000000',\n",
       "          '2017-09-26T13:04:30.000000000', '2017-09-30T04:05:30.000000000',\n",
       "          '2017-10-03T17:42:30.000000000', '2017-10-07T12:19:30.000000000',\n",
       "          '2017-10-11T02:15:30.000000000', '2017-10-15T00:30:30.000000000',\n",
       "          '2017-10-18T13:49:30.000000000', '2017-10-22T03:45:30.000000000',\n",
       "          '2017-10-25T17:25:30.000000000', '2017-10-29T07:02:30.000000000',\n",
       "          '2017-11-01T20:40:30.000000000', '2017-11-05T15:19:30.000000000',\n",
       "          '2017-11-09T05:15:30.000000000', '2017-11-12T18:51:30.000000000',\n",
       "          '2017-11-16T17:09:30.000000000', '2017-11-20T06:47:30.000000000',\n",
       "          '2017-11-23T20:24:30.000000000', '2017-11-27T10:02:30.000000000',\n",
       "          '2017-12-01T00:00:30.000000000', '2017-12-04T18:37:30.000000000',\n",
       "          '2017-12-08T08:14:30.000000000', '2017-12-11T21:53:30.000000000',\n",
       "          '2017-12-15T20:11:30.000000000', '2017-12-19T09:45:30.000000000',\n",
       "          '2017-12-26T07:35:30.000000000', '2018-01-02T13:10:30.000000000',\n",
       "          '2018-01-09T14:01:30.000000000', '2018-01-16T23:36:30.000000000',\n",
       "          '2018-01-24T01:24:30.000000000', '2018-01-31T07:55:30.000000000',\n",
       "          '2018-02-14T15:17:30.000000000', '2018-02-21T15:54:30.000000000',\n",
       "          '2018-03-09T00:32:30.000000000', '2018-03-16T01:40:30.000000000',\n",
       "          '2018-03-23T03:23:30.000000000', '2018-03-26T22:50:30.000000000',\n",
       "          '2018-03-30T12:27:30.000000000', '2018-04-03T02:23:30.000000000',\n",
       "          '2018-04-06T15:40:30.000000000', '2018-04-10T05:37:30.000000000',\n",
       "          '2018-04-13T19:14:30.000000000', '2018-04-17T08:52:30.000000000',\n",
       "          '2018-04-20T22:29:30.000000000', '2018-04-24T12:07:30.000000000',\n",
       "          '2018-04-29T15:43:30.000000000', '2018-05-06T17:29:30.000000000',\n",
       "          '2018-05-13T18:19:30.000000000', '2018-05-20T19:01:30.000000000',\n",
       "          '2018-06-03T21:21:30.000000000', '2018-06-11T00:16:30.000000000',\n",
       "          '2018-06-18T01:59:30.000000000', '2018-06-25T03:38:30.000000000',\n",
       "          '2018-07-02T05:18:30.000000000', '2018-07-09T07:01:30.000000000',\n",
       "          '2018-07-23T09:40:30.000000000', '2018-07-30T11:01:30.000000000',\n",
       "          '2018-08-06T12:42:30.000000000', '2018-08-13T13:38:30.000000000',\n",
       "          '2018-08-20T15:14:30.000000000', '2018-08-27T16:06:30.000000000',\n",
       "          '2018-09-03T18:02:30.000000000', '2018-09-10T18:03:30.000000000',\n",
       "          '2018-09-17T19:34:30.000000000', '2018-09-24T21:20:30.000000000',\n",
       "          '2018-10-05T11:28:30.000000000', '2018-10-12T12:41:30.000000000',\n",
       "          '2018-10-19T14:21:30.000000000', '2018-10-26T15:09:30.000000000',\n",
       "          '2018-11-09T18:05:30.000000000', '2018-11-16T18:35:30.000000000',\n",
       "          '2018-11-23T20:16:30.000000000', '2018-11-30T21:10:30.000000000',\n",
       "          '2018-12-15T00:37:30.000000000', '2018-12-23T03:51:30.000000000',\n",
       "          '2018-12-30T10:12:30.000000000', '2019-01-06T11:02:30.000000000',\n",
       "          '2019-01-13T11:57:30.000000000', '2019-01-20T13:23:30.000000000',\n",
       "          '2019-01-27T20:27:30.000000000', '2019-02-03T21:36:30.000000000',\n",
       "          '2019-02-10T22:55:30.000000000', '2019-02-25T20:19:30.000000000',\n",
       "          '2019-03-04T00:13:30.000000000', '2019-03-09T05:44:30.000000000',\n",
       "          '2019-03-14T10:52:30.000000000', '2019-03-19T16:35:30.000000000',\n",
       "          '2019-03-25T12:29:30.000000000', '2019-03-30T18:43:30.000000000',\n",
       "          '2019-04-05T00:37:30.000000000', '2019-04-10T06:31:30.000000000',\n",
       "          '2019-04-15T12:59:30.000000000', '2019-04-21T03:17:30.000000000',\n",
       "          '2019-05-01T19:37:30.000000000', '2019-05-07T01:43:30.000000000',\n",
       "          '2019-05-10T17:56:30.000000000', '2019-05-14T06:15:30.000000000',\n",
       "          '2019-05-17T19:07:30.000000000', '2019-05-21T15:46:30.000000000'],\n",
       "         dtype='datetime64[ns]'), y=array([414.21, 410.96, 402.34, 401.66, 401.86, 402.95, 408.48, 408.79,\n",
       "          412.96, 408.9 , 402.81, 408.49, 402.59, 400.67, 405.95, 404.01,\n",
       "          401.45, 400.71, 400.11, 389.66, 394.56, 400.04, 392.54, 392.97,\n",
       "          392.8 , 392.4 , 389.09, 387.54, 394.52, 391.84, 418.35, 394.95,\n",
       "          403.71, 410.04, 419.53, 401.33, 421.69, 421.53, 438.53, 401.85,\n",
       "          405.56, 407.55, 407.73, 402.95, 411.58, 407.95, 407.93, 409.57,\n",
       "          405.42, 405.26, 405.18, 412.19, 411.61, 405.36, 406.36, 405.26,\n",
       "          419.27, 406.03, 402.05, 409.47, 410.95, 410.52, 412.8 , 407.  ,\n",
       "          398.98, 391.31, 396.98, 397.76, 393.46, 390.88, 392.36, 385.93,\n",
       "          387.52, 393.88, 390.06, 390.12, 392.25, 401.34, 402.84, 398.91,\n",
       "          406.63, 406.17, 411.83, 403.56, 411.29, 408.12, 405.33, 406.76,\n",
       "          407.96, 431.01, 407.53, 428.03, 408.31, 410.24, 410.86, 409.46,\n",
       "          409.16, 412.13, 412.29, 415.51, 408.47, 405.96, 408.47, 408.78,\n",
       "          406.86, 410.33, 404.39, 402.55, 392.81, 401.11, 403.97, 399.33,\n",
       "          397.65, 393.34, 401.16, 396.06, 395.81, 393.3 , 399.05, 414.19,\n",
       "          393.93, 394.07, 402.89, 401.46, 399.41, 404.04, 424.03, 418.93,\n",
       "          409.17, 410.91, 408.12, 410.92, 421.  , 424.31, 410.08, 407.24,\n",
       "          414.23, 411.19, 415.11, 417.72, 413.22, 416.1 , 429.83, 445.39,\n",
       "          435.5 , 412.85, 422.26, 430.8 , 440.36, 417.25, 418.21, 414.81,\n",
       "          420.81, 415.73, 411.99, 418.96, 410.52, 410.09, 410.06, 414.41,\n",
       "          414.29, 412.11, 412.5 , 405.71, 406.63, 409.4 , 400.67, 407.8 ,\n",
       "          415.07, 402.26, 400.06, 396.31, 404.15, 401.79, 404.17, 404.25,\n",
       "          414.97, 404.66, 398.41, 401.8 , 404.21, 407.08, 424.11, 407.32,\n",
       "          408.  , 411.63, 410.57, 407.73, 406.23, 412.85, 409.41, 413.37,\n",
       "          412.62, 411.99, 413.13, 416.06, 414.08, 426.77, 420.87, 414.61,\n",
       "          413.96, 413.41, 426.65, 412.92, 410.5 , 413.18, 413.61, 423.14,\n",
       "          414.91, 415.6 , 415.07, 415.09, 415.83, 414.36, 408.98, 428.57,\n",
       "          422.25, 419.21, 453.93, 414.4 , 413.35, 402.75, 411.18, 398.52,\n",
       "          405.55, 415.44, 412.09, 405.17, 417.59, 403.19, 404.83, 404.6 ,\n",
       "          403.3 , 403.15, 401.75, 395.4 , 400.08, 401.92, 403.58, 403.69,\n",
       "          410.3 , 404.77, 410.4 , 408.6 , 410.55, 434.01, 446.58, 412.09,\n",
       "          428.54, 413.38, 423.77, 422.66, 415.42, 427.77, 415.9 , 418.42,\n",
       "          416.99, 427.31, 415.24, 418.03, 414.99, 414.61, 417.12, 417.27,\n",
       "          416.15, 418.54, 417.07, 415.17, 411.13, 413.97, 411.52, 422.5 ,\n",
       "          416.48, 411.08])),\n",
       "   Lines(colors=['#608EDE'], interactions={'hover': 'tooltip'}, scales={'x': DateScale(), 'y': LinearScale()}, scales_metadata={'x': {'orientation': 'horizontal', 'dimension': 'x'}, 'y': {'orientation': 'vertical', 'dimension': 'y'}, 'color': {'dimension': 'color'}}, tooltip_style={'opacity': 0.9}, x=array(['2014-01-30T10:52:30.000000000', '2014-01-30T10:53:30.000000000',\n",
       "          '2014-01-30T10:54:30.000000000', '2014-01-30T10:55:30.000000000',\n",
       "          '2014-01-30T10:56:30.000000000', '2014-01-30T10:57:30.000000000',\n",
       "          '2014-01-30T10:58:30.000000000', '2014-01-30T10:59:30.000000000',\n",
       "          '2014-01-30T11:00:30.000000000', '2014-01-30T11:01:30.000000000',\n",
       "          '2014-01-30T11:02:30.000000000', '2014-01-30T11:03:30.000000000',\n",
       "          '2014-01-30T11:04:30.000000000', '2014-01-30T11:05:30.000000000',\n",
       "          '2014-01-30T11:06:30.000000000', '2014-01-30T11:07:30.000000000',\n",
       "          '2014-01-30T11:08:30.000000000', '2014-01-30T11:09:30.000000000',\n",
       "          '2014-01-30T12:19:30.000000000', '2014-01-30T12:20:30.000000000',\n",
       "          '2014-01-30T12:21:30.000000000', '2014-01-30T12:22:30.000000000',\n",
       "          '2014-01-30T12:23:30.000000000', '2014-01-30T12:24:30.000000000',\n",
       "          '2014-01-30T12:25:30.000000000', '2014-01-30T12:26:30.000000000',\n",
       "          '2014-01-30T12:27:30.000000000', '2014-01-30T12:28:30.000000000',\n",
       "          '2014-01-30T12:29:30.000000000', '2014-01-30T13:12:30.000000000',\n",
       "          '2014-01-30T13:13:30.000000000', '2014-01-30T13:14:30.000000000',\n",
       "          '2014-01-30T13:15:30.000000000', '2014-01-30T13:16:30.000000000',\n",
       "          '2014-01-30T13:17:30.000000000', '2014-01-30T13:18:30.000000000',\n",
       "          '2014-01-30T13:19:30.000000000', '2014-01-30T13:20:30.000000000',\n",
       "          '2014-01-30T13:21:30.000000000', '2014-01-30T13:22:30.000000000',\n",
       "          '2014-01-30T13:23:30.000000000', '2014-01-30T13:24:30.000000000',\n",
       "          '2014-01-30T13:25:30.000000000', '2014-01-30T13:26:30.000000000',\n",
       "          '2014-01-30T13:27:30.000000000', '2014-01-30T13:28:30.000000000',\n",
       "          '2014-01-30T13:29:30.000000000', '2014-01-30T13:52:30.000000000',\n",
       "          '2014-01-30T13:53:30.000000000', '2014-01-30T13:54:30.000000000',\n",
       "          '2014-01-30T13:55:30.000000000', '2014-01-30T13:56:30.000000000',\n",
       "          '2014-01-30T13:57:30.000000000', '2014-01-30T13:58:30.000000000',\n",
       "          '2014-01-30T13:59:30.000000000', '2014-01-30T14:00:30.000000000',\n",
       "          '2014-01-30T14:01:30.000000000', '2014-01-30T14:02:30.000000000',\n",
       "          '2014-01-30T14:03:30.000000000', '2014-01-30T14:04:30.000000000',\n",
       "          '2014-01-30T14:05:30.000000000', '2014-01-30T14:06:30.000000000',\n",
       "          '2014-01-30T14:07:30.000000000', '2014-01-30T14:08:30.000000000',\n",
       "          '2014-01-30T14:09:30.000000000', '2014-01-30T14:10:30.000000000',\n",
       "          '2014-01-30T14:11:30.000000000', '2014-01-30T14:12:30.000000000',\n",
       "          '2014-01-30T14:13:30.000000000', '2014-01-30T14:14:30.000000000',\n",
       "          '2014-01-30T14:15:30.000000000', '2014-01-30T14:16:30.000000000',\n",
       "          '2014-01-30T14:17:30.000000000', '2014-01-30T14:18:30.000000000',\n",
       "          '2014-01-30T14:19:30.000000000', '2014-01-30T14:20:30.000000000'],\n",
       "         dtype='datetime64[ns]'), y=array([204.62, 200.78, 201.54, 203.39, 201.87, 202.54, 202.81, 202.41,\n",
       "          204.96, 203.02, 200.56, 203.43, 200.5 , 203.13, 199.4 , 203.15,\n",
       "          203.05, 197.83, 201.96, 198.09, 198.92, 200.12, 201.33, 200.34,\n",
       "          200.49, 201.24, 199.02, 200.11, 203.46, 206.02, 203.72, 205.55,\n",
       "          203.86, 204.1 , 203.41, 202.26, 203.36, 201.08, 202.37, 206.23,\n",
       "          203.93, 201.69, 202.86, 206.86, 204.38, 203.01, 201.32, 199.5 ,\n",
       "          198.42, 195.77, 196.96, 199.16, 198.45, 195.17, 201.  , 200.24,\n",
       "          200.24, 199.26, 198.46, 198.26, 200.57, 199.76, 197.06, 197.38,\n",
       "          197.57, 198.62, 198.61, 197.62, 197.34, 196.82, 196.9 , 197.83,\n",
       "          197.37, 197.52, 196.92, 196.35])),\n",
       "   Lines(colors=['#D9223E'], interactions={'hover': 'tooltip'}, scales={'x': DateScale(), 'y': LinearScale()}, scales_metadata={'x': {'orientation': 'horizontal', 'dimension': 'x'}, 'y': {'orientation': 'vertical', 'dimension': 'y'}, 'color': {'dimension': 'color'}}, tooltip_style={'opacity': 0.9}, x=array(['2013-12-04T14:02:30.000000000', '2013-12-11T12:52:30.000000000',\n",
       "          '2013-12-18T19:12:30.000000000', '2013-12-25T22:56:30.000000000',\n",
       "          '2014-01-01T18:25:30.000000000', '2014-01-08T14:03:30.000000000',\n",
       "          '2014-03-12T00:56:30.000000000', '2014-03-19T02:06:30.000000000',\n",
       "          '2014-03-26T02:39:30.000000000', '2014-04-02T02:56:30.000000000',\n",
       "          '2014-04-09T03:14:30.000000000', '2014-04-16T07:34:30.000000000',\n",
       "          '2014-04-23T05:49:30.000000000', '2014-04-30T03:12:30.000000000',\n",
       "          '2014-05-07T00:28:30.000000000', '2014-05-14T02:12:30.000000000',\n",
       "          '2014-05-20T23:09:30.000000000', '2014-05-27T18:38:30.000000000',\n",
       "          '2014-06-03T13:47:30.000000000', '2014-07-08T15:42:30.000000000',\n",
       "          '2014-07-15T10:46:30.000000000', '2014-07-29T07:13:30.000000000',\n",
       "          '2014-08-05T02:34:30.000000000', '2014-08-11T22:03:30.000000000',\n",
       "          '2014-08-18T23:01:30.000000000', '2014-08-25T18:30:30.000000000',\n",
       "          '2014-09-01T13:39:30.000000000', '2014-09-08T11:51:30.000000000',\n",
       "          '2014-09-15T11:14:30.000000000', '2014-09-22T14:59:30.000000000',\n",
       "          '2014-09-29T11:49:30.000000000', '2014-10-06T07:24:30.000000000',\n",
       "          '2014-10-13T18:10:30.000000000', '2014-10-28T18:20:30.000000000',\n",
       "          '2014-11-05T04:58:30.000000000', '2014-11-12T15:18:30.000000000',\n",
       "          '2014-11-20T05:38:30.000000000', '2014-11-27T15:28:30.000000000',\n",
       "          '2014-12-05T04:18:30.000000000', '2014-12-12T12:38:30.000000000',\n",
       "          '2014-12-20T22:12:30.000000000', '2014-12-28T08:02:30.000000000',\n",
       "          '2015-01-04T17:22:30.000000000', '2015-01-12T03:12:30.000000000',\n",
       "          '2015-01-19T18:02:30.000000000', '2015-01-27T03:22:30.000000000',\n",
       "          '2015-02-03T13:42:30.000000000', '2015-02-10T23:02:30.000000000',\n",
       "          '2015-02-18T08:22:30.000000000', '2015-02-25T23:12:30.000000000',\n",
       "          '2015-03-07T01:37:30.000000000', '2015-03-14T04:56:30.000000000',\n",
       "          '2015-03-24T00:09:30.000000000', '2015-03-30T20:07:30.000000000',\n",
       "          '2015-04-06T15:36:30.000000000', '2015-04-13T11:05:30.000000000',\n",
       "          '2015-04-27T07:12:30.000000000', '2015-05-04T02:51:30.000000000',\n",
       "          '2015-05-11T00:12:30.000000000', '2015-05-17T23:06:30.000000000',\n",
       "          '2015-05-25T03:45:30.000000000', '2015-06-01T04:50:30.000000000',\n",
       "          '2015-06-08T05:30:30.000000000', '2015-06-15T06:40:30.000000000',\n",
       "          '2015-06-23T09:39:30.000000000', '2015-06-30T10:19:30.000000000',\n",
       "          '2015-07-07T11:49:30.000000000', '2015-07-14T11:08:30.000000000',\n",
       "          '2015-07-21T15:30:30.000000000', '2015-07-28T17:31:30.000000000',\n",
       "          '2015-08-04T15:59:30.000000000', '2015-08-11T15:10:30.000000000',\n",
       "          '2015-08-18T14:28:30.000000000', '2015-08-25T18:08:30.000000000',\n",
       "          '2015-09-01T16:30:30.000000000', '2015-09-08T15:39:30.000000000',\n",
       "          '2015-09-15T15:09:30.000000000', '2015-09-22T19:22:30.000000000',\n",
       "          '2015-09-29T19:19:30.000000000', '2015-10-06T18:58:30.000000000',\n",
       "          '2015-10-20T20:50:30.000000000', '2015-10-28T05:33:30.000000000',\n",
       "          '2015-11-04T04:57:30.000000000', '2015-11-11T08:09:30.000000000',\n",
       "          '2015-11-18T07:32:30.000000000', '2015-11-25T11:11:30.000000000',\n",
       "          '2015-12-09T14:02:30.000000000', '2015-12-23T10:24:30.000000000',\n",
       "          '2015-12-30T14:55:30.000000000', '2016-01-06T18:01:30.000000000',\n",
       "          '2016-01-13T17:31:30.000000000', '2016-01-20T17:32:30.000000000',\n",
       "          '2016-01-27T13:55:30.000000000', '2016-02-03T17:39:30.000000000',\n",
       "          '2016-02-17T15:21:30.000000000', '2016-02-24T12:53:30.000000000',\n",
       "          '2016-03-02T17:24:30.000000000', '2016-03-09T16:27:30.000000000',\n",
       "          '2016-03-16T14:57:30.000000000', '2016-03-23T12:28:30.000000000',\n",
       "          '2016-03-30T16:50:30.000000000', '2016-04-06T15:49:30.000000000',\n",
       "          '2016-04-20T12:52:30.000000000', '2016-04-27T17:39:30.000000000',\n",
       "          '2016-05-04T15:37:30.000000000', '2016-05-11T14:50:30.000000000',\n",
       "          '2016-05-18T13:31:30.000000000', '2016-06-01T17:19:30.000000000',\n",
       "          '2016-06-08T15:20:30.000000000', '2016-06-15T13:58:30.000000000',\n",
       "          '2016-06-22T18:24:30.000000000', '2016-06-29T16:34:30.000000000',\n",
       "          '2016-07-06T15:54:30.000000000', '2016-07-13T14:27:30.000000000',\n",
       "          '2016-07-20T18:56:30.000000000', '2016-07-27T16:07:30.000000000',\n",
       "          '2016-08-03T15:22:30.000000000', '2016-08-10T13:42:30.000000000',\n",
       "          '2016-08-17T17:34:30.000000000', '2016-08-25T14:40:30.000000000',\n",
       "          '2016-09-01T13:06:30.000000000', '2016-09-08T12:28:30.000000000',\n",
       "          '2016-09-15T17:20:30.000000000', '2016-09-22T19:52:30.000000000',\n",
       "          '2016-09-29T19:25:30.000000000', '2016-10-06T18:34:30.000000000',\n",
       "          '2016-10-13T22:02:30.000000000', '2016-10-20T20:42:30.000000000',\n",
       "          '2016-10-27T18:58:30.000000000', '2016-11-03T18:17:30.000000000',\n",
       "          '2016-11-17T20:01:30.000000000', '2016-11-24T17:34:30.000000000',\n",
       "          '2016-12-08T20:05:30.000000000', '2016-12-15T18:51:30.000000000',\n",
       "          '2016-12-22T01:18:30.000000000', '2016-12-25T13:38:30.000000000',\n",
       "          '2016-12-29T02:17:30.000000000', '2017-01-01T19:56:30.000000000',\n",
       "          '2017-01-05T08:14:30.000000000', '2017-01-08T20:53:30.000000000',\n",
       "          '2017-01-12T09:12:30.000000000', '2017-01-15T21:51:30.000000000',\n",
       "          '2017-01-19T10:10:30.000000000', '2017-01-22T22:49:30.000000000',\n",
       "          '2017-01-26T11:08:30.000000000', '2017-01-30T04:45:30.000000000',\n",
       "          '2017-02-06T05:43:30.000000000', '2017-02-09T18:22:30.000000000',\n",
       "          '2017-02-13T06:41:30.000000000', '2017-02-16T19:20:30.000000000',\n",
       "          '2017-02-20T07:38:30.000000000', '2017-02-24T06:55:30.000000000',\n",
       "          '2017-03-03T10:08:30.000000000', '2017-03-10T13:27:30.000000000',\n",
       "          '2017-03-17T11:09:30.000000000', '2017-03-24T15:28:30.000000000',\n",
       "          '2017-03-31T13:59:30.000000000', '2017-04-14T15:40:30.000000000',\n",
       "          '2017-04-21T19:07:30.000000000', '2017-04-28T18:30:30.000000000',\n",
       "          '2017-05-05T17:29:30.000000000', '2017-05-12T22:27:30.000000000',\n",
       "          '2017-05-20T01:40:30.000000000', '2017-05-27T00:12:30.000000000',\n",
       "          '2017-06-10T19:23:30.000000000', '2017-06-24T21:57:30.000000000',\n",
       "          '2017-07-01T20:21:30.000000000', '2017-07-08T23:56:30.000000000',\n",
       "          '2017-07-16T23:09:30.000000000', '2017-07-23T23:05:30.000000000',\n",
       "          '2017-07-31T00:06:30.000000000', '2017-08-14T17:03:30.000000000',\n",
       "          '2017-08-21T18:09:30.000000000', '2017-09-04T21:17:30.000000000',\n",
       "          '2017-09-12T03:29:30.000000000', '2017-09-19T11:37:30.000000000',\n",
       "          '2017-09-26T13:04:30.000000000', '2017-09-30T04:05:30.000000000',\n",
       "          '2017-10-03T17:42:30.000000000', '2017-10-07T12:19:30.000000000',\n",
       "          '2017-10-11T02:15:30.000000000', '2017-10-15T00:30:30.000000000',\n",
       "          '2017-10-18T13:49:30.000000000', '2017-10-22T03:45:30.000000000',\n",
       "          '2017-10-25T17:25:30.000000000', '2017-10-29T07:02:30.000000000',\n",
       "          '2017-11-01T20:40:30.000000000', '2017-11-05T15:19:30.000000000',\n",
       "          '2017-11-09T05:15:30.000000000', '2017-11-12T18:51:30.000000000',\n",
       "          '2017-11-16T17:09:30.000000000', '2017-11-20T06:47:30.000000000',\n",
       "          '2017-11-23T20:24:30.000000000', '2017-11-27T10:02:30.000000000',\n",
       "          '2017-12-01T00:00:30.000000000', '2017-12-04T18:37:30.000000000',\n",
       "          '2017-12-08T08:14:30.000000000', '2017-12-11T21:53:30.000000000',\n",
       "          '2017-12-15T20:11:30.000000000', '2017-12-19T09:45:30.000000000',\n",
       "          '2017-12-26T07:35:30.000000000', '2018-01-02T13:10:30.000000000',\n",
       "          '2018-01-09T14:01:30.000000000', '2018-01-16T23:36:30.000000000',\n",
       "          '2018-01-24T01:24:30.000000000', '2018-01-31T07:55:30.000000000',\n",
       "          '2018-02-14T15:17:30.000000000', '2018-02-21T15:54:30.000000000',\n",
       "          '2018-03-09T00:32:30.000000000', '2018-03-16T01:40:30.000000000',\n",
       "          '2018-03-23T03:23:30.000000000', '2018-03-26T22:50:30.000000000',\n",
       "          '2018-03-30T12:27:30.000000000', '2018-04-03T02:23:30.000000000',\n",
       "          '2018-04-06T15:40:30.000000000', '2018-04-10T05:37:30.000000000',\n",
       "          '2018-04-13T19:14:30.000000000', '2018-04-17T08:52:30.000000000',\n",
       "          '2018-04-20T22:29:30.000000000', '2018-04-24T12:07:30.000000000',\n",
       "          '2018-04-29T15:43:30.000000000', '2018-05-06T17:29:30.000000000',\n",
       "          '2018-05-13T18:19:30.000000000', '2018-05-20T19:01:30.000000000',\n",
       "          '2018-06-03T21:21:30.000000000', '2018-06-11T00:16:30.000000000',\n",
       "          '2018-06-18T01:59:30.000000000', '2018-06-25T03:38:30.000000000',\n",
       "          '2018-07-02T05:18:30.000000000', '2018-07-09T07:01:30.000000000',\n",
       "          '2018-07-23T09:40:30.000000000', '2018-07-30T11:01:30.000000000',\n",
       "          '2018-08-06T12:42:30.000000000', '2018-08-13T13:38:30.000000000',\n",
       "          '2018-08-20T15:14:30.000000000', '2018-08-27T16:06:30.000000000',\n",
       "          '2018-09-03T18:02:30.000000000', '2018-09-10T18:03:30.000000000',\n",
       "          '2018-09-17T19:34:30.000000000', '2018-09-24T21:20:30.000000000',\n",
       "          '2018-10-05T11:28:30.000000000', '2018-10-12T12:41:30.000000000',\n",
       "          '2018-10-19T14:21:30.000000000', '2018-10-26T15:09:30.000000000',\n",
       "          '2018-11-09T18:05:30.000000000', '2018-11-16T18:35:30.000000000',\n",
       "          '2018-11-23T20:16:30.000000000', '2018-11-30T21:10:30.000000000',\n",
       "          '2018-12-15T00:37:30.000000000', '2018-12-23T03:51:30.000000000',\n",
       "          '2018-12-30T10:12:30.000000000', '2019-01-06T11:02:30.000000000',\n",
       "          '2019-01-13T11:57:30.000000000', '2019-01-20T13:23:30.000000000',\n",
       "          '2019-01-27T20:27:30.000000000', '2019-02-03T21:36:30.000000000',\n",
       "          '2019-02-10T22:55:30.000000000', '2019-02-25T20:19:30.000000000',\n",
       "          '2019-03-04T00:13:30.000000000', '2019-03-09T05:44:30.000000000',\n",
       "          '2019-03-14T10:52:30.000000000', '2019-03-19T16:35:30.000000000',\n",
       "          '2019-03-25T12:29:30.000000000', '2019-03-30T18:43:30.000000000',\n",
       "          '2019-04-05T00:37:30.000000000', '2019-04-10T06:31:30.000000000',\n",
       "          '2019-04-15T12:59:30.000000000', '2019-04-21T03:17:30.000000000',\n",
       "          '2019-05-01T19:37:30.000000000', '2019-05-07T01:43:30.000000000',\n",
       "          '2019-05-10T17:56:30.000000000', '2019-05-14T06:15:30.000000000',\n",
       "          '2019-05-17T19:07:30.000000000', '2019-05-21T15:46:30.000000000'],\n",
       "         dtype='datetime64[ns]'), y=array([214.28, 216.21, 146.97, 135.33, 133.41, 131.25, 182.83, 161.42,\n",
       "          189.82, 224.43, 158.37, 167.9 , 155.62, 158.04, 129.8 , 147.01,\n",
       "          132.28, 165.57, 108.12, 109.45,  98.41, 100.9 , 101.24, 113.25,\n",
       "          134.94, 117.78, 124.93, 150.02, 155.65, 151.46, 170.51, 127.23,\n",
       "          144.07, 151.83, 231.78, 125.58, 207.62, 218.94, 378.01, 125.79,\n",
       "          150.12, 134.77, 149.4 , 128.4 , 193.53, 145.93, 168.99, 185.52,\n",
       "          138.22, 140.49, 193.1 , 163.9 , 189.75, 131.78, 152.76, 148.28,\n",
       "          170.19, 119.5 , 122.78, 126.74, 130.93, 113.76, 122.09, 101.3 ,\n",
       "          109.52,  97.84,  93.86, 139.05, 125.1 , 101.37,  94.4 , 123.38,\n",
       "          130.17, 105.33, 141.55, 115.4 , 101.46, 147.71, 132.73,  94.17,\n",
       "          157.25, 109.65, 132.57, 109.1 , 127.82, 137.91, 123.8 , 136.95,\n",
       "          141.99, 266.15, 135.72, 285.53, 131.92, 172.62, 165.22, 155.69,\n",
       "          147.94, 168.15, 162.69, 156.28, 140.46, 133.62, 137.92, 140.93,\n",
       "          132.29, 139.  , 120.78, 124.54, 130.74,  93.98,  92.85,  95.28,\n",
       "          105.43,  90.67,  92.01,  82.87,  89.51,  97.75, 142.15, 190.56,\n",
       "          109.73,  91.37, 107.22,  87.51,  94.16, 115.12, 198.55, 174.84,\n",
       "          128.74, 138.86, 120.69, 130.8 , 177.5 , 214.81, 116.  , 102.35,\n",
       "          160.4 , 129.91, 147.16, 148.99, 131.03, 156.46, 199.  , 430.95,\n",
       "          334.28, 112.77, 202.7 , 271.97, 496.06, 188.18, 131.01, 137.08,\n",
       "          175.47, 138.79, 143.43, 179.52, 122.54, 134.97, 130.36, 140.79,\n",
       "          142.67, 120.48, 111.47, 125.87,  96.94,  80.88,  96.72, 101.68,\n",
       "          104.32,  94.71,  82.53, 107.94, 102.2 , 109.64, 123.17, 141.01,\n",
       "          208.55, 116.24, 122.41, 112.69,  92.88, 113.7 , 139.85, 115.76,\n",
       "          110.91,  98.31, 146.54, 132.55, 118.82, 150.71, 163.48, 113.79,\n",
       "          126.97, 118.84, 177.36, 161.73, 133.89, 205.73, 188.63, 132.94,\n",
       "          115.45, 120.47, 217.85, 130.56, 105.51, 118.12, 142.01, 200.61,\n",
       "          132.65, 135.2 , 137.45, 135.11, 144.08, 126.29, 143.47, 173.77,\n",
       "          178.4 , 131.68, 194.37, 120.72, 135.3 , 170.91, 126.01, 129.24,\n",
       "          123.62,  86.95,  78.05,  86.28, 177.8 ,  81.65, 115.56,  77.76,\n",
       "          110.02, 103.39, 103.89, 109.43, 138.83, 114.14, 124.48, 135.39,\n",
       "          132.18, 103.95, 136.09, 111.66, 118.31, 178.23, 317.74, 113.21,\n",
       "          195.8 , 113.28, 116.28, 148.4 , 121.11, 214.26, 135.43, 147.95,\n",
       "          127.85, 234.89, 127.07, 126.78, 125.91, 131.92, 144.74, 166.57,\n",
       "          140.13, 148.8 , 182.25, 161.89, 150.85, 124.65, 122.94, 123.69,\n",
       "          133.65, 118.47]))],\n",
       "  'scale_x': LinearScale(allow_padding=False, max=1.0, min=0.0),\n",
       "  'scale_y': LinearScale(allow_padding=False, max=1.0, min=0.0),\n",
       "  'title_style': {},\n",
       "  '_display_callbacks': <ipywidgets.widgets.widget.CallbackDispatcher at 0x7f0bc1ebe470>,\n",
       "  '_property_lock': {}},\n",
       " '_trait_notifiers': {'comm': {'change': [<traitlets.traitlets.ObserveHandler at 0x7f0bfc4d5ac8>]}},\n",
       " '_trait_validators': {'min_aspect_ratio': <traitlets.traitlets.ValidateHandler at 0x7f0bc22f5f28>,\n",
       "  'max_aspect_ratio': <traitlets.traitlets.ValidateHandler at 0x7f0bc22f5f28>},\n",
       " '_cross_validation_lock': False,\n",
       " '_model_id': '2b34c9ce6b5f413485aa52e4a3967ee9',\n",
       " 'axis_registry': {}}"
      ]
     },
     "execution_count": null,
     "metadata": {},
     "output_type": "execute_result"
    }
   ],
   "source": [
    "fig.__dict__"
   ]
  },
  {
   "cell_type": "code",
   "execution_count": null,
   "metadata": {},
   "outputs": [
    {
     "data": {
      "text/plain": [
       "750"
      ]
     },
     "execution_count": null,
     "metadata": {},
     "output_type": "execute_result"
    }
   ],
   "source": [
    "fig.animation_duration"
   ]
  },
  {
   "cell_type": "code",
   "execution_count": null,
   "metadata": {},
   "outputs": [
    {
     "name": "stdout",
     "output_type": "stream",
     "text": [
      "<traitlets.traitlets.List object at 0x7f7e5406a0b8>\n"
     ]
    }
   ],
   "source": [
    "from bqplot.scales import ColorScale\n",
    "print(ColorScale.colors)"
   ]
  },
  {
   "cell_type": "code",
   "execution_count": null,
   "metadata": {},
   "outputs": [],
   "source": [
    "plot_checkboxes"
   ]
  },
  {
   "cell_type": "markdown",
   "metadata": {},
   "source": [
    "Now we can plot some of the data"
   ]
  },
  {
   "cell_type": "code",
   "execution_count": null,
   "metadata": {},
   "outputs": [],
   "source": [
    "import pandas as pd\n",
    "# co2_data = pd.read_json(data[\"results\"][\"bsd_co2\"])\n",
    "co_data = pd.read_json(data[\"results\"][\"bsd_ch4\"])\n"
   ]
  },
  {
   "cell_type": "code",
   "execution_count": null,
   "metadata": {},
   "outputs": [],
   "source": [
    "co_data.head(10)"
   ]
  },
  {
   "cell_type": "code",
   "execution_count": null,
   "metadata": {},
   "outputs": [],
   "source": [
    "%matplotlib notebook\n",
    "import matplotlib.pyplot as plt\n",
    "from pandas.plotting import register_matplotlib_converters\n",
    "register_matplotlib_converters()\n",
    "\n",
    "fig = plt.figure()\n",
    "# ax = fig.add_subplot(211)\n",
    "# ax.plot(co2_data.index.values, co2_data[\"co2 count\"], color = \"#4e79a7\" )\n",
    "ax = fig.add_subplot(111)\n",
    "ax.plot(co_data.index.values, co_data[\"ch4 count\"], color = \"#59a14f\")\n",
    "\n",
    "plt.show()"
   ]
  },
  {
   "cell_type": "code",
   "execution_count": null,
   "metadata": {},
   "outputs": [],
   "source": [
    "# Checkboxes for selecting which data we want to plot\n",
    "# Select the gas, it goes and plots the \n",
    "# Simple line plot"
   ]
  },
  {
   "cell_type": "code",
   "execution_count": null,
   "metadata": {},
   "outputs": [],
   "source": [
    "from ipyleaflet import (\n",
    "    Map,\n",
    "    Marker, MarkerCluster, TileLayer, ImageOverlay, GeoJSON,\n",
    "    Polyline, Polygon, Rectangle, Circle, CircleMarker, Popup,\n",
    "    SplitMapControl, WidgetControl,\n",
    "    basemaps, basemap_to_tiles\n",
    ")\n",
    "\n",
    "from ipywidgets import HTML"
   ]
  },
  {
   "cell_type": "code",
   "execution_count": null,
   "metadata": {},
   "outputs": [],
   "source": [
    "center = [54.2361, -4.548]\n",
    "zoom = 5\n",
    "m = Map(center=center, zoom=zoom)\n",
    "mark_bsd = Marker(location=(54.942544, -1.369204))\n",
    "mark_bsd.popup = HTML(value=\"Bilsdale\")\n",
    "\n",
    "mark_mhd = Marker(location=(53.20,-9.54))\n",
    "mark_mhd.popup = HTML(value=\"Macehead\")\n",
    "\n",
    "mark_tac = Marker(location=(52.511, 1.155003))\n",
    "mark_tac.popup = HTML(value=\"Tacolneston\")\n",
    "\n",
    "m += mark_bsd\n",
    "m += mark_mhd\n",
    "m += mark_tac\n",
    "\n",
    "display(m)"
   ]
  },
  {
   "cell_type": "code",
   "execution_count": null,
   "metadata": {},
   "outputs": [],
   "source": [
    "m"
   ]
  },
  {
   "cell_type": "code",
   "execution_count": null,
   "metadata": {},
   "outputs": [],
   "source": []
  }
 ],
 "metadata": {
  "kernelspec": {
   "display_name": "Python 3",
   "language": "python",
   "name": "python3"
  }
 },
 "nbformat": 4,
 "nbformat_minor": 2
}
