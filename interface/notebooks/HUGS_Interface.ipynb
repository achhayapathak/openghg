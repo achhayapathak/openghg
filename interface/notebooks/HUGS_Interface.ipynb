{
 "cells": [
  {
   "cell_type": "code",
   "execution_count": null,
   "metadata": {},
   "outputs": [],
   "source": [
    "import os\n",
    "import sys\n",
    "sys.path.insert(0, \"../..\")\n",
    "sys.path.insert(0, \"../../../acquire\")\n",
    "import ipywidgets as widgets\n",
    "\n",
    "from ipywidgets import VBox, HBox, HTML, Text, Button, Output, Checkbox, Label\n",
    "from HUGS.Processing import search\n",
    "from Acquire.Client import User, Drive, Service, PAR, Authorisation, StorageCreds\n",
    "\n",
    "from bqplot import pyplot as plt\n",
    "from bqplot import DateScale, LinearScale, Axis, Lines, Figure\n",
    "from random import randint    \n",
    "from numpy import random as np_random\n",
    "import numpy as np"
   ]
  },
  {
   "cell_type": "code",
   "execution_count": null,
   "metadata": {},
   "outputs": [],
   "source": [
    "# Autoreload modules before executing code, useful during development\n",
    "%load_ext autoreload\n",
    "%autoreload 2"
   ]
  },
  {
   "cell_type": "markdown",
   "metadata": {},
   "source": [
    "## Start with uploading and processing of the data"
   ]
  },
  {
   "cell_type": "code",
   "execution_count": null,
   "metadata": {},
   "outputs": [],
   "source": [
    "base_url = \"https://hugs.acquire-aaai.com/t\"\n",
    "hugs_url = \"https://hugs.acquire-aaai.com\""
   ]
  },
  {
   "cell_type": "code",
   "execution_count": null,
   "metadata": {},
   "outputs": [],
   "source": [
    "# These layouts are used throughout the notebook for consistent sizing of objects\n",
    "table_style = {'description_width': 'initial'}\n",
    "table_layout = {'width':'100px', 'min_width':'100px', 'height':'28px', 'min_height':'28px'}\n",
    "date_layout = {'width':'275px', 'min_width':'200px', 'height':'28px', 'min_height':'28px'}\n",
    "checkbox_layout = {'width':'100px', 'min_width':'100px', 'height':'28px', 'min_height':'28px'}\n",
    "statusbar_layout = {'width':'250px', 'min_width':'250px', 'height':'28px', 'min_height':'28px'}"
   ]
  },
  {
   "cell_type": "code",
   "execution_count": null,
   "metadata": {},
   "outputs": [
    {
     "data": {
      "application/vnd.jupyter.widget-view+json": {
       "model_id": "27e66062c074462180a82b3ec8581006",
       "version_major": 2,
       "version_minor": 0
      },
      "text/plain": [
       "VBox(children=(HTML(value='<b>Please enter your username to be taken to a login page</b>'), Text(value='', des…"
      ]
     },
     "metadata": {},
     "output_type": "display_data"
    }
   ],
   "source": [
    "login_text = HTML(value=\"<b>Please enter your username to be taken to a login page</b>\")\n",
    "username_text = Text(value=None, placeholder=\"user\", description=\"Username: \")\n",
    "login_button = Button(description=\"Login\", button_style=\"success\")\n",
    "status_text = HTML(value=\"\")\n",
    "login_link_box = Output()\n",
    "\n",
    "user = None\n",
    "def login(a):\n",
    "    global user\n",
    "    base_url = \"https://hugs.acquire-aaai.com/t\"\n",
    "    if username_text.value:\n",
    "        status_text.value = f\"<font color='blue'>Please wait for login link...</font>\"\n",
    "        user = User(username=username_text.value, identity_url=F\"{base_url}/identity\")\n",
    "        with login_link_box:\n",
    "            response = user.request_login()\n",
    "                \n",
    "        if user.wait_for_login():\n",
    "            status_text.value = f\"<font color='green'>Success</font>\"\n",
    "        else:\n",
    "            status_text.value = f\"<font color='red'>Failure</font>\"\n",
    "            \n",
    "        \n",
    "login_button.on_click(login)\n",
    "    \n",
    "user_box = VBox(children=[login_text, username_text, login_button, status_text, login_link_box])\n",
    "user_box"
   ]
  },
  {
   "cell_type": "markdown",
   "metadata": {},
   "source": [
    "Check we're logged in"
   ]
  },
  {
   "cell_type": "code",
   "execution_count": null,
   "metadata": {},
   "outputs": [],
   "source": [
    "def get_CRDS_path(filename):\n",
    "    dir_path = os.path.abspath(\"\")\n",
    "    test_data = \"../../test/data/proc_test_data/CRDS\"\n",
    "    return os.path.join(dir_path, test_data, filename)"
   ]
  },
  {
   "cell_type": "markdown",
   "metadata": {},
   "source": [
    "### Upload files for processing\n"
   ]
  },
  {
   "cell_type": "markdown",
   "metadata": {},
   "source": [
    "Clear the Datasources from CRDS and GC objects (currently Datasource UUIDs are just being randomly generated and we get multiple Datasources holding the same data)"
   ]
  },
  {
   "cell_type": "code",
   "execution_count": null,
   "metadata": {},
   "outputs": [],
   "source": [
    "hugs = Service(service_url=\"%s/hugs\" % base_url)\n",
    "_ = hugs.call_function(function=\"clear_datasources\", args={})"
   ]
  },
  {
   "cell_type": "code",
   "execution_count": null,
   "metadata": {},
   "outputs": [
    {
     "data": {
      "application/vnd.jupyter.widget-view+json": {
       "model_id": "8aed3eecec554ac387cd02f2a32b7ce5",
       "version_major": 2,
       "version_minor": 0
      },
      "text/plain": [
       "VBox(children=(HTML(value='Please click the buttons below to upload data to the object store.'), Button(button…"
      ]
     },
     "metadata": {},
     "output_type": "display_data"
    }
   ],
   "source": [
    "def upload_bsd(arg):\n",
    "    from HUGS.Client import Process\n",
    "    \n",
    "    filename = \"bsd.picarro.1minute.248m.dat\"\n",
    "    filepath = get_CRDS_path(filename)\n",
    "    processing = Process(service_url=base_url)\n",
    "    with output_box:\n",
    "        print(F\"Uploading {filename}\")\n",
    "    result = processing.process_files(user=user, files=filepath, data_type=\"CRDS\")\n",
    "    \n",
    "    with output_box:\n",
    "        print(result)\n",
    "    \n",
    "def upload_hfd(arg):\n",
    "    from HUGS.Client import Process\n",
    "    \n",
    "    filename = \"hfd.picarro.1minute.100m_min.dat\"\n",
    "    filepath = get_CRDS_path(filename)\n",
    "    processing = Process(service_url=base_url)\n",
    "    with output_box:\n",
    "        print(F\"Uploading {filename}\")\n",
    "    result = processing.process_files(user=user, files=filepath, data_type=\"CRDS\")\n",
    "    \n",
    "    with output_box:\n",
    "        print(result)\n",
    "\n",
    "bsd_button = Button(description=\"Upload BSD\", button_style=\"info\")\n",
    "hfd_button = Button(description=\"Upload HFD\", button_style=\"info\")\n",
    "output_box = Output()\n",
    "\n",
    "bsd_button.on_click(upload_bsd)\n",
    "hfd_button.on_click(upload_hfd)\n",
    "\n",
    "instructions = HTML(value=f\"Please click the buttons below to upload data to the object store.\")\n",
    "\n",
    "upload_box = VBox(children=[instructions, bsd_button, hfd_button, output_box])\n",
    "upload_box"
   ]
  },
  {
   "cell_type": "markdown",
   "metadata": {},
   "source": [
    "Upload some Heathfield data"
   ]
  },
  {
   "cell_type": "code",
   "execution_count": null,
   "metadata": {},
   "outputs": [
    {
     "data": {
      "application/vnd.jupyter.widget-view+json": {
       "model_id": "f7a2b11833474461abb729f47127eacf",
       "version_major": 2,
       "version_minor": 0
      },
      "text/plain": [
       "VBox(children=(Text(value='', description='Search terms:', placeholder='Search'), Text(value='', description='…"
      ]
     },
     "metadata": {},
     "output_type": "display_data"
    }
   ],
   "source": [
    "from HUGS.Processing import search\n",
    "\n",
    "search_results = None\n",
    "\n",
    "search_terms = widgets.Text(value=\"\", placeholder = \"Search\", description = \"Search terms:\", disabled = False)\n",
    "locations = widgets.Text(value=\"\", placeholder = \"BSD, HFD\", description = \"Locations:\", disabled = False)\n",
    "data_type = widgets.Dropdown(options=[\"CRDS\", \"GC\"], value=\"CRDS\", description=\"Data type\", disabled=False)\n",
    "\n",
    "layout=widgets.Layout(display = \"flex\", width = \"50%\")\n",
    "search_button = widgets.Button(description=\"Search\", button_style=\"success\", \\\n",
    "                               layout=widgets.Layout(flex='1 1 0%', width='25%'))\n",
    "\n",
    "start_picker = widgets.DatePicker(description='Start date',disabled=False)\n",
    "end_picker = widgets.DatePicker(description='End date',disabled=False)\n",
    "\n",
    "status_box = widgets.HTML(value=\"\")\n",
    "\n",
    "box = widgets.VBox(children=[search_terms, locations, start_picker, end_picker, data_type,\n",
    "                                 search_button, status_box], layout=layout)\n",
    "\n",
    "\n",
    "def parse_results(results):\n",
    "    \"\"\" Split the keys into a list of each key and the date that the data covers\n",
    "        \n",
    "        Args:\n",
    "            results (dict): Dictionary of search results\n",
    "        Returns:\n",
    "            list (tuple): List of date, data key list pairs\n",
    "    \"\"\"\n",
    "    date_keys = {}\n",
    "    for key in results.keys():\n",
    "        keys = sorted(results[key])\n",
    "        start_key = keys[0]\n",
    "        end_key = keys[-1]\n",
    "        # Get the first and last dates from the keys in the search results\n",
    "        start_date = start_key.split(\"/\")[-1].split(\"_\")[0]\n",
    "        end_date = end_key.split(\"/\")[-1].split(\"_\")[-1]\n",
    "        \n",
    "        dates_covered = start_date + \"_\" + end_date\n",
    "        \n",
    "        date_keys[key] = {\"dates\": dates_covered, \"keys\": keys}\n",
    "        \n",
    "    return date_keys\n",
    "\n",
    "date_keys = None\n",
    "def call_search(x):\n",
    "    \"\"\" Call the search function and pass it the values \n",
    "        in the text boxes\n",
    "            \n",
    "    \"\"\"\n",
    "    from datetime import datetime\n",
    "    from Acquire.ObjectStore import datetime_to_string\n",
    "    from HUGS.Client import Search\n",
    "    start = datetime(1970, 1,1) # datetime.combine(start_picker.value, datetime.min.time())\n",
    "    end = datetime.now() # datetime.combine(end_picker.value, datetime.min.time())\n",
    "    \n",
    "    split_search_terms = search_terms.value.replace(\" \", \"\").split(\",\")\n",
    "    split_locations = locations.value.replace(\" \", \"\").split(\",\")\n",
    "    \n",
    "    global search_results\n",
    "    global date_keys\n",
    "    \n",
    "    search = Search(service_url=base_url)\n",
    "    search_results = search.search(search_terms=split_search_terms, locations=split_locations, data_type=data_type.value, start_datetime=start, end_datetime=end)\n",
    "    \n",
    "    if len(search_results) > 0:\n",
    "        date_keys = parse_results(search_results)\n",
    "        status_box.value = f\"<font color='green'>Success</font>\"\n",
    "        # Now we have search results we can select the ones we want to download\n",
    "        create_download_box()\n",
    "    else:\n",
    "        status_box.value = f\"<font color='red'>No results</font>\"        \n",
    "    \n",
    "search_button.on_click(call_search)\n",
    "\n",
    "box\n",
    "\n"
   ]
  },
  {
   "cell_type": "markdown",
   "metadata": {},
   "source": [
    "Now take the result dictionary, parse the dictionary into a blocks that can be selected by the user"
   ]
  },
  {
   "cell_type": "markdown",
   "metadata": {},
   "source": [
    "Get this to only be drawn after the "
   ]
  },
  {
   "cell_type": "code",
   "execution_count": null,
   "metadata": {},
   "outputs": [],
   "source": [
    "    \n",
    "def create_download_box():\n",
    "    \"\"\" Creates the plotting box that holds the plotting buttons and windows\n",
    "    \n",
    "    \"\"\"\n",
    "    \n",
    "\n",
    "    \n",
    "\n",
    "    header_label_site = HTML(value=f\"<b>Site</b>\", layout=table_layout)\n",
    "    header_label_gas = HTML(value=f\"<b>Gas</b>\", layout=table_layout)\n",
    "    header_label_dates = HTML(value=f\"<b>Dates</b>\", layout=date_layout)\n",
    "    header_label_select = HTML(value=f\"<b>Select</b>\", layout=checkbox_layout)\n",
    "\n",
    "    checkbox_objects = []\n",
    "    search_keys = []\n",
    "\n",
    "    site_labels = []\n",
    "    date_labels = []\n",
    "    gas_labels = []\n",
    "    for key in date_keys:\n",
    "        # Create the checkboxes\n",
    "        checkbox = Checkbox(value=False)\n",
    "        checkbox_objects.append(checkbox)\n",
    "        search_keys.append(key)\n",
    "\n",
    "        dates = date_keys[key][\"dates\"].replace(\"_\", \" to \").replace(\"T\", \" \")\n",
    "        date_label = Label(value=dates, layout=date_layout)\n",
    "\n",
    "        split_key = key.split(\"_\")\n",
    "        site_name = split_key[0].upper()\n",
    "        gas_name = split_key[1].upper()\n",
    "\n",
    "        gas_label = Label(value=gas_name, layout=table_layout)\n",
    "        site_label = Label(value=site_name, layout=table_layout)\n",
    "\n",
    "        date_labels.append(date_label)\n",
    "        site_labels.append(site_label)\n",
    "        gas_labels.append(gas_label)\n",
    "\n",
    "\n",
    "    arg_dict = {search_keys[i]: checkbox for i, checkbox in enumerate(checkbox_objects)}\n",
    "\n",
    "    header_box = HBox(children=[header_label_site, header_label_gas, header_label_dates, header_label_select])\n",
    "\n",
    "    site_vbox = VBox(children=site_labels)\n",
    "    gas_vbox = VBox(children=gas_labels)\n",
    "    dates_vbox = VBox(children=date_labels)\n",
    "    checkbox_vbox = VBox(children=checkbox_objects)\n",
    "\n",
    "    dynamic_box = HBox(children=[site_vbox, gas_vbox, dates_vbox, checkbox_vbox])\n",
    "\n",
    "    download_button = Button(description=\"Download\", button_style=\"success\", layout=table_layout)\n",
    "    download_box = HBox(children=[download_button])\n",
    "\n",
    "    status_bar = HTML(value=\"Status: Waiting...\", layout=statusbar_layout)\n",
    "\n",
    "    complete = VBox(children=[header_box, dynamic_box, download_box, status_bar])\n",
    "\n",
    "    selected_data = []\n",
    "    def select_data(**kwargs):\n",
    "        selected_data.clear()\n",
    "\n",
    "        for key in kwargs:\n",
    "            if kwargs[key] is True:\n",
    "                selected_data.append(key)\n",
    "\n",
    "    def update_statusbar(text):\n",
    "        status_bar.value = F\"Status: {text}\"\n",
    "\n",
    "    data = None\n",
    "    def download_data(args):\n",
    "        \"\"\" Download the data in the selected keys from the object store\n",
    "\n",
    "            Args:\n",
    "                ?\n",
    "            Returns:\n",
    "                Pandas.Dataframe of selected data\n",
    "        \"\"\"\n",
    "        from HUGS.Client import Retrieve\n",
    "        from pandas import read_json as pd_read_json\n",
    "\n",
    "        update_statusbar(\"Downloading...\")\n",
    "\n",
    "        download_keys = {key: date_keys[key][\"keys\"] for key in selected_data}\n",
    "\n",
    "        retrieve = Retrieve(service_url=base_url)\n",
    "\n",
    "        global data\n",
    "        data = retrieve.retrieve(keys=download_keys)\n",
    "\n",
    "        # Conver the JSON into Dataframes\n",
    "        for key in data:\n",
    "            data[key] = pd_read_json(data[key])\n",
    "\n",
    "        # Update the status bar\n",
    "        if len(data) > 0:\n",
    "            update_statusbar(\"Download complete\")\n",
    "        else:\n",
    "            update_statusbar(\"No data downloaded\")\n",
    "\n",
    "    download_button.on_click(download_data)\n",
    "    out = widgets.interactive_output(select_data, arg_dict)\n",
    "\n",
    "    display(complete, out)"
   ]
  },
  {
   "cell_type": "code",
   "execution_count": null,
   "metadata": {},
   "outputs": [],
   "source": [
    "# plot_button = Button(description=\"Open plotting window\", button_style=\"info\", disabled=False)\n",
    "# plot_button.on_click(create_plotting_box)\n",
    "# plot_button_box = VBox(children=[plot_button])\n",
    "\n",
    "# plot_button_box"
   ]
  },
  {
   "cell_type": "markdown",
   "metadata": {},
   "source": [
    "Plot the data we've selected"
   ]
  },
  {
   "cell_type": "markdown",
   "metadata": {},
   "source": [
    "Select the data from the downloaded data using the checkboxes and then click plot to update the figure"
   ]
  },
  {
   "cell_type": "code",
   "execution_count": null,
   "metadata": {},
   "outputs": [
    {
     "data": {
      "application/vnd.jupyter.widget-view+json": {
       "model_id": "18421beaefc84df7a5f70b19b33289e6",
       "version_major": 2,
       "version_minor": 0
      },
      "text/plain": [
       "VBox(children=(HBox(children=(HBox(children=(HTML(value='<b>Select data: </b>', layout=Layout(height='28px', m…"
      ]
     },
     "metadata": {},
     "output_type": "display_data"
    },
    {
     "data": {
      "application/vnd.jupyter.widget-view+json": {
       "model_id": "35da0f7be6fd42818dc3b410bc5cca1e",
       "version_major": 2,
       "version_minor": 0
      },
      "text/plain": [
       "Output()"
      ]
     },
     "metadata": {},
     "output_type": "display_data"
    },
    {
     "data": {
      "application/vnd.jupyter.widget-view+json": {
       "model_id": "cab42d2d9a7747648c64122917b6ee58",
       "version_major": 2,
       "version_minor": 0
      },
      "text/plain": [
       "VBox(children=(Figure(animation_duration=1000, axes=[Axis(label='Date', scale=DateScale()), Axis(label='Count'…"
      ]
     },
     "metadata": {},
     "output_type": "display_data"
    },
    {
     "name": "stdout",
     "output_type": "stream",
     "text": [
      "<class 'numpy.ndarray'>\n",
      "<class 'numpy.ndarray'>\n",
      "<class 'numpy.ndarray'>\n"
     ]
    },
    {
     "ename": "IndexError",
     "evalue": "list index out of range",
     "output_type": "error",
     "traceback": [
      "\u001b[0;31m---------------------------------------------------------------------------\u001b[0m",
      "\u001b[0;31mIndexError\u001b[0m                                Traceback (most recent call last)",
      "\u001b[0;32m<ipython-input-20-9299e647cb12>\u001b[0m in \u001b[0;36mplot_data\u001b[0;34m(arg)\u001b[0m\n\u001b[1;32m     58\u001b[0m \u001b[0;31m#     lines.x = plot_data[0].index.values\u001b[0m\u001b[0;34m\u001b[0m\u001b[0;34m\u001b[0m\u001b[0;34m\u001b[0m\u001b[0m\n\u001b[1;32m     59\u001b[0m \u001b[0;31m#     fig.marks = [Lines(x=d.index.values, y=d.iloc[:,0], scales=scales, colors=['#%02X%02X%02X' % (r(),r(),r())]) for d in plot_data]\u001b[0m\u001b[0;34m\u001b[0m\u001b[0;34m\u001b[0m\u001b[0;34m\u001b[0m\u001b[0m\n\u001b[0;32m---> 60\u001b[0;31m     \u001b[0mprint\u001b[0m\u001b[0;34m(\u001b[0m\u001b[0mtype\u001b[0m\u001b[0;34m(\u001b[0m\u001b[0mplot_data\u001b[0m\u001b[0;34m[\u001b[0m\u001b[0;36m0\u001b[0m\u001b[0;34m]\u001b[0m\u001b[0;34m.\u001b[0m\u001b[0mindex\u001b[0m\u001b[0;34m.\u001b[0m\u001b[0mvalues\u001b[0m\u001b[0;34m)\u001b[0m\u001b[0;34m)\u001b[0m\u001b[0;34m\u001b[0m\u001b[0;34m\u001b[0m\u001b[0m\n\u001b[0m\u001b[1;32m     61\u001b[0m \u001b[0;34m\u001b[0m\u001b[0m\n\u001b[1;32m     62\u001b[0m     \u001b[0mlines\u001b[0m\u001b[0;34m.\u001b[0m\u001b[0mx\u001b[0m \u001b[0;34m=\u001b[0m \u001b[0;34m[\u001b[0m\u001b[0md\u001b[0m\u001b[0;34m.\u001b[0m\u001b[0mindex\u001b[0m\u001b[0;34m.\u001b[0m\u001b[0mvalues\u001b[0m\u001b[0;34m.\u001b[0m\u001b[0mtolist\u001b[0m\u001b[0;34m(\u001b[0m\u001b[0;34m)\u001b[0m \u001b[0;32mfor\u001b[0m \u001b[0md\u001b[0m \u001b[0;32min\u001b[0m \u001b[0mplot_data\u001b[0m\u001b[0;34m]\u001b[0m\u001b[0;34m\u001b[0m\u001b[0;34m\u001b[0m\u001b[0m\n",
      "\u001b[0;31mIndexError\u001b[0m: list index out of range"
     ]
    },
    {
     "name": "stdout",
     "output_type": "stream",
     "text": [
      "<class 'numpy.ndarray'>\n",
      "<class 'numpy.ndarray'>\n"
     ]
    }
   ],
   "source": [
    "# Create some checkboxes\n",
    "plot_checkboxes = []\n",
    "plot_keys = [] \n",
    "\n",
    "for key in data:\n",
    "    # Create a more readable description\n",
    "    desc = \" \".join(key.split(\"_\")).upper()\n",
    "    plot_keys.append(key)\n",
    "    plot_checkboxes.append(Checkbox(description=desc, value=False))\n",
    "    \n",
    "select_instruction = HTML(value=\"<b>Select data: </b>\", layout=table_layout)\n",
    "plot_button = Button(description=\"Plot\", button_style=\"success\", layout=table_layout)\n",
    "\n",
    "select_box = HBox(children=[select_instruction])\n",
    "checkbox_box = VBox(children=plot_checkboxes)\n",
    "horiz_select = HBox(children=[select_box, checkbox_box])\n",
    "plot_box = HBox(children=[plot_button])\n",
    "ui_box = VBox(children=[horiz_select, plot_box])\n",
    "\n",
    "arg_dict = {plot_keys[i]: checkbox for i, checkbox in enumerate(plot_checkboxes)}\n",
    "\n",
    "selected_data = []\n",
    "def select_data(**kwargs):\n",
    "    selected_data.clear()\n",
    "    \n",
    "    for key in kwargs:\n",
    "        if kwargs[key] is True:\n",
    "            selected_data.append(key)\n",
    "    \n",
    "    print(selected_data)\n",
    "    \n",
    "# Link the checkbox selection with the selected dataframes to plot\n",
    "out = widgets.interactive_output(select_data, arg_dict)\n",
    "\n",
    "output = widgets.Output()\n",
    "\n",
    "def plot_data(arg):\n",
    "    \"\"\" Each key in the data dict is a dataframe\n",
    "    \n",
    "    \"\"\"\n",
    "    # Here take the keys in the selected data list and use them to\n",
    "    # access the Dataframes to plot\n",
    "    # Use the same axes. Can have a button to create new plots etc in the future\n",
    "    \n",
    "    # TODO - change this to take the data directly from the dict?\n",
    "    plot_data = [data[x] for x in selected_data]\n",
    "    \n",
    "    # For now just plot the first column in the data\n",
    "        \n",
    "     # Setup the axes    \n",
    "    \n",
    "    x_scale = DateScale()\n",
    "    y_scale = LinearScale()\n",
    "    scales = {\"x\": x_scale, \"y\": y_scale}\n",
    "    \n",
    "    r = lambda: randint(0,255)\n",
    "#     lines = [Lines(x=d.index.values, y=d.iloc[:,0], scales=scales, colors=['#%02X%02X%02X' % (r(),r(),r())]) for d in plot_data]\n",
    "#     lines.x = plot_data[0].index.values\n",
    "#     fig.marks = [Lines(x=d.index.values, y=d.iloc[:,0], scales=scales, colors=['#%02X%02X%02X' % (r(),r(),r())]) for d in plot_data]\n",
    "    print(type(plot_data[0].index.values))\n",
    "    \n",
    "    lines.x = [d.index.values.tolist() for d in plot_data]    \n",
    "    lines.y = [d.iloc[:,0] for d in plot_data]\n",
    "    \n",
    "#     print(plot_data[0].index.values.tolist())\n",
    "    \n",
    "#     print(type(plot_data[0].first_valid_index()))\n",
    "    \n",
    "#     print(lines.x)\n",
    "    \n",
    "    \n",
    "#     lines.x = np.arange(100)\n",
    "#     lines.y = np.cumsum(np.random.randn(2, 100), axis=1)\n",
    "#     lines.x = [Lines(x=d.index.values, y=d.iloc[:,0], scales=scales, colors=['#%02X%02X%02X' % (r(),r(),r())]) for d in plot_data]\n",
    "    \n",
    "    \n",
    "x_scale = DateScale()\n",
    "y_scale = LinearScale()\n",
    "scales = {\"x\": x_scale, \"y\": y_scale}\n",
    "\n",
    "ax = Axis(label=\"Date\", scale=x_scale)\n",
    "# TODO - this could be updated depending on what's being plot\n",
    "ay = Axis(label=\"Count\", scale=y_scale, orientation=\"vertical\")\n",
    "\n",
    "lines = Lines(x=np.arange(100), y=np.cumsum(np.random.randn(2, 100), axis=1), scales=scales)\n",
    "fig = Figure(marks=[lines], axes=[ax, ay], animation_duration=1000)\n",
    "    \n",
    "plot_button.on_click(plot_data)\n",
    "\n",
    "# plot_button.on_click(lambda btn: plot_data())\n",
    "\n",
    "display(ui_box, out)\n",
    "\n",
    "VBox([fig])"
   ]
  },
  {
   "cell_type": "code",
   "execution_count": null,
   "metadata": {},
   "outputs": [],
   "source": [
    "# fig.animation_duration"
   ]
  },
  {
   "cell_type": "code",
   "execution_count": null,
   "metadata": {},
   "outputs": [],
   "source": [
    "    # from bqplot.scales import ColorScale\n",
    "    # print(ColorScale.colors)"
   ]
  },
  {
   "cell_type": "code",
   "execution_count": null,
   "metadata": {},
   "outputs": [],
   "source": [
    "# plot_checkboxes"
   ]
  },
  {
   "cell_type": "markdown",
   "metadata": {},
   "source": [
    "Now we can plot some of the data"
   ]
  },
  {
   "cell_type": "code",
   "execution_count": null,
   "metadata": {},
   "outputs": [],
   "source": [
    "# import pandas as pd\n",
    "# # co2_data = pd.read_json(data[\"results\"][\"bsd_co2\"])\n",
    "# co_data = pd.read_json(data[\"results\"][\"bsd_ch4\"])\n"
   ]
  },
  {
   "cell_type": "code",
   "execution_count": null,
   "metadata": {},
   "outputs": [],
   "source": [
    "# co_data.head(10)"
   ]
  },
  {
   "cell_type": "code",
   "execution_count": null,
   "metadata": {},
   "outputs": [],
   "source": [
    "# %matplotlib notebook\n",
    "# import matplotlib.pyplot as plt\n",
    "# from pandas.plotting import register_matplotlib_converters\n",
    "# register_matplotlib_converters()\n",
    "\n",
    "# fig = plt.figure()\n",
    "# # ax = fig.add_subplot(211)\n",
    "# # ax.plot(co2_data.index.values, co2_data[\"co2 count\"], color = \"#4e79a7\" )\n",
    "# ax = fig.add_subplot(111)\n",
    "# ax.plot(co_data.index.values, co_data[\"ch4 count\"], color = \"#59a14f\")\n",
    "\n",
    "# plt.show()"
   ]
  },
  {
   "cell_type": "code",
   "execution_count": null,
   "metadata": {},
   "outputs": [],
   "source": [
    "# Checkboxes for selecting which data we want to plot\n",
    "# Select the gas, it goes and plots the \n",
    "# Simple line plot"
   ]
  },
  {
   "cell_type": "code",
   "execution_count": null,
   "metadata": {},
   "outputs": [],
   "source": [
    "# from ipyleaflet import (\n",
    "#     Map,\n",
    "#     Marker, MarkerCluster, TileLayer, ImageOverlay, GeoJSON,\n",
    "#     Polyline, Polygon, Rectangle, Circle, CircleMarker, Popup,\n",
    "#     SplitMapControl, WidgetControl,\n",
    "#     basemaps, basemap_to_tiles\n",
    "# )\n",
    "\n",
    "# from ipywidgets import HTML"
   ]
  },
  {
   "cell_type": "code",
   "execution_count": null,
   "metadata": {},
   "outputs": [],
   "source": [
    "# center = [54.2361, -4.548]\n",
    "# zoom = 5\n",
    "# m = Map(center=center, zoom=zoom)\n",
    "# mark_bsd = Marker(location=(54.942544, -1.369204))\n",
    "# mark_bsd.popup = HTML(value=\"Bilsdale\")\n",
    "\n",
    "# mark_mhd = Marker(location=(53.20,-9.54))\n",
    "# mark_mhd.popup = HTML(value=\"Macehead\")\n",
    "\n",
    "# mark_tac = Marker(location=(52.511, 1.155003))\n",
    "# mark_tac.popup = HTML(value=\"Tacolneston\")\n",
    "\n",
    "# m += mark_bsd\n",
    "# m += mark_mhd\n",
    "# m += mark_tac\n",
    "\n",
    "# display(m)"
   ]
  },
  {
   "cell_type": "code",
   "execution_count": null,
   "metadata": {},
   "outputs": [],
   "source": [
    "# m"
   ]
  },
  {
   "cell_type": "code",
   "execution_count": null,
   "metadata": {},
   "outputs": [],
   "source": []
  }
 ],
 "metadata": {
  "kernelspec": {
   "display_name": "Python 3",
   "language": "python",
   "name": "python3"
  }
 },
 "nbformat": 4,
 "nbformat_minor": 2
}
