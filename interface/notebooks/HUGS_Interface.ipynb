{
 "cells": [
  {
   "cell_type": "code",
   "execution_count": null,
   "metadata": {},
   "outputs": [],
   "source": [
    "import os\n",
    "import sys\n",
    "sys.path.insert(0, \"../..\")\n",
    "sys.path.insert(0, \"../../../acquire\")\n",
    "import ipywidgets as widgets\n",
    "\n",
    "from HUGS.Processing import search\n",
    "\n",
    "from Acquire.Client import User, Drive, Service, PAR, Authorisation, StorageCreds"
   ]
  },
  {
   "cell_type": "markdown",
   "metadata": {},
   "source": [
    "## Start with uploading and processing of the data"
   ]
  },
  {
   "cell_type": "code",
   "execution_count": null,
   "metadata": {},
   "outputs": [
    {
     "name": "stdout",
     "output_type": "stream",
     "text": [
      "Login by visiting: https://login.acquire-aaai.com?id=a0-a6/84.c7.0b.aa\n",
      "(please check that this page displays the message 'small cows walk happily')\n"
     ]
    }
   ],
   "source": [
    "base_url = \"https://hugs.acquire-aaai.com/t\"\n",
    "hugs_url = \"https://hugs.acquire-aaai.com\"\n",
    "user = User(username=\"gareth\", identity_url=\"%s/identity\" % base_url)\n",
    "response = user.request_login()"
   ]
  },
  {
   "cell_type": "markdown",
   "metadata": {},
   "source": [
    "Check we're logged in"
   ]
  },
  {
   "cell_type": "code",
   "execution_count": null,
   "metadata": {},
   "outputs": [
    {
     "data": {
      "text/plain": [
       "True"
      ]
     },
     "execution_count": null,
     "metadata": {},
     "output_type": "execute_result"
    }
   ],
   "source": [
    "user.wait_for_login()"
   ]
  },
  {
   "cell_type": "markdown",
   "metadata": {},
   "source": [
    "### Upload a file for processing\n"
   ]
  },
  {
   "cell_type": "code",
   "execution_count": null,
   "metadata": {},
   "outputs": [],
   "source": [
    "filename = \"bsd.picarro.1minute.248m.dat\"\n",
    "dir_path = os.path.abspath(\"\")\n",
    "test_data = \"../../test/data/proc_test_data/CRDS\"\n",
    "filepath = os.path.join(dir_path, test_data, filename)"
   ]
  },
  {
   "cell_type": "code",
   "execution_count": null,
   "metadata": {},
   "outputs": [],
   "source": [
    "creds = StorageCreds(user=user, service_url=\"%s/storage\" % base_url)\n",
    "drive = Drive(creds=creds, name=\"test_drive\")\n",
    "filemeta = drive.upload(filepath)\n",
    "par = PAR(location=filemeta.location(), user=user)"
   ]
  },
  {
   "cell_type": "code",
   "execution_count": null,
   "metadata": {},
   "outputs": [],
   "source": [
    "hugs = Service(service_url=\"%s/hugs\" % base_url)\n",
    "par_secret = hugs.encrypt_data(par.secret())\n",
    "auth = Authorisation(resource=\"process\", user=user)"
   ]
  },
  {
   "cell_type": "code",
   "execution_count": null,
   "metadata": {},
   "outputs": [
    {
     "data": {
      "text/plain": [
       "Service(url=hugs.acquire-aaai.com/t/hugs, uid=a0-a7)"
      ]
     },
     "execution_count": null,
     "metadata": {},
     "output_type": "execute_result"
    }
   ],
   "source": [
    "hugs"
   ]
  },
  {
   "cell_type": "code",
   "execution_count": null,
   "metadata": {},
   "outputs": [],
   "source": [
    "args = {\"authorisation\": auth.to_data(),\n",
    "            \"par\": {\"data\": par.to_data()},\n",
    "            \"par_secret\": {\"data\": par_secret},\n",
    "            \"data_type\": \"CRDS\"}\n",
    "\n",
    "response = hugs.call_function(function=\"process\", args=args)"
   ]
  },
  {
   "cell_type": "code",
   "execution_count": null,
   "metadata": {},
   "outputs": [
    {
     "data": {
      "text/plain": [
       "{'results': ['6f65ec37-e696-4c4e-8b33-6c58cf99c35d',\n",
       "  '4bc9f7f6-535f-42ed-95b0-caf2590c1d71',\n",
       "  '1c13b22b-6600-4097-85c0-5e5e828467ff',\n",
       "  '91b861f8-06f6-423a-8ca4-a093dae5eb6a',\n",
       "  '76706fa1-9ed2-4912-83fc-024de1bea11f',\n",
       "  'f147b816-776f-4fe2-9821-c4ade880ff00',\n",
       "  '09c19ef6-3fd2-4e4f-af16-accb54be9841',\n",
       "  '8416c40e-208e-4de8-bd93-0cf799f0b4fb',\n",
       "  'e481e5fc-b961-4b36-b04f-02e6f84b8493',\n",
       "  '0bd57054-3bcc-46bf-a690-a45db3202ae9',\n",
       "  'be817c02-9880-4c47-a425-129bfab80e85',\n",
       "  '4f08b296-3bdf-4d2f-85be-5d6c6e14a9b9',\n",
       "  '79228c52-cc58-4a01-9515-a2e54a474279',\n",
       "  'dc4bcbcc-8099-4670-a763-408f95ac7ac8',\n",
       "  'f5443428-552b-4b36-b729-5acc880f62e0']}"
      ]
     },
     "execution_count": null,
     "metadata": {},
     "output_type": "execute_result"
    }
   ],
   "source": [
    "response"
   ]
  },
  {
   "cell_type": "code",
   "execution_count": null,
   "metadata": {},
   "outputs": [
    {
     "ename": "ServiceError",
     "evalue": "You can only call this function from within a valid running service. A client cannot call this function.",
     "output_type": "error",
     "traceback": [
      "\u001b[0;31m---------------------------------------------------------------------------\u001b[0m",
      "\u001b[0;31mServiceError\u001b[0m                              Traceback (most recent call last)",
      "\u001b[0;32m<ipython-input-35-68cde1324688>\u001b[0m in \u001b[0;36m<module>\u001b[0;34m\u001b[0m\n\u001b[1;32m      2\u001b[0m \u001b[0;32mfrom\u001b[0m \u001b[0mAcquire\u001b[0m\u001b[0;34m.\u001b[0m\u001b[0mService\u001b[0m \u001b[0;32mimport\u001b[0m \u001b[0mget_service_account_bucket\u001b[0m\u001b[0;34m\u001b[0m\u001b[0;34m\u001b[0m\u001b[0m\n\u001b[1;32m      3\u001b[0m \u001b[0;34m\u001b[0m\u001b[0m\n\u001b[0;32m----> 4\u001b[0;31m \u001b[0mbucket\u001b[0m \u001b[0;34m=\u001b[0m \u001b[0mget_service_account_bucket\u001b[0m\u001b[0;34m(\u001b[0m\u001b[0;34m)\u001b[0m\u001b[0;34m\u001b[0m\u001b[0;34m\u001b[0m\u001b[0m\n\u001b[0m\u001b[1;32m      5\u001b[0m \u001b[0;32mfor\u001b[0m \u001b[0mr\u001b[0m \u001b[0;32min\u001b[0m \u001b[0mresponse\u001b[0m\u001b[0;34m[\u001b[0m\u001b[0;34m\"results\"\u001b[0m\u001b[0;34m]\u001b[0m\u001b[0;34m:\u001b[0m\u001b[0;34m\u001b[0m\u001b[0;34m\u001b[0m\u001b[0m\n\u001b[1;32m      6\u001b[0m     \u001b[0mObjectStore\u001b[0m\u001b[0;34m.\u001b[0m\u001b[0mdelete_object\u001b[0m\u001b[0;34m(\u001b[0m\u001b[0mbucket\u001b[0m\u001b[0;34m=\u001b[0m\u001b[0mbucket\u001b[0m\u001b[0;34m,\u001b[0m \u001b[0mkey\u001b[0m\u001b[0;34m=\u001b[0m\u001b[0mr\u001b[0m\u001b[0;34m)\u001b[0m\u001b[0;34m\u001b[0m\u001b[0;34m\u001b[0m\u001b[0m\n",
      "\u001b[0;32m/usr/lib/python3.7/site-packages/cachetools/__init__.py\u001b[0m in \u001b[0;36mwrapper\u001b[0;34m(*args, **kwargs)\u001b[0m\n\u001b[1;32m     44\u001b[0m                 \u001b[0;32mexcept\u001b[0m \u001b[0mKeyError\u001b[0m\u001b[0;34m:\u001b[0m\u001b[0;34m\u001b[0m\u001b[0;34m\u001b[0m\u001b[0m\n\u001b[1;32m     45\u001b[0m                     \u001b[0;32mpass\u001b[0m  \u001b[0;31m# key not found\u001b[0m\u001b[0;34m\u001b[0m\u001b[0;34m\u001b[0m\u001b[0m\n\u001b[0;32m---> 46\u001b[0;31m                 \u001b[0mv\u001b[0m \u001b[0;34m=\u001b[0m \u001b[0mfunc\u001b[0m\u001b[0;34m(\u001b[0m\u001b[0;34m*\u001b[0m\u001b[0margs\u001b[0m\u001b[0;34m,\u001b[0m \u001b[0;34m**\u001b[0m\u001b[0mkwargs\u001b[0m\u001b[0;34m)\u001b[0m\u001b[0;34m\u001b[0m\u001b[0;34m\u001b[0m\u001b[0m\n\u001b[0m\u001b[1;32m     47\u001b[0m                 \u001b[0;32mtry\u001b[0m\u001b[0;34m:\u001b[0m\u001b[0;34m\u001b[0m\u001b[0;34m\u001b[0m\u001b[0m\n\u001b[1;32m     48\u001b[0m                     \u001b[0mcache\u001b[0m\u001b[0;34m[\u001b[0m\u001b[0mk\u001b[0m\u001b[0;34m]\u001b[0m \u001b[0;34m=\u001b[0m \u001b[0mv\u001b[0m\u001b[0;34m\u001b[0m\u001b[0;34m\u001b[0m\u001b[0m\n",
      "\u001b[0;32m~/Documents/Devel/acquire/Acquire/Service/_get_service_account_bucket.py\u001b[0m in \u001b[0;36mget_service_account_bucket\u001b[0;34m(testing_dir)\u001b[0m\n\u001b[1;32m     70\u001b[0m         \u001b[0m_assert_running_service\u001b[0m\u001b[0;34m\u001b[0m\u001b[0;34m\u001b[0m\u001b[0m\n\u001b[1;32m     71\u001b[0m \u001b[0;34m\u001b[0m\u001b[0m\n\u001b[0;32m---> 72\u001b[0;31m     \u001b[0m_assert_running_service\u001b[0m\u001b[0;34m(\u001b[0m\u001b[0;34m)\u001b[0m\u001b[0;34m\u001b[0m\u001b[0;34m\u001b[0m\u001b[0m\n\u001b[0m\u001b[1;32m     73\u001b[0m \u001b[0;34m\u001b[0m\u001b[0m\n\u001b[1;32m     74\u001b[0m     \u001b[0;31m# read the password for the secret key from the filesystem\u001b[0m\u001b[0;34m\u001b[0m\u001b[0;34m\u001b[0m\u001b[0;34m\u001b[0m\u001b[0m\n",
      "\u001b[0;32m~/Documents/Devel/acquire/Acquire/Service/_service_account.py\u001b[0m in \u001b[0;36massert_running_service\u001b[0;34m()\u001b[0m\n\u001b[1;32m     66\u001b[0m         \u001b[0;32mfrom\u001b[0m \u001b[0;34m.\u001b[0m\u001b[0m_errors\u001b[0m \u001b[0;32mimport\u001b[0m \u001b[0mServiceError\u001b[0m\u001b[0;34m\u001b[0m\u001b[0;34m\u001b[0m\u001b[0m\n\u001b[1;32m     67\u001b[0m         raise ServiceError(\n\u001b[0;32m---> 68\u001b[0;31m             \u001b[0;34m\"You can only call this function from within a valid \"\u001b[0m\u001b[0;34m\u001b[0m\u001b[0;34m\u001b[0m\u001b[0m\n\u001b[0m\u001b[1;32m     69\u001b[0m             \"running service. A client cannot call this function.\")\n\u001b[1;32m     70\u001b[0m \u001b[0;34m\u001b[0m\u001b[0m\n",
      "\u001b[0;31mServiceError\u001b[0m: You can only call this function from within a valid running service. A client cannot call this function."
     ]
    }
   ],
   "source": [
    "from Acquire.ObjectStore import ObjectStore\n",
    "from Acquire.Service import get_service_account_bucket\n",
    "\n",
    "bucket = get_service_account_bucket()\n",
    "for r in response[\"results\"]:\n",
    "    ObjectStore.delete_object(bucket=bucket, key=r)"
   ]
  },
  {
   "cell_type": "code",
   "execution_count": null,
   "metadata": {},
   "outputs": [],
   "source": []
  },
  {
   "cell_type": "code",
   "execution_count": null,
   "metadata": {},
   "outputs": [],
   "source": []
  },
  {
   "cell_type": "code",
   "execution_count": null,
   "metadata": {},
   "outputs": [],
   "source": []
  },
  {
   "cell_type": "code",
   "execution_count": null,
   "metadata": {},
   "outputs": [],
   "source": []
  },
  {
   "cell_type": "code",
   "execution_count": null,
   "metadata": {},
   "outputs": [],
   "source": []
  },
  {
   "cell_type": "code",
   "execution_count": null,
   "metadata": {},
   "outputs": [],
   "source": []
  },
  {
   "cell_type": "code",
   "execution_count": null,
   "metadata": {},
   "outputs": [],
   "source": []
  },
  {
   "cell_type": "code",
   "execution_count": null,
   "metadata": {},
   "outputs": [],
   "source": []
  },
  {
   "cell_type": "code",
   "execution_count": null,
   "metadata": {},
   "outputs": [],
   "source": []
  },
  {
   "cell_type": "code",
   "execution_count": null,
   "metadata": {},
   "outputs": [],
   "source": []
  },
  {
   "cell_type": "code",
   "execution_count": null,
   "metadata": {},
   "outputs": [],
   "source": []
  },
  {
   "cell_type": "code",
   "execution_count": null,
   "metadata": {},
   "outputs": [],
   "source": [
    "from HUGS.Processing import search\n",
    "\n",
    "search_terms = widgets.Text(\n",
    "                    value=\"Search\",\n",
    "                    placeholder = \"Search\",\n",
    "                    description = \"Search terms:\",\n",
    "                    disabled = False\n",
    ")\n",
    "\n",
    "locations = widgets.Text(\n",
    "                value=\"Locations\",\n",
    "                placeholder = \"BSD, HFD\",\n",
    "                description = \"Locations:\",\n",
    "                disabled = False\n",
    ")\n",
    "\n",
    "data_type = widgets.Dropdown(\n",
    "                options=[\"CRDS\", \"GC\"], \n",
    "                value=\"CRDS\",\n",
    "                description=\"Data type\",\n",
    "                disabled=False\n",
    "    )\n",
    "\n",
    "\n",
    "\n",
    "layout=widgets.Layout(display = \"flex\", width = \"50%\")\n",
    "search_button = widgets.Button(description=\"Search\", button_style=\"success\", \\\n",
    "                               layout=widgets.Layout(flex='1 1 0%', width='25%'))\n",
    "\n",
    "box = widgets.VBox(children=[search_terms, locations, data_type, search_button], layout=layout)\n",
    "\n",
    "def call_search(x):\n",
    "    \"\"\" Call the search function and pass it the values \n",
    "        in the text boxes\n",
    "            \n",
    "    \"\"\"\n",
    "    x =  search(search_terms=search_terms.value, locations=locations.value, data_type=data_type.value)\n",
    "    print(x)\n",
    "    \n",
    "\n"
   ]
  },
  {
   "cell_type": "code",
   "execution_count": null,
   "metadata": {},
   "outputs": [],
   "source": [
    "search_button.on_click(call_search)"
   ]
  },
  {
   "cell_type": "code",
   "execution_count": null,
   "metadata": {},
   "outputs": [],
   "source": [
    "box"
   ]
  },
  {
   "cell_type": "code",
   "execution_count": null,
   "metadata": {},
   "outputs": [],
   "source": []
  }
 ],
 "metadata": {
  "kernelspec": {
   "display_name": "Python 3",
   "language": "python",
   "name": "python3"
  }
 },
 "nbformat": 4,
 "nbformat_minor": 2
}
