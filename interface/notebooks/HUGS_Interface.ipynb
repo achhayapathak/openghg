{
 "cells": [
  {
   "cell_type": "code",
   "execution_count": null,
   "metadata": {},
   "outputs": [],
   "source": [
    "import os\n",
    "import sys\n",
    "sys.path.insert(0, \"../..\")\n",
    "sys.path.insert(0, \"../../../acquire\")\n",
    "import ipywidgets as widgets\n",
    "\n",
    "from HUGS.Processing import search\n",
    "\n",
    "from Acquire.Client import User, Drive, Service, PAR, Authorisation, StorageCreds"
   ]
  },
  {
   "cell_type": "code",
   "execution_count": null,
   "metadata": {},
   "outputs": [],
   "source": [
    "# Autoreload modules before executing code, useful during development\n",
    "%load_ext autoreload\n",
    "%autoreload 2"
   ]
  },
  {
   "cell_type": "markdown",
   "metadata": {},
   "source": [
    "## Start with uploading and processing of the data"
   ]
  },
  {
   "cell_type": "code",
   "execution_count": null,
   "metadata": {},
   "outputs": [
    {
     "name": "stdout",
     "output_type": "stream",
     "text": [
      "Login by visiting: https://login.acquire-aaai.com?id=a0-a6/33.88.73.59\n",
      "(please check that this page displays the message 'black mice climb quietly')\n"
     ]
    }
   ],
   "source": [
    "base_url = \"https://hugs.acquire-aaai.com/t\"\n",
    "hugs_url = \"https://hugs.acquire-aaai.com\"\n",
    "user = User(username=\"gareth\", identity_url=\"%s/identity\" % base_url)\n",
    "response = user.request_login()"
   ]
  },
  {
   "cell_type": "markdown",
   "metadata": {},
   "source": [
    "Check we're logged in"
   ]
  },
  {
   "cell_type": "code",
   "execution_count": null,
   "metadata": {},
   "outputs": [
    {
     "data": {
      "text/plain": [
       "True"
      ]
     },
     "execution_count": null,
     "metadata": {},
     "output_type": "execute_result"
    }
   ],
   "source": [
    "user.wait_for_login()"
   ]
  },
  {
   "cell_type": "code",
   "execution_count": null,
   "metadata": {},
   "outputs": [],
   "source": [
    "filename = \"bsd.picarro.1minute.248m.dat\"\n",
    "dir_path = os.path.abspath(\"\")\n",
    "test_data = \"../../test/data/proc_test_data/CRDS\"\n",
    "filepath = os.path.join(dir_path, test_data, filename)\n",
    "\n",
    "hugs = Service(service_url=\"%s/hugs\" % base_url)\n",
    "\n",
    "creds = StorageCreds(user=user, service_url=\"%s/storage\" % base_url)\n",
    "drive = Drive(creds=creds, name=\"test_drive\")\n",
    "filemeta = drive.upload(filepath)\n",
    "par = PAR(location=filemeta.location(), user=user)\n",
    "\n",
    "par_secret = hugs.encrypt_data(par.secret())\n",
    "auth = Authorisation(resource=\"process\", user=user)"
   ]
  },
  {
   "cell_type": "code",
   "execution_count": null,
   "metadata": {},
   "outputs": [],
   "source": [
    "def upload_file(authenticated_user, filepath):\n",
    "    \"\"\" Upload a file to the object store\n",
    "    \n",
    "        Args:\n",
    "            filepath (str): Path to file to upload\n",
    "        Returns:\n",
    "            None    \n",
    "    \"\"\"\n",
    "    creds = StorageCreds(user=authenticated_user, service_url=\"%s/storage\" % base_url)\n",
    "    drive = Drive(creds=creds, name=\"test_drive\")\n",
    "    filemeta = drive.upload(filepath)\n",
    "    par = PAR(location=filemeta.location(), user=user)\n",
    "\n",
    "    par_secret = hugs.encrypt_data(par.secret())\n",
    "    auth = Authorisation(resource=\"process\", user=user)"
   ]
  },
  {
   "cell_type": "code",
   "execution_count": null,
   "metadata": {},
   "outputs": [],
   "source": [
    "def get_CRDS_path(filename):\n",
    "    dir_path = os.path.abspath(\"\")\n",
    "    test_data = \"../../test/data/proc_test_data/CRDS\"\n",
    "    return os.path.join(dir_path, test_data, filename)"
   ]
  },
  {
   "cell_type": "markdown",
   "metadata": {},
   "source": [
    "### Upload files for processing\n"
   ]
  },
  {
   "cell_type": "markdown",
   "metadata": {},
   "source": [
    "Upload Bilsdale data"
   ]
  },
  {
   "cell_type": "code",
   "execution_count": null,
   "metadata": {},
   "outputs": [],
   "source": [
    "bsd_path = get_CRDS_path(\"bsd.picarro.1minute.248m.dat\")\n",
    "upload_file(authenticated_user=user, filepath=bsd_path)\n"
   ]
  },
  {
   "cell_type": "markdown",
   "metadata": {},
   "source": [
    "Clear the Datasources from CRDS and GC objects (currently Datasource UUIDs are just being randomly generated and we get multiple Datasources holding the same data)"
   ]
  },
  {
   "cell_type": "code",
   "execution_count": null,
   "metadata": {},
   "outputs": [],
   "source": [
    "response = hugs.call_function(function=\"clear_datasources\", args={})\n",
    "response"
   ]
  },
  {
   "cell_type": "code",
   "execution_count": null,
   "metadata": {},
   "outputs": [
    {
     "name": "stdout",
     "output_type": "stream",
     "text": [
      "{'bsd.picarro.1minute.248m.dat': ['057788be-65a4-446b-8e1a-202d9e5254fd', 'b810e42f-5bcc-4208-8534-ac95f8471558', 'c08a5b52-e944-4a0d-bcb7-534c4d422213']}\n"
     ]
    }
   ],
   "source": [
    "from HUGS.Client import Process\n",
    "\n",
    "filename = \"bsd.picarro.1minute.248m.dat\"\n",
    "filepath = get_CRDS_path(filename)\n",
    "\n",
    "processing = Process(service_url=base_url)\n",
    "result = processing.process_files(user=user, files=filepath, data_type=\"CRDS\")\n",
    "print(result)"
   ]
  },
  {
   "cell_type": "markdown",
   "metadata": {},
   "source": [
    "Upload some Heathfield data"
   ]
  },
  {
   "cell_type": "code",
   "execution_count": null,
   "metadata": {},
   "outputs": [
    {
     "name": "stdout",
     "output_type": "stream",
     "text": [
      "{'hfd.picarro.1minute.100m_min.dat': ['405168ac-7252-4815-8d6d-5692f21c5f38', '3f2cb5f9-fc9b-412f-9dae-bd49231a6fe2', 'b8945a24-44ad-4a2f-ae2d-ce3d99251a1a']}\n"
     ]
    }
   ],
   "source": [
    "filename = \"hfd.picarro.1minute.100m_min.dat\"\n",
    "filepath = get_CRDS_path(filename)\n",
    "result = processing.process_files(user=user, files=filepath, data_type=\"CRDS\")\n",
    "print(result)"
   ]
  },
  {
   "cell_type": "code",
   "execution_count": null,
   "metadata": {},
   "outputs": [],
   "source": [
    "from HUGS.Processing import search\n",
    "\n",
    "search_results = None\n",
    "\n",
    "search_terms = widgets.Text(\n",
    "                    value=\"\",\n",
    "                    placeholder = \"Search\",\n",
    "                    description = \"Search terms:\",\n",
    "                    disabled = False\n",
    ")\n",
    "\n",
    "locations = widgets.Text(\n",
    "                value=\"\",\n",
    "                placeholder = \"BSD, HFD\",\n",
    "                description = \"Locations:\",\n",
    "                disabled = False\n",
    ")\n",
    "\n",
    "data_type = widgets.Dropdown(\n",
    "                options=[\"CRDS\", \"GC\"], \n",
    "                value=\"CRDS\",\n",
    "                description=\"Data type\",\n",
    "                disabled=False\n",
    "    )\n",
    "\n",
    "\n",
    "\n",
    "layout=widgets.Layout(display = \"flex\", width = \"50%\")\n",
    "search_button = widgets.Button(description=\"Search\", button_style=\"success\", \\\n",
    "                               layout=widgets.Layout(flex='1 1 0%', width='25%'))\n",
    "\n",
    "start_picker = widgets.DatePicker(\n",
    "                    description='Start date',\n",
    "                    disabled=False\n",
    ")\n",
    "\n",
    "end_picker = widgets.DatePicker(\n",
    "                    description='End date',\n",
    "                    disabled=False\n",
    ")\n",
    "\n",
    "\n",
    "box = widgets.VBox(children=[search_terms, locations, start_picker, end_picker, data_type,\n",
    "                                 search_button], layout=layout)\n",
    "\n",
    "\n",
    "\n",
    "def call_search(x):\n",
    "    \"\"\" Call the search function and pass it the values \n",
    "        in the text boxes\n",
    "            \n",
    "    \"\"\"\n",
    "    from datetime import datetime\n",
    "    from Acquire.ObjectStore import datetime_to_string\n",
    "    from HUGS.Client import Search\n",
    "    start = datetime(1970, 1,1) # datetime.combine(start_picker.value, datetime.min.time())\n",
    "    end = datetime.now() # datetime.combine(end_picker.value, datetime.min.time())\n",
    "    \n",
    "    split_search_terms = search_terms.value.replace(\" \", \"\").split(\",\")\n",
    "    split_locations = locations.value.replace(\" \", \"\").split(\",\")\n",
    "    \n",
    "    global search_results\n",
    "    search = Search(service_url=base_url)\n",
    "    search_results = search.search(search_terms=split_search_terms, locations=split_locations, data_type=data_type.value, start_datetime=start, end_datetime=end)\n",
    "\n",
    "search_button.on_click(call_search)\n",
    "\n",
    "\n"
   ]
  },
  {
   "cell_type": "code",
   "execution_count": null,
   "metadata": {},
   "outputs": [
    {
     "data": {
      "application/vnd.jupyter.widget-view+json": {
       "model_id": "ed879fb645084693b3b438a0f16b09b0",
       "version_major": 2,
       "version_minor": 0
      },
      "text/plain": [
       "VBox(children=(Text(value='', description='Search terms:', placeholder='Search'), Text(value='', description='…"
      ]
     },
     "metadata": {},
     "output_type": "display_data"
    },
    {
     "name": "stdout",
     "output_type": "stream",
     "text": [
      "['co2'] ['bsd']\n"
     ]
    }
   ],
   "source": [
    "box"
   ]
  },
  {
   "cell_type": "code",
   "execution_count": null,
   "metadata": {},
   "outputs": [
    {
     "name": "stdout",
     "output_type": "stream",
     "text": [
      "{'bsd_co2': ['data/uuid/b810e42f-5bcc-4208-8534-ac95f8471558/2014-01-30T10:52:30_2014-01-30T14:20:30']}\n"
     ]
    }
   ],
   "source": [
    "print(search_results)"
   ]
  },
  {
   "cell_type": "markdown",
   "metadata": {},
   "source": [
    "Now take the result dictionary, parse the dictionary into a blocks that can be selected by the user"
   ]
  },
  {
   "cell_type": "code",
   "execution_count": null,
   "metadata": {},
   "outputs": [],
   "source": [
    "def parse_results(results):\n",
    "    \"\"\" Split the keys into a list of each key and the date that the data covers\n",
    "        \n",
    "        Args:\n",
    "            results (dict): Dictionary of search results\n",
    "        Returns:\n",
    "            list (tuple): List of date, data key list pairs\n",
    "    \"\"\"\n",
    "    date_keys = {}\n",
    "    for key in results.keys():\n",
    "        keys = sorted(results[key])\n",
    "        start_key = keys[0]\n",
    "        end_key = keys[-1]\n",
    "        # Get the first and last dates from the keys in the search results\n",
    "        start_date = start_key.split(\"/\")[-1].split(\"_\")[0]\n",
    "        end_date = end_key.split(\"/\")[-1].split(\"_\")[-1]\n",
    "        \n",
    "        dates_covered = start_date + \"_\" + end_date\n",
    "        \n",
    "        date_keys[key] = {\"dates\": dates_covered, \"keys\": keys}\n",
    "        \n",
    "    return date_keys"
   ]
  },
  {
   "cell_type": "markdown",
   "metadata": {},
   "source": [
    "Site, gas, dates and checkbox"
   ]
  },
  {
   "cell_type": "code",
   "execution_count": null,
   "metadata": {},
   "outputs": [
    {
     "name": "stdout",
     "output_type": "stream",
     "text": [
      "{'bsd_co2': {'dates': '2014-01-30T10:52:30_2014-01-30T14:20:30', 'keys': ['data/uuid/b810e42f-5bcc-4208-8534-ac95f8471558/2014-01-30T10:52:30_2014-01-30T14:20:30']}}\n"
     ]
    }
   ],
   "source": [
    "date_keys = parse_results(search_results)\n",
    "print(date_keys)"
   ]
  },
  {
   "cell_type": "code",
   "execution_count": null,
   "metadata": {},
   "outputs": [
    {
     "data": {
      "application/vnd.jupyter.widget-view+json": {
       "model_id": "0e7e28c0863f4b8485bf2209eb0f3b4c",
       "version_major": 2,
       "version_minor": 0
      },
      "text/plain": [
       "VBox(children=(HBox(children=(HTML(value='<b>Site</b>', layout=Layout(height='28px', min_height='28px', min_wi…"
      ]
     },
     "metadata": {},
     "output_type": "display_data"
    },
    {
     "data": {
      "application/vnd.jupyter.widget-view+json": {
       "model_id": "24ff9705bb0745e1985efaddd16ec034",
       "version_major": 2,
       "version_minor": 0
      },
      "text/plain": [
       "Output()"
      ]
     },
     "metadata": {},
     "output_type": "display_data"
    },
    {
     "name": "stdout",
     "output_type": "stream",
     "text": [
      "{'bsd_co2': ['data/uuid/b810e42f-5bcc-4208-8534-ac95f8471558/2014-01-30T10:52:30_2014-01-30T14:20:30']}\n",
      "{}\n"
     ]
    }
   ],
   "source": [
    "from ipywidgets import Button, ButtonStyle, Checkbox, HTML, Label, HBox, VBox\n",
    "\n",
    "table_style = {'description_width': 'initial'}\n",
    "table_layout = {'width':'100px', 'min_width':'100px', 'height':'28px', 'min_height':'28px'}\n",
    "date_layout = {'width':'275px', 'min_width':'200px', 'height':'28px', 'min_height':'28px'}\n",
    "checkbox_layout = {'width':'100px', 'min_width':'100px', 'height':'28px', 'min_height':'28px'}\n",
    "statusbar_layout = {'width':'250px', 'min_width':'250px', 'height':'28px', 'min_height':'28px'}\n",
    "\n",
    "# row_layout = {'width':'200px', 'min_width':'200px'}\n",
    "\n",
    "header_label_site = HTML(value=f\"<b>Site</b>\", layout=table_layout)\n",
    "header_label_gas = HTML(value=f\"<b>Gas</b>\", layout=table_layout)\n",
    "header_label_dates = HTML(value=f\"<b>Dates</b>\", layout=date_layout)\n",
    "header_label_select = HTML(value=f\"<b>Select</b>\", layout=checkbox_layout)\n",
    "\n",
    "checkbox_objects = []\n",
    "search_keys = []\n",
    "\n",
    "site_labels = []\n",
    "date_labels = []\n",
    "gas_labels = []\n",
    "for key in date_keys:\n",
    "    # Create the checkboxes\n",
    "    checkbox = Checkbox(value=False, layout=checkbox_layout)\n",
    "    checkbox_objects.append(checkbox)\n",
    "    search_keys.append(key)\n",
    "    \n",
    "    dates = date_keys[key][\"dates\"].replace(\"_\", \" to \").replace(\"T\", \" \")\n",
    "    date_label = Label(value=dates, layout=date_layout)\n",
    "    \n",
    "    split_key = key.split(\"_\")\n",
    "    site_name = split_key[0].upper()\n",
    "    gas_name = split_key[1].upper()\n",
    "    \n",
    "    gas_label = Label(value=gas_name, layout=table_layout)\n",
    "    site_label = Label(value=site_name, layout=table_layout)\n",
    "\n",
    "    date_labels.append(date_label)\n",
    "    site_labels.append(site_label)\n",
    "    gas_labels.append(gas_label)\n",
    "\n",
    "    \n",
    "arg_dict = {search_keys[i]: checkbox for i, checkbox in enumerate(checkbox_objects)}\n",
    "\n",
    "header_box = HBox(children=[header_label_site, header_label_gas, header_label_dates, header_label_select])\n",
    "\n",
    "site_vbox = VBox(children=site_labels)\n",
    "gas_vbox = VBox(children=gas_labels)\n",
    "dates_vbox = VBox(children=date_labels)\n",
    "checkbox_vbox = VBox(children=checkbox_objects)\n",
    "\n",
    "dynamic_box = HBox(children=[site_vbox, gas_vbox, dates_vbox, checkbox_vbox])\n",
    "\n",
    "download_button = Button(description=\"Download\", button_style=\"success\", layout=table_layout)\n",
    "download_box = HBox(children=[download_button])\n",
    "\n",
    "status_bar = HTML(value=\"Status: Waiting...\", layout=statusbar_layout)\n",
    "\n",
    "complete = VBox(children=[header_box, dynamic_box, download_box, status_bar])\n",
    "\n",
    "selected_data = []\n",
    "def select_data(**kwargs):\n",
    "    selected_data.clear()\n",
    "    \n",
    "    for key in kwargs:\n",
    "        if kwargs[key] is True:\n",
    "            selected_data.append(key)\n",
    "    \n",
    "    print(selected_data)\n",
    "\n",
    "def update_statusbar(text):\n",
    "    status_bar.value = F\"Status: {text}\"\n",
    "    \n",
    "data = None\n",
    "def download_data(a):\n",
    "    \"\"\" Download the data in the selected keys from the object store\n",
    "    \n",
    "        Args:\n",
    "            ?\n",
    "        Returns:\n",
    "            Pandas.Dataframe of selected data\n",
    "    \"\"\"\n",
    "    from HUGS.Client import Retrieve\n",
    "    from pandas import read_json as pd_read_json\n",
    "    \n",
    "    download_keys = {key: date_keys[key][\"keys\"] for key in selected_data}\n",
    "    \n",
    "    print(download_keys)\n",
    "    \n",
    "    retrieve = Retrieve(service_url=base_url)\n",
    "    \n",
    "    global data\n",
    "    data = retrieve.retrieve(keys=download_keys)\n",
    "    \n",
    "    if len(data) > 0:\n",
    "        update_statusbar(\"Download complete\")\n",
    "    else:\n",
    "        update_statusbar(\"No data downloaded\")\n",
    "        \n",
    "#     data = pd_read_json(data)\n",
    "\n",
    "    print(data)\n",
    "        \n",
    "    \n",
    "download_button.on_click(download_data)\n",
    "out = widgets.interactive_output(select_data, arg_dict)\n",
    "\n",
    "display(complete, out)"
   ]
  },
  {
   "cell_type": "code",
   "execution_count": null,
   "metadata": {},
   "outputs": [
    {
     "data": {
      "text/plain": [
       "{'bsd_co2': '{\"co2 count\":{\"1391079150000\":409.66,\"1391079210000\":409.5,\"1391079270000\":409.5,\"1391079330000\":409.37,\"1391079390000\":409.45,\"1391079450000\":409.49,\"1391079510000\":409.54,\"1391079570000\":409.59,\"1391079630000\":409.69,\"1391079690000\":409.57,\"1391079750000\":409.62,\"1391079810000\":409.6,\"1391079870000\":409.33,\"1391079930000\":409.55,\"1391079990000\":409.42,\"1391080050000\":409.48,\"1391080110000\":409.38,\"1391080170000\":409.31,\"1391084370000\":409.33,\"1391084430000\":409.26,\"1391084490000\":409.32,\"1391084550000\":409.35,\"1391084610000\":409.36,\"1391084670000\":409.35,\"1391084730000\":409.32,\"1391084790000\":409.37,\"1391084850000\":409.36,\"1391084910000\":409.36,\"1391084970000\":409.39,\"1391087550000\":409.49,\"1391087610000\":409.49,\"1391087670000\":409.49,\"1391087730000\":409.44,\"1391087790000\":409.46,\"1391087850000\":409.4,\"1391087910000\":409.32,\"1391087970000\":409.43,\"1391088030000\":409.32,\"1391088090000\":409.28,\"1391088150000\":409.39,\"1391088210000\":409.38,\"1391088270000\":409.49,\"1391088330000\":409.52,\"1391088390000\":409.47,\"1391088450000\":409.34,\"1391088510000\":409.46,\"1391088570000\":409.5,\"1391089950000\":409.13,\"1391090010000\":408.97,\"1391090070000\":408.76,\"1391090130000\":409.07,\"1391090190000\":409.2,\"1391090250000\":409.06,\"1391090310000\":408.9,\"1391090370000\":409.03,\"1391090430000\":409.08,\"1391090490000\":409.08,\"1391090550000\":409.01,\"1391090610000\":409.01,\"1391090670000\":409.02,\"1391090730000\":409.02,\"1391090790000\":408.92,\"1391090850000\":408.88,\"1391090910000\":408.86,\"1391090970000\":408.9,\"1391091030000\":408.92,\"1391091090000\":408.82,\"1391091150000\":408.83,\"1391091210000\":408.77,\"1391091270000\":408.77,\"1391091330000\":408.78,\"1391091390000\":408.82,\"1391091450000\":408.76,\"1391091510000\":408.79,\"1391091570000\":408.8,\"1391091630000\":408.78},\"co2 stdev\":{\"1391079150000\":0.028,\"1391079210000\":0.058,\"1391079270000\":0.026,\"1391079330000\":0.044,\"1391079390000\":0.023,\"1391079450000\":0.039,\"1391079510000\":0.027,\"1391079570000\":0.039,\"1391079630000\":0.08,\"1391079690000\":0.068,\"1391079750000\":0.047,\"1391079810000\":0.063,\"1391079870000\":0.051,\"1391079930000\":0.046,\"1391079990000\":0.042,\"1391080050000\":0.089,\"1391080110000\":0.033,\"1391080170000\":0.044,\"1391084370000\":0.029,\"1391084430000\":0.043,\"1391084490000\":0.031,\"1391084550000\":0.02,\"1391084610000\":0.031,\"1391084670000\":0.032,\"1391084730000\":0.03,\"1391084790000\":0.026,\"1391084850000\":0.037,\"1391084910000\":0.027,\"1391084970000\":0.024,\"1391087550000\":0.03,\"1391087610000\":0.03,\"1391087670000\":0.034,\"1391087730000\":0.033,\"1391087790000\":0.027,\"1391087850000\":0.08,\"1391087910000\":0.107,\"1391087970000\":0.041,\"1391088030000\":0.118,\"1391088090000\":0.066,\"1391088150000\":0.13,\"1391088210000\":0.062,\"1391088270000\":0.061,\"1391088330000\":0.043,\"1391088390000\":0.041,\"1391088450000\":0.148,\"1391088510000\":0.074,\"1391088570000\":0.064,\"1391089950000\":0.073,\"1391090010000\":0.178,\"1391090070000\":0.044,\"1391090130000\":0.106,\"1391090190000\":0.084,\"1391090250000\":0.074,\"1391090310000\":0.025,\"1391090370000\":0.06,\"1391090430000\":0.029,\"1391090490000\":0.046,\"1391090550000\":0.059,\"1391090610000\":0.041,\"1391090670000\":0.043,\"1391090730000\":0.086,\"1391090790000\":0.031,\"1391090850000\":0.048,\"1391090910000\":0.049,\"1391090970000\":0.04,\"1391091030000\":0.056,\"1391091090000\":0.064,\"1391091150000\":0.043,\"1391091210000\":0.032,\"1391091270000\":0.027,\"1391091330000\":0.028,\"1391091390000\":0.032,\"1391091450000\":0.06,\"1391091510000\":0.03,\"1391091570000\":0.024,\"1391091630000\":0.019},\"co2 n_meas\":{\"1391079150000\":26.0,\"1391079210000\":26.0,\"1391079270000\":25.0,\"1391079330000\":26.0,\"1391079390000\":25.0,\"1391079450000\":26.0,\"1391079510000\":26.0,\"1391079570000\":25.0,\"1391079630000\":26.0,\"1391079690000\":25.0,\"1391079750000\":26.0,\"1391079810000\":26.0,\"1391079870000\":25.0,\"1391079930000\":26.0,\"1391079990000\":25.0,\"1391080050000\":26.0,\"1391080110000\":26.0,\"1391080170000\":13.0,\"1391084370000\":25.0,\"1391084430000\":26.0,\"1391084490000\":26.0,\"1391084550000\":25.0,\"1391084610000\":26.0,\"1391084670000\":25.0,\"1391084730000\":26.0,\"1391084790000\":25.0,\"1391084850000\":26.0,\"1391084910000\":25.0,\"1391084970000\":18.0,\"1391087550000\":26.0,\"1391087610000\":26.0,\"1391087670000\":25.0,\"1391087730000\":26.0,\"1391087790000\":25.0,\"1391087850000\":26.0,\"1391087910000\":25.0,\"1391087970000\":26.0,\"1391088030000\":25.0,\"1391088090000\":26.0,\"1391088150000\":26.0,\"1391088210000\":25.0,\"1391088270000\":26.0,\"1391088330000\":25.0,\"1391088390000\":26.0,\"1391088450000\":25.0,\"1391088510000\":26.0,\"1391088570000\":18.0,\"1391089950000\":26.0,\"1391090010000\":26.0,\"1391090070000\":25.0,\"1391090130000\":26.0,\"1391090190000\":25.0,\"1391090250000\":26.0,\"1391090310000\":25.0,\"1391090370000\":26.0,\"1391090430000\":26.0,\"1391090490000\":25.0,\"1391090550000\":26.0,\"1391090610000\":25.0,\"1391090670000\":26.0,\"1391090730000\":25.0,\"1391090790000\":26.0,\"1391090850000\":25.0,\"1391090910000\":26.0,\"1391090970000\":26.0,\"1391091030000\":25.0,\"1391091090000\":26.0,\"1391091150000\":26.0,\"1391091210000\":25.0,\"1391091270000\":26.0,\"1391091330000\":25.0,\"1391091390000\":26.0,\"1391091450000\":25.0,\"1391091510000\":26.0,\"1391091570000\":26.0,\"1391091630000\":25.0}}'}"
      ]
     },
     "execution_count": null,
     "metadata": {},
     "output_type": "execute_result"
    }
   ],
   "source": [
    "data"
   ]
  },
  {
   "cell_type": "markdown",
   "metadata": {},
   "source": [
    "Retrieve the data from the object store"
   ]
  },
  {
   "cell_type": "code",
   "execution_count": null,
   "metadata": {},
   "outputs": [],
   "source": [
    "selected_data"
   ]
  },
  {
   "cell_type": "code",
   "execution_count": null,
   "metadata": {},
   "outputs": [],
   "source": [
    "from HUGS.Client import Retrieve\n",
    "\n",
    "retrieve = Retrieve(service_url=base_url)\n",
    "\n",
    "keys = {key: date_keys[key][\"keys\"] for key in selected_data}\n",
    "result = retrieve.retrieve(keys=keys)\n",
    "# Convert the data back to Dataframes we can use locally\n",
    "\n"
   ]
  },
  {
   "cell_type": "raw",
   "metadata": {},
   "source": [
    "result"
   ]
  },
  {
   "cell_type": "markdown",
   "metadata": {},
   "source": [
    "Plot the data we've selected"
   ]
  },
  {
   "cell_type": "markdown",
   "metadata": {},
   "source": [
    "Select the data from the downloaded data using the checkboxes and then click plot to update the figure"
   ]
  },
  {
   "cell_type": "code",
   "execution_count": null,
   "metadata": {},
   "outputs": [
    {
     "data": {
      "application/vnd.jupyter.widget-view+json": {
       "model_id": "1cfd64f173b5476caec66f879fc1b6d8",
       "version_major": 2,
       "version_minor": 0
      },
      "text/plain": [
       "VBox(children=(HBox(children=(HBox(children=(HTML(value='Select data: ', layout=Layout(height='28px', min_heig…"
      ]
     },
     "metadata": {},
     "output_type": "display_data"
    },
    {
     "ename": "AttributeError",
     "evalue": "'dict' object has no attribute 'loc'",
     "output_type": "error",
     "traceback": [
      "\u001b[0;31m---------------------------------------------------------------------------\u001b[0m",
      "\u001b[0;31mAttributeError\u001b[0m                            Traceback (most recent call last)",
      "\u001b[0;32m<ipython-input-56-caef41caffa9>\u001b[0m in \u001b[0;36mplot_data\u001b[0;34m(a)\u001b[0m\n\u001b[1;32m     42\u001b[0m     \"\"\"\n\u001b[1;32m     43\u001b[0m     \u001b[0mchoices\u001b[0m \u001b[0;34m=\u001b[0m \u001b[0mselected_data\u001b[0m\u001b[0;34m\u001b[0m\u001b[0;34m\u001b[0m\u001b[0m\n\u001b[0;32m---> 44\u001b[0;31m     \u001b[0mplot_data\u001b[0m \u001b[0;34m=\u001b[0m \u001b[0mdata\u001b[0m\u001b[0;34m.\u001b[0m\u001b[0mloc\u001b[0m\u001b[0;34m[\u001b[0m\u001b[0;34m:\u001b[0m\u001b[0;34m,\u001b[0m \u001b[0mchoices\u001b[0m\u001b[0;34m]\u001b[0m \u001b[0;32mif\u001b[0m \u001b[0mchoices\u001b[0m \u001b[0;32melse\u001b[0m \u001b[0mdata\u001b[0m\u001b[0;34m\u001b[0m\u001b[0;34m\u001b[0m\u001b[0m\n\u001b[0m\u001b[1;32m     45\u001b[0m     \u001b[0moutput\u001b[0m\u001b[0;34m.\u001b[0m\u001b[0mclear_output\u001b[0m\u001b[0;34m(\u001b[0m\u001b[0mwait\u001b[0m\u001b[0;34m=\u001b[0m\u001b[0;32mTrue\u001b[0m\u001b[0;34m)\u001b[0m\u001b[0;34m\u001b[0m\u001b[0;34m\u001b[0m\u001b[0m\n\u001b[1;32m     46\u001b[0m     \u001b[0;32mwith\u001b[0m \u001b[0moutput\u001b[0m\u001b[0;34m:\u001b[0m\u001b[0;34m\u001b[0m\u001b[0;34m\u001b[0m\u001b[0m\n",
      "\u001b[0;31mAttributeError\u001b[0m: 'dict' object has no attribute 'loc'"
     ]
    }
   ],
   "source": [
    "# Create some checkboxes\n",
    "plot_checkboxes = []\n",
    "plot_keys = [] \n",
    "\n",
    "for key in data:\n",
    "    # Create a more readable description\n",
    "    desc = \" \".join(key.split(\"_\")).upper()\n",
    "    plot_keys.append(key)\n",
    "    plot_checkboxes.append(Checkbox(description=desc, value=False))\n",
    "    \n",
    "select_instruction = HTML(value=\"Select data: \", layout=table_layout)\n",
    "plot_button = Button(description=\"Plot\", button_style=\"success\", layout=table_layout)\n",
    "\n",
    "select_box = HBox(children=[select_instruction])\n",
    "checkbox_box = HBox(children=plot_checkboxes)\n",
    "horiz_select = HBox(children=[select_box, checkbox_box])\n",
    "plot_box = HBox(children=[plot_button])\n",
    "ui_box = VBox(children=[horiz_select, plot_box])\n",
    "\n",
    "arg_dict = {plot_keys[i]: checkbox for i, checkbox in enumerate(plot_checkboxes)}\n",
    "\n",
    "selected_data = []\n",
    "def select_data(**kwargs):\n",
    "    selected_data.clear()\n",
    "    \n",
    "    for key in kwargs:\n",
    "        if kwargs[key] is True:\n",
    "            selected_data.append(key)\n",
    "    \n",
    "    print(selected_data)\n",
    "    \n",
    "# Link the checkbox selection with the selected dataframes to plot\n",
    "_ = widgets.interactive_output(select_data, arg_dict)\n",
    "\n",
    "output = widgets.Output()\n",
    "\n",
    "def plot_data(an_arg):\n",
    "    \"\"\" Each key in the data dict is a dataframe\n",
    "    \n",
    "    \"\"\"\n",
    "    # Here take the keys in the selected data list and use them to\n",
    "    # access the Dataframes to plot\n",
    "    # Use the same axes. Can have a button to create new plots etc in the future\n",
    "    choices = selected_data\n",
    "    plot_data = data.loc[:, choices] if choices else data\n",
    "    output.clear_output(wait=True)\n",
    "    with output:\n",
    "        ax = plot_data.plot()\n",
    "        plt.show()\n",
    "\n",
    "plot_button.on_click(plot_data)\n",
    "\n",
    "ui_box"
   ]
  },
  {
   "cell_type": "code",
   "execution_count": null,
   "metadata": {},
   "outputs": [
    {
     "data": {
      "text/plain": [
       "[Checkbox(value=False, description='BSD CO2', layout=Layout(height='28px', min_height='28px', min_width='100px', width='100px'))]"
      ]
     },
     "execution_count": null,
     "metadata": {},
     "output_type": "execute_result"
    }
   ],
   "source": [
    "plot_checkboxes"
   ]
  },
  {
   "cell_type": "code",
   "execution_count": null,
   "metadata": {},
   "outputs": [
    {
     "ename": "SyntaxError",
     "evalue": "invalid syntax (<ipython-input-54-1b77b821cf0c>, line 8)",
     "output_type": "error",
     "traceback": [
      "\u001b[0;36m  File \u001b[0;32m\"<ipython-input-54-1b77b821cf0c>\"\u001b[0;36m, line \u001b[0;32m8\u001b[0m\n\u001b[0;31m    print [k,v for k, v in kwargs.items()]\u001b[0m\n\u001b[0m                 ^\u001b[0m\n\u001b[0;31mSyntaxError\u001b[0m\u001b[0;31m:\u001b[0m invalid syntax\n"
     ]
    }
   ],
   "source": [
    "from ipywidgets import Checkbox, interactive\n",
    "from IPython.display import display\n",
    "\n",
    "l = [\"Dog\", \"Cat\", \"Mouse\"]\n",
    "chk = [Checkbox(description=a) for a in l]\n",
    "\n",
    "def updatePlot(**kwargs):\n",
    "    print [k,v for k, v in kwargs.items()]\n",
    "\n",
    "interact(updatePlot, **{c.description: c.value for c in chk})"
   ]
  },
  {
   "cell_type": "code",
   "execution_count": null,
   "metadata": {},
   "outputs": [
    {
     "data": {
      "application/vnd.jupyter.widget-view+json": {
       "model_id": "b165cee30da34f4a9546b00052cd0082",
       "version_major": 2,
       "version_minor": 0
      },
      "text/plain": [
       "SelectMultiple(description='Variables', index=(1,), options=('Variable X', 'Variable Y', 'Variable Z'), rows=3…"
      ]
     },
     "metadata": {},
     "output_type": "display_data"
    },
    {
     "data": {
      "application/vnd.jupyter.widget-view+json": {
       "model_id": "1599965780c64b1db484a423d3b8cec0",
       "version_major": 2,
       "version_minor": 0
      },
      "text/plain": [
       "Output()"
      ]
     },
     "metadata": {},
     "output_type": "display_data"
    }
   ],
   "source": [
    "# imports\n",
    "%matplotlib inline\n",
    "\n",
    "from ipywidgets import interactive\n",
    "import pandas as pd\n",
    "import numpy as np\n",
    "from IPython.display import clear_output\n",
    "import matplotlib.pyplot as plt\n",
    "\n",
    "# Sample data\n",
    "np.random.seed(123)\n",
    "rows = 50\n",
    "dfx = pd.DataFrame(np.random.randint(90,110,size=(rows, 1)), columns=['Variable X'])\n",
    "dfy = pd.DataFrame(np.random.randint(25,68,size=(rows, 1)), columns=['Variable Y'])\n",
    "dfz = pd.DataFrame(np.random.randint(60,70,size=(rows, 1)), columns=['Variable Z'])\n",
    "\n",
    "df = pd.concat([dfx,dfy,dfz], axis = 1)\n",
    "#jtplot.style()\n",
    "\n",
    "import ipywidgets as widgets\n",
    "from IPython.display import display\n",
    "\n",
    "opts = df.columns.values\n",
    "\n",
    "selector = widgets.SelectMultiple(\n",
    "options=opts,\n",
    "value=[opts[1]],\n",
    "rows=len(opts),\n",
    "description='Variables',\n",
    "disabled=False)\n",
    "\n",
    "output = widgets.Output()\n",
    "\n",
    "display(selector)\n",
    "display(output)\n",
    "\n",
    "def multiplot(widg):\n",
    "    choices = widg['new']\n",
    "    data = df.loc[:, choices] if choices else df\n",
    "    output.clear_output(wait=True)\n",
    "    with output:\n",
    "        ax = data.plot()\n",
    "        plt.show()\n",
    "\n",
    "selector.observe(multiplot, names='value')"
   ]
  },
  {
   "cell_type": "markdown",
   "metadata": {},
   "source": [
    "Now we can plot some of the data"
   ]
  },
  {
   "cell_type": "code",
   "execution_count": null,
   "metadata": {},
   "outputs": [],
   "source": [
    "import pandas as pd\n",
    "# co2_data = pd.read_json(data[\"results\"][\"bsd_co2\"])\n",
    "co_data = pd.read_json(data[\"results\"][\"bsd_ch4\"])\n"
   ]
  },
  {
   "cell_type": "code",
   "execution_count": null,
   "metadata": {},
   "outputs": [],
   "source": [
    "co_data.head(10)"
   ]
  },
  {
   "cell_type": "code",
   "execution_count": null,
   "metadata": {},
   "outputs": [],
   "source": [
    "%matplotlib notebook\n",
    "import matplotlib.pyplot as plt\n",
    "from pandas.plotting import register_matplotlib_converters\n",
    "register_matplotlib_converters()\n",
    "\n",
    "fig = plt.figure()\n",
    "# ax = fig.add_subplot(211)\n",
    "# ax.plot(co2_data.index.values, co2_data[\"co2 count\"], color = \"#4e79a7\" )\n",
    "ax = fig.add_subplot(111)\n",
    "ax.plot(co_data.index.values, co_data[\"ch4 count\"], color = \"#59a14f\")\n",
    "\n",
    "plt.show()"
   ]
  },
  {
   "cell_type": "code",
   "execution_count": null,
   "metadata": {},
   "outputs": [],
   "source": [
    "# Checkboxes for selecting which data we want to plot\n",
    "# Select the gas, it goes and plots the \n",
    "# Simple line plot"
   ]
  },
  {
   "cell_type": "code",
   "execution_count": null,
   "metadata": {},
   "outputs": [],
   "source": [
    "from ipyleaflet import (\n",
    "    Map,\n",
    "    Marker, MarkerCluster, TileLayer, ImageOverlay, GeoJSON,\n",
    "    Polyline, Polygon, Rectangle, Circle, CircleMarker, Popup,\n",
    "    SplitMapControl, WidgetControl,\n",
    "    basemaps, basemap_to_tiles\n",
    ")\n",
    "\n",
    "from ipywidgets import HTML"
   ]
  },
  {
   "cell_type": "code",
   "execution_count": null,
   "metadata": {},
   "outputs": [],
   "source": [
    "center = [54.2361, -4.548]\n",
    "zoom = 5\n",
    "m = Map(center=center, zoom=zoom)\n",
    "mark_bsd = Marker(location=(54.942544, -1.369204))\n",
    "mark_bsd.popup = HTML(value=\"Bilsdale\")\n",
    "\n",
    "mark_mhd = Marker(location=(53.20,-9.54))\n",
    "mark_mhd.popup = HTML(value=\"Macehead\")\n",
    "\n",
    "mark_tac = Marker(location=(52.511, 1.155003))\n",
    "mark_tac.popup = HTML(value=\"Tacolneston\")\n",
    "\n",
    "m += mark_bsd\n",
    "m += mark_mhd\n",
    "m += mark_tac\n",
    "\n",
    "display(m)"
   ]
  },
  {
   "cell_type": "code",
   "execution_count": null,
   "metadata": {},
   "outputs": [],
   "source": [
    "m"
   ]
  },
  {
   "cell_type": "code",
   "execution_count": null,
   "metadata": {},
   "outputs": [],
   "source": []
  }
 ],
 "metadata": {
  "kernelspec": {
   "display_name": "Python 3",
   "language": "python",
   "name": "python3"
  }
 },
 "nbformat": 4,
 "nbformat_minor": 2
}
