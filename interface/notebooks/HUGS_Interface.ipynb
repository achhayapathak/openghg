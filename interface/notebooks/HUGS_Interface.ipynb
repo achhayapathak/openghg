{
 "cells": [
  {
   "cell_type": "code",
   "execution_count": null,
   "metadata": {},
   "outputs": [],
   "source": [
    "import os\n",
    "import sys\n",
    "sys.path.insert(0, \"../..\")\n",
    "sys.path.insert(0, \"../../../acquire\")\n",
    "import ipywidgets as widgets\n",
    "\n",
    "from HUGS.Processing import search\n",
    "\n",
    "from Acquire.Client import User, Drive, Service, PAR, Authorisation, StorageCreds"
   ]
  },
  {
   "cell_type": "code",
   "execution_count": null,
   "metadata": {},
   "outputs": [],
   "source": [
    "# Autoreload modules before executing code, useful during development\n",
    "%load_ext autoreload\n",
    "%autoreload 2"
   ]
  },
  {
   "cell_type": "markdown",
   "metadata": {},
   "source": [
    "## Start with uploading and processing of the data"
   ]
  },
  {
   "cell_type": "code",
   "execution_count": null,
   "metadata": {},
   "outputs": [
    {
     "name": "stdout",
     "output_type": "stream",
     "text": [
      "Login by visiting: https://login.acquire-aaai.com?id=a0-a6/49.b1.ce.e5\n",
      "(please check that this page displays the message 'big cats climb quickly')\n"
     ]
    }
   ],
   "source": [
    "base_url = \"https://hugs.acquire-aaai.com/t\"\n",
    "hugs_url = \"https://hugs.acquire-aaai.com\"\n",
    "user = User(username=\"gareth\", identity_url=\"%s/identity\" % base_url)\n",
    "response = user.request_login()"
   ]
  },
  {
   "cell_type": "markdown",
   "metadata": {},
   "source": [
    "Check we're logged in"
   ]
  },
  {
   "cell_type": "code",
   "execution_count": null,
   "metadata": {},
   "outputs": [
    {
     "data": {
      "text/plain": [
       "True"
      ]
     },
     "execution_count": null,
     "metadata": {},
     "output_type": "execute_result"
    }
   ],
   "source": [
    "user.wait_for_login()"
   ]
  },
  {
   "cell_type": "code",
   "execution_count": null,
   "metadata": {},
   "outputs": [],
   "source": [
    "filename = \"bsd.picarro.1minute.248m.dat\"\n",
    "dir_path = os.path.abspath(\"\")\n",
    "test_data = \"../../test/data/proc_test_data/CRDS\"\n",
    "filepath = os.path.join(dir_path, test_data, filename)\n",
    "\n",
    "hugs = Service(service_url=\"%s/hugs\" % base_url)\n",
    "\n",
    "creds = StorageCreds(user=user, service_url=\"%s/storage\" % base_url)\n",
    "drive = Drive(creds=creds, name=\"test_drive\")\n",
    "filemeta = drive.upload(filepath)\n",
    "par = PAR(location=filemeta.location(), user=user)\n",
    "\n",
    "par_secret = hugs.encrypt_data(par.secret())\n",
    "auth = Authorisation(resource=\"process\", user=user)"
   ]
  },
  {
   "cell_type": "code",
   "execution_count": null,
   "metadata": {},
   "outputs": [],
   "source": [
    "def upload_file(authenticated_user, filepath):\n",
    "    \"\"\" Upload a file to the object store\n",
    "    \n",
    "        Args:\n",
    "            filepath (str): Path to file to upload\n",
    "        Returns:\n",
    "            None    \n",
    "    \"\"\"\n",
    "    creds = StorageCreds(user=authenticated_user, service_url=\"%s/storage\" % base_url)\n",
    "    drive = Drive(creds=creds, name=\"test_drive\")\n",
    "    filemeta = drive.upload(filepath)\n",
    "    par = PAR(location=filemeta.location(), user=user)\n",
    "\n",
    "    par_secret = hugs.encrypt_data(par.secret())\n",
    "    auth = Authorisation(resource=\"process\", user=user)"
   ]
  },
  {
   "cell_type": "code",
   "execution_count": null,
   "metadata": {},
   "outputs": [],
   "source": [
    "def get_CRDS_path(filename):\n",
    "    dir_path = os.path.abspath(\"\")\n",
    "    test_data = \"../../test/data/proc_test_data/CRDS\"\n",
    "    return os.path.join(dir_path, test_data, filename)"
   ]
  },
  {
   "cell_type": "markdown",
   "metadata": {},
   "source": [
    "### Upload files for processing\n"
   ]
  },
  {
   "cell_type": "markdown",
   "metadata": {},
   "source": [
    "Upload Bilsdale data"
   ]
  },
  {
   "cell_type": "code",
   "execution_count": null,
   "metadata": {},
   "outputs": [],
   "source": [
    "bsd_path = get_CRDS_path(\"bsd.picarro.1minute.248m.dat\")\n",
    "upload_file(authenticated_user=user, filepath=bsd_path)\n"
   ]
  },
  {
   "cell_type": "markdown",
   "metadata": {},
   "source": [
    "Clear the Datasources from CRDS and GC objects (currently Datasource UUIDs are just being randomly generated and we get multiple Datasources holding the same data)"
   ]
  },
  {
   "cell_type": "code",
   "execution_count": null,
   "metadata": {},
   "outputs": [],
   "source": [
    "response = hugs.call_function(function=\"clear_datasources\", args={})"
   ]
  },
  {
   "cell_type": "code",
   "execution_count": null,
   "metadata": {},
   "outputs": [],
   "source": [
    "args = {\"authorisation\": auth.to_data(),\n",
    "            \"par\": {\"data\": par.to_data()},\n",
    "            \"par_secret\": {\"data\": par_secret},\n",
    "            \"data_type\": \"CRDS\"}\n",
    "\n",
    "\n",
    "response = hugs.call_function(function=\"process\", args=args)"
   ]
  },
  {
   "cell_type": "code",
   "execution_count": null,
   "metadata": {},
   "outputs": [
    {
     "name": "stdout",
     "output_type": "stream",
     "text": [
      "{'results': ['4a697871-fcf9-4d27-8d55-cce5ecb761c8', '7dcb8db4-d0a3-427b-a23e-7ea8d5352489', '852ea5e7-77b0-4cc0-a68d-4f306827f678']}\n"
     ]
    }
   ],
   "source": [
    "print(response)"
   ]
  },
  {
   "cell_type": "code",
   "execution_count": null,
   "metadata": {},
   "outputs": [
    {
     "name": "stdout",
     "output_type": "stream",
     "text": [
      "{'bsd.picarro.1minute.248m.dat': ['ccb3f0b8-9bee-4bb4-a766-213ee16a17b5', 'ff21298c-2fc5-4a33-81cf-a00f0cc9e236', 'a049f9e7-788c-4f4c-98d6-1f8f8d184165']}\n"
     ]
    }
   ],
   "source": [
    "from HUGS.Client import Process\n",
    "\n",
    "filename = \"bsd.picarro.1minute.248m.dat\"\n",
    "filepath = get_CRDS_path(filename)\n",
    "\n",
    "processing = Process(service_url=base_url)\n",
    "result = processing.process_files(user=user, files=filepath, data_type=\"CRDS\")\n",
    "print(result)"
   ]
  },
  {
   "cell_type": "markdown",
   "metadata": {},
   "source": [
    "Upload some Heathfield data"
   ]
  },
  {
   "cell_type": "code",
   "execution_count": null,
   "metadata": {},
   "outputs": [
    {
     "name": "stdout",
     "output_type": "stream",
     "text": [
      "{'hfd.picarro.1minute.100m_min.dat': ['4af8be1c-a048-45ab-8d08-46d3af126195', '6d4e64eb-852e-4839-a833-fcc22e542018', 'c979dbcf-5a81-4570-93cb-ee3c7f81053f']}\n"
     ]
    }
   ],
   "source": [
    "filename = \"hfd.picarro.1minute.100m_min.dat\"\n",
    "filepath = get_CRDS_path(filename)\n",
    "result = processing.process_files(user=user, files=filepath, data_type=\"CRDS\")\n",
    "print(result)"
   ]
  },
  {
   "cell_type": "code",
   "execution_count": null,
   "metadata": {},
   "outputs": [],
   "source": [
    "from HUGS.Processing import search\n",
    "\n",
    "search_results = None\n",
    "\n",
    "search_terms = widgets.Text(\n",
    "                    value=\"\",\n",
    "                    placeholder = \"Search\",\n",
    "                    description = \"Search terms:\",\n",
    "                    disabled = False\n",
    ")\n",
    "\n",
    "locations = widgets.Text(\n",
    "                value=\"\",\n",
    "                placeholder = \"BSD, HFD\",\n",
    "                description = \"Locations:\",\n",
    "                disabled = False\n",
    ")\n",
    "\n",
    "data_type = widgets.Dropdown(\n",
    "                options=[\"CRDS\", \"GC\"], \n",
    "                value=\"CRDS\",\n",
    "                description=\"Data type\",\n",
    "                disabled=False\n",
    "    )\n",
    "\n",
    "\n",
    "\n",
    "layout=widgets.Layout(display = \"flex\", width = \"50%\")\n",
    "search_button = widgets.Button(description=\"Search\", button_style=\"success\", \\\n",
    "                               layout=widgets.Layout(flex='1 1 0%', width='25%'))\n",
    "\n",
    "start_picker = widgets.DatePicker(\n",
    "                    description='Start date',\n",
    "                    disabled=False\n",
    ")\n",
    "\n",
    "end_picker = widgets.DatePicker(\n",
    "                    description='End date',\n",
    "                    disabled=False\n",
    ")\n",
    "\n",
    "\n",
    "box = widgets.VBox(children=[search_terms, locations, start_picker, end_picker, data_type,\n",
    "                                 search_button], layout=layout)\n",
    "\n",
    "\n",
    "\n",
    "def call_search(x):\n",
    "    \"\"\" Call the search function and pass it the values \n",
    "        in the text boxes\n",
    "            \n",
    "    \"\"\"\n",
    "    from datetime import datetime\n",
    "    from Acquire.ObjectStore import datetime_to_string\n",
    "    from HUGS.Client import Search\n",
    "    start = datetime.combine(start_picker.value, datetime.min.time())\n",
    "    end = datetime.combine(end_picker.value, datetime.min.time())\n",
    "    \n",
    "    split_search_terms = search_terms.value.replace(\" \", \"\").split(\",\")\n",
    "    split_locations = locations.value.replace(\" \", \"\").split(\",\")\n",
    "    \n",
    "    global search_results\n",
    "    search = Search(service_url=base_url)\n",
    "    search_results = search.search(search_terms=split_search_terms, locations=split_locations, data_type=data_type.value, start_datetime=start, end_datetime=end)\n",
    "\n",
    "search_button.on_click(call_search)\n",
    "\n",
    "\n"
   ]
  },
  {
   "cell_type": "code",
   "execution_count": null,
   "metadata": {},
   "outputs": [
    {
     "data": {
      "application/vnd.jupyter.widget-view+json": {
       "model_id": "7bf1c12d186c43e99a8870d2ea0247ee",
       "version_major": 2,
       "version_minor": 0
      },
      "text/plain": [
       "VBox(children=(Text(value='co, co2', description='Search terms:', placeholder='Search'), Text(value='bsd, hfd'…"
      ]
     },
     "metadata": {},
     "output_type": "display_data"
    }
   ],
   "source": [
    "box"
   ]
  },
  {
   "cell_type": "code",
   "execution_count": null,
   "metadata": {},
   "outputs": [
    {
     "data": {
      "text/plain": [
       "dict_keys(['bsd_co', 'hfd_co', 'bsd_co2', 'hfd_co2'])"
      ]
     },
     "execution_count": null,
     "metadata": {},
     "output_type": "execute_result"
    }
   ],
   "source": [
    "search_results.keys()"
   ]
  },
  {
   "cell_type": "markdown",
   "metadata": {},
   "source": [
    "Now take the result dictionary, parse the dictionary into a blocks that can be selected by the user"
   ]
  },
  {
   "cell_type": "code",
   "execution_count": null,
   "metadata": {},
   "outputs": [],
   "source": [
    "def parse_results(results):\n",
    "    \"\"\" Split the keys into a list of each key and the date that the data covers\n",
    "        \n",
    "        Args:\n",
    "            results (dict): Dictionary of search results\n",
    "        Returns:\n",
    "            list (tuple): List of date, data key list pairs\n",
    "    \"\"\"\n",
    "    date_keys = {}\n",
    "    for key in results.keys():\n",
    "        keys = sorted(results[key])\n",
    "        start_key = keys[0]\n",
    "        end_key = keys[-1]\n",
    "        # Get the first and last dates from the keys in the search results\n",
    "        start_date = start_key.split(\"/\")[-1].split(\"_\")[0]\n",
    "        end_date = end_key.split(\"/\")[-1].split(\"_\")[-1]\n",
    "        \n",
    "        dates_covered = start_date + \"_\" + end_date\n",
    "        \n",
    "        date_keys[key] = {\"dates\": dates_covered, \"keys\": keys}\n",
    "        \n",
    "    return date_keys"
   ]
  },
  {
   "cell_type": "markdown",
   "metadata": {},
   "source": [
    "Site, gas, dates and checkbox"
   ]
  },
  {
   "cell_type": "code",
   "execution_count": null,
   "metadata": {},
   "outputs": [],
   "source": [
    "date_keys = parse_results(search_results)\n",
    "\n",
    "checkboxes = []\n",
    "date_labels = []\n",
    "gas_labels = []\n",
    "site_labels = []\n",
    "\n",
    "for key in date_keys:\n",
    "    checkbox = widgets.Checkbox(value=False, description=key, disabled=False)\n",
    "    # Get the dates covered\n",
    "    dates = date_keys[key][\"dates\"].replace(\"_\", \" \").replace(\"T\", \" \")\n",
    "    date_label = widgets.Label(value=dates)\n",
    "        \n",
    "    split_key = key.split(\"_\")\n",
    "    site_name = split_key[0].upper()\n",
    "    gas_name = split_key[1].upper()\n",
    "    \n",
    "    gas_label = widgets.Label(value=gas_name)\n",
    "    site_label = widgets.Label(value=site_name)\n",
    "    \n",
    "    checkboxes.append(checkbox)\n",
    "    date_labels.append(date_label)\n",
    "    site_labels.append(site_label)\n",
    "    gas_labels.append(gas_label)\n",
    "    "
   ]
  },
  {
   "cell_type": "code",
   "execution_count": null,
   "metadata": {},
   "outputs": [
    {
     "data": {
      "application/vnd.jupyter.widget-view+json": {
       "model_id": "ee51c564232c4f8eaddbc78131eaed42",
       "version_major": 2,
       "version_minor": 0
      },
      "text/plain": [
       "VBox(children=(Checkbox(value=False, description='data1'), Checkbox(value=False, description='data2'), Checkbo…"
      ]
     },
     "metadata": {},
     "output_type": "display_data"
    }
   ],
   "source": [
    "import ipywidgets as widgets\n",
    "\n",
    "data = [\"data1\", \"data2\", \"data3\", \"data4\"]\n",
    "\n",
    "checkboxes = [widgets.Checkbox(value=False, description=label) for label in data]\n",
    "\n",
    "widgets.VBox(children=checkboxes)"
   ]
  },
  {
   "cell_type": "code",
   "execution_count": null,
   "metadata": {},
   "outputs": [],
   "source": [
    "from ipywidgets import HBox, VBox\n",
    "\n",
    "def changed():\n",
    "    print(\"Wooo\")\n",
    "    \n",
    "gas_box = VBox(children=gas_labels)\n",
    "site_box = VBox(children=site_labels)\n",
    "dates_box = VBox(children=date_labels)\n",
    "checkbox_box = VBox(children=checkboxes)\n",
    "\n",
    "hbox = HBox(children=[site_box, gas_box, dates_box, checkbox_box])\n",
    "\n",
    "for v in gas_box.children:\n",
    "    v.observe(changed)\n",
    "\n",
    "\n",
    "\n"
   ]
  },
  {
   "cell_type": "code",
   "execution_count": null,
   "metadata": {},
   "outputs": [
    {
     "data": {
      "application/vnd.jupyter.widget-view+json": {
       "model_id": "e9af745650074612a381b4a43ab366c5",
       "version_major": 2,
       "version_minor": 0
      },
      "text/plain": [
       "VBox(children=(Checkbox(value=False, description='data1'), Checkbox(value=False, description='data2'), Checkbo…"
      ]
     },
     "metadata": {},
     "output_type": "display_data"
    }
   ],
   "source": [
    "import ipywidgets as widgets\n",
    "\n",
    "data = [\"data1\", \"data2\", \"data3\", \"data4\"]\n",
    "\n",
    "selected_data = []\n",
    "\n",
    "checkboxes = [widgets.Checkbox(value=False, description=label) for label in data]\n",
    "\n",
    "widgets.VBox(children=checkboxes)"
   ]
  },
  {
   "cell_type": "code",
   "execution_count": null,
   "metadata": {},
   "outputs": [
    {
     "data": {
      "application/vnd.jupyter.widget-view+json": {
       "model_id": "94c7d734dfca401888534a14ab93ba22",
       "version_major": 2,
       "version_minor": 0
      },
      "text/plain": [
       "Label(value='Yayah')"
      ]
     },
     "metadata": {},
     "output_type": "display_data"
    }
   ],
   "source": [
    "widgets.Label(value=\"Yayah\")"
   ]
  },
  {
   "cell_type": "code",
   "execution_count": null,
   "metadata": {},
   "outputs": [
    {
     "data": {
      "application/vnd.jupyter.widget-view+json": {
       "model_id": "a0955c8f47164aacada3e52ad41d1aa5",
       "version_major": 2,
       "version_minor": 0
      },
      "text/plain": [
       "IntSlider(value=5)"
      ]
     },
     "metadata": {},
     "output_type": "display_data"
    }
   ],
   "source": [
    "import ipywidgets as widgets\n",
    "from IPython.display import display\n",
    "x = 5\n",
    "slider = widgets.IntSlider()\n",
    "slider.value = x\n",
    "def on_change(v):\n",
    "    x = v['new'] \n",
    "slider.observe(on_change, names='value')\n",
    "display(slider)"
   ]
  },
  {
   "cell_type": "code",
   "execution_count": null,
   "metadata": {},
   "outputs": [
    {
     "ename": "KeyError",
     "evalue": "'results'",
     "output_type": "error",
     "traceback": [
      "\u001b[0;31m---------------------------------------------------------------------------\u001b[0m",
      "\u001b[0;31mKeyError\u001b[0m                                  Traceback (most recent call last)",
      "\u001b[0;32m<ipython-input-18-d70ccf8f6480>\u001b[0m in \u001b[0;36m<module>\u001b[0;34m\u001b[0m\n\u001b[0;32m----> 1\u001b[0;31m \u001b[0mkeys\u001b[0m \u001b[0;34m=\u001b[0m \u001b[0msearch_results\u001b[0m\u001b[0;34m[\u001b[0m\u001b[0;34m\"results\"\u001b[0m\u001b[0;34m]\u001b[0m\u001b[0;34m\u001b[0m\u001b[0;34m\u001b[0m\u001b[0m\n\u001b[0m\u001b[1;32m      2\u001b[0m \u001b[0mdata_args\u001b[0m \u001b[0;34m=\u001b[0m \u001b[0;34m{\u001b[0m\u001b[0;34m\"return_type\"\u001b[0m\u001b[0;34m:\u001b[0m\u001b[0;34m\"json\"\u001b[0m\u001b[0;34m,\u001b[0m \u001b[0;34m\"keys\"\u001b[0m\u001b[0;34m:\u001b[0m \u001b[0mkeys\u001b[0m\u001b[0;34m}\u001b[0m\u001b[0;34m\u001b[0m\u001b[0;34m\u001b[0m\u001b[0m\n\u001b[1;32m      3\u001b[0m \u001b[0;31m# Retrieve the data from the object store\u001b[0m\u001b[0;34m\u001b[0m\u001b[0;34m\u001b[0m\u001b[0;34m\u001b[0m\u001b[0m\n\u001b[1;32m      4\u001b[0m \u001b[0mdata\u001b[0m \u001b[0;34m=\u001b[0m \u001b[0mhugs\u001b[0m\u001b[0;34m.\u001b[0m\u001b[0mcall_function\u001b[0m\u001b[0;34m(\u001b[0m\u001b[0mfunction\u001b[0m\u001b[0;34m=\u001b[0m\u001b[0;34m\"retrieve\"\u001b[0m\u001b[0;34m,\u001b[0m \u001b[0margs\u001b[0m\u001b[0;34m=\u001b[0m\u001b[0mdata_args\u001b[0m\u001b[0;34m)\u001b[0m\u001b[0;34m\u001b[0m\u001b[0;34m\u001b[0m\u001b[0m\n",
      "\u001b[0;31mKeyError\u001b[0m: 'results'"
     ]
    }
   ],
   "source": [
    "keys = search_results[\"results\"]\n",
    "data_args = {\"return_type\":\"json\", \"keys\": keys}\n",
    "# Retrieve the data from the object store\n",
    "data = hugs.call_function(function=\"retrieve\", args=data_args)"
   ]
  },
  {
   "cell_type": "code",
   "execution_count": null,
   "metadata": {},
   "outputs": [],
   "source": []
  },
  {
   "cell_type": "code",
   "execution_count": null,
   "metadata": {},
   "outputs": [],
   "source": [
    "data"
   ]
  },
  {
   "cell_type": "markdown",
   "metadata": {},
   "source": [
    "Now we can plot some of the data"
   ]
  },
  {
   "cell_type": "code",
   "execution_count": null,
   "metadata": {},
   "outputs": [],
   "source": [
    "import pandas as pd\n",
    "# co2_data = pd.read_json(data[\"results\"][\"bsd_co2\"])\n",
    "co_data = pd.read_json(data[\"results\"][\"bsd_ch4\"])\n"
   ]
  },
  {
   "cell_type": "code",
   "execution_count": null,
   "metadata": {},
   "outputs": [],
   "source": [
    "co_data.head(10)"
   ]
  },
  {
   "cell_type": "code",
   "execution_count": null,
   "metadata": {},
   "outputs": [],
   "source": [
    "%matplotlib notebook\n",
    "import matplotlib.pyplot as plt\n",
    "from pandas.plotting import register_matplotlib_converters\n",
    "register_matplotlib_converters()\n",
    "\n",
    "fig = plt.figure()\n",
    "# ax = fig.add_subplot(211)\n",
    "# ax.plot(co2_data.index.values, co2_data[\"co2 count\"], color = \"#4e79a7\" )\n",
    "ax = fig.add_subplot(111)\n",
    "ax.plot(co_data.index.values, co_data[\"ch4 count\"], color = \"#59a14f\")\n",
    "\n",
    "plt.show()"
   ]
  },
  {
   "cell_type": "code",
   "execution_count": null,
   "metadata": {},
   "outputs": [],
   "source": [
    "# Checkboxes for selecting which data we want to plot\n",
    "# Select the gas, it goes and plots the \n",
    "# Simple line plot"
   ]
  },
  {
   "cell_type": "code",
   "execution_count": null,
   "metadata": {},
   "outputs": [],
   "source": [
    "from ipyleaflet import (\n",
    "    Map,\n",
    "    Marker, MarkerCluster, TileLayer, ImageOverlay, GeoJSON,\n",
    "    Polyline, Polygon, Rectangle, Circle, CircleMarker, Popup,\n",
    "    SplitMapControl, WidgetControl,\n",
    "    basemaps, basemap_to_tiles\n",
    ")\n",
    "\n",
    "from ipywidgets import HTML"
   ]
  },
  {
   "cell_type": "code",
   "execution_count": null,
   "metadata": {},
   "outputs": [],
   "source": [
    "center = [54.2361, -4.548]\n",
    "zoom = 5\n",
    "m = Map(center=center, zoom=zoom)\n",
    "mark_bsd = Marker(location=(54.942544, -1.369204))\n",
    "mark_bsd.popup = HTML(value=\"Bilsdale\")\n",
    "\n",
    "mark_mhd = Marker(location=(53.20,-9.54))\n",
    "mark_mhd.popup = HTML(value=\"Macehead\")\n",
    "\n",
    "mark_tac = Marker(location=(52.511, 1.155003))\n",
    "mark_tac.popup = HTML(value=\"Tacolneston\")\n",
    "\n",
    "m += mark_bsd\n",
    "m += mark_mhd\n",
    "m += mark_tac\n",
    "\n",
    "display(m)"
   ]
  },
  {
   "cell_type": "code",
   "execution_count": null,
   "metadata": {},
   "outputs": [],
   "source": [
    "m"
   ]
  },
  {
   "cell_type": "code",
   "execution_count": null,
   "metadata": {},
   "outputs": [],
   "source": []
  }
 ],
 "metadata": {
  "kernelspec": {
   "display_name": "Python 3",
   "language": "python",
   "name": "python3"
  }
 },
 "nbformat": 4,
 "nbformat_minor": 2
}
