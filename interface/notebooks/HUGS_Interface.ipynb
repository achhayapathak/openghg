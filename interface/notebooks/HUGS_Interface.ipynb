{
 "cells": [
  {
   "cell_type": "code",
   "execution_count": null,
   "metadata": {},
   "outputs": [],
   "source": [
    "import os\n",
    "import sys\n",
    "sys.path.insert(0, \"../..\")\n",
    "sys.path.insert(0, \"../../../acquire\")\n",
    "import ipywidgets as widgets\n",
    "\n",
    "from HUGS.Processing import search\n",
    "\n",
    "from Acquire.Client import User, Drive, Service, PAR, Authorisation, StorageCreds"
   ]
  },
  {
   "cell_type": "code",
   "execution_count": null,
   "metadata": {},
   "outputs": [],
   "source": [
    "# Autoreload modules before executing code, useful during development\n",
    "%load_ext autoreload\n",
    "%autoreload 2"
   ]
  },
  {
   "cell_type": "markdown",
   "metadata": {},
   "source": [
    "## Start with uploading and processing of the data"
   ]
  },
  {
   "cell_type": "code",
   "execution_count": null,
   "metadata": {},
   "outputs": [
    {
     "name": "stdout",
     "output_type": "stream",
     "text": [
      "Login by visiting: https://login.acquire-aaai.com?id=a0-a6/db.15.50.28\n",
      "(please check that this page displays the message 'fluffy cats sit quickly')\n"
     ]
    }
   ],
   "source": [
    "base_url = \"https://hugs.acquire-aaai.com/t\"\n",
    "hugs_url = \"https://hugs.acquire-aaai.com\"\n",
    "user = User(username=\"gareth\", identity_url=\"%s/identity\" % base_url)\n",
    "response = user.request_login()"
   ]
  },
  {
   "cell_type": "markdown",
   "metadata": {},
   "source": [
    "Check we're logged in"
   ]
  },
  {
   "cell_type": "code",
   "execution_count": null,
   "metadata": {},
   "outputs": [
    {
     "data": {
      "text/plain": [
       "True"
      ]
     },
     "execution_count": null,
     "metadata": {},
     "output_type": "execute_result"
    }
   ],
   "source": [
    "user.wait_for_login()"
   ]
  },
  {
   "cell_type": "code",
   "execution_count": null,
   "metadata": {},
   "outputs": [],
   "source": [
    "filename = \"bsd.picarro.1minute.248m.dat\"\n",
    "dir_path = os.path.abspath(\"\")\n",
    "test_data = \"../../test/data/proc_test_data/CRDS\"\n",
    "filepath = os.path.join(dir_path, test_data, filename)\n",
    "\n",
    "hugs = Service(service_url=\"%s/hugs\" % base_url)\n",
    "\n",
    "creds = StorageCreds(user=user, service_url=\"%s/storage\" % base_url)\n",
    "drive = Drive(creds=creds, name=\"test_drive\")\n",
    "filemeta = drive.upload(filepath)\n",
    "par = PAR(location=filemeta.location(), user=user)\n",
    "\n",
    "par_secret = hugs.encrypt_data(par.secret())\n",
    "auth = Authorisation(resource=\"process\", user=user)"
   ]
  },
  {
   "cell_type": "code",
   "execution_count": null,
   "metadata": {},
   "outputs": [],
   "source": [
    "def upload_file(authenticated_user, filepath):\n",
    "    \"\"\" Upload a file to the object store\n",
    "    \n",
    "        Args:\n",
    "            filepath (str): Path to file to upload\n",
    "        Returns:\n",
    "            None    \n",
    "    \"\"\"\n",
    "    creds = StorageCreds(user=authenticated_user, service_url=\"%s/storage\" % base_url)\n",
    "    drive = Drive(creds=creds, name=\"test_drive\")\n",
    "    filemeta = drive.upload(filepath)\n",
    "    par = PAR(location=filemeta.location(), user=user)\n",
    "\n",
    "    par_secret = hugs.encrypt_data(par.secret())\n",
    "    auth = Authorisation(resource=\"process\", user=user)"
   ]
  },
  {
   "cell_type": "code",
   "execution_count": null,
   "metadata": {},
   "outputs": [],
   "source": [
    "def get_CRDS_path(filename):\n",
    "    dir_path = os.path.abspath(\"\")\n",
    "    test_data = \"../../test/data/proc_test_data/CRDS\"\n",
    "    return os.path.join(dir_path, test_data, filename)"
   ]
  },
  {
   "cell_type": "markdown",
   "metadata": {},
   "source": [
    "### Upload files for processing\n"
   ]
  },
  {
   "cell_type": "markdown",
   "metadata": {},
   "source": [
    "Upload Bilsdale data"
   ]
  },
  {
   "cell_type": "code",
   "execution_count": null,
   "metadata": {},
   "outputs": [],
   "source": [
    "bsd_path = get_CRDS_path(\"bsd.picarro.1minute.248m.dat\")\n",
    "upload_file(authenticated_user=user, filepath=bsd_path)\n"
   ]
  },
  {
   "cell_type": "markdown",
   "metadata": {},
   "source": [
    "Clear the Datasources from CRDS and GC objects (currently Datasource UUIDs are just being randomly generated and we get multiple Datasources holding the same data)"
   ]
  },
  {
   "cell_type": "code",
   "execution_count": null,
   "metadata": {},
   "outputs": [],
   "source": [
    "response = hugs.call_function(function=\"clear_datasources\", args={})"
   ]
  },
  {
   "cell_type": "code",
   "execution_count": null,
   "metadata": {},
   "outputs": [],
   "source": [
    "args = {\"authorisation\": auth.to_data(),\n",
    "            \"par\": {\"data\": par.to_data()},\n",
    "            \"par_secret\": {\"data\": par_secret},\n",
    "            \"data_type\": \"CRDS\"}\n",
    "\n",
    "\n",
    "response = hugs.call_function(function=\"process\", args=args)"
   ]
  },
  {
   "cell_type": "code",
   "execution_count": null,
   "metadata": {},
   "outputs": [],
   "source": [
    "print(response)"
   ]
  },
  {
   "cell_type": "code",
   "execution_count": null,
   "metadata": {},
   "outputs": [
    {
     "name": "stdout",
     "output_type": "stream",
     "text": [
      "{'bsd.picarro.1minute.248m.dat': ['c3b8313f-ebde-4bb3-8027-d11bdb932930', '4e8022b6-d458-4e3d-9efd-ee0931151c85', 'b80f2f24-0192-4b8d-a213-0b0543ead5d1']}\n"
     ]
    }
   ],
   "source": [
    "from HUGS.Client import Process\n",
    "\n",
    "filename = \"bsd.picarro.1minute.248m.dat\"\n",
    "filepath = get_CRDS_path(filename)\n",
    "\n",
    "processing = Process(service_url=base_url)\n",
    "result = processing.process_files(user=user, files=filepath, data_type=\"CRDS\")\n",
    "print(result)"
   ]
  },
  {
   "cell_type": "markdown",
   "metadata": {},
   "source": [
    "Upload some Heathfield data"
   ]
  },
  {
   "cell_type": "code",
   "execution_count": null,
   "metadata": {},
   "outputs": [
    {
     "name": "stdout",
     "output_type": "stream",
     "text": [
      "{'hfd.picarro.1minute.100m_min.dat': ['5f54eac9-0e22-4480-a007-f9950abb14e3', 'b4dd7549-8040-4fd3-ab4e-b6d0f78c17e4', '5c5d1300-f1ae-43ef-8eb1-7997ef4e1559']}\n"
     ]
    }
   ],
   "source": [
    "filename = \"hfd.picarro.1minute.100m_min.dat\"\n",
    "filepath = get_CRDS_path(filename)\n",
    "result = processing.process_files(user=user, files=filepath, data_type=\"CRDS\")\n",
    "print(result)"
   ]
  },
  {
   "cell_type": "code",
   "execution_count": null,
   "metadata": {},
   "outputs": [],
   "source": [
    "from HUGS.Processing import search\n",
    "\n",
    "search_results = None\n",
    "\n",
    "search_terms = widgets.Text(\n",
    "                    value=\"\",\n",
    "                    placeholder = \"Search\",\n",
    "                    description = \"Search terms:\",\n",
    "                    disabled = False\n",
    ")\n",
    "\n",
    "locations = widgets.Text(\n",
    "                value=\"\",\n",
    "                placeholder = \"BSD, HFD\",\n",
    "                description = \"Locations:\",\n",
    "                disabled = False\n",
    ")\n",
    "\n",
    "data_type = widgets.Dropdown(\n",
    "                options=[\"CRDS\", \"GC\"], \n",
    "                value=\"CRDS\",\n",
    "                description=\"Data type\",\n",
    "                disabled=False\n",
    "    )\n",
    "\n",
    "\n",
    "\n",
    "layout=widgets.Layout(display = \"flex\", width = \"50%\")\n",
    "search_button = widgets.Button(description=\"Search\", button_style=\"success\", \\\n",
    "                               layout=widgets.Layout(flex='1 1 0%', width='25%'))\n",
    "\n",
    "start_picker = widgets.DatePicker(\n",
    "                    description='Start date',\n",
    "                    disabled=False\n",
    ")\n",
    "\n",
    "end_picker = widgets.DatePicker(\n",
    "                    description='End date',\n",
    "                    disabled=False\n",
    ")\n",
    "\n",
    "\n",
    "box = widgets.VBox(children=[search_terms, locations, start_picker, end_picker, data_type,\n",
    "                                 search_button], layout=layout)\n",
    "\n",
    "\n",
    "\n",
    "def call_search(x):\n",
    "    \"\"\" Call the search function and pass it the values \n",
    "        in the text boxes\n",
    "            \n",
    "    \"\"\"\n",
    "    from datetime import datetime\n",
    "    from Acquire.ObjectStore import datetime_to_string\n",
    "    from HUGS.Client import Search\n",
    "    start = datetime(1970, 1,1) # datetime.combine(start_picker.value, datetime.min.time())\n",
    "    end = datetime.now() # datetime.combine(end_picker.value, datetime.min.time())\n",
    "    \n",
    "    split_search_terms = search_terms.value.replace(\" \", \"\").split(\",\")\n",
    "    split_locations = locations.value.replace(\" \", \"\").split(\",\")\n",
    "    \n",
    "    global search_results\n",
    "    search = Search(service_url=base_url)\n",
    "    search_results = search.search(search_terms=split_search_terms, locations=split_locations, data_type=data_type.value, start_datetime=start, end_datetime=end)\n",
    "\n",
    "search_button.on_click(call_search)\n",
    "\n",
    "\n"
   ]
  },
  {
   "cell_type": "code",
   "execution_count": null,
   "metadata": {},
   "outputs": [
    {
     "data": {
      "application/vnd.jupyter.widget-view+json": {
       "model_id": "8dc15faa18c943488650d93cd80eaa30",
       "version_major": 2,
       "version_minor": 0
      },
      "text/plain": [
       "VBox(children=(Text(value='', description='Search terms:', placeholder='Search'), Text(value='', description='…"
      ]
     },
     "metadata": {},
     "output_type": "display_data"
    },
    {
     "name": "stdout",
     "output_type": "stream",
     "text": [
      "['co2'] ['bsd']\n"
     ]
    }
   ],
   "source": [
    "box"
   ]
  },
  {
   "cell_type": "code",
   "execution_count": null,
   "metadata": {},
   "outputs": [
    {
     "name": "stdout",
     "output_type": "stream",
     "text": [
      "{'bsd_co2': ['data/uuid/7dcb8db4-d0a3-427b-a23e-7ea8d5352489/2014-01-30T10:52:30_2014-01-30T14:20:30', 'data/uuid/03b2d164-2502-420f-823f-e2f1f8e8b61d/2014-01-30T10:52:30_2014-01-30T14:20:30', 'data/uuid/07fcaa49-ca3e-4b24-ada7-5ca1c9010958/2014-01-30T10:52:30_2014-01-30T14:20:30', 'data/uuid/ff21298c-2fc5-4a33-81cf-a00f0cc9e236/2014-01-30T10:52:30_2014-01-30T14:20:30', 'data/uuid/4e8022b6-d458-4e3d-9efd-ee0931151c85/2014-01-30T10:52:30_2014-01-30T14:20:30']}\n"
     ]
    }
   ],
   "source": [
    "print(search_results)"
   ]
  },
  {
   "cell_type": "markdown",
   "metadata": {},
   "source": [
    "Now take the result dictionary, parse the dictionary into a blocks that can be selected by the user"
   ]
  },
  {
   "cell_type": "code",
   "execution_count": null,
   "metadata": {},
   "outputs": [],
   "source": [
    "def parse_results(results):\n",
    "    \"\"\" Split the keys into a list of each key and the date that the data covers\n",
    "        \n",
    "        Args:\n",
    "            results (dict): Dictionary of search results\n",
    "        Returns:\n",
    "            list (tuple): List of date, data key list pairs\n",
    "    \"\"\"\n",
    "    date_keys = {}\n",
    "    for key in results.keys():\n",
    "        keys = sorted(results[key])\n",
    "        start_key = keys[0]\n",
    "        end_key = keys[-1]\n",
    "        # Get the first and last dates from the keys in the search results\n",
    "        start_date = start_key.split(\"/\")[-1].split(\"_\")[0]\n",
    "        end_date = end_key.split(\"/\")[-1].split(\"_\")[-1]\n",
    "        \n",
    "        dates_covered = start_date + \"_\" + end_date\n",
    "        \n",
    "        date_keys[key] = {\"dates\": dates_covered, \"keys\": keys}\n",
    "        \n",
    "    return date_keys"
   ]
  },
  {
   "cell_type": "markdown",
   "metadata": {},
   "source": [
    "Site, gas, dates and checkbox"
   ]
  },
  {
   "cell_type": "code",
   "execution_count": null,
   "metadata": {},
   "outputs": [
    {
     "name": "stdout",
     "output_type": "stream",
     "text": [
      "{'bsd_co2': {'dates': '2014-01-30T10:52:30_2014-01-30T14:20:30', 'keys': ['data/uuid/03b2d164-2502-420f-823f-e2f1f8e8b61d/2014-01-30T10:52:30_2014-01-30T14:20:30', 'data/uuid/07fcaa49-ca3e-4b24-ada7-5ca1c9010958/2014-01-30T10:52:30_2014-01-30T14:20:30', 'data/uuid/4e8022b6-d458-4e3d-9efd-ee0931151c85/2014-01-30T10:52:30_2014-01-30T14:20:30', 'data/uuid/7dcb8db4-d0a3-427b-a23e-7ea8d5352489/2014-01-30T10:52:30_2014-01-30T14:20:30', 'data/uuid/ff21298c-2fc5-4a33-81cf-a00f0cc9e236/2014-01-30T10:52:30_2014-01-30T14:20:30']}}\n"
     ]
    }
   ],
   "source": [
    "date_keys = parse_results(search_results)\n",
    "print(date_keys)"
   ]
  },
  {
   "cell_type": "code",
   "execution_count": null,
   "metadata": {},
   "outputs": [],
   "source": [
    "checkbox_objects = []\n",
    "search_keys = []\n",
    "date_labels = []\n",
    "gas_labels = []\n",
    "site_labels = []\n",
    "\n",
    "for key in date_keys:\n",
    "    checkbox_objects.append(widgets.Checkbox(value=False, description=key))\n",
    "    search_keys.append(key)\n",
    "    \n",
    "    # Get the dates covered\n",
    "    dates = date_keys[key][\"dates\"].replace(\"_\", \" \").replace(\"T\", \" \")\n",
    "    date_label = widgets.Label(value=dates)\n",
    "        \n",
    "    split_key = key.split(\"_\")\n",
    "    site_name = split_key[0].upper()\n",
    "    gas_name = split_key[1].upper()\n",
    "    \n",
    "    gas_label = widgets.Label(value=gas_name)\n",
    "    site_label = widgets.Label(value=site_name)\n",
    "    \n",
    "    checkboxes.append((key, checkbox))\n",
    "    date_labels.append(date_label)\n",
    "    site_labels.append(site_label)\n",
    "    gas_labels.append(gas_label)\n",
    "\n",
    "# Create a dictionary of arguments that will be passed to the select_data function\n",
    "arg_dict = {search_keys[i]: checkbox for i, checkbox in enumerate(checkbox_objects)}\n",
    "\n",
    "checkbox_ui = widgets.VBox(children=checkbox_objects)\n",
    "gas_ui = widgets.VBox(children=gas_labels)\n",
    "site_ui = widgets.VBox(children=site_labels)\n",
    "dates_ui = widgets.VBox(children=date_labels)\n",
    "\n",
    "title_ui = widgets.HBox(children=[widgets.Label(value=\"Site\"), widgets.Label(value=\"Gas\"), widgets.Label(value=\"Date range\"), widgets.Label(value=\"Select\")], layout = widgets.Layout(flex_flow='row wrap'))\n",
    "data_ui = widgets.HBox(children=[site_ui, gas_ui, dates_ui, checkbox_ui], layout = widgets.Layout(flex_flow='row wrap'))\n",
    "\n",
    "ui = widgets.VBox(children=[title_ui, data_ui])\n",
    "\n",
    "def select_data(**kwargs):\n",
    "    selected_data.clear()\n",
    "    \n",
    "    for key in kwargs:\n",
    "        if kwargs[key] is True:\n",
    "            selected_data.append(key)\n",
    "    \n",
    "    print(selected_data)\n",
    "\n",
    "out = widgets.interactive_output(select_data, arg_dict)\n",
    "display(ui, out)\n",
    "    "
   ]
  },
  {
   "cell_type": "code",
   "execution_count": null,
   "metadata": {},
   "outputs": [
    {
     "data": {
      "application/vnd.jupyter.widget-view+json": {
       "model_id": "ee99909820ef48a6adb67bd48e4e43d4",
       "version_major": 2,
       "version_minor": 0
      },
      "text/plain": [
       "VBox(children=(HBox(children=(HTML(value='<b>Site</b>', layout=Layout(height='28px', min_height='28px', min_wi…"
      ]
     },
     "metadata": {},
     "output_type": "display_data"
    },
    {
     "data": {
      "application/vnd.jupyter.widget-view+json": {
       "model_id": "4e8490766b26488fb5bbd79b1e3ec983",
       "version_major": 2,
       "version_minor": 0
      },
      "text/plain": [
       "Output()"
      ]
     },
     "metadata": {},
     "output_type": "display_data"
    }
   ],
   "source": [
    "from ipywidgets import Checkbox, HTML, Label, HBox, VBox\n",
    "\n",
    "table_style = {'description_width': 'initial'}\n",
    "table_layout = {'width':'100px', 'min_width':'100px', 'height':'28px', 'min_height':'28px'}\n",
    "date_layout = {'width':'275px', 'min_width':'200px', 'height':'28px', 'min_height':'28px'}\n",
    "checkbox_layout = {'width':'100px', 'min_width':'100px', 'height':'28px', 'min_height':'28px'}\n",
    "\n",
    "# row_layout = {'width':'200px', 'min_width':'200px'}\n",
    "\n",
    "header_label_site = HTML(value=f\"<b>Site</b>\", layout=table_layout)\n",
    "header_label_gas = HTML(value=f\"<b>Gas</b>\", layout=table_layout)\n",
    "header_label_dates = HTML(value=f\"<b>Dates</b>\", layout=date_layout)\n",
    "header_label_select = HTML(value=f\"<b>Select</b>\", layout=checkbox_layout)\n",
    "\n",
    "checkbox_objects = []\n",
    "search_keys = []\n",
    "\n",
    "site_labels = []\n",
    "date_labels = []\n",
    "gas_labels = []\n",
    "for key in date_keys:\n",
    "    # Create the checkboxes\n",
    "    checkbox = Checkbox(value=False, layout=checkbox_layout)\n",
    "    checkbox_objects.append(checkbox)\n",
    "    search_keys.append(key)\n",
    "    \n",
    "    dates = date_keys[key][\"dates\"].replace(\"_\", \" to \").replace(\"T\", \" \")\n",
    "    date_label = Label(value=dates, layout=date_layout)\n",
    "    \n",
    "    split_key = key.split(\"_\")\n",
    "    site_name = split_key[0].upper()\n",
    "    gas_name = split_key[1].upper()\n",
    "    \n",
    "    gas_label = Label(value=gas_name, layout=table_layout)\n",
    "    site_label = Label(value=site_name, layout=table_layout)\n",
    "\n",
    "    date_labels.append(date_label)\n",
    "    site_labels.append(site_label)\n",
    "    gas_labels.append(gas_label)\n",
    "\n",
    "    \n",
    "arg_dict = {search_keys[i]: checkbox for i, checkbox in enumerate(checkbox_objects)}\n",
    "\n",
    "header_box = HBox(children=[header_label_site, header_label_gas, header_label_dates, header_label_select])\n",
    "\n",
    "site_vbox = VBox(children=site_labels)\n",
    "gas_vbox = VBox(children=gas_labels)\n",
    "dates_vbox = VBox(children=date_labels)\n",
    "checkbox_vbox = VBox(children=checkbox_objects)\n",
    "\n",
    "dynamic_box = HBox(children=[site_vbox, gas_vbox, dates_vbox, checkbox_vbox])\n",
    "\n",
    "complete = VBox(children=[header_box, dynamic_box])\n",
    "\n",
    "selected_data = []\n",
    "def select_data(**kwargs):\n",
    "    selected_data.clear()\n",
    "    \n",
    "    for key in kwargs:\n",
    "        if kwargs[key] is True:\n",
    "            selected_data.append(key)\n",
    "    \n",
    "    print(selected_data)\n",
    "\n",
    "out = widgets.interactive_output(select_data, arg_dict)\n",
    "\n",
    "display(complete, out)"
   ]
  },
  {
   "cell_type": "markdown",
   "metadata": {},
   "source": [
    "Retrieve the data from the object store"
   ]
  },
  {
   "cell_type": "code",
   "execution_count": null,
   "metadata": {},
   "outputs": [
    {
     "data": {
      "text/plain": [
       "['bsd_co2']"
      ]
     },
     "execution_count": null,
     "metadata": {},
     "output_type": "execute_result"
    }
   ],
   "source": [
    "selected_data"
   ]
  },
  {
   "cell_type": "code",
   "execution_count": null,
   "metadata": {},
   "outputs": [
    {
     "ename": "ValueError",
     "evalue": "Error calling 'retrieve' on 'https://hugs.acquire-aaai.com/t/hugs': Dataframe index is not unique",
     "output_type": "error",
     "traceback": [
      "\u001b[0;31m---------------------------------------------------------------------------\u001b[0m",
      "\u001b[0;31mValueError\u001b[0m                                Traceback (most recent call last)",
      "\u001b[0;32m<ipython-input-24-c5399885a18e>\u001b[0m in \u001b[0;36m<module>\u001b[0;34m\u001b[0m\n\u001b[1;32m      4\u001b[0m \u001b[0;34m\u001b[0m\u001b[0m\n\u001b[1;32m      5\u001b[0m \u001b[0mkeys\u001b[0m \u001b[0;34m=\u001b[0m \u001b[0;34m{\u001b[0m\u001b[0mkey\u001b[0m\u001b[0;34m:\u001b[0m \u001b[0mdate_keys\u001b[0m\u001b[0;34m[\u001b[0m\u001b[0mkey\u001b[0m\u001b[0;34m]\u001b[0m\u001b[0;34m[\u001b[0m\u001b[0;34m\"keys\"\u001b[0m\u001b[0;34m]\u001b[0m \u001b[0;32mfor\u001b[0m \u001b[0mkey\u001b[0m \u001b[0;32min\u001b[0m \u001b[0mselected_data\u001b[0m\u001b[0;34m}\u001b[0m\u001b[0;34m\u001b[0m\u001b[0;34m\u001b[0m\u001b[0m\n\u001b[0;32m----> 6\u001b[0;31m \u001b[0mresult\u001b[0m \u001b[0;34m=\u001b[0m \u001b[0mretrieve\u001b[0m\u001b[0;34m.\u001b[0m\u001b[0mretrieve\u001b[0m\u001b[0;34m(\u001b[0m\u001b[0mkeys\u001b[0m\u001b[0;34m=\u001b[0m\u001b[0mkeys\u001b[0m\u001b[0;34m)\u001b[0m\u001b[0;34m\u001b[0m\u001b[0;34m\u001b[0m\u001b[0m\n\u001b[0m",
      "\u001b[0;32m~/Documents/Devel/hugs/HUGS/Client/_retrieve.py\u001b[0m in \u001b[0;36mretrieve\u001b[0;34m(self, keys)\u001b[0m\n\u001b[1;32m     28\u001b[0m         \u001b[0margs\u001b[0m\u001b[0;34m[\u001b[0m\u001b[0;34m\"return_type\"\u001b[0m\u001b[0;34m]\u001b[0m \u001b[0;34m=\u001b[0m \u001b[0;34m\"json\"\u001b[0m\u001b[0;34m\u001b[0m\u001b[0;34m\u001b[0m\u001b[0m\n\u001b[1;32m     29\u001b[0m \u001b[0;34m\u001b[0m\u001b[0m\n\u001b[0;32m---> 30\u001b[0;31m         \u001b[0mresponse\u001b[0m \u001b[0;34m=\u001b[0m \u001b[0mself\u001b[0m\u001b[0;34m.\u001b[0m\u001b[0m_service\u001b[0m\u001b[0;34m.\u001b[0m\u001b[0mcall_function\u001b[0m\u001b[0;34m(\u001b[0m\u001b[0mfunction\u001b[0m\u001b[0;34m=\u001b[0m\u001b[0;34m\"retrieve\"\u001b[0m\u001b[0;34m,\u001b[0m \u001b[0margs\u001b[0m\u001b[0;34m=\u001b[0m\u001b[0margs\u001b[0m\u001b[0;34m)\u001b[0m\u001b[0;34m\u001b[0m\u001b[0;34m\u001b[0m\u001b[0m\n\u001b[0m\u001b[1;32m     31\u001b[0m \u001b[0;34m\u001b[0m\u001b[0m\n\u001b[1;32m     32\u001b[0m         \u001b[0;32mreturn\u001b[0m \u001b[0mresponse\u001b[0m\u001b[0;34m[\u001b[0m\u001b[0;34m\"results\"\u001b[0m\u001b[0;34m]\u001b[0m\u001b[0;34m\u001b[0m\u001b[0;34m\u001b[0m\u001b[0m\n",
      "\u001b[0;32m~/Documents/Devel/acquire/Acquire/Service/_service.py\u001b[0m in \u001b[0;36mcall_function\u001b[0;34m(self, function, args)\u001b[0m\n\u001b[1;32m    854\u001b[0m                                   \u001b[0margs_key\u001b[0m\u001b[0;34m=\u001b[0m\u001b[0mself\u001b[0m\u001b[0;34m.\u001b[0m\u001b[0mpublic_key\u001b[0m\u001b[0;34m(\u001b[0m\u001b[0;34m)\u001b[0m\u001b[0;34m,\u001b[0m\u001b[0;34m\u001b[0m\u001b[0;34m\u001b[0m\u001b[0m\n\u001b[1;32m    855\u001b[0m                                   \u001b[0mpublic_cert\u001b[0m\u001b[0;34m=\u001b[0m\u001b[0mself\u001b[0m\u001b[0;34m.\u001b[0m\u001b[0mpublic_certificate\u001b[0m\u001b[0;34m(\u001b[0m\u001b[0;34m)\u001b[0m\u001b[0;34m,\u001b[0m\u001b[0;34m\u001b[0m\u001b[0;34m\u001b[0m\u001b[0m\n\u001b[0;32m--> 856\u001b[0;31m                                   response_key=_get_private_key(\"function\"))\n\u001b[0m\u001b[1;32m    857\u001b[0m \u001b[0;34m\u001b[0m\u001b[0m\n\u001b[1;32m    858\u001b[0m         \u001b[0;32mexcept\u001b[0m \u001b[0mServiceAccountMissingKeyError\u001b[0m\u001b[0;34m:\u001b[0m\u001b[0;34m\u001b[0m\u001b[0;34m\u001b[0m\u001b[0m\n",
      "\u001b[0;32m~/Documents/Devel/acquire/Acquire/Service/_function.py\u001b[0m in \u001b[0;36mcall_function\u001b[0;34m(service_url, function, args, args_key, response_key, public_cert)\u001b[0m\n\u001b[1;32m    495\u001b[0m     return unpack_return_value(return_value=result, key=response_key,\n\u001b[1;32m    496\u001b[0m                                \u001b[0mpublic_cert\u001b[0m\u001b[0;34m=\u001b[0m\u001b[0mpublic_cert\u001b[0m\u001b[0;34m,\u001b[0m\u001b[0;34m\u001b[0m\u001b[0;34m\u001b[0m\u001b[0m\n\u001b[0;32m--> 497\u001b[0;31m                                function=function, service=service_url)\n\u001b[0m",
      "\u001b[0;32m~/Documents/Devel/acquire/Acquire/Service/_function.py\u001b[0m in \u001b[0;36munpack_return_value\u001b[0;34m(return_value, key, public_cert, function, service)\u001b[0m\n\u001b[1;32m    349\u001b[0m     return unpack_arguments(return_value, key=key, public_cert=public_cert,\n\u001b[1;32m    350\u001b[0m                             \u001b[0mis_return_value\u001b[0m\u001b[0;34m=\u001b[0m\u001b[0;32mTrue\u001b[0m\u001b[0;34m,\u001b[0m \u001b[0mfunction\u001b[0m\u001b[0;34m=\u001b[0m\u001b[0mfunction\u001b[0m\u001b[0;34m,\u001b[0m\u001b[0;34m\u001b[0m\u001b[0;34m\u001b[0m\u001b[0m\n\u001b[0;32m--> 351\u001b[0;31m                             service=service)\n\u001b[0m\u001b[1;32m    352\u001b[0m \u001b[0;34m\u001b[0m\u001b[0m\n\u001b[1;32m    353\u001b[0m \u001b[0;34m\u001b[0m\u001b[0m\n",
      "\u001b[0;32m~/Documents/Devel/acquire/Acquire/Service/_function.py\u001b[0m in \u001b[0;36munpack_arguments\u001b[0;34m(args, key, public_cert, is_return_value, function, service)\u001b[0m\n\u001b[1;32m    320\u001b[0m         return unpack_arguments(decrypted_data,\n\u001b[1;32m    321\u001b[0m                                 \u001b[0mis_return_value\u001b[0m\u001b[0;34m=\u001b[0m\u001b[0mis_return_value\u001b[0m\u001b[0;34m,\u001b[0m\u001b[0;34m\u001b[0m\u001b[0;34m\u001b[0m\u001b[0m\n\u001b[0;32m--> 322\u001b[0;31m                                 function=function, service=service)\n\u001b[0m\u001b[1;32m    323\u001b[0m \u001b[0;34m\u001b[0m\u001b[0m\n\u001b[1;32m    324\u001b[0m     \u001b[0;32mif\u001b[0m \u001b[0mpayload\u001b[0m \u001b[0;32mis\u001b[0m \u001b[0;32mNone\u001b[0m\u001b[0;34m:\u001b[0m\u001b[0;34m\u001b[0m\u001b[0;34m\u001b[0m\u001b[0m\n",
      "\u001b[0;32m~/Documents/Devel/acquire/Acquire/Service/_function.py\u001b[0m in \u001b[0;36munpack_arguments\u001b[0;34m(args, key, public_cert, is_return_value, function, service)\u001b[0m\n\u001b[1;32m    265\u001b[0m             \u001b[0;32mif\u001b[0m \u001b[0mpayload\u001b[0m\u001b[0;34m[\u001b[0m\u001b[0;34m\"status\"\u001b[0m\u001b[0;34m]\u001b[0m \u001b[0;34m!=\u001b[0m \u001b[0;36m0\u001b[0m\u001b[0;34m:\u001b[0m\u001b[0;34m\u001b[0m\u001b[0;34m\u001b[0m\u001b[0m\n\u001b[1;32m    266\u001b[0m                 \u001b[0;32mif\u001b[0m \u001b[0;34m\"exception\"\u001b[0m \u001b[0;32min\u001b[0m \u001b[0mpayload\u001b[0m\u001b[0;34m:\u001b[0m\u001b[0;34m\u001b[0m\u001b[0;34m\u001b[0m\u001b[0m\n\u001b[0;32m--> 267\u001b[0;31m                     \u001b[0m_unpack_and_raise\u001b[0m\u001b[0;34m(\u001b[0m\u001b[0mfunction\u001b[0m\u001b[0;34m,\u001b[0m \u001b[0mservice\u001b[0m\u001b[0;34m,\u001b[0m \u001b[0mpayload\u001b[0m\u001b[0;34m[\u001b[0m\u001b[0;34m\"exception\"\u001b[0m\u001b[0;34m]\u001b[0m\u001b[0;34m)\u001b[0m\u001b[0;34m\u001b[0m\u001b[0;34m\u001b[0m\u001b[0m\n\u001b[0m\u001b[1;32m    268\u001b[0m                 \u001b[0;32melse\u001b[0m\u001b[0;34m:\u001b[0m\u001b[0;34m\u001b[0m\u001b[0;34m\u001b[0m\u001b[0m\n\u001b[1;32m    269\u001b[0m                     \u001b[0;32mfrom\u001b[0m \u001b[0mAcquire\u001b[0m\u001b[0;34m.\u001b[0m\u001b[0mService\u001b[0m \u001b[0;32mimport\u001b[0m \u001b[0mRemoteFunctionCallError\u001b[0m\u001b[0;34m\u001b[0m\u001b[0;34m\u001b[0m\u001b[0m\n",
      "\u001b[0;32m~/Documents/Devel/acquire/Acquire/Service/_function.py\u001b[0m in \u001b[0;36m_unpack_and_raise\u001b[0;34m(function, service, exdata)\u001b[0m\n\u001b[1;32m    401\u001b[0m             (function, service, _exception_to_string(e), exdata))\n\u001b[1;32m    402\u001b[0m \u001b[0;34m\u001b[0m\u001b[0m\n\u001b[0;32m--> 403\u001b[0;31m     \u001b[0;32mraise\u001b[0m \u001b[0mex\u001b[0m\u001b[0;34m\u001b[0m\u001b[0;34m\u001b[0m\u001b[0m\n\u001b[0m\u001b[1;32m    404\u001b[0m \u001b[0;34m\u001b[0m\u001b[0m\n\u001b[1;32m    405\u001b[0m \u001b[0;34m\u001b[0m\u001b[0m\n",
      "\u001b[0;32m/function/python_modules/admin/handler.py\u001b[0m in \u001b[0;36m_base_handler\u001b[0;34m()\u001b[0m\n",
      "\u001b[0;32m/function/python_modules/admin/handler.py\u001b[0m in \u001b[0;36m_handle\u001b[0;34m()\u001b[0m\n",
      "\u001b[0;32m/function/python_modules/admin/handler.py\u001b[0m in \u001b[0;36m_route_function\u001b[0;34m()\u001b[0m\n",
      "\u001b[0;32mroute.py\u001b[0m in \u001b[0;36mhugs_functions\u001b[0;34m()\u001b[0m\n",
      "\u001b[0;32m/function/python_modules/hugs_service/retrieve.py\u001b[0m in \u001b[0;36mretrieve\u001b[0;34m()\u001b[0m\n",
      "\u001b[0;32m/function/python_modules/HUGS/Processing/_recombination.py\u001b[0m in \u001b[0;36mrecombine_sections\u001b[0;34m()\u001b[0m\n",
      "\u001b[0;31mValueError\u001b[0m: Error calling 'retrieve' on 'https://hugs.acquire-aaai.com/t/hugs': Dataframe index is not unique"
     ]
    }
   ],
   "source": [
    "from HUGS.Client import Retrieve\n",
    "\n",
    "retrieve = Retrieve(service_url=base_url)\n",
    "\n",
    "keys = {key: date_keys[key][\"keys\"] for key in selected_data}\n",
    "result = retrieve.retrieve(keys=keys)\n"
   ]
  },
  {
   "cell_type": "code",
   "execution_count": null,
   "metadata": {},
   "outputs": [],
   "source": []
  },
  {
   "cell_type": "markdown",
   "metadata": {},
   "source": [
    "Plot the data we've selected"
   ]
  },
  {
   "cell_type": "code",
   "execution_count": null,
   "metadata": {},
   "outputs": [],
   "source": []
  },
  {
   "cell_type": "markdown",
   "metadata": {},
   "source": [
    "Now we can plot some of the data"
   ]
  },
  {
   "cell_type": "code",
   "execution_count": null,
   "metadata": {},
   "outputs": [],
   "source": [
    "import pandas as pd\n",
    "# co2_data = pd.read_json(data[\"results\"][\"bsd_co2\"])\n",
    "co_data = pd.read_json(data[\"results\"][\"bsd_ch4\"])\n"
   ]
  },
  {
   "cell_type": "code",
   "execution_count": null,
   "metadata": {},
   "outputs": [],
   "source": [
    "co_data.head(10)"
   ]
  },
  {
   "cell_type": "code",
   "execution_count": null,
   "metadata": {},
   "outputs": [],
   "source": [
    "%matplotlib notebook\n",
    "import matplotlib.pyplot as plt\n",
    "from pandas.plotting import register_matplotlib_converters\n",
    "register_matplotlib_converters()\n",
    "\n",
    "fig = plt.figure()\n",
    "# ax = fig.add_subplot(211)\n",
    "# ax.plot(co2_data.index.values, co2_data[\"co2 count\"], color = \"#4e79a7\" )\n",
    "ax = fig.add_subplot(111)\n",
    "ax.plot(co_data.index.values, co_data[\"ch4 count\"], color = \"#59a14f\")\n",
    "\n",
    "plt.show()"
   ]
  },
  {
   "cell_type": "code",
   "execution_count": null,
   "metadata": {},
   "outputs": [],
   "source": [
    "# Checkboxes for selecting which data we want to plot\n",
    "# Select the gas, it goes and plots the \n",
    "# Simple line plot"
   ]
  },
  {
   "cell_type": "code",
   "execution_count": null,
   "metadata": {},
   "outputs": [],
   "source": [
    "from ipyleaflet import (\n",
    "    Map,\n",
    "    Marker, MarkerCluster, TileLayer, ImageOverlay, GeoJSON,\n",
    "    Polyline, Polygon, Rectangle, Circle, CircleMarker, Popup,\n",
    "    SplitMapControl, WidgetControl,\n",
    "    basemaps, basemap_to_tiles\n",
    ")\n",
    "\n",
    "from ipywidgets import HTML"
   ]
  },
  {
   "cell_type": "code",
   "execution_count": null,
   "metadata": {},
   "outputs": [],
   "source": [
    "center = [54.2361, -4.548]\n",
    "zoom = 5\n",
    "m = Map(center=center, zoom=zoom)\n",
    "mark_bsd = Marker(location=(54.942544, -1.369204))\n",
    "mark_bsd.popup = HTML(value=\"Bilsdale\")\n",
    "\n",
    "mark_mhd = Marker(location=(53.20,-9.54))\n",
    "mark_mhd.popup = HTML(value=\"Macehead\")\n",
    "\n",
    "mark_tac = Marker(location=(52.511, 1.155003))\n",
    "mark_tac.popup = HTML(value=\"Tacolneston\")\n",
    "\n",
    "m += mark_bsd\n",
    "m += mark_mhd\n",
    "m += mark_tac\n",
    "\n",
    "display(m)"
   ]
  },
  {
   "cell_type": "code",
   "execution_count": null,
   "metadata": {},
   "outputs": [],
   "source": [
    "m"
   ]
  },
  {
   "cell_type": "code",
   "execution_count": null,
   "metadata": {},
   "outputs": [],
   "source": []
  }
 ],
 "metadata": {
  "kernelspec": {
   "display_name": "Python 3",
   "language": "python",
   "name": "python3"
  }
 },
 "nbformat": 4,
 "nbformat_minor": 2
}
