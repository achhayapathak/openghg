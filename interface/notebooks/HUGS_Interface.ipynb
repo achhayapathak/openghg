{
 "cells": [
  {
   "cell_type": "code",
   "execution_count": null,
   "metadata": {},
   "outputs": [],
   "source": [
    "import os\n",
    "import sys\n",
    "sys.path.insert(0, \"../..\")\n",
    "sys.path.insert(0, \"../../../acquire\")\n",
    "import ipywidgets as widgets\n",
    "\n",
    "from HUGS.Processing import search\n",
    "\n",
    "from Acquire.Client import User, Drive, Service, PAR, Authorisation, StorageCreds"
   ]
  },
  {
   "cell_type": "code",
   "execution_count": null,
   "metadata": {},
   "outputs": [
    {
     "name": "stdout",
     "output_type": "stream",
     "text": [
      "The autoreload extension is already loaded. To reload it, use:\n",
      "  %reload_ext autoreload\n"
     ]
    }
   ],
   "source": [
    "# Autoreload modules before executing code, useful during development\n",
    "%load_ext autoreload\n",
    "%autoreload 2"
   ]
  },
  {
   "cell_type": "markdown",
   "metadata": {},
   "source": [
    "## Start with uploading and processing of the data"
   ]
  },
  {
   "cell_type": "code",
   "execution_count": null,
   "metadata": {},
   "outputs": [
    {
     "name": "stdout",
     "output_type": "stream",
     "text": [
      "Login by visiting: https://login.acquire-aaai.com?id=a0-a6/e7.dc.49.f4\n",
      "(please check that this page displays the message 'big dogs climb quickly')\n"
     ]
    }
   ],
   "source": [
    "base_url = \"https://hugs.acquire-aaai.com/t\"\n",
    "hugs_url = \"https://hugs.acquire-aaai.com\"\n",
    "user = User(username=\"gareth\", identity_url=\"%s/identity\" % base_url)\n",
    "response = user.request_login()"
   ]
  },
  {
   "cell_type": "markdown",
   "metadata": {},
   "source": [
    "Check we're logged in"
   ]
  },
  {
   "cell_type": "code",
   "execution_count": null,
   "metadata": {},
   "outputs": [
    {
     "data": {
      "text/plain": [
       "True"
      ]
     },
     "execution_count": null,
     "metadata": {},
     "output_type": "execute_result"
    }
   ],
   "source": [
    "user.wait_for_login()"
   ]
  },
  {
   "cell_type": "code",
   "execution_count": null,
   "metadata": {},
   "outputs": [],
   "source": [
    "filename = \"bsd.picarro.1minute.248m.dat\"\n",
    "dir_path = os.path.abspath(\"\")\n",
    "test_data = \"../../test/data/proc_test_data/CRDS\"\n",
    "filepath = os.path.join(dir_path, test_data, filename)\n",
    "\n",
    "hugs = Service(service_url=\"%s/hugs\" % base_url)\n",
    "\n",
    "creds = StorageCreds(user=user, service_url=\"%s/storage\" % base_url)\n",
    "drive = Drive(creds=creds, name=\"test_drive\")\n",
    "filemeta = drive.upload(filepath)\n",
    "par = PAR(location=filemeta.location(), user=user)\n",
    "\n",
    "par_secret = hugs.encrypt_data(par.secret())\n",
    "auth = Authorisation(resource=\"process\", user=user)"
   ]
  },
  {
   "cell_type": "code",
   "execution_count": null,
   "metadata": {},
   "outputs": [],
   "source": [
    "def upload_file(authenticated_user, filepath):\n",
    "    \"\"\" Upload a file to the object store\n",
    "    \n",
    "        Args:\n",
    "            filepath (str): Path to file to upload\n",
    "        Returns:\n",
    "            None    \n",
    "    \"\"\"\n",
    "    creds = StorageCreds(user=authenticated_user, service_url=\"%s/storage\" % base_url)\n",
    "    drive = Drive(creds=creds, name=\"test_drive\")\n",
    "    filemeta = drive.upload(filepath)\n",
    "    par = PAR(location=filemeta.location(), user=user)\n",
    "\n",
    "    par_secret = hugs.encrypt_data(par.secret())\n",
    "    auth = Authorisation(resource=\"process\", user=user)"
   ]
  },
  {
   "cell_type": "code",
   "execution_count": null,
   "metadata": {},
   "outputs": [],
   "source": [
    "def get_CRDS_path(filename):\n",
    "    dir_path = os.path.abspath(\"\")\n",
    "    test_data = \"../../test/data/proc_test_data/CRDS\"\n",
    "    return os.path.join(dir_path, test_data, filename)"
   ]
  },
  {
   "cell_type": "markdown",
   "metadata": {},
   "source": [
    "### Upload files for processing\n"
   ]
  },
  {
   "cell_type": "markdown",
   "metadata": {},
   "source": [
    "Upload Bilsdale data"
   ]
  },
  {
   "cell_type": "code",
   "execution_count": null,
   "metadata": {},
   "outputs": [],
   "source": [
    "bsd_path = get_CRDS_path(\"bsd.picarro.1minute.248m.dat\")\n",
    "upload_file(authenticated_user=user, filepath=bsd_path)\n"
   ]
  },
  {
   "cell_type": "markdown",
   "metadata": {},
   "source": [
    "Clear the Datasources from CRDS and GC objects (currently Datasource UUIDs are just being randomly generated and we get multiple Datasources holding the same data)"
   ]
  },
  {
   "cell_type": "code",
   "execution_count": null,
   "metadata": {},
   "outputs": [],
   "source": [
    "response = hugs.call_function(function=\"clear_datasources\", args={})"
   ]
  },
  {
   "cell_type": "code",
   "execution_count": null,
   "metadata": {},
   "outputs": [],
   "source": [
    "args = {\"authorisation\": auth.to_data(),\n",
    "            \"par\": {\"data\": par.to_data()},\n",
    "            \"par_secret\": {\"data\": par_secret},\n",
    "            \"data_type\": \"CRDS\"}\n",
    "\n",
    "\n",
    "response = hugs.call_function(function=\"process\", args=args)"
   ]
  },
  {
   "cell_type": "code",
   "execution_count": null,
   "metadata": {},
   "outputs": [
    {
     "name": "stdout",
     "output_type": "stream",
     "text": [
      "{'results': ['4a697871-fcf9-4d27-8d55-cce5ecb761c8', '7dcb8db4-d0a3-427b-a23e-7ea8d5352489', '852ea5e7-77b0-4cc0-a68d-4f306827f678']}\n"
     ]
    }
   ],
   "source": [
    "print(response)"
   ]
  },
  {
   "cell_type": "code",
   "execution_count": null,
   "metadata": {},
   "outputs": [
    {
     "name": "stdout",
     "output_type": "stream",
     "text": [
      "{'bsd.picarro.1minute.248m.dat': ['bab44b6b-a91c-46e5-8e43-8f1e0e7bfe11', '07fcaa49-ca3e-4b24-ada7-5ca1c9010958', 'a8aa333c-96da-4e2e-9a30-623a70d5c172']}\n"
     ]
    }
   ],
   "source": [
    "from HUGS.Client import Process\n",
    "\n",
    "filename = \"bsd.picarro.1minute.248m.dat\"\n",
    "filepath = get_CRDS_path(filename)\n",
    "\n",
    "processing = Process(service_url=base_url)\n",
    "result = processing.process_files(user=user, files=filepath, data_type=\"CRDS\")\n",
    "print(result)"
   ]
  },
  {
   "cell_type": "markdown",
   "metadata": {},
   "source": [
    "Upload some Heathfield data"
   ]
  },
  {
   "cell_type": "code",
   "execution_count": null,
   "metadata": {},
   "outputs": [
    {
     "name": "stdout",
     "output_type": "stream",
     "text": [
      "{'hfd.picarro.1minute.100m_min.dat': ['48b9d372-bc17-4dce-a9b3-3bef0844bfda', '7eb41a44-0eb0-4980-ba51-11e7c0d8c84b', '20e9d0e7-7ebf-4fdc-a2b9-e7d0f57ea659']}\n"
     ]
    }
   ],
   "source": [
    "filename = \"hfd.picarro.1minute.100m_min.dat\"\n",
    "filepath = get_CRDS_path(filename)\n",
    "result = processing.process_files(user=user, files=filepath, data_type=\"CRDS\")\n",
    "print(result)"
   ]
  },
  {
   "cell_type": "code",
   "execution_count": null,
   "metadata": {},
   "outputs": [],
   "source": [
    "from HUGS.Processing import search\n",
    "\n",
    "search_results = None\n",
    "\n",
    "search_terms = widgets.Text(\n",
    "                    value=\"\",\n",
    "                    placeholder = \"Search\",\n",
    "                    description = \"Search terms:\",\n",
    "                    disabled = False\n",
    ")\n",
    "\n",
    "locations = widgets.Text(\n",
    "                value=\"\",\n",
    "                placeholder = \"BSD, HFD\",\n",
    "                description = \"Locations:\",\n",
    "                disabled = False\n",
    ")\n",
    "\n",
    "data_type = widgets.Dropdown(\n",
    "                options=[\"CRDS\", \"GC\"], \n",
    "                value=\"CRDS\",\n",
    "                description=\"Data type\",\n",
    "                disabled=False\n",
    "    )\n",
    "\n",
    "\n",
    "\n",
    "layout=widgets.Layout(display = \"flex\", width = \"50%\")\n",
    "search_button = widgets.Button(description=\"Search\", button_style=\"success\", \\\n",
    "                               layout=widgets.Layout(flex='1 1 0%', width='25%'))\n",
    "\n",
    "start_picker = widgets.DatePicker(\n",
    "                    description='Start date',\n",
    "                    disabled=False\n",
    ")\n",
    "\n",
    "end_picker = widgets.DatePicker(\n",
    "                    description='End date',\n",
    "                    disabled=False\n",
    ")\n",
    "\n",
    "\n",
    "box = widgets.VBox(children=[search_terms, locations, start_picker, end_picker, data_type,\n",
    "                                 search_button], layout=layout)\n",
    "\n",
    "\n",
    "\n",
    "def call_search(x):\n",
    "    \"\"\" Call the search function and pass it the values \n",
    "        in the text boxes\n",
    "            \n",
    "    \"\"\"\n",
    "    from datetime import datetime\n",
    "    from Acquire.ObjectStore import datetime_to_string\n",
    "    from HUGS.Client import Search\n",
    "    start = datetime(1970,1,1) #datetime.combine(start_picker.value, datetime.min.time())\n",
    "    end = datetime.now() #datetime.combine(end_picker.value, datetime.min.time())\n",
    "    \n",
    "    split_search_terms = search_terms.value.replace(\" \", \"\").split(\",\")\n",
    "    split_locations = locations.value.replace(\" \", \"\").split(\",\")\n",
    "    \n",
    "    global search_results\n",
    "    search = Search(service_url=base_url)\n",
    "    print(search_terms, locations)\n",
    "    search_results = search.search(search_terms=split_search_terms, locations=split_locations, data_type=data_type.value, start_datetime=start, end_datetime=end)\n",
    "\n",
    "    \n",
    "    print(search_results)\n",
    "    \n",
    "search_button.on_click(call_search)\n",
    "\n",
    "\n"
   ]
  },
  {
   "cell_type": "code",
   "execution_count": null,
   "metadata": {},
   "outputs": [
    {
     "data": {
      "application/vnd.jupyter.widget-view+json": {
       "model_id": "c63e0328c1b24fdc90318b3e525515bf",
       "version_major": 2,
       "version_minor": 0
      },
      "text/plain": [
       "VBox(children=(Text(value='', description='Search terms:', placeholder='Search'), Text(value='', description='…"
      ]
     },
     "metadata": {},
     "output_type": "display_data"
    },
    {
     "name": "stdout",
     "output_type": "stream",
     "text": [
      "Text(value='co', description='Search terms:', placeholder='Search') Text(value='bsd', description='Locations:', placeholder='BSD, HFD')\n",
      "['co'] ['bsd']\n",
      "{'bsd_co': ['data/uuid/852ea5e7-77b0-4cc0-a68d-4f306827f678/2014-01-30T10:52:30_2014-01-30T14:20:30', 'data/uuid/22a5eaf0-14ef-4b58-8007-fb7da6b19044/2014-01-30T10:52:30_2014-01-30T14:20:30', 'data/uuid/a8aa333c-96da-4e2e-9a30-623a70d5c172/2014-01-30T10:52:30_2014-01-30T14:20:30']}\n",
      "Text(value='co', description='Search terms:', placeholder='Search') Text(value='bsd, hfd', description='Locations:', placeholder='BSD, HFD')\n",
      "['co'] ['bsd', 'hfd']\n",
      "{'bsd_co': ['data/uuid/852ea5e7-77b0-4cc0-a68d-4f306827f678/2014-01-30T10:52:30_2014-01-30T14:20:30', 'data/uuid/22a5eaf0-14ef-4b58-8007-fb7da6b19044/2014-01-30T10:52:30_2014-01-30T14:20:30', 'data/uuid/a8aa333c-96da-4e2e-9a30-623a70d5c172/2014-01-30T10:52:30_2014-01-30T14:20:30'], 'hfd_co': ['data/uuid/20e9d0e7-7ebf-4fdc-a2b9-e7d0f57ea659/2013-12-04T14:02:30_2013-12-25T22:56:30', 'data/uuid/20e9d0e7-7ebf-4fdc-a2b9-e7d0f57ea659/2014-01-01T18:25:30_2014-12-28T08:02:30', 'data/uuid/20e9d0e7-7ebf-4fdc-a2b9-e7d0f57ea659/2015-01-04T17:22:30_2015-12-30T14:55:30', 'data/uuid/20e9d0e7-7ebf-4fdc-a2b9-e7d0f57ea659/2016-01-06T18:01:30_2016-12-29T02:17:30', 'data/uuid/20e9d0e7-7ebf-4fdc-a2b9-e7d0f57ea659/2017-01-01T19:56:30_2017-12-26T07:35:30', 'data/uuid/20e9d0e7-7ebf-4fdc-a2b9-e7d0f57ea659/2018-01-02T13:10:30_2018-12-30T10:12:30', 'data/uuid/20e9d0e7-7ebf-4fdc-a2b9-e7d0f57ea659/2019-01-06T11:02:30_2019-05-21T15:46:30']}\n",
      "Text(value='co, co2', description='Search terms:', placeholder='Search') Text(value='bsd, hfd', description='Locations:', placeholder='BSD, HFD')\n",
      "['co', 'co2'] ['bsd', 'hfd']\n",
      "{'bsd_co': ['data/uuid/852ea5e7-77b0-4cc0-a68d-4f306827f678/2014-01-30T10:52:30_2014-01-30T14:20:30', 'data/uuid/22a5eaf0-14ef-4b58-8007-fb7da6b19044/2014-01-30T10:52:30_2014-01-30T14:20:30', 'data/uuid/a8aa333c-96da-4e2e-9a30-623a70d5c172/2014-01-30T10:52:30_2014-01-30T14:20:30'], 'hfd_co': ['data/uuid/20e9d0e7-7ebf-4fdc-a2b9-e7d0f57ea659/2013-12-04T14:02:30_2013-12-25T22:56:30', 'data/uuid/20e9d0e7-7ebf-4fdc-a2b9-e7d0f57ea659/2014-01-01T18:25:30_2014-12-28T08:02:30', 'data/uuid/20e9d0e7-7ebf-4fdc-a2b9-e7d0f57ea659/2015-01-04T17:22:30_2015-12-30T14:55:30', 'data/uuid/20e9d0e7-7ebf-4fdc-a2b9-e7d0f57ea659/2016-01-06T18:01:30_2016-12-29T02:17:30', 'data/uuid/20e9d0e7-7ebf-4fdc-a2b9-e7d0f57ea659/2017-01-01T19:56:30_2017-12-26T07:35:30', 'data/uuid/20e9d0e7-7ebf-4fdc-a2b9-e7d0f57ea659/2018-01-02T13:10:30_2018-12-30T10:12:30', 'data/uuid/20e9d0e7-7ebf-4fdc-a2b9-e7d0f57ea659/2019-01-06T11:02:30_2019-05-21T15:46:30'], 'bsd_co2': ['data/uuid/7dcb8db4-d0a3-427b-a23e-7ea8d5352489/2014-01-30T10:52:30_2014-01-30T14:20:30', 'data/uuid/03b2d164-2502-420f-823f-e2f1f8e8b61d/2014-01-30T10:52:30_2014-01-30T14:20:30', 'data/uuid/07fcaa49-ca3e-4b24-ada7-5ca1c9010958/2014-01-30T10:52:30_2014-01-30T14:20:30'], 'hfd_co2': ['data/uuid/7eb41a44-0eb0-4980-ba51-11e7c0d8c84b/2013-12-04T14:02:30_2013-12-25T22:56:30', 'data/uuid/7eb41a44-0eb0-4980-ba51-11e7c0d8c84b/2014-01-01T18:25:30_2014-12-28T08:02:30', 'data/uuid/7eb41a44-0eb0-4980-ba51-11e7c0d8c84b/2015-01-04T17:22:30_2015-12-30T14:55:30', 'data/uuid/7eb41a44-0eb0-4980-ba51-11e7c0d8c84b/2016-01-06T18:01:30_2016-12-29T02:17:30', 'data/uuid/7eb41a44-0eb0-4980-ba51-11e7c0d8c84b/2017-01-01T19:56:30_2017-12-26T07:35:30', 'data/uuid/7eb41a44-0eb0-4980-ba51-11e7c0d8c84b/2018-01-02T13:10:30_2018-12-30T10:12:30', 'data/uuid/7eb41a44-0eb0-4980-ba51-11e7c0d8c84b/2019-01-06T11:02:30_2019-05-21T15:46:30']}\n"
     ]
    }
   ],
   "source": [
    "box"
   ]
  },
  {
   "cell_type": "code",
   "execution_count": null,
   "metadata": {},
   "outputs": [],
   "source": [
    "def parse_results(results):\n",
    "    dates = {}\n",
    "    # Read the start and end date of the data found from key keys\n",
    "    for search_key in results:\n",
    "        sorted_keys = sorted(results[search_key])\n",
    "        end_of_key = sorted_keys[0].split(\"/\")[-1]\n",
    "        \n",
    "        start = end_of_key.split(\"_\")[0]\n",
    "        end = end_of_key.split(\"_\")[-1]\n",
    "        \n",
    "        start = start.replace(\"T\", \" \")\n",
    "        end = end.replace(\"T\", \" \")\n",
    "        \n",
    "        dates[search_key] = (start, end)\n",
    "        \n",
    "    return dates"
   ]
  },
  {
   "cell_type": "code",
   "execution_count": null,
   "metadata": {},
   "outputs": [],
   "source": [
    "parse_results(search_results[\"results\"])"
   ]
  },
  {
   "cell_type": "code",
   "execution_count": null,
   "metadata": {},
   "outputs": [],
   "source": [
    "keys = search_results[\"results\"]\n",
    "data_args = {\"return_type\":\"json\", \"keys\": keys}\n",
    "# Retrieve the data from the object store\n",
    "data = hugs.call_function(function=\"retrieve\", args=data_args)"
   ]
  },
  {
   "cell_type": "code",
   "execution_count": null,
   "metadata": {},
   "outputs": [],
   "source": [
    "data"
   ]
  },
  {
   "cell_type": "markdown",
   "metadata": {},
   "source": [
    "Now we can plot some of the data"
   ]
  },
  {
   "cell_type": "code",
   "execution_count": null,
   "metadata": {},
   "outputs": [],
   "source": [
    "import pandas as pd\n",
    "# co2_data = pd.read_json(data[\"results\"][\"bsd_co2\"])\n",
    "co_data = pd.read_json(data[\"results\"][\"bsd_ch4\"])\n"
   ]
  },
  {
   "cell_type": "code",
   "execution_count": null,
   "metadata": {},
   "outputs": [],
   "source": [
    "co_data.head(10)"
   ]
  },
  {
   "cell_type": "code",
   "execution_count": null,
   "metadata": {},
   "outputs": [],
   "source": [
    "%matplotlib notebook\n",
    "import matplotlib.pyplot as plt\n",
    "from pandas.plotting import register_matplotlib_converters\n",
    "register_matplotlib_converters()\n",
    "\n",
    "fig = plt.figure()\n",
    "# ax = fig.add_subplot(211)\n",
    "# ax.plot(co2_data.index.values, co2_data[\"co2 count\"], color = \"#4e79a7\" )\n",
    "ax = fig.add_subplot(111)\n",
    "ax.plot(co_data.index.values, co_data[\"ch4 count\"], color = \"#59a14f\")\n",
    "\n",
    "plt.show()"
   ]
  },
  {
   "cell_type": "code",
   "execution_count": null,
   "metadata": {},
   "outputs": [],
   "source": [
    "# Checkboxes for selecting which data we want to plot\n",
    "# Select the gas, it goes and plots the \n",
    "# Simple line plot"
   ]
  },
  {
   "cell_type": "code",
   "execution_count": null,
   "metadata": {},
   "outputs": [],
   "source": [
    "from ipyleaflet import (\n",
    "    Map,\n",
    "    Marker, MarkerCluster, TileLayer, ImageOverlay, GeoJSON,\n",
    "    Polyline, Polygon, Rectangle, Circle, CircleMarker, Popup,\n",
    "    SplitMapControl, WidgetControl,\n",
    "    basemaps, basemap_to_tiles\n",
    ")\n",
    "\n",
    "from ipywidgets import HTML"
   ]
  },
  {
   "cell_type": "code",
   "execution_count": null,
   "metadata": {},
   "outputs": [],
   "source": [
    "center = [54.2361, -4.548]\n",
    "zoom = 5\n",
    "m = Map(center=center, zoom=zoom)\n",
    "mark_bsd = Marker(location=(54.942544, -1.369204))\n",
    "mark_bsd.popup = HTML(value=\"Bilsdale\")\n",
    "\n",
    "mark_mhd = Marker(location=(53.20,-9.54))\n",
    "mark_mhd.popup = HTML(value=\"Macehead\")\n",
    "\n",
    "mark_tac = Marker(location=(52.511, 1.155003))\n",
    "mark_tac.popup = HTML(value=\"Tacolneston\")\n",
    "\n",
    "m += mark_bsd\n",
    "m += mark_mhd\n",
    "m += mark_tac\n",
    "\n",
    "display(m)"
   ]
  },
  {
   "cell_type": "code",
   "execution_count": null,
   "metadata": {},
   "outputs": [],
   "source": [
    "m"
   ]
  },
  {
   "cell_type": "code",
   "execution_count": null,
   "metadata": {},
   "outputs": [],
   "source": []
  }
 ],
 "metadata": {
  "kernelspec": {
   "display_name": "Python 3",
   "language": "python",
   "name": "python3"
  }
 },
 "nbformat": 4,
 "nbformat_minor": 2
}
